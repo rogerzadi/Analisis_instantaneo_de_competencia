{
 "cells": [
  {
   "cell_type": "code",
   "execution_count": 1,
   "metadata": {},
   "outputs": [],
   "source": [
    "import json\n",
    "import requests\n",
    "import pandas as pd\n",
    "import folium \n"
   ]
  },
  {
   "cell_type": "code",
   "execution_count": 2,
   "metadata": {},
   "outputs": [],
   "source": [
    "giro=\"diseño\"\n",
    "long=19.421336 \n",
    "lat=-99.162700\n",
    "mts=1000"
   ]
  },
  {
   "cell_type": "code",
   "execution_count": 3,
   "metadata": {},
   "outputs": [
    {
     "name": "stdout",
     "output_type": "stream",
     "text": [
      "125\n"
     ]
    },
    {
     "data": {
      "text/html": [
       "<div>\n",
       "<style scoped>\n",
       "    .dataframe tbody tr th:only-of-type {\n",
       "        vertical-align: middle;\n",
       "    }\n",
       "\n",
       "    .dataframe tbody tr th {\n",
       "        vertical-align: top;\n",
       "    }\n",
       "\n",
       "    .dataframe thead th {\n",
       "        text-align: right;\n",
       "    }\n",
       "</style>\n",
       "<table border=\"1\" class=\"dataframe\">\n",
       "  <thead>\n",
       "    <tr style=\"text-align: right;\">\n",
       "      <th></th>\n",
       "      <th>CP</th>\n",
       "      <th>Calle</th>\n",
       "      <th>CentroComercial</th>\n",
       "      <th>Clase_actividad</th>\n",
       "      <th>Colonia</th>\n",
       "      <th>Correo_e</th>\n",
       "      <th>Estrato</th>\n",
       "      <th>Id</th>\n",
       "      <th>Latitud</th>\n",
       "      <th>Longitud</th>\n",
       "      <th>...</th>\n",
       "      <th>NumLocal</th>\n",
       "      <th>Num_Exterior</th>\n",
       "      <th>Num_Interior</th>\n",
       "      <th>Razon_social</th>\n",
       "      <th>Sitio_internet</th>\n",
       "      <th>Telefono</th>\n",
       "      <th>Tipo</th>\n",
       "      <th>TipoCentroComercial</th>\n",
       "      <th>Tipo_vialidad</th>\n",
       "      <th>Ubicacion</th>\n",
       "    </tr>\n",
       "  </thead>\n",
       "  <tbody>\n",
       "    <tr>\n",
       "      <th>0</th>\n",
       "      <td>06700</td>\n",
       "      <td>TONALA</td>\n",
       "      <td></td>\n",
       "      <td>Servicios de diseño de sistemas de cómputo y s...</td>\n",
       "      <td>ROMA NORTE</td>\n",
       "      <td>MVAZQEZ@REALNET.COM.MX</td>\n",
       "      <td>11 a 30 personas</td>\n",
       "      <td>1028239</td>\n",
       "      <td>19.42140394</td>\n",
       "      <td>-99.16340624</td>\n",
       "      <td>...</td>\n",
       "      <td></td>\n",
       "      <td>6</td>\n",
       "      <td>202</td>\n",
       "      <td>REALNET SA DE CV</td>\n",
       "      <td>WWW.REALNETSA.COM.MX</td>\n",
       "      <td></td>\n",
       "      <td>Fijo</td>\n",
       "      <td></td>\n",
       "      <td>CALLE</td>\n",
       "      <td>CUAUHTÉMOC, Cuauhtémoc, CIUDAD DE MÉXICO</td>\n",
       "    </tr>\n",
       "    <tr>\n",
       "      <th>1</th>\n",
       "      <td>06700</td>\n",
       "      <td>DURANGO</td>\n",
       "      <td></td>\n",
       "      <td>Comercio al por menor de muebles para el hogar</td>\n",
       "      <td>ROMA NORTE</td>\n",
       "      <td></td>\n",
       "      <td>6 a 10 personas</td>\n",
       "      <td>8326496</td>\n",
       "      <td>19.42042099</td>\n",
       "      <td>-99.16376558</td>\n",
       "      <td>...</td>\n",
       "      <td></td>\n",
       "      <td>153</td>\n",
       "      <td></td>\n",
       "      <td>DISEÑO SILLIOTI SA DE CV</td>\n",
       "      <td>ILMIOMUEBLE.COM</td>\n",
       "      <td></td>\n",
       "      <td>Fijo</td>\n",
       "      <td></td>\n",
       "      <td>CALLE</td>\n",
       "      <td>CUAUHTÉMOC, Cuauhtémoc, CIUDAD DE MÉXICO</td>\n",
       "    </tr>\n",
       "    <tr>\n",
       "      <th>2</th>\n",
       "      <td>06700</td>\n",
       "      <td>JALAPA</td>\n",
       "      <td></td>\n",
       "      <td>Servicios de diseño de sistemas de cómputo y s...</td>\n",
       "      <td>ROMA NORTE</td>\n",
       "      <td>INFO@BEEPQUEST.COM</td>\n",
       "      <td>6 a 10 personas</td>\n",
       "      <td>6810967</td>\n",
       "      <td>19.42265117</td>\n",
       "      <td>-99.16231136</td>\n",
       "      <td>...</td>\n",
       "      <td></td>\n",
       "      <td>17</td>\n",
       "      <td>503</td>\n",
       "      <td>APPQUEST SAPI DE CV</td>\n",
       "      <td>WWW.BEEPQUEST.COM</td>\n",
       "      <td>553382070</td>\n",
       "      <td>Fijo</td>\n",
       "      <td></td>\n",
       "      <td>CALLE</td>\n",
       "      <td>CUAUHTÉMOC, Cuauhtémoc, CIUDAD DE MÉXICO</td>\n",
       "    </tr>\n",
       "    <tr>\n",
       "      <th>3</th>\n",
       "      <td>06700</td>\n",
       "      <td>INSURGENTES SUR</td>\n",
       "      <td></td>\n",
       "      <td>Comercio al por menor de muebles para el hogar</td>\n",
       "      <td>ROMA NORTE</td>\n",
       "      <td></td>\n",
       "      <td>0 a 5 personas</td>\n",
       "      <td>1029567</td>\n",
       "      <td>19.42002628</td>\n",
       "      <td>-99.16392516</td>\n",
       "      <td>...</td>\n",
       "      <td></td>\n",
       "      <td>214</td>\n",
       "      <td>0</td>\n",
       "      <td>COLECCION DISEÑO SA DE CV</td>\n",
       "      <td></td>\n",
       "      <td></td>\n",
       "      <td>Fijo</td>\n",
       "      <td></td>\n",
       "      <td>AVENIDA</td>\n",
       "      <td>CUAUHTÉMOC, Cuauhtémoc, CIUDAD DE MÉXICO</td>\n",
       "    </tr>\n",
       "    <tr>\n",
       "      <th>4</th>\n",
       "      <td>06700</td>\n",
       "      <td>INSURGENTES SUR</td>\n",
       "      <td></td>\n",
       "      <td>Comercio al por menor de motocicletas</td>\n",
       "      <td>DURANGO</td>\n",
       "      <td></td>\n",
       "      <td>0 a 5 personas</td>\n",
       "      <td>8327269</td>\n",
       "      <td>19.42017555</td>\n",
       "      <td>-99.16408991</td>\n",
       "      <td>...</td>\n",
       "      <td></td>\n",
       "      <td>207</td>\n",
       "      <td></td>\n",
       "      <td>DISEÑOS Y CLASICOS MEXICO SA DE CV</td>\n",
       "      <td></td>\n",
       "      <td></td>\n",
       "      <td>Fijo</td>\n",
       "      <td></td>\n",
       "      <td>AVENIDA</td>\n",
       "      <td>CUAUHTÉMOC, Cuauhtémoc, CIUDAD DE MÉXICO</td>\n",
       "    </tr>\n",
       "  </tbody>\n",
       "</table>\n",
       "<p>5 rows × 21 columns</p>\n",
       "</div>"
      ],
      "text/plain": [
       "      CP            Calle CentroComercial  \\\n",
       "0  06700           TONALA                   \n",
       "1  06700          DURANGO                   \n",
       "2  06700           JALAPA                   \n",
       "3  06700  INSURGENTES SUR                   \n",
       "4  06700  INSURGENTES SUR                   \n",
       "\n",
       "                                     Clase_actividad     Colonia  \\\n",
       "0  Servicios de diseño de sistemas de cómputo y s...  ROMA NORTE   \n",
       "1     Comercio al por menor de muebles para el hogar  ROMA NORTE   \n",
       "2  Servicios de diseño de sistemas de cómputo y s...  ROMA NORTE   \n",
       "3     Comercio al por menor de muebles para el hogar  ROMA NORTE   \n",
       "4              Comercio al por menor de motocicletas     DURANGO   \n",
       "\n",
       "                 Correo_e           Estrato       Id      Latitud  \\\n",
       "0  MVAZQEZ@REALNET.COM.MX  11 a 30 personas  1028239  19.42140394   \n",
       "1                           6 a 10 personas  8326496  19.42042099   \n",
       "2      INFO@BEEPQUEST.COM   6 a 10 personas  6810967  19.42265117   \n",
       "3                            0 a 5 personas  1029567  19.42002628   \n",
       "4                            0 a 5 personas  8327269  19.42017555   \n",
       "\n",
       "       Longitud  ... NumLocal Num_Exterior Num_Interior  \\\n",
       "0  -99.16340624  ...                     6          202   \n",
       "1  -99.16376558  ...                   153                \n",
       "2  -99.16231136  ...                    17          503   \n",
       "3  -99.16392516  ...                   214            0   \n",
       "4  -99.16408991  ...                   207                \n",
       "\n",
       "                         Razon_social        Sitio_internet   Telefono  Tipo  \\\n",
       "0                    REALNET SA DE CV  WWW.REALNETSA.COM.MX             Fijo   \n",
       "1            DISEÑO SILLIOTI SA DE CV       ILMIOMUEBLE.COM             Fijo   \n",
       "2                 APPQUEST SAPI DE CV     WWW.BEEPQUEST.COM  553382070  Fijo   \n",
       "3           COLECCION DISEÑO SA DE CV                                   Fijo   \n",
       "4  DISEÑOS Y CLASICOS MEXICO SA DE CV                                   Fijo   \n",
       "\n",
       "  TipoCentroComercial Tipo_vialidad                                 Ubicacion  \n",
       "0                             CALLE  CUAUHTÉMOC, Cuauhtémoc, CIUDAD DE MÉXICO  \n",
       "1                             CALLE  CUAUHTÉMOC, Cuauhtémoc, CIUDAD DE MÉXICO  \n",
       "2                             CALLE  CUAUHTÉMOC, Cuauhtémoc, CIUDAD DE MÉXICO  \n",
       "3                           AVENIDA  CUAUHTÉMOC, Cuauhtémoc, CIUDAD DE MÉXICO  \n",
       "4                           AVENIDA  CUAUHTÉMOC, Cuauhtémoc, CIUDAD DE MÉXICO  \n",
       "\n",
       "[5 rows x 21 columns]"
      ]
     },
     "execution_count": 3,
     "metadata": {},
     "output_type": "execute_result"
    }
   ],
   "source": [
    "response = requests.get(\"https://www.inegi.org.mx/app/api/denue/v1/consulta/Buscar/{}/{},{}/{}/44522d01-cae7-455b-9b53-7fc7d481cecb\".format(giro,long,lat,mts))\n",
    "results = response.json()\n",
    "\n",
    "data = pd.DataFrame(response.json())\n",
    "print(len(data))\n",
    "data.head()"
   ]
  },
  {
   "cell_type": "code",
   "execution_count": 4,
   "metadata": {},
   "outputs": [
    {
     "name": "stdout",
     "output_type": "stream",
     "text": [
      "<class 'pandas.core.frame.DataFrame'>\n",
      "RangeIndex: 466301 entries, 0 to 466300\n",
      "Data columns (total 16 columns):\n",
      "Unnamed: 0    466301 non-null int64\n",
      "id            466301 non-null int64\n",
      "nom_estab     466301 non-null object\n",
      "codigo_act    466301 non-null int64\n",
      "nombre_act    466301 non-null object\n",
      "tipoCenCom    88178 non-null object\n",
      "per_ocu       466301 non-null object\n",
      "tipoUniEco    466301 non-null object\n",
      "ageb          466285 non-null object\n",
      "manzana       466285 non-null float64\n",
      "latitud       466301 non-null float64\n",
      "longitud      466301 non-null float64\n",
      "fecha_alta    466301 non-null object\n",
      "www           37279 non-null object\n",
      "Año           466301 non-null int64\n",
      "Mes           466301 non-null int64\n",
      "dtypes: float64(3), int64(5), object(8)\n",
      "memory usage: 56.9+ MB\n"
     ]
    }
   ],
   "source": [
    "info = pd.read_csv('../info.csv')\n",
    "info.info()"
   ]
  },
  {
   "cell_type": "code",
   "execution_count": 5,
   "metadata": {},
   "outputs": [],
   "source": [
    "\n",
    "\n",
    "#for e in info.select_dtypes('object').columns:\n",
    " #   info[e]=info[e].astype('category')\n",
    "for e in info.select_dtypes('integer').columns:\n",
    "    info[e]=pd.to_numeric(info[e], downcast='integer')\n",
    "for e in info.select_dtypes('float').columns:\n",
    "    info[e]=pd.to_numeric(info[e], downcast='float')  \n",
    "    \n",
    "info[\"fecha_alta\"]=pd.to_datetime(info.fecha_alta)\n",
    "\n",
    "\n"
   ]
  },
  {
   "cell_type": "code",
   "execution_count": 6,
   "metadata": {},
   "outputs": [
    {
     "name": "stdout",
     "output_type": "stream",
     "text": [
      "<class 'pandas.core.frame.DataFrame'>\n",
      "RangeIndex: 125 entries, 0 to 124\n",
      "Data columns (total 16 columns):\n",
      "Unnamed: 0    125 non-null int32\n",
      "id            125 non-null int32\n",
      "nom_estab     125 non-null object\n",
      "codigo_act    125 non-null int32\n",
      "nombre_act    125 non-null object\n",
      "tipoCenCom    24 non-null object\n",
      "per_ocu       125 non-null object\n",
      "tipoUniEco    125 non-null object\n",
      "ageb          125 non-null object\n",
      "manzana       125 non-null float32\n",
      "latitud       125 non-null float32\n",
      "longitud      125 non-null float32\n",
      "fecha_alta    125 non-null datetime64[ns]\n",
      "www           75 non-null object\n",
      "Año           125 non-null int16\n",
      "Mes           125 non-null int8\n",
      "dtypes: datetime64[ns](1), float32(3), int16(1), int32(3), int8(1), object(7)\n",
      "memory usage: 11.2+ KB\n"
     ]
    },
    {
     "name": "stderr",
     "output_type": "stream",
     "text": [
      "C:\\ProgramData\\Anaconda3\\lib\\site-packages\\ipykernel_launcher.py:6: SettingWithCopyWarning: \n",
      "A value is trying to be set on a copy of a slice from a DataFrame.\n",
      "Try using .loc[row_indexer,col_indexer] = value instead\n",
      "\n",
      "See the caveats in the documentation: http://pandas.pydata.org/pandas-docs/stable/indexing.html#indexing-view-versus-copy\n",
      "  \n",
      "C:\\ProgramData\\Anaconda3\\lib\\site-packages\\ipykernel_launcher.py:7: SettingWithCopyWarning: \n",
      "A value is trying to be set on a copy of a slice from a DataFrame.\n",
      "Try using .loc[row_indexer,col_indexer] = value instead\n",
      "\n",
      "See the caveats in the documentation: http://pandas.pydata.org/pandas-docs/stable/indexing.html#indexing-view-versus-copy\n",
      "  import sys\n"
     ]
    },
    {
     "data": {
      "text/html": [
       "<div>\n",
       "<style scoped>\n",
       "    .dataframe tbody tr th:only-of-type {\n",
       "        vertical-align: middle;\n",
       "    }\n",
       "\n",
       "    .dataframe tbody tr th {\n",
       "        vertical-align: top;\n",
       "    }\n",
       "\n",
       "    .dataframe thead th {\n",
       "        text-align: right;\n",
       "    }\n",
       "</style>\n",
       "<table border=\"1\" class=\"dataframe\">\n",
       "  <thead>\n",
       "    <tr style=\"text-align: right;\">\n",
       "      <th></th>\n",
       "      <th>Unnamed: 0</th>\n",
       "      <th>id</th>\n",
       "      <th>nom_estab</th>\n",
       "      <th>codigo_act</th>\n",
       "      <th>nombre_act</th>\n",
       "      <th>tipoCenCom</th>\n",
       "      <th>per_ocu</th>\n",
       "      <th>tipoUniEco</th>\n",
       "      <th>ageb</th>\n",
       "      <th>manzana</th>\n",
       "      <th>latitud</th>\n",
       "      <th>longitud</th>\n",
       "      <th>fecha_alta</th>\n",
       "      <th>www</th>\n",
       "      <th>Año</th>\n",
       "      <th>Mes</th>\n",
       "      <th>clave</th>\n",
       "    </tr>\n",
       "  </thead>\n",
       "  <tbody>\n",
       "    <tr>\n",
       "      <th>0</th>\n",
       "      <td>1054</td>\n",
       "      <td>8286189</td>\n",
       "      <td>CONSTRUCTORA Y REMODELADORA DE OFICINAS</td>\n",
       "      <td>236221</td>\n",
       "      <td>Edificación de inmuebles comerciales y de serv...</td>\n",
       "      <td>NaN</td>\n",
       "      <td>11 a 30 personas</td>\n",
       "      <td>Fijo</td>\n",
       "      <td>1110</td>\n",
       "      <td>2</td>\n",
       "      <td>19.416512</td>\n",
       "      <td>-99.155670</td>\n",
       "      <td>2019-11-01</td>\n",
       "      <td>NaN</td>\n",
       "      <td>2019</td>\n",
       "      <td>11</td>\n",
       "      <td>1110-2</td>\n",
       "    </tr>\n",
       "    <tr>\n",
       "      <th>1</th>\n",
       "      <td>1272</td>\n",
       "      <td>957422</td>\n",
       "      <td>EDISA EDIFICACIÓN Y DISENOS, SA DE CV</td>\n",
       "      <td>236221</td>\n",
       "      <td>Edificación de inmuebles comerciales y de serv...</td>\n",
       "      <td>NaN</td>\n",
       "      <td>51 a 100 personas</td>\n",
       "      <td>Fijo</td>\n",
       "      <td>120A</td>\n",
       "      <td>2</td>\n",
       "      <td>19.414587</td>\n",
       "      <td>-99.165863</td>\n",
       "      <td>2010-07-01</td>\n",
       "      <td>NaN</td>\n",
       "      <td>2010</td>\n",
       "      <td>7</td>\n",
       "      <td>120A-2</td>\n",
       "    </tr>\n",
       "    <tr>\n",
       "      <th>2</th>\n",
       "      <td>4308</td>\n",
       "      <td>1029505</td>\n",
       "      <td>DISEÑADOR PEDRO LOREDO ALTA COSTURA</td>\n",
       "      <td>315225</td>\n",
       "      <td>Confección de prendas de vestir sobre medida</td>\n",
       "      <td>NaN</td>\n",
       "      <td>0 a 5 personas</td>\n",
       "      <td>Fijo</td>\n",
       "      <td>1093</td>\n",
       "      <td>14</td>\n",
       "      <td>19.418684</td>\n",
       "      <td>-99.169586</td>\n",
       "      <td>2010-07-01</td>\n",
       "      <td>NaN</td>\n",
       "      <td>2010</td>\n",
       "      <td>7</td>\n",
       "      <td>1093-14</td>\n",
       "    </tr>\n",
       "    <tr>\n",
       "      <th>3</th>\n",
       "      <td>4317</td>\n",
       "      <td>1029455</td>\n",
       "      <td>DISEÑO DE MODAS ALEJANDRO PONCE</td>\n",
       "      <td>315225</td>\n",
       "      <td>Confección de prendas de vestir sobre medida</td>\n",
       "      <td>NaN</td>\n",
       "      <td>0 a 5 personas</td>\n",
       "      <td>Fijo</td>\n",
       "      <td>1093</td>\n",
       "      <td>13</td>\n",
       "      <td>19.418406</td>\n",
       "      <td>-99.169518</td>\n",
       "      <td>2010-07-01</td>\n",
       "      <td>WWW.ALEJANDROPONCE.COM.MX</td>\n",
       "      <td>2010</td>\n",
       "      <td>7</td>\n",
       "      <td>1093-13</td>\n",
       "    </tr>\n",
       "    <tr>\n",
       "      <th>4</th>\n",
       "      <td>29927</td>\n",
       "      <td>1029675</td>\n",
       "      <td>DISEÑO E INTERIORISMO JAMES &amp; STEVEN</td>\n",
       "      <td>337210</td>\n",
       "      <td>Fabricación de muebles de oficina y estantería</td>\n",
       "      <td>NaN</td>\n",
       "      <td>0 a 5 personas</td>\n",
       "      <td>Fijo</td>\n",
       "      <td>1002</td>\n",
       "      <td>18</td>\n",
       "      <td>19.419149</td>\n",
       "      <td>-99.159454</td>\n",
       "      <td>2010-07-01</td>\n",
       "      <td>WWW.JAMESANDSTEVEN.COM</td>\n",
       "      <td>2010</td>\n",
       "      <td>7</td>\n",
       "      <td>1002-18</td>\n",
       "    </tr>\n",
       "  </tbody>\n",
       "</table>\n",
       "</div>"
      ],
      "text/plain": [
       "   Unnamed: 0       id                                nom_estab  codigo_act  \\\n",
       "0        1054  8286189  CONSTRUCTORA Y REMODELADORA DE OFICINAS      236221   \n",
       "1        1272   957422    EDISA EDIFICACIÓN Y DISENOS, SA DE CV      236221   \n",
       "2        4308  1029505      DISEÑADOR PEDRO LOREDO ALTA COSTURA      315225   \n",
       "3        4317  1029455          DISEÑO DE MODAS ALEJANDRO PONCE      315225   \n",
       "4       29927  1029675     DISEÑO E INTERIORISMO JAMES & STEVEN      337210   \n",
       "\n",
       "                                          nombre_act tipoCenCom  \\\n",
       "0  Edificación de inmuebles comerciales y de serv...        NaN   \n",
       "1  Edificación de inmuebles comerciales y de serv...        NaN   \n",
       "2       Confección de prendas de vestir sobre medida        NaN   \n",
       "3       Confección de prendas de vestir sobre medida        NaN   \n",
       "4     Fabricación de muebles de oficina y estantería        NaN   \n",
       "\n",
       "             per_ocu tipoUniEco  ageb  manzana    latitud   longitud  \\\n",
       "0   11 a 30 personas       Fijo  1110        2  19.416512 -99.155670   \n",
       "1  51 a 100 personas       Fijo  120A        2  19.414587 -99.165863   \n",
       "2     0 a 5 personas       Fijo  1093       14  19.418684 -99.169586   \n",
       "3     0 a 5 personas       Fijo  1093       13  19.418406 -99.169518   \n",
       "4     0 a 5 personas       Fijo  1002       18  19.419149 -99.159454   \n",
       "\n",
       "  fecha_alta                        www   Año  Mes    clave  \n",
       "0 2019-11-01                        NaN  2019   11   1110-2  \n",
       "1 2010-07-01                        NaN  2010    7   120A-2  \n",
       "2 2010-07-01                        NaN  2010    7  1093-14  \n",
       "3 2010-07-01  WWW.ALEJANDROPONCE.COM.MX  2010    7  1093-13  \n",
       "4 2010-07-01     WWW.JAMESANDSTEVEN.COM  2010    7  1002-18  "
      ]
     },
     "execution_count": 6,
     "metadata": {},
     "output_type": "execute_result"
    }
   ],
   "source": [
    "empresas=data.Id\n",
    "len(empresas)\n",
    "d=info[info[\"id\"].isin(empresas)]\n",
    "d.reset_index(drop=True,inplace=True)\n",
    "d.info()\n",
    "d[\"manzana\"]=d.manzana.astype(int)\n",
    "d[\"clave\"]=d[\"ageb\"].astype(str) + \"-\" + d[\"manzana\"].astype(str)\n",
    "d.head()"
   ]
  },
  {
   "cell_type": "code",
   "execution_count": 8,
   "metadata": {
    "scrolled": true
   },
   "outputs": [
    {
     "data": {
      "text/html": [
       "<div style=\"width:100%;\"><div style=\"position:relative;width:100%;height:0;padding-bottom:60%;\"><iframe src=\"data:text/html;charset=utf-8;base64,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\" style=\"position:absolute;width:100%;height:100%;left:0;top:0;border:none !important;\" allowfullscreen webkitallowfullscreen mozallowfullscreen></iframe></div></div>"
      ],
      "text/plain": [
       "<folium.folium.Map at 0x2a80db9fe80>"
      ]
     },
     "metadata": {},
     "output_type": "display_data"
    }
   ],
   "source": [
    "llat=list(d.latitud)\n",
    "llong=list(d.longitud)\n",
    "name=list(d.nom_estab)\n",
    "\n",
    "mapa=folium.Map(location=[long, lat], tiles='openstreetmap', zoom_start=15)\n",
    "\n",
    "for i in range(len(d)):\n",
    "    folium.Marker([llat[i], llong[i]], icon=folium.Icon(color='red'),popup=name[i]).add_to(mapa)\n",
    "    \n",
    "display(mapa)"
   ]
  },
  {
   "cell_type": "code",
   "execution_count": 9,
   "metadata": {},
   "outputs": [
    {
     "data": {
      "text/plain": [
       "2019-11-01    56\n",
       "2010-07-01    30\n",
       "2014-12-01    14\n",
       "2019-04-01     9\n",
       "2016-10-01     5\n",
       "2017-11-01     4\n",
       "2011-03-01     3\n",
       "2012-06-01     3\n",
       "2016-01-01     1\n",
       "Name: fecha_alta, dtype: int64"
      ]
     },
     "execution_count": 9,
     "metadata": {},
     "output_type": "execute_result"
    }
   ],
   "source": [
    "d.fecha_alta.value_counts()"
   ]
  },
  {
   "cell_type": "code",
   "execution_count": null,
   "metadata": {},
   "outputs": [],
   "source": [
    "'''\n",
    "dat=pd.DataFrame(d.fecha_alta.value_counts())\n",
    "dat=dat.sort_index()\n",
    "dat.index = pd.DatetimeIndex(dat.index).to_period('M')\n",
    "train=dat[1:-1]\n",
    "modelo=AR(train).fit()\n",
    "pred=modelo.predict(8,10)\n",
    "print(pred)\n",
    "train\n",
    "'''"
   ]
  },
  {
   "cell_type": "code",
   "execution_count": null,
   "metadata": {},
   "outputs": [],
   "source": [
    "'''\n",
    "from sklearn.linear_model import LinearRegression\n",
    "\n",
    "\n",
    "train=gk[1:-1]\n",
    "train=train.reset_index(drop=False)\n",
    "train=train.sort_values(by=['index'])\n",
    "X=train[\"index\"]\n",
    "y=train.Año\n",
    "z=\"2019\"\n",
    "X.reshape(1, -1)\n",
    "linreg=LinearRegression(fit_intercept=True)\n",
    "linreg.fit(X, y)\n",
    "#y_pred=linreg.predict(X_test)\n",
    "'''"
   ]
  },
  {
   "cell_type": "code",
   "execution_count": 80,
   "metadata": {},
   "outputs": [
    {
     "data": {
      "text/html": [
       "        <script type=\"text/javascript\">\n",
       "        window.PlotlyConfig = {MathJaxConfig: 'local'};\n",
       "        if (window.MathJax) {MathJax.Hub.Config({SVG: {font: \"STIX-Web\"}});}\n",
       "        if (typeof require !== 'undefined') {\n",
       "        require.undef(\"plotly\");\n",
       "        requirejs.config({\n",
       "            paths: {\n",
       "                'plotly': ['https://cdn.plot.ly/plotly-latest.min']\n",
       "            }\n",
       "        });\n",
       "        require(['plotly'], function(Plotly) {\n",
       "            window._Plotly = Plotly;\n",
       "        });\n",
       "        }\n",
       "        </script>\n",
       "        "
      ]
     },
     "metadata": {},
     "output_type": "display_data"
    }
   ],
   "source": [
    "import chart_studio.plotly as py\n",
    "import cufflinks as cf\n",
    "from ipywidgets import interact\n",
    "import matplotlib.pyplot as plt\n",
    "cf.go_offline()\n",
    "import seaborn as sns"
   ]
  },
  {
   "cell_type": "code",
   "execution_count": 11,
   "metadata": {},
   "outputs": [
    {
     "data": {
      "text/plain": [
       "125"
      ]
     },
     "metadata": {},
     "output_type": "display_data"
    },
    {
     "name": "stdout",
     "output_type": "stream",
     "text": [
      "   index  Año\n",
      "1   2010   30\n",
      "6   2011    3\n",
      "5   2012    3\n",
      "2   2014   14\n",
      "3   2016    6\n",
      "4   2017    4\n",
      "0   2019   65\n"
     ]
    },
    {
     "data": {
      "text/html": [
       "<div>\n",
       "<style scoped>\n",
       "    .dataframe tbody tr th:only-of-type {\n",
       "        vertical-align: middle;\n",
       "    }\n",
       "\n",
       "    .dataframe tbody tr th {\n",
       "        vertical-align: top;\n",
       "    }\n",
       "\n",
       "    .dataframe thead th {\n",
       "        text-align: right;\n",
       "    }\n",
       "</style>\n",
       "<table border=\"1\" class=\"dataframe\">\n",
       "  <thead>\n",
       "    <tr style=\"text-align: right;\">\n",
       "      <th></th>\n",
       "      <th>index</th>\n",
       "      <th>Mes</th>\n",
       "    </tr>\n",
       "  </thead>\n",
       "  <tbody>\n",
       "    <tr>\n",
       "      <th>7</th>\n",
       "      <td>1</td>\n",
       "      <td>1</td>\n",
       "    </tr>\n",
       "    <tr>\n",
       "      <th>6</th>\n",
       "      <td>3</td>\n",
       "      <td>3</td>\n",
       "    </tr>\n",
       "    <tr>\n",
       "      <th>3</th>\n",
       "      <td>4</td>\n",
       "      <td>9</td>\n",
       "    </tr>\n",
       "    <tr>\n",
       "      <th>5</th>\n",
       "      <td>6</td>\n",
       "      <td>3</td>\n",
       "    </tr>\n",
       "    <tr>\n",
       "      <th>1</th>\n",
       "      <td>7</td>\n",
       "      <td>30</td>\n",
       "    </tr>\n",
       "    <tr>\n",
       "      <th>4</th>\n",
       "      <td>10</td>\n",
       "      <td>5</td>\n",
       "    </tr>\n",
       "    <tr>\n",
       "      <th>0</th>\n",
       "      <td>11</td>\n",
       "      <td>60</td>\n",
       "    </tr>\n",
       "    <tr>\n",
       "      <th>2</th>\n",
       "      <td>12</td>\n",
       "      <td>14</td>\n",
       "    </tr>\n",
       "  </tbody>\n",
       "</table>\n",
       "</div>"
      ],
      "text/plain": [
       "   index  Mes\n",
       "7      1    1\n",
       "6      3    3\n",
       "3      4    9\n",
       "5      6    3\n",
       "1      7   30\n",
       "4     10    5\n",
       "0     11   60\n",
       "2     12   14"
      ]
     },
     "execution_count": 11,
     "metadata": {},
     "output_type": "execute_result"
    }
   ],
   "source": [
    "display(len(d))\n",
    "gk =pd.DataFrame(d.Año.value_counts())\n",
    "gk=gk.reset_index(drop=False)\n",
    "gk=gk.sort_values(by=['index'])\n",
    "print(gk)\n",
    "gm =pd.DataFrame(d.Mes.value_counts())\n",
    "gm=gm.reset_index(drop=False)\n",
    "gm=gm.sort_values(by=['index'])\n",
    "gm"
   ]
  },
  {
   "cell_type": "code",
   "execution_count": 105,
   "metadata": {
    "scrolled": false
   },
   "outputs": [
    {
     "data": {
      "application/vnd.plotly.v1+json": {
       "config": {
        "linkText": "Export to plot.ly",
        "plotlyServerURL": "https://plot.ly",
        "showLink": true
       },
       "data": [
        {
         "marker": {
          "color": "rgba(255, 153, 51, 0.6)",
          "line": {
           "color": "rgba(255, 153, 51, 1.0)",
           "width": 1
          }
         },
         "name": "Mes",
         "orientation": "v",
         "text": "",
         "type": "bar",
         "x": [
          1,
          3,
          4,
          6,
          7,
          10,
          11,
          12
         ],
         "y": [
          1,
          3,
          9,
          3,
          30,
          5,
          60,
          14
         ]
        }
       ],
       "layout": {
        "legend": {
         "bgcolor": "#F5F6F9",
         "font": {
          "color": "#4D5663"
         }
        },
        "paper_bgcolor": "#F5F6F9",
        "plot_bgcolor": "#F5F6F9",
        "template": {
         "data": {
          "bar": [
           {
            "error_x": {
             "color": "#2a3f5f"
            },
            "error_y": {
             "color": "#2a3f5f"
            },
            "marker": {
             "line": {
              "color": "#E5ECF6",
              "width": 0.5
             }
            },
            "type": "bar"
           }
          ],
          "barpolar": [
           {
            "marker": {
             "line": {
              "color": "#E5ECF6",
              "width": 0.5
             }
            },
            "type": "barpolar"
           }
          ],
          "carpet": [
           {
            "aaxis": {
             "endlinecolor": "#2a3f5f",
             "gridcolor": "white",
             "linecolor": "white",
             "minorgridcolor": "white",
             "startlinecolor": "#2a3f5f"
            },
            "baxis": {
             "endlinecolor": "#2a3f5f",
             "gridcolor": "white",
             "linecolor": "white",
             "minorgridcolor": "white",
             "startlinecolor": "#2a3f5f"
            },
            "type": "carpet"
           }
          ],
          "choropleth": [
           {
            "colorbar": {
             "outlinewidth": 0,
             "ticks": ""
            },
            "type": "choropleth"
           }
          ],
          "contour": [
           {
            "colorbar": {
             "outlinewidth": 0,
             "ticks": ""
            },
            "colorscale": [
             [
              0,
              "#0d0887"
             ],
             [
              0.1111111111111111,
              "#46039f"
             ],
             [
              0.2222222222222222,
              "#7201a8"
             ],
             [
              0.3333333333333333,
              "#9c179e"
             ],
             [
              0.4444444444444444,
              "#bd3786"
             ],
             [
              0.5555555555555556,
              "#d8576b"
             ],
             [
              0.6666666666666666,
              "#ed7953"
             ],
             [
              0.7777777777777778,
              "#fb9f3a"
             ],
             [
              0.8888888888888888,
              "#fdca26"
             ],
             [
              1,
              "#f0f921"
             ]
            ],
            "type": "contour"
           }
          ],
          "contourcarpet": [
           {
            "colorbar": {
             "outlinewidth": 0,
             "ticks": ""
            },
            "type": "contourcarpet"
           }
          ],
          "heatmap": [
           {
            "colorbar": {
             "outlinewidth": 0,
             "ticks": ""
            },
            "colorscale": [
             [
              0,
              "#0d0887"
             ],
             [
              0.1111111111111111,
              "#46039f"
             ],
             [
              0.2222222222222222,
              "#7201a8"
             ],
             [
              0.3333333333333333,
              "#9c179e"
             ],
             [
              0.4444444444444444,
              "#bd3786"
             ],
             [
              0.5555555555555556,
              "#d8576b"
             ],
             [
              0.6666666666666666,
              "#ed7953"
             ],
             [
              0.7777777777777778,
              "#fb9f3a"
             ],
             [
              0.8888888888888888,
              "#fdca26"
             ],
             [
              1,
              "#f0f921"
             ]
            ],
            "type": "heatmap"
           }
          ],
          "heatmapgl": [
           {
            "colorbar": {
             "outlinewidth": 0,
             "ticks": ""
            },
            "colorscale": [
             [
              0,
              "#0d0887"
             ],
             [
              0.1111111111111111,
              "#46039f"
             ],
             [
              0.2222222222222222,
              "#7201a8"
             ],
             [
              0.3333333333333333,
              "#9c179e"
             ],
             [
              0.4444444444444444,
              "#bd3786"
             ],
             [
              0.5555555555555556,
              "#d8576b"
             ],
             [
              0.6666666666666666,
              "#ed7953"
             ],
             [
              0.7777777777777778,
              "#fb9f3a"
             ],
             [
              0.8888888888888888,
              "#fdca26"
             ],
             [
              1,
              "#f0f921"
             ]
            ],
            "type": "heatmapgl"
           }
          ],
          "histogram": [
           {
            "marker": {
             "colorbar": {
              "outlinewidth": 0,
              "ticks": ""
             }
            },
            "type": "histogram"
           }
          ],
          "histogram2d": [
           {
            "colorbar": {
             "outlinewidth": 0,
             "ticks": ""
            },
            "colorscale": [
             [
              0,
              "#0d0887"
             ],
             [
              0.1111111111111111,
              "#46039f"
             ],
             [
              0.2222222222222222,
              "#7201a8"
             ],
             [
              0.3333333333333333,
              "#9c179e"
             ],
             [
              0.4444444444444444,
              "#bd3786"
             ],
             [
              0.5555555555555556,
              "#d8576b"
             ],
             [
              0.6666666666666666,
              "#ed7953"
             ],
             [
              0.7777777777777778,
              "#fb9f3a"
             ],
             [
              0.8888888888888888,
              "#fdca26"
             ],
             [
              1,
              "#f0f921"
             ]
            ],
            "type": "histogram2d"
           }
          ],
          "histogram2dcontour": [
           {
            "colorbar": {
             "outlinewidth": 0,
             "ticks": ""
            },
            "colorscale": [
             [
              0,
              "#0d0887"
             ],
             [
              0.1111111111111111,
              "#46039f"
             ],
             [
              0.2222222222222222,
              "#7201a8"
             ],
             [
              0.3333333333333333,
              "#9c179e"
             ],
             [
              0.4444444444444444,
              "#bd3786"
             ],
             [
              0.5555555555555556,
              "#d8576b"
             ],
             [
              0.6666666666666666,
              "#ed7953"
             ],
             [
              0.7777777777777778,
              "#fb9f3a"
             ],
             [
              0.8888888888888888,
              "#fdca26"
             ],
             [
              1,
              "#f0f921"
             ]
            ],
            "type": "histogram2dcontour"
           }
          ],
          "mesh3d": [
           {
            "colorbar": {
             "outlinewidth": 0,
             "ticks": ""
            },
            "type": "mesh3d"
           }
          ],
          "parcoords": [
           {
            "line": {
             "colorbar": {
              "outlinewidth": 0,
              "ticks": ""
             }
            },
            "type": "parcoords"
           }
          ],
          "pie": [
           {
            "automargin": true,
            "type": "pie"
           }
          ],
          "scatter": [
           {
            "marker": {
             "colorbar": {
              "outlinewidth": 0,
              "ticks": ""
             }
            },
            "type": "scatter"
           }
          ],
          "scatter3d": [
           {
            "line": {
             "colorbar": {
              "outlinewidth": 0,
              "ticks": ""
             }
            },
            "marker": {
             "colorbar": {
              "outlinewidth": 0,
              "ticks": ""
             }
            },
            "type": "scatter3d"
           }
          ],
          "scattercarpet": [
           {
            "marker": {
             "colorbar": {
              "outlinewidth": 0,
              "ticks": ""
             }
            },
            "type": "scattercarpet"
           }
          ],
          "scattergeo": [
           {
            "marker": {
             "colorbar": {
              "outlinewidth": 0,
              "ticks": ""
             }
            },
            "type": "scattergeo"
           }
          ],
          "scattergl": [
           {
            "marker": {
             "colorbar": {
              "outlinewidth": 0,
              "ticks": ""
             }
            },
            "type": "scattergl"
           }
          ],
          "scattermapbox": [
           {
            "marker": {
             "colorbar": {
              "outlinewidth": 0,
              "ticks": ""
             }
            },
            "type": "scattermapbox"
           }
          ],
          "scatterpolar": [
           {
            "marker": {
             "colorbar": {
              "outlinewidth": 0,
              "ticks": ""
             }
            },
            "type": "scatterpolar"
           }
          ],
          "scatterpolargl": [
           {
            "marker": {
             "colorbar": {
              "outlinewidth": 0,
              "ticks": ""
             }
            },
            "type": "scatterpolargl"
           }
          ],
          "scatterternary": [
           {
            "marker": {
             "colorbar": {
              "outlinewidth": 0,
              "ticks": ""
             }
            },
            "type": "scatterternary"
           }
          ],
          "surface": [
           {
            "colorbar": {
             "outlinewidth": 0,
             "ticks": ""
            },
            "colorscale": [
             [
              0,
              "#0d0887"
             ],
             [
              0.1111111111111111,
              "#46039f"
             ],
             [
              0.2222222222222222,
              "#7201a8"
             ],
             [
              0.3333333333333333,
              "#9c179e"
             ],
             [
              0.4444444444444444,
              "#bd3786"
             ],
             [
              0.5555555555555556,
              "#d8576b"
             ],
             [
              0.6666666666666666,
              "#ed7953"
             ],
             [
              0.7777777777777778,
              "#fb9f3a"
             ],
             [
              0.8888888888888888,
              "#fdca26"
             ],
             [
              1,
              "#f0f921"
             ]
            ],
            "type": "surface"
           }
          ],
          "table": [
           {
            "cells": {
             "fill": {
              "color": "#EBF0F8"
             },
             "line": {
              "color": "white"
             }
            },
            "header": {
             "fill": {
              "color": "#C8D4E3"
             },
             "line": {
              "color": "white"
             }
            },
            "type": "table"
           }
          ]
         },
         "layout": {
          "annotationdefaults": {
           "arrowcolor": "#2a3f5f",
           "arrowhead": 0,
           "arrowwidth": 1
          },
          "coloraxis": {
           "colorbar": {
            "outlinewidth": 0,
            "ticks": ""
           }
          },
          "colorscale": {
           "diverging": [
            [
             0,
             "#8e0152"
            ],
            [
             0.1,
             "#c51b7d"
            ],
            [
             0.2,
             "#de77ae"
            ],
            [
             0.3,
             "#f1b6da"
            ],
            [
             0.4,
             "#fde0ef"
            ],
            [
             0.5,
             "#f7f7f7"
            ],
            [
             0.6,
             "#e6f5d0"
            ],
            [
             0.7,
             "#b8e186"
            ],
            [
             0.8,
             "#7fbc41"
            ],
            [
             0.9,
             "#4d9221"
            ],
            [
             1,
             "#276419"
            ]
           ],
           "sequential": [
            [
             0,
             "#0d0887"
            ],
            [
             0.1111111111111111,
             "#46039f"
            ],
            [
             0.2222222222222222,
             "#7201a8"
            ],
            [
             0.3333333333333333,
             "#9c179e"
            ],
            [
             0.4444444444444444,
             "#bd3786"
            ],
            [
             0.5555555555555556,
             "#d8576b"
            ],
            [
             0.6666666666666666,
             "#ed7953"
            ],
            [
             0.7777777777777778,
             "#fb9f3a"
            ],
            [
             0.8888888888888888,
             "#fdca26"
            ],
            [
             1,
             "#f0f921"
            ]
           ],
           "sequentialminus": [
            [
             0,
             "#0d0887"
            ],
            [
             0.1111111111111111,
             "#46039f"
            ],
            [
             0.2222222222222222,
             "#7201a8"
            ],
            [
             0.3333333333333333,
             "#9c179e"
            ],
            [
             0.4444444444444444,
             "#bd3786"
            ],
            [
             0.5555555555555556,
             "#d8576b"
            ],
            [
             0.6666666666666666,
             "#ed7953"
            ],
            [
             0.7777777777777778,
             "#fb9f3a"
            ],
            [
             0.8888888888888888,
             "#fdca26"
            ],
            [
             1,
             "#f0f921"
            ]
           ]
          },
          "colorway": [
           "#636efa",
           "#EF553B",
           "#00cc96",
           "#ab63fa",
           "#FFA15A",
           "#19d3f3",
           "#FF6692",
           "#B6E880",
           "#FF97FF",
           "#FECB52"
          ],
          "font": {
           "color": "#2a3f5f"
          },
          "geo": {
           "bgcolor": "white",
           "lakecolor": "white",
           "landcolor": "#E5ECF6",
           "showlakes": true,
           "showland": true,
           "subunitcolor": "white"
          },
          "hoverlabel": {
           "align": "left"
          },
          "hovermode": "closest",
          "mapbox": {
           "style": "light"
          },
          "paper_bgcolor": "white",
          "plot_bgcolor": "#E5ECF6",
          "polar": {
           "angularaxis": {
            "gridcolor": "white",
            "linecolor": "white",
            "ticks": ""
           },
           "bgcolor": "#E5ECF6",
           "radialaxis": {
            "gridcolor": "white",
            "linecolor": "white",
            "ticks": ""
           }
          },
          "scene": {
           "xaxis": {
            "backgroundcolor": "#E5ECF6",
            "gridcolor": "white",
            "gridwidth": 2,
            "linecolor": "white",
            "showbackground": true,
            "ticks": "",
            "zerolinecolor": "white"
           },
           "yaxis": {
            "backgroundcolor": "#E5ECF6",
            "gridcolor": "white",
            "gridwidth": 2,
            "linecolor": "white",
            "showbackground": true,
            "ticks": "",
            "zerolinecolor": "white"
           },
           "zaxis": {
            "backgroundcolor": "#E5ECF6",
            "gridcolor": "white",
            "gridwidth": 2,
            "linecolor": "white",
            "showbackground": true,
            "ticks": "",
            "zerolinecolor": "white"
           }
          },
          "shapedefaults": {
           "line": {
            "color": "#2a3f5f"
           }
          },
          "ternary": {
           "aaxis": {
            "gridcolor": "white",
            "linecolor": "white",
            "ticks": ""
           },
           "baxis": {
            "gridcolor": "white",
            "linecolor": "white",
            "ticks": ""
           },
           "bgcolor": "#E5ECF6",
           "caxis": {
            "gridcolor": "white",
            "linecolor": "white",
            "ticks": ""
           }
          },
          "title": {
           "x": 0.05
          },
          "xaxis": {
           "automargin": true,
           "gridcolor": "white",
           "linecolor": "white",
           "ticks": "",
           "title": {
            "standoff": 15
           },
           "zerolinecolor": "white",
           "zerolinewidth": 2
          },
          "yaxis": {
           "automargin": true,
           "gridcolor": "white",
           "linecolor": "white",
           "ticks": "",
           "title": {
            "standoff": 15
           },
           "zerolinecolor": "white",
           "zerolinewidth": 2
          }
         }
        },
        "title": {
         "font": {
          "color": "#4D5663"
         },
         "text": "Mes de integración"
        },
        "xaxis": {
         "gridcolor": "#E1E5ED",
         "showgrid": true,
         "tickfont": {
          "color": "#4D5663"
         },
         "title": {
          "font": {
           "color": "#4D5663"
          },
          "text": "Mes"
         },
         "zerolinecolor": "#E1E5ED"
        },
        "yaxis": {
         "gridcolor": "#E1E5ED",
         "showgrid": true,
         "tickfont": {
          "color": "#4D5663"
         },
         "title": {
          "font": {
           "color": "#4D5663"
          },
          "text": "N. Empresas"
         },
         "zerolinecolor": "#E1E5ED"
        }
       }
      },
      "text/html": [
       "<div>\n",
       "        \n",
       "        \n",
       "            <div id=\"390021f9-11a3-4b90-ae75-255399d6d6ab\" class=\"plotly-graph-div\" style=\"height:525px; width:100%;\"></div>\n",
       "            <script type=\"text/javascript\">\n",
       "                require([\"plotly\"], function(Plotly) {\n",
       "                    window.PLOTLYENV=window.PLOTLYENV || {};\n",
       "                    window.PLOTLYENV.BASE_URL='https://plot.ly';\n",
       "                    \n",
       "                if (document.getElementById(\"390021f9-11a3-4b90-ae75-255399d6d6ab\")) {\n",
       "                    Plotly.newPlot(\n",
       "                        '390021f9-11a3-4b90-ae75-255399d6d6ab',\n",
       "                        [{\"marker\": {\"color\": \"rgba(255, 153, 51, 0.6)\", \"line\": {\"color\": \"rgba(255, 153, 51, 1.0)\", \"width\": 1}}, \"name\": \"Mes\", \"orientation\": \"v\", \"text\": \"\", \"type\": \"bar\", \"x\": [1, 3, 4, 6, 7, 10, 11, 12], \"y\": [1, 3, 9, 3, 30, 5, 60, 14]}],\n",
       "                        {\"legend\": {\"bgcolor\": \"#F5F6F9\", \"font\": {\"color\": \"#4D5663\"}}, \"paper_bgcolor\": \"#F5F6F9\", \"plot_bgcolor\": \"#F5F6F9\", \"template\": {\"data\": {\"bar\": [{\"error_x\": {\"color\": \"#2a3f5f\"}, \"error_y\": {\"color\": \"#2a3f5f\"}, \"marker\": {\"line\": {\"color\": \"#E5ECF6\", \"width\": 0.5}}, \"type\": \"bar\"}], \"barpolar\": [{\"marker\": {\"line\": {\"color\": \"#E5ECF6\", \"width\": 0.5}}, \"type\": \"barpolar\"}], \"carpet\": [{\"aaxis\": {\"endlinecolor\": \"#2a3f5f\", \"gridcolor\": \"white\", \"linecolor\": \"white\", \"minorgridcolor\": \"white\", \"startlinecolor\": \"#2a3f5f\"}, \"baxis\": {\"endlinecolor\": \"#2a3f5f\", \"gridcolor\": \"white\", \"linecolor\": \"white\", \"minorgridcolor\": \"white\", \"startlinecolor\": \"#2a3f5f\"}, \"type\": \"carpet\"}], \"choropleth\": [{\"colorbar\": {\"outlinewidth\": 0, \"ticks\": \"\"}, \"type\": \"choropleth\"}], \"contour\": [{\"colorbar\": {\"outlinewidth\": 0, \"ticks\": \"\"}, \"colorscale\": [[0.0, \"#0d0887\"], [0.1111111111111111, \"#46039f\"], [0.2222222222222222, \"#7201a8\"], [0.3333333333333333, \"#9c179e\"], [0.4444444444444444, \"#bd3786\"], [0.5555555555555556, \"#d8576b\"], [0.6666666666666666, \"#ed7953\"], [0.7777777777777778, \"#fb9f3a\"], [0.8888888888888888, \"#fdca26\"], [1.0, \"#f0f921\"]], \"type\": \"contour\"}], \"contourcarpet\": [{\"colorbar\": {\"outlinewidth\": 0, \"ticks\": \"\"}, \"type\": \"contourcarpet\"}], \"heatmap\": [{\"colorbar\": {\"outlinewidth\": 0, \"ticks\": \"\"}, \"colorscale\": [[0.0, \"#0d0887\"], [0.1111111111111111, \"#46039f\"], [0.2222222222222222, \"#7201a8\"], [0.3333333333333333, \"#9c179e\"], [0.4444444444444444, \"#bd3786\"], [0.5555555555555556, \"#d8576b\"], [0.6666666666666666, \"#ed7953\"], [0.7777777777777778, \"#fb9f3a\"], [0.8888888888888888, \"#fdca26\"], [1.0, \"#f0f921\"]], \"type\": \"heatmap\"}], \"heatmapgl\": [{\"colorbar\": {\"outlinewidth\": 0, \"ticks\": \"\"}, \"colorscale\": [[0.0, \"#0d0887\"], [0.1111111111111111, \"#46039f\"], [0.2222222222222222, \"#7201a8\"], [0.3333333333333333, \"#9c179e\"], [0.4444444444444444, \"#bd3786\"], [0.5555555555555556, \"#d8576b\"], [0.6666666666666666, \"#ed7953\"], [0.7777777777777778, \"#fb9f3a\"], [0.8888888888888888, \"#fdca26\"], [1.0, \"#f0f921\"]], \"type\": \"heatmapgl\"}], \"histogram\": [{\"marker\": {\"colorbar\": {\"outlinewidth\": 0, \"ticks\": \"\"}}, \"type\": \"histogram\"}], \"histogram2d\": [{\"colorbar\": {\"outlinewidth\": 0, \"ticks\": \"\"}, \"colorscale\": [[0.0, \"#0d0887\"], [0.1111111111111111, \"#46039f\"], [0.2222222222222222, \"#7201a8\"], [0.3333333333333333, \"#9c179e\"], [0.4444444444444444, \"#bd3786\"], [0.5555555555555556, \"#d8576b\"], [0.6666666666666666, \"#ed7953\"], [0.7777777777777778, \"#fb9f3a\"], [0.8888888888888888, \"#fdca26\"], [1.0, \"#f0f921\"]], \"type\": \"histogram2d\"}], \"histogram2dcontour\": [{\"colorbar\": {\"outlinewidth\": 0, \"ticks\": \"\"}, \"colorscale\": [[0.0, \"#0d0887\"], [0.1111111111111111, \"#46039f\"], [0.2222222222222222, \"#7201a8\"], [0.3333333333333333, \"#9c179e\"], [0.4444444444444444, \"#bd3786\"], [0.5555555555555556, \"#d8576b\"], [0.6666666666666666, \"#ed7953\"], [0.7777777777777778, \"#fb9f3a\"], [0.8888888888888888, \"#fdca26\"], [1.0, \"#f0f921\"]], \"type\": \"histogram2dcontour\"}], \"mesh3d\": [{\"colorbar\": {\"outlinewidth\": 0, \"ticks\": \"\"}, \"type\": \"mesh3d\"}], \"parcoords\": [{\"line\": {\"colorbar\": {\"outlinewidth\": 0, \"ticks\": \"\"}}, \"type\": \"parcoords\"}], \"pie\": [{\"automargin\": true, \"type\": \"pie\"}], \"scatter\": [{\"marker\": {\"colorbar\": {\"outlinewidth\": 0, \"ticks\": \"\"}}, \"type\": \"scatter\"}], \"scatter3d\": [{\"line\": {\"colorbar\": {\"outlinewidth\": 0, \"ticks\": \"\"}}, \"marker\": {\"colorbar\": {\"outlinewidth\": 0, \"ticks\": \"\"}}, \"type\": \"scatter3d\"}], \"scattercarpet\": [{\"marker\": {\"colorbar\": {\"outlinewidth\": 0, \"ticks\": \"\"}}, \"type\": \"scattercarpet\"}], \"scattergeo\": [{\"marker\": {\"colorbar\": {\"outlinewidth\": 0, \"ticks\": \"\"}}, \"type\": \"scattergeo\"}], \"scattergl\": [{\"marker\": {\"colorbar\": {\"outlinewidth\": 0, \"ticks\": \"\"}}, \"type\": \"scattergl\"}], \"scattermapbox\": [{\"marker\": {\"colorbar\": {\"outlinewidth\": 0, \"ticks\": \"\"}}, \"type\": \"scattermapbox\"}], \"scatterpolar\": [{\"marker\": {\"colorbar\": {\"outlinewidth\": 0, \"ticks\": \"\"}}, \"type\": \"scatterpolar\"}], \"scatterpolargl\": [{\"marker\": {\"colorbar\": {\"outlinewidth\": 0, \"ticks\": \"\"}}, \"type\": \"scatterpolargl\"}], \"scatterternary\": [{\"marker\": {\"colorbar\": {\"outlinewidth\": 0, \"ticks\": \"\"}}, \"type\": \"scatterternary\"}], \"surface\": [{\"colorbar\": {\"outlinewidth\": 0, \"ticks\": \"\"}, \"colorscale\": [[0.0, \"#0d0887\"], [0.1111111111111111, \"#46039f\"], [0.2222222222222222, \"#7201a8\"], [0.3333333333333333, \"#9c179e\"], [0.4444444444444444, \"#bd3786\"], [0.5555555555555556, \"#d8576b\"], [0.6666666666666666, \"#ed7953\"], [0.7777777777777778, \"#fb9f3a\"], [0.8888888888888888, \"#fdca26\"], [1.0, \"#f0f921\"]], \"type\": \"surface\"}], \"table\": [{\"cells\": {\"fill\": {\"color\": \"#EBF0F8\"}, \"line\": {\"color\": \"white\"}}, \"header\": {\"fill\": {\"color\": \"#C8D4E3\"}, \"line\": {\"color\": \"white\"}}, \"type\": \"table\"}]}, \"layout\": {\"annotationdefaults\": {\"arrowcolor\": \"#2a3f5f\", \"arrowhead\": 0, \"arrowwidth\": 1}, \"coloraxis\": {\"colorbar\": {\"outlinewidth\": 0, \"ticks\": \"\"}}, \"colorscale\": {\"diverging\": [[0, \"#8e0152\"], [0.1, \"#c51b7d\"], [0.2, \"#de77ae\"], [0.3, \"#f1b6da\"], [0.4, \"#fde0ef\"], [0.5, \"#f7f7f7\"], [0.6, \"#e6f5d0\"], [0.7, \"#b8e186\"], [0.8, \"#7fbc41\"], [0.9, \"#4d9221\"], [1, \"#276419\"]], \"sequential\": [[0.0, \"#0d0887\"], [0.1111111111111111, \"#46039f\"], [0.2222222222222222, \"#7201a8\"], [0.3333333333333333, \"#9c179e\"], [0.4444444444444444, \"#bd3786\"], [0.5555555555555556, \"#d8576b\"], [0.6666666666666666, \"#ed7953\"], [0.7777777777777778, \"#fb9f3a\"], [0.8888888888888888, \"#fdca26\"], [1.0, \"#f0f921\"]], \"sequentialminus\": [[0.0, \"#0d0887\"], [0.1111111111111111, \"#46039f\"], [0.2222222222222222, \"#7201a8\"], [0.3333333333333333, \"#9c179e\"], [0.4444444444444444, \"#bd3786\"], [0.5555555555555556, \"#d8576b\"], [0.6666666666666666, \"#ed7953\"], [0.7777777777777778, \"#fb9f3a\"], [0.8888888888888888, \"#fdca26\"], [1.0, \"#f0f921\"]]}, \"colorway\": [\"#636efa\", \"#EF553B\", \"#00cc96\", \"#ab63fa\", \"#FFA15A\", \"#19d3f3\", \"#FF6692\", \"#B6E880\", \"#FF97FF\", \"#FECB52\"], \"font\": {\"color\": \"#2a3f5f\"}, \"geo\": {\"bgcolor\": \"white\", \"lakecolor\": \"white\", \"landcolor\": \"#E5ECF6\", \"showlakes\": true, \"showland\": true, \"subunitcolor\": \"white\"}, \"hoverlabel\": {\"align\": \"left\"}, \"hovermode\": \"closest\", \"mapbox\": {\"style\": \"light\"}, \"paper_bgcolor\": \"white\", \"plot_bgcolor\": \"#E5ECF6\", \"polar\": {\"angularaxis\": {\"gridcolor\": \"white\", \"linecolor\": \"white\", \"ticks\": \"\"}, \"bgcolor\": \"#E5ECF6\", \"radialaxis\": {\"gridcolor\": \"white\", \"linecolor\": \"white\", \"ticks\": \"\"}}, \"scene\": {\"xaxis\": {\"backgroundcolor\": \"#E5ECF6\", \"gridcolor\": \"white\", \"gridwidth\": 2, \"linecolor\": \"white\", \"showbackground\": true, \"ticks\": \"\", \"zerolinecolor\": \"white\"}, \"yaxis\": {\"backgroundcolor\": \"#E5ECF6\", \"gridcolor\": \"white\", \"gridwidth\": 2, \"linecolor\": \"white\", \"showbackground\": true, \"ticks\": \"\", \"zerolinecolor\": \"white\"}, \"zaxis\": {\"backgroundcolor\": \"#E5ECF6\", \"gridcolor\": \"white\", \"gridwidth\": 2, \"linecolor\": \"white\", \"showbackground\": true, \"ticks\": \"\", \"zerolinecolor\": \"white\"}}, \"shapedefaults\": {\"line\": {\"color\": \"#2a3f5f\"}}, \"ternary\": {\"aaxis\": {\"gridcolor\": \"white\", \"linecolor\": \"white\", \"ticks\": \"\"}, \"baxis\": {\"gridcolor\": \"white\", \"linecolor\": \"white\", \"ticks\": \"\"}, \"bgcolor\": \"#E5ECF6\", \"caxis\": {\"gridcolor\": \"white\", \"linecolor\": \"white\", \"ticks\": \"\"}}, \"title\": {\"x\": 0.05}, \"xaxis\": {\"automargin\": true, \"gridcolor\": \"white\", \"linecolor\": \"white\", \"ticks\": \"\", \"title\": {\"standoff\": 15}, \"zerolinecolor\": \"white\", \"zerolinewidth\": 2}, \"yaxis\": {\"automargin\": true, \"gridcolor\": \"white\", \"linecolor\": \"white\", \"ticks\": \"\", \"title\": {\"standoff\": 15}, \"zerolinecolor\": \"white\", \"zerolinewidth\": 2}}}, \"title\": {\"font\": {\"color\": \"#4D5663\"}, \"text\": \"Mes de integraci\\u00f3n\"}, \"xaxis\": {\"gridcolor\": \"#E1E5ED\", \"showgrid\": true, \"tickfont\": {\"color\": \"#4D5663\"}, \"title\": {\"font\": {\"color\": \"#4D5663\"}, \"text\": \"Mes\"}, \"zerolinecolor\": \"#E1E5ED\"}, \"yaxis\": {\"gridcolor\": \"#E1E5ED\", \"showgrid\": true, \"tickfont\": {\"color\": \"#4D5663\"}, \"title\": {\"font\": {\"color\": \"#4D5663\"}, \"text\": \"N. Empresas\"}, \"zerolinecolor\": \"#E1E5ED\"}},\n",
       "                        {\"showLink\": true, \"linkText\": \"Export to plot.ly\", \"plotlyServerURL\": \"https://plot.ly\", \"responsive\": true}\n",
       "                    ).then(function(){\n",
       "                            \n",
       "var gd = document.getElementById('390021f9-11a3-4b90-ae75-255399d6d6ab');\n",
       "var x = new MutationObserver(function (mutations, observer) {{\n",
       "        var display = window.getComputedStyle(gd).display;\n",
       "        if (!display || display === 'none') {{\n",
       "            console.log([gd, 'removed!']);\n",
       "            Plotly.purge(gd);\n",
       "            observer.disconnect();\n",
       "        }}\n",
       "}});\n",
       "\n",
       "// Listen for the removal of the full notebook cells\n",
       "var notebookContainer = gd.closest('#notebook-container');\n",
       "if (notebookContainer) {{\n",
       "    x.observe(notebookContainer, {childList: true});\n",
       "}}\n",
       "\n",
       "// Listen for the clearing of the current output cell\n",
       "var outputEl = gd.closest('.output');\n",
       "if (outputEl) {{\n",
       "    x.observe(outputEl, {childList: true});\n",
       "}}\n",
       "\n",
       "                        })\n",
       "                };\n",
       "                });\n",
       "            </script>\n",
       "        </div>"
      ]
     },
     "metadata": {},
     "output_type": "display_data"
    },
    {
     "data": {
      "application/vnd.plotly.v1+json": {
       "config": {
        "linkText": "Export to plot.ly",
        "plotlyServerURL": "https://plot.ly",
        "showLink": true
       },
       "data": [
        {
         "marker": {
          "color": "rgba(255, 153, 51, 0.6)",
          "line": {
           "color": "rgba(255, 153, 51, 1.0)",
           "width": 1
          }
         },
         "name": "Año",
         "orientation": "v",
         "text": "",
         "type": "bar",
         "x": [
          2010,
          2011,
          2012,
          2014,
          2016,
          2017,
          2019
         ],
         "y": [
          30,
          3,
          3,
          14,
          6,
          4,
          65
         ]
        }
       ],
       "layout": {
        "legend": {
         "bgcolor": "#F5F6F9",
         "font": {
          "color": "#4D5663"
         }
        },
        "paper_bgcolor": "#F5F6F9",
        "plot_bgcolor": "#F5F6F9",
        "template": {
         "data": {
          "bar": [
           {
            "error_x": {
             "color": "#2a3f5f"
            },
            "error_y": {
             "color": "#2a3f5f"
            },
            "marker": {
             "line": {
              "color": "#E5ECF6",
              "width": 0.5
             }
            },
            "type": "bar"
           }
          ],
          "barpolar": [
           {
            "marker": {
             "line": {
              "color": "#E5ECF6",
              "width": 0.5
             }
            },
            "type": "barpolar"
           }
          ],
          "carpet": [
           {
            "aaxis": {
             "endlinecolor": "#2a3f5f",
             "gridcolor": "white",
             "linecolor": "white",
             "minorgridcolor": "white",
             "startlinecolor": "#2a3f5f"
            },
            "baxis": {
             "endlinecolor": "#2a3f5f",
             "gridcolor": "white",
             "linecolor": "white",
             "minorgridcolor": "white",
             "startlinecolor": "#2a3f5f"
            },
            "type": "carpet"
           }
          ],
          "choropleth": [
           {
            "colorbar": {
             "outlinewidth": 0,
             "ticks": ""
            },
            "type": "choropleth"
           }
          ],
          "contour": [
           {
            "colorbar": {
             "outlinewidth": 0,
             "ticks": ""
            },
            "colorscale": [
             [
              0,
              "#0d0887"
             ],
             [
              0.1111111111111111,
              "#46039f"
             ],
             [
              0.2222222222222222,
              "#7201a8"
             ],
             [
              0.3333333333333333,
              "#9c179e"
             ],
             [
              0.4444444444444444,
              "#bd3786"
             ],
             [
              0.5555555555555556,
              "#d8576b"
             ],
             [
              0.6666666666666666,
              "#ed7953"
             ],
             [
              0.7777777777777778,
              "#fb9f3a"
             ],
             [
              0.8888888888888888,
              "#fdca26"
             ],
             [
              1,
              "#f0f921"
             ]
            ],
            "type": "contour"
           }
          ],
          "contourcarpet": [
           {
            "colorbar": {
             "outlinewidth": 0,
             "ticks": ""
            },
            "type": "contourcarpet"
           }
          ],
          "heatmap": [
           {
            "colorbar": {
             "outlinewidth": 0,
             "ticks": ""
            },
            "colorscale": [
             [
              0,
              "#0d0887"
             ],
             [
              0.1111111111111111,
              "#46039f"
             ],
             [
              0.2222222222222222,
              "#7201a8"
             ],
             [
              0.3333333333333333,
              "#9c179e"
             ],
             [
              0.4444444444444444,
              "#bd3786"
             ],
             [
              0.5555555555555556,
              "#d8576b"
             ],
             [
              0.6666666666666666,
              "#ed7953"
             ],
             [
              0.7777777777777778,
              "#fb9f3a"
             ],
             [
              0.8888888888888888,
              "#fdca26"
             ],
             [
              1,
              "#f0f921"
             ]
            ],
            "type": "heatmap"
           }
          ],
          "heatmapgl": [
           {
            "colorbar": {
             "outlinewidth": 0,
             "ticks": ""
            },
            "colorscale": [
             [
              0,
              "#0d0887"
             ],
             [
              0.1111111111111111,
              "#46039f"
             ],
             [
              0.2222222222222222,
              "#7201a8"
             ],
             [
              0.3333333333333333,
              "#9c179e"
             ],
             [
              0.4444444444444444,
              "#bd3786"
             ],
             [
              0.5555555555555556,
              "#d8576b"
             ],
             [
              0.6666666666666666,
              "#ed7953"
             ],
             [
              0.7777777777777778,
              "#fb9f3a"
             ],
             [
              0.8888888888888888,
              "#fdca26"
             ],
             [
              1,
              "#f0f921"
             ]
            ],
            "type": "heatmapgl"
           }
          ],
          "histogram": [
           {
            "marker": {
             "colorbar": {
              "outlinewidth": 0,
              "ticks": ""
             }
            },
            "type": "histogram"
           }
          ],
          "histogram2d": [
           {
            "colorbar": {
             "outlinewidth": 0,
             "ticks": ""
            },
            "colorscale": [
             [
              0,
              "#0d0887"
             ],
             [
              0.1111111111111111,
              "#46039f"
             ],
             [
              0.2222222222222222,
              "#7201a8"
             ],
             [
              0.3333333333333333,
              "#9c179e"
             ],
             [
              0.4444444444444444,
              "#bd3786"
             ],
             [
              0.5555555555555556,
              "#d8576b"
             ],
             [
              0.6666666666666666,
              "#ed7953"
             ],
             [
              0.7777777777777778,
              "#fb9f3a"
             ],
             [
              0.8888888888888888,
              "#fdca26"
             ],
             [
              1,
              "#f0f921"
             ]
            ],
            "type": "histogram2d"
           }
          ],
          "histogram2dcontour": [
           {
            "colorbar": {
             "outlinewidth": 0,
             "ticks": ""
            },
            "colorscale": [
             [
              0,
              "#0d0887"
             ],
             [
              0.1111111111111111,
              "#46039f"
             ],
             [
              0.2222222222222222,
              "#7201a8"
             ],
             [
              0.3333333333333333,
              "#9c179e"
             ],
             [
              0.4444444444444444,
              "#bd3786"
             ],
             [
              0.5555555555555556,
              "#d8576b"
             ],
             [
              0.6666666666666666,
              "#ed7953"
             ],
             [
              0.7777777777777778,
              "#fb9f3a"
             ],
             [
              0.8888888888888888,
              "#fdca26"
             ],
             [
              1,
              "#f0f921"
             ]
            ],
            "type": "histogram2dcontour"
           }
          ],
          "mesh3d": [
           {
            "colorbar": {
             "outlinewidth": 0,
             "ticks": ""
            },
            "type": "mesh3d"
           }
          ],
          "parcoords": [
           {
            "line": {
             "colorbar": {
              "outlinewidth": 0,
              "ticks": ""
             }
            },
            "type": "parcoords"
           }
          ],
          "pie": [
           {
            "automargin": true,
            "type": "pie"
           }
          ],
          "scatter": [
           {
            "marker": {
             "colorbar": {
              "outlinewidth": 0,
              "ticks": ""
             }
            },
            "type": "scatter"
           }
          ],
          "scatter3d": [
           {
            "line": {
             "colorbar": {
              "outlinewidth": 0,
              "ticks": ""
             }
            },
            "marker": {
             "colorbar": {
              "outlinewidth": 0,
              "ticks": ""
             }
            },
            "type": "scatter3d"
           }
          ],
          "scattercarpet": [
           {
            "marker": {
             "colorbar": {
              "outlinewidth": 0,
              "ticks": ""
             }
            },
            "type": "scattercarpet"
           }
          ],
          "scattergeo": [
           {
            "marker": {
             "colorbar": {
              "outlinewidth": 0,
              "ticks": ""
             }
            },
            "type": "scattergeo"
           }
          ],
          "scattergl": [
           {
            "marker": {
             "colorbar": {
              "outlinewidth": 0,
              "ticks": ""
             }
            },
            "type": "scattergl"
           }
          ],
          "scattermapbox": [
           {
            "marker": {
             "colorbar": {
              "outlinewidth": 0,
              "ticks": ""
             }
            },
            "type": "scattermapbox"
           }
          ],
          "scatterpolar": [
           {
            "marker": {
             "colorbar": {
              "outlinewidth": 0,
              "ticks": ""
             }
            },
            "type": "scatterpolar"
           }
          ],
          "scatterpolargl": [
           {
            "marker": {
             "colorbar": {
              "outlinewidth": 0,
              "ticks": ""
             }
            },
            "type": "scatterpolargl"
           }
          ],
          "scatterternary": [
           {
            "marker": {
             "colorbar": {
              "outlinewidth": 0,
              "ticks": ""
             }
            },
            "type": "scatterternary"
           }
          ],
          "surface": [
           {
            "colorbar": {
             "outlinewidth": 0,
             "ticks": ""
            },
            "colorscale": [
             [
              0,
              "#0d0887"
             ],
             [
              0.1111111111111111,
              "#46039f"
             ],
             [
              0.2222222222222222,
              "#7201a8"
             ],
             [
              0.3333333333333333,
              "#9c179e"
             ],
             [
              0.4444444444444444,
              "#bd3786"
             ],
             [
              0.5555555555555556,
              "#d8576b"
             ],
             [
              0.6666666666666666,
              "#ed7953"
             ],
             [
              0.7777777777777778,
              "#fb9f3a"
             ],
             [
              0.8888888888888888,
              "#fdca26"
             ],
             [
              1,
              "#f0f921"
             ]
            ],
            "type": "surface"
           }
          ],
          "table": [
           {
            "cells": {
             "fill": {
              "color": "#EBF0F8"
             },
             "line": {
              "color": "white"
             }
            },
            "header": {
             "fill": {
              "color": "#C8D4E3"
             },
             "line": {
              "color": "white"
             }
            },
            "type": "table"
           }
          ]
         },
         "layout": {
          "annotationdefaults": {
           "arrowcolor": "#2a3f5f",
           "arrowhead": 0,
           "arrowwidth": 1
          },
          "coloraxis": {
           "colorbar": {
            "outlinewidth": 0,
            "ticks": ""
           }
          },
          "colorscale": {
           "diverging": [
            [
             0,
             "#8e0152"
            ],
            [
             0.1,
             "#c51b7d"
            ],
            [
             0.2,
             "#de77ae"
            ],
            [
             0.3,
             "#f1b6da"
            ],
            [
             0.4,
             "#fde0ef"
            ],
            [
             0.5,
             "#f7f7f7"
            ],
            [
             0.6,
             "#e6f5d0"
            ],
            [
             0.7,
             "#b8e186"
            ],
            [
             0.8,
             "#7fbc41"
            ],
            [
             0.9,
             "#4d9221"
            ],
            [
             1,
             "#276419"
            ]
           ],
           "sequential": [
            [
             0,
             "#0d0887"
            ],
            [
             0.1111111111111111,
             "#46039f"
            ],
            [
             0.2222222222222222,
             "#7201a8"
            ],
            [
             0.3333333333333333,
             "#9c179e"
            ],
            [
             0.4444444444444444,
             "#bd3786"
            ],
            [
             0.5555555555555556,
             "#d8576b"
            ],
            [
             0.6666666666666666,
             "#ed7953"
            ],
            [
             0.7777777777777778,
             "#fb9f3a"
            ],
            [
             0.8888888888888888,
             "#fdca26"
            ],
            [
             1,
             "#f0f921"
            ]
           ],
           "sequentialminus": [
            [
             0,
             "#0d0887"
            ],
            [
             0.1111111111111111,
             "#46039f"
            ],
            [
             0.2222222222222222,
             "#7201a8"
            ],
            [
             0.3333333333333333,
             "#9c179e"
            ],
            [
             0.4444444444444444,
             "#bd3786"
            ],
            [
             0.5555555555555556,
             "#d8576b"
            ],
            [
             0.6666666666666666,
             "#ed7953"
            ],
            [
             0.7777777777777778,
             "#fb9f3a"
            ],
            [
             0.8888888888888888,
             "#fdca26"
            ],
            [
             1,
             "#f0f921"
            ]
           ]
          },
          "colorway": [
           "#636efa",
           "#EF553B",
           "#00cc96",
           "#ab63fa",
           "#FFA15A",
           "#19d3f3",
           "#FF6692",
           "#B6E880",
           "#FF97FF",
           "#FECB52"
          ],
          "font": {
           "color": "#2a3f5f"
          },
          "geo": {
           "bgcolor": "white",
           "lakecolor": "white",
           "landcolor": "#E5ECF6",
           "showlakes": true,
           "showland": true,
           "subunitcolor": "white"
          },
          "hoverlabel": {
           "align": "left"
          },
          "hovermode": "closest",
          "mapbox": {
           "style": "light"
          },
          "paper_bgcolor": "white",
          "plot_bgcolor": "#E5ECF6",
          "polar": {
           "angularaxis": {
            "gridcolor": "white",
            "linecolor": "white",
            "ticks": ""
           },
           "bgcolor": "#E5ECF6",
           "radialaxis": {
            "gridcolor": "white",
            "linecolor": "white",
            "ticks": ""
           }
          },
          "scene": {
           "xaxis": {
            "backgroundcolor": "#E5ECF6",
            "gridcolor": "white",
            "gridwidth": 2,
            "linecolor": "white",
            "showbackground": true,
            "ticks": "",
            "zerolinecolor": "white"
           },
           "yaxis": {
            "backgroundcolor": "#E5ECF6",
            "gridcolor": "white",
            "gridwidth": 2,
            "linecolor": "white",
            "showbackground": true,
            "ticks": "",
            "zerolinecolor": "white"
           },
           "zaxis": {
            "backgroundcolor": "#E5ECF6",
            "gridcolor": "white",
            "gridwidth": 2,
            "linecolor": "white",
            "showbackground": true,
            "ticks": "",
            "zerolinecolor": "white"
           }
          },
          "shapedefaults": {
           "line": {
            "color": "#2a3f5f"
           }
          },
          "ternary": {
           "aaxis": {
            "gridcolor": "white",
            "linecolor": "white",
            "ticks": ""
           },
           "baxis": {
            "gridcolor": "white",
            "linecolor": "white",
            "ticks": ""
           },
           "bgcolor": "#E5ECF6",
           "caxis": {
            "gridcolor": "white",
            "linecolor": "white",
            "ticks": ""
           }
          },
          "title": {
           "x": 0.05
          },
          "xaxis": {
           "automargin": true,
           "gridcolor": "white",
           "linecolor": "white",
           "ticks": "",
           "title": {
            "standoff": 15
           },
           "zerolinecolor": "white",
           "zerolinewidth": 2
          },
          "yaxis": {
           "automargin": true,
           "gridcolor": "white",
           "linecolor": "white",
           "ticks": "",
           "title": {
            "standoff": 15
           },
           "zerolinecolor": "white",
           "zerolinewidth": 2
          }
         }
        },
        "title": {
         "font": {
          "color": "#4D5663"
         },
         "text": "Año de integracion...."
        },
        "xaxis": {
         "gridcolor": "#E1E5ED",
         "showgrid": true,
         "tickfont": {
          "color": "#4D5663"
         },
         "title": {
          "font": {
           "color": "#4D5663"
          },
          "text": "Año"
         },
         "zerolinecolor": "#E1E5ED"
        },
        "yaxis": {
         "gridcolor": "#E1E5ED",
         "showgrid": true,
         "tickfont": {
          "color": "#4D5663"
         },
         "title": {
          "font": {
           "color": "#4D5663"
          },
          "text": "N. Empresas"
         },
         "zerolinecolor": "#E1E5ED"
        }
       }
      },
      "text/html": [
       "<div>\n",
       "        \n",
       "        \n",
       "            <div id=\"a3a92246-f960-4b74-a1c3-7ccd32e3c141\" class=\"plotly-graph-div\" style=\"height:525px; width:100%;\"></div>\n",
       "            <script type=\"text/javascript\">\n",
       "                require([\"plotly\"], function(Plotly) {\n",
       "                    window.PLOTLYENV=window.PLOTLYENV || {};\n",
       "                    window.PLOTLYENV.BASE_URL='https://plot.ly';\n",
       "                    \n",
       "                if (document.getElementById(\"a3a92246-f960-4b74-a1c3-7ccd32e3c141\")) {\n",
       "                    Plotly.newPlot(\n",
       "                        'a3a92246-f960-4b74-a1c3-7ccd32e3c141',\n",
       "                        [{\"marker\": {\"color\": \"rgba(255, 153, 51, 0.6)\", \"line\": {\"color\": \"rgba(255, 153, 51, 1.0)\", \"width\": 1}}, \"name\": \"A\\u00f1o\", \"orientation\": \"v\", \"text\": \"\", \"type\": \"bar\", \"x\": [2010, 2011, 2012, 2014, 2016, 2017, 2019], \"y\": [30, 3, 3, 14, 6, 4, 65]}],\n",
       "                        {\"legend\": {\"bgcolor\": \"#F5F6F9\", \"font\": {\"color\": \"#4D5663\"}}, \"paper_bgcolor\": \"#F5F6F9\", \"plot_bgcolor\": \"#F5F6F9\", \"template\": {\"data\": {\"bar\": [{\"error_x\": {\"color\": \"#2a3f5f\"}, \"error_y\": {\"color\": \"#2a3f5f\"}, \"marker\": {\"line\": {\"color\": \"#E5ECF6\", \"width\": 0.5}}, \"type\": \"bar\"}], \"barpolar\": [{\"marker\": {\"line\": {\"color\": \"#E5ECF6\", \"width\": 0.5}}, \"type\": \"barpolar\"}], \"carpet\": [{\"aaxis\": {\"endlinecolor\": \"#2a3f5f\", \"gridcolor\": \"white\", \"linecolor\": \"white\", \"minorgridcolor\": \"white\", \"startlinecolor\": \"#2a3f5f\"}, \"baxis\": {\"endlinecolor\": \"#2a3f5f\", \"gridcolor\": \"white\", \"linecolor\": \"white\", \"minorgridcolor\": \"white\", \"startlinecolor\": \"#2a3f5f\"}, \"type\": \"carpet\"}], \"choropleth\": [{\"colorbar\": {\"outlinewidth\": 0, \"ticks\": \"\"}, \"type\": \"choropleth\"}], \"contour\": [{\"colorbar\": {\"outlinewidth\": 0, \"ticks\": \"\"}, \"colorscale\": [[0.0, \"#0d0887\"], [0.1111111111111111, \"#46039f\"], [0.2222222222222222, \"#7201a8\"], [0.3333333333333333, \"#9c179e\"], [0.4444444444444444, \"#bd3786\"], [0.5555555555555556, \"#d8576b\"], [0.6666666666666666, \"#ed7953\"], [0.7777777777777778, \"#fb9f3a\"], [0.8888888888888888, \"#fdca26\"], [1.0, \"#f0f921\"]], \"type\": \"contour\"}], \"contourcarpet\": [{\"colorbar\": {\"outlinewidth\": 0, \"ticks\": \"\"}, \"type\": \"contourcarpet\"}], \"heatmap\": [{\"colorbar\": {\"outlinewidth\": 0, \"ticks\": \"\"}, \"colorscale\": [[0.0, \"#0d0887\"], [0.1111111111111111, \"#46039f\"], [0.2222222222222222, \"#7201a8\"], [0.3333333333333333, \"#9c179e\"], [0.4444444444444444, \"#bd3786\"], [0.5555555555555556, \"#d8576b\"], [0.6666666666666666, \"#ed7953\"], [0.7777777777777778, \"#fb9f3a\"], [0.8888888888888888, \"#fdca26\"], [1.0, \"#f0f921\"]], \"type\": \"heatmap\"}], \"heatmapgl\": [{\"colorbar\": {\"outlinewidth\": 0, \"ticks\": \"\"}, \"colorscale\": [[0.0, \"#0d0887\"], [0.1111111111111111, \"#46039f\"], [0.2222222222222222, \"#7201a8\"], [0.3333333333333333, \"#9c179e\"], [0.4444444444444444, \"#bd3786\"], [0.5555555555555556, \"#d8576b\"], [0.6666666666666666, \"#ed7953\"], [0.7777777777777778, \"#fb9f3a\"], [0.8888888888888888, \"#fdca26\"], [1.0, \"#f0f921\"]], \"type\": \"heatmapgl\"}], \"histogram\": [{\"marker\": {\"colorbar\": {\"outlinewidth\": 0, \"ticks\": \"\"}}, \"type\": \"histogram\"}], \"histogram2d\": [{\"colorbar\": {\"outlinewidth\": 0, \"ticks\": \"\"}, \"colorscale\": [[0.0, \"#0d0887\"], [0.1111111111111111, \"#46039f\"], [0.2222222222222222, \"#7201a8\"], [0.3333333333333333, \"#9c179e\"], [0.4444444444444444, \"#bd3786\"], [0.5555555555555556, \"#d8576b\"], [0.6666666666666666, \"#ed7953\"], [0.7777777777777778, \"#fb9f3a\"], [0.8888888888888888, \"#fdca26\"], [1.0, \"#f0f921\"]], \"type\": \"histogram2d\"}], \"histogram2dcontour\": [{\"colorbar\": {\"outlinewidth\": 0, \"ticks\": \"\"}, \"colorscale\": [[0.0, \"#0d0887\"], [0.1111111111111111, \"#46039f\"], [0.2222222222222222, \"#7201a8\"], [0.3333333333333333, \"#9c179e\"], [0.4444444444444444, \"#bd3786\"], [0.5555555555555556, \"#d8576b\"], [0.6666666666666666, \"#ed7953\"], [0.7777777777777778, \"#fb9f3a\"], [0.8888888888888888, \"#fdca26\"], [1.0, \"#f0f921\"]], \"type\": \"histogram2dcontour\"}], \"mesh3d\": [{\"colorbar\": {\"outlinewidth\": 0, \"ticks\": \"\"}, \"type\": \"mesh3d\"}], \"parcoords\": [{\"line\": {\"colorbar\": {\"outlinewidth\": 0, \"ticks\": \"\"}}, \"type\": \"parcoords\"}], \"pie\": [{\"automargin\": true, \"type\": \"pie\"}], \"scatter\": [{\"marker\": {\"colorbar\": {\"outlinewidth\": 0, \"ticks\": \"\"}}, \"type\": \"scatter\"}], \"scatter3d\": [{\"line\": {\"colorbar\": {\"outlinewidth\": 0, \"ticks\": \"\"}}, \"marker\": {\"colorbar\": {\"outlinewidth\": 0, \"ticks\": \"\"}}, \"type\": \"scatter3d\"}], \"scattercarpet\": [{\"marker\": {\"colorbar\": {\"outlinewidth\": 0, \"ticks\": \"\"}}, \"type\": \"scattercarpet\"}], \"scattergeo\": [{\"marker\": {\"colorbar\": {\"outlinewidth\": 0, \"ticks\": \"\"}}, \"type\": \"scattergeo\"}], \"scattergl\": [{\"marker\": {\"colorbar\": {\"outlinewidth\": 0, \"ticks\": \"\"}}, \"type\": \"scattergl\"}], \"scattermapbox\": [{\"marker\": {\"colorbar\": {\"outlinewidth\": 0, \"ticks\": \"\"}}, \"type\": \"scattermapbox\"}], \"scatterpolar\": [{\"marker\": {\"colorbar\": {\"outlinewidth\": 0, \"ticks\": \"\"}}, \"type\": \"scatterpolar\"}], \"scatterpolargl\": [{\"marker\": {\"colorbar\": {\"outlinewidth\": 0, \"ticks\": \"\"}}, \"type\": \"scatterpolargl\"}], \"scatterternary\": [{\"marker\": {\"colorbar\": {\"outlinewidth\": 0, \"ticks\": \"\"}}, \"type\": \"scatterternary\"}], \"surface\": [{\"colorbar\": {\"outlinewidth\": 0, \"ticks\": \"\"}, \"colorscale\": [[0.0, \"#0d0887\"], [0.1111111111111111, \"#46039f\"], [0.2222222222222222, \"#7201a8\"], [0.3333333333333333, \"#9c179e\"], [0.4444444444444444, \"#bd3786\"], [0.5555555555555556, \"#d8576b\"], [0.6666666666666666, \"#ed7953\"], [0.7777777777777778, \"#fb9f3a\"], [0.8888888888888888, \"#fdca26\"], [1.0, \"#f0f921\"]], \"type\": \"surface\"}], \"table\": [{\"cells\": {\"fill\": {\"color\": \"#EBF0F8\"}, \"line\": {\"color\": \"white\"}}, \"header\": {\"fill\": {\"color\": \"#C8D4E3\"}, \"line\": {\"color\": \"white\"}}, \"type\": \"table\"}]}, \"layout\": {\"annotationdefaults\": {\"arrowcolor\": \"#2a3f5f\", \"arrowhead\": 0, \"arrowwidth\": 1}, \"coloraxis\": {\"colorbar\": {\"outlinewidth\": 0, \"ticks\": \"\"}}, \"colorscale\": {\"diverging\": [[0, \"#8e0152\"], [0.1, \"#c51b7d\"], [0.2, \"#de77ae\"], [0.3, \"#f1b6da\"], [0.4, \"#fde0ef\"], [0.5, \"#f7f7f7\"], [0.6, \"#e6f5d0\"], [0.7, \"#b8e186\"], [0.8, \"#7fbc41\"], [0.9, \"#4d9221\"], [1, \"#276419\"]], \"sequential\": [[0.0, \"#0d0887\"], [0.1111111111111111, \"#46039f\"], [0.2222222222222222, \"#7201a8\"], [0.3333333333333333, \"#9c179e\"], [0.4444444444444444, \"#bd3786\"], [0.5555555555555556, \"#d8576b\"], [0.6666666666666666, \"#ed7953\"], [0.7777777777777778, \"#fb9f3a\"], [0.8888888888888888, \"#fdca26\"], [1.0, \"#f0f921\"]], \"sequentialminus\": [[0.0, \"#0d0887\"], [0.1111111111111111, \"#46039f\"], [0.2222222222222222, \"#7201a8\"], [0.3333333333333333, \"#9c179e\"], [0.4444444444444444, \"#bd3786\"], [0.5555555555555556, \"#d8576b\"], [0.6666666666666666, \"#ed7953\"], [0.7777777777777778, \"#fb9f3a\"], [0.8888888888888888, \"#fdca26\"], [1.0, \"#f0f921\"]]}, \"colorway\": [\"#636efa\", \"#EF553B\", \"#00cc96\", \"#ab63fa\", \"#FFA15A\", \"#19d3f3\", \"#FF6692\", \"#B6E880\", \"#FF97FF\", \"#FECB52\"], \"font\": {\"color\": \"#2a3f5f\"}, \"geo\": {\"bgcolor\": \"white\", \"lakecolor\": \"white\", \"landcolor\": \"#E5ECF6\", \"showlakes\": true, \"showland\": true, \"subunitcolor\": \"white\"}, \"hoverlabel\": {\"align\": \"left\"}, \"hovermode\": \"closest\", \"mapbox\": {\"style\": \"light\"}, \"paper_bgcolor\": \"white\", \"plot_bgcolor\": \"#E5ECF6\", \"polar\": {\"angularaxis\": {\"gridcolor\": \"white\", \"linecolor\": \"white\", \"ticks\": \"\"}, \"bgcolor\": \"#E5ECF6\", \"radialaxis\": {\"gridcolor\": \"white\", \"linecolor\": \"white\", \"ticks\": \"\"}}, \"scene\": {\"xaxis\": {\"backgroundcolor\": \"#E5ECF6\", \"gridcolor\": \"white\", \"gridwidth\": 2, \"linecolor\": \"white\", \"showbackground\": true, \"ticks\": \"\", \"zerolinecolor\": \"white\"}, \"yaxis\": {\"backgroundcolor\": \"#E5ECF6\", \"gridcolor\": \"white\", \"gridwidth\": 2, \"linecolor\": \"white\", \"showbackground\": true, \"ticks\": \"\", \"zerolinecolor\": \"white\"}, \"zaxis\": {\"backgroundcolor\": \"#E5ECF6\", \"gridcolor\": \"white\", \"gridwidth\": 2, \"linecolor\": \"white\", \"showbackground\": true, \"ticks\": \"\", \"zerolinecolor\": \"white\"}}, \"shapedefaults\": {\"line\": {\"color\": \"#2a3f5f\"}}, \"ternary\": {\"aaxis\": {\"gridcolor\": \"white\", \"linecolor\": \"white\", \"ticks\": \"\"}, \"baxis\": {\"gridcolor\": \"white\", \"linecolor\": \"white\", \"ticks\": \"\"}, \"bgcolor\": \"#E5ECF6\", \"caxis\": {\"gridcolor\": \"white\", \"linecolor\": \"white\", \"ticks\": \"\"}}, \"title\": {\"x\": 0.05}, \"xaxis\": {\"automargin\": true, \"gridcolor\": \"white\", \"linecolor\": \"white\", \"ticks\": \"\", \"title\": {\"standoff\": 15}, \"zerolinecolor\": \"white\", \"zerolinewidth\": 2}, \"yaxis\": {\"automargin\": true, \"gridcolor\": \"white\", \"linecolor\": \"white\", \"ticks\": \"\", \"title\": {\"standoff\": 15}, \"zerolinecolor\": \"white\", \"zerolinewidth\": 2}}}, \"title\": {\"font\": {\"color\": \"#4D5663\"}, \"text\": \"A\\u00f1o de integracion....\"}, \"xaxis\": {\"gridcolor\": \"#E1E5ED\", \"showgrid\": true, \"tickfont\": {\"color\": \"#4D5663\"}, \"title\": {\"font\": {\"color\": \"#4D5663\"}, \"text\": \"A\\u00f1o\"}, \"zerolinecolor\": \"#E1E5ED\"}, \"yaxis\": {\"gridcolor\": \"#E1E5ED\", \"showgrid\": true, \"tickfont\": {\"color\": \"#4D5663\"}, \"title\": {\"font\": {\"color\": \"#4D5663\"}, \"text\": \"N. Empresas\"}, \"zerolinecolor\": \"#E1E5ED\"}},\n",
       "                        {\"showLink\": true, \"linkText\": \"Export to plot.ly\", \"plotlyServerURL\": \"https://plot.ly\", \"responsive\": true}\n",
       "                    ).then(function(){\n",
       "                            \n",
       "var gd = document.getElementById('a3a92246-f960-4b74-a1c3-7ccd32e3c141');\n",
       "var x = new MutationObserver(function (mutations, observer) {{\n",
       "        var display = window.getComputedStyle(gd).display;\n",
       "        if (!display || display === 'none') {{\n",
       "            console.log([gd, 'removed!']);\n",
       "            Plotly.purge(gd);\n",
       "            observer.disconnect();\n",
       "        }}\n",
       "}});\n",
       "\n",
       "// Listen for the removal of the full notebook cells\n",
       "var notebookContainer = gd.closest('#notebook-container');\n",
       "if (notebookContainer) {{\n",
       "    x.observe(notebookContainer, {childList: true});\n",
       "}}\n",
       "\n",
       "// Listen for the clearing of the current output cell\n",
       "var outputEl = gd.closest('.output');\n",
       "if (outputEl) {{\n",
       "    x.observe(outputEl, {childList: true});\n",
       "}}\n",
       "\n",
       "                        })\n",
       "                };\n",
       "                });\n",
       "            </script>\n",
       "        </div>"
      ]
     },
     "metadata": {},
     "output_type": "display_data"
    },
    {
     "data": {
      "image/png": "[encoded data removed]",
      "text/plain": [
       "<Figure size 432x288 with 1 Axes>"
      ]
     },
     "metadata": {},
     "output_type": "display_data"
    },
    {
     "data": {
      "image/png": "[encoded data removed]",
      "text/plain": [
       "<Figure size 432x288 with 1 Axes>"
      ]
     },
     "metadata": {},
     "output_type": "display_data"
    }
   ],
   "source": [
    "gm.iplot(x='index', y='Mes',kind='bar', xTitle='Mes',yTitle='N. Empresas', title='Mes de integración')\n",
    "gk.iplot(x='index', y='Año',kind='bar', xTitle='Año',yTitle='N. Empresas', title='Año de integracion....')\n",
    "ax = sns.barplot(x = 'index', y = 'Mes', data = gm, color = 'b')\n",
    "ax.set(xlabel='Mes de integración', ylabel='Numero de empresas')\n",
    "ax.figure.savefig('../images/Mes {}.png'.format(giro))\n",
    "plt.show()\n",
    "a2 = sns.barplot(x = 'index', y = 'Año', data = gk, color = 'g')\n",
    "a2.set(xlabel='Año de integración', ylabel='Numero de empresas')\n",
    "a2.figure.savefig('../images/Año {}.png'.format(giro))\n",
    "plt.show()\n",
    "\n"
   ]
  },
  {
   "cell_type": "code",
   "execution_count": null,
   "metadata": {},
   "outputs": [],
   "source": [
    "mask=(gk[\"index\"] > 2011) & (gk[\"index\"] < 2019)\n",
    "gk.loc[mask]\n"
   ]
  },
  {
   "cell_type": "code",
   "execution_count": null,
   "metadata": {},
   "outputs": [],
   "source": [
    "#Indice nacional de precios al consumidor"
   ]
  },
  {
   "cell_type": "code",
   "execution_count": 14,
   "metadata": {},
   "outputs": [
    {
     "data": {
      "text/html": [
       "<div>\n",
       "<style scoped>\n",
       "    .dataframe tbody tr th:only-of-type {\n",
       "        vertical-align: middle;\n",
       "    }\n",
       "\n",
       "    .dataframe tbody tr th {\n",
       "        vertical-align: top;\n",
       "    }\n",
       "\n",
       "    .dataframe thead th {\n",
       "        text-align: right;\n",
       "    }\n",
       "</style>\n",
       "<table border=\"1\" class=\"dataframe\">\n",
       "  <thead>\n",
       "    <tr style=\"text-align: right;\">\n",
       "      <th></th>\n",
       "      <th>Unnamed: 0</th>\n",
       "      <th>AGEB</th>\n",
       "      <th>MZA</th>\n",
       "      <th>POBTOT</th>\n",
       "      <th>POBMAS</th>\n",
       "      <th>POBFEM</th>\n",
       "      <th>PEA</th>\n",
       "      <th>PEA_M</th>\n",
       "      <th>PEA_F</th>\n",
       "      <th>PE_INAC</th>\n",
       "      <th>PE_INAC_M</th>\n",
       "      <th>PE_INAC_F</th>\n",
       "      <th>clave</th>\n",
       "    </tr>\n",
       "  </thead>\n",
       "  <tbody>\n",
       "    <tr>\n",
       "      <th>0</th>\n",
       "      <td>0</td>\n",
       "      <td>0000</td>\n",
       "      <td>0</td>\n",
       "      <td>8851080</td>\n",
       "      <td>4233783</td>\n",
       "      <td>4617297</td>\n",
       "      <td>4035075</td>\n",
       "      <td>2389679</td>\n",
       "      <td>1645396</td>\n",
       "      <td>3017165</td>\n",
       "      <td>920594</td>\n",
       "      <td>2096571</td>\n",
       "      <td>0000-0</td>\n",
       "    </tr>\n",
       "    <tr>\n",
       "      <th>1</th>\n",
       "      <td>1</td>\n",
       "      <td>0000</td>\n",
       "      <td>0</td>\n",
       "      <td>414711</td>\n",
       "      <td>196053</td>\n",
       "      <td>218658</td>\n",
       "      <td>187402</td>\n",
       "      <td>108940</td>\n",
       "      <td>78462</td>\n",
       "      <td>151520</td>\n",
       "      <td>48844</td>\n",
       "      <td>102676</td>\n",
       "      <td>0000-0</td>\n",
       "    </tr>\n",
       "    <tr>\n",
       "      <th>2</th>\n",
       "      <td>2</td>\n",
       "      <td>0000</td>\n",
       "      <td>0</td>\n",
       "      <td>414711</td>\n",
       "      <td>196053</td>\n",
       "      <td>218658</td>\n",
       "      <td>187402</td>\n",
       "      <td>108940</td>\n",
       "      <td>78462</td>\n",
       "      <td>151520</td>\n",
       "      <td>48844</td>\n",
       "      <td>102676</td>\n",
       "      <td>0000-0</td>\n",
       "    </tr>\n",
       "    <tr>\n",
       "      <th>3</th>\n",
       "      <td>3</td>\n",
       "      <td>0010</td>\n",
       "      <td>0</td>\n",
       "      <td>3424</td>\n",
       "      <td>1600</td>\n",
       "      <td>1824</td>\n",
       "      <td>1398</td>\n",
       "      <td>789</td>\n",
       "      <td>609</td>\n",
       "      <td>1511</td>\n",
       "      <td>552</td>\n",
       "      <td>959</td>\n",
       "      <td>0010-0</td>\n",
       "    </tr>\n",
       "    <tr>\n",
       "      <th>4</th>\n",
       "      <td>4</td>\n",
       "      <td>0010</td>\n",
       "      <td>1</td>\n",
       "      <td>202</td>\n",
       "      <td>96</td>\n",
       "      <td>106</td>\n",
       "      <td>75</td>\n",
       "      <td>47</td>\n",
       "      <td>28</td>\n",
       "      <td>97</td>\n",
       "      <td>37</td>\n",
       "      <td>60</td>\n",
       "      <td>0010-1</td>\n",
       "    </tr>\n",
       "  </tbody>\n",
       "</table>\n",
       "</div>"
      ],
      "text/plain": [
       "   Unnamed: 0  AGEB  MZA   POBTOT   POBMAS   POBFEM      PEA    PEA_M  \\\n",
       "0           0  0000    0  8851080  4233783  4617297  4035075  2389679   \n",
       "1           1  0000    0   414711   196053   218658   187402   108940   \n",
       "2           2  0000    0   414711   196053   218658   187402   108940   \n",
       "3           3  0010    0     3424     1600     1824     1398      789   \n",
       "4           4  0010    1      202       96      106       75       47   \n",
       "\n",
       "     PEA_F  PE_INAC PE_INAC_M PE_INAC_F   clave  \n",
       "0  1645396  3017165    920594   2096571  0000-0  \n",
       "1    78462   151520     48844    102676  0000-0  \n",
       "2    78462   151520     48844    102676  0000-0  \n",
       "3      609     1511       552       959  0010-0  \n",
       "4       28       97        37        60  0010-1  "
      ]
     },
     "execution_count": 14,
     "metadata": {},
     "output_type": "execute_result"
    }
   ],
   "source": [
    "poblaT = pd.read_csv('../pobclave.csv')\n",
    "poblaT.head()"
   ]
  },
  {
   "cell_type": "code",
   "execution_count": null,
   "metadata": {},
   "outputs": [],
   "source": [
    "d.info()\n",
    "d.head()"
   ]
  },
  {
   "cell_type": "code",
   "execution_count": 34,
   "metadata": {
    "scrolled": true
   },
   "outputs": [
    {
     "name": "stdout",
     "output_type": "stream",
     "text": [
      "86\n",
      "9794\n",
      "4839\n",
      "4951\n",
      "5695\n",
      "3177\n",
      "2513\n"
     ]
    }
   ],
   "source": [
    "p=d.clave\n",
    "len(p)\n",
    "dx=poblaT[poblaT[\"clave\"].isin(p)]\n",
    "print(len(dx))\n",
    "\n",
    "dx[\"POBMAS\"]=dx.POBMAS.str.replace('*' , '0').astype(int)\n",
    "dx[\"POBFEM\"]=dx.POBFEM.str.replace('*' , '0').astype(int)\n",
    "dx[\"PEA\"]=dx.PEA.str.replace('*' , '0').astype(int)\n",
    "dx[\"PEA_M\"]=dx.PEA_M.str.replace('*' , '0').astype(int)\n",
    "dx[\"PEA_F\"]=dx.PEA_F.str.replace('*' , '0').astype(int)\n",
    "print(dx.POBTOT.sum())\n",
    "print(dx.POBMAS.sum())\n",
    "print(dx.POBFEM.sum())\n",
    "print(dx.PEA.sum())\n",
    "print(dx.PEA_M.sum())\n",
    "print(dx.PEA_F.sum())"
   ]
  },
  {
   "cell_type": "code",
   "execution_count": 64,
   "metadata": {},
   "outputs": [
    {
     "data": {
      "text/plain": [
       "''"
      ]
     },
     "execution_count": 64,
     "metadata": {},
     "output_type": "execute_result"
    }
   ],
   "source": [
    "from fpdf import FPDF\n",
    " \n",
    "pdf = FPDF()\n",
    "pdf.add_page()\n",
    "pdf.set_font(\"Arial\", size=12)\n",
    "pdf.cell(200, 10, txt=\"Analisis de Supervivencia de Pymes en CDMX\", ln=2, align=\"C\")\n",
    "pdf.cell(100, 10, txt=\"La palabra de busqueda es: {}, con longitud {} y latitud {} \".format(giro,long,lat), ln=1)\n",
    "pdf.cell(100, 10, txt=\"Esta busqueda genera toda la competencia tanto indirecta como directa en un rango de {} mts.\".format(mts), ln=1)\n",
    "pdf.image('sol.jpg', x=8, y=20, w=200, h=60, type = '', link = '')\n",
    "pdf.output(\"simple_demo.pdf\",'F')"
   ]
  },
  {
   "cell_type": "code",
   "execution_count": null,
   "metadata": {},
   "outputs": [],
   "source": []
  }
 ],
 "metadata": {
  "kernelspec": {
   "display_name": "Python 3",
   "language": "python",
   "name": "python3"
  },
  "language_info": {
   "codemirror_mode": {
    "name": "ipython",
    "version": 3
   },
   "file_extension": ".py",
   "mimetype": "text/x-python",
   "name": "python",
   "nbconvert_exporter": "python",
   "pygments_lexer": "ipython3",
   "version": "3.7.3"
  }
 },
 "nbformat": 4,
 "nbformat_minor": 2
}
