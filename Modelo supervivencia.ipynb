{
 "cells": [
  {
   "cell_type": "code",
   "execution_count": 1,
   "metadata": {},
   "outputs": [],
   "source": [
    "import json\n",
    "import requests\n",
    "import pandas as pd\n",
    "import folium \n"
   ]
  },
  {
   "cell_type": "code",
   "execution_count": 25,
   "metadata": {},
   "outputs": [],
   "source": [
    "giro=\"pizza\"\n",
    "long=19.421336 \n",
    "lat=-99.162700\n",
    "mts=1000"
   ]
  },
  {
   "cell_type": "code",
   "execution_count": 26,
   "metadata": {},
   "outputs": [
    {
     "data": {
      "text/html": [
       "<div>\n",
       "<style scoped>\n",
       "    .dataframe tbody tr th:only-of-type {\n",
       "        vertical-align: middle;\n",
       "    }\n",
       "\n",
       "    .dataframe tbody tr th {\n",
       "        vertical-align: top;\n",
       "    }\n",
       "\n",
       "    .dataframe thead th {\n",
       "        text-align: right;\n",
       "    }\n",
       "</style>\n",
       "<table border=\"1\" class=\"dataframe\">\n",
       "  <thead>\n",
       "    <tr style=\"text-align: right;\">\n",
       "      <th></th>\n",
       "      <th>CP</th>\n",
       "      <th>Calle</th>\n",
       "      <th>CentroComercial</th>\n",
       "      <th>Clase_actividad</th>\n",
       "      <th>Colonia</th>\n",
       "      <th>Correo_e</th>\n",
       "      <th>Estrato</th>\n",
       "      <th>Id</th>\n",
       "      <th>Latitud</th>\n",
       "      <th>Longitud</th>\n",
       "      <th>...</th>\n",
       "      <th>NumLocal</th>\n",
       "      <th>Num_Exterior</th>\n",
       "      <th>Num_Interior</th>\n",
       "      <th>Razon_social</th>\n",
       "      <th>Sitio_internet</th>\n",
       "      <th>Telefono</th>\n",
       "      <th>Tipo</th>\n",
       "      <th>TipoCentroComercial</th>\n",
       "      <th>Tipo_vialidad</th>\n",
       "      <th>Ubicacion</th>\n",
       "    </tr>\n",
       "  </thead>\n",
       "  <tbody>\n",
       "    <tr>\n",
       "      <th>0</th>\n",
       "      <td>06700</td>\n",
       "      <td>TONALA</td>\n",
       "      <td></td>\n",
       "      <td>Restaurantes con servicio de preparación de pi...</td>\n",
       "      <td>ROMA NORTE</td>\n",
       "      <td></td>\n",
       "      <td>0 a 5 personas</td>\n",
       "      <td>1028244</td>\n",
       "      <td>19.42129060</td>\n",
       "      <td>-99.16351282</td>\n",
       "      <td>...</td>\n",
       "      <td></td>\n",
       "      <td></td>\n",
       "      <td></td>\n",
       "      <td></td>\n",
       "      <td></td>\n",
       "      <td></td>\n",
       "      <td>Semifijo</td>\n",
       "      <td></td>\n",
       "      <td>CALLE</td>\n",
       "      <td>CUAUHTÉMOC, Cuauhtémoc, CIUDAD DE MÉXICO</td>\n",
       "    </tr>\n",
       "    <tr>\n",
       "      <th>1</th>\n",
       "      <td>06700</td>\n",
       "      <td>PUEBLA</td>\n",
       "      <td></td>\n",
       "      <td>Restaurantes con servicio de preparación de pi...</td>\n",
       "      <td>ROMA NORTE</td>\n",
       "      <td></td>\n",
       "      <td>0 a 5 personas</td>\n",
       "      <td>895093</td>\n",
       "      <td>19.42222148</td>\n",
       "      <td>-99.16321337</td>\n",
       "      <td>...</td>\n",
       "      <td></td>\n",
       "      <td></td>\n",
       "      <td></td>\n",
       "      <td></td>\n",
       "      <td></td>\n",
       "      <td></td>\n",
       "      <td>Semifijo</td>\n",
       "      <td></td>\n",
       "      <td>CALLE</td>\n",
       "      <td>CUAUHTÉMOC, Cuauhtémoc, CIUDAD DE MÉXICO</td>\n",
       "    </tr>\n",
       "    <tr>\n",
       "      <th>2</th>\n",
       "      <td>06700</td>\n",
       "      <td>TONALA</td>\n",
       "      <td></td>\n",
       "      <td>Restaurantes con servicio de preparación de pi...</td>\n",
       "      <td>ROMA NORTE</td>\n",
       "      <td></td>\n",
       "      <td>0 a 5 personas</td>\n",
       "      <td>7732170</td>\n",
       "      <td>19.42034204</td>\n",
       "      <td>-99.16312414</td>\n",
       "      <td>...</td>\n",
       "      <td></td>\n",
       "      <td>32</td>\n",
       "      <td></td>\n",
       "      <td></td>\n",
       "      <td></td>\n",
       "      <td>5528748924</td>\n",
       "      <td>Semifijo</td>\n",
       "      <td></td>\n",
       "      <td>CALLE</td>\n",
       "      <td>CUAUHTÉMOC, Cuauhtémoc, CIUDAD DE MÉXICO</td>\n",
       "    </tr>\n",
       "    <tr>\n",
       "      <th>3</th>\n",
       "      <td>06600</td>\n",
       "      <td>CHAPULTEPEC</td>\n",
       "      <td></td>\n",
       "      <td>Restaurantes con servicio de preparación de pi...</td>\n",
       "      <td>JUAREZ</td>\n",
       "      <td></td>\n",
       "      <td>0 a 5 personas</td>\n",
       "      <td>8859086</td>\n",
       "      <td>19.42308733</td>\n",
       "      <td>-99.16297729</td>\n",
       "      <td>...</td>\n",
       "      <td></td>\n",
       "      <td>2</td>\n",
       "      <td></td>\n",
       "      <td></td>\n",
       "      <td>WWW.CORNELIOSPIZZA.COM.MX</td>\n",
       "      <td>5520747715</td>\n",
       "      <td>Fijo</td>\n",
       "      <td></td>\n",
       "      <td>AVENIDA</td>\n",
       "      <td>CUAUHTÉMOC, Cuauhtémoc, CIUDAD DE MÉXICO</td>\n",
       "    </tr>\n",
       "    <tr>\n",
       "      <th>4</th>\n",
       "      <td>06700</td>\n",
       "      <td>ORIZABA</td>\n",
       "      <td></td>\n",
       "      <td>Restaurantes con servicio de preparación de pi...</td>\n",
       "      <td>ROMA NORTE</td>\n",
       "      <td></td>\n",
       "      <td>0 a 5 personas</td>\n",
       "      <td>1029598</td>\n",
       "      <td>19.42006506</td>\n",
       "      <td>-99.16028986</td>\n",
       "      <td>...</td>\n",
       "      <td></td>\n",
       "      <td></td>\n",
       "      <td></td>\n",
       "      <td></td>\n",
       "      <td></td>\n",
       "      <td></td>\n",
       "      <td>Semifijo</td>\n",
       "      <td></td>\n",
       "      <td>CALLE</td>\n",
       "      <td>CUAUHTÉMOC, Cuauhtémoc, CIUDAD DE MÉXICO</td>\n",
       "    </tr>\n",
       "  </tbody>\n",
       "</table>\n",
       "<p>5 rows × 21 columns</p>\n",
       "</div>"
      ],
      "text/plain": [
       "      CP        Calle CentroComercial  \\\n",
       "0  06700       TONALA                   \n",
       "1  06700       PUEBLA                   \n",
       "2  06700       TONALA                   \n",
       "3  06600  CHAPULTEPEC                   \n",
       "4  06700      ORIZABA                   \n",
       "\n",
       "                                     Clase_actividad     Colonia Correo_e  \\\n",
       "0  Restaurantes con servicio de preparación de pi...  ROMA NORTE            \n",
       "1  Restaurantes con servicio de preparación de pi...  ROMA NORTE            \n",
       "2  Restaurantes con servicio de preparación de pi...  ROMA NORTE            \n",
       "3  Restaurantes con servicio de preparación de pi...      JUAREZ            \n",
       "4  Restaurantes con servicio de preparación de pi...  ROMA NORTE            \n",
       "\n",
       "          Estrato       Id      Latitud      Longitud  ... NumLocal  \\\n",
       "0  0 a 5 personas  1028244  19.42129060  -99.16351282  ...            \n",
       "1  0 a 5 personas   895093  19.42222148  -99.16321337  ...            \n",
       "2  0 a 5 personas  7732170  19.42034204  -99.16312414  ...            \n",
       "3  0 a 5 personas  8859086  19.42308733  -99.16297729  ...            \n",
       "4  0 a 5 personas  1029598  19.42006506  -99.16028986  ...            \n",
       "\n",
       "  Num_Exterior Num_Interior Razon_social             Sitio_internet  \\\n",
       "0                                                                     \n",
       "1                                                                     \n",
       "2           32                                                        \n",
       "3            2                            WWW.CORNELIOSPIZZA.COM.MX   \n",
       "4                                                                     \n",
       "\n",
       "     Telefono      Tipo TipoCentroComercial Tipo_vialidad  \\\n",
       "0              Semifijo                             CALLE   \n",
       "1              Semifijo                             CALLE   \n",
       "2  5528748924  Semifijo                             CALLE   \n",
       "3  5520747715      Fijo                           AVENIDA   \n",
       "4              Semifijo                             CALLE   \n",
       "\n",
       "                                  Ubicacion  \n",
       "0  CUAUHTÉMOC, Cuauhtémoc, CIUDAD DE MÉXICO  \n",
       "1  CUAUHTÉMOC, Cuauhtémoc, CIUDAD DE MÉXICO  \n",
       "2  CUAUHTÉMOC, Cuauhtémoc, CIUDAD DE MÉXICO  \n",
       "3  CUAUHTÉMOC, Cuauhtémoc, CIUDAD DE MÉXICO  \n",
       "4  CUAUHTÉMOC, Cuauhtémoc, CIUDAD DE MÉXICO  \n",
       "\n",
       "[5 rows x 21 columns]"
      ]
     },
     "execution_count": 26,
     "metadata": {},
     "output_type": "execute_result"
    }
   ],
   "source": [
    "response = requests.get(\"https://www.inegi.org.mx/app/api/denue/v1/consulta/Buscar/{}/{},{}/{}/44522d01-cae7-455b-9b53-7fc7d481cecb\".format(giro,long,lat,mts))\n",
    "results = response.json()\n",
    "\n",
    "data = pd.DataFrame(response.json())\n",
    "data.head()"
   ]
  },
  {
   "cell_type": "code",
   "execution_count": 27,
   "metadata": {},
   "outputs": [
    {
     "data": {
      "text/html": [
       "<div>\n",
       "<style scoped>\n",
       "    .dataframe tbody tr th:only-of-type {\n",
       "        vertical-align: middle;\n",
       "    }\n",
       "\n",
       "    .dataframe tbody tr th {\n",
       "        vertical-align: top;\n",
       "    }\n",
       "\n",
       "    .dataframe thead th {\n",
       "        text-align: right;\n",
       "    }\n",
       "</style>\n",
       "<table border=\"1\" class=\"dataframe\">\n",
       "  <thead>\n",
       "    <tr style=\"text-align: right;\">\n",
       "      <th></th>\n",
       "      <th>CP</th>\n",
       "      <th>Calle</th>\n",
       "      <th>CentroComercial</th>\n",
       "      <th>Clase_actividad</th>\n",
       "      <th>Colonia</th>\n",
       "      <th>Correo_e</th>\n",
       "      <th>Estrato</th>\n",
       "      <th>Id</th>\n",
       "      <th>Latitud</th>\n",
       "      <th>Longitud</th>\n",
       "      <th>...</th>\n",
       "      <th>NumLocal</th>\n",
       "      <th>Num_Exterior</th>\n",
       "      <th>Num_Interior</th>\n",
       "      <th>Razon_social</th>\n",
       "      <th>Sitio_internet</th>\n",
       "      <th>Telefono</th>\n",
       "      <th>Tipo</th>\n",
       "      <th>TipoCentroComercial</th>\n",
       "      <th>Tipo_vialidad</th>\n",
       "      <th>Ubicacion</th>\n",
       "    </tr>\n",
       "  </thead>\n",
       "  <tbody>\n",
       "    <tr>\n",
       "      <th>0</th>\n",
       "      <td>06700</td>\n",
       "      <td>TONALA</td>\n",
       "      <td></td>\n",
       "      <td>Restaurantes con servicio de preparación de pi...</td>\n",
       "      <td>ROMA NORTE</td>\n",
       "      <td></td>\n",
       "      <td>0 a 5 personas</td>\n",
       "      <td>1028244</td>\n",
       "      <td>19.42129060</td>\n",
       "      <td>-99.16351282</td>\n",
       "      <td>...</td>\n",
       "      <td></td>\n",
       "      <td></td>\n",
       "      <td></td>\n",
       "      <td></td>\n",
       "      <td></td>\n",
       "      <td></td>\n",
       "      <td>Semifijo</td>\n",
       "      <td></td>\n",
       "      <td>CALLE</td>\n",
       "      <td>CUAUHTÉMOC, Cuauhtémoc, CIUDAD DE MÉXICO</td>\n",
       "    </tr>\n",
       "    <tr>\n",
       "      <th>1</th>\n",
       "      <td>06700</td>\n",
       "      <td>PUEBLA</td>\n",
       "      <td></td>\n",
       "      <td>Restaurantes con servicio de preparación de pi...</td>\n",
       "      <td>ROMA NORTE</td>\n",
       "      <td></td>\n",
       "      <td>0 a 5 personas</td>\n",
       "      <td>895093</td>\n",
       "      <td>19.42222148</td>\n",
       "      <td>-99.16321337</td>\n",
       "      <td>...</td>\n",
       "      <td></td>\n",
       "      <td></td>\n",
       "      <td></td>\n",
       "      <td></td>\n",
       "      <td></td>\n",
       "      <td></td>\n",
       "      <td>Semifijo</td>\n",
       "      <td></td>\n",
       "      <td>CALLE</td>\n",
       "      <td>CUAUHTÉMOC, Cuauhtémoc, CIUDAD DE MÉXICO</td>\n",
       "    </tr>\n",
       "    <tr>\n",
       "      <th>2</th>\n",
       "      <td>06700</td>\n",
       "      <td>TONALA</td>\n",
       "      <td></td>\n",
       "      <td>Restaurantes con servicio de preparación de pi...</td>\n",
       "      <td>ROMA NORTE</td>\n",
       "      <td></td>\n",
       "      <td>0 a 5 personas</td>\n",
       "      <td>7732170</td>\n",
       "      <td>19.42034204</td>\n",
       "      <td>-99.16312414</td>\n",
       "      <td>...</td>\n",
       "      <td></td>\n",
       "      <td>32</td>\n",
       "      <td></td>\n",
       "      <td></td>\n",
       "      <td></td>\n",
       "      <td>5528748924</td>\n",
       "      <td>Semifijo</td>\n",
       "      <td></td>\n",
       "      <td>CALLE</td>\n",
       "      <td>CUAUHTÉMOC, Cuauhtémoc, CIUDAD DE MÉXICO</td>\n",
       "    </tr>\n",
       "    <tr>\n",
       "      <th>3</th>\n",
       "      <td>06600</td>\n",
       "      <td>CHAPULTEPEC</td>\n",
       "      <td></td>\n",
       "      <td>Restaurantes con servicio de preparación de pi...</td>\n",
       "      <td>JUAREZ</td>\n",
       "      <td></td>\n",
       "      <td>0 a 5 personas</td>\n",
       "      <td>8859086</td>\n",
       "      <td>19.42308733</td>\n",
       "      <td>-99.16297729</td>\n",
       "      <td>...</td>\n",
       "      <td></td>\n",
       "      <td>2</td>\n",
       "      <td></td>\n",
       "      <td></td>\n",
       "      <td>WWW.CORNELIOSPIZZA.COM.MX</td>\n",
       "      <td>5520747715</td>\n",
       "      <td>Fijo</td>\n",
       "      <td></td>\n",
       "      <td>AVENIDA</td>\n",
       "      <td>CUAUHTÉMOC, Cuauhtémoc, CIUDAD DE MÉXICO</td>\n",
       "    </tr>\n",
       "    <tr>\n",
       "      <th>4</th>\n",
       "      <td>06700</td>\n",
       "      <td>ORIZABA</td>\n",
       "      <td></td>\n",
       "      <td>Restaurantes con servicio de preparación de pi...</td>\n",
       "      <td>ROMA NORTE</td>\n",
       "      <td></td>\n",
       "      <td>0 a 5 personas</td>\n",
       "      <td>1029598</td>\n",
       "      <td>19.42006506</td>\n",
       "      <td>-99.16028986</td>\n",
       "      <td>...</td>\n",
       "      <td></td>\n",
       "      <td></td>\n",
       "      <td></td>\n",
       "      <td></td>\n",
       "      <td></td>\n",
       "      <td></td>\n",
       "      <td>Semifijo</td>\n",
       "      <td></td>\n",
       "      <td>CALLE</td>\n",
       "      <td>CUAUHTÉMOC, Cuauhtémoc, CIUDAD DE MÉXICO</td>\n",
       "    </tr>\n",
       "    <tr>\n",
       "      <th>5</th>\n",
       "      <td>06700</td>\n",
       "      <td>JALAPA</td>\n",
       "      <td></td>\n",
       "      <td>Restaurantes con servicio de preparación de pi...</td>\n",
       "      <td>ROMA NORTE</td>\n",
       "      <td></td>\n",
       "      <td>0 a 5 personas</td>\n",
       "      <td>8616792</td>\n",
       "      <td>19.41839312</td>\n",
       "      <td>-99.16114593</td>\n",
       "      <td>...</td>\n",
       "      <td></td>\n",
       "      <td>102</td>\n",
       "      <td>0</td>\n",
       "      <td></td>\n",
       "      <td></td>\n",
       "      <td></td>\n",
       "      <td>Fijo</td>\n",
       "      <td></td>\n",
       "      <td>CALLE</td>\n",
       "      <td>CUAUHTÉMOC, Cuauhtémoc, CIUDAD DE MÉXICO</td>\n",
       "    </tr>\n",
       "    <tr>\n",
       "      <th>6</th>\n",
       "      <td>06600</td>\n",
       "      <td>LIVERPOOL</td>\n",
       "      <td></td>\n",
       "      <td>Restaurantes con servicio de preparación de pi...</td>\n",
       "      <td>JUAREZ</td>\n",
       "      <td>AS@PIXZA.MX</td>\n",
       "      <td>0 a 5 personas</td>\n",
       "      <td>8625429</td>\n",
       "      <td>19.42366641</td>\n",
       "      <td>-99.16515183</td>\n",
       "      <td>...</td>\n",
       "      <td></td>\n",
       "      <td>162</td>\n",
       "      <td>0</td>\n",
       "      <td>EMPODERAMIENTO SOCIAL PIXZA SA DE CV</td>\n",
       "      <td></td>\n",
       "      <td></td>\n",
       "      <td>Fijo</td>\n",
       "      <td></td>\n",
       "      <td>CALLE</td>\n",
       "      <td>CUAUHTÉMOC, Cuauhtémoc, CIUDAD DE MÉXICO</td>\n",
       "    </tr>\n",
       "    <tr>\n",
       "      <th>7</th>\n",
       "      <td>06700</td>\n",
       "      <td>DURANGO</td>\n",
       "      <td></td>\n",
       "      <td>Restaurantes con servicio de preparación de pi...</td>\n",
       "      <td>ROMA NORTE</td>\n",
       "      <td></td>\n",
       "      <td>0 a 5 personas</td>\n",
       "      <td>1029739</td>\n",
       "      <td>19.42143574</td>\n",
       "      <td>-99.15853798</td>\n",
       "      <td>...</td>\n",
       "      <td></td>\n",
       "      <td>66</td>\n",
       "      <td></td>\n",
       "      <td></td>\n",
       "      <td></td>\n",
       "      <td></td>\n",
       "      <td>Fijo</td>\n",
       "      <td></td>\n",
       "      <td>CALLE</td>\n",
       "      <td>CUAUHTÉMOC, Cuauhtémoc, CIUDAD DE MÉXICO</td>\n",
       "    </tr>\n",
       "    <tr>\n",
       "      <th>8</th>\n",
       "      <td>06700</td>\n",
       "      <td>PLAZA VILLA MADRID</td>\n",
       "      <td></td>\n",
       "      <td>Restaurantes con servicio de preparación de pi...</td>\n",
       "      <td>ROMA NORTE</td>\n",
       "      <td>CIBELES@ARCHIPIELAGOMX.COM</td>\n",
       "      <td>11 a 30 personas</td>\n",
       "      <td>1027940</td>\n",
       "      <td>19.42035165</td>\n",
       "      <td>-99.16675781</td>\n",
       "      <td>...</td>\n",
       "      <td></td>\n",
       "      <td>17</td>\n",
       "      <td>0</td>\n",
       "      <td>PIZZERÍA CANCIN0,  SAPI DE CV</td>\n",
       "      <td></td>\n",
       "      <td>5555331087</td>\n",
       "      <td>Fijo</td>\n",
       "      <td></td>\n",
       "      <td>AVENIDA</td>\n",
       "      <td>CUAUHTÉMOC, Cuauhtémoc, CIUDAD DE MÉXICO</td>\n",
       "    </tr>\n",
       "    <tr>\n",
       "      <th>9</th>\n",
       "      <td>06600</td>\n",
       "      <td>AMBERES</td>\n",
       "      <td></td>\n",
       "      <td>Restaurantes con servicio de preparación de pi...</td>\n",
       "      <td>JUAREZ</td>\n",
       "      <td></td>\n",
       "      <td>6 a 10 personas</td>\n",
       "      <td>1028823</td>\n",
       "      <td>19.42471646</td>\n",
       "      <td>-99.16490947</td>\n",
       "      <td>...</td>\n",
       "      <td></td>\n",
       "      <td>57</td>\n",
       "      <td></td>\n",
       "      <td></td>\n",
       "      <td></td>\n",
       "      <td></td>\n",
       "      <td>Fijo</td>\n",
       "      <td></td>\n",
       "      <td>CALLE</td>\n",
       "      <td>CUAUHTÉMOC, Cuauhtémoc, CIUDAD DE MÉXICO</td>\n",
       "    </tr>\n",
       "    <tr>\n",
       "      <th>10</th>\n",
       "      <td>06600</td>\n",
       "      <td>GENOVA</td>\n",
       "      <td></td>\n",
       "      <td>Restaurantes con servicio de preparación de pi...</td>\n",
       "      <td>JUAREZ</td>\n",
       "      <td>ATENCION.CLIENTES@DRAGONFOODS.COM.MX</td>\n",
       "      <td>11 a 30 personas</td>\n",
       "      <td>6757521</td>\n",
       "      <td>19.42526906</td>\n",
       "      <td>-99.16343591</td>\n",
       "      <td>...</td>\n",
       "      <td></td>\n",
       "      <td>70</td>\n",
       "      <td></td>\n",
       "      <td>DGNF ESMERALDA SA DE CV</td>\n",
       "      <td>WWW.DRAGONFOODS.COM.MX</td>\n",
       "      <td></td>\n",
       "      <td>Fijo</td>\n",
       "      <td></td>\n",
       "      <td>CALLE</td>\n",
       "      <td>CUAUHTÉMOC, Cuauhtémoc, CIUDAD DE MÉXICO</td>\n",
       "    </tr>\n",
       "    <tr>\n",
       "      <th>11</th>\n",
       "      <td>06600</td>\n",
       "      <td>LONDRES</td>\n",
       "      <td></td>\n",
       "      <td>Restaurantes con servicio de preparación de pi...</td>\n",
       "      <td>JUAREZ</td>\n",
       "      <td></td>\n",
       "      <td>0 a 5 personas</td>\n",
       "      <td>1029023</td>\n",
       "      <td>19.42511501</td>\n",
       "      <td>-99.16448049</td>\n",
       "      <td>...</td>\n",
       "      <td></td>\n",
       "      <td>132</td>\n",
       "      <td>0</td>\n",
       "      <td>HAMBURGUESERÍA NACIONAL HN SA DE CV</td>\n",
       "      <td>WWW.HAMBURGUSERIANACIONAL.COM</td>\n",
       "      <td>5552073107</td>\n",
       "      <td>Fijo</td>\n",
       "      <td></td>\n",
       "      <td>CALLE</td>\n",
       "      <td>CUAUHTÉMOC, Cuauhtémoc, CIUDAD DE MÉXICO</td>\n",
       "    </tr>\n",
       "    <tr>\n",
       "      <th>12</th>\n",
       "      <td>06600</td>\n",
       "      <td>LIVERPOOL</td>\n",
       "      <td></td>\n",
       "      <td>Restaurantes con servicio de preparación de pi...</td>\n",
       "      <td>JUAREZ</td>\n",
       "      <td></td>\n",
       "      <td>0 a 5 personas</td>\n",
       "      <td>895025</td>\n",
       "      <td>19.42554082</td>\n",
       "      <td>-99.16163120</td>\n",
       "      <td>...</td>\n",
       "      <td></td>\n",
       "      <td></td>\n",
       "      <td></td>\n",
       "      <td></td>\n",
       "      <td></td>\n",
       "      <td>5522494983</td>\n",
       "      <td>Semifijo</td>\n",
       "      <td></td>\n",
       "      <td>CALLE</td>\n",
       "      <td>CUAUHTÉMOC, Cuauhtémoc, CIUDAD DE MÉXICO</td>\n",
       "    </tr>\n",
       "    <tr>\n",
       "      <th>13</th>\n",
       "      <td>06600</td>\n",
       "      <td>HAVRE</td>\n",
       "      <td></td>\n",
       "      <td>Restaurantes con servicio de preparación de pi...</td>\n",
       "      <td>JUAREZ</td>\n",
       "      <td></td>\n",
       "      <td>11 a 30 personas</td>\n",
       "      <td>873916</td>\n",
       "      <td>19.42543668</td>\n",
       "      <td>-99.16054754</td>\n",
       "      <td>...</td>\n",
       "      <td></td>\n",
       "      <td>68</td>\n",
       "      <td></td>\n",
       "      <td></td>\n",
       "      <td>WWW.HAVREENLAJUAREZ.COM</td>\n",
       "      <td></td>\n",
       "      <td>Fijo</td>\n",
       "      <td></td>\n",
       "      <td>CALLE</td>\n",
       "      <td>CUAUHTÉMOC, Cuauhtémoc, CIUDAD DE MÉXICO</td>\n",
       "    </tr>\n",
       "    <tr>\n",
       "      <th>14</th>\n",
       "      <td>06600</td>\n",
       "      <td>2 PONIENTE (FLORENCIA)</td>\n",
       "      <td></td>\n",
       "      <td>Restaurantes con servicio de preparación de pi...</td>\n",
       "      <td>JUAREZ</td>\n",
       "      <td>ZONAROSA@PIZZAAMORE.COM.MX</td>\n",
       "      <td>0 a 5 personas</td>\n",
       "      <td>6723827</td>\n",
       "      <td>19.42449136</td>\n",
       "      <td>-99.16626096</td>\n",
       "      <td>...</td>\n",
       "      <td></td>\n",
       "      <td>44</td>\n",
       "      <td>1</td>\n",
       "      <td>AMORE LERMA SA DE CV</td>\n",
       "      <td>WWW.PIZZAAMORE.COM.MX</td>\n",
       "      <td>5555332667</td>\n",
       "      <td>Fijo</td>\n",
       "      <td></td>\n",
       "      <td>EJE VIAL</td>\n",
       "      <td>CUAUHTÉMOC, Cuauhtémoc, CIUDAD DE MÉXICO</td>\n",
       "    </tr>\n",
       "    <tr>\n",
       "      <th>15</th>\n",
       "      <td>06700</td>\n",
       "      <td>JALAPA</td>\n",
       "      <td></td>\n",
       "      <td>Restaurantes con servicio de preparación de pi...</td>\n",
       "      <td>ROMA NORTE</td>\n",
       "      <td></td>\n",
       "      <td>0 a 5 personas</td>\n",
       "      <td>8327326</td>\n",
       "      <td>19.41703694</td>\n",
       "      <td>-99.16082185</td>\n",
       "      <td>...</td>\n",
       "      <td></td>\n",
       "      <td>122</td>\n",
       "      <td></td>\n",
       "      <td></td>\n",
       "      <td></td>\n",
       "      <td></td>\n",
       "      <td>Fijo</td>\n",
       "      <td></td>\n",
       "      <td>CALLE</td>\n",
       "      <td>CUAUHTÉMOC, Cuauhtémoc, CIUDAD DE MÉXICO</td>\n",
       "    </tr>\n",
       "    <tr>\n",
       "      <th>16</th>\n",
       "      <td>06700</td>\n",
       "      <td>OAXACA</td>\n",
       "      <td></td>\n",
       "      <td>Restaurantes con servicio de preparación de pi...</td>\n",
       "      <td>ROMA NORTE</td>\n",
       "      <td>PARNTERSROMA@GMAIL.COM</td>\n",
       "      <td>11 a 30 personas</td>\n",
       "      <td>6718151</td>\n",
       "      <td>19.41916532</td>\n",
       "      <td>-99.16715561</td>\n",
       "      <td>...</td>\n",
       "      <td></td>\n",
       "      <td>79</td>\n",
       "      <td></td>\n",
       "      <td>HAMBURGUESAS EN LA ROMA SA DE CV</td>\n",
       "      <td></td>\n",
       "      <td></td>\n",
       "      <td>Fijo</td>\n",
       "      <td></td>\n",
       "      <td>AVENIDA</td>\n",
       "      <td>CUAUHTÉMOC, Cuauhtémoc, CIUDAD DE MÉXICO</td>\n",
       "    </tr>\n",
       "    <tr>\n",
       "      <th>17</th>\n",
       "      <td>06600</td>\n",
       "      <td>MARSELLA</td>\n",
       "      <td></td>\n",
       "      <td>Restaurantes con servicio de preparación de pi...</td>\n",
       "      <td>JUAREZ</td>\n",
       "      <td></td>\n",
       "      <td>0 a 5 personas</td>\n",
       "      <td>9028804</td>\n",
       "      <td>19.42521904</td>\n",
       "      <td>-99.15955481</td>\n",
       "      <td>...</td>\n",
       "      <td></td>\n",
       "      <td>60</td>\n",
       "      <td></td>\n",
       "      <td></td>\n",
       "      <td></td>\n",
       "      <td></td>\n",
       "      <td>Fijo</td>\n",
       "      <td></td>\n",
       "      <td>CALLE</td>\n",
       "      <td>CUAUHTÉMOC, Cuauhtémoc, CIUDAD DE MÉXICO</td>\n",
       "    </tr>\n",
       "    <tr>\n",
       "      <th>18</th>\n",
       "      <td>06700</td>\n",
       "      <td>PUEBLA</td>\n",
       "      <td></td>\n",
       "      <td>Restaurantes con servicio de preparación de pi...</td>\n",
       "      <td>ROMA NORTE</td>\n",
       "      <td></td>\n",
       "      <td>0 a 5 personas</td>\n",
       "      <td>8386473</td>\n",
       "      <td>19.42331049</td>\n",
       "      <td>-99.15772097</td>\n",
       "      <td>...</td>\n",
       "      <td></td>\n",
       "      <td>58</td>\n",
       "      <td>0</td>\n",
       "      <td></td>\n",
       "      <td></td>\n",
       "      <td>5555147422</td>\n",
       "      <td>Fijo</td>\n",
       "      <td></td>\n",
       "      <td>CALLE</td>\n",
       "      <td>CUAUHTÉMOC, Cuauhtémoc, CIUDAD DE MÉXICO</td>\n",
       "    </tr>\n",
       "    <tr>\n",
       "      <th>19</th>\n",
       "      <td>06600</td>\n",
       "      <td>HAMBURGO</td>\n",
       "      <td></td>\n",
       "      <td>Restaurantes con servicio de preparación de pi...</td>\n",
       "      <td>JUAREZ</td>\n",
       "      <td>DIROP@PIZZAPAZZA.MX</td>\n",
       "      <td>6 a 10 personas</td>\n",
       "      <td>7732734</td>\n",
       "      <td>19.42628499</td>\n",
       "      <td>-99.16437297</td>\n",
       "      <td>...</td>\n",
       "      <td></td>\n",
       "      <td>108</td>\n",
       "      <td>4</td>\n",
       "      <td>RED PAZZA SA DE CV</td>\n",
       "      <td></td>\n",
       "      <td></td>\n",
       "      <td>Fijo</td>\n",
       "      <td></td>\n",
       "      <td>CALLE</td>\n",
       "      <td>CUAUHTÉMOC, Cuauhtémoc, CIUDAD DE MÉXICO</td>\n",
       "    </tr>\n",
       "    <tr>\n",
       "      <th>20</th>\n",
       "      <td>06700</td>\n",
       "      <td>MERIDA</td>\n",
       "      <td></td>\n",
       "      <td>Restaurantes con servicio de preparación de pi...</td>\n",
       "      <td>ROMA NORTE</td>\n",
       "      <td>PIZZAFRANCA2012@YAHOO.COM</td>\n",
       "      <td>11 a 30 personas</td>\n",
       "      <td>659849</td>\n",
       "      <td>19.41930004</td>\n",
       "      <td>-99.15754423</td>\n",
       "      <td>...</td>\n",
       "      <td></td>\n",
       "      <td>109</td>\n",
       "      <td></td>\n",
       "      <td>OPERADORA FRANCA SA DE CV</td>\n",
       "      <td></td>\n",
       "      <td></td>\n",
       "      <td>Fijo</td>\n",
       "      <td></td>\n",
       "      <td>CALLE</td>\n",
       "      <td>CUAUHTÉMOC, Cuauhtémoc, CIUDAD DE MÉXICO</td>\n",
       "    </tr>\n",
       "    <tr>\n",
       "      <th>21</th>\n",
       "      <td>06600</td>\n",
       "      <td>HAMBURGO</td>\n",
       "      <td></td>\n",
       "      <td>Restaurantes con servicio de preparación de pi...</td>\n",
       "      <td>JUAREZ</td>\n",
       "      <td></td>\n",
       "      <td>6 a 10 personas</td>\n",
       "      <td>6304306</td>\n",
       "      <td>19.42638987</td>\n",
       "      <td>-99.16445103</td>\n",
       "      <td>...</td>\n",
       "      <td></td>\n",
       "      <td>113</td>\n",
       "      <td>0</td>\n",
       "      <td>OPERADORA Y PROCESADORA DE PRODUCTOS DE PANIFI...</td>\n",
       "      <td>WWW.DOMINOS.COM.MX</td>\n",
       "      <td></td>\n",
       "      <td>Fijo</td>\n",
       "      <td></td>\n",
       "      <td>CALLE</td>\n",
       "      <td>CUAUHTÉMOC, Cuauhtémoc, CIUDAD DE MÉXICO</td>\n",
       "    </tr>\n",
       "    <tr>\n",
       "      <th>22</th>\n",
       "      <td>06600</td>\n",
       "      <td>HAMBURGO</td>\n",
       "      <td></td>\n",
       "      <td>Restaurantes con servicio de preparación de pi...</td>\n",
       "      <td>JUAREZ</td>\n",
       "      <td></td>\n",
       "      <td>6 a 10 personas</td>\n",
       "      <td>8326204</td>\n",
       "      <td>19.42655715</td>\n",
       "      <td>-99.16380587</td>\n",
       "      <td>...</td>\n",
       "      <td></td>\n",
       "      <td>98</td>\n",
       "      <td>0</td>\n",
       "      <td>DISTRIBUIDORA GAGB SA DE CV</td>\n",
       "      <td></td>\n",
       "      <td></td>\n",
       "      <td>Fijo</td>\n",
       "      <td></td>\n",
       "      <td>CALLE</td>\n",
       "      <td>CUAUHTÉMOC, Cuauhtémoc, CIUDAD DE MÉXICO</td>\n",
       "    </tr>\n",
       "    <tr>\n",
       "      <th>23</th>\n",
       "      <td>06600</td>\n",
       "      <td>HAMBURGO</td>\n",
       "      <td></td>\n",
       "      <td>Restaurantes con servicio de preparación de pi...</td>\n",
       "      <td>JUAREZ</td>\n",
       "      <td></td>\n",
       "      <td>0 a 5 personas</td>\n",
       "      <td>1043701</td>\n",
       "      <td>19.42655715</td>\n",
       "      <td>-99.16380587</td>\n",
       "      <td>...</td>\n",
       "      <td></td>\n",
       "      <td>98</td>\n",
       "      <td>0</td>\n",
       "      <td></td>\n",
       "      <td></td>\n",
       "      <td>5552072676</td>\n",
       "      <td>Fijo</td>\n",
       "      <td></td>\n",
       "      <td>CALLE</td>\n",
       "      <td>CUAUHTÉMOC, Cuauhtémoc, CIUDAD DE MÉXICO</td>\n",
       "    </tr>\n",
       "    <tr>\n",
       "      <th>24</th>\n",
       "      <td>06600</td>\n",
       "      <td>HAMBURGO</td>\n",
       "      <td></td>\n",
       "      <td>Restaurantes de autoservicio</td>\n",
       "      <td>JUAREZ</td>\n",
       "      <td></td>\n",
       "      <td>31 a 50 personas</td>\n",
       "      <td>6305420</td>\n",
       "      <td>19.42659570</td>\n",
       "      <td>-99.16372332</td>\n",
       "      <td>...</td>\n",
       "      <td></td>\n",
       "      <td></td>\n",
       "      <td>44</td>\n",
       "      <td>PREMIUM RESTAURANT BRANDS S DE RL DE CV</td>\n",
       "      <td>WWW.PIZZAHUT.COM.MX</td>\n",
       "      <td></td>\n",
       "      <td>Fijo</td>\n",
       "      <td></td>\n",
       "      <td>CALLE</td>\n",
       "      <td>CUAUHTÉMOC, Cuauhtémoc, CIUDAD DE MÉXICO</td>\n",
       "    </tr>\n",
       "    <tr>\n",
       "      <th>25</th>\n",
       "      <td>06600</td>\n",
       "      <td>HAMBURGO</td>\n",
       "      <td></td>\n",
       "      <td>Restaurantes con servicio de preparación de pi...</td>\n",
       "      <td>JUAREZ</td>\n",
       "      <td>PJZONAROSA@DINESA.COM</td>\n",
       "      <td>11 a 30 personas</td>\n",
       "      <td>1028183</td>\n",
       "      <td>19.42542574</td>\n",
       "      <td>-99.16661387</td>\n",
       "      <td>...</td>\n",
       "      <td></td>\n",
       "      <td>165</td>\n",
       "      <td></td>\n",
       "      <td>DINESA PIZZA SA DE CV</td>\n",
       "      <td>WWW.PAPAJOHNSCUIDADDEMEXICO.COM</td>\n",
       "      <td>5552077272</td>\n",
       "      <td>Fijo</td>\n",
       "      <td></td>\n",
       "      <td>CALLE</td>\n",
       "      <td>CUAUHTÉMOC, Cuauhtémoc, CIUDAD DE MÉXICO</td>\n",
       "    </tr>\n",
       "    <tr>\n",
       "      <th>26</th>\n",
       "      <td>06700</td>\n",
       "      <td>ÁLVARO OBREGÓN</td>\n",
       "      <td></td>\n",
       "      <td>Restaurantes con servicio de preparación de pi...</td>\n",
       "      <td>ALVARO OBREGON</td>\n",
       "      <td></td>\n",
       "      <td>11 a 30 personas</td>\n",
       "      <td>898055</td>\n",
       "      <td>19.41845923</td>\n",
       "      <td>-99.15772086</td>\n",
       "      <td>...</td>\n",
       "      <td></td>\n",
       "      <td></td>\n",
       "      <td>64</td>\n",
       "      <td>RESTAURANTE FELIX, S.A. DE C.V.</td>\n",
       "      <td></td>\n",
       "      <td></td>\n",
       "      <td>Fijo</td>\n",
       "      <td></td>\n",
       "      <td>AVENIDA</td>\n",
       "      <td>CUAUHTÉMOC, Cuauhtémoc, CIUDAD DE MÉXICO</td>\n",
       "    </tr>\n",
       "    <tr>\n",
       "      <th>27</th>\n",
       "      <td>06100</td>\n",
       "      <td>ALVARO OBREGON</td>\n",
       "      <td></td>\n",
       "      <td>Elaboración de botanas</td>\n",
       "      <td>HIPODROMO</td>\n",
       "      <td></td>\n",
       "      <td>0 a 5 personas</td>\n",
       "      <td>8326980</td>\n",
       "      <td>19.41668292</td>\n",
       "      <td>-99.16664092</td>\n",
       "      <td>...</td>\n",
       "      <td></td>\n",
       "      <td>250</td>\n",
       "      <td></td>\n",
       "      <td></td>\n",
       "      <td></td>\n",
       "      <td></td>\n",
       "      <td>Fijo</td>\n",
       "      <td></td>\n",
       "      <td>AVENIDA</td>\n",
       "      <td>CUAUHTÉMOC, Cuauhtémoc, CIUDAD DE MÉXICO</td>\n",
       "    </tr>\n",
       "    <tr>\n",
       "      <th>28</th>\n",
       "      <td>06100</td>\n",
       "      <td>MEDELLIN</td>\n",
       "      <td></td>\n",
       "      <td>Restaurantes con servicio de preparación de pi...</td>\n",
       "      <td>HIPODROMO</td>\n",
       "      <td></td>\n",
       "      <td>0 a 5 personas</td>\n",
       "      <td>8626051</td>\n",
       "      <td>19.41584119</td>\n",
       "      <td>-99.16553055</td>\n",
       "      <td>...</td>\n",
       "      <td></td>\n",
       "      <td></td>\n",
       "      <td></td>\n",
       "      <td>HAMBURGUESAS AY CARBON SA DE CV</td>\n",
       "      <td></td>\n",
       "      <td></td>\n",
       "      <td>Semifijo</td>\n",
       "      <td></td>\n",
       "      <td>CALLE</td>\n",
       "      <td>CUAUHTÉMOC, Cuauhtémoc, CIUDAD DE MÉXICO</td>\n",
       "    </tr>\n",
       "    <tr>\n",
       "      <th>29</th>\n",
       "      <td>06600</td>\n",
       "      <td>INSURGENTES CENTRO</td>\n",
       "      <td></td>\n",
       "      <td>Restaurantes con servicio de preparación de pi...</td>\n",
       "      <td>JUAREZ</td>\n",
       "      <td></td>\n",
       "      <td>6 a 10 personas</td>\n",
       "      <td>6812600</td>\n",
       "      <td>19.42744430</td>\n",
       "      <td>-99.16111202</td>\n",
       "      <td>...</td>\n",
       "      <td></td>\n",
       "      <td>56</td>\n",
       "      <td></td>\n",
       "      <td>LA PIZZA DE CADA DIA SA DE CV</td>\n",
       "      <td>WWW.PIZZALIANNIS.COM</td>\n",
       "      <td>015552082277</td>\n",
       "      <td>Fijo</td>\n",
       "      <td></td>\n",
       "      <td>AVENIDA</td>\n",
       "      <td>CUAUHTÉMOC, Cuauhtémoc, CIUDAD DE MÉXICO</td>\n",
       "    </tr>\n",
       "    <tr>\n",
       "      <th>30</th>\n",
       "      <td>06700</td>\n",
       "      <td>VALLADOLID</td>\n",
       "      <td></td>\n",
       "      <td>Restaurantes con servicio de preparación de pi...</td>\n",
       "      <td>ROMA NORTE</td>\n",
       "      <td></td>\n",
       "      <td>0 a 5 personas</td>\n",
       "      <td>895736</td>\n",
       "      <td>19.41707104</td>\n",
       "      <td>-99.16763314</td>\n",
       "      <td>...</td>\n",
       "      <td></td>\n",
       "      <td></td>\n",
       "      <td></td>\n",
       "      <td></td>\n",
       "      <td></td>\n",
       "      <td></td>\n",
       "      <td>Semifijo</td>\n",
       "      <td></td>\n",
       "      <td>CALLE</td>\n",
       "      <td>CUAUHTÉMOC, Cuauhtémoc, CIUDAD DE MÉXICO</td>\n",
       "    </tr>\n",
       "    <tr>\n",
       "      <th>31</th>\n",
       "      <td>06600</td>\n",
       "      <td>COPENHAGUE</td>\n",
       "      <td></td>\n",
       "      <td>Restaurantes con servicio de preparación de pi...</td>\n",
       "      <td>JUAREZ</td>\n",
       "      <td>RESTAURANTE@ILRITROVODF.COM</td>\n",
       "      <td>6 a 10 personas</td>\n",
       "      <td>1040429</td>\n",
       "      <td>19.42786528</td>\n",
       "      <td>-99.16402602</td>\n",
       "      <td>...</td>\n",
       "      <td></td>\n",
       "      <td>4</td>\n",
       "      <td></td>\n",
       "      <td>MAELENA DEL PILAR DELGADO MACIAS</td>\n",
       "      <td>WWW.ILRITROVODF.COM</td>\n",
       "      <td>5555336449</td>\n",
       "      <td>Fijo</td>\n",
       "      <td></td>\n",
       "      <td>CALLE</td>\n",
       "      <td>CUAUHTÉMOC, Cuauhtémoc, CIUDAD DE MÉXICO</td>\n",
       "    </tr>\n",
       "    <tr>\n",
       "      <th>32</th>\n",
       "      <td>06700</td>\n",
       "      <td>MERIDA</td>\n",
       "      <td></td>\n",
       "      <td>Restaurantes con servicio de preparación de pi...</td>\n",
       "      <td>ROMA NORTE</td>\n",
       "      <td>ERICK.ORTEGA@GMAIL.COM</td>\n",
       "      <td>0 a 5 personas</td>\n",
       "      <td>8326927</td>\n",
       "      <td>19.41718957</td>\n",
       "      <td>-99.15689302</td>\n",
       "      <td>...</td>\n",
       "      <td></td>\n",
       "      <td>140</td>\n",
       "      <td></td>\n",
       "      <td></td>\n",
       "      <td></td>\n",
       "      <td>55610054116</td>\n",
       "      <td>Fijo</td>\n",
       "      <td></td>\n",
       "      <td>CALLE</td>\n",
       "      <td>CUAUHTÉMOC, Cuauhtémoc, CIUDAD DE MÉXICO</td>\n",
       "    </tr>\n",
       "    <tr>\n",
       "      <th>33</th>\n",
       "      <td>06700</td>\n",
       "      <td>3 PONIENTE (MEDELLIN)</td>\n",
       "      <td></td>\n",
       "      <td>Restaurantes con servicio de preparación de pi...</td>\n",
       "      <td>ROMA NORTE</td>\n",
       "      <td></td>\n",
       "      <td>0 a 5 personas</td>\n",
       "      <td>659492</td>\n",
       "      <td>19.41486878</td>\n",
       "      <td>-99.16541453</td>\n",
       "      <td>...</td>\n",
       "      <td></td>\n",
       "      <td></td>\n",
       "      <td></td>\n",
       "      <td></td>\n",
       "      <td></td>\n",
       "      <td>5561166498</td>\n",
       "      <td>Semifijo</td>\n",
       "      <td></td>\n",
       "      <td>EJE VIAL</td>\n",
       "      <td>CUAUHTÉMOC, Cuauhtémoc, CIUDAD DE MÉXICO</td>\n",
       "    </tr>\n",
       "    <tr>\n",
       "      <th>34</th>\n",
       "      <td>06600</td>\n",
       "      <td>LONDRES</td>\n",
       "      <td></td>\n",
       "      <td>Restaurantes con servicio de preparación de pi...</td>\n",
       "      <td>JUAREZ</td>\n",
       "      <td></td>\n",
       "      <td>0 a 5 personas</td>\n",
       "      <td>7732808</td>\n",
       "      <td>19.42769262</td>\n",
       "      <td>-99.15933698</td>\n",
       "      <td>...</td>\n",
       "      <td></td>\n",
       "      <td>37</td>\n",
       "      <td></td>\n",
       "      <td>BARSEK SA DE CV</td>\n",
       "      <td></td>\n",
       "      <td></td>\n",
       "      <td>Fijo</td>\n",
       "      <td></td>\n",
       "      <td>CALLE</td>\n",
       "      <td>CUAUHTÉMOC, Cuauhtémoc, CIUDAD DE MÉXICO</td>\n",
       "    </tr>\n",
       "    <tr>\n",
       "      <th>35</th>\n",
       "      <td>06600</td>\n",
       "      <td>LONDRES</td>\n",
       "      <td></td>\n",
       "      <td>Restaurantes con servicio de preparación de pi...</td>\n",
       "      <td>JUAREZ</td>\n",
       "      <td></td>\n",
       "      <td>6 a 10 personas</td>\n",
       "      <td>1043145</td>\n",
       "      <td>19.42766516</td>\n",
       "      <td>-99.15903331</td>\n",
       "      <td>...</td>\n",
       "      <td></td>\n",
       "      <td>47</td>\n",
       "      <td>0</td>\n",
       "      <td></td>\n",
       "      <td></td>\n",
       "      <td></td>\n",
       "      <td>Fijo</td>\n",
       "      <td></td>\n",
       "      <td>CALLE</td>\n",
       "      <td>CUAUHTÉMOC, Cuauhtémoc, CIUDAD DE MÉXICO</td>\n",
       "    </tr>\n",
       "    <tr>\n",
       "      <th>36</th>\n",
       "      <td>06700</td>\n",
       "      <td>MERIDA</td>\n",
       "      <td></td>\n",
       "      <td>Restaurantes con servicio de preparación de pi...</td>\n",
       "      <td>ROMA NORTE</td>\n",
       "      <td></td>\n",
       "      <td>0 a 5 personas</td>\n",
       "      <td>7732450</td>\n",
       "      <td>19.41656847</td>\n",
       "      <td>-99.15674058</td>\n",
       "      <td>...</td>\n",
       "      <td></td>\n",
       "      <td>52</td>\n",
       "      <td></td>\n",
       "      <td></td>\n",
       "      <td></td>\n",
       "      <td></td>\n",
       "      <td>Fijo</td>\n",
       "      <td></td>\n",
       "      <td>CALLE</td>\n",
       "      <td>CUAUHTÉMOC, Cuauhtémoc, CIUDAD DE MÉXICO</td>\n",
       "    </tr>\n",
       "    <tr>\n",
       "      <th>37</th>\n",
       "      <td>06600</td>\n",
       "      <td>LONDRES</td>\n",
       "      <td></td>\n",
       "      <td>Restaurantes con servicio de preparación de pi...</td>\n",
       "      <td>JUÁREZ</td>\n",
       "      <td></td>\n",
       "      <td>11 a 30 personas</td>\n",
       "      <td>6752649</td>\n",
       "      <td>19.42237580</td>\n",
       "      <td>-99.17054953</td>\n",
       "      <td>...</td>\n",
       "      <td></td>\n",
       "      <td>265</td>\n",
       "      <td></td>\n",
       "      <td>AFICIONADOS DE PIZZAS S DE RL</td>\n",
       "      <td></td>\n",
       "      <td></td>\n",
       "      <td>Fijo</td>\n",
       "      <td></td>\n",
       "      <td>CALLE</td>\n",
       "      <td>CUAUHTÉMOC, Cuauhtémoc, CIUDAD DE MÉXICO</td>\n",
       "    </tr>\n",
       "    <tr>\n",
       "      <th>38</th>\n",
       "      <td>06600</td>\n",
       "      <td>HAMBURGO</td>\n",
       "      <td></td>\n",
       "      <td>Restaurantes con servicio de preparación de pi...</td>\n",
       "      <td>JUAREZ</td>\n",
       "      <td>ADRIAN7787@HOTMAIL.COM</td>\n",
       "      <td>0 a 5 personas</td>\n",
       "      <td>9162798</td>\n",
       "      <td>19.42847834</td>\n",
       "      <td>-99.16004948</td>\n",
       "      <td>...</td>\n",
       "      <td></td>\n",
       "      <td>41</td>\n",
       "      <td></td>\n",
       "      <td></td>\n",
       "      <td></td>\n",
       "      <td></td>\n",
       "      <td>Fijo</td>\n",
       "      <td></td>\n",
       "      <td>CALLE</td>\n",
       "      <td>CUAUHTÉMOC, Cuauhtémoc, CIUDAD DE MÉXICO</td>\n",
       "    </tr>\n",
       "    <tr>\n",
       "      <th>39</th>\n",
       "      <td>06700</td>\n",
       "      <td>ZACATECAS</td>\n",
       "      <td></td>\n",
       "      <td>Restaurantes con servicio de preparación de pi...</td>\n",
       "      <td>ROMA NORTE</td>\n",
       "      <td></td>\n",
       "      <td>0 a 5 personas</td>\n",
       "      <td>7732343</td>\n",
       "      <td>19.41632151</td>\n",
       "      <td>-99.15664619</td>\n",
       "      <td>...</td>\n",
       "      <td></td>\n",
       "      <td>48</td>\n",
       "      <td>0</td>\n",
       "      <td></td>\n",
       "      <td></td>\n",
       "      <td></td>\n",
       "      <td>Fijo</td>\n",
       "      <td></td>\n",
       "      <td>CALLE</td>\n",
       "      <td>CUAUHTÉMOC, Cuauhtémoc, CIUDAD DE MÉXICO</td>\n",
       "    </tr>\n",
       "    <tr>\n",
       "      <th>40</th>\n",
       "      <td>06600</td>\n",
       "      <td>LONDRES</td>\n",
       "      <td></td>\n",
       "      <td>Restaurantes con servicio de preparación de pi...</td>\n",
       "      <td>JUÁREZ</td>\n",
       "      <td>YAZMIN@POLLOSRAY.COM</td>\n",
       "      <td>0 a 5 personas</td>\n",
       "      <td>6751009</td>\n",
       "      <td>19.42228938</td>\n",
       "      <td>-99.17073187</td>\n",
       "      <td>...</td>\n",
       "      <td></td>\n",
       "      <td>271</td>\n",
       "      <td>0</td>\n",
       "      <td>ALIMENTOS RAY SA DE CV</td>\n",
       "      <td></td>\n",
       "      <td></td>\n",
       "      <td>Fijo</td>\n",
       "      <td></td>\n",
       "      <td>CALLE</td>\n",
       "      <td>CUAUHTÉMOC, Cuauhtémoc, CIUDAD DE MÉXICO</td>\n",
       "    </tr>\n",
       "    <tr>\n",
       "      <th>41</th>\n",
       "      <td>06700</td>\n",
       "      <td>2-A SUR (SAN LUIS POTOSI)</td>\n",
       "      <td></td>\n",
       "      <td>Restaurantes con servicio de preparación de pi...</td>\n",
       "      <td>ROMA NORTE</td>\n",
       "      <td></td>\n",
       "      <td>0 a 5 personas</td>\n",
       "      <td>8529010</td>\n",
       "      <td>19.41373373</td>\n",
       "      <td>-99.16103769</td>\n",
       "      <td>...</td>\n",
       "      <td></td>\n",
       "      <td>130</td>\n",
       "      <td></td>\n",
       "      <td></td>\n",
       "      <td></td>\n",
       "      <td></td>\n",
       "      <td>Fijo</td>\n",
       "      <td></td>\n",
       "      <td>EJE VIAL</td>\n",
       "      <td>CUAUHTÉMOC, Cuauhtémoc, CIUDAD DE MÉXICO</td>\n",
       "    </tr>\n",
       "    <tr>\n",
       "      <th>42</th>\n",
       "      <td>06700</td>\n",
       "      <td>COLIMA</td>\n",
       "      <td></td>\n",
       "      <td>Restaurantes con servicio de preparación de pi...</td>\n",
       "      <td>ROMA NORTE</td>\n",
       "      <td>CHOWI@HOTMAIL.COM</td>\n",
       "      <td>6 a 10 personas</td>\n",
       "      <td>894761</td>\n",
       "      <td>19.42120618</td>\n",
       "      <td>-99.15441237</td>\n",
       "      <td>...</td>\n",
       "      <td></td>\n",
       "      <td>5</td>\n",
       "      <td></td>\n",
       "      <td></td>\n",
       "      <td></td>\n",
       "      <td></td>\n",
       "      <td>Fijo</td>\n",
       "      <td></td>\n",
       "      <td>CALLE</td>\n",
       "      <td>CUAUHTÉMOC, Cuauhtémoc, CIUDAD DE MÉXICO</td>\n",
       "    </tr>\n",
       "    <tr>\n",
       "      <th>43</th>\n",
       "      <td>06700</td>\n",
       "      <td>2-A SUR (SAN LUIS POTOSI)</td>\n",
       "      <td></td>\n",
       "      <td>Restaurantes con servicio de preparación de pi...</td>\n",
       "      <td>ROMA NORTE</td>\n",
       "      <td>ABORIGENROMANORTE@GMAIL.COM</td>\n",
       "      <td>0 a 5 personas</td>\n",
       "      <td>7732408</td>\n",
       "      <td>19.41423787</td>\n",
       "      <td>-99.15850131</td>\n",
       "      <td>...</td>\n",
       "      <td></td>\n",
       "      <td>90</td>\n",
       "      <td></td>\n",
       "      <td></td>\n",
       "      <td></td>\n",
       "      <td></td>\n",
       "      <td>Fijo</td>\n",
       "      <td></td>\n",
       "      <td>EJE VIAL</td>\n",
       "      <td>CUAUHTÉMOC, Cuauhtémoc, CIUDAD DE MÉXICO</td>\n",
       "    </tr>\n",
       "    <tr>\n",
       "      <th>44</th>\n",
       "      <td>06500</td>\n",
       "      <td>PASEO DE LA REFORMA</td>\n",
       "      <td>EDIFICIO REFORMA 369</td>\n",
       "      <td>Restaurantes con servicio de preparación de al...</td>\n",
       "      <td>CUAUHTEMOC</td>\n",
       "      <td></td>\n",
       "      <td>6 a 10 personas</td>\n",
       "      <td>9200228</td>\n",
       "      <td>19.42660845</td>\n",
       "      <td>-99.16934621</td>\n",
       "      <td>...</td>\n",
       "      <td>7</td>\n",
       "      <td>369</td>\n",
       "      <td></td>\n",
       "      <td>EL ITALIANITO SA DE CV</td>\n",
       "      <td></td>\n",
       "      <td></td>\n",
       "      <td>Fijo</td>\n",
       "      <td>EDIFICIO COMERCIAL Y DE SERVICIOS</td>\n",
       "      <td>AVENIDA</td>\n",
       "      <td>CUAUHTÉMOC, Cuauhtémoc, CIUDAD DE MÉXICO</td>\n",
       "    </tr>\n",
       "    <tr>\n",
       "      <th>45</th>\n",
       "      <td>06700</td>\n",
       "      <td>ALVARO OBREGON</td>\n",
       "      <td></td>\n",
       "      <td>Restaurantes con servicio de preparación de pi...</td>\n",
       "      <td>ROMA NORTE</td>\n",
       "      <td></td>\n",
       "      <td>6 a 10 personas</td>\n",
       "      <td>1029334</td>\n",
       "      <td>19.41640115</td>\n",
       "      <td>-99.16987163</td>\n",
       "      <td>...</td>\n",
       "      <td></td>\n",
       "      <td>3</td>\n",
       "      <td></td>\n",
       "      <td>RESTAURANTE PERRO VIEJO SA DE CV</td>\n",
       "      <td>WWW.PIZZADELPERRONEGRO.COM</td>\n",
       "      <td>5555339249</td>\n",
       "      <td>Fijo</td>\n",
       "      <td></td>\n",
       "      <td>AVENIDA</td>\n",
       "      <td>CUAUHTÉMOC, Cuauhtémoc, CIUDAD DE MÉXICO</td>\n",
       "    </tr>\n",
       "    <tr>\n",
       "      <th>46</th>\n",
       "      <td>06700</td>\n",
       "      <td>2-A SUR (SAN LUIS POTOSI)</td>\n",
       "      <td></td>\n",
       "      <td>Restaurantes con servicio de preparación de pi...</td>\n",
       "      <td>ROMA NORTE</td>\n",
       "      <td>VICTOR.NOSTI@HOTMAIL.COM</td>\n",
       "      <td>0 a 5 personas</td>\n",
       "      <td>863652</td>\n",
       "      <td>19.41445886</td>\n",
       "      <td>-99.15737670</td>\n",
       "      <td>...</td>\n",
       "      <td></td>\n",
       "      <td>60</td>\n",
       "      <td></td>\n",
       "      <td></td>\n",
       "      <td></td>\n",
       "      <td></td>\n",
       "      <td>Fijo</td>\n",
       "      <td></td>\n",
       "      <td>EJE VIAL</td>\n",
       "      <td>CUAUHTÉMOC, Cuauhtémoc, CIUDAD DE MÉXICO</td>\n",
       "    </tr>\n",
       "    <tr>\n",
       "      <th>47</th>\n",
       "      <td>06100</td>\n",
       "      <td>SONORA</td>\n",
       "      <td></td>\n",
       "      <td>Restaurantes con servicio de preparación de pi...</td>\n",
       "      <td>HIPODROMO</td>\n",
       "      <td></td>\n",
       "      <td>0 a 5 personas</td>\n",
       "      <td>6719283</td>\n",
       "      <td>19.41528776</td>\n",
       "      <td>-99.16949321</td>\n",
       "      <td>...</td>\n",
       "      <td></td>\n",
       "      <td>140</td>\n",
       "      <td></td>\n",
       "      <td>DELGADA Y CUADRADA SA DE CV</td>\n",
       "      <td></td>\n",
       "      <td>5552564384</td>\n",
       "      <td>Fijo</td>\n",
       "      <td></td>\n",
       "      <td>AVENIDA</td>\n",
       "      <td>CUAUHTÉMOC, Cuauhtémoc, CIUDAD DE MÉXICO</td>\n",
       "    </tr>\n",
       "    <tr>\n",
       "      <th>48</th>\n",
       "      <td>06700</td>\n",
       "      <td>SAN LUIS POTOSI</td>\n",
       "      <td></td>\n",
       "      <td>Restaurantes con servicio de preparación de pi...</td>\n",
       "      <td>ROMA NORTE</td>\n",
       "      <td></td>\n",
       "      <td>0 a 5 personas</td>\n",
       "      <td>7805003</td>\n",
       "      <td>19.41283682</td>\n",
       "      <td>-99.16558855</td>\n",
       "      <td>...</td>\n",
       "      <td></td>\n",
       "      <td>214</td>\n",
       "      <td></td>\n",
       "      <td></td>\n",
       "      <td></td>\n",
       "      <td></td>\n",
       "      <td>Fijo</td>\n",
       "      <td></td>\n",
       "      <td>CALLE</td>\n",
       "      <td>CUAUHTÉMOC, Cuauhtémoc, CIUDAD DE MÉXICO</td>\n",
       "    </tr>\n",
       "    <tr>\n",
       "      <th>49</th>\n",
       "      <td>06500</td>\n",
       "      <td>RIO LERMA</td>\n",
       "      <td>EDIFICIO COMERCIAL Y DE SERVICIOS SIN NOMBRE</td>\n",
       "      <td>Restaurantes con servicio de preparación de pi...</td>\n",
       "      <td>CUAHUTEMOC</td>\n",
       "      <td>BALBOA@GRUPOPATAGONIA.MX</td>\n",
       "      <td>31 a 50 personas</td>\n",
       "      <td>8338461</td>\n",
       "      <td>19.42974571</td>\n",
       "      <td>-99.16597489</td>\n",
       "      <td>...</td>\n",
       "      <td>D</td>\n",
       "      <td>94</td>\n",
       "      <td>0</td>\n",
       "      <td>PIZZERIA Y CERVECERIA SA</td>\n",
       "      <td></td>\n",
       "      <td></td>\n",
       "      <td>Fijo</td>\n",
       "      <td>EDIFICIO COMERCIAL Y DE SERVICIOS</td>\n",
       "      <td>CALLE</td>\n",
       "      <td>CUAUHTÉMOC, Cuauhtémoc, CIUDAD DE MÉXICO</td>\n",
       "    </tr>\n",
       "    <tr>\n",
       "      <th>50</th>\n",
       "      <td>06500</td>\n",
       "      <td>RIO LERMA</td>\n",
       "      <td></td>\n",
       "      <td>Restaurantes con servicio de preparación de pi...</td>\n",
       "      <td>CUAUHTEMOC</td>\n",
       "      <td>HOLA@KOKUKOKU.MX</td>\n",
       "      <td>11 a 30 personas</td>\n",
       "      <td>6800197</td>\n",
       "      <td>19.42974896</td>\n",
       "      <td>-99.16596794</td>\n",
       "      <td>...</td>\n",
       "      <td></td>\n",
       "      <td>94</td>\n",
       "      <td></td>\n",
       "      <td>PIZZA LERMA SA DE CV</td>\n",
       "      <td></td>\n",
       "      <td></td>\n",
       "      <td>Fijo</td>\n",
       "      <td></td>\n",
       "      <td>CALLE</td>\n",
       "      <td>CUAUHTÉMOC, Cuauhtémoc, CIUDAD DE MÉXICO</td>\n",
       "    </tr>\n",
       "  </tbody>\n",
       "</table>\n",
       "<p>51 rows × 21 columns</p>\n",
       "</div>"
      ],
      "text/plain": [
       "       CP                      Calle  \\\n",
       "0   06700                     TONALA   \n",
       "1   06700                     PUEBLA   \n",
       "2   06700                     TONALA   \n",
       "3   06600                CHAPULTEPEC   \n",
       "4   06700                    ORIZABA   \n",
       "5   06700                     JALAPA   \n",
       "6   06600                  LIVERPOOL   \n",
       "7   06700                    DURANGO   \n",
       "8   06700         PLAZA VILLA MADRID   \n",
       "9   06600                    AMBERES   \n",
       "10  06600                     GENOVA   \n",
       "11  06600                    LONDRES   \n",
       "12  06600                  LIVERPOOL   \n",
       "13  06600                      HAVRE   \n",
       "14  06600     2 PONIENTE (FLORENCIA)   \n",
       "15  06700                     JALAPA   \n",
       "16  06700                     OAXACA   \n",
       "17  06600                   MARSELLA   \n",
       "18  06700                     PUEBLA   \n",
       "19  06600                   HAMBURGO   \n",
       "20  06700                     MERIDA   \n",
       "21  06600                   HAMBURGO   \n",
       "22  06600                   HAMBURGO   \n",
       "23  06600                   HAMBURGO   \n",
       "24  06600                   HAMBURGO   \n",
       "25  06600                   HAMBURGO   \n",
       "26  06700             ÁLVARO OBREGÓN   \n",
       "27  06100             ALVARO OBREGON   \n",
       "28  06100                   MEDELLIN   \n",
       "29  06600         INSURGENTES CENTRO   \n",
       "30  06700                 VALLADOLID   \n",
       "31  06600                 COPENHAGUE   \n",
       "32  06700                     MERIDA   \n",
       "33  06700      3 PONIENTE (MEDELLIN)   \n",
       "34  06600                    LONDRES   \n",
       "35  06600                    LONDRES   \n",
       "36  06700                     MERIDA   \n",
       "37  06600                    LONDRES   \n",
       "38  06600                   HAMBURGO   \n",
       "39  06700                  ZACATECAS   \n",
       "40  06600                    LONDRES   \n",
       "41  06700  2-A SUR (SAN LUIS POTOSI)   \n",
       "42  06700                     COLIMA   \n",
       "43  06700  2-A SUR (SAN LUIS POTOSI)   \n",
       "44  06500        PASEO DE LA REFORMA   \n",
       "45  06700             ALVARO OBREGON   \n",
       "46  06700  2-A SUR (SAN LUIS POTOSI)   \n",
       "47  06100                     SONORA   \n",
       "48  06700            SAN LUIS POTOSI   \n",
       "49  06500                  RIO LERMA   \n",
       "50  06500                  RIO LERMA   \n",
       "\n",
       "                                 CentroComercial  \\\n",
       "0                                                  \n",
       "1                                                  \n",
       "2                                                  \n",
       "3                                                  \n",
       "4                                                  \n",
       "5                                                  \n",
       "6                                                  \n",
       "7                                                  \n",
       "8                                                  \n",
       "9                                                  \n",
       "10                                                 \n",
       "11                                                 \n",
       "12                                                 \n",
       "13                                                 \n",
       "14                                                 \n",
       "15                                                 \n",
       "16                                                 \n",
       "17                                                 \n",
       "18                                                 \n",
       "19                                                 \n",
       "20                                                 \n",
       "21                                                 \n",
       "22                                                 \n",
       "23                                                 \n",
       "24                                                 \n",
       "25                                                 \n",
       "26                                                 \n",
       "27                                                 \n",
       "28                                                 \n",
       "29                                                 \n",
       "30                                                 \n",
       "31                                                 \n",
       "32                                                 \n",
       "33                                                 \n",
       "34                                                 \n",
       "35                                                 \n",
       "36                                                 \n",
       "37                                                 \n",
       "38                                                 \n",
       "39                                                 \n",
       "40                                                 \n",
       "41                                                 \n",
       "42                                                 \n",
       "43                                                 \n",
       "44                          EDIFICIO REFORMA 369   \n",
       "45                                                 \n",
       "46                                                 \n",
       "47                                                 \n",
       "48                                                 \n",
       "49  EDIFICIO COMERCIAL Y DE SERVICIOS SIN NOMBRE   \n",
       "50                                                 \n",
       "\n",
       "                                      Clase_actividad         Colonia  \\\n",
       "0   Restaurantes con servicio de preparación de pi...      ROMA NORTE   \n",
       "1   Restaurantes con servicio de preparación de pi...      ROMA NORTE   \n",
       "2   Restaurantes con servicio de preparación de pi...      ROMA NORTE   \n",
       "3   Restaurantes con servicio de preparación de pi...          JUAREZ   \n",
       "4   Restaurantes con servicio de preparación de pi...      ROMA NORTE   \n",
       "5   Restaurantes con servicio de preparación de pi...      ROMA NORTE   \n",
       "6   Restaurantes con servicio de preparación de pi...          JUAREZ   \n",
       "7   Restaurantes con servicio de preparación de pi...      ROMA NORTE   \n",
       "8   Restaurantes con servicio de preparación de pi...      ROMA NORTE   \n",
       "9   Restaurantes con servicio de preparación de pi...          JUAREZ   \n",
       "10  Restaurantes con servicio de preparación de pi...          JUAREZ   \n",
       "11  Restaurantes con servicio de preparación de pi...          JUAREZ   \n",
       "12  Restaurantes con servicio de preparación de pi...          JUAREZ   \n",
       "13  Restaurantes con servicio de preparación de pi...          JUAREZ   \n",
       "14  Restaurantes con servicio de preparación de pi...          JUAREZ   \n",
       "15  Restaurantes con servicio de preparación de pi...      ROMA NORTE   \n",
       "16  Restaurantes con servicio de preparación de pi...      ROMA NORTE   \n",
       "17  Restaurantes con servicio de preparación de pi...          JUAREZ   \n",
       "18  Restaurantes con servicio de preparación de pi...      ROMA NORTE   \n",
       "19  Restaurantes con servicio de preparación de pi...          JUAREZ   \n",
       "20  Restaurantes con servicio de preparación de pi...      ROMA NORTE   \n",
       "21  Restaurantes con servicio de preparación de pi...          JUAREZ   \n",
       "22  Restaurantes con servicio de preparación de pi...          JUAREZ   \n",
       "23  Restaurantes con servicio de preparación de pi...          JUAREZ   \n",
       "24                       Restaurantes de autoservicio          JUAREZ   \n",
       "25  Restaurantes con servicio de preparación de pi...          JUAREZ   \n",
       "26  Restaurantes con servicio de preparación de pi...  ALVARO OBREGON   \n",
       "27                             Elaboración de botanas       HIPODROMO   \n",
       "28  Restaurantes con servicio de preparación de pi...       HIPODROMO   \n",
       "29  Restaurantes con servicio de preparación de pi...          JUAREZ   \n",
       "30  Restaurantes con servicio de preparación de pi...      ROMA NORTE   \n",
       "31  Restaurantes con servicio de preparación de pi...          JUAREZ   \n",
       "32  Restaurantes con servicio de preparación de pi...      ROMA NORTE   \n",
       "33  Restaurantes con servicio de preparación de pi...      ROMA NORTE   \n",
       "34  Restaurantes con servicio de preparación de pi...          JUAREZ   \n",
       "35  Restaurantes con servicio de preparación de pi...          JUAREZ   \n",
       "36  Restaurantes con servicio de preparación de pi...      ROMA NORTE   \n",
       "37  Restaurantes con servicio de preparación de pi...          JUÁREZ   \n",
       "38  Restaurantes con servicio de preparación de pi...          JUAREZ   \n",
       "39  Restaurantes con servicio de preparación de pi...      ROMA NORTE   \n",
       "40  Restaurantes con servicio de preparación de pi...          JUÁREZ   \n",
       "41  Restaurantes con servicio de preparación de pi...      ROMA NORTE   \n",
       "42  Restaurantes con servicio de preparación de pi...      ROMA NORTE   \n",
       "43  Restaurantes con servicio de preparación de pi...      ROMA NORTE   \n",
       "44  Restaurantes con servicio de preparación de al...      CUAUHTEMOC   \n",
       "45  Restaurantes con servicio de preparación de pi...      ROMA NORTE   \n",
       "46  Restaurantes con servicio de preparación de pi...      ROMA NORTE   \n",
       "47  Restaurantes con servicio de preparación de pi...       HIPODROMO   \n",
       "48  Restaurantes con servicio de preparación de pi...      ROMA NORTE   \n",
       "49  Restaurantes con servicio de preparación de pi...      CUAHUTEMOC   \n",
       "50  Restaurantes con servicio de preparación de pi...      CUAUHTEMOC   \n",
       "\n",
       "                                Correo_e           Estrato       Id  \\\n",
       "0                                           0 a 5 personas  1028244   \n",
       "1                                           0 a 5 personas   895093   \n",
       "2                                           0 a 5 personas  7732170   \n",
       "3                                           0 a 5 personas  8859086   \n",
       "4                                           0 a 5 personas  1029598   \n",
       "5                                           0 a 5 personas  8616792   \n",
       "6                            AS@PIXZA.MX    0 a 5 personas  8625429   \n",
       "7                                           0 a 5 personas  1029739   \n",
       "8             CIBELES@ARCHIPIELAGOMX.COM  11 a 30 personas  1027940   \n",
       "9                                          6 a 10 personas  1028823   \n",
       "10  ATENCION.CLIENTES@DRAGONFOODS.COM.MX  11 a 30 personas  6757521   \n",
       "11                                          0 a 5 personas  1029023   \n",
       "12                                          0 a 5 personas   895025   \n",
       "13                                        11 a 30 personas   873916   \n",
       "14            ZONAROSA@PIZZAAMORE.COM.MX    0 a 5 personas  6723827   \n",
       "15                                          0 a 5 personas  8327326   \n",
       "16                PARNTERSROMA@GMAIL.COM  11 a 30 personas  6718151   \n",
       "17                                          0 a 5 personas  9028804   \n",
       "18                                          0 a 5 personas  8386473   \n",
       "19                   DIROP@PIZZAPAZZA.MX   6 a 10 personas  7732734   \n",
       "20             PIZZAFRANCA2012@YAHOO.COM  11 a 30 personas   659849   \n",
       "21                                         6 a 10 personas  6304306   \n",
       "22                                         6 a 10 personas  8326204   \n",
       "23                                          0 a 5 personas  1043701   \n",
       "24                                        31 a 50 personas  6305420   \n",
       "25                 PJZONAROSA@DINESA.COM  11 a 30 personas  1028183   \n",
       "26                                        11 a 30 personas   898055   \n",
       "27                                          0 a 5 personas  8326980   \n",
       "28                                          0 a 5 personas  8626051   \n",
       "29                                         6 a 10 personas  6812600   \n",
       "30                                          0 a 5 personas   895736   \n",
       "31           RESTAURANTE@ILRITROVODF.COM   6 a 10 personas  1040429   \n",
       "32                ERICK.ORTEGA@GMAIL.COM    0 a 5 personas  8326927   \n",
       "33                                          0 a 5 personas   659492   \n",
       "34                                          0 a 5 personas  7732808   \n",
       "35                                         6 a 10 personas  1043145   \n",
       "36                                          0 a 5 personas  7732450   \n",
       "37                                        11 a 30 personas  6752649   \n",
       "38                ADRIAN7787@HOTMAIL.COM    0 a 5 personas  9162798   \n",
       "39                                          0 a 5 personas  7732343   \n",
       "40                  YAZMIN@POLLOSRAY.COM    0 a 5 personas  6751009   \n",
       "41                                          0 a 5 personas  8529010   \n",
       "42                     CHOWI@HOTMAIL.COM   6 a 10 personas   894761   \n",
       "43           ABORIGENROMANORTE@GMAIL.COM    0 a 5 personas  7732408   \n",
       "44                                         6 a 10 personas  9200228   \n",
       "45                                         6 a 10 personas  1029334   \n",
       "46              VICTOR.NOSTI@HOTMAIL.COM    0 a 5 personas   863652   \n",
       "47                                          0 a 5 personas  6719283   \n",
       "48                                          0 a 5 personas  7805003   \n",
       "49              BALBOA@GRUPOPATAGONIA.MX  31 a 50 personas  8338461   \n",
       "50                      HOLA@KOKUKOKU.MX  11 a 30 personas  6800197   \n",
       "\n",
       "        Latitud      Longitud  ... NumLocal Num_Exterior Num_Interior  \\\n",
       "0   19.42129060  -99.16351282  ...                                      \n",
       "1   19.42222148  -99.16321337  ...                                      \n",
       "2   19.42034204  -99.16312414  ...                    32                \n",
       "3   19.42308733  -99.16297729  ...                     2                \n",
       "4   19.42006506  -99.16028986  ...                                      \n",
       "5   19.41839312  -99.16114593  ...                   102            0   \n",
       "6   19.42366641  -99.16515183  ...                   162            0   \n",
       "7   19.42143574  -99.15853798  ...                    66                \n",
       "8   19.42035165  -99.16675781  ...                    17            0   \n",
       "9   19.42471646  -99.16490947  ...                    57                \n",
       "10  19.42526906  -99.16343591  ...                    70                \n",
       "11  19.42511501  -99.16448049  ...                   132            0   \n",
       "12  19.42554082  -99.16163120  ...                                      \n",
       "13  19.42543668  -99.16054754  ...                    68                \n",
       "14  19.42449136  -99.16626096  ...                    44            1   \n",
       "15  19.41703694  -99.16082185  ...                   122                \n",
       "16  19.41916532  -99.16715561  ...                    79                \n",
       "17  19.42521904  -99.15955481  ...                    60                \n",
       "18  19.42331049  -99.15772097  ...                    58            0   \n",
       "19  19.42628499  -99.16437297  ...                   108            4   \n",
       "20  19.41930004  -99.15754423  ...                   109                \n",
       "21  19.42638987  -99.16445103  ...                   113            0   \n",
       "22  19.42655715  -99.16380587  ...                    98            0   \n",
       "23  19.42655715  -99.16380587  ...                    98            0   \n",
       "24  19.42659570  -99.16372332  ...                                 44   \n",
       "25  19.42542574  -99.16661387  ...                   165                \n",
       "26  19.41845923  -99.15772086  ...                                 64   \n",
       "27  19.41668292  -99.16664092  ...                   250                \n",
       "28  19.41584119  -99.16553055  ...                                      \n",
       "29  19.42744430  -99.16111202  ...                    56                \n",
       "30  19.41707104  -99.16763314  ...                                      \n",
       "31  19.42786528  -99.16402602  ...                     4                \n",
       "32  19.41718957  -99.15689302  ...                   140                \n",
       "33  19.41486878  -99.16541453  ...                                      \n",
       "34  19.42769262  -99.15933698  ...                    37                \n",
       "35  19.42766516  -99.15903331  ...                    47            0   \n",
       "36  19.41656847  -99.15674058  ...                    52                \n",
       "37  19.42237580  -99.17054953  ...                   265                \n",
       "38  19.42847834  -99.16004948  ...                    41                \n",
       "39  19.41632151  -99.15664619  ...                    48            0   \n",
       "40  19.42228938  -99.17073187  ...                   271            0   \n",
       "41  19.41373373  -99.16103769  ...                   130                \n",
       "42  19.42120618  -99.15441237  ...                     5                \n",
       "43  19.41423787  -99.15850131  ...                    90                \n",
       "44  19.42660845  -99.16934621  ...        7          369                \n",
       "45  19.41640115  -99.16987163  ...                     3                \n",
       "46  19.41445886  -99.15737670  ...                    60                \n",
       "47  19.41528776  -99.16949321  ...                   140                \n",
       "48  19.41283682  -99.16558855  ...                   214                \n",
       "49  19.42974571  -99.16597489  ...        D           94            0   \n",
       "50  19.42974896  -99.16596794  ...                    94                \n",
       "\n",
       "                                         Razon_social  \\\n",
       "0                                                       \n",
       "1                                                       \n",
       "2                                                       \n",
       "3                                                       \n",
       "4                                                       \n",
       "5                                                       \n",
       "6                EMPODERAMIENTO SOCIAL PIXZA SA DE CV   \n",
       "7                                                       \n",
       "8                       PIZZERÍA CANCIN0,  SAPI DE CV   \n",
       "9                                                       \n",
       "10                            DGNF ESMERALDA SA DE CV   \n",
       "11                HAMBURGUESERÍA NACIONAL HN SA DE CV   \n",
       "12                                                      \n",
       "13                                                      \n",
       "14                               AMORE LERMA SA DE CV   \n",
       "15                                                      \n",
       "16                   HAMBURGUESAS EN LA ROMA SA DE CV   \n",
       "17                                                      \n",
       "18                                                      \n",
       "19                                 RED PAZZA SA DE CV   \n",
       "20                          OPERADORA FRANCA SA DE CV   \n",
       "21  OPERADORA Y PROCESADORA DE PRODUCTOS DE PANIFI...   \n",
       "22                        DISTRIBUIDORA GAGB SA DE CV   \n",
       "23                                                      \n",
       "24           PREMIUM RESTAURANT BRANDS S DE RL DE CV    \n",
       "25                              DINESA PIZZA SA DE CV   \n",
       "26                   RESTAURANTE FELIX, S.A. DE C.V.    \n",
       "27                                                      \n",
       "28                    HAMBURGUESAS AY CARBON SA DE CV   \n",
       "29                      LA PIZZA DE CADA DIA SA DE CV   \n",
       "30                                                      \n",
       "31                  MAELENA DEL PILAR DELGADO MACIAS    \n",
       "32                                                      \n",
       "33                                                      \n",
       "34                                    BARSEK SA DE CV   \n",
       "35                                                      \n",
       "36                                                      \n",
       "37                     AFICIONADOS DE PIZZAS S DE RL    \n",
       "38                                                      \n",
       "39                                                      \n",
       "40                             ALIMENTOS RAY SA DE CV   \n",
       "41                                                      \n",
       "42                                                      \n",
       "43                                                      \n",
       "44                             EL ITALIANITO SA DE CV   \n",
       "45                   RESTAURANTE PERRO VIEJO SA DE CV   \n",
       "46                                                      \n",
       "47                        DELGADA Y CUADRADA SA DE CV   \n",
       "48                                                      \n",
       "49                           PIZZERIA Y CERVECERIA SA   \n",
       "50                               PIZZA LERMA SA DE CV   \n",
       "\n",
       "                     Sitio_internet      Telefono      Tipo  \\\n",
       "0                                                  Semifijo   \n",
       "1                                                  Semifijo   \n",
       "2                                      5528748924  Semifijo   \n",
       "3         WWW.CORNELIOSPIZZA.COM.MX    5520747715      Fijo   \n",
       "4                                                  Semifijo   \n",
       "5                                                      Fijo   \n",
       "6                                                      Fijo   \n",
       "7                                                      Fijo   \n",
       "8                                      5555331087      Fijo   \n",
       "9                                                      Fijo   \n",
       "10           WWW.DRAGONFOODS.COM.MX                    Fijo   \n",
       "11    WWW.HAMBURGUSERIANACIONAL.COM    5552073107      Fijo   \n",
       "12                                     5522494983  Semifijo   \n",
       "13          WWW.HAVREENLAJUAREZ.COM                    Fijo   \n",
       "14            WWW.PIZZAAMORE.COM.MX    5555332667      Fijo   \n",
       "15                                                     Fijo   \n",
       "16                                                     Fijo   \n",
       "17                                                     Fijo   \n",
       "18                                     5555147422      Fijo   \n",
       "19                                                     Fijo   \n",
       "20                                                     Fijo   \n",
       "21               WWW.DOMINOS.COM.MX                    Fijo   \n",
       "22                                                     Fijo   \n",
       "23                                     5552072676      Fijo   \n",
       "24              WWW.PIZZAHUT.COM.MX                    Fijo   \n",
       "25  WWW.PAPAJOHNSCUIDADDEMEXICO.COM    5552077272      Fijo   \n",
       "26                                                     Fijo   \n",
       "27                                                     Fijo   \n",
       "28                                                 Semifijo   \n",
       "29             WWW.PIZZALIANNIS.COM  015552082277      Fijo   \n",
       "30                                                 Semifijo   \n",
       "31              WWW.ILRITROVODF.COM    5555336449      Fijo   \n",
       "32                                    55610054116      Fijo   \n",
       "33                                     5561166498  Semifijo   \n",
       "34                                                     Fijo   \n",
       "35                                                     Fijo   \n",
       "36                                                     Fijo   \n",
       "37                                                     Fijo   \n",
       "38                                                     Fijo   \n",
       "39                                                     Fijo   \n",
       "40                                                     Fijo   \n",
       "41                                                     Fijo   \n",
       "42                                                     Fijo   \n",
       "43                                                     Fijo   \n",
       "44                                                     Fijo   \n",
       "45       WWW.PIZZADELPERRONEGRO.COM    5555339249      Fijo   \n",
       "46                                                     Fijo   \n",
       "47                                     5552564384      Fijo   \n",
       "48                                                     Fijo   \n",
       "49                                                     Fijo   \n",
       "50                                                     Fijo   \n",
       "\n",
       "                  TipoCentroComercial Tipo_vialidad  \\\n",
       "0                                             CALLE   \n",
       "1                                             CALLE   \n",
       "2                                             CALLE   \n",
       "3                                           AVENIDA   \n",
       "4                                             CALLE   \n",
       "5                                             CALLE   \n",
       "6                                             CALLE   \n",
       "7                                             CALLE   \n",
       "8                                           AVENIDA   \n",
       "9                                             CALLE   \n",
       "10                                            CALLE   \n",
       "11                                            CALLE   \n",
       "12                                            CALLE   \n",
       "13                                            CALLE   \n",
       "14                                         EJE VIAL   \n",
       "15                                            CALLE   \n",
       "16                                          AVENIDA   \n",
       "17                                            CALLE   \n",
       "18                                            CALLE   \n",
       "19                                            CALLE   \n",
       "20                                            CALLE   \n",
       "21                                            CALLE   \n",
       "22                                            CALLE   \n",
       "23                                            CALLE   \n",
       "24                                            CALLE   \n",
       "25                                            CALLE   \n",
       "26                                          AVENIDA   \n",
       "27                                          AVENIDA   \n",
       "28                                            CALLE   \n",
       "29                                          AVENIDA   \n",
       "30                                            CALLE   \n",
       "31                                            CALLE   \n",
       "32                                            CALLE   \n",
       "33                                         EJE VIAL   \n",
       "34                                            CALLE   \n",
       "35                                            CALLE   \n",
       "36                                            CALLE   \n",
       "37                                            CALLE   \n",
       "38                                            CALLE   \n",
       "39                                            CALLE   \n",
       "40                                            CALLE   \n",
       "41                                         EJE VIAL   \n",
       "42                                            CALLE   \n",
       "43                                         EJE VIAL   \n",
       "44  EDIFICIO COMERCIAL Y DE SERVICIOS       AVENIDA   \n",
       "45                                          AVENIDA   \n",
       "46                                         EJE VIAL   \n",
       "47                                          AVENIDA   \n",
       "48                                            CALLE   \n",
       "49  EDIFICIO COMERCIAL Y DE SERVICIOS         CALLE   \n",
       "50                                            CALLE   \n",
       "\n",
       "                                   Ubicacion  \n",
       "0   CUAUHTÉMOC, Cuauhtémoc, CIUDAD DE MÉXICO  \n",
       "1   CUAUHTÉMOC, Cuauhtémoc, CIUDAD DE MÉXICO  \n",
       "2   CUAUHTÉMOC, Cuauhtémoc, CIUDAD DE MÉXICO  \n",
       "3   CUAUHTÉMOC, Cuauhtémoc, CIUDAD DE MÉXICO  \n",
       "4   CUAUHTÉMOC, Cuauhtémoc, CIUDAD DE MÉXICO  \n",
       "5   CUAUHTÉMOC, Cuauhtémoc, CIUDAD DE MÉXICO  \n",
       "6   CUAUHTÉMOC, Cuauhtémoc, CIUDAD DE MÉXICO  \n",
       "7   CUAUHTÉMOC, Cuauhtémoc, CIUDAD DE MÉXICO  \n",
       "8   CUAUHTÉMOC, Cuauhtémoc, CIUDAD DE MÉXICO  \n",
       "9   CUAUHTÉMOC, Cuauhtémoc, CIUDAD DE MÉXICO  \n",
       "10  CUAUHTÉMOC, Cuauhtémoc, CIUDAD DE MÉXICO  \n",
       "11  CUAUHTÉMOC, Cuauhtémoc, CIUDAD DE MÉXICO  \n",
       "12  CUAUHTÉMOC, Cuauhtémoc, CIUDAD DE MÉXICO  \n",
       "13  CUAUHTÉMOC, Cuauhtémoc, CIUDAD DE MÉXICO  \n",
       "14  CUAUHTÉMOC, Cuauhtémoc, CIUDAD DE MÉXICO  \n",
       "15  CUAUHTÉMOC, Cuauhtémoc, CIUDAD DE MÉXICO  \n",
       "16  CUAUHTÉMOC, Cuauhtémoc, CIUDAD DE MÉXICO  \n",
       "17  CUAUHTÉMOC, Cuauhtémoc, CIUDAD DE MÉXICO  \n",
       "18  CUAUHTÉMOC, Cuauhtémoc, CIUDAD DE MÉXICO  \n",
       "19  CUAUHTÉMOC, Cuauhtémoc, CIUDAD DE MÉXICO  \n",
       "20  CUAUHTÉMOC, Cuauhtémoc, CIUDAD DE MÉXICO  \n",
       "21  CUAUHTÉMOC, Cuauhtémoc, CIUDAD DE MÉXICO  \n",
       "22  CUAUHTÉMOC, Cuauhtémoc, CIUDAD DE MÉXICO  \n",
       "23  CUAUHTÉMOC, Cuauhtémoc, CIUDAD DE MÉXICO  \n",
       "24  CUAUHTÉMOC, Cuauhtémoc, CIUDAD DE MÉXICO  \n",
       "25  CUAUHTÉMOC, Cuauhtémoc, CIUDAD DE MÉXICO  \n",
       "26  CUAUHTÉMOC, Cuauhtémoc, CIUDAD DE MÉXICO  \n",
       "27  CUAUHTÉMOC, Cuauhtémoc, CIUDAD DE MÉXICO  \n",
       "28  CUAUHTÉMOC, Cuauhtémoc, CIUDAD DE MÉXICO  \n",
       "29  CUAUHTÉMOC, Cuauhtémoc, CIUDAD DE MÉXICO  \n",
       "30  CUAUHTÉMOC, Cuauhtémoc, CIUDAD DE MÉXICO  \n",
       "31  CUAUHTÉMOC, Cuauhtémoc, CIUDAD DE MÉXICO  \n",
       "32  CUAUHTÉMOC, Cuauhtémoc, CIUDAD DE MÉXICO  \n",
       "33  CUAUHTÉMOC, Cuauhtémoc, CIUDAD DE MÉXICO  \n",
       "34  CUAUHTÉMOC, Cuauhtémoc, CIUDAD DE MÉXICO  \n",
       "35  CUAUHTÉMOC, Cuauhtémoc, CIUDAD DE MÉXICO  \n",
       "36  CUAUHTÉMOC, Cuauhtémoc, CIUDAD DE MÉXICO  \n",
       "37  CUAUHTÉMOC, Cuauhtémoc, CIUDAD DE MÉXICO  \n",
       "38  CUAUHTÉMOC, Cuauhtémoc, CIUDAD DE MÉXICO  \n",
       "39  CUAUHTÉMOC, Cuauhtémoc, CIUDAD DE MÉXICO  \n",
       "40  CUAUHTÉMOC, Cuauhtémoc, CIUDAD DE MÉXICO  \n",
       "41  CUAUHTÉMOC, Cuauhtémoc, CIUDAD DE MÉXICO  \n",
       "42  CUAUHTÉMOC, Cuauhtémoc, CIUDAD DE MÉXICO  \n",
       "43  CUAUHTÉMOC, Cuauhtémoc, CIUDAD DE MÉXICO  \n",
       "44  CUAUHTÉMOC, Cuauhtémoc, CIUDAD DE MÉXICO  \n",
       "45  CUAUHTÉMOC, Cuauhtémoc, CIUDAD DE MÉXICO  \n",
       "46  CUAUHTÉMOC, Cuauhtémoc, CIUDAD DE MÉXICO  \n",
       "47  CUAUHTÉMOC, Cuauhtémoc, CIUDAD DE MÉXICO  \n",
       "48  CUAUHTÉMOC, Cuauhtémoc, CIUDAD DE MÉXICO  \n",
       "49  CUAUHTÉMOC, Cuauhtémoc, CIUDAD DE MÉXICO  \n",
       "50  CUAUHTÉMOC, Cuauhtémoc, CIUDAD DE MÉXICO  \n",
       "\n",
       "[51 rows x 21 columns]"
      ]
     },
     "execution_count": 27,
     "metadata": {},
     "output_type": "execute_result"
    }
   ],
   "source": [
    "data"
   ]
  },
  {
   "cell_type": "code",
   "execution_count": 28,
   "metadata": {},
   "outputs": [
    {
     "name": "stderr",
     "output_type": "stream",
     "text": [
      "C:\\ProgramData\\Anaconda3\\lib\\site-packages\\IPython\\core\\interactiveshell.py:3057: DtypeWarning:\n",
      "\n",
      "Columns (34) have mixed types. Specify dtype option on import or set low_memory=False.\n",
      "\n"
     ]
    }
   ],
   "source": [
    "datafe = pd.read_csv('../denue_inegi_09.csv',encoding = \"ISO-8859-1\")\n"
   ]
  },
  {
   "cell_type": "code",
   "execution_count": 56,
   "metadata": {},
   "outputs": [
    {
     "name": "stdout",
     "output_type": "stream",
     "text": [
      "<class 'pandas.core.frame.DataFrame'>\n",
      "RangeIndex: 466301 entries, 0 to 466300\n",
      "Data columns (total 41 columns):\n",
      "id            466301 non-null int64\n",
      "nom_estab     466301 non-null object\n",
      "raz_social    103391 non-null object\n",
      "codigo_act    466301 non-null int64\n",
      "nombre_act    466301 non-null object\n",
      "per_ocu       466301 non-null object\n",
      "tipo_vial     465766 non-null object\n",
      "nom_vial      466293 non-null object\n",
      "tipo_v_e_1    457196 non-null object\n",
      "nom_v_e_1     458016 non-null object\n",
      "tipo_v_e_2    457271 non-null object\n",
      "nom_v_e_2     458002 non-null object\n",
      "tipo_v_e_3    457539 non-null object\n",
      "nom_v_e_3     457924 non-null object\n",
      "numero_ext    388060 non-null float64\n",
      "letra_ext     184386 non-null object\n",
      "edificio      90517 non-null object\n",
      "edificio_e    92137 non-null float64\n",
      "numero_int    206142 non-null float64\n",
      "letra_int     46141 non-null object\n",
      "tipo_asent    466156 non-null object\n",
      "nomb_asent    466263 non-null object\n",
      "tipoCenCom    88178 non-null object\n",
      "nom_CenCom    87444 non-null object\n",
      "num_local     86838 non-null object\n",
      "cod_postal    466111 non-null float64\n",
      "cve_ent       466301 non-null int64\n",
      "entidad       466301 non-null object\n",
      "cve_mun       466301 non-null int64\n",
      "municipio     466301 non-null object\n",
      "cve_loc       466301 non-null int64\n",
      "localidad     466301 non-null object\n",
      "ageb          466285 non-null object\n",
      "manzana       466285 non-null float64\n",
      "telefono      125493 non-null object\n",
      "correoelec    78268 non-null object\n",
      "www           37279 non-null object\n",
      "tipoUniEco    466301 non-null object\n",
      "latitud       466301 non-null float64\n",
      "longitud      466301 non-null float64\n",
      "fecha_alta    466301 non-null object\n",
      "dtypes: float64(7), int64(5), object(29)\n",
      "memory usage: 145.9+ MB\n"
     ]
    }
   ],
   "source": [
    "#Limpieza denue cdmx\n",
    "datafe.info()\n",
    "def joi (x):\n",
    "    return x+\"-01\""
   ]
  },
  {
   "cell_type": "code",
   "execution_count": 60,
   "metadata": {},
   "outputs": [
    {
     "data": {
      "text/html": [
       "<div>\n",
       "<style scoped>\n",
       "    .dataframe tbody tr th:only-of-type {\n",
       "        vertical-align: middle;\n",
       "    }\n",
       "\n",
       "    .dataframe tbody tr th {\n",
       "        vertical-align: top;\n",
       "    }\n",
       "\n",
       "    .dataframe thead th {\n",
       "        text-align: right;\n",
       "    }\n",
       "</style>\n",
       "<table border=\"1\" class=\"dataframe\">\n",
       "  <thead>\n",
       "    <tr style=\"text-align: right;\">\n",
       "      <th></th>\n",
       "      <th>id</th>\n",
       "      <th>nom_estab</th>\n",
       "      <th>codigo_act</th>\n",
       "      <th>nombre_act</th>\n",
       "      <th>tipoCenCom</th>\n",
       "      <th>per_ocu</th>\n",
       "      <th>tipoUniEco</th>\n",
       "      <th>ageb</th>\n",
       "      <th>manzana</th>\n",
       "      <th>latitud</th>\n",
       "      <th>longitud</th>\n",
       "      <th>fecha_alta</th>\n",
       "      <th>www</th>\n",
       "      <th>Año</th>\n",
       "      <th>Mes</th>\n",
       "    </tr>\n",
       "  </thead>\n",
       "  <tbody>\n",
       "    <tr>\n",
       "      <th>0</th>\n",
       "      <td>8441800</td>\n",
       "      <td>AGRO DESARROLLADORES NUTRICIONALES Y ESPECIALI...</td>\n",
       "      <td>115111</td>\n",
       "      <td>Servicios de fumigación agrícola</td>\n",
       "      <td>CENTRO Y PLAZA COMERCIAL</td>\n",
       "      <td>6 a 10 personas</td>\n",
       "      <td>Fijo</td>\n",
       "      <td>0717</td>\n",
       "      <td>19.0</td>\n",
       "      <td>19.366556</td>\n",
       "      <td>-99.181129</td>\n",
       "      <td>2019-11-01</td>\n",
       "      <td>NaN</td>\n",
       "      <td>2019</td>\n",
       "      <td>11</td>\n",
       "    </tr>\n",
       "    <tr>\n",
       "      <th>1</th>\n",
       "      <td>8827515</td>\n",
       "      <td>ALTA ALIMENTACIÓN GIGANTE</td>\n",
       "      <td>115119</td>\n",
       "      <td>Otros servicios relacionados con la agricultura</td>\n",
       "      <td>CENTRO Y PLAZA COMERCIAL</td>\n",
       "      <td>251 y más personas</td>\n",
       "      <td>Fijo</td>\n",
       "      <td>0552</td>\n",
       "      <td>1.0</td>\n",
       "      <td>19.438440</td>\n",
       "      <td>-99.199608</td>\n",
       "      <td>2019-11-01</td>\n",
       "      <td>TOKS.COM.MX</td>\n",
       "      <td>2019</td>\n",
       "      <td>11</td>\n",
       "    </tr>\n",
       "    <tr>\n",
       "      <th>2</th>\n",
       "      <td>7337437</td>\n",
       "      <td>ARCAM</td>\n",
       "      <td>115111</td>\n",
       "      <td>Servicios de fumigación agrícola</td>\n",
       "      <td>NaN</td>\n",
       "      <td>0 a 5 personas</td>\n",
       "      <td>Fijo</td>\n",
       "      <td>0768</td>\n",
       "      <td>5.0</td>\n",
       "      <td>19.390030</td>\n",
       "      <td>-99.125244</td>\n",
       "      <td>2019-11-01</td>\n",
       "      <td>NaN</td>\n",
       "      <td>2019</td>\n",
       "      <td>11</td>\n",
       "    </tr>\n",
       "    <tr>\n",
       "      <th>3</th>\n",
       "      <td>8602727</td>\n",
       "      <td>CALIDAD AGROALIMENTARIA</td>\n",
       "      <td>115210</td>\n",
       "      <td>Servicios relacionados con la cría y explotaci...</td>\n",
       "      <td>NaN</td>\n",
       "      <td>11 a 30 personas</td>\n",
       "      <td>Fijo</td>\n",
       "      <td>0182</td>\n",
       "      <td>5.0</td>\n",
       "      <td>19.300314</td>\n",
       "      <td>-99.163620</td>\n",
       "      <td>2019-11-01</td>\n",
       "      <td>WWW.CALIDADAGROALIMENTARIA.ORG.MX</td>\n",
       "      <td>2019</td>\n",
       "      <td>11</td>\n",
       "    </tr>\n",
       "    <tr>\n",
       "      <th>4</th>\n",
       "      <td>8737156</td>\n",
       "      <td>CJUNICULTURA Y CRIA DE PATOS Y GALLOS SIN NOMBRE</td>\n",
       "      <td>112930</td>\n",
       "      <td>Cunicultura y explotación de animales con pela...</td>\n",
       "      <td>NaN</td>\n",
       "      <td>0 a 5 personas</td>\n",
       "      <td>Fijo</td>\n",
       "      <td>1107</td>\n",
       "      <td>11.0</td>\n",
       "      <td>19.285812</td>\n",
       "      <td>-99.022278</td>\n",
       "      <td>2019-11-01</td>\n",
       "      <td>NaN</td>\n",
       "      <td>2019</td>\n",
       "      <td>11</td>\n",
       "    </tr>\n",
       "  </tbody>\n",
       "</table>\n",
       "</div>"
      ],
      "text/plain": [
       "        id                                          nom_estab  codigo_act  \\\n",
       "0  8441800  AGRO DESARROLLADORES NUTRICIONALES Y ESPECIALI...      115111   \n",
       "1  8827515                          ALTA ALIMENTACIÓN GIGANTE      115119   \n",
       "2  7337437                                              ARCAM      115111   \n",
       "3  8602727                            CALIDAD AGROALIMENTARIA      115210   \n",
       "4  8737156   CJUNICULTURA Y CRIA DE PATOS Y GALLOS SIN NOMBRE      112930   \n",
       "\n",
       "                                          nombre_act  \\\n",
       "0                   Servicios de fumigación agrícola   \n",
       "1    Otros servicios relacionados con la agricultura   \n",
       "2                   Servicios de fumigación agrícola   \n",
       "3  Servicios relacionados con la cría y explotaci...   \n",
       "4  Cunicultura y explotación de animales con pela...   \n",
       "\n",
       "                 tipoCenCom             per_ocu tipoUniEco  ageb  manzana  \\\n",
       "0  CENTRO Y PLAZA COMERCIAL     6 a 10 personas       Fijo  0717     19.0   \n",
       "1  CENTRO Y PLAZA COMERCIAL  251 y más personas       Fijo  0552      1.0   \n",
       "2                       NaN      0 a 5 personas       Fijo  0768      5.0   \n",
       "3                       NaN    11 a 30 personas       Fijo  0182      5.0   \n",
       "4                       NaN      0 a 5 personas       Fijo  1107     11.0   \n",
       "\n",
       "     latitud   longitud fecha_alta                                www   Año  \\\n",
       "0  19.366556 -99.181129 2019-11-01                                NaN  2019   \n",
       "1  19.438440 -99.199608 2019-11-01                        TOKS.COM.MX  2019   \n",
       "2  19.390030 -99.125244 2019-11-01                                NaN  2019   \n",
       "3  19.300314 -99.163620 2019-11-01  WWW.CALIDADAGROALIMENTARIA.ORG.MX  2019   \n",
       "4  19.285812 -99.022278 2019-11-01                                NaN  2019   \n",
       "\n",
       "   Mes  \n",
       "0   11  \n",
       "1   11  \n",
       "2   11  \n",
       "3   11  \n",
       "4   11  "
      ]
     },
     "execution_count": 60,
     "metadata": {},
     "output_type": "execute_result"
    }
   ],
   "source": [
    "copy = datafe.copy()\n",
    "\n",
    "info=copy[[\"id\",\"nom_estab\",\"codigo_act\",\"nombre_act\",\"tipoCenCom\",\"per_ocu\",\"tipoUniEco\",\"ageb\",\"manzana\",\"latitud\",\"longitud\",\"fecha_alta\",\"www\"]]   \n",
    "new = info[\"fecha_alta\"].str.split(\"-\", n = 1, expand = True) \n",
    "info[\"Año\"]= new[0] \n",
    "info[\"Mes\"]= new[1] \n",
    "info[\"Año\"]=info.Año.astype(int)\n",
    "info[\"Mes\"]=info.Mes.astype(int)\n",
    "info[\"fecha_alta\"]=info[\"fecha_alta\"].apply(joi)\n",
    "for e in info.select_dtypes('object').columns:\n",
    "    info[e]=info[e].astype('category')\n",
    "for e in info.select_dtypes('integer').columns:\n",
    "    info[e]=pd.to_numeric(info[e], downcast='integer')\n",
    "for e in info.select_dtypes('float').columns:\n",
    "    info[e]=pd.to_numeric(info[e], downcast='float')  \n",
    "info[\"fecha_alta\"]=pd.to_datetime(info.fecha_alta)\n",
    "    \n",
    "\n",
    "\n",
    "info.head()"
   ]
  },
  {
   "cell_type": "code",
   "execution_count": 61,
   "metadata": {},
   "outputs": [
    {
     "name": "stdout",
     "output_type": "stream",
     "text": [
      "<class 'pandas.core.frame.DataFrame'>\n",
      "RangeIndex: 466301 entries, 0 to 466300\n",
      "Data columns (total 15 columns):\n",
      "id            466301 non-null int32\n",
      "nom_estab     466301 non-null category\n",
      "codigo_act    466301 non-null int32\n",
      "nombre_act    466301 non-null category\n",
      "tipoCenCom    88178 non-null category\n",
      "per_ocu       466301 non-null category\n",
      "tipoUniEco    466301 non-null category\n",
      "ageb          466285 non-null category\n",
      "manzana       466285 non-null float32\n",
      "latitud       466301 non-null float32\n",
      "longitud      466301 non-null float32\n",
      "fecha_alta    466301 non-null datetime64[ns]\n",
      "www           37279 non-null category\n",
      "Año           466301 non-null int16\n",
      "Mes           466301 non-null int8\n",
      "dtypes: category(7), datetime64[ns](1), float32(3), int16(1), int32(2), int8(1)\n",
      "memory usage: 33.5 MB\n"
     ]
    }
   ],
   "source": [
    "info.info()"
   ]
  },
  {
   "cell_type": "code",
   "execution_count": 63,
   "metadata": {},
   "outputs": [
    {
     "data": {
      "text/plain": [
       "51"
      ]
     },
     "execution_count": 63,
     "metadata": {},
     "output_type": "execute_result"
    }
   ],
   "source": [
    "empresas=data.Id\n",
    "len(empresas)\n",
    "d=info[info[\"id\"].isin(empresas)]\n",
    "d.reset_index(drop=True,inplace=True)\n",
    "d.head()\n",
    "len(d)"
   ]
  },
  {
   "cell_type": "code",
   "execution_count": 34,
   "metadata": {},
   "outputs": [
    {
     "data": {
      "text/html": [
       "<div style=\"width:100%;\"><div style=\"position:relative;width:100%;height:0;padding-bottom:60%;\"><iframe src=\"data:text/html;charset=utf-8;base64,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\" style=\"position:absolute;width:100%;height:100%;left:0;top:0;border:none !important;\" allowfullscreen webkitallowfullscreen mozallowfullscreen></iframe></div></div>"
      ],
      "text/plain": [
       "<folium.folium.Map at 0x1bb29e2e9e8>"
      ]
     },
     "metadata": {},
     "output_type": "display_data"
    }
   ],
   "source": [
    "llat=list(d.latitud)\n",
    "llong=list(d.longitud)\n",
    "name=list(d.nom_estab)\n",
    "\n",
    "mapa=folium.Map(location=[long, lat], tiles='openstreetmap', zoom_start=15)\n",
    "\n",
    "for i in range(len(d)):\n",
    "    folium.Marker([llat[i], llong[i]], icon=folium.Icon(color='red'),popup=name[i]).add_to(mapa)\n",
    "    \n",
    "display(mapa)"
   ]
  },
  {
   "cell_type": "code",
   "execution_count": 35,
   "metadata": {},
   "outputs": [
    {
     "data": {
      "text/html": [
       "        <script type=\"text/javascript\">\n",
       "        window.PlotlyConfig = {MathJaxConfig: 'local'};\n",
       "        if (window.MathJax) {MathJax.Hub.Config({SVG: {font: \"STIX-Web\"}});}\n",
       "        if (typeof require !== 'undefined') {\n",
       "        require.undef(\"plotly\");\n",
       "        requirejs.config({\n",
       "            paths: {\n",
       "                'plotly': ['https://cdn.plot.ly/plotly-latest.min']\n",
       "            }\n",
       "        });\n",
       "        require(['plotly'], function(Plotly) {\n",
       "            window._Plotly = Plotly;\n",
       "        });\n",
       "        }\n",
       "        </script>\n",
       "        "
      ]
     },
     "metadata": {},
     "output_type": "display_data"
    }
   ],
   "source": [
    "import chart_studio.plotly as py\n",
    "import cufflinks as cf\n",
    "from ipywidgets import interact\n",
    "cf.go_offline()"
   ]
  },
  {
   "cell_type": "code",
   "execution_count": 64,
   "metadata": {},
   "outputs": [
    {
     "name": "stdout",
     "output_type": "stream",
     "text": [
      "      Año\n",
      "2019   21\n",
      "2010   14\n",
      "2016    6\n",
      "2014    6\n",
      "2017    2\n",
      "2011    2\n"
     ]
    }
   ],
   "source": [
    "d.head()\n",
    "gk =pd.DataFrame(d.Año.value_counts())\n",
    "print(gk)\n",
    "gk=gk.reset_index(drop=False)\n",
    "gk=gk.sort_values(by=['index'])\n",
    "\n",
    "gm =pd.DataFrame(d.Mes.value_counts())\n",
    "gm=gm.reset_index(drop=False)\n",
    "gm=gm.sort_values(by=['index'])"
   ]
  },
  {
   "cell_type": "code",
   "execution_count": 38,
   "metadata": {},
   "outputs": [
    {
     "data": {
      "application/vnd.plotly.v1+json": {
       "config": {
        "linkText": "Export to plot.ly",
        "plotlyServerURL": "https://plot.ly",
        "showLink": true
       },
       "data": [
        {
         "marker": {
          "color": "rgba(255, 153, 51, 0.6)",
          "line": {
           "color": "rgba(255, 153, 51, 1.0)",
           "width": 1
          }
         },
         "name": "Mes",
         "orientation": "v",
         "text": "",
         "type": "bar",
         "x": [
          1,
          3,
          7,
          10,
          11,
          12
         ],
         "y": [
          3,
          2,
          14,
          3,
          23,
          6
         ]
        }
       ],
       "layout": {
        "legend": {
         "bgcolor": "#F5F6F9",
         "font": {
          "color": "#4D5663"
         }
        },
        "paper_bgcolor": "#F5F6F9",
        "plot_bgcolor": "#F5F6F9",
        "template": {
         "data": {
          "bar": [
           {
            "error_x": {
             "color": "#2a3f5f"
            },
            "error_y": {
             "color": "#2a3f5f"
            },
            "marker": {
             "line": {
              "color": "#E5ECF6",
              "width": 0.5
             }
            },
            "type": "bar"
           }
          ],
          "barpolar": [
           {
            "marker": {
             "line": {
              "color": "#E5ECF6",
              "width": 0.5
             }
            },
            "type": "barpolar"
           }
          ],
          "carpet": [
           {
            "aaxis": {
             "endlinecolor": "#2a3f5f",
             "gridcolor": "white",
             "linecolor": "white",
             "minorgridcolor": "white",
             "startlinecolor": "#2a3f5f"
            },
            "baxis": {
             "endlinecolor": "#2a3f5f",
             "gridcolor": "white",
             "linecolor": "white",
             "minorgridcolor": "white",
             "startlinecolor": "#2a3f5f"
            },
            "type": "carpet"
           }
          ],
          "choropleth": [
           {
            "colorbar": {
             "outlinewidth": 0,
             "ticks": ""
            },
            "type": "choropleth"
           }
          ],
          "contour": [
           {
            "colorbar": {
             "outlinewidth": 0,
             "ticks": ""
            },
            "colorscale": [
             [
              0,
              "#0d0887"
             ],
             [
              0.1111111111111111,
              "#46039f"
             ],
             [
              0.2222222222222222,
              "#7201a8"
             ],
             [
              0.3333333333333333,
              "#9c179e"
             ],
             [
              0.4444444444444444,
              "#bd3786"
             ],
             [
              0.5555555555555556,
              "#d8576b"
             ],
             [
              0.6666666666666666,
              "#ed7953"
             ],
             [
              0.7777777777777778,
              "#fb9f3a"
             ],
             [
              0.8888888888888888,
              "#fdca26"
             ],
             [
              1,
              "#f0f921"
             ]
            ],
            "type": "contour"
           }
          ],
          "contourcarpet": [
           {
            "colorbar": {
             "outlinewidth": 0,
             "ticks": ""
            },
            "type": "contourcarpet"
           }
          ],
          "heatmap": [
           {
            "colorbar": {
             "outlinewidth": 0,
             "ticks": ""
            },
            "colorscale": [
             [
              0,
              "#0d0887"
             ],
             [
              0.1111111111111111,
              "#46039f"
             ],
             [
              0.2222222222222222,
              "#7201a8"
             ],
             [
              0.3333333333333333,
              "#9c179e"
             ],
             [
              0.4444444444444444,
              "#bd3786"
             ],
             [
              0.5555555555555556,
              "#d8576b"
             ],
             [
              0.6666666666666666,
              "#ed7953"
             ],
             [
              0.7777777777777778,
              "#fb9f3a"
             ],
             [
              0.8888888888888888,
              "#fdca26"
             ],
             [
              1,
              "#f0f921"
             ]
            ],
            "type": "heatmap"
           }
          ],
          "heatmapgl": [
           {
            "colorbar": {
             "outlinewidth": 0,
             "ticks": ""
            },
            "colorscale": [
             [
              0,
              "#0d0887"
             ],
             [
              0.1111111111111111,
              "#46039f"
             ],
             [
              0.2222222222222222,
              "#7201a8"
             ],
             [
              0.3333333333333333,
              "#9c179e"
             ],
             [
              0.4444444444444444,
              "#bd3786"
             ],
             [
              0.5555555555555556,
              "#d8576b"
             ],
             [
              0.6666666666666666,
              "#ed7953"
             ],
             [
              0.7777777777777778,
              "#fb9f3a"
             ],
             [
              0.8888888888888888,
              "#fdca26"
             ],
             [
              1,
              "#f0f921"
             ]
            ],
            "type": "heatmapgl"
           }
          ],
          "histogram": [
           {
            "marker": {
             "colorbar": {
              "outlinewidth": 0,
              "ticks": ""
             }
            },
            "type": "histogram"
           }
          ],
          "histogram2d": [
           {
            "colorbar": {
             "outlinewidth": 0,
             "ticks": ""
            },
            "colorscale": [
             [
              0,
              "#0d0887"
             ],
             [
              0.1111111111111111,
              "#46039f"
             ],
             [
              0.2222222222222222,
              "#7201a8"
             ],
             [
              0.3333333333333333,
              "#9c179e"
             ],
             [
              0.4444444444444444,
              "#bd3786"
             ],
             [
              0.5555555555555556,
              "#d8576b"
             ],
             [
              0.6666666666666666,
              "#ed7953"
             ],
             [
              0.7777777777777778,
              "#fb9f3a"
             ],
             [
              0.8888888888888888,
              "#fdca26"
             ],
             [
              1,
              "#f0f921"
             ]
            ],
            "type": "histogram2d"
           }
          ],
          "histogram2dcontour": [
           {
            "colorbar": {
             "outlinewidth": 0,
             "ticks": ""
            },
            "colorscale": [
             [
              0,
              "#0d0887"
             ],
             [
              0.1111111111111111,
              "#46039f"
             ],
             [
              0.2222222222222222,
              "#7201a8"
             ],
             [
              0.3333333333333333,
              "#9c179e"
             ],
             [
              0.4444444444444444,
              "#bd3786"
             ],
             [
              0.5555555555555556,
              "#d8576b"
             ],
             [
              0.6666666666666666,
              "#ed7953"
             ],
             [
              0.7777777777777778,
              "#fb9f3a"
             ],
             [
              0.8888888888888888,
              "#fdca26"
             ],
             [
              1,
              "#f0f921"
             ]
            ],
            "type": "histogram2dcontour"
           }
          ],
          "mesh3d": [
           {
            "colorbar": {
             "outlinewidth": 0,
             "ticks": ""
            },
            "type": "mesh3d"
           }
          ],
          "parcoords": [
           {
            "line": {
             "colorbar": {
              "outlinewidth": 0,
              "ticks": ""
             }
            },
            "type": "parcoords"
           }
          ],
          "pie": [
           {
            "automargin": true,
            "type": "pie"
           }
          ],
          "scatter": [
           {
            "marker": {
             "colorbar": {
              "outlinewidth": 0,
              "ticks": ""
             }
            },
            "type": "scatter"
           }
          ],
          "scatter3d": [
           {
            "line": {
             "colorbar": {
              "outlinewidth": 0,
              "ticks": ""
             }
            },
            "marker": {
             "colorbar": {
              "outlinewidth": 0,
              "ticks": ""
             }
            },
            "type": "scatter3d"
           }
          ],
          "scattercarpet": [
           {
            "marker": {
             "colorbar": {
              "outlinewidth": 0,
              "ticks": ""
             }
            },
            "type": "scattercarpet"
           }
          ],
          "scattergeo": [
           {
            "marker": {
             "colorbar": {
              "outlinewidth": 0,
              "ticks": ""
             }
            },
            "type": "scattergeo"
           }
          ],
          "scattergl": [
           {
            "marker": {
             "colorbar": {
              "outlinewidth": 0,
              "ticks": ""
             }
            },
            "type": "scattergl"
           }
          ],
          "scattermapbox": [
           {
            "marker": {
             "colorbar": {
              "outlinewidth": 0,
              "ticks": ""
             }
            },
            "type": "scattermapbox"
           }
          ],
          "scatterpolar": [
           {
            "marker": {
             "colorbar": {
              "outlinewidth": 0,
              "ticks": ""
             }
            },
            "type": "scatterpolar"
           }
          ],
          "scatterpolargl": [
           {
            "marker": {
             "colorbar": {
              "outlinewidth": 0,
              "ticks": ""
             }
            },
            "type": "scatterpolargl"
           }
          ],
          "scatterternary": [
           {
            "marker": {
             "colorbar": {
              "outlinewidth": 0,
              "ticks": ""
             }
            },
            "type": "scatterternary"
           }
          ],
          "surface": [
           {
            "colorbar": {
             "outlinewidth": 0,
             "ticks": ""
            },
            "colorscale": [
             [
              0,
              "#0d0887"
             ],
             [
              0.1111111111111111,
              "#46039f"
             ],
             [
              0.2222222222222222,
              "#7201a8"
             ],
             [
              0.3333333333333333,
              "#9c179e"
             ],
             [
              0.4444444444444444,
              "#bd3786"
             ],
             [
              0.5555555555555556,
              "#d8576b"
             ],
             [
              0.6666666666666666,
              "#ed7953"
             ],
             [
              0.7777777777777778,
              "#fb9f3a"
             ],
             [
              0.8888888888888888,
              "#fdca26"
             ],
             [
              1,
              "#f0f921"
             ]
            ],
            "type": "surface"
           }
          ],
          "table": [
           {
            "cells": {
             "fill": {
              "color": "#EBF0F8"
             },
             "line": {
              "color": "white"
             }
            },
            "header": {
             "fill": {
              "color": "#C8D4E3"
             },
             "line": {
              "color": "white"
             }
            },
            "type": "table"
           }
          ]
         },
         "layout": {
          "annotationdefaults": {
           "arrowcolor": "#2a3f5f",
           "arrowhead": 0,
           "arrowwidth": 1
          },
          "coloraxis": {
           "colorbar": {
            "outlinewidth": 0,
            "ticks": ""
           }
          },
          "colorscale": {
           "diverging": [
            [
             0,
             "#8e0152"
            ],
            [
             0.1,
             "#c51b7d"
            ],
            [
             0.2,
             "#de77ae"
            ],
            [
             0.3,
             "#f1b6da"
            ],
            [
             0.4,
             "#fde0ef"
            ],
            [
             0.5,
             "#f7f7f7"
            ],
            [
             0.6,
             "#e6f5d0"
            ],
            [
             0.7,
             "#b8e186"
            ],
            [
             0.8,
             "#7fbc41"
            ],
            [
             0.9,
             "#4d9221"
            ],
            [
             1,
             "#276419"
            ]
           ],
           "sequential": [
            [
             0,
             "#0d0887"
            ],
            [
             0.1111111111111111,
             "#46039f"
            ],
            [
             0.2222222222222222,
             "#7201a8"
            ],
            [
             0.3333333333333333,
             "#9c179e"
            ],
            [
             0.4444444444444444,
             "#bd3786"
            ],
            [
             0.5555555555555556,
             "#d8576b"
            ],
            [
             0.6666666666666666,
             "#ed7953"
            ],
            [
             0.7777777777777778,
             "#fb9f3a"
            ],
            [
             0.8888888888888888,
             "#fdca26"
            ],
            [
             1,
             "#f0f921"
            ]
           ],
           "sequentialminus": [
            [
             0,
             "#0d0887"
            ],
            [
             0.1111111111111111,
             "#46039f"
            ],
            [
             0.2222222222222222,
             "#7201a8"
            ],
            [
             0.3333333333333333,
             "#9c179e"
            ],
            [
             0.4444444444444444,
             "#bd3786"
            ],
            [
             0.5555555555555556,
             "#d8576b"
            ],
            [
             0.6666666666666666,
             "#ed7953"
            ],
            [
             0.7777777777777778,
             "#fb9f3a"
            ],
            [
             0.8888888888888888,
             "#fdca26"
            ],
            [
             1,
             "#f0f921"
            ]
           ]
          },
          "colorway": [
           "#636efa",
           "#EF553B",
           "#00cc96",
           "#ab63fa",
           "#FFA15A",
           "#19d3f3",
           "#FF6692",
           "#B6E880",
           "#FF97FF",
           "#FECB52"
          ],
          "font": {
           "color": "#2a3f5f"
          },
          "geo": {
           "bgcolor": "white",
           "lakecolor": "white",
           "landcolor": "#E5ECF6",
           "showlakes": true,
           "showland": true,
           "subunitcolor": "white"
          },
          "hoverlabel": {
           "align": "left"
          },
          "hovermode": "closest",
          "mapbox": {
           "style": "light"
          },
          "paper_bgcolor": "white",
          "plot_bgcolor": "#E5ECF6",
          "polar": {
           "angularaxis": {
            "gridcolor": "white",
            "linecolor": "white",
            "ticks": ""
           },
           "bgcolor": "#E5ECF6",
           "radialaxis": {
            "gridcolor": "white",
            "linecolor": "white",
            "ticks": ""
           }
          },
          "scene": {
           "xaxis": {
            "backgroundcolor": "#E5ECF6",
            "gridcolor": "white",
            "gridwidth": 2,
            "linecolor": "white",
            "showbackground": true,
            "ticks": "",
            "zerolinecolor": "white"
           },
           "yaxis": {
            "backgroundcolor": "#E5ECF6",
            "gridcolor": "white",
            "gridwidth": 2,
            "linecolor": "white",
            "showbackground": true,
            "ticks": "",
            "zerolinecolor": "white"
           },
           "zaxis": {
            "backgroundcolor": "#E5ECF6",
            "gridcolor": "white",
            "gridwidth": 2,
            "linecolor": "white",
            "showbackground": true,
            "ticks": "",
            "zerolinecolor": "white"
           }
          },
          "shapedefaults": {
           "line": {
            "color": "#2a3f5f"
           }
          },
          "ternary": {
           "aaxis": {
            "gridcolor": "white",
            "linecolor": "white",
            "ticks": ""
           },
           "baxis": {
            "gridcolor": "white",
            "linecolor": "white",
            "ticks": ""
           },
           "bgcolor": "#E5ECF6",
           "caxis": {
            "gridcolor": "white",
            "linecolor": "white",
            "ticks": ""
           }
          },
          "title": {
           "x": 0.05
          },
          "xaxis": {
           "automargin": true,
           "gridcolor": "white",
           "linecolor": "white",
           "ticks": "",
           "title": {
            "standoff": 15
           },
           "zerolinecolor": "white",
           "zerolinewidth": 2
          },
          "yaxis": {
           "automargin": true,
           "gridcolor": "white",
           "linecolor": "white",
           "ticks": "",
           "title": {
            "standoff": 15
           },
           "zerolinecolor": "white",
           "zerolinewidth": 2
          }
         }
        },
        "title": {
         "font": {
          "color": "#4D5663"
         },
         "text": "Mes de integración"
        },
        "xaxis": {
         "gridcolor": "#E1E5ED",
         "showgrid": true,
         "tickfont": {
          "color": "#4D5663"
         },
         "title": {
          "font": {
           "color": "#4D5663"
          },
          "text": "Country"
         },
         "zerolinecolor": "#E1E5ED"
        },
        "yaxis": {
         "gridcolor": "#E1E5ED",
         "showgrid": true,
         "tickfont": {
          "color": "#4D5663"
         },
         "title": {
          "font": {
           "color": "#4D5663"
          },
          "text": ""
         },
         "zerolinecolor": "#E1E5ED"
        }
       }
      },
      "text/html": [
       "<div>\n",
       "        \n",
       "        \n",
       "            <div id=\"47f4e158-69ea-44ff-ad5e-aa9e408ef275\" class=\"plotly-graph-div\" style=\"height:525px; width:100%;\"></div>\n",
       "            <script type=\"text/javascript\">\n",
       "                require([\"plotly\"], function(Plotly) {\n",
       "                    window.PLOTLYENV=window.PLOTLYENV || {};\n",
       "                    window.PLOTLYENV.BASE_URL='https://plot.ly';\n",
       "                    \n",
       "                if (document.getElementById(\"47f4e158-69ea-44ff-ad5e-aa9e408ef275\")) {\n",
       "                    Plotly.newPlot(\n",
       "                        '47f4e158-69ea-44ff-ad5e-aa9e408ef275',\n",
       "                        [{\"marker\": {\"color\": \"rgba(255, 153, 51, 0.6)\", \"line\": {\"color\": \"rgba(255, 153, 51, 1.0)\", \"width\": 1}}, \"name\": \"Mes\", \"orientation\": \"v\", \"text\": \"\", \"type\": \"bar\", \"x\": [1, 3, 7, 10, 11, 12], \"y\": [3, 2, 14, 3, 23, 6]}],\n",
       "                        {\"legend\": {\"bgcolor\": \"#F5F6F9\", \"font\": {\"color\": \"#4D5663\"}}, \"paper_bgcolor\": \"#F5F6F9\", \"plot_bgcolor\": \"#F5F6F9\", \"template\": {\"data\": {\"bar\": [{\"error_x\": {\"color\": \"#2a3f5f\"}, \"error_y\": {\"color\": \"#2a3f5f\"}, \"marker\": {\"line\": {\"color\": \"#E5ECF6\", \"width\": 0.5}}, \"type\": \"bar\"}], \"barpolar\": [{\"marker\": {\"line\": {\"color\": \"#E5ECF6\", \"width\": 0.5}}, \"type\": \"barpolar\"}], \"carpet\": [{\"aaxis\": {\"endlinecolor\": \"#2a3f5f\", \"gridcolor\": \"white\", \"linecolor\": \"white\", \"minorgridcolor\": \"white\", \"startlinecolor\": \"#2a3f5f\"}, \"baxis\": {\"endlinecolor\": \"#2a3f5f\", \"gridcolor\": \"white\", \"linecolor\": \"white\", \"minorgridcolor\": \"white\", \"startlinecolor\": \"#2a3f5f\"}, \"type\": \"carpet\"}], \"choropleth\": [{\"colorbar\": {\"outlinewidth\": 0, \"ticks\": \"\"}, \"type\": \"choropleth\"}], \"contour\": [{\"colorbar\": {\"outlinewidth\": 0, \"ticks\": \"\"}, \"colorscale\": [[0.0, \"#0d0887\"], [0.1111111111111111, \"#46039f\"], [0.2222222222222222, \"#7201a8\"], [0.3333333333333333, \"#9c179e\"], [0.4444444444444444, \"#bd3786\"], [0.5555555555555556, \"#d8576b\"], [0.6666666666666666, \"#ed7953\"], [0.7777777777777778, \"#fb9f3a\"], [0.8888888888888888, \"#fdca26\"], [1.0, \"#f0f921\"]], \"type\": \"contour\"}], \"contourcarpet\": [{\"colorbar\": {\"outlinewidth\": 0, \"ticks\": \"\"}, \"type\": \"contourcarpet\"}], \"heatmap\": [{\"colorbar\": {\"outlinewidth\": 0, \"ticks\": \"\"}, \"colorscale\": [[0.0, \"#0d0887\"], [0.1111111111111111, \"#46039f\"], [0.2222222222222222, \"#7201a8\"], [0.3333333333333333, \"#9c179e\"], [0.4444444444444444, \"#bd3786\"], [0.5555555555555556, \"#d8576b\"], [0.6666666666666666, \"#ed7953\"], [0.7777777777777778, \"#fb9f3a\"], [0.8888888888888888, \"#fdca26\"], [1.0, \"#f0f921\"]], \"type\": \"heatmap\"}], \"heatmapgl\": [{\"colorbar\": {\"outlinewidth\": 0, \"ticks\": \"\"}, \"colorscale\": [[0.0, \"#0d0887\"], [0.1111111111111111, \"#46039f\"], [0.2222222222222222, \"#7201a8\"], [0.3333333333333333, \"#9c179e\"], [0.4444444444444444, \"#bd3786\"], [0.5555555555555556, \"#d8576b\"], [0.6666666666666666, \"#ed7953\"], [0.7777777777777778, \"#fb9f3a\"], [0.8888888888888888, \"#fdca26\"], [1.0, \"#f0f921\"]], \"type\": \"heatmapgl\"}], \"histogram\": [{\"marker\": {\"colorbar\": {\"outlinewidth\": 0, \"ticks\": \"\"}}, \"type\": \"histogram\"}], \"histogram2d\": [{\"colorbar\": {\"outlinewidth\": 0, \"ticks\": \"\"}, \"colorscale\": [[0.0, \"#0d0887\"], [0.1111111111111111, \"#46039f\"], [0.2222222222222222, \"#7201a8\"], [0.3333333333333333, \"#9c179e\"], [0.4444444444444444, \"#bd3786\"], [0.5555555555555556, \"#d8576b\"], [0.6666666666666666, \"#ed7953\"], [0.7777777777777778, \"#fb9f3a\"], [0.8888888888888888, \"#fdca26\"], [1.0, \"#f0f921\"]], \"type\": \"histogram2d\"}], \"histogram2dcontour\": [{\"colorbar\": {\"outlinewidth\": 0, \"ticks\": \"\"}, \"colorscale\": [[0.0, \"#0d0887\"], [0.1111111111111111, \"#46039f\"], [0.2222222222222222, \"#7201a8\"], [0.3333333333333333, \"#9c179e\"], [0.4444444444444444, \"#bd3786\"], [0.5555555555555556, \"#d8576b\"], [0.6666666666666666, \"#ed7953\"], [0.7777777777777778, \"#fb9f3a\"], [0.8888888888888888, \"#fdca26\"], [1.0, \"#f0f921\"]], \"type\": \"histogram2dcontour\"}], \"mesh3d\": [{\"colorbar\": {\"outlinewidth\": 0, \"ticks\": \"\"}, \"type\": \"mesh3d\"}], \"parcoords\": [{\"line\": {\"colorbar\": {\"outlinewidth\": 0, \"ticks\": \"\"}}, \"type\": \"parcoords\"}], \"pie\": [{\"automargin\": true, \"type\": \"pie\"}], \"scatter\": [{\"marker\": {\"colorbar\": {\"outlinewidth\": 0, \"ticks\": \"\"}}, \"type\": \"scatter\"}], \"scatter3d\": [{\"line\": {\"colorbar\": {\"outlinewidth\": 0, \"ticks\": \"\"}}, \"marker\": {\"colorbar\": {\"outlinewidth\": 0, \"ticks\": \"\"}}, \"type\": \"scatter3d\"}], \"scattercarpet\": [{\"marker\": {\"colorbar\": {\"outlinewidth\": 0, \"ticks\": \"\"}}, \"type\": \"scattercarpet\"}], \"scattergeo\": [{\"marker\": {\"colorbar\": {\"outlinewidth\": 0, \"ticks\": \"\"}}, \"type\": \"scattergeo\"}], \"scattergl\": [{\"marker\": {\"colorbar\": {\"outlinewidth\": 0, \"ticks\": \"\"}}, \"type\": \"scattergl\"}], \"scattermapbox\": [{\"marker\": {\"colorbar\": {\"outlinewidth\": 0, \"ticks\": \"\"}}, \"type\": \"scattermapbox\"}], \"scatterpolar\": [{\"marker\": {\"colorbar\": {\"outlinewidth\": 0, \"ticks\": \"\"}}, \"type\": \"scatterpolar\"}], \"scatterpolargl\": [{\"marker\": {\"colorbar\": {\"outlinewidth\": 0, \"ticks\": \"\"}}, \"type\": \"scatterpolargl\"}], \"scatterternary\": [{\"marker\": {\"colorbar\": {\"outlinewidth\": 0, \"ticks\": \"\"}}, \"type\": \"scatterternary\"}], \"surface\": [{\"colorbar\": {\"outlinewidth\": 0, \"ticks\": \"\"}, \"colorscale\": [[0.0, \"#0d0887\"], [0.1111111111111111, \"#46039f\"], [0.2222222222222222, \"#7201a8\"], [0.3333333333333333, \"#9c179e\"], [0.4444444444444444, \"#bd3786\"], [0.5555555555555556, \"#d8576b\"], [0.6666666666666666, \"#ed7953\"], [0.7777777777777778, \"#fb9f3a\"], [0.8888888888888888, \"#fdca26\"], [1.0, \"#f0f921\"]], \"type\": \"surface\"}], \"table\": [{\"cells\": {\"fill\": {\"color\": \"#EBF0F8\"}, \"line\": {\"color\": \"white\"}}, \"header\": {\"fill\": {\"color\": \"#C8D4E3\"}, \"line\": {\"color\": \"white\"}}, \"type\": \"table\"}]}, \"layout\": {\"annotationdefaults\": {\"arrowcolor\": \"#2a3f5f\", \"arrowhead\": 0, \"arrowwidth\": 1}, \"coloraxis\": {\"colorbar\": {\"outlinewidth\": 0, \"ticks\": \"\"}}, \"colorscale\": {\"diverging\": [[0, \"#8e0152\"], [0.1, \"#c51b7d\"], [0.2, \"#de77ae\"], [0.3, \"#f1b6da\"], [0.4, \"#fde0ef\"], [0.5, \"#f7f7f7\"], [0.6, \"#e6f5d0\"], [0.7, \"#b8e186\"], [0.8, \"#7fbc41\"], [0.9, \"#4d9221\"], [1, \"#276419\"]], \"sequential\": [[0.0, \"#0d0887\"], [0.1111111111111111, \"#46039f\"], [0.2222222222222222, \"#7201a8\"], [0.3333333333333333, \"#9c179e\"], [0.4444444444444444, \"#bd3786\"], [0.5555555555555556, \"#d8576b\"], [0.6666666666666666, \"#ed7953\"], [0.7777777777777778, \"#fb9f3a\"], [0.8888888888888888, \"#fdca26\"], [1.0, \"#f0f921\"]], \"sequentialminus\": [[0.0, \"#0d0887\"], [0.1111111111111111, \"#46039f\"], [0.2222222222222222, \"#7201a8\"], [0.3333333333333333, \"#9c179e\"], [0.4444444444444444, \"#bd3786\"], [0.5555555555555556, \"#d8576b\"], [0.6666666666666666, \"#ed7953\"], [0.7777777777777778, \"#fb9f3a\"], [0.8888888888888888, \"#fdca26\"], [1.0, \"#f0f921\"]]}, \"colorway\": [\"#636efa\", \"#EF553B\", \"#00cc96\", \"#ab63fa\", \"#FFA15A\", \"#19d3f3\", \"#FF6692\", \"#B6E880\", \"#FF97FF\", \"#FECB52\"], \"font\": {\"color\": \"#2a3f5f\"}, \"geo\": {\"bgcolor\": \"white\", \"lakecolor\": \"white\", \"landcolor\": \"#E5ECF6\", \"showlakes\": true, \"showland\": true, \"subunitcolor\": \"white\"}, \"hoverlabel\": {\"align\": \"left\"}, \"hovermode\": \"closest\", \"mapbox\": {\"style\": \"light\"}, \"paper_bgcolor\": \"white\", \"plot_bgcolor\": \"#E5ECF6\", \"polar\": {\"angularaxis\": {\"gridcolor\": \"white\", \"linecolor\": \"white\", \"ticks\": \"\"}, \"bgcolor\": \"#E5ECF6\", \"radialaxis\": {\"gridcolor\": \"white\", \"linecolor\": \"white\", \"ticks\": \"\"}}, \"scene\": {\"xaxis\": {\"backgroundcolor\": \"#E5ECF6\", \"gridcolor\": \"white\", \"gridwidth\": 2, \"linecolor\": \"white\", \"showbackground\": true, \"ticks\": \"\", \"zerolinecolor\": \"white\"}, \"yaxis\": {\"backgroundcolor\": \"#E5ECF6\", \"gridcolor\": \"white\", \"gridwidth\": 2, \"linecolor\": \"white\", \"showbackground\": true, \"ticks\": \"\", \"zerolinecolor\": \"white\"}, \"zaxis\": {\"backgroundcolor\": \"#E5ECF6\", \"gridcolor\": \"white\", \"gridwidth\": 2, \"linecolor\": \"white\", \"showbackground\": true, \"ticks\": \"\", \"zerolinecolor\": \"white\"}}, \"shapedefaults\": {\"line\": {\"color\": \"#2a3f5f\"}}, \"ternary\": {\"aaxis\": {\"gridcolor\": \"white\", \"linecolor\": \"white\", \"ticks\": \"\"}, \"baxis\": {\"gridcolor\": \"white\", \"linecolor\": \"white\", \"ticks\": \"\"}, \"bgcolor\": \"#E5ECF6\", \"caxis\": {\"gridcolor\": \"white\", \"linecolor\": \"white\", \"ticks\": \"\"}}, \"title\": {\"x\": 0.05}, \"xaxis\": {\"automargin\": true, \"gridcolor\": \"white\", \"linecolor\": \"white\", \"ticks\": \"\", \"title\": {\"standoff\": 15}, \"zerolinecolor\": \"white\", \"zerolinewidth\": 2}, \"yaxis\": {\"automargin\": true, \"gridcolor\": \"white\", \"linecolor\": \"white\", \"ticks\": \"\", \"title\": {\"standoff\": 15}, \"zerolinecolor\": \"white\", \"zerolinewidth\": 2}}}, \"title\": {\"font\": {\"color\": \"#4D5663\"}, \"text\": \"Mes de integraci\\u00f3n\"}, \"xaxis\": {\"gridcolor\": \"#E1E5ED\", \"showgrid\": true, \"tickfont\": {\"color\": \"#4D5663\"}, \"title\": {\"font\": {\"color\": \"#4D5663\"}, \"text\": \"Country\"}, \"zerolinecolor\": \"#E1E5ED\"}, \"yaxis\": {\"gridcolor\": \"#E1E5ED\", \"showgrid\": true, \"tickfont\": {\"color\": \"#4D5663\"}, \"title\": {\"font\": {\"color\": \"#4D5663\"}, \"text\": \"\"}, \"zerolinecolor\": \"#E1E5ED\"}},\n",
       "                        {\"showLink\": true, \"linkText\": \"Export to plot.ly\", \"plotlyServerURL\": \"https://plot.ly\", \"responsive\": true}\n",
       "                    ).then(function(){\n",
       "                            \n",
       "var gd = document.getElementById('47f4e158-69ea-44ff-ad5e-aa9e408ef275');\n",
       "var x = new MutationObserver(function (mutations, observer) {{\n",
       "        var display = window.getComputedStyle(gd).display;\n",
       "        if (!display || display === 'none') {{\n",
       "            console.log([gd, 'removed!']);\n",
       "            Plotly.purge(gd);\n",
       "            observer.disconnect();\n",
       "        }}\n",
       "}});\n",
       "\n",
       "// Listen for the removal of the full notebook cells\n",
       "var notebookContainer = gd.closest('#notebook-container');\n",
       "if (notebookContainer) {{\n",
       "    x.observe(notebookContainer, {childList: true});\n",
       "}}\n",
       "\n",
       "// Listen for the clearing of the current output cell\n",
       "var outputEl = gd.closest('.output');\n",
       "if (outputEl) {{\n",
       "    x.observe(outputEl, {childList: true});\n",
       "}}\n",
       "\n",
       "                        })\n",
       "                };\n",
       "                });\n",
       "            </script>\n",
       "        </div>"
      ]
     },
     "metadata": {},
     "output_type": "display_data"
    },
    {
     "data": {
      "application/vnd.plotly.v1+json": {
       "config": {
        "linkText": "Export to plot.ly",
        "plotlyServerURL": "https://plot.ly",
        "showLink": true
       },
       "data": [
        {
         "marker": {
          "color": "rgba(255, 153, 51, 0.6)",
          "line": {
           "color": "rgba(255, 153, 51, 1.0)",
           "width": 1
          }
         },
         "name": "Año",
         "orientation": "v",
         "text": "",
         "type": "bar",
         "x": [
          2010,
          2011,
          2014,
          2016,
          2017,
          2019
         ],
         "y": [
          14,
          2,
          6,
          6,
          2,
          21
         ]
        }
       ],
       "layout": {
        "legend": {
         "bgcolor": "#F5F6F9",
         "font": {
          "color": "#4D5663"
         }
        },
        "paper_bgcolor": "#F5F6F9",
        "plot_bgcolor": "#F5F6F9",
        "template": {
         "data": {
          "bar": [
           {
            "error_x": {
             "color": "#2a3f5f"
            },
            "error_y": {
             "color": "#2a3f5f"
            },
            "marker": {
             "line": {
              "color": "#E5ECF6",
              "width": 0.5
             }
            },
            "type": "bar"
           }
          ],
          "barpolar": [
           {
            "marker": {
             "line": {
              "color": "#E5ECF6",
              "width": 0.5
             }
            },
            "type": "barpolar"
           }
          ],
          "carpet": [
           {
            "aaxis": {
             "endlinecolor": "#2a3f5f",
             "gridcolor": "white",
             "linecolor": "white",
             "minorgridcolor": "white",
             "startlinecolor": "#2a3f5f"
            },
            "baxis": {
             "endlinecolor": "#2a3f5f",
             "gridcolor": "white",
             "linecolor": "white",
             "minorgridcolor": "white",
             "startlinecolor": "#2a3f5f"
            },
            "type": "carpet"
           }
          ],
          "choropleth": [
           {
            "colorbar": {
             "outlinewidth": 0,
             "ticks": ""
            },
            "type": "choropleth"
           }
          ],
          "contour": [
           {
            "colorbar": {
             "outlinewidth": 0,
             "ticks": ""
            },
            "colorscale": [
             [
              0,
              "#0d0887"
             ],
             [
              0.1111111111111111,
              "#46039f"
             ],
             [
              0.2222222222222222,
              "#7201a8"
             ],
             [
              0.3333333333333333,
              "#9c179e"
             ],
             [
              0.4444444444444444,
              "#bd3786"
             ],
             [
              0.5555555555555556,
              "#d8576b"
             ],
             [
              0.6666666666666666,
              "#ed7953"
             ],
             [
              0.7777777777777778,
              "#fb9f3a"
             ],
             [
              0.8888888888888888,
              "#fdca26"
             ],
             [
              1,
              "#f0f921"
             ]
            ],
            "type": "contour"
           }
          ],
          "contourcarpet": [
           {
            "colorbar": {
             "outlinewidth": 0,
             "ticks": ""
            },
            "type": "contourcarpet"
           }
          ],
          "heatmap": [
           {
            "colorbar": {
             "outlinewidth": 0,
             "ticks": ""
            },
            "colorscale": [
             [
              0,
              "#0d0887"
             ],
             [
              0.1111111111111111,
              "#46039f"
             ],
             [
              0.2222222222222222,
              "#7201a8"
             ],
             [
              0.3333333333333333,
              "#9c179e"
             ],
             [
              0.4444444444444444,
              "#bd3786"
             ],
             [
              0.5555555555555556,
              "#d8576b"
             ],
             [
              0.6666666666666666,
              "#ed7953"
             ],
             [
              0.7777777777777778,
              "#fb9f3a"
             ],
             [
              0.8888888888888888,
              "#fdca26"
             ],
             [
              1,
              "#f0f921"
             ]
            ],
            "type": "heatmap"
           }
          ],
          "heatmapgl": [
           {
            "colorbar": {
             "outlinewidth": 0,
             "ticks": ""
            },
            "colorscale": [
             [
              0,
              "#0d0887"
             ],
             [
              0.1111111111111111,
              "#46039f"
             ],
             [
              0.2222222222222222,
              "#7201a8"
             ],
             [
              0.3333333333333333,
              "#9c179e"
             ],
             [
              0.4444444444444444,
              "#bd3786"
             ],
             [
              0.5555555555555556,
              "#d8576b"
             ],
             [
              0.6666666666666666,
              "#ed7953"
             ],
             [
              0.7777777777777778,
              "#fb9f3a"
             ],
             [
              0.8888888888888888,
              "#fdca26"
             ],
             [
              1,
              "#f0f921"
             ]
            ],
            "type": "heatmapgl"
           }
          ],
          "histogram": [
           {
            "marker": {
             "colorbar": {
              "outlinewidth": 0,
              "ticks": ""
             }
            },
            "type": "histogram"
           }
          ],
          "histogram2d": [
           {
            "colorbar": {
             "outlinewidth": 0,
             "ticks": ""
            },
            "colorscale": [
             [
              0,
              "#0d0887"
             ],
             [
              0.1111111111111111,
              "#46039f"
             ],
             [
              0.2222222222222222,
              "#7201a8"
             ],
             [
              0.3333333333333333,
              "#9c179e"
             ],
             [
              0.4444444444444444,
              "#bd3786"
             ],
             [
              0.5555555555555556,
              "#d8576b"
             ],
             [
              0.6666666666666666,
              "#ed7953"
             ],
             [
              0.7777777777777778,
              "#fb9f3a"
             ],
             [
              0.8888888888888888,
              "#fdca26"
             ],
             [
              1,
              "#f0f921"
             ]
            ],
            "type": "histogram2d"
           }
          ],
          "histogram2dcontour": [
           {
            "colorbar": {
             "outlinewidth": 0,
             "ticks": ""
            },
            "colorscale": [
             [
              0,
              "#0d0887"
             ],
             [
              0.1111111111111111,
              "#46039f"
             ],
             [
              0.2222222222222222,
              "#7201a8"
             ],
             [
              0.3333333333333333,
              "#9c179e"
             ],
             [
              0.4444444444444444,
              "#bd3786"
             ],
             [
              0.5555555555555556,
              "#d8576b"
             ],
             [
              0.6666666666666666,
              "#ed7953"
             ],
             [
              0.7777777777777778,
              "#fb9f3a"
             ],
             [
              0.8888888888888888,
              "#fdca26"
             ],
             [
              1,
              "#f0f921"
             ]
            ],
            "type": "histogram2dcontour"
           }
          ],
          "mesh3d": [
           {
            "colorbar": {
             "outlinewidth": 0,
             "ticks": ""
            },
            "type": "mesh3d"
           }
          ],
          "parcoords": [
           {
            "line": {
             "colorbar": {
              "outlinewidth": 0,
              "ticks": ""
             }
            },
            "type": "parcoords"
           }
          ],
          "pie": [
           {
            "automargin": true,
            "type": "pie"
           }
          ],
          "scatter": [
           {
            "marker": {
             "colorbar": {
              "outlinewidth": 0,
              "ticks": ""
             }
            },
            "type": "scatter"
           }
          ],
          "scatter3d": [
           {
            "line": {
             "colorbar": {
              "outlinewidth": 0,
              "ticks": ""
             }
            },
            "marker": {
             "colorbar": {
              "outlinewidth": 0,
              "ticks": ""
             }
            },
            "type": "scatter3d"
           }
          ],
          "scattercarpet": [
           {
            "marker": {
             "colorbar": {
              "outlinewidth": 0,
              "ticks": ""
             }
            },
            "type": "scattercarpet"
           }
          ],
          "scattergeo": [
           {
            "marker": {
             "colorbar": {
              "outlinewidth": 0,
              "ticks": ""
             }
            },
            "type": "scattergeo"
           }
          ],
          "scattergl": [
           {
            "marker": {
             "colorbar": {
              "outlinewidth": 0,
              "ticks": ""
             }
            },
            "type": "scattergl"
           }
          ],
          "scattermapbox": [
           {
            "marker": {
             "colorbar": {
              "outlinewidth": 0,
              "ticks": ""
             }
            },
            "type": "scattermapbox"
           }
          ],
          "scatterpolar": [
           {
            "marker": {
             "colorbar": {
              "outlinewidth": 0,
              "ticks": ""
             }
            },
            "type": "scatterpolar"
           }
          ],
          "scatterpolargl": [
           {
            "marker": {
             "colorbar": {
              "outlinewidth": 0,
              "ticks": ""
             }
            },
            "type": "scatterpolargl"
           }
          ],
          "scatterternary": [
           {
            "marker": {
             "colorbar": {
              "outlinewidth": 0,
              "ticks": ""
             }
            },
            "type": "scatterternary"
           }
          ],
          "surface": [
           {
            "colorbar": {
             "outlinewidth": 0,
             "ticks": ""
            },
            "colorscale": [
             [
              0,
              "#0d0887"
             ],
             [
              0.1111111111111111,
              "#46039f"
             ],
             [
              0.2222222222222222,
              "#7201a8"
             ],
             [
              0.3333333333333333,
              "#9c179e"
             ],
             [
              0.4444444444444444,
              "#bd3786"
             ],
             [
              0.5555555555555556,
              "#d8576b"
             ],
             [
              0.6666666666666666,
              "#ed7953"
             ],
             [
              0.7777777777777778,
              "#fb9f3a"
             ],
             [
              0.8888888888888888,
              "#fdca26"
             ],
             [
              1,
              "#f0f921"
             ]
            ],
            "type": "surface"
           }
          ],
          "table": [
           {
            "cells": {
             "fill": {
              "color": "#EBF0F8"
             },
             "line": {
              "color": "white"
             }
            },
            "header": {
             "fill": {
              "color": "#C8D4E3"
             },
             "line": {
              "color": "white"
             }
            },
            "type": "table"
           }
          ]
         },
         "layout": {
          "annotationdefaults": {
           "arrowcolor": "#2a3f5f",
           "arrowhead": 0,
           "arrowwidth": 1
          },
          "coloraxis": {
           "colorbar": {
            "outlinewidth": 0,
            "ticks": ""
           }
          },
          "colorscale": {
           "diverging": [
            [
             0,
             "#8e0152"
            ],
            [
             0.1,
             "#c51b7d"
            ],
            [
             0.2,
             "#de77ae"
            ],
            [
             0.3,
             "#f1b6da"
            ],
            [
             0.4,
             "#fde0ef"
            ],
            [
             0.5,
             "#f7f7f7"
            ],
            [
             0.6,
             "#e6f5d0"
            ],
            [
             0.7,
             "#b8e186"
            ],
            [
             0.8,
             "#7fbc41"
            ],
            [
             0.9,
             "#4d9221"
            ],
            [
             1,
             "#276419"
            ]
           ],
           "sequential": [
            [
             0,
             "#0d0887"
            ],
            [
             0.1111111111111111,
             "#46039f"
            ],
            [
             0.2222222222222222,
             "#7201a8"
            ],
            [
             0.3333333333333333,
             "#9c179e"
            ],
            [
             0.4444444444444444,
             "#bd3786"
            ],
            [
             0.5555555555555556,
             "#d8576b"
            ],
            [
             0.6666666666666666,
             "#ed7953"
            ],
            [
             0.7777777777777778,
             "#fb9f3a"
            ],
            [
             0.8888888888888888,
             "#fdca26"
            ],
            [
             1,
             "#f0f921"
            ]
           ],
           "sequentialminus": [
            [
             0,
             "#0d0887"
            ],
            [
             0.1111111111111111,
             "#46039f"
            ],
            [
             0.2222222222222222,
             "#7201a8"
            ],
            [
             0.3333333333333333,
             "#9c179e"
            ],
            [
             0.4444444444444444,
             "#bd3786"
            ],
            [
             0.5555555555555556,
             "#d8576b"
            ],
            [
             0.6666666666666666,
             "#ed7953"
            ],
            [
             0.7777777777777778,
             "#fb9f3a"
            ],
            [
             0.8888888888888888,
             "#fdca26"
            ],
            [
             1,
             "#f0f921"
            ]
           ]
          },
          "colorway": [
           "#636efa",
           "#EF553B",
           "#00cc96",
           "#ab63fa",
           "#FFA15A",
           "#19d3f3",
           "#FF6692",
           "#B6E880",
           "#FF97FF",
           "#FECB52"
          ],
          "font": {
           "color": "#2a3f5f"
          },
          "geo": {
           "bgcolor": "white",
           "lakecolor": "white",
           "landcolor": "#E5ECF6",
           "showlakes": true,
           "showland": true,
           "subunitcolor": "white"
          },
          "hoverlabel": {
           "align": "left"
          },
          "hovermode": "closest",
          "mapbox": {
           "style": "light"
          },
          "paper_bgcolor": "white",
          "plot_bgcolor": "#E5ECF6",
          "polar": {
           "angularaxis": {
            "gridcolor": "white",
            "linecolor": "white",
            "ticks": ""
           },
           "bgcolor": "#E5ECF6",
           "radialaxis": {
            "gridcolor": "white",
            "linecolor": "white",
            "ticks": ""
           }
          },
          "scene": {
           "xaxis": {
            "backgroundcolor": "#E5ECF6",
            "gridcolor": "white",
            "gridwidth": 2,
            "linecolor": "white",
            "showbackground": true,
            "ticks": "",
            "zerolinecolor": "white"
           },
           "yaxis": {
            "backgroundcolor": "#E5ECF6",
            "gridcolor": "white",
            "gridwidth": 2,
            "linecolor": "white",
            "showbackground": true,
            "ticks": "",
            "zerolinecolor": "white"
           },
           "zaxis": {
            "backgroundcolor": "#E5ECF6",
            "gridcolor": "white",
            "gridwidth": 2,
            "linecolor": "white",
            "showbackground": true,
            "ticks": "",
            "zerolinecolor": "white"
           }
          },
          "shapedefaults": {
           "line": {
            "color": "#2a3f5f"
           }
          },
          "ternary": {
           "aaxis": {
            "gridcolor": "white",
            "linecolor": "white",
            "ticks": ""
           },
           "baxis": {
            "gridcolor": "white",
            "linecolor": "white",
            "ticks": ""
           },
           "bgcolor": "#E5ECF6",
           "caxis": {
            "gridcolor": "white",
            "linecolor": "white",
            "ticks": ""
           }
          },
          "title": {
           "x": 0.05
          },
          "xaxis": {
           "automargin": true,
           "gridcolor": "white",
           "linecolor": "white",
           "ticks": "",
           "title": {
            "standoff": 15
           },
           "zerolinecolor": "white",
           "zerolinewidth": 2
          },
          "yaxis": {
           "automargin": true,
           "gridcolor": "white",
           "linecolor": "white",
           "ticks": "",
           "title": {
            "standoff": 15
           },
           "zerolinecolor": "white",
           "zerolinewidth": 2
          }
         }
        },
        "title": {
         "font": {
          "color": "#4D5663"
         },
         "text": "Año de integracion...."
        },
        "xaxis": {
         "gridcolor": "#E1E5ED",
         "showgrid": true,
         "tickfont": {
          "color": "#4D5663"
         },
         "title": {
          "font": {
           "color": "#4D5663"
          },
          "text": "Country"
         },
         "zerolinecolor": "#E1E5ED"
        },
        "yaxis": {
         "gridcolor": "#E1E5ED",
         "showgrid": true,
         "tickfont": {
          "color": "#4D5663"
         },
         "title": {
          "font": {
           "color": "#4D5663"
          },
          "text": ""
         },
         "zerolinecolor": "#E1E5ED"
        }
       }
      },
      "text/html": [
       "<div>\n",
       "        \n",
       "        \n",
       "            <div id=\"cb14d57d-806c-4314-afda-29eb188048d4\" class=\"plotly-graph-div\" style=\"height:525px; width:100%;\"></div>\n",
       "            <script type=\"text/javascript\">\n",
       "                require([\"plotly\"], function(Plotly) {\n",
       "                    window.PLOTLYENV=window.PLOTLYENV || {};\n",
       "                    window.PLOTLYENV.BASE_URL='https://plot.ly';\n",
       "                    \n",
       "                if (document.getElementById(\"cb14d57d-806c-4314-afda-29eb188048d4\")) {\n",
       "                    Plotly.newPlot(\n",
       "                        'cb14d57d-806c-4314-afda-29eb188048d4',\n",
       "                        [{\"marker\": {\"color\": \"rgba(255, 153, 51, 0.6)\", \"line\": {\"color\": \"rgba(255, 153, 51, 1.0)\", \"width\": 1}}, \"name\": \"A\\u00f1o\", \"orientation\": \"v\", \"text\": \"\", \"type\": \"bar\", \"x\": [2010, 2011, 2014, 2016, 2017, 2019], \"y\": [14, 2, 6, 6, 2, 21]}],\n",
       "                        {\"legend\": {\"bgcolor\": \"#F5F6F9\", \"font\": {\"color\": \"#4D5663\"}}, \"paper_bgcolor\": \"#F5F6F9\", \"plot_bgcolor\": \"#F5F6F9\", \"template\": {\"data\": {\"bar\": [{\"error_x\": {\"color\": \"#2a3f5f\"}, \"error_y\": {\"color\": \"#2a3f5f\"}, \"marker\": {\"line\": {\"color\": \"#E5ECF6\", \"width\": 0.5}}, \"type\": \"bar\"}], \"barpolar\": [{\"marker\": {\"line\": {\"color\": \"#E5ECF6\", \"width\": 0.5}}, \"type\": \"barpolar\"}], \"carpet\": [{\"aaxis\": {\"endlinecolor\": \"#2a3f5f\", \"gridcolor\": \"white\", \"linecolor\": \"white\", \"minorgridcolor\": \"white\", \"startlinecolor\": \"#2a3f5f\"}, \"baxis\": {\"endlinecolor\": \"#2a3f5f\", \"gridcolor\": \"white\", \"linecolor\": \"white\", \"minorgridcolor\": \"white\", \"startlinecolor\": \"#2a3f5f\"}, \"type\": \"carpet\"}], \"choropleth\": [{\"colorbar\": {\"outlinewidth\": 0, \"ticks\": \"\"}, \"type\": \"choropleth\"}], \"contour\": [{\"colorbar\": {\"outlinewidth\": 0, \"ticks\": \"\"}, \"colorscale\": [[0.0, \"#0d0887\"], [0.1111111111111111, \"#46039f\"], [0.2222222222222222, \"#7201a8\"], [0.3333333333333333, \"#9c179e\"], [0.4444444444444444, \"#bd3786\"], [0.5555555555555556, \"#d8576b\"], [0.6666666666666666, \"#ed7953\"], [0.7777777777777778, \"#fb9f3a\"], [0.8888888888888888, \"#fdca26\"], [1.0, \"#f0f921\"]], \"type\": \"contour\"}], \"contourcarpet\": [{\"colorbar\": {\"outlinewidth\": 0, \"ticks\": \"\"}, \"type\": \"contourcarpet\"}], \"heatmap\": [{\"colorbar\": {\"outlinewidth\": 0, \"ticks\": \"\"}, \"colorscale\": [[0.0, \"#0d0887\"], [0.1111111111111111, \"#46039f\"], [0.2222222222222222, \"#7201a8\"], [0.3333333333333333, \"#9c179e\"], [0.4444444444444444, \"#bd3786\"], [0.5555555555555556, \"#d8576b\"], [0.6666666666666666, \"#ed7953\"], [0.7777777777777778, \"#fb9f3a\"], [0.8888888888888888, \"#fdca26\"], [1.0, \"#f0f921\"]], \"type\": \"heatmap\"}], \"heatmapgl\": [{\"colorbar\": {\"outlinewidth\": 0, \"ticks\": \"\"}, \"colorscale\": [[0.0, \"#0d0887\"], [0.1111111111111111, \"#46039f\"], [0.2222222222222222, \"#7201a8\"], [0.3333333333333333, \"#9c179e\"], [0.4444444444444444, \"#bd3786\"], [0.5555555555555556, \"#d8576b\"], [0.6666666666666666, \"#ed7953\"], [0.7777777777777778, \"#fb9f3a\"], [0.8888888888888888, \"#fdca26\"], [1.0, \"#f0f921\"]], \"type\": \"heatmapgl\"}], \"histogram\": [{\"marker\": {\"colorbar\": {\"outlinewidth\": 0, \"ticks\": \"\"}}, \"type\": \"histogram\"}], \"histogram2d\": [{\"colorbar\": {\"outlinewidth\": 0, \"ticks\": \"\"}, \"colorscale\": [[0.0, \"#0d0887\"], [0.1111111111111111, \"#46039f\"], [0.2222222222222222, \"#7201a8\"], [0.3333333333333333, \"#9c179e\"], [0.4444444444444444, \"#bd3786\"], [0.5555555555555556, \"#d8576b\"], [0.6666666666666666, \"#ed7953\"], [0.7777777777777778, \"#fb9f3a\"], [0.8888888888888888, \"#fdca26\"], [1.0, \"#f0f921\"]], \"type\": \"histogram2d\"}], \"histogram2dcontour\": [{\"colorbar\": {\"outlinewidth\": 0, \"ticks\": \"\"}, \"colorscale\": [[0.0, \"#0d0887\"], [0.1111111111111111, \"#46039f\"], [0.2222222222222222, \"#7201a8\"], [0.3333333333333333, \"#9c179e\"], [0.4444444444444444, \"#bd3786\"], [0.5555555555555556, \"#d8576b\"], [0.6666666666666666, \"#ed7953\"], [0.7777777777777778, \"#fb9f3a\"], [0.8888888888888888, \"#fdca26\"], [1.0, \"#f0f921\"]], \"type\": \"histogram2dcontour\"}], \"mesh3d\": [{\"colorbar\": {\"outlinewidth\": 0, \"ticks\": \"\"}, \"type\": \"mesh3d\"}], \"parcoords\": [{\"line\": {\"colorbar\": {\"outlinewidth\": 0, \"ticks\": \"\"}}, \"type\": \"parcoords\"}], \"pie\": [{\"automargin\": true, \"type\": \"pie\"}], \"scatter\": [{\"marker\": {\"colorbar\": {\"outlinewidth\": 0, \"ticks\": \"\"}}, \"type\": \"scatter\"}], \"scatter3d\": [{\"line\": {\"colorbar\": {\"outlinewidth\": 0, \"ticks\": \"\"}}, \"marker\": {\"colorbar\": {\"outlinewidth\": 0, \"ticks\": \"\"}}, \"type\": \"scatter3d\"}], \"scattercarpet\": [{\"marker\": {\"colorbar\": {\"outlinewidth\": 0, \"ticks\": \"\"}}, \"type\": \"scattercarpet\"}], \"scattergeo\": [{\"marker\": {\"colorbar\": {\"outlinewidth\": 0, \"ticks\": \"\"}}, \"type\": \"scattergeo\"}], \"scattergl\": [{\"marker\": {\"colorbar\": {\"outlinewidth\": 0, \"ticks\": \"\"}}, \"type\": \"scattergl\"}], \"scattermapbox\": [{\"marker\": {\"colorbar\": {\"outlinewidth\": 0, \"ticks\": \"\"}}, \"type\": \"scattermapbox\"}], \"scatterpolar\": [{\"marker\": {\"colorbar\": {\"outlinewidth\": 0, \"ticks\": \"\"}}, \"type\": \"scatterpolar\"}], \"scatterpolargl\": [{\"marker\": {\"colorbar\": {\"outlinewidth\": 0, \"ticks\": \"\"}}, \"type\": \"scatterpolargl\"}], \"scatterternary\": [{\"marker\": {\"colorbar\": {\"outlinewidth\": 0, \"ticks\": \"\"}}, \"type\": \"scatterternary\"}], \"surface\": [{\"colorbar\": {\"outlinewidth\": 0, \"ticks\": \"\"}, \"colorscale\": [[0.0, \"#0d0887\"], [0.1111111111111111, \"#46039f\"], [0.2222222222222222, \"#7201a8\"], [0.3333333333333333, \"#9c179e\"], [0.4444444444444444, \"#bd3786\"], [0.5555555555555556, \"#d8576b\"], [0.6666666666666666, \"#ed7953\"], [0.7777777777777778, \"#fb9f3a\"], [0.8888888888888888, \"#fdca26\"], [1.0, \"#f0f921\"]], \"type\": \"surface\"}], \"table\": [{\"cells\": {\"fill\": {\"color\": \"#EBF0F8\"}, \"line\": {\"color\": \"white\"}}, \"header\": {\"fill\": {\"color\": \"#C8D4E3\"}, \"line\": {\"color\": \"white\"}}, \"type\": \"table\"}]}, \"layout\": {\"annotationdefaults\": {\"arrowcolor\": \"#2a3f5f\", \"arrowhead\": 0, \"arrowwidth\": 1}, \"coloraxis\": {\"colorbar\": {\"outlinewidth\": 0, \"ticks\": \"\"}}, \"colorscale\": {\"diverging\": [[0, \"#8e0152\"], [0.1, \"#c51b7d\"], [0.2, \"#de77ae\"], [0.3, \"#f1b6da\"], [0.4, \"#fde0ef\"], [0.5, \"#f7f7f7\"], [0.6, \"#e6f5d0\"], [0.7, \"#b8e186\"], [0.8, \"#7fbc41\"], [0.9, \"#4d9221\"], [1, \"#276419\"]], \"sequential\": [[0.0, \"#0d0887\"], [0.1111111111111111, \"#46039f\"], [0.2222222222222222, \"#7201a8\"], [0.3333333333333333, \"#9c179e\"], [0.4444444444444444, \"#bd3786\"], [0.5555555555555556, \"#d8576b\"], [0.6666666666666666, \"#ed7953\"], [0.7777777777777778, \"#fb9f3a\"], [0.8888888888888888, \"#fdca26\"], [1.0, \"#f0f921\"]], \"sequentialminus\": [[0.0, \"#0d0887\"], [0.1111111111111111, \"#46039f\"], [0.2222222222222222, \"#7201a8\"], [0.3333333333333333, \"#9c179e\"], [0.4444444444444444, \"#bd3786\"], [0.5555555555555556, \"#d8576b\"], [0.6666666666666666, \"#ed7953\"], [0.7777777777777778, \"#fb9f3a\"], [0.8888888888888888, \"#fdca26\"], [1.0, \"#f0f921\"]]}, \"colorway\": [\"#636efa\", \"#EF553B\", \"#00cc96\", \"#ab63fa\", \"#FFA15A\", \"#19d3f3\", \"#FF6692\", \"#B6E880\", \"#FF97FF\", \"#FECB52\"], \"font\": {\"color\": \"#2a3f5f\"}, \"geo\": {\"bgcolor\": \"white\", \"lakecolor\": \"white\", \"landcolor\": \"#E5ECF6\", \"showlakes\": true, \"showland\": true, \"subunitcolor\": \"white\"}, \"hoverlabel\": {\"align\": \"left\"}, \"hovermode\": \"closest\", \"mapbox\": {\"style\": \"light\"}, \"paper_bgcolor\": \"white\", \"plot_bgcolor\": \"#E5ECF6\", \"polar\": {\"angularaxis\": {\"gridcolor\": \"white\", \"linecolor\": \"white\", \"ticks\": \"\"}, \"bgcolor\": \"#E5ECF6\", \"radialaxis\": {\"gridcolor\": \"white\", \"linecolor\": \"white\", \"ticks\": \"\"}}, \"scene\": {\"xaxis\": {\"backgroundcolor\": \"#E5ECF6\", \"gridcolor\": \"white\", \"gridwidth\": 2, \"linecolor\": \"white\", \"showbackground\": true, \"ticks\": \"\", \"zerolinecolor\": \"white\"}, \"yaxis\": {\"backgroundcolor\": \"#E5ECF6\", \"gridcolor\": \"white\", \"gridwidth\": 2, \"linecolor\": \"white\", \"showbackground\": true, \"ticks\": \"\", \"zerolinecolor\": \"white\"}, \"zaxis\": {\"backgroundcolor\": \"#E5ECF6\", \"gridcolor\": \"white\", \"gridwidth\": 2, \"linecolor\": \"white\", \"showbackground\": true, \"ticks\": \"\", \"zerolinecolor\": \"white\"}}, \"shapedefaults\": {\"line\": {\"color\": \"#2a3f5f\"}}, \"ternary\": {\"aaxis\": {\"gridcolor\": \"white\", \"linecolor\": \"white\", \"ticks\": \"\"}, \"baxis\": {\"gridcolor\": \"white\", \"linecolor\": \"white\", \"ticks\": \"\"}, \"bgcolor\": \"#E5ECF6\", \"caxis\": {\"gridcolor\": \"white\", \"linecolor\": \"white\", \"ticks\": \"\"}}, \"title\": {\"x\": 0.05}, \"xaxis\": {\"automargin\": true, \"gridcolor\": \"white\", \"linecolor\": \"white\", \"ticks\": \"\", \"title\": {\"standoff\": 15}, \"zerolinecolor\": \"white\", \"zerolinewidth\": 2}, \"yaxis\": {\"automargin\": true, \"gridcolor\": \"white\", \"linecolor\": \"white\", \"ticks\": \"\", \"title\": {\"standoff\": 15}, \"zerolinecolor\": \"white\", \"zerolinewidth\": 2}}}, \"title\": {\"font\": {\"color\": \"#4D5663\"}, \"text\": \"A\\u00f1o de integracion....\"}, \"xaxis\": {\"gridcolor\": \"#E1E5ED\", \"showgrid\": true, \"tickfont\": {\"color\": \"#4D5663\"}, \"title\": {\"font\": {\"color\": \"#4D5663\"}, \"text\": \"Country\"}, \"zerolinecolor\": \"#E1E5ED\"}, \"yaxis\": {\"gridcolor\": \"#E1E5ED\", \"showgrid\": true, \"tickfont\": {\"color\": \"#4D5663\"}, \"title\": {\"font\": {\"color\": \"#4D5663\"}, \"text\": \"\"}, \"zerolinecolor\": \"#E1E5ED\"}},\n",
       "                        {\"showLink\": true, \"linkText\": \"Export to plot.ly\", \"plotlyServerURL\": \"https://plot.ly\", \"responsive\": true}\n",
       "                    ).then(function(){\n",
       "                            \n",
       "var gd = document.getElementById('cb14d57d-806c-4314-afda-29eb188048d4');\n",
       "var x = new MutationObserver(function (mutations, observer) {{\n",
       "        var display = window.getComputedStyle(gd).display;\n",
       "        if (!display || display === 'none') {{\n",
       "            console.log([gd, 'removed!']);\n",
       "            Plotly.purge(gd);\n",
       "            observer.disconnect();\n",
       "        }}\n",
       "}});\n",
       "\n",
       "// Listen for the removal of the full notebook cells\n",
       "var notebookContainer = gd.closest('#notebook-container');\n",
       "if (notebookContainer) {{\n",
       "    x.observe(notebookContainer, {childList: true});\n",
       "}}\n",
       "\n",
       "// Listen for the clearing of the current output cell\n",
       "var outputEl = gd.closest('.output');\n",
       "if (outputEl) {{\n",
       "    x.observe(outputEl, {childList: true});\n",
       "}}\n",
       "\n",
       "                        })\n",
       "                };\n",
       "                });\n",
       "            </script>\n",
       "        </div>"
      ]
     },
     "metadata": {},
     "output_type": "display_data"
    }
   ],
   "source": [
    "gm.iplot(x='index', y='Mes',kind='bar', xTitle='Country', title='Mes de integración')\n",
    "gk.iplot(x='index', y='Año',kind='bar', xTitle='Country', title='Año de integracion....')\n"
   ]
  },
  {
   "cell_type": "code",
   "execution_count": 67,
   "metadata": {},
   "outputs": [
    {
     "data": {
      "text/plain": [
       "2019-11-01    21\n",
       "2010-07-01    14\n",
       "2014-12-01     6\n",
       "2016-10-01     3\n",
       "2016-01-01     3\n",
       "2011-03-01     2\n",
       "2017-11-01     2\n",
       "Name: fecha_alta, dtype: int64"
      ]
     },
     "execution_count": 67,
     "metadata": {},
     "output_type": "execute_result"
    }
   ],
   "source": [
    "d.fecha_alta.value_counts()"
   ]
  },
  {
   "cell_type": "code",
   "execution_count": null,
   "metadata": {},
   "outputs": [],
   "source": [
    "#Indice nacional de precios al consumidor"
   ]
  },
  {
   "cell_type": "code",
   "execution_count": null,
   "metadata": {},
   "outputs": [],
   "source": [
    "da= pd.read_csv(\"../AGEEML.csv\",encoding = \"utf-8\")"
   ]
  },
  {
   "cell_type": "code",
   "execution_count": null,
   "metadata": {},
   "outputs": [],
   "source": [
    "da"
   ]
  },
  {
   "cell_type": "code",
   "execution_count": null,
   "metadata": {},
   "outputs": [],
   "source": []
  }
 ],
 "metadata": {
  "kernelspec": {
   "display_name": "Python 3",
   "language": "python",
   "name": "python3"
  },
  "language_info": {
   "codemirror_mode": {
    "name": "ipython",
    "version": 3
   },
   "file_extension": ".py",
   "mimetype": "text/x-python",
   "name": "python",
   "nbconvert_exporter": "python",
   "pygments_lexer": "ipython3",
   "version": "3.7.3"
  }
 },
 "nbformat": 4,
 "nbformat_minor": 2
}
