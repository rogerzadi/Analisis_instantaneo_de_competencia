{
 "cells": [
  {
   "cell_type": "code",
   "execution_count": 1,
   "metadata": {},
   "outputs": [],
   "source": [
    "import json\n",
    "import requests\n",
    "import pandas as pd\n",
    "import folium \n"
   ]
  },
  {
   "cell_type": "code",
   "execution_count": 221,
   "metadata": {},
   "outputs": [],
   "source": [
    "giro=\"diseño\"\n",
    "long=19.421336 \n",
    "lat=-99.162700\n",
    "mts=1000"
   ]
  },
  {
   "cell_type": "code",
   "execution_count": 180,
   "metadata": {},
   "outputs": [
    {
     "name": "stdout",
     "output_type": "stream",
     "text": [
      "125\n"
     ]
    },
    {
     "data": {
      "text/html": [
       "<div>\n",
       "<style scoped>\n",
       "    .dataframe tbody tr th:only-of-type {\n",
       "        vertical-align: middle;\n",
       "    }\n",
       "\n",
       "    .dataframe tbody tr th {\n",
       "        vertical-align: top;\n",
       "    }\n",
       "\n",
       "    .dataframe thead th {\n",
       "        text-align: right;\n",
       "    }\n",
       "</style>\n",
       "<table border=\"1\" class=\"dataframe\">\n",
       "  <thead>\n",
       "    <tr style=\"text-align: right;\">\n",
       "      <th></th>\n",
       "      <th>CP</th>\n",
       "      <th>Calle</th>\n",
       "      <th>CentroComercial</th>\n",
       "      <th>Clase_actividad</th>\n",
       "      <th>Colonia</th>\n",
       "      <th>Correo_e</th>\n",
       "      <th>Estrato</th>\n",
       "      <th>Id</th>\n",
       "      <th>Latitud</th>\n",
       "      <th>Longitud</th>\n",
       "      <th>...</th>\n",
       "      <th>NumLocal</th>\n",
       "      <th>Num_Exterior</th>\n",
       "      <th>Num_Interior</th>\n",
       "      <th>Razon_social</th>\n",
       "      <th>Sitio_internet</th>\n",
       "      <th>Telefono</th>\n",
       "      <th>Tipo</th>\n",
       "      <th>TipoCentroComercial</th>\n",
       "      <th>Tipo_vialidad</th>\n",
       "      <th>Ubicacion</th>\n",
       "    </tr>\n",
       "  </thead>\n",
       "  <tbody>\n",
       "    <tr>\n",
       "      <th>0</th>\n",
       "      <td>06700</td>\n",
       "      <td>TONALA</td>\n",
       "      <td></td>\n",
       "      <td>Servicios de diseño de sistemas de cómputo y s...</td>\n",
       "      <td>ROMA NORTE</td>\n",
       "      <td>MVAZQEZ@REALNET.COM.MX</td>\n",
       "      <td>11 a 30 personas</td>\n",
       "      <td>1028239</td>\n",
       "      <td>19.42140394</td>\n",
       "      <td>-99.16340624</td>\n",
       "      <td>...</td>\n",
       "      <td></td>\n",
       "      <td>6</td>\n",
       "      <td>202</td>\n",
       "      <td>REALNET SA DE CV</td>\n",
       "      <td>WWW.REALNETSA.COM.MX</td>\n",
       "      <td></td>\n",
       "      <td>Fijo</td>\n",
       "      <td></td>\n",
       "      <td>CALLE</td>\n",
       "      <td>CUAUHTÉMOC, Cuauhtémoc, CIUDAD DE MÉXICO</td>\n",
       "    </tr>\n",
       "    <tr>\n",
       "      <th>1</th>\n",
       "      <td>06700</td>\n",
       "      <td>DURANGO</td>\n",
       "      <td></td>\n",
       "      <td>Comercio al por menor de muebles para el hogar</td>\n",
       "      <td>ROMA NORTE</td>\n",
       "      <td></td>\n",
       "      <td>6 a 10 personas</td>\n",
       "      <td>8326496</td>\n",
       "      <td>19.42042099</td>\n",
       "      <td>-99.16376558</td>\n",
       "      <td>...</td>\n",
       "      <td></td>\n",
       "      <td>153</td>\n",
       "      <td></td>\n",
       "      <td>DISEÑO SILLIOTI SA DE CV</td>\n",
       "      <td>ILMIOMUEBLE.COM</td>\n",
       "      <td></td>\n",
       "      <td>Fijo</td>\n",
       "      <td></td>\n",
       "      <td>CALLE</td>\n",
       "      <td>CUAUHTÉMOC, Cuauhtémoc, CIUDAD DE MÉXICO</td>\n",
       "    </tr>\n",
       "    <tr>\n",
       "      <th>2</th>\n",
       "      <td>06700</td>\n",
       "      <td>JALAPA</td>\n",
       "      <td></td>\n",
       "      <td>Servicios de diseño de sistemas de cómputo y s...</td>\n",
       "      <td>ROMA NORTE</td>\n",
       "      <td>INFO@BEEPQUEST.COM</td>\n",
       "      <td>6 a 10 personas</td>\n",
       "      <td>6810967</td>\n",
       "      <td>19.42265117</td>\n",
       "      <td>-99.16231136</td>\n",
       "      <td>...</td>\n",
       "      <td></td>\n",
       "      <td>17</td>\n",
       "      <td>503</td>\n",
       "      <td>APPQUEST SAPI DE CV</td>\n",
       "      <td>WWW.BEEPQUEST.COM</td>\n",
       "      <td>553382070</td>\n",
       "      <td>Fijo</td>\n",
       "      <td></td>\n",
       "      <td>CALLE</td>\n",
       "      <td>CUAUHTÉMOC, Cuauhtémoc, CIUDAD DE MÉXICO</td>\n",
       "    </tr>\n",
       "    <tr>\n",
       "      <th>3</th>\n",
       "      <td>06700</td>\n",
       "      <td>INSURGENTES SUR</td>\n",
       "      <td></td>\n",
       "      <td>Comercio al por menor de muebles para el hogar</td>\n",
       "      <td>ROMA NORTE</td>\n",
       "      <td></td>\n",
       "      <td>0 a 5 personas</td>\n",
       "      <td>1029567</td>\n",
       "      <td>19.42002628</td>\n",
       "      <td>-99.16392516</td>\n",
       "      <td>...</td>\n",
       "      <td></td>\n",
       "      <td>214</td>\n",
       "      <td>0</td>\n",
       "      <td>COLECCION DISEÑO SA DE CV</td>\n",
       "      <td></td>\n",
       "      <td></td>\n",
       "      <td>Fijo</td>\n",
       "      <td></td>\n",
       "      <td>AVENIDA</td>\n",
       "      <td>CUAUHTÉMOC, Cuauhtémoc, CIUDAD DE MÉXICO</td>\n",
       "    </tr>\n",
       "    <tr>\n",
       "      <th>4</th>\n",
       "      <td>06700</td>\n",
       "      <td>INSURGENTES SUR</td>\n",
       "      <td></td>\n",
       "      <td>Comercio al por menor de motocicletas</td>\n",
       "      <td>DURANGO</td>\n",
       "      <td></td>\n",
       "      <td>0 a 5 personas</td>\n",
       "      <td>8327269</td>\n",
       "      <td>19.42017555</td>\n",
       "      <td>-99.16408991</td>\n",
       "      <td>...</td>\n",
       "      <td></td>\n",
       "      <td>207</td>\n",
       "      <td></td>\n",
       "      <td>DISEÑOS Y CLASICOS MEXICO SA DE CV</td>\n",
       "      <td></td>\n",
       "      <td></td>\n",
       "      <td>Fijo</td>\n",
       "      <td></td>\n",
       "      <td>AVENIDA</td>\n",
       "      <td>CUAUHTÉMOC, Cuauhtémoc, CIUDAD DE MÉXICO</td>\n",
       "    </tr>\n",
       "  </tbody>\n",
       "</table>\n",
       "<p>5 rows × 21 columns</p>\n",
       "</div>"
      ],
      "text/plain": [
       "      CP            Calle CentroComercial  \\\n",
       "0  06700           TONALA                   \n",
       "1  06700          DURANGO                   \n",
       "2  06700           JALAPA                   \n",
       "3  06700  INSURGENTES SUR                   \n",
       "4  06700  INSURGENTES SUR                   \n",
       "\n",
       "                                     Clase_actividad     Colonia  \\\n",
       "0  Servicios de diseño de sistemas de cómputo y s...  ROMA NORTE   \n",
       "1     Comercio al por menor de muebles para el hogar  ROMA NORTE   \n",
       "2  Servicios de diseño de sistemas de cómputo y s...  ROMA NORTE   \n",
       "3     Comercio al por menor de muebles para el hogar  ROMA NORTE   \n",
       "4              Comercio al por menor de motocicletas     DURANGO   \n",
       "\n",
       "                 Correo_e           Estrato       Id      Latitud  \\\n",
       "0  MVAZQEZ@REALNET.COM.MX  11 a 30 personas  1028239  19.42140394   \n",
       "1                           6 a 10 personas  8326496  19.42042099   \n",
       "2      INFO@BEEPQUEST.COM   6 a 10 personas  6810967  19.42265117   \n",
       "3                            0 a 5 personas  1029567  19.42002628   \n",
       "4                            0 a 5 personas  8327269  19.42017555   \n",
       "\n",
       "       Longitud  ... NumLocal Num_Exterior Num_Interior  \\\n",
       "0  -99.16340624  ...                     6          202   \n",
       "1  -99.16376558  ...                   153                \n",
       "2  -99.16231136  ...                    17          503   \n",
       "3  -99.16392516  ...                   214            0   \n",
       "4  -99.16408991  ...                   207                \n",
       "\n",
       "                         Razon_social        Sitio_internet   Telefono  Tipo  \\\n",
       "0                    REALNET SA DE CV  WWW.REALNETSA.COM.MX             Fijo   \n",
       "1            DISEÑO SILLIOTI SA DE CV       ILMIOMUEBLE.COM             Fijo   \n",
       "2                 APPQUEST SAPI DE CV     WWW.BEEPQUEST.COM  553382070  Fijo   \n",
       "3           COLECCION DISEÑO SA DE CV                                   Fijo   \n",
       "4  DISEÑOS Y CLASICOS MEXICO SA DE CV                                   Fijo   \n",
       "\n",
       "  TipoCentroComercial Tipo_vialidad                                 Ubicacion  \n",
       "0                             CALLE  CUAUHTÉMOC, Cuauhtémoc, CIUDAD DE MÉXICO  \n",
       "1                             CALLE  CUAUHTÉMOC, Cuauhtémoc, CIUDAD DE MÉXICO  \n",
       "2                             CALLE  CUAUHTÉMOC, Cuauhtémoc, CIUDAD DE MÉXICO  \n",
       "3                           AVENIDA  CUAUHTÉMOC, Cuauhtémoc, CIUDAD DE MÉXICO  \n",
       "4                           AVENIDA  CUAUHTÉMOC, Cuauhtémoc, CIUDAD DE MÉXICO  \n",
       "\n",
       "[5 rows x 21 columns]"
      ]
     },
     "execution_count": 180,
     "metadata": {},
     "output_type": "execute_result"
    }
   ],
   "source": [
    "response = requests.get(\"https://www.inegi.org.mx/app/api/denue/v1/consulta/Buscar/{}/{},{}/{}/44522d01-cae7-455b-9b53-7fc7d481cecb\".format(giro,long,lat,mts))\n",
    "results = response.json()\n",
    "\n",
    "data = pd.DataFrame(response.json())\n",
    "print(len(data))\n",
    "data.head()\n"
   ]
  },
  {
   "cell_type": "code",
   "execution_count": 136,
   "metadata": {},
   "outputs": [
    {
     "data": {
      "text/plain": [
       "'Servicios de diseño de sistemas de cómputo y servicios relacionados'"
      ]
     },
     "execution_count": 136,
     "metadata": {},
     "output_type": "execute_result"
    }
   ],
   "source": [
    "sss=data.Clase_actividad.value_counts()[:5]\n",
    "sss.index[0]"
   ]
  },
  {
   "cell_type": "code",
   "execution_count": 4,
   "metadata": {},
   "outputs": [
    {
     "name": "stdout",
     "output_type": "stream",
     "text": [
      "<class 'pandas.core.frame.DataFrame'>\n",
      "RangeIndex: 466301 entries, 0 to 466300\n",
      "Data columns (total 16 columns):\n",
      "Unnamed: 0    466301 non-null int64\n",
      "id            466301 non-null int64\n",
      "nom_estab     466301 non-null object\n",
      "codigo_act    466301 non-null int64\n",
      "nombre_act    466301 non-null object\n",
      "tipoCenCom    88178 non-null object\n",
      "per_ocu       466301 non-null object\n",
      "tipoUniEco    466301 non-null object\n",
      "ageb          466285 non-null object\n",
      "manzana       466285 non-null float64\n",
      "latitud       466301 non-null float64\n",
      "longitud      466301 non-null float64\n",
      "fecha_alta    466301 non-null object\n",
      "www           37279 non-null object\n",
      "Año           466301 non-null int64\n",
      "Mes           466301 non-null int64\n",
      "dtypes: float64(3), int64(5), object(8)\n",
      "memory usage: 56.9+ MB\n"
     ]
    }
   ],
   "source": [
    "info = pd.read_csv('../info.csv')\n",
    "info.info()"
   ]
  },
  {
   "cell_type": "code",
   "execution_count": 5,
   "metadata": {},
   "outputs": [],
   "source": [
    "\n",
    "\n",
    "#for e in info.select_dtypes('object').columns:\n",
    " #   info[e]=info[e].astype('category')\n",
    "for e in info.select_dtypes('integer').columns:\n",
    "    info[e]=pd.to_numeric(info[e], downcast='integer')\n",
    "for e in info.select_dtypes('float').columns:\n",
    "    info[e]=pd.to_numeric(info[e], downcast='float')  \n",
    "    \n",
    "info[\"fecha_alta\"]=pd.to_datetime(info.fecha_alta)\n",
    "\n",
    "\n"
   ]
  },
  {
   "cell_type": "code",
   "execution_count": 6,
   "metadata": {},
   "outputs": [
    {
     "name": "stdout",
     "output_type": "stream",
     "text": [
      "<class 'pandas.core.frame.DataFrame'>\n",
      "RangeIndex: 125 entries, 0 to 124\n",
      "Data columns (total 16 columns):\n",
      "Unnamed: 0    125 non-null int32\n",
      "id            125 non-null int32\n",
      "nom_estab     125 non-null object\n",
      "codigo_act    125 non-null int32\n",
      "nombre_act    125 non-null object\n",
      "tipoCenCom    24 non-null object\n",
      "per_ocu       125 non-null object\n",
      "tipoUniEco    125 non-null object\n",
      "ageb          125 non-null object\n",
      "manzana       125 non-null float32\n",
      "latitud       125 non-null float32\n",
      "longitud      125 non-null float32\n",
      "fecha_alta    125 non-null datetime64[ns]\n",
      "www           75 non-null object\n",
      "Año           125 non-null int16\n",
      "Mes           125 non-null int8\n",
      "dtypes: datetime64[ns](1), float32(3), int16(1), int32(3), int8(1), object(7)\n",
      "memory usage: 11.2+ KB\n"
     ]
    },
    {
     "name": "stderr",
     "output_type": "stream",
     "text": [
      "C:\\ProgramData\\Anaconda3\\lib\\site-packages\\ipykernel_launcher.py:6: SettingWithCopyWarning: \n",
      "A value is trying to be set on a copy of a slice from a DataFrame.\n",
      "Try using .loc[row_indexer,col_indexer] = value instead\n",
      "\n",
      "See the caveats in the documentation: http://pandas.pydata.org/pandas-docs/stable/indexing.html#indexing-view-versus-copy\n",
      "  \n",
      "C:\\ProgramData\\Anaconda3\\lib\\site-packages\\ipykernel_launcher.py:7: SettingWithCopyWarning: \n",
      "A value is trying to be set on a copy of a slice from a DataFrame.\n",
      "Try using .loc[row_indexer,col_indexer] = value instead\n",
      "\n",
      "See the caveats in the documentation: http://pandas.pydata.org/pandas-docs/stable/indexing.html#indexing-view-versus-copy\n",
      "  import sys\n"
     ]
    },
    {
     "data": {
      "text/html": [
       "<div>\n",
       "<style scoped>\n",
       "    .dataframe tbody tr th:only-of-type {\n",
       "        vertical-align: middle;\n",
       "    }\n",
       "\n",
       "    .dataframe tbody tr th {\n",
       "        vertical-align: top;\n",
       "    }\n",
       "\n",
       "    .dataframe thead th {\n",
       "        text-align: right;\n",
       "    }\n",
       "</style>\n",
       "<table border=\"1\" class=\"dataframe\">\n",
       "  <thead>\n",
       "    <tr style=\"text-align: right;\">\n",
       "      <th></th>\n",
       "      <th>Unnamed: 0</th>\n",
       "      <th>id</th>\n",
       "      <th>nom_estab</th>\n",
       "      <th>codigo_act</th>\n",
       "      <th>nombre_act</th>\n",
       "      <th>tipoCenCom</th>\n",
       "      <th>per_ocu</th>\n",
       "      <th>tipoUniEco</th>\n",
       "      <th>ageb</th>\n",
       "      <th>manzana</th>\n",
       "      <th>latitud</th>\n",
       "      <th>longitud</th>\n",
       "      <th>fecha_alta</th>\n",
       "      <th>www</th>\n",
       "      <th>Año</th>\n",
       "      <th>Mes</th>\n",
       "      <th>clave</th>\n",
       "    </tr>\n",
       "  </thead>\n",
       "  <tbody>\n",
       "    <tr>\n",
       "      <th>0</th>\n",
       "      <td>1054</td>\n",
       "      <td>8286189</td>\n",
       "      <td>CONSTRUCTORA Y REMODELADORA DE OFICINAS</td>\n",
       "      <td>236221</td>\n",
       "      <td>Edificación de inmuebles comerciales y de serv...</td>\n",
       "      <td>NaN</td>\n",
       "      <td>11 a 30 personas</td>\n",
       "      <td>Fijo</td>\n",
       "      <td>1110</td>\n",
       "      <td>2</td>\n",
       "      <td>19.416512</td>\n",
       "      <td>-99.155670</td>\n",
       "      <td>2019-11-01</td>\n",
       "      <td>NaN</td>\n",
       "      <td>2019</td>\n",
       "      <td>11</td>\n",
       "      <td>1110-2</td>\n",
       "    </tr>\n",
       "    <tr>\n",
       "      <th>1</th>\n",
       "      <td>1272</td>\n",
       "      <td>957422</td>\n",
       "      <td>EDISA EDIFICACIÓN Y DISENOS, SA DE CV</td>\n",
       "      <td>236221</td>\n",
       "      <td>Edificación de inmuebles comerciales y de serv...</td>\n",
       "      <td>NaN</td>\n",
       "      <td>51 a 100 personas</td>\n",
       "      <td>Fijo</td>\n",
       "      <td>120A</td>\n",
       "      <td>2</td>\n",
       "      <td>19.414587</td>\n",
       "      <td>-99.165863</td>\n",
       "      <td>2010-07-01</td>\n",
       "      <td>NaN</td>\n",
       "      <td>2010</td>\n",
       "      <td>7</td>\n",
       "      <td>120A-2</td>\n",
       "    </tr>\n",
       "    <tr>\n",
       "      <th>2</th>\n",
       "      <td>4308</td>\n",
       "      <td>1029505</td>\n",
       "      <td>DISEÑADOR PEDRO LOREDO ALTA COSTURA</td>\n",
       "      <td>315225</td>\n",
       "      <td>Confección de prendas de vestir sobre medida</td>\n",
       "      <td>NaN</td>\n",
       "      <td>0 a 5 personas</td>\n",
       "      <td>Fijo</td>\n",
       "      <td>1093</td>\n",
       "      <td>14</td>\n",
       "      <td>19.418684</td>\n",
       "      <td>-99.169586</td>\n",
       "      <td>2010-07-01</td>\n",
       "      <td>NaN</td>\n",
       "      <td>2010</td>\n",
       "      <td>7</td>\n",
       "      <td>1093-14</td>\n",
       "    </tr>\n",
       "    <tr>\n",
       "      <th>3</th>\n",
       "      <td>4317</td>\n",
       "      <td>1029455</td>\n",
       "      <td>DISEÑO DE MODAS ALEJANDRO PONCE</td>\n",
       "      <td>315225</td>\n",
       "      <td>Confección de prendas de vestir sobre medida</td>\n",
       "      <td>NaN</td>\n",
       "      <td>0 a 5 personas</td>\n",
       "      <td>Fijo</td>\n",
       "      <td>1093</td>\n",
       "      <td>13</td>\n",
       "      <td>19.418406</td>\n",
       "      <td>-99.169518</td>\n",
       "      <td>2010-07-01</td>\n",
       "      <td>WWW.ALEJANDROPONCE.COM.MX</td>\n",
       "      <td>2010</td>\n",
       "      <td>7</td>\n",
       "      <td>1093-13</td>\n",
       "    </tr>\n",
       "    <tr>\n",
       "      <th>4</th>\n",
       "      <td>29927</td>\n",
       "      <td>1029675</td>\n",
       "      <td>DISEÑO E INTERIORISMO JAMES &amp; STEVEN</td>\n",
       "      <td>337210</td>\n",
       "      <td>Fabricación de muebles de oficina y estantería</td>\n",
       "      <td>NaN</td>\n",
       "      <td>0 a 5 personas</td>\n",
       "      <td>Fijo</td>\n",
       "      <td>1002</td>\n",
       "      <td>18</td>\n",
       "      <td>19.419149</td>\n",
       "      <td>-99.159454</td>\n",
       "      <td>2010-07-01</td>\n",
       "      <td>WWW.JAMESANDSTEVEN.COM</td>\n",
       "      <td>2010</td>\n",
       "      <td>7</td>\n",
       "      <td>1002-18</td>\n",
       "    </tr>\n",
       "  </tbody>\n",
       "</table>\n",
       "</div>"
      ],
      "text/plain": [
       "   Unnamed: 0       id                                nom_estab  codigo_act  \\\n",
       "0        1054  8286189  CONSTRUCTORA Y REMODELADORA DE OFICINAS      236221   \n",
       "1        1272   957422    EDISA EDIFICACIÓN Y DISENOS, SA DE CV      236221   \n",
       "2        4308  1029505      DISEÑADOR PEDRO LOREDO ALTA COSTURA      315225   \n",
       "3        4317  1029455          DISEÑO DE MODAS ALEJANDRO PONCE      315225   \n",
       "4       29927  1029675     DISEÑO E INTERIORISMO JAMES & STEVEN      337210   \n",
       "\n",
       "                                          nombre_act tipoCenCom  \\\n",
       "0  Edificación de inmuebles comerciales y de serv...        NaN   \n",
       "1  Edificación de inmuebles comerciales y de serv...        NaN   \n",
       "2       Confección de prendas de vestir sobre medida        NaN   \n",
       "3       Confección de prendas de vestir sobre medida        NaN   \n",
       "4     Fabricación de muebles de oficina y estantería        NaN   \n",
       "\n",
       "             per_ocu tipoUniEco  ageb  manzana    latitud   longitud  \\\n",
       "0   11 a 30 personas       Fijo  1110        2  19.416512 -99.155670   \n",
       "1  51 a 100 personas       Fijo  120A        2  19.414587 -99.165863   \n",
       "2     0 a 5 personas       Fijo  1093       14  19.418684 -99.169586   \n",
       "3     0 a 5 personas       Fijo  1093       13  19.418406 -99.169518   \n",
       "4     0 a 5 personas       Fijo  1002       18  19.419149 -99.159454   \n",
       "\n",
       "  fecha_alta                        www   Año  Mes    clave  \n",
       "0 2019-11-01                        NaN  2019   11   1110-2  \n",
       "1 2010-07-01                        NaN  2010    7   120A-2  \n",
       "2 2010-07-01                        NaN  2010    7  1093-14  \n",
       "3 2010-07-01  WWW.ALEJANDROPONCE.COM.MX  2010    7  1093-13  \n",
       "4 2010-07-01     WWW.JAMESANDSTEVEN.COM  2010    7  1002-18  "
      ]
     },
     "execution_count": 6,
     "metadata": {},
     "output_type": "execute_result"
    }
   ],
   "source": [
    "empresas=data.Id\n",
    "len(empresas)\n",
    "d=info[info[\"id\"].isin(empresas)]\n",
    "d.reset_index(drop=True,inplace=True)\n",
    "d.info()\n",
    "d[\"manzana\"]=d.manzana.astype(int)\n",
    "d[\"clave\"]=d[\"ageb\"].astype(str) + \"-\" + d[\"manzana\"].astype(str)\n",
    "d.head()"
   ]
  },
  {
   "cell_type": "code",
   "execution_count": 252,
   "metadata": {
    "scrolled": false
   },
   "outputs": [
    {
     "data": {
      "text/html": [
       "<div style=\"width:100%;\"><div style=\"position:relative;width:100%;height:0;padding-bottom:60%;\"><iframe src=\"data:text/html;charset=utf-8;base64,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\" style=\"position:absolute;width:100%;height:100%;left:0;top:0;border:none !important;\" allowfullscreen webkitallowfullscreen mozallowfullscreen></iframe></div></div>"
      ],
      "text/plain": [
       "<folium.folium.Map at 0x2a81afc0668>"
      ]
     },
     "metadata": {},
     "output_type": "display_data"
    }
   ],
   "source": [
    "llat=list(d.latitud)\n",
    "llong=list(d.longitud)\n",
    "name=list(d.nom_estab)\n",
    "\n",
    "mapa=folium.Map(location=[long, lat], tiles='openstreetmap', zoom_start=15,)\n",
    "\n",
    "for i in range(len(d)):\n",
    "    folium.Marker([llat[i], llong[i]], icon=folium.Icon(color='red'),popup=name[i]).add_to(mapa)\n",
    "\n",
    "    \n",
    "display(mapa)\n",
    "\n",
    "mapa.save(\"../mapas/mapa {}.html\".format(giro))"
   ]
  },
  {
   "cell_type": "code",
   "execution_count": 9,
   "metadata": {},
   "outputs": [
    {
     "data": {
      "text/plain": [
       "2019-11-01    56\n",
       "2010-07-01    30\n",
       "2014-12-01    14\n",
       "2019-04-01     9\n",
       "2016-10-01     5\n",
       "2017-11-01     4\n",
       "2011-03-01     3\n",
       "2012-06-01     3\n",
       "2016-01-01     1\n",
       "Name: fecha_alta, dtype: int64"
      ]
     },
     "execution_count": 9,
     "metadata": {},
     "output_type": "execute_result"
    }
   ],
   "source": [
    "d.fecha_alta.value_counts()"
   ]
  },
  {
   "cell_type": "code",
   "execution_count": null,
   "metadata": {},
   "outputs": [],
   "source": [
    "'''\n",
    "dat=pd.DataFrame(d.fecha_alta.value_counts())\n",
    "dat=dat.sort_index()\n",
    "dat.index = pd.DatetimeIndex(dat.index).to_period('M')\n",
    "train=dat[1:-1]\n",
    "modelo=AR(train).fit()\n",
    "pred=modelo.predict(8,10)\n",
    "print(pred)\n",
    "train\n",
    "'''"
   ]
  },
  {
   "cell_type": "code",
   "execution_count": null,
   "metadata": {},
   "outputs": [],
   "source": [
    "'''\n",
    "from sklearn.linear_model import LinearRegression\n",
    "\n",
    "\n",
    "train=gk[1:-1]\n",
    "train=train.reset_index(drop=False)\n",
    "train=train.sort_values(by=['index'])\n",
    "X=train[\"index\"]\n",
    "y=train.Año\n",
    "z=\"2019\"\n",
    "X.reshape(1, -1)\n",
    "linreg=LinearRegression(fit_intercept=True)\n",
    "linreg.fit(X, y)\n",
    "#y_pred=linreg.predict(X_test)\n",
    "'''"
   ]
  },
  {
   "cell_type": "code",
   "execution_count": 80,
   "metadata": {},
   "outputs": [
    {
     "data": {
      "text/html": [
       "        <script type=\"text/javascript\">\n",
       "        window.PlotlyConfig = {MathJaxConfig: 'local'};\n",
       "        if (window.MathJax) {MathJax.Hub.Config({SVG: {font: \"STIX-Web\"}});}\n",
       "        if (typeof require !== 'undefined') {\n",
       "        require.undef(\"plotly\");\n",
       "        requirejs.config({\n",
       "            paths: {\n",
       "                'plotly': ['https://cdn.plot.ly/plotly-latest.min']\n",
       "            }\n",
       "        });\n",
       "        require(['plotly'], function(Plotly) {\n",
       "            window._Plotly = Plotly;\n",
       "        });\n",
       "        }\n",
       "        </script>\n",
       "        "
      ]
     },
     "metadata": {},
     "output_type": "display_data"
    }
   ],
   "source": [
    "import chart_studio.plotly as py\n",
    "import cufflinks as cf\n",
    "from ipywidgets import interact\n",
    "import matplotlib.pyplot as plt\n",
    "cf.go_offline()\n",
    "import seaborn as sns"
   ]
  },
  {
   "cell_type": "code",
   "execution_count": 11,
   "metadata": {},
   "outputs": [
    {
     "data": {
      "text/plain": [
       "125"
      ]
     },
     "metadata": {},
     "output_type": "display_data"
    },
    {
     "name": "stdout",
     "output_type": "stream",
     "text": [
      "   index  Año\n",
      "1   2010   30\n",
      "6   2011    3\n",
      "5   2012    3\n",
      "2   2014   14\n",
      "3   2016    6\n",
      "4   2017    4\n",
      "0   2019   65\n"
     ]
    },
    {
     "data": {
      "text/html": [
       "<div>\n",
       "<style scoped>\n",
       "    .dataframe tbody tr th:only-of-type {\n",
       "        vertical-align: middle;\n",
       "    }\n",
       "\n",
       "    .dataframe tbody tr th {\n",
       "        vertical-align: top;\n",
       "    }\n",
       "\n",
       "    .dataframe thead th {\n",
       "        text-align: right;\n",
       "    }\n",
       "</style>\n",
       "<table border=\"1\" class=\"dataframe\">\n",
       "  <thead>\n",
       "    <tr style=\"text-align: right;\">\n",
       "      <th></th>\n",
       "      <th>index</th>\n",
       "      <th>Mes</th>\n",
       "    </tr>\n",
       "  </thead>\n",
       "  <tbody>\n",
       "    <tr>\n",
       "      <th>7</th>\n",
       "      <td>1</td>\n",
       "      <td>1</td>\n",
       "    </tr>\n",
       "    <tr>\n",
       "      <th>6</th>\n",
       "      <td>3</td>\n",
       "      <td>3</td>\n",
       "    </tr>\n",
       "    <tr>\n",
       "      <th>3</th>\n",
       "      <td>4</td>\n",
       "      <td>9</td>\n",
       "    </tr>\n",
       "    <tr>\n",
       "      <th>5</th>\n",
       "      <td>6</td>\n",
       "      <td>3</td>\n",
       "    </tr>\n",
       "    <tr>\n",
       "      <th>1</th>\n",
       "      <td>7</td>\n",
       "      <td>30</td>\n",
       "    </tr>\n",
       "    <tr>\n",
       "      <th>4</th>\n",
       "      <td>10</td>\n",
       "      <td>5</td>\n",
       "    </tr>\n",
       "    <tr>\n",
       "      <th>0</th>\n",
       "      <td>11</td>\n",
       "      <td>60</td>\n",
       "    </tr>\n",
       "    <tr>\n",
       "      <th>2</th>\n",
       "      <td>12</td>\n",
       "      <td>14</td>\n",
       "    </tr>\n",
       "  </tbody>\n",
       "</table>\n",
       "</div>"
      ],
      "text/plain": [
       "   index  Mes\n",
       "7      1    1\n",
       "6      3    3\n",
       "3      4    9\n",
       "5      6    3\n",
       "1      7   30\n",
       "4     10    5\n",
       "0     11   60\n",
       "2     12   14"
      ]
     },
     "execution_count": 11,
     "metadata": {},
     "output_type": "execute_result"
    }
   ],
   "source": [
    "display(len(d))\n",
    "gk =pd.DataFrame(d.Año.value_counts())\n",
    "gk=gk.reset_index(drop=False)\n",
    "gk=gk.sort_values(by=['index'])\n",
    "print(gk)\n",
    "gm =pd.DataFrame(d.Mes.value_counts())\n",
    "gm=gm.reset_index(drop=False)\n",
    "gm=gm.sort_values(by=['index'])\n",
    "gm"
   ]
  },
  {
   "cell_type": "code",
   "execution_count": 188,
   "metadata": {
    "scrolled": false
   },
   "outputs": [
    {
     "data": {
      "application/vnd.plotly.v1+json": {
       "config": {
        "linkText": "Export to plot.ly",
        "plotlyServerURL": "https://plot.ly",
        "showLink": true
       },
       "data": [
        {
         "marker": {
          "color": "rgba(255, 153, 51, 0.6)",
          "line": {
           "color": "rgba(255, 153, 51, 1.0)",
           "width": 1
          }
         },
         "name": "Mes",
         "orientation": "v",
         "text": "",
         "type": "bar",
         "x": [
          1,
          3,
          4,
          6,
          7,
          10,
          11,
          12
         ],
         "y": [
          1,
          3,
          9,
          3,
          30,
          5,
          60,
          14
         ]
        }
       ],
       "layout": {
        "legend": {
         "bgcolor": "#F5F6F9",
         "font": {
          "color": "#4D5663"
         }
        },
        "paper_bgcolor": "#F5F6F9",
        "plot_bgcolor": "#F5F6F9",
        "template": {
         "data": {
          "bar": [
           {
            "error_x": {
             "color": "#2a3f5f"
            },
            "error_y": {
             "color": "#2a3f5f"
            },
            "marker": {
             "line": {
              "color": "#E5ECF6",
              "width": 0.5
             }
            },
            "type": "bar"
           }
          ],
          "barpolar": [
           {
            "marker": {
             "line": {
              "color": "#E5ECF6",
              "width": 0.5
             }
            },
            "type": "barpolar"
           }
          ],
          "carpet": [
           {
            "aaxis": {
             "endlinecolor": "#2a3f5f",
             "gridcolor": "white",
             "linecolor": "white",
             "minorgridcolor": "white",
             "startlinecolor": "#2a3f5f"
            },
            "baxis": {
             "endlinecolor": "#2a3f5f",
             "gridcolor": "white",
             "linecolor": "white",
             "minorgridcolor": "white",
             "startlinecolor": "#2a3f5f"
            },
            "type": "carpet"
           }
          ],
          "choropleth": [
           {
            "colorbar": {
             "outlinewidth": 0,
             "ticks": ""
            },
            "type": "choropleth"
           }
          ],
          "contour": [
           {
            "colorbar": {
             "outlinewidth": 0,
             "ticks": ""
            },
            "colorscale": [
             [
              0,
              "#0d0887"
             ],
             [
              0.1111111111111111,
              "#46039f"
             ],
             [
              0.2222222222222222,
              "#7201a8"
             ],
             [
              0.3333333333333333,
              "#9c179e"
             ],
             [
              0.4444444444444444,
              "#bd3786"
             ],
             [
              0.5555555555555556,
              "#d8576b"
             ],
             [
              0.6666666666666666,
              "#ed7953"
             ],
             [
              0.7777777777777778,
              "#fb9f3a"
             ],
             [
              0.8888888888888888,
              "#fdca26"
             ],
             [
              1,
              "#f0f921"
             ]
            ],
            "type": "contour"
           }
          ],
          "contourcarpet": [
           {
            "colorbar": {
             "outlinewidth": 0,
             "ticks": ""
            },
            "type": "contourcarpet"
           }
          ],
          "heatmap": [
           {
            "colorbar": {
             "outlinewidth": 0,
             "ticks": ""
            },
            "colorscale": [
             [
              0,
              "#0d0887"
             ],
             [
              0.1111111111111111,
              "#46039f"
             ],
             [
              0.2222222222222222,
              "#7201a8"
             ],
             [
              0.3333333333333333,
              "#9c179e"
             ],
             [
              0.4444444444444444,
              "#bd3786"
             ],
             [
              0.5555555555555556,
              "#d8576b"
             ],
             [
              0.6666666666666666,
              "#ed7953"
             ],
             [
              0.7777777777777778,
              "#fb9f3a"
             ],
             [
              0.8888888888888888,
              "#fdca26"
             ],
             [
              1,
              "#f0f921"
             ]
            ],
            "type": "heatmap"
           }
          ],
          "heatmapgl": [
           {
            "colorbar": {
             "outlinewidth": 0,
             "ticks": ""
            },
            "colorscale": [
             [
              0,
              "#0d0887"
             ],
             [
              0.1111111111111111,
              "#46039f"
             ],
             [
              0.2222222222222222,
              "#7201a8"
             ],
             [
              0.3333333333333333,
              "#9c179e"
             ],
             [
              0.4444444444444444,
              "#bd3786"
             ],
             [
              0.5555555555555556,
              "#d8576b"
             ],
             [
              0.6666666666666666,
              "#ed7953"
             ],
             [
              0.7777777777777778,
              "#fb9f3a"
             ],
             [
              0.8888888888888888,
              "#fdca26"
             ],
             [
              1,
              "#f0f921"
             ]
            ],
            "type": "heatmapgl"
           }
          ],
          "histogram": [
           {
            "marker": {
             "colorbar": {
              "outlinewidth": 0,
              "ticks": ""
             }
            },
            "type": "histogram"
           }
          ],
          "histogram2d": [
           {
            "colorbar": {
             "outlinewidth": 0,
             "ticks": ""
            },
            "colorscale": [
             [
              0,
              "#0d0887"
             ],
             [
              0.1111111111111111,
              "#46039f"
             ],
             [
              0.2222222222222222,
              "#7201a8"
             ],
             [
              0.3333333333333333,
              "#9c179e"
             ],
             [
              0.4444444444444444,
              "#bd3786"
             ],
             [
              0.5555555555555556,
              "#d8576b"
             ],
             [
              0.6666666666666666,
              "#ed7953"
             ],
             [
              0.7777777777777778,
              "#fb9f3a"
             ],
             [
              0.8888888888888888,
              "#fdca26"
             ],
             [
              1,
              "#f0f921"
             ]
            ],
            "type": "histogram2d"
           }
          ],
          "histogram2dcontour": [
           {
            "colorbar": {
             "outlinewidth": 0,
             "ticks": ""
            },
            "colorscale": [
             [
              0,
              "#0d0887"
             ],
             [
              0.1111111111111111,
              "#46039f"
             ],
             [
              0.2222222222222222,
              "#7201a8"
             ],
             [
              0.3333333333333333,
              "#9c179e"
             ],
             [
              0.4444444444444444,
              "#bd3786"
             ],
             [
              0.5555555555555556,
              "#d8576b"
             ],
             [
              0.6666666666666666,
              "#ed7953"
             ],
             [
              0.7777777777777778,
              "#fb9f3a"
             ],
             [
              0.8888888888888888,
              "#fdca26"
             ],
             [
              1,
              "#f0f921"
             ]
            ],
            "type": "histogram2dcontour"
           }
          ],
          "mesh3d": [
           {
            "colorbar": {
             "outlinewidth": 0,
             "ticks": ""
            },
            "type": "mesh3d"
           }
          ],
          "parcoords": [
           {
            "line": {
             "colorbar": {
              "outlinewidth": 0,
              "ticks": ""
             }
            },
            "type": "parcoords"
           }
          ],
          "pie": [
           {
            "automargin": true,
            "type": "pie"
           }
          ],
          "scatter": [
           {
            "marker": {
             "colorbar": {
              "outlinewidth": 0,
              "ticks": ""
             }
            },
            "type": "scatter"
           }
          ],
          "scatter3d": [
           {
            "line": {
             "colorbar": {
              "outlinewidth": 0,
              "ticks": ""
             }
            },
            "marker": {
             "colorbar": {
              "outlinewidth": 0,
              "ticks": ""
             }
            },
            "type": "scatter3d"
           }
          ],
          "scattercarpet": [
           {
            "marker": {
             "colorbar": {
              "outlinewidth": 0,
              "ticks": ""
             }
            },
            "type": "scattercarpet"
           }
          ],
          "scattergeo": [
           {
            "marker": {
             "colorbar": {
              "outlinewidth": 0,
              "ticks": ""
             }
            },
            "type": "scattergeo"
           }
          ],
          "scattergl": [
           {
            "marker": {
             "colorbar": {
              "outlinewidth": 0,
              "ticks": ""
             }
            },
            "type": "scattergl"
           }
          ],
          "scattermapbox": [
           {
            "marker": {
             "colorbar": {
              "outlinewidth": 0,
              "ticks": ""
             }
            },
            "type": "scattermapbox"
           }
          ],
          "scatterpolar": [
           {
            "marker": {
             "colorbar": {
              "outlinewidth": 0,
              "ticks": ""
             }
            },
            "type": "scatterpolar"
           }
          ],
          "scatterpolargl": [
           {
            "marker": {
             "colorbar": {
              "outlinewidth": 0,
              "ticks": ""
             }
            },
            "type": "scatterpolargl"
           }
          ],
          "scatterternary": [
           {
            "marker": {
             "colorbar": {
              "outlinewidth": 0,
              "ticks": ""
             }
            },
            "type": "scatterternary"
           }
          ],
          "surface": [
           {
            "colorbar": {
             "outlinewidth": 0,
             "ticks": ""
            },
            "colorscale": [
             [
              0,
              "#0d0887"
             ],
             [
              0.1111111111111111,
              "#46039f"
             ],
             [
              0.2222222222222222,
              "#7201a8"
             ],
             [
              0.3333333333333333,
              "#9c179e"
             ],
             [
              0.4444444444444444,
              "#bd3786"
             ],
             [
              0.5555555555555556,
              "#d8576b"
             ],
             [
              0.6666666666666666,
              "#ed7953"
             ],
             [
              0.7777777777777778,
              "#fb9f3a"
             ],
             [
              0.8888888888888888,
              "#fdca26"
             ],
             [
              1,
              "#f0f921"
             ]
            ],
            "type": "surface"
           }
          ],
          "table": [
           {
            "cells": {
             "fill": {
              "color": "#EBF0F8"
             },
             "line": {
              "color": "white"
             }
            },
            "header": {
             "fill": {
              "color": "#C8D4E3"
             },
             "line": {
              "color": "white"
             }
            },
            "type": "table"
           }
          ]
         },
         "layout": {
          "annotationdefaults": {
           "arrowcolor": "#2a3f5f",
           "arrowhead": 0,
           "arrowwidth": 1
          },
          "coloraxis": {
           "colorbar": {
            "outlinewidth": 0,
            "ticks": ""
           }
          },
          "colorscale": {
           "diverging": [
            [
             0,
             "#8e0152"
            ],
            [
             0.1,
             "#c51b7d"
            ],
            [
             0.2,
             "#de77ae"
            ],
            [
             0.3,
             "#f1b6da"
            ],
            [
             0.4,
             "#fde0ef"
            ],
            [
             0.5,
             "#f7f7f7"
            ],
            [
             0.6,
             "#e6f5d0"
            ],
            [
             0.7,
             "#b8e186"
            ],
            [
             0.8,
             "#7fbc41"
            ],
            [
             0.9,
             "#4d9221"
            ],
            [
             1,
             "#276419"
            ]
           ],
           "sequential": [
            [
             0,
             "#0d0887"
            ],
            [
             0.1111111111111111,
             "#46039f"
            ],
            [
             0.2222222222222222,
             "#7201a8"
            ],
            [
             0.3333333333333333,
             "#9c179e"
            ],
            [
             0.4444444444444444,
             "#bd3786"
            ],
            [
             0.5555555555555556,
             "#d8576b"
            ],
            [
             0.6666666666666666,
             "#ed7953"
            ],
            [
             0.7777777777777778,
             "#fb9f3a"
            ],
            [
             0.8888888888888888,
             "#fdca26"
            ],
            [
             1,
             "#f0f921"
            ]
           ],
           "sequentialminus": [
            [
             0,
             "#0d0887"
            ],
            [
             0.1111111111111111,
             "#46039f"
            ],
            [
             0.2222222222222222,
             "#7201a8"
            ],
            [
             0.3333333333333333,
             "#9c179e"
            ],
            [
             0.4444444444444444,
             "#bd3786"
            ],
            [
             0.5555555555555556,
             "#d8576b"
            ],
            [
             0.6666666666666666,
             "#ed7953"
            ],
            [
             0.7777777777777778,
             "#fb9f3a"
            ],
            [
             0.8888888888888888,
             "#fdca26"
            ],
            [
             1,
             "#f0f921"
            ]
           ]
          },
          "colorway": [
           "#636efa",
           "#EF553B",
           "#00cc96",
           "#ab63fa",
           "#FFA15A",
           "#19d3f3",
           "#FF6692",
           "#B6E880",
           "#FF97FF",
           "#FECB52"
          ],
          "font": {
           "color": "#2a3f5f"
          },
          "geo": {
           "bgcolor": "white",
           "lakecolor": "white",
           "landcolor": "#E5ECF6",
           "showlakes": true,
           "showland": true,
           "subunitcolor": "white"
          },
          "hoverlabel": {
           "align": "left"
          },
          "hovermode": "closest",
          "mapbox": {
           "style": "light"
          },
          "paper_bgcolor": "white",
          "plot_bgcolor": "#E5ECF6",
          "polar": {
           "angularaxis": {
            "gridcolor": "white",
            "linecolor": "white",
            "ticks": ""
           },
           "bgcolor": "#E5ECF6",
           "radialaxis": {
            "gridcolor": "white",
            "linecolor": "white",
            "ticks": ""
           }
          },
          "scene": {
           "xaxis": {
            "backgroundcolor": "#E5ECF6",
            "gridcolor": "white",
            "gridwidth": 2,
            "linecolor": "white",
            "showbackground": true,
            "ticks": "",
            "zerolinecolor": "white"
           },
           "yaxis": {
            "backgroundcolor": "#E5ECF6",
            "gridcolor": "white",
            "gridwidth": 2,
            "linecolor": "white",
            "showbackground": true,
            "ticks": "",
            "zerolinecolor": "white"
           },
           "zaxis": {
            "backgroundcolor": "#E5ECF6",
            "gridcolor": "white",
            "gridwidth": 2,
            "linecolor": "white",
            "showbackground": true,
            "ticks": "",
            "zerolinecolor": "white"
           }
          },
          "shapedefaults": {
           "line": {
            "color": "#2a3f5f"
           }
          },
          "ternary": {
           "aaxis": {
            "gridcolor": "white",
            "linecolor": "white",
            "ticks": ""
           },
           "baxis": {
            "gridcolor": "white",
            "linecolor": "white",
            "ticks": ""
           },
           "bgcolor": "#E5ECF6",
           "caxis": {
            "gridcolor": "white",
            "linecolor": "white",
            "ticks": ""
           }
          },
          "title": {
           "x": 0.05
          },
          "xaxis": {
           "automargin": true,
           "gridcolor": "white",
           "linecolor": "white",
           "ticks": "",
           "title": {
            "standoff": 15
           },
           "zerolinecolor": "white",
           "zerolinewidth": 2
          },
          "yaxis": {
           "automargin": true,
           "gridcolor": "white",
           "linecolor": "white",
           "ticks": "",
           "title": {
            "standoff": 15
           },
           "zerolinecolor": "white",
           "zerolinewidth": 2
          }
         }
        },
        "title": {
         "font": {
          "color": "#4D5663"
         },
         "text": "Mes de integración"
        },
        "xaxis": {
         "gridcolor": "#E1E5ED",
         "showgrid": true,
         "tickfont": {
          "color": "#4D5663"
         },
         "title": {
          "font": {
           "color": "#4D5663"
          },
          "text": "Mes"
         },
         "zerolinecolor": "#E1E5ED"
        },
        "yaxis": {
         "gridcolor": "#E1E5ED",
         "showgrid": true,
         "tickfont": {
          "color": "#4D5663"
         },
         "title": {
          "font": {
           "color": "#4D5663"
          },
          "text": "N. Empresas"
         },
         "zerolinecolor": "#E1E5ED"
        }
       }
      },
      "text/html": [
       "<div>\n",
       "        \n",
       "        \n",
       "            <div id=\"1dadfa8b-d8fd-48ae-96e3-a71873a820d8\" class=\"plotly-graph-div\" style=\"height:525px; width:100%;\"></div>\n",
       "            <script type=\"text/javascript\">\n",
       "                require([\"plotly\"], function(Plotly) {\n",
       "                    window.PLOTLYENV=window.PLOTLYENV || {};\n",
       "                    window.PLOTLYENV.BASE_URL='https://plot.ly';\n",
       "                    \n",
       "                if (document.getElementById(\"1dadfa8b-d8fd-48ae-96e3-a71873a820d8\")) {\n",
       "                    Plotly.newPlot(\n",
       "                        '1dadfa8b-d8fd-48ae-96e3-a71873a820d8',\n",
       "                        [{\"marker\": {\"color\": \"rgba(255, 153, 51, 0.6)\", \"line\": {\"color\": \"rgba(255, 153, 51, 1.0)\", \"width\": 1}}, \"name\": \"Mes\", \"orientation\": \"v\", \"text\": \"\", \"type\": \"bar\", \"x\": [1, 3, 4, 6, 7, 10, 11, 12], \"y\": [1, 3, 9, 3, 30, 5, 60, 14]}],\n",
       "                        {\"legend\": {\"bgcolor\": \"#F5F6F9\", \"font\": {\"color\": \"#4D5663\"}}, \"paper_bgcolor\": \"#F5F6F9\", \"plot_bgcolor\": \"#F5F6F9\", \"template\": {\"data\": {\"bar\": [{\"error_x\": {\"color\": \"#2a3f5f\"}, \"error_y\": {\"color\": \"#2a3f5f\"}, \"marker\": {\"line\": {\"color\": \"#E5ECF6\", \"width\": 0.5}}, \"type\": \"bar\"}], \"barpolar\": [{\"marker\": {\"line\": {\"color\": \"#E5ECF6\", \"width\": 0.5}}, \"type\": \"barpolar\"}], \"carpet\": [{\"aaxis\": {\"endlinecolor\": \"#2a3f5f\", \"gridcolor\": \"white\", \"linecolor\": \"white\", \"minorgridcolor\": \"white\", \"startlinecolor\": \"#2a3f5f\"}, \"baxis\": {\"endlinecolor\": \"#2a3f5f\", \"gridcolor\": \"white\", \"linecolor\": \"white\", \"minorgridcolor\": \"white\", \"startlinecolor\": \"#2a3f5f\"}, \"type\": \"carpet\"}], \"choropleth\": [{\"colorbar\": {\"outlinewidth\": 0, \"ticks\": \"\"}, \"type\": \"choropleth\"}], \"contour\": [{\"colorbar\": {\"outlinewidth\": 0, \"ticks\": \"\"}, \"colorscale\": [[0.0, \"#0d0887\"], [0.1111111111111111, \"#46039f\"], [0.2222222222222222, \"#7201a8\"], [0.3333333333333333, \"#9c179e\"], [0.4444444444444444, \"#bd3786\"], [0.5555555555555556, \"#d8576b\"], [0.6666666666666666, \"#ed7953\"], [0.7777777777777778, \"#fb9f3a\"], [0.8888888888888888, \"#fdca26\"], [1.0, \"#f0f921\"]], \"type\": \"contour\"}], \"contourcarpet\": [{\"colorbar\": {\"outlinewidth\": 0, \"ticks\": \"\"}, \"type\": \"contourcarpet\"}], \"heatmap\": [{\"colorbar\": {\"outlinewidth\": 0, \"ticks\": \"\"}, \"colorscale\": [[0.0, \"#0d0887\"], [0.1111111111111111, \"#46039f\"], [0.2222222222222222, \"#7201a8\"], [0.3333333333333333, \"#9c179e\"], [0.4444444444444444, \"#bd3786\"], [0.5555555555555556, \"#d8576b\"], [0.6666666666666666, \"#ed7953\"], [0.7777777777777778, \"#fb9f3a\"], [0.8888888888888888, \"#fdca26\"], [1.0, \"#f0f921\"]], \"type\": \"heatmap\"}], \"heatmapgl\": [{\"colorbar\": {\"outlinewidth\": 0, \"ticks\": \"\"}, \"colorscale\": [[0.0, \"#0d0887\"], [0.1111111111111111, \"#46039f\"], [0.2222222222222222, \"#7201a8\"], [0.3333333333333333, \"#9c179e\"], [0.4444444444444444, \"#bd3786\"], [0.5555555555555556, \"#d8576b\"], [0.6666666666666666, \"#ed7953\"], [0.7777777777777778, \"#fb9f3a\"], [0.8888888888888888, \"#fdca26\"], [1.0, \"#f0f921\"]], \"type\": \"heatmapgl\"}], \"histogram\": [{\"marker\": {\"colorbar\": {\"outlinewidth\": 0, \"ticks\": \"\"}}, \"type\": \"histogram\"}], \"histogram2d\": [{\"colorbar\": {\"outlinewidth\": 0, \"ticks\": \"\"}, \"colorscale\": [[0.0, \"#0d0887\"], [0.1111111111111111, \"#46039f\"], [0.2222222222222222, \"#7201a8\"], [0.3333333333333333, \"#9c179e\"], [0.4444444444444444, \"#bd3786\"], [0.5555555555555556, \"#d8576b\"], [0.6666666666666666, \"#ed7953\"], [0.7777777777777778, \"#fb9f3a\"], [0.8888888888888888, \"#fdca26\"], [1.0, \"#f0f921\"]], \"type\": \"histogram2d\"}], \"histogram2dcontour\": [{\"colorbar\": {\"outlinewidth\": 0, \"ticks\": \"\"}, \"colorscale\": [[0.0, \"#0d0887\"], [0.1111111111111111, \"#46039f\"], [0.2222222222222222, \"#7201a8\"], [0.3333333333333333, \"#9c179e\"], [0.4444444444444444, \"#bd3786\"], [0.5555555555555556, \"#d8576b\"], [0.6666666666666666, \"#ed7953\"], [0.7777777777777778, \"#fb9f3a\"], [0.8888888888888888, \"#fdca26\"], [1.0, \"#f0f921\"]], \"type\": \"histogram2dcontour\"}], \"mesh3d\": [{\"colorbar\": {\"outlinewidth\": 0, \"ticks\": \"\"}, \"type\": \"mesh3d\"}], \"parcoords\": [{\"line\": {\"colorbar\": {\"outlinewidth\": 0, \"ticks\": \"\"}}, \"type\": \"parcoords\"}], \"pie\": [{\"automargin\": true, \"type\": \"pie\"}], \"scatter\": [{\"marker\": {\"colorbar\": {\"outlinewidth\": 0, \"ticks\": \"\"}}, \"type\": \"scatter\"}], \"scatter3d\": [{\"line\": {\"colorbar\": {\"outlinewidth\": 0, \"ticks\": \"\"}}, \"marker\": {\"colorbar\": {\"outlinewidth\": 0, \"ticks\": \"\"}}, \"type\": \"scatter3d\"}], \"scattercarpet\": [{\"marker\": {\"colorbar\": {\"outlinewidth\": 0, \"ticks\": \"\"}}, \"type\": \"scattercarpet\"}], \"scattergeo\": [{\"marker\": {\"colorbar\": {\"outlinewidth\": 0, \"ticks\": \"\"}}, \"type\": \"scattergeo\"}], \"scattergl\": [{\"marker\": {\"colorbar\": {\"outlinewidth\": 0, \"ticks\": \"\"}}, \"type\": \"scattergl\"}], \"scattermapbox\": [{\"marker\": {\"colorbar\": {\"outlinewidth\": 0, \"ticks\": \"\"}}, \"type\": \"scattermapbox\"}], \"scatterpolar\": [{\"marker\": {\"colorbar\": {\"outlinewidth\": 0, \"ticks\": \"\"}}, \"type\": \"scatterpolar\"}], \"scatterpolargl\": [{\"marker\": {\"colorbar\": {\"outlinewidth\": 0, \"ticks\": \"\"}}, \"type\": \"scatterpolargl\"}], \"scatterternary\": [{\"marker\": {\"colorbar\": {\"outlinewidth\": 0, \"ticks\": \"\"}}, \"type\": \"scatterternary\"}], \"surface\": [{\"colorbar\": {\"outlinewidth\": 0, \"ticks\": \"\"}, \"colorscale\": [[0.0, \"#0d0887\"], [0.1111111111111111, \"#46039f\"], [0.2222222222222222, \"#7201a8\"], [0.3333333333333333, \"#9c179e\"], [0.4444444444444444, \"#bd3786\"], [0.5555555555555556, \"#d8576b\"], [0.6666666666666666, \"#ed7953\"], [0.7777777777777778, \"#fb9f3a\"], [0.8888888888888888, \"#fdca26\"], [1.0, \"#f0f921\"]], \"type\": \"surface\"}], \"table\": [{\"cells\": {\"fill\": {\"color\": \"#EBF0F8\"}, \"line\": {\"color\": \"white\"}}, \"header\": {\"fill\": {\"color\": \"#C8D4E3\"}, \"line\": {\"color\": \"white\"}}, \"type\": \"table\"}]}, \"layout\": {\"annotationdefaults\": {\"arrowcolor\": \"#2a3f5f\", \"arrowhead\": 0, \"arrowwidth\": 1}, \"coloraxis\": {\"colorbar\": {\"outlinewidth\": 0, \"ticks\": \"\"}}, \"colorscale\": {\"diverging\": [[0, \"#8e0152\"], [0.1, \"#c51b7d\"], [0.2, \"#de77ae\"], [0.3, \"#f1b6da\"], [0.4, \"#fde0ef\"], [0.5, \"#f7f7f7\"], [0.6, \"#e6f5d0\"], [0.7, \"#b8e186\"], [0.8, \"#7fbc41\"], [0.9, \"#4d9221\"], [1, \"#276419\"]], \"sequential\": [[0.0, \"#0d0887\"], [0.1111111111111111, \"#46039f\"], [0.2222222222222222, \"#7201a8\"], [0.3333333333333333, \"#9c179e\"], [0.4444444444444444, \"#bd3786\"], [0.5555555555555556, \"#d8576b\"], [0.6666666666666666, \"#ed7953\"], [0.7777777777777778, \"#fb9f3a\"], [0.8888888888888888, \"#fdca26\"], [1.0, \"#f0f921\"]], \"sequentialminus\": [[0.0, \"#0d0887\"], [0.1111111111111111, \"#46039f\"], [0.2222222222222222, \"#7201a8\"], [0.3333333333333333, \"#9c179e\"], [0.4444444444444444, \"#bd3786\"], [0.5555555555555556, \"#d8576b\"], [0.6666666666666666, \"#ed7953\"], [0.7777777777777778, \"#fb9f3a\"], [0.8888888888888888, \"#fdca26\"], [1.0, \"#f0f921\"]]}, \"colorway\": [\"#636efa\", \"#EF553B\", \"#00cc96\", \"#ab63fa\", \"#FFA15A\", \"#19d3f3\", \"#FF6692\", \"#B6E880\", \"#FF97FF\", \"#FECB52\"], \"font\": {\"color\": \"#2a3f5f\"}, \"geo\": {\"bgcolor\": \"white\", \"lakecolor\": \"white\", \"landcolor\": \"#E5ECF6\", \"showlakes\": true, \"showland\": true, \"subunitcolor\": \"white\"}, \"hoverlabel\": {\"align\": \"left\"}, \"hovermode\": \"closest\", \"mapbox\": {\"style\": \"light\"}, \"paper_bgcolor\": \"white\", \"plot_bgcolor\": \"#E5ECF6\", \"polar\": {\"angularaxis\": {\"gridcolor\": \"white\", \"linecolor\": \"white\", \"ticks\": \"\"}, \"bgcolor\": \"#E5ECF6\", \"radialaxis\": {\"gridcolor\": \"white\", \"linecolor\": \"white\", \"ticks\": \"\"}}, \"scene\": {\"xaxis\": {\"backgroundcolor\": \"#E5ECF6\", \"gridcolor\": \"white\", \"gridwidth\": 2, \"linecolor\": \"white\", \"showbackground\": true, \"ticks\": \"\", \"zerolinecolor\": \"white\"}, \"yaxis\": {\"backgroundcolor\": \"#E5ECF6\", \"gridcolor\": \"white\", \"gridwidth\": 2, \"linecolor\": \"white\", \"showbackground\": true, \"ticks\": \"\", \"zerolinecolor\": \"white\"}, \"zaxis\": {\"backgroundcolor\": \"#E5ECF6\", \"gridcolor\": \"white\", \"gridwidth\": 2, \"linecolor\": \"white\", \"showbackground\": true, \"ticks\": \"\", \"zerolinecolor\": \"white\"}}, \"shapedefaults\": {\"line\": {\"color\": \"#2a3f5f\"}}, \"ternary\": {\"aaxis\": {\"gridcolor\": \"white\", \"linecolor\": \"white\", \"ticks\": \"\"}, \"baxis\": {\"gridcolor\": \"white\", \"linecolor\": \"white\", \"ticks\": \"\"}, \"bgcolor\": \"#E5ECF6\", \"caxis\": {\"gridcolor\": \"white\", \"linecolor\": \"white\", \"ticks\": \"\"}}, \"title\": {\"x\": 0.05}, \"xaxis\": {\"automargin\": true, \"gridcolor\": \"white\", \"linecolor\": \"white\", \"ticks\": \"\", \"title\": {\"standoff\": 15}, \"zerolinecolor\": \"white\", \"zerolinewidth\": 2}, \"yaxis\": {\"automargin\": true, \"gridcolor\": \"white\", \"linecolor\": \"white\", \"ticks\": \"\", \"title\": {\"standoff\": 15}, \"zerolinecolor\": \"white\", \"zerolinewidth\": 2}}}, \"title\": {\"font\": {\"color\": \"#4D5663\"}, \"text\": \"Mes de integraci\\u00f3n\"}, \"xaxis\": {\"gridcolor\": \"#E1E5ED\", \"showgrid\": true, \"tickfont\": {\"color\": \"#4D5663\"}, \"title\": {\"font\": {\"color\": \"#4D5663\"}, \"text\": \"Mes\"}, \"zerolinecolor\": \"#E1E5ED\"}, \"yaxis\": {\"gridcolor\": \"#E1E5ED\", \"showgrid\": true, \"tickfont\": {\"color\": \"#4D5663\"}, \"title\": {\"font\": {\"color\": \"#4D5663\"}, \"text\": \"N. Empresas\"}, \"zerolinecolor\": \"#E1E5ED\"}},\n",
       "                        {\"showLink\": true, \"linkText\": \"Export to plot.ly\", \"plotlyServerURL\": \"https://plot.ly\", \"responsive\": true}\n",
       "                    ).then(function(){\n",
       "                            \n",
       "var gd = document.getElementById('1dadfa8b-d8fd-48ae-96e3-a71873a820d8');\n",
       "var x = new MutationObserver(function (mutations, observer) {{\n",
       "        var display = window.getComputedStyle(gd).display;\n",
       "        if (!display || display === 'none') {{\n",
       "            console.log([gd, 'removed!']);\n",
       "            Plotly.purge(gd);\n",
       "            observer.disconnect();\n",
       "        }}\n",
       "}});\n",
       "\n",
       "// Listen for the removal of the full notebook cells\n",
       "var notebookContainer = gd.closest('#notebook-container');\n",
       "if (notebookContainer) {{\n",
       "    x.observe(notebookContainer, {childList: true});\n",
       "}}\n",
       "\n",
       "// Listen for the clearing of the current output cell\n",
       "var outputEl = gd.closest('.output');\n",
       "if (outputEl) {{\n",
       "    x.observe(outputEl, {childList: true});\n",
       "}}\n",
       "\n",
       "                        })\n",
       "                };\n",
       "                });\n",
       "            </script>\n",
       "        </div>"
      ]
     },
     "metadata": {},
     "output_type": "display_data"
    },
    {
     "data": {
      "application/vnd.plotly.v1+json": {
       "config": {
        "linkText": "Export to plot.ly",
        "plotlyServerURL": "https://plot.ly",
        "showLink": true
       },
       "data": [
        {
         "marker": {
          "color": "rgba(255, 153, 51, 0.6)",
          "line": {
           "color": "rgba(255, 153, 51, 1.0)",
           "width": 1
          }
         },
         "name": "Año",
         "orientation": "v",
         "text": "",
         "type": "bar",
         "x": [
          2010,
          2011,
          2012,
          2014,
          2016,
          2017,
          2019
         ],
         "y": [
          30,
          3,
          3,
          14,
          6,
          4,
          65
         ]
        }
       ],
       "layout": {
        "legend": {
         "bgcolor": "#F5F6F9",
         "font": {
          "color": "#4D5663"
         }
        },
        "paper_bgcolor": "#F5F6F9",
        "plot_bgcolor": "#F5F6F9",
        "template": {
         "data": {
          "bar": [
           {
            "error_x": {
             "color": "#2a3f5f"
            },
            "error_y": {
             "color": "#2a3f5f"
            },
            "marker": {
             "line": {
              "color": "#E5ECF6",
              "width": 0.5
             }
            },
            "type": "bar"
           }
          ],
          "barpolar": [
           {
            "marker": {
             "line": {
              "color": "#E5ECF6",
              "width": 0.5
             }
            },
            "type": "barpolar"
           }
          ],
          "carpet": [
           {
            "aaxis": {
             "endlinecolor": "#2a3f5f",
             "gridcolor": "white",
             "linecolor": "white",
             "minorgridcolor": "white",
             "startlinecolor": "#2a3f5f"
            },
            "baxis": {
             "endlinecolor": "#2a3f5f",
             "gridcolor": "white",
             "linecolor": "white",
             "minorgridcolor": "white",
             "startlinecolor": "#2a3f5f"
            },
            "type": "carpet"
           }
          ],
          "choropleth": [
           {
            "colorbar": {
             "outlinewidth": 0,
             "ticks": ""
            },
            "type": "choropleth"
           }
          ],
          "contour": [
           {
            "colorbar": {
             "outlinewidth": 0,
             "ticks": ""
            },
            "colorscale": [
             [
              0,
              "#0d0887"
             ],
             [
              0.1111111111111111,
              "#46039f"
             ],
             [
              0.2222222222222222,
              "#7201a8"
             ],
             [
              0.3333333333333333,
              "#9c179e"
             ],
             [
              0.4444444444444444,
              "#bd3786"
             ],
             [
              0.5555555555555556,
              "#d8576b"
             ],
             [
              0.6666666666666666,
              "#ed7953"
             ],
             [
              0.7777777777777778,
              "#fb9f3a"
             ],
             [
              0.8888888888888888,
              "#fdca26"
             ],
             [
              1,
              "#f0f921"
             ]
            ],
            "type": "contour"
           }
          ],
          "contourcarpet": [
           {
            "colorbar": {
             "outlinewidth": 0,
             "ticks": ""
            },
            "type": "contourcarpet"
           }
          ],
          "heatmap": [
           {
            "colorbar": {
             "outlinewidth": 0,
             "ticks": ""
            },
            "colorscale": [
             [
              0,
              "#0d0887"
             ],
             [
              0.1111111111111111,
              "#46039f"
             ],
             [
              0.2222222222222222,
              "#7201a8"
             ],
             [
              0.3333333333333333,
              "#9c179e"
             ],
             [
              0.4444444444444444,
              "#bd3786"
             ],
             [
              0.5555555555555556,
              "#d8576b"
             ],
             [
              0.6666666666666666,
              "#ed7953"
             ],
             [
              0.7777777777777778,
              "#fb9f3a"
             ],
             [
              0.8888888888888888,
              "#fdca26"
             ],
             [
              1,
              "#f0f921"
             ]
            ],
            "type": "heatmap"
           }
          ],
          "heatmapgl": [
           {
            "colorbar": {
             "outlinewidth": 0,
             "ticks": ""
            },
            "colorscale": [
             [
              0,
              "#0d0887"
             ],
             [
              0.1111111111111111,
              "#46039f"
             ],
             [
              0.2222222222222222,
              "#7201a8"
             ],
             [
              0.3333333333333333,
              "#9c179e"
             ],
             [
              0.4444444444444444,
              "#bd3786"
             ],
             [
              0.5555555555555556,
              "#d8576b"
             ],
             [
              0.6666666666666666,
              "#ed7953"
             ],
             [
              0.7777777777777778,
              "#fb9f3a"
             ],
             [
              0.8888888888888888,
              "#fdca26"
             ],
             [
              1,
              "#f0f921"
             ]
            ],
            "type": "heatmapgl"
           }
          ],
          "histogram": [
           {
            "marker": {
             "colorbar": {
              "outlinewidth": 0,
              "ticks": ""
             }
            },
            "type": "histogram"
           }
          ],
          "histogram2d": [
           {
            "colorbar": {
             "outlinewidth": 0,
             "ticks": ""
            },
            "colorscale": [
             [
              0,
              "#0d0887"
             ],
             [
              0.1111111111111111,
              "#46039f"
             ],
             [
              0.2222222222222222,
              "#7201a8"
             ],
             [
              0.3333333333333333,
              "#9c179e"
             ],
             [
              0.4444444444444444,
              "#bd3786"
             ],
             [
              0.5555555555555556,
              "#d8576b"
             ],
             [
              0.6666666666666666,
              "#ed7953"
             ],
             [
              0.7777777777777778,
              "#fb9f3a"
             ],
             [
              0.8888888888888888,
              "#fdca26"
             ],
             [
              1,
              "#f0f921"
             ]
            ],
            "type": "histogram2d"
           }
          ],
          "histogram2dcontour": [
           {
            "colorbar": {
             "outlinewidth": 0,
             "ticks": ""
            },
            "colorscale": [
             [
              0,
              "#0d0887"
             ],
             [
              0.1111111111111111,
              "#46039f"
             ],
             [
              0.2222222222222222,
              "#7201a8"
             ],
             [
              0.3333333333333333,
              "#9c179e"
             ],
             [
              0.4444444444444444,
              "#bd3786"
             ],
             [
              0.5555555555555556,
              "#d8576b"
             ],
             [
              0.6666666666666666,
              "#ed7953"
             ],
             [
              0.7777777777777778,
              "#fb9f3a"
             ],
             [
              0.8888888888888888,
              "#fdca26"
             ],
             [
              1,
              "#f0f921"
             ]
            ],
            "type": "histogram2dcontour"
           }
          ],
          "mesh3d": [
           {
            "colorbar": {
             "outlinewidth": 0,
             "ticks": ""
            },
            "type": "mesh3d"
           }
          ],
          "parcoords": [
           {
            "line": {
             "colorbar": {
              "outlinewidth": 0,
              "ticks": ""
             }
            },
            "type": "parcoords"
           }
          ],
          "pie": [
           {
            "automargin": true,
            "type": "pie"
           }
          ],
          "scatter": [
           {
            "marker": {
             "colorbar": {
              "outlinewidth": 0,
              "ticks": ""
             }
            },
            "type": "scatter"
           }
          ],
          "scatter3d": [
           {
            "line": {
             "colorbar": {
              "outlinewidth": 0,
              "ticks": ""
             }
            },
            "marker": {
             "colorbar": {
              "outlinewidth": 0,
              "ticks": ""
             }
            },
            "type": "scatter3d"
           }
          ],
          "scattercarpet": [
           {
            "marker": {
             "colorbar": {
              "outlinewidth": 0,
              "ticks": ""
             }
            },
            "type": "scattercarpet"
           }
          ],
          "scattergeo": [
           {
            "marker": {
             "colorbar": {
              "outlinewidth": 0,
              "ticks": ""
             }
            },
            "type": "scattergeo"
           }
          ],
          "scattergl": [
           {
            "marker": {
             "colorbar": {
              "outlinewidth": 0,
              "ticks": ""
             }
            },
            "type": "scattergl"
           }
          ],
          "scattermapbox": [
           {
            "marker": {
             "colorbar": {
              "outlinewidth": 0,
              "ticks": ""
             }
            },
            "type": "scattermapbox"
           }
          ],
          "scatterpolar": [
           {
            "marker": {
             "colorbar": {
              "outlinewidth": 0,
              "ticks": ""
             }
            },
            "type": "scatterpolar"
           }
          ],
          "scatterpolargl": [
           {
            "marker": {
             "colorbar": {
              "outlinewidth": 0,
              "ticks": ""
             }
            },
            "type": "scatterpolargl"
           }
          ],
          "scatterternary": [
           {
            "marker": {
             "colorbar": {
              "outlinewidth": 0,
              "ticks": ""
             }
            },
            "type": "scatterternary"
           }
          ],
          "surface": [
           {
            "colorbar": {
             "outlinewidth": 0,
             "ticks": ""
            },
            "colorscale": [
             [
              0,
              "#0d0887"
             ],
             [
              0.1111111111111111,
              "#46039f"
             ],
             [
              0.2222222222222222,
              "#7201a8"
             ],
             [
              0.3333333333333333,
              "#9c179e"
             ],
             [
              0.4444444444444444,
              "#bd3786"
             ],
             [
              0.5555555555555556,
              "#d8576b"
             ],
             [
              0.6666666666666666,
              "#ed7953"
             ],
             [
              0.7777777777777778,
              "#fb9f3a"
             ],
             [
              0.8888888888888888,
              "#fdca26"
             ],
             [
              1,
              "#f0f921"
             ]
            ],
            "type": "surface"
           }
          ],
          "table": [
           {
            "cells": {
             "fill": {
              "color": "#EBF0F8"
             },
             "line": {
              "color": "white"
             }
            },
            "header": {
             "fill": {
              "color": "#C8D4E3"
             },
             "line": {
              "color": "white"
             }
            },
            "type": "table"
           }
          ]
         },
         "layout": {
          "annotationdefaults": {
           "arrowcolor": "#2a3f5f",
           "arrowhead": 0,
           "arrowwidth": 1
          },
          "coloraxis": {
           "colorbar": {
            "outlinewidth": 0,
            "ticks": ""
           }
          },
          "colorscale": {
           "diverging": [
            [
             0,
             "#8e0152"
            ],
            [
             0.1,
             "#c51b7d"
            ],
            [
             0.2,
             "#de77ae"
            ],
            [
             0.3,
             "#f1b6da"
            ],
            [
             0.4,
             "#fde0ef"
            ],
            [
             0.5,
             "#f7f7f7"
            ],
            [
             0.6,
             "#e6f5d0"
            ],
            [
             0.7,
             "#b8e186"
            ],
            [
             0.8,
             "#7fbc41"
            ],
            [
             0.9,
             "#4d9221"
            ],
            [
             1,
             "#276419"
            ]
           ],
           "sequential": [
            [
             0,
             "#0d0887"
            ],
            [
             0.1111111111111111,
             "#46039f"
            ],
            [
             0.2222222222222222,
             "#7201a8"
            ],
            [
             0.3333333333333333,
             "#9c179e"
            ],
            [
             0.4444444444444444,
             "#bd3786"
            ],
            [
             0.5555555555555556,
             "#d8576b"
            ],
            [
             0.6666666666666666,
             "#ed7953"
            ],
            [
             0.7777777777777778,
             "#fb9f3a"
            ],
            [
             0.8888888888888888,
             "#fdca26"
            ],
            [
             1,
             "#f0f921"
            ]
           ],
           "sequentialminus": [
            [
             0,
             "#0d0887"
            ],
            [
             0.1111111111111111,
             "#46039f"
            ],
            [
             0.2222222222222222,
             "#7201a8"
            ],
            [
             0.3333333333333333,
             "#9c179e"
            ],
            [
             0.4444444444444444,
             "#bd3786"
            ],
            [
             0.5555555555555556,
             "#d8576b"
            ],
            [
             0.6666666666666666,
             "#ed7953"
            ],
            [
             0.7777777777777778,
             "#fb9f3a"
            ],
            [
             0.8888888888888888,
             "#fdca26"
            ],
            [
             1,
             "#f0f921"
            ]
           ]
          },
          "colorway": [
           "#636efa",
           "#EF553B",
           "#00cc96",
           "#ab63fa",
           "#FFA15A",
           "#19d3f3",
           "#FF6692",
           "#B6E880",
           "#FF97FF",
           "#FECB52"
          ],
          "font": {
           "color": "#2a3f5f"
          },
          "geo": {
           "bgcolor": "white",
           "lakecolor": "white",
           "landcolor": "#E5ECF6",
           "showlakes": true,
           "showland": true,
           "subunitcolor": "white"
          },
          "hoverlabel": {
           "align": "left"
          },
          "hovermode": "closest",
          "mapbox": {
           "style": "light"
          },
          "paper_bgcolor": "white",
          "plot_bgcolor": "#E5ECF6",
          "polar": {
           "angularaxis": {
            "gridcolor": "white",
            "linecolor": "white",
            "ticks": ""
           },
           "bgcolor": "#E5ECF6",
           "radialaxis": {
            "gridcolor": "white",
            "linecolor": "white",
            "ticks": ""
           }
          },
          "scene": {
           "xaxis": {
            "backgroundcolor": "#E5ECF6",
            "gridcolor": "white",
            "gridwidth": 2,
            "linecolor": "white",
            "showbackground": true,
            "ticks": "",
            "zerolinecolor": "white"
           },
           "yaxis": {
            "backgroundcolor": "#E5ECF6",
            "gridcolor": "white",
            "gridwidth": 2,
            "linecolor": "white",
            "showbackground": true,
            "ticks": "",
            "zerolinecolor": "white"
           },
           "zaxis": {
            "backgroundcolor": "#E5ECF6",
            "gridcolor": "white",
            "gridwidth": 2,
            "linecolor": "white",
            "showbackground": true,
            "ticks": "",
            "zerolinecolor": "white"
           }
          },
          "shapedefaults": {
           "line": {
            "color": "#2a3f5f"
           }
          },
          "ternary": {
           "aaxis": {
            "gridcolor": "white",
            "linecolor": "white",
            "ticks": ""
           },
           "baxis": {
            "gridcolor": "white",
            "linecolor": "white",
            "ticks": ""
           },
           "bgcolor": "#E5ECF6",
           "caxis": {
            "gridcolor": "white",
            "linecolor": "white",
            "ticks": ""
           }
          },
          "title": {
           "x": 0.05
          },
          "xaxis": {
           "automargin": true,
           "gridcolor": "white",
           "linecolor": "white",
           "ticks": "",
           "title": {
            "standoff": 15
           },
           "zerolinecolor": "white",
           "zerolinewidth": 2
          },
          "yaxis": {
           "automargin": true,
           "gridcolor": "white",
           "linecolor": "white",
           "ticks": "",
           "title": {
            "standoff": 15
           },
           "zerolinecolor": "white",
           "zerolinewidth": 2
          }
         }
        },
        "title": {
         "font": {
          "color": "#4D5663"
         },
         "text": "Año de integracion...."
        },
        "xaxis": {
         "gridcolor": "#E1E5ED",
         "showgrid": true,
         "tickfont": {
          "color": "#4D5663"
         },
         "title": {
          "font": {
           "color": "#4D5663"
          },
          "text": "Año"
         },
         "zerolinecolor": "#E1E5ED"
        },
        "yaxis": {
         "gridcolor": "#E1E5ED",
         "showgrid": true,
         "tickfont": {
          "color": "#4D5663"
         },
         "title": {
          "font": {
           "color": "#4D5663"
          },
          "text": "N. Empresas"
         },
         "zerolinecolor": "#E1E5ED"
        }
       }
      },
      "text/html": [
       "<div>\n",
       "        \n",
       "        \n",
       "            <div id=\"fc6164a5-d1cf-43d3-b188-79b581ba8216\" class=\"plotly-graph-div\" style=\"height:525px; width:100%;\"></div>\n",
       "            <script type=\"text/javascript\">\n",
       "                require([\"plotly\"], function(Plotly) {\n",
       "                    window.PLOTLYENV=window.PLOTLYENV || {};\n",
       "                    window.PLOTLYENV.BASE_URL='https://plot.ly';\n",
       "                    \n",
       "                if (document.getElementById(\"fc6164a5-d1cf-43d3-b188-79b581ba8216\")) {\n",
       "                    Plotly.newPlot(\n",
       "                        'fc6164a5-d1cf-43d3-b188-79b581ba8216',\n",
       "                        [{\"marker\": {\"color\": \"rgba(255, 153, 51, 0.6)\", \"line\": {\"color\": \"rgba(255, 153, 51, 1.0)\", \"width\": 1}}, \"name\": \"A\\u00f1o\", \"orientation\": \"v\", \"text\": \"\", \"type\": \"bar\", \"x\": [2010, 2011, 2012, 2014, 2016, 2017, 2019], \"y\": [30, 3, 3, 14, 6, 4, 65]}],\n",
       "                        {\"legend\": {\"bgcolor\": \"#F5F6F9\", \"font\": {\"color\": \"#4D5663\"}}, \"paper_bgcolor\": \"#F5F6F9\", \"plot_bgcolor\": \"#F5F6F9\", \"template\": {\"data\": {\"bar\": [{\"error_x\": {\"color\": \"#2a3f5f\"}, \"error_y\": {\"color\": \"#2a3f5f\"}, \"marker\": {\"line\": {\"color\": \"#E5ECF6\", \"width\": 0.5}}, \"type\": \"bar\"}], \"barpolar\": [{\"marker\": {\"line\": {\"color\": \"#E5ECF6\", \"width\": 0.5}}, \"type\": \"barpolar\"}], \"carpet\": [{\"aaxis\": {\"endlinecolor\": \"#2a3f5f\", \"gridcolor\": \"white\", \"linecolor\": \"white\", \"minorgridcolor\": \"white\", \"startlinecolor\": \"#2a3f5f\"}, \"baxis\": {\"endlinecolor\": \"#2a3f5f\", \"gridcolor\": \"white\", \"linecolor\": \"white\", \"minorgridcolor\": \"white\", \"startlinecolor\": \"#2a3f5f\"}, \"type\": \"carpet\"}], \"choropleth\": [{\"colorbar\": {\"outlinewidth\": 0, \"ticks\": \"\"}, \"type\": \"choropleth\"}], \"contour\": [{\"colorbar\": {\"outlinewidth\": 0, \"ticks\": \"\"}, \"colorscale\": [[0.0, \"#0d0887\"], [0.1111111111111111, \"#46039f\"], [0.2222222222222222, \"#7201a8\"], [0.3333333333333333, \"#9c179e\"], [0.4444444444444444, \"#bd3786\"], [0.5555555555555556, \"#d8576b\"], [0.6666666666666666, \"#ed7953\"], [0.7777777777777778, \"#fb9f3a\"], [0.8888888888888888, \"#fdca26\"], [1.0, \"#f0f921\"]], \"type\": \"contour\"}], \"contourcarpet\": [{\"colorbar\": {\"outlinewidth\": 0, \"ticks\": \"\"}, \"type\": \"contourcarpet\"}], \"heatmap\": [{\"colorbar\": {\"outlinewidth\": 0, \"ticks\": \"\"}, \"colorscale\": [[0.0, \"#0d0887\"], [0.1111111111111111, \"#46039f\"], [0.2222222222222222, \"#7201a8\"], [0.3333333333333333, \"#9c179e\"], [0.4444444444444444, \"#bd3786\"], [0.5555555555555556, \"#d8576b\"], [0.6666666666666666, \"#ed7953\"], [0.7777777777777778, \"#fb9f3a\"], [0.8888888888888888, \"#fdca26\"], [1.0, \"#f0f921\"]], \"type\": \"heatmap\"}], \"heatmapgl\": [{\"colorbar\": {\"outlinewidth\": 0, \"ticks\": \"\"}, \"colorscale\": [[0.0, \"#0d0887\"], [0.1111111111111111, \"#46039f\"], [0.2222222222222222, \"#7201a8\"], [0.3333333333333333, \"#9c179e\"], [0.4444444444444444, \"#bd3786\"], [0.5555555555555556, \"#d8576b\"], [0.6666666666666666, \"#ed7953\"], [0.7777777777777778, \"#fb9f3a\"], [0.8888888888888888, \"#fdca26\"], [1.0, \"#f0f921\"]], \"type\": \"heatmapgl\"}], \"histogram\": [{\"marker\": {\"colorbar\": {\"outlinewidth\": 0, \"ticks\": \"\"}}, \"type\": \"histogram\"}], \"histogram2d\": [{\"colorbar\": {\"outlinewidth\": 0, \"ticks\": \"\"}, \"colorscale\": [[0.0, \"#0d0887\"], [0.1111111111111111, \"#46039f\"], [0.2222222222222222, \"#7201a8\"], [0.3333333333333333, \"#9c179e\"], [0.4444444444444444, \"#bd3786\"], [0.5555555555555556, \"#d8576b\"], [0.6666666666666666, \"#ed7953\"], [0.7777777777777778, \"#fb9f3a\"], [0.8888888888888888, \"#fdca26\"], [1.0, \"#f0f921\"]], \"type\": \"histogram2d\"}], \"histogram2dcontour\": [{\"colorbar\": {\"outlinewidth\": 0, \"ticks\": \"\"}, \"colorscale\": [[0.0, \"#0d0887\"], [0.1111111111111111, \"#46039f\"], [0.2222222222222222, \"#7201a8\"], [0.3333333333333333, \"#9c179e\"], [0.4444444444444444, \"#bd3786\"], [0.5555555555555556, \"#d8576b\"], [0.6666666666666666, \"#ed7953\"], [0.7777777777777778, \"#fb9f3a\"], [0.8888888888888888, \"#fdca26\"], [1.0, \"#f0f921\"]], \"type\": \"histogram2dcontour\"}], \"mesh3d\": [{\"colorbar\": {\"outlinewidth\": 0, \"ticks\": \"\"}, \"type\": \"mesh3d\"}], \"parcoords\": [{\"line\": {\"colorbar\": {\"outlinewidth\": 0, \"ticks\": \"\"}}, \"type\": \"parcoords\"}], \"pie\": [{\"automargin\": true, \"type\": \"pie\"}], \"scatter\": [{\"marker\": {\"colorbar\": {\"outlinewidth\": 0, \"ticks\": \"\"}}, \"type\": \"scatter\"}], \"scatter3d\": [{\"line\": {\"colorbar\": {\"outlinewidth\": 0, \"ticks\": \"\"}}, \"marker\": {\"colorbar\": {\"outlinewidth\": 0, \"ticks\": \"\"}}, \"type\": \"scatter3d\"}], \"scattercarpet\": [{\"marker\": {\"colorbar\": {\"outlinewidth\": 0, \"ticks\": \"\"}}, \"type\": \"scattercarpet\"}], \"scattergeo\": [{\"marker\": {\"colorbar\": {\"outlinewidth\": 0, \"ticks\": \"\"}}, \"type\": \"scattergeo\"}], \"scattergl\": [{\"marker\": {\"colorbar\": {\"outlinewidth\": 0, \"ticks\": \"\"}}, \"type\": \"scattergl\"}], \"scattermapbox\": [{\"marker\": {\"colorbar\": {\"outlinewidth\": 0, \"ticks\": \"\"}}, \"type\": \"scattermapbox\"}], \"scatterpolar\": [{\"marker\": {\"colorbar\": {\"outlinewidth\": 0, \"ticks\": \"\"}}, \"type\": \"scatterpolar\"}], \"scatterpolargl\": [{\"marker\": {\"colorbar\": {\"outlinewidth\": 0, \"ticks\": \"\"}}, \"type\": \"scatterpolargl\"}], \"scatterternary\": [{\"marker\": {\"colorbar\": {\"outlinewidth\": 0, \"ticks\": \"\"}}, \"type\": \"scatterternary\"}], \"surface\": [{\"colorbar\": {\"outlinewidth\": 0, \"ticks\": \"\"}, \"colorscale\": [[0.0, \"#0d0887\"], [0.1111111111111111, \"#46039f\"], [0.2222222222222222, \"#7201a8\"], [0.3333333333333333, \"#9c179e\"], [0.4444444444444444, \"#bd3786\"], [0.5555555555555556, \"#d8576b\"], [0.6666666666666666, \"#ed7953\"], [0.7777777777777778, \"#fb9f3a\"], [0.8888888888888888, \"#fdca26\"], [1.0, \"#f0f921\"]], \"type\": \"surface\"}], \"table\": [{\"cells\": {\"fill\": {\"color\": \"#EBF0F8\"}, \"line\": {\"color\": \"white\"}}, \"header\": {\"fill\": {\"color\": \"#C8D4E3\"}, \"line\": {\"color\": \"white\"}}, \"type\": \"table\"}]}, \"layout\": {\"annotationdefaults\": {\"arrowcolor\": \"#2a3f5f\", \"arrowhead\": 0, \"arrowwidth\": 1}, \"coloraxis\": {\"colorbar\": {\"outlinewidth\": 0, \"ticks\": \"\"}}, \"colorscale\": {\"diverging\": [[0, \"#8e0152\"], [0.1, \"#c51b7d\"], [0.2, \"#de77ae\"], [0.3, \"#f1b6da\"], [0.4, \"#fde0ef\"], [0.5, \"#f7f7f7\"], [0.6, \"#e6f5d0\"], [0.7, \"#b8e186\"], [0.8, \"#7fbc41\"], [0.9, \"#4d9221\"], [1, \"#276419\"]], \"sequential\": [[0.0, \"#0d0887\"], [0.1111111111111111, \"#46039f\"], [0.2222222222222222, \"#7201a8\"], [0.3333333333333333, \"#9c179e\"], [0.4444444444444444, \"#bd3786\"], [0.5555555555555556, \"#d8576b\"], [0.6666666666666666, \"#ed7953\"], [0.7777777777777778, \"#fb9f3a\"], [0.8888888888888888, \"#fdca26\"], [1.0, \"#f0f921\"]], \"sequentialminus\": [[0.0, \"#0d0887\"], [0.1111111111111111, \"#46039f\"], [0.2222222222222222, \"#7201a8\"], [0.3333333333333333, \"#9c179e\"], [0.4444444444444444, \"#bd3786\"], [0.5555555555555556, \"#d8576b\"], [0.6666666666666666, \"#ed7953\"], [0.7777777777777778, \"#fb9f3a\"], [0.8888888888888888, \"#fdca26\"], [1.0, \"#f0f921\"]]}, \"colorway\": [\"#636efa\", \"#EF553B\", \"#00cc96\", \"#ab63fa\", \"#FFA15A\", \"#19d3f3\", \"#FF6692\", \"#B6E880\", \"#FF97FF\", \"#FECB52\"], \"font\": {\"color\": \"#2a3f5f\"}, \"geo\": {\"bgcolor\": \"white\", \"lakecolor\": \"white\", \"landcolor\": \"#E5ECF6\", \"showlakes\": true, \"showland\": true, \"subunitcolor\": \"white\"}, \"hoverlabel\": {\"align\": \"left\"}, \"hovermode\": \"closest\", \"mapbox\": {\"style\": \"light\"}, \"paper_bgcolor\": \"white\", \"plot_bgcolor\": \"#E5ECF6\", \"polar\": {\"angularaxis\": {\"gridcolor\": \"white\", \"linecolor\": \"white\", \"ticks\": \"\"}, \"bgcolor\": \"#E5ECF6\", \"radialaxis\": {\"gridcolor\": \"white\", \"linecolor\": \"white\", \"ticks\": \"\"}}, \"scene\": {\"xaxis\": {\"backgroundcolor\": \"#E5ECF6\", \"gridcolor\": \"white\", \"gridwidth\": 2, \"linecolor\": \"white\", \"showbackground\": true, \"ticks\": \"\", \"zerolinecolor\": \"white\"}, \"yaxis\": {\"backgroundcolor\": \"#E5ECF6\", \"gridcolor\": \"white\", \"gridwidth\": 2, \"linecolor\": \"white\", \"showbackground\": true, \"ticks\": \"\", \"zerolinecolor\": \"white\"}, \"zaxis\": {\"backgroundcolor\": \"#E5ECF6\", \"gridcolor\": \"white\", \"gridwidth\": 2, \"linecolor\": \"white\", \"showbackground\": true, \"ticks\": \"\", \"zerolinecolor\": \"white\"}}, \"shapedefaults\": {\"line\": {\"color\": \"#2a3f5f\"}}, \"ternary\": {\"aaxis\": {\"gridcolor\": \"white\", \"linecolor\": \"white\", \"ticks\": \"\"}, \"baxis\": {\"gridcolor\": \"white\", \"linecolor\": \"white\", \"ticks\": \"\"}, \"bgcolor\": \"#E5ECF6\", \"caxis\": {\"gridcolor\": \"white\", \"linecolor\": \"white\", \"ticks\": \"\"}}, \"title\": {\"x\": 0.05}, \"xaxis\": {\"automargin\": true, \"gridcolor\": \"white\", \"linecolor\": \"white\", \"ticks\": \"\", \"title\": {\"standoff\": 15}, \"zerolinecolor\": \"white\", \"zerolinewidth\": 2}, \"yaxis\": {\"automargin\": true, \"gridcolor\": \"white\", \"linecolor\": \"white\", \"ticks\": \"\", \"title\": {\"standoff\": 15}, \"zerolinecolor\": \"white\", \"zerolinewidth\": 2}}}, \"title\": {\"font\": {\"color\": \"#4D5663\"}, \"text\": \"A\\u00f1o de integracion....\"}, \"xaxis\": {\"gridcolor\": \"#E1E5ED\", \"showgrid\": true, \"tickfont\": {\"color\": \"#4D5663\"}, \"title\": {\"font\": {\"color\": \"#4D5663\"}, \"text\": \"A\\u00f1o\"}, \"zerolinecolor\": \"#E1E5ED\"}, \"yaxis\": {\"gridcolor\": \"#E1E5ED\", \"showgrid\": true, \"tickfont\": {\"color\": \"#4D5663\"}, \"title\": {\"font\": {\"color\": \"#4D5663\"}, \"text\": \"N. Empresas\"}, \"zerolinecolor\": \"#E1E5ED\"}},\n",
       "                        {\"showLink\": true, \"linkText\": \"Export to plot.ly\", \"plotlyServerURL\": \"https://plot.ly\", \"responsive\": true}\n",
       "                    ).then(function(){\n",
       "                            \n",
       "var gd = document.getElementById('fc6164a5-d1cf-43d3-b188-79b581ba8216');\n",
       "var x = new MutationObserver(function (mutations, observer) {{\n",
       "        var display = window.getComputedStyle(gd).display;\n",
       "        if (!display || display === 'none') {{\n",
       "            console.log([gd, 'removed!']);\n",
       "            Plotly.purge(gd);\n",
       "            observer.disconnect();\n",
       "        }}\n",
       "}});\n",
       "\n",
       "// Listen for the removal of the full notebook cells\n",
       "var notebookContainer = gd.closest('#notebook-container');\n",
       "if (notebookContainer) {{\n",
       "    x.observe(notebookContainer, {childList: true});\n",
       "}}\n",
       "\n",
       "// Listen for the clearing of the current output cell\n",
       "var outputEl = gd.closest('.output');\n",
       "if (outputEl) {{\n",
       "    x.observe(outputEl, {childList: true});\n",
       "}}\n",
       "\n",
       "                        })\n",
       "                };\n",
       "                });\n",
       "            </script>\n",
       "        </div>"
      ]
     },
     "metadata": {},
     "output_type": "display_data"
    },
    {
     "data": {
      "image/png": "[encoded data removed]",
      "text/plain": [
       "<Figure size 432x288 with 1 Axes>"
      ]
     },
     "metadata": {},
     "output_type": "display_data"
    },
    {
     "data": {
      "image/png": "[encoded data removed]",
      "text/plain": [
       "<Figure size 432x288 with 1 Axes>"
      ]
     },
     "metadata": {},
     "output_type": "display_data"
    }
   ],
   "source": [
    "gm.iplot(x='index', y='Mes',kind='bar', xTitle='Mes',yTitle='N. Empresas', title='Mes de integración')\n",
    "gk.iplot(x='index', y='Año',kind='bar', xTitle='Año',yTitle='N. Empresas', title='Año de integracion....')\n",
    "ax = sns.barplot(x = 'index', y = 'Mes', data = gm, color = 'b')\n",
    "ax.set(xlabel='Mes de integración', ylabel='Numero de empresas')\n",
    "ax.figure.savefig('../images/Mes {}.png'.format(giro))\n",
    "plt.show()\n",
    "a2 = sns.barplot(x = 'index', y = 'Año', data = gk, color = 'g')\n",
    "a2.set(xlabel='Año de integración', ylabel='Numero de empresas')\n",
    "a2.figure.savefig('../images/Año {}.png'.format(giro))\n",
    "plt.show()\n",
    "\n"
   ]
  },
  {
   "cell_type": "code",
   "execution_count": null,
   "metadata": {},
   "outputs": [],
   "source": [
    "mask=(gk[\"index\"] > 2011) & (gk[\"index\"] < 2019)\n",
    "gk.loc[mask]\n"
   ]
  },
  {
   "cell_type": "code",
   "execution_count": null,
   "metadata": {},
   "outputs": [],
   "source": [
    "#Indice nacional de precios al consumidor"
   ]
  },
  {
   "cell_type": "code",
   "execution_count": 14,
   "metadata": {},
   "outputs": [
    {
     "data": {
      "text/html": [
       "<div>\n",
       "<style scoped>\n",
       "    .dataframe tbody tr th:only-of-type {\n",
       "        vertical-align: middle;\n",
       "    }\n",
       "\n",
       "    .dataframe tbody tr th {\n",
       "        vertical-align: top;\n",
       "    }\n",
       "\n",
       "    .dataframe thead th {\n",
       "        text-align: right;\n",
       "    }\n",
       "</style>\n",
       "<table border=\"1\" class=\"dataframe\">\n",
       "  <thead>\n",
       "    <tr style=\"text-align: right;\">\n",
       "      <th></th>\n",
       "      <th>Unnamed: 0</th>\n",
       "      <th>AGEB</th>\n",
       "      <th>MZA</th>\n",
       "      <th>POBTOT</th>\n",
       "      <th>POBMAS</th>\n",
       "      <th>POBFEM</th>\n",
       "      <th>PEA</th>\n",
       "      <th>PEA_M</th>\n",
       "      <th>PEA_F</th>\n",
       "      <th>PE_INAC</th>\n",
       "      <th>PE_INAC_M</th>\n",
       "      <th>PE_INAC_F</th>\n",
       "      <th>clave</th>\n",
       "    </tr>\n",
       "  </thead>\n",
       "  <tbody>\n",
       "    <tr>\n",
       "      <th>0</th>\n",
       "      <td>0</td>\n",
       "      <td>0000</td>\n",
       "      <td>0</td>\n",
       "      <td>8851080</td>\n",
       "      <td>4233783</td>\n",
       "      <td>4617297</td>\n",
       "      <td>4035075</td>\n",
       "      <td>2389679</td>\n",
       "      <td>1645396</td>\n",
       "      <td>3017165</td>\n",
       "      <td>920594</td>\n",
       "      <td>2096571</td>\n",
       "      <td>0000-0</td>\n",
       "    </tr>\n",
       "    <tr>\n",
       "      <th>1</th>\n",
       "      <td>1</td>\n",
       "      <td>0000</td>\n",
       "      <td>0</td>\n",
       "      <td>414711</td>\n",
       "      <td>196053</td>\n",
       "      <td>218658</td>\n",
       "      <td>187402</td>\n",
       "      <td>108940</td>\n",
       "      <td>78462</td>\n",
       "      <td>151520</td>\n",
       "      <td>48844</td>\n",
       "      <td>102676</td>\n",
       "      <td>0000-0</td>\n",
       "    </tr>\n",
       "    <tr>\n",
       "      <th>2</th>\n",
       "      <td>2</td>\n",
       "      <td>0000</td>\n",
       "      <td>0</td>\n",
       "      <td>414711</td>\n",
       "      <td>196053</td>\n",
       "      <td>218658</td>\n",
       "      <td>187402</td>\n",
       "      <td>108940</td>\n",
       "      <td>78462</td>\n",
       "      <td>151520</td>\n",
       "      <td>48844</td>\n",
       "      <td>102676</td>\n",
       "      <td>0000-0</td>\n",
       "    </tr>\n",
       "    <tr>\n",
       "      <th>3</th>\n",
       "      <td>3</td>\n",
       "      <td>0010</td>\n",
       "      <td>0</td>\n",
       "      <td>3424</td>\n",
       "      <td>1600</td>\n",
       "      <td>1824</td>\n",
       "      <td>1398</td>\n",
       "      <td>789</td>\n",
       "      <td>609</td>\n",
       "      <td>1511</td>\n",
       "      <td>552</td>\n",
       "      <td>959</td>\n",
       "      <td>0010-0</td>\n",
       "    </tr>\n",
       "    <tr>\n",
       "      <th>4</th>\n",
       "      <td>4</td>\n",
       "      <td>0010</td>\n",
       "      <td>1</td>\n",
       "      <td>202</td>\n",
       "      <td>96</td>\n",
       "      <td>106</td>\n",
       "      <td>75</td>\n",
       "      <td>47</td>\n",
       "      <td>28</td>\n",
       "      <td>97</td>\n",
       "      <td>37</td>\n",
       "      <td>60</td>\n",
       "      <td>0010-1</td>\n",
       "    </tr>\n",
       "  </tbody>\n",
       "</table>\n",
       "</div>"
      ],
      "text/plain": [
       "   Unnamed: 0  AGEB  MZA   POBTOT   POBMAS   POBFEM      PEA    PEA_M  \\\n",
       "0           0  0000    0  8851080  4233783  4617297  4035075  2389679   \n",
       "1           1  0000    0   414711   196053   218658   187402   108940   \n",
       "2           2  0000    0   414711   196053   218658   187402   108940   \n",
       "3           3  0010    0     3424     1600     1824     1398      789   \n",
       "4           4  0010    1      202       96      106       75       47   \n",
       "\n",
       "     PEA_F  PE_INAC PE_INAC_M PE_INAC_F   clave  \n",
       "0  1645396  3017165    920594   2096571  0000-0  \n",
       "1    78462   151520     48844    102676  0000-0  \n",
       "2    78462   151520     48844    102676  0000-0  \n",
       "3      609     1511       552       959  0010-0  \n",
       "4       28       97        37        60  0010-1  "
      ]
     },
     "execution_count": 14,
     "metadata": {},
     "output_type": "execute_result"
    }
   ],
   "source": [
    "poblaT = pd.read_csv('../pobclave.csv')\n",
    "poblaT.head()"
   ]
  },
  {
   "cell_type": "code",
   "execution_count": 294,
   "metadata": {},
   "outputs": [
    {
     "data": {
      "text/html": [
       "<div>\n",
       "<style scoped>\n",
       "    .dataframe tbody tr th:only-of-type {\n",
       "        vertical-align: middle;\n",
       "    }\n",
       "\n",
       "    .dataframe tbody tr th {\n",
       "        vertical-align: top;\n",
       "    }\n",
       "\n",
       "    .dataframe thead th {\n",
       "        text-align: right;\n",
       "    }\n",
       "</style>\n",
       "<table border=\"1\" class=\"dataframe\">\n",
       "  <thead>\n",
       "    <tr style=\"text-align: right;\">\n",
       "      <th></th>\n",
       "      <th>Unnamed: 0</th>\n",
       "      <th>Proba de sobrevivir</th>\n",
       "      <th>Unnamed: 3</th>\n",
       "      <th>Espe. Vida</th>\n",
       "      <th>Age</th>\n",
       "    </tr>\n",
       "  </thead>\n",
       "  <tbody>\n",
       "    <tr>\n",
       "      <th>0</th>\n",
       "      <td>2</td>\n",
       "      <td>0.672031</td>\n",
       "      <td>0.327969</td>\n",
       "      <td>7.435258</td>\n",
       "      <td>0</td>\n",
       "    </tr>\n",
       "    <tr>\n",
       "      <th>1</th>\n",
       "      <td>3</td>\n",
       "      <td>0.491375</td>\n",
       "      <td>0.508625</td>\n",
       "      <td>7.790058</td>\n",
       "      <td>1</td>\n",
       "    </tr>\n",
       "    <tr>\n",
       "      <th>2</th>\n",
       "      <td>4</td>\n",
       "      <td>0.429555</td>\n",
       "      <td>0.570445</td>\n",
       "      <td>8.163900</td>\n",
       "      <td>2</td>\n",
       "    </tr>\n",
       "    <tr>\n",
       "      <th>3</th>\n",
       "      <td>5</td>\n",
       "      <td>0.385694</td>\n",
       "      <td>0.614306</td>\n",
       "      <td>8.557950</td>\n",
       "      <td>3</td>\n",
       "    </tr>\n",
       "    <tr>\n",
       "      <th>4</th>\n",
       "      <td>6</td>\n",
       "      <td>0.351672</td>\n",
       "      <td>0.648328</td>\n",
       "      <td>8.972207</td>\n",
       "      <td>4</td>\n",
       "    </tr>\n",
       "    <tr>\n",
       "      <th>5</th>\n",
       "      <td>7</td>\n",
       "      <td>0.323874</td>\n",
       "      <td>0.676126</td>\n",
       "      <td>9.396568</td>\n",
       "      <td>5</td>\n",
       "    </tr>\n",
       "  </tbody>\n",
       "</table>\n",
       "</div>"
      ],
      "text/plain": [
       "   Unnamed: 0  Proba de sobrevivir  Unnamed: 3  Espe. Vida  Age\n",
       "0           2             0.672031    0.327969    7.435258    0\n",
       "1           3             0.491375    0.508625    7.790058    1\n",
       "2           4             0.429555    0.570445    8.163900    2\n",
       "3           5             0.385694    0.614306    8.557950    3\n",
       "4           6             0.351672    0.648328    8.972207    4\n",
       "5           7             0.323874    0.676126    9.396568    5"
      ]
     },
     "execution_count": 294,
     "metadata": {},
     "output_type": "execute_result"
    }
   ],
   "source": [
    "\n",
    "Evida = pd.read_csv('../Evida.csv')\n",
    "Evida"
   ]
  },
  {
   "cell_type": "code",
   "execution_count": 34,
   "metadata": {
    "scrolled": true
   },
   "outputs": [
    {
     "name": "stdout",
     "output_type": "stream",
     "text": [
      "86\n",
      "9794\n",
      "4839\n",
      "4951\n",
      "5695\n",
      "3177\n",
      "2513\n"
     ]
    }
   ],
   "source": [
    "p=d.clave\n",
    "len(p)\n",
    "dx=poblaT[poblaT[\"clave\"].isin(p)]\n",
    "print(len(dx))\n",
    "\n",
    "dx[\"POBMAS\"]=dx.POBMAS.str.replace('*' , '0').astype(int)\n",
    "dx[\"POBFEM\"]=dx.POBFEM.str.replace('*' , '0').astype(int)\n",
    "dx[\"PEA\"]=dx.PEA.str.replace('*' , '0').astype(int)\n",
    "dx[\"PEA_M\"]=dx.PEA_M.str.replace('*' , '0').astype(int)\n",
    "dx[\"PEA_F\"]=dx.PEA_F.str.replace('*' , '0').astype(int)\n",
    "print(dx.POBTOT.sum())\n",
    "print(dx.POBMAS.sum())\n",
    "print(dx.POBFEM.sum())\n",
    "print(dx.PEA.sum())\n",
    "print(dx.PEA_M.sum())\n",
    "print(dx.PEA_F.sum())"
   ]
  },
  {
   "cell_type": "code",
   "execution_count": 315,
   "metadata": {},
   "outputs": [
    {
     "data": {
      "text/plain": [
       "''"
      ]
     },
     "execution_count": 315,
     "metadata": {},
     "output_type": "execute_result"
    }
   ],
   "source": [
    "from fpdf import FPDF\n",
    " \n",
    "pdf = FPDF()\n",
    "pdf.add_page()\n",
    "pdf.set_font(\"Arial\", size=12)\n",
    "pdf.cell(200, 10, txt=\"Analisis de Supervivencia de Pymes en CDMX\", ln=4, align=\"C\")\n",
    "pdf.cell(90, 10, \" \", 0, 2, 'C')   \n",
    "pdf.multi_cell(0,8,\"La palabra de búsqueda es: --{}--, con longitud {} y latitud {}\\nEsta búsqueda extrae toda la competencia tanto indirecta como directa en \\\n",
    "un rango de {} mts.\\nEn total son {} empresas, con {} clases de actividades diferentes, de las cuales destacan \".format(giro,long,lat,mts,len(data),len(data.Clase_actividad.unique())) ,0,10)\n",
    "pdf.cell(90, 3, \" \", 0, 2, 'C')\n",
    "pdf.multi_cell(0,10,\"1. {} : {} \\n2. {} : {} \\n3. {} : {} \\n4. {} : {} \\n5. {} : {}\".format(sss.index[0],sss[0],sss.index[1],sss[1],sss.index[2],sss[2],sss.index[3],sss[3],sss.index[4],sss[4]) ,1,10)\n",
    "pdf.cell(90, 5, \" \", 0, 2, 'C')\n",
    "pdf.set_font(\"Arial\", size=10)\n",
    "pdf.cell(200, 10, txt=\"Da click en botón rojo para ver mapa inteactivo\", ln=4, align=\"C\")\n",
    "pdf.multi_cell(0,6,\"TABLAS DE INCORPORACIóN A DENUE *INEGI*\\n *Por el momento solo contamos con info de Denue, el cual no muestra la fecha de fundación de las empresas esta se utilizaria para ver la demanda del \\\n",
    "servicio/producto asi como hacer modelos que predigan la creación de nuevas empresas en el sector\",0,3)\n",
    "pdf.image('../images/Año {}.png'.format(giro), x=8, y=153, w=105, h=70)\n",
    "pdf.image('../images/Mes {}.png'.format(giro), x=110, y=153, w=105, h=70)\n",
    "pdf.image('../images/red.png'.format(giro), x=55, y=113, w=15, h=9, link = \"../mapas/mapa {}.html\".format(giro))\n",
    "pdf.set_font(\"Arial\", size=12)\n",
    "pdf.cell(94, 85, \" \", 0, 2, 'C')   \n",
    "def simple_table2(spacing=1.5):\n",
    "    data = [['Años', 'Prob. de Sobrevivir','Esperanza de Vida'],\n",
    "            ['0', '0.672031','7.435258'],\n",
    "            ['1', '0.491375','7.790058'],\n",
    "            ['2', '0.429555','8.163900'],\n",
    "            ['3', '0.385694','8.557950'],\n",
    "            ['4', '0.351672','8.972207']\n",
    "            ]\n",
    "    col_width = pdf.w / 3.4\n",
    "    row_height = pdf.font_size\n",
    "    for row in data:\n",
    "            for item in row:\n",
    "                pdf.cell(col_width, row_height*spacing,txt=item, border=1)\n",
    "            pdf.ln(row_height*spacing)\n",
    "simple_table2()\n",
    "pdf.cell(200, 15, txt=\"Población\", ln=4)\n",
    "def simple_table(spacing=2,align=\"C\"):\n",
    "    data = [['Población Total', '{}'.format(dx.POBTOT.sum())],\n",
    "            ['Población Masculina', '{}'.format(dx.POBMAS.sum())],\n",
    "            ['Población Femenina', '{}'.format(dx.POBFEM.sum())],\n",
    "            ['Población Economicamente Activa', '{}'.format(dx.PEA.sum())],\n",
    "            ['Población M. Economicamente Activa', '{}'.format(dx.PEA_M.sum())],\n",
    "            ['Población M. Economicamente Activa', '{}'.format(dx.PEA_F.sum())]\n",
    "            ]\n",
    "    col_width = pdf.w / 2.2\n",
    "    row_height = pdf.font_size\n",
    "    for row in data:\n",
    "            for item in row:\n",
    "                pdf.cell(col_width, row_height*spacing,txt=item, border=1)\n",
    "            pdf.ln(row_height*spacing)\n",
    "simple_table()\n",
    "\n",
    "pdf.output(\"simple_demo.pdf\",'F')"
   ]
  },
  {
   "cell_type": "code",
   "execution_count": null,
   "metadata": {},
   "outputs": [],
   "source": [
    "def simple_table(spacing=2):\n",
    "    data = [['{}'.format(sss.index[0]), '{}'.format(sss[0])],\n",
    "            ['{}'.format(sss.index[1]), '{}'.format(sss[1])],\n",
    "            ['{}'.format(sss.index[2]), '{}'.format(sss[2])],\n",
    "            ['{}'.format(sss.index[3]), '{}'.format(sss[3])],\n",
    "            ['{}'.format(sss.index[4]), '{}'.format(sss[4])]\n",
    "            ]\n",
    "    col_width = pdf.w / 2.5\n",
    "    row_height = pdf.font_size\n",
    "    for row in data:\n",
    "            for item in row:\n",
    "                pdf.cell(col_width, row_height*spacing,txt=item, border=1)\n",
    "            pdf.ln(row_height*spacing)\n",
    "if __name__ == '__main__':\n",
    "    simple_table()"
   ]
  }
 ],
 "metadata": {
  "kernelspec": {
   "display_name": "Python 3",
   "language": "python",
   "name": "python3"
  },
  "language_info": {
   "codemirror_mode": {
    "name": "ipython",
    "version": 3
   },
   "file_extension": ".py",
   "mimetype": "text/x-python",
   "name": "python",
   "nbconvert_exporter": "python",
   "pygments_lexer": "ipython3",
   "version": "3.7.3"
  }
 },
 "nbformat": 4,
 "nbformat_minor": 2
}
