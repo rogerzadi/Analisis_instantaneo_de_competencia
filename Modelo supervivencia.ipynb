{
 "cells": [
  {
   "cell_type": "code",
   "execution_count": 107,
   "metadata": {},
   "outputs": [],
   "source": [
    "import json\n",
    "import requests\n",
    "import pandas as pd\n",
    "import folium \n"
   ]
  },
  {
   "cell_type": "code",
   "execution_count": 108,
   "metadata": {},
   "outputs": [],
   "source": [
    "giro=\"diseño\"\n",
    "long=19.421336 \n",
    "lat=-99.162700\n",
    "mts=2000"
   ]
  },
  {
   "cell_type": "code",
   "execution_count": 160,
   "metadata": {},
   "outputs": [
    {
     "name": "stdout",
     "output_type": "stream",
     "text": [
      "356\n"
     ]
    },
    {
     "data": {
      "text/html": [
       "<div>\n",
       "<style scoped>\n",
       "    .dataframe tbody tr th:only-of-type {\n",
       "        vertical-align: middle;\n",
       "    }\n",
       "\n",
       "    .dataframe tbody tr th {\n",
       "        vertical-align: top;\n",
       "    }\n",
       "\n",
       "    .dataframe thead th {\n",
       "        text-align: right;\n",
       "    }\n",
       "</style>\n",
       "<table border=\"1\" class=\"dataframe\">\n",
       "  <thead>\n",
       "    <tr style=\"text-align: right;\">\n",
       "      <th></th>\n",
       "      <th>CP</th>\n",
       "      <th>Calle</th>\n",
       "      <th>CentroComercial</th>\n",
       "      <th>Clase_actividad</th>\n",
       "      <th>Colonia</th>\n",
       "      <th>Correo_e</th>\n",
       "      <th>Estrato</th>\n",
       "      <th>Id</th>\n",
       "      <th>Latitud</th>\n",
       "      <th>Longitud</th>\n",
       "      <th>...</th>\n",
       "      <th>NumLocal</th>\n",
       "      <th>Num_Exterior</th>\n",
       "      <th>Num_Interior</th>\n",
       "      <th>Razon_social</th>\n",
       "      <th>Sitio_internet</th>\n",
       "      <th>Telefono</th>\n",
       "      <th>Tipo</th>\n",
       "      <th>TipoCentroComercial</th>\n",
       "      <th>Tipo_vialidad</th>\n",
       "      <th>Ubicacion</th>\n",
       "    </tr>\n",
       "  </thead>\n",
       "  <tbody>\n",
       "    <tr>\n",
       "      <th>0</th>\n",
       "      <td>06700</td>\n",
       "      <td>TONALA</td>\n",
       "      <td></td>\n",
       "      <td>Servicios de diseño de sistemas de cómputo y s...</td>\n",
       "      <td>ROMA NORTE</td>\n",
       "      <td>MVAZQEZ@REALNET.COM.MX</td>\n",
       "      <td>11 a 30 personas</td>\n",
       "      <td>1028239</td>\n",
       "      <td>19.42140394</td>\n",
       "      <td>-99.16340624</td>\n",
       "      <td>...</td>\n",
       "      <td></td>\n",
       "      <td>6</td>\n",
       "      <td>202</td>\n",
       "      <td>REALNET SA DE CV</td>\n",
       "      <td>WWW.REALNETSA.COM.MX</td>\n",
       "      <td></td>\n",
       "      <td>Fijo</td>\n",
       "      <td></td>\n",
       "      <td>CALLE</td>\n",
       "      <td>CUAUHTÉMOC, Cuauhtémoc, CIUDAD DE MÉXICO</td>\n",
       "    </tr>\n",
       "    <tr>\n",
       "      <th>1</th>\n",
       "      <td>06700</td>\n",
       "      <td>DURANGO</td>\n",
       "      <td></td>\n",
       "      <td>Comercio al por menor de muebles para el hogar</td>\n",
       "      <td>ROMA NORTE</td>\n",
       "      <td></td>\n",
       "      <td>6 a 10 personas</td>\n",
       "      <td>8326496</td>\n",
       "      <td>19.42042099</td>\n",
       "      <td>-99.16376558</td>\n",
       "      <td>...</td>\n",
       "      <td></td>\n",
       "      <td>153</td>\n",
       "      <td></td>\n",
       "      <td>DISEÑO SILLIOTI SA DE CV</td>\n",
       "      <td>ILMIOMUEBLE.COM</td>\n",
       "      <td></td>\n",
       "      <td>Fijo</td>\n",
       "      <td></td>\n",
       "      <td>CALLE</td>\n",
       "      <td>CUAUHTÉMOC, Cuauhtémoc, CIUDAD DE MÉXICO</td>\n",
       "    </tr>\n",
       "    <tr>\n",
       "      <th>2</th>\n",
       "      <td>06700</td>\n",
       "      <td>JALAPA</td>\n",
       "      <td></td>\n",
       "      <td>Servicios de diseño de sistemas de cómputo y s...</td>\n",
       "      <td>ROMA NORTE</td>\n",
       "      <td>INFO@BEEPQUEST.COM</td>\n",
       "      <td>6 a 10 personas</td>\n",
       "      <td>6810967</td>\n",
       "      <td>19.42265117</td>\n",
       "      <td>-99.16231136</td>\n",
       "      <td>...</td>\n",
       "      <td></td>\n",
       "      <td>17</td>\n",
       "      <td>503</td>\n",
       "      <td>APPQUEST SAPI DE CV</td>\n",
       "      <td>WWW.BEEPQUEST.COM</td>\n",
       "      <td>553382070</td>\n",
       "      <td>Fijo</td>\n",
       "      <td></td>\n",
       "      <td>CALLE</td>\n",
       "      <td>CUAUHTÉMOC, Cuauhtémoc, CIUDAD DE MÉXICO</td>\n",
       "    </tr>\n",
       "    <tr>\n",
       "      <th>3</th>\n",
       "      <td>06700</td>\n",
       "      <td>INSURGENTES SUR</td>\n",
       "      <td></td>\n",
       "      <td>Comercio al por menor de muebles para el hogar</td>\n",
       "      <td>ROMA NORTE</td>\n",
       "      <td></td>\n",
       "      <td>0 a 5 personas</td>\n",
       "      <td>1029567</td>\n",
       "      <td>19.42002628</td>\n",
       "      <td>-99.16392516</td>\n",
       "      <td>...</td>\n",
       "      <td></td>\n",
       "      <td>214</td>\n",
       "      <td>0</td>\n",
       "      <td>COLECCION DISEÑO SA DE CV</td>\n",
       "      <td></td>\n",
       "      <td></td>\n",
       "      <td>Fijo</td>\n",
       "      <td></td>\n",
       "      <td>AVENIDA</td>\n",
       "      <td>CUAUHTÉMOC, Cuauhtémoc, CIUDAD DE MÉXICO</td>\n",
       "    </tr>\n",
       "    <tr>\n",
       "      <th>4</th>\n",
       "      <td>06700</td>\n",
       "      <td>INSURGENTES SUR</td>\n",
       "      <td></td>\n",
       "      <td>Comercio al por menor de motocicletas</td>\n",
       "      <td>DURANGO</td>\n",
       "      <td></td>\n",
       "      <td>0 a 5 personas</td>\n",
       "      <td>8327269</td>\n",
       "      <td>19.42017555</td>\n",
       "      <td>-99.16408991</td>\n",
       "      <td>...</td>\n",
       "      <td></td>\n",
       "      <td>207</td>\n",
       "      <td></td>\n",
       "      <td>DISEÑOS Y CLASICOS MEXICO SA DE CV</td>\n",
       "      <td></td>\n",
       "      <td></td>\n",
       "      <td>Fijo</td>\n",
       "      <td></td>\n",
       "      <td>AVENIDA</td>\n",
       "      <td>CUAUHTÉMOC, Cuauhtémoc, CIUDAD DE MÉXICO</td>\n",
       "    </tr>\n",
       "  </tbody>\n",
       "</table>\n",
       "<p>5 rows × 21 columns</p>\n",
       "</div>"
      ],
      "text/plain": [
       "      CP            Calle CentroComercial  \\\n",
       "0  06700           TONALA                   \n",
       "1  06700          DURANGO                   \n",
       "2  06700           JALAPA                   \n",
       "3  06700  INSURGENTES SUR                   \n",
       "4  06700  INSURGENTES SUR                   \n",
       "\n",
       "                                     Clase_actividad     Colonia  \\\n",
       "0  Servicios de diseño de sistemas de cómputo y s...  ROMA NORTE   \n",
       "1     Comercio al por menor de muebles para el hogar  ROMA NORTE   \n",
       "2  Servicios de diseño de sistemas de cómputo y s...  ROMA NORTE   \n",
       "3     Comercio al por menor de muebles para el hogar  ROMA NORTE   \n",
       "4              Comercio al por menor de motocicletas     DURANGO   \n",
       "\n",
       "                 Correo_e           Estrato       Id      Latitud  \\\n",
       "0  MVAZQEZ@REALNET.COM.MX  11 a 30 personas  1028239  19.42140394   \n",
       "1                           6 a 10 personas  8326496  19.42042099   \n",
       "2      INFO@BEEPQUEST.COM   6 a 10 personas  6810967  19.42265117   \n",
       "3                            0 a 5 personas  1029567  19.42002628   \n",
       "4                            0 a 5 personas  8327269  19.42017555   \n",
       "\n",
       "       Longitud  ... NumLocal Num_Exterior Num_Interior  \\\n",
       "0  -99.16340624  ...                     6          202   \n",
       "1  -99.16376558  ...                   153                \n",
       "2  -99.16231136  ...                    17          503   \n",
       "3  -99.16392516  ...                   214            0   \n",
       "4  -99.16408991  ...                   207                \n",
       "\n",
       "                         Razon_social        Sitio_internet   Telefono  Tipo  \\\n",
       "0                    REALNET SA DE CV  WWW.REALNETSA.COM.MX             Fijo   \n",
       "1            DISEÑO SILLIOTI SA DE CV       ILMIOMUEBLE.COM             Fijo   \n",
       "2                 APPQUEST SAPI DE CV     WWW.BEEPQUEST.COM  553382070  Fijo   \n",
       "3           COLECCION DISEÑO SA DE CV                                   Fijo   \n",
       "4  DISEÑOS Y CLASICOS MEXICO SA DE CV                                   Fijo   \n",
       "\n",
       "  TipoCentroComercial Tipo_vialidad                                 Ubicacion  \n",
       "0                             CALLE  CUAUHTÉMOC, Cuauhtémoc, CIUDAD DE MÉXICO  \n",
       "1                             CALLE  CUAUHTÉMOC, Cuauhtémoc, CIUDAD DE MÉXICO  \n",
       "2                             CALLE  CUAUHTÉMOC, Cuauhtémoc, CIUDAD DE MÉXICO  \n",
       "3                           AVENIDA  CUAUHTÉMOC, Cuauhtémoc, CIUDAD DE MÉXICO  \n",
       "4                           AVENIDA  CUAUHTÉMOC, Cuauhtémoc, CIUDAD DE MÉXICO  \n",
       "\n",
       "[5 rows x 21 columns]"
      ]
     },
     "execution_count": 160,
     "metadata": {},
     "output_type": "execute_result"
    }
   ],
   "source": [
    "response = requests.get(\"https://www.inegi.org.mx/app/api/denue/v1/consulta/Buscar/{}/{},{}/{}/44522d01-cae7-455b-9b53-7fc7d481cecb\".format(giro,long,lat,mts))\n",
    "results = response.json()\n",
    "\n",
    "data = pd.DataFrame(response.json())\n",
    "print(len(data))\n",
    "data.head()"
   ]
  },
  {
   "cell_type": "code",
   "execution_count": 122,
   "metadata": {},
   "outputs": [
    {
     "name": "stdout",
     "output_type": "stream",
     "text": [
      "<class 'pandas.core.frame.DataFrame'>\n",
      "RangeIndex: 466301 entries, 0 to 466300\n",
      "Data columns (total 16 columns):\n",
      "Unnamed: 0    466301 non-null int64\n",
      "id            466301 non-null int64\n",
      "nom_estab     466301 non-null object\n",
      "codigo_act    466301 non-null int64\n",
      "nombre_act    466301 non-null object\n",
      "tipoCenCom    88178 non-null object\n",
      "per_ocu       466301 non-null object\n",
      "tipoUniEco    466301 non-null object\n",
      "ageb          466285 non-null object\n",
      "manzana       466285 non-null float64\n",
      "latitud       466301 non-null float64\n",
      "longitud      466301 non-null float64\n",
      "fecha_alta    466301 non-null object\n",
      "www           37279 non-null object\n",
      "Año           466301 non-null int64\n",
      "Mes           466301 non-null int64\n",
      "dtypes: float64(3), int64(5), object(8)\n",
      "memory usage: 56.9+ MB\n"
     ]
    }
   ],
   "source": [
    "info = pd.read_csv('../info.csv')\n",
    "info.info()"
   ]
  },
  {
   "cell_type": "code",
   "execution_count": 124,
   "metadata": {},
   "outputs": [],
   "source": [
    "\n",
    "\n",
    "#for e in info.select_dtypes('object').columns:\n",
    " #   info[e]=info[e].astype('category')\n",
    "for e in info.select_dtypes('integer').columns:\n",
    "    info[e]=pd.to_numeric(info[e], downcast='integer')\n",
    "for e in info.select_dtypes('float').columns:\n",
    "    info[e]=pd.to_numeric(info[e], downcast='float')  \n",
    "    \n",
    "info[\"fecha_alta\"]=pd.to_datetime(info.fecha_alta)\n",
    "\n",
    "\n"
   ]
  },
  {
   "cell_type": "code",
   "execution_count": 143,
   "metadata": {},
   "outputs": [
    {
     "name": "stdout",
     "output_type": "stream",
     "text": [
      "<class 'pandas.core.frame.DataFrame'>\n",
      "RangeIndex: 356 entries, 0 to 355\n",
      "Data columns (total 16 columns):\n",
      "Unnamed: 0    356 non-null int32\n",
      "id            356 non-null int32\n",
      "nom_estab     356 non-null object\n",
      "codigo_act    356 non-null int32\n",
      "nombre_act    356 non-null object\n",
      "tipoCenCom    87 non-null object\n",
      "per_ocu       356 non-null object\n",
      "tipoUniEco    356 non-null object\n",
      "ageb          356 non-null object\n",
      "manzana       356 non-null float32\n",
      "latitud       356 non-null float32\n",
      "longitud      356 non-null float32\n",
      "fecha_alta    356 non-null datetime64[ns]\n",
      "www           182 non-null object\n",
      "Año           356 non-null int16\n",
      "Mes           356 non-null int8\n",
      "dtypes: datetime64[ns](1), float32(3), int16(1), int32(3), int8(1), object(7)\n",
      "memory usage: 31.7+ KB\n"
     ]
    },
    {
     "data": {
      "text/html": [
       "<div>\n",
       "<style scoped>\n",
       "    .dataframe tbody tr th:only-of-type {\n",
       "        vertical-align: middle;\n",
       "    }\n",
       "\n",
       "    .dataframe tbody tr th {\n",
       "        vertical-align: top;\n",
       "    }\n",
       "\n",
       "    .dataframe thead th {\n",
       "        text-align: right;\n",
       "    }\n",
       "</style>\n",
       "<table border=\"1\" class=\"dataframe\">\n",
       "  <thead>\n",
       "    <tr style=\"text-align: right;\">\n",
       "      <th></th>\n",
       "      <th>Unnamed: 0</th>\n",
       "      <th>id</th>\n",
       "      <th>nom_estab</th>\n",
       "      <th>codigo_act</th>\n",
       "      <th>nombre_act</th>\n",
       "      <th>tipoCenCom</th>\n",
       "      <th>per_ocu</th>\n",
       "      <th>tipoUniEco</th>\n",
       "      <th>ageb</th>\n",
       "      <th>manzana</th>\n",
       "      <th>latitud</th>\n",
       "      <th>longitud</th>\n",
       "      <th>fecha_alta</th>\n",
       "      <th>www</th>\n",
       "      <th>Año</th>\n",
       "      <th>Mes</th>\n",
       "      <th>clave</th>\n",
       "    </tr>\n",
       "  </thead>\n",
       "  <tbody>\n",
       "    <tr>\n",
       "      <th>0</th>\n",
       "      <td>708</td>\n",
       "      <td>6729302</td>\n",
       "      <td>BURO DE CONSTRUCCIÓN DE DISENO, SA DE CV</td>\n",
       "      <td>236221</td>\n",
       "      <td>Edificación de inmuebles comerciales y de serv...</td>\n",
       "      <td>NaN</td>\n",
       "      <td>11 a 30 personas</td>\n",
       "      <td>Fijo</td>\n",
       "      <td>1341</td>\n",
       "      <td>19</td>\n",
       "      <td>19.409575</td>\n",
       "      <td>-99.169632</td>\n",
       "      <td>2016-01-01</td>\n",
       "      <td>NaN</td>\n",
       "      <td>2016</td>\n",
       "      <td>1</td>\n",
       "      <td>1341-19</td>\n",
       "    </tr>\n",
       "    <tr>\n",
       "      <th>1</th>\n",
       "      <td>1054</td>\n",
       "      <td>8286189</td>\n",
       "      <td>CONSTRUCTORA Y REMODELADORA DE OFICINAS</td>\n",
       "      <td>236221</td>\n",
       "      <td>Edificación de inmuebles comerciales y de serv...</td>\n",
       "      <td>NaN</td>\n",
       "      <td>11 a 30 personas</td>\n",
       "      <td>Fijo</td>\n",
       "      <td>1110</td>\n",
       "      <td>2</td>\n",
       "      <td>19.416512</td>\n",
       "      <td>-99.155670</td>\n",
       "      <td>2019-11-01</td>\n",
       "      <td>NaN</td>\n",
       "      <td>2019</td>\n",
       "      <td>11</td>\n",
       "      <td>1110-2</td>\n",
       "    </tr>\n",
       "    <tr>\n",
       "      <th>2</th>\n",
       "      <td>1272</td>\n",
       "      <td>957422</td>\n",
       "      <td>EDISA EDIFICACIÓN Y DISENOS, SA DE CV</td>\n",
       "      <td>236221</td>\n",
       "      <td>Edificación de inmuebles comerciales y de serv...</td>\n",
       "      <td>NaN</td>\n",
       "      <td>51 a 100 personas</td>\n",
       "      <td>Fijo</td>\n",
       "      <td>120A</td>\n",
       "      <td>2</td>\n",
       "      <td>19.414587</td>\n",
       "      <td>-99.165863</td>\n",
       "      <td>2010-07-01</td>\n",
       "      <td>NaN</td>\n",
       "      <td>2010</td>\n",
       "      <td>7</td>\n",
       "      <td>120A-2</td>\n",
       "    </tr>\n",
       "    <tr>\n",
       "      <th>3</th>\n",
       "      <td>4308</td>\n",
       "      <td>1029505</td>\n",
       "      <td>DISEÑADOR PEDRO LOREDO ALTA COSTURA</td>\n",
       "      <td>315225</td>\n",
       "      <td>Confección de prendas de vestir sobre medida</td>\n",
       "      <td>NaN</td>\n",
       "      <td>0 a 5 personas</td>\n",
       "      <td>Fijo</td>\n",
       "      <td>1093</td>\n",
       "      <td>14</td>\n",
       "      <td>19.418684</td>\n",
       "      <td>-99.169586</td>\n",
       "      <td>2010-07-01</td>\n",
       "      <td>NaN</td>\n",
       "      <td>2010</td>\n",
       "      <td>7</td>\n",
       "      <td>1093-14</td>\n",
       "    </tr>\n",
       "    <tr>\n",
       "      <th>4</th>\n",
       "      <td>4317</td>\n",
       "      <td>1029455</td>\n",
       "      <td>DISEÑO DE MODAS ALEJANDRO PONCE</td>\n",
       "      <td>315225</td>\n",
       "      <td>Confección de prendas de vestir sobre medida</td>\n",
       "      <td>NaN</td>\n",
       "      <td>0 a 5 personas</td>\n",
       "      <td>Fijo</td>\n",
       "      <td>1093</td>\n",
       "      <td>13</td>\n",
       "      <td>19.418406</td>\n",
       "      <td>-99.169518</td>\n",
       "      <td>2010-07-01</td>\n",
       "      <td>WWW.ALEJANDROPONCE.COM.MX</td>\n",
       "      <td>2010</td>\n",
       "      <td>7</td>\n",
       "      <td>1093-13</td>\n",
       "    </tr>\n",
       "  </tbody>\n",
       "</table>\n",
       "</div>"
      ],
      "text/plain": [
       "   Unnamed: 0       id                                 nom_estab  codigo_act  \\\n",
       "0         708  6729302  BURO DE CONSTRUCCIÓN DE DISENO, SA DE CV      236221   \n",
       "1        1054  8286189   CONSTRUCTORA Y REMODELADORA DE OFICINAS      236221   \n",
       "2        1272   957422     EDISA EDIFICACIÓN Y DISENOS, SA DE CV      236221   \n",
       "3        4308  1029505       DISEÑADOR PEDRO LOREDO ALTA COSTURA      315225   \n",
       "4        4317  1029455           DISEÑO DE MODAS ALEJANDRO PONCE      315225   \n",
       "\n",
       "                                          nombre_act tipoCenCom  \\\n",
       "0  Edificación de inmuebles comerciales y de serv...        NaN   \n",
       "1  Edificación de inmuebles comerciales y de serv...        NaN   \n",
       "2  Edificación de inmuebles comerciales y de serv...        NaN   \n",
       "3       Confección de prendas de vestir sobre medida        NaN   \n",
       "4       Confección de prendas de vestir sobre medida        NaN   \n",
       "\n",
       "             per_ocu tipoUniEco  ageb  manzana    latitud   longitud  \\\n",
       "0   11 a 30 personas       Fijo  1341       19  19.409575 -99.169632   \n",
       "1   11 a 30 personas       Fijo  1110        2  19.416512 -99.155670   \n",
       "2  51 a 100 personas       Fijo  120A        2  19.414587 -99.165863   \n",
       "3     0 a 5 personas       Fijo  1093       14  19.418684 -99.169586   \n",
       "4     0 a 5 personas       Fijo  1093       13  19.418406 -99.169518   \n",
       "\n",
       "  fecha_alta                        www   Año  Mes    clave  \n",
       "0 2016-01-01                        NaN  2016    1  1341-19  \n",
       "1 2019-11-01                        NaN  2019   11   1110-2  \n",
       "2 2010-07-01                        NaN  2010    7   120A-2  \n",
       "3 2010-07-01                        NaN  2010    7  1093-14  \n",
       "4 2010-07-01  WWW.ALEJANDROPONCE.COM.MX  2010    7  1093-13  "
      ]
     },
     "execution_count": 143,
     "metadata": {},
     "output_type": "execute_result"
    }
   ],
   "source": [
    "empresas=data.Id\n",
    "len(empresas)\n",
    "d=info[info[\"id\"].isin(empresas)]\n",
    "d.reset_index(drop=True,inplace=True)\n",
    "d.info()\n",
    "d[\"manzana\"]=d.manzana.astype(int)\n",
    "d[\"clave\"]=d[\"ageb\"].astype(str) + \"-\" + d[\"manzana\"].astype(str)\n",
    "d.head()"
   ]
  },
  {
   "cell_type": "code",
   "execution_count": 14,
   "metadata": {
    "scrolled": true
   },
   "outputs": [
    {
     "data": {
      "text/html": [
       "<div style=\"width:100%;\"><div style=\"position:relative;width:100%;height:0;padding-bottom:60%;\"><iframe src=\"data:text/html;charset=utf-8;base64,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\" style=\"position:absolute;width:100%;height:100%;left:0;top:0;border:none !important;\" allowfullscreen webkitallowfullscreen mozallowfullscreen></iframe></div></div>"
      ],
      "text/plain": [
       "<folium.folium.Map at 0x118efe438>"
      ]
     },
     "metadata": {},
     "output_type": "display_data"
    }
   ],
   "source": [
    "llat=list(d.latitud)\n",
    "llong=list(d.longitud)\n",
    "name=list(d.nom_estab)\n",
    "\n",
    "mapa=folium.Map(location=[long, lat], tiles='openstreetmap', zoom_start=14)\n",
    "\n",
    "for i in range(len(d)):\n",
    "    folium.Marker([llat[i], llong[i]], icon=folium.Icon(color='red'),popup=name[i]).add_to(mapa)\n",
    "    \n",
    "display(mapa)"
   ]
  },
  {
   "cell_type": "code",
   "execution_count": 15,
   "metadata": {},
   "outputs": [
    {
     "data": {
      "text/plain": [
       "2019-11-01    175\n",
       "2010-07-01     89\n",
       "2014-12-01     36\n",
       "2019-04-01     16\n",
       "2016-10-01     13\n",
       "2011-03-01      7\n",
       "2012-06-01      6\n",
       "2017-11-01      6\n",
       "2016-01-01      6\n",
       "2013-07-01      1\n",
       "2017-03-01      1\n",
       "Name: fecha_alta, dtype: int64"
      ]
     },
     "execution_count": 15,
     "metadata": {},
     "output_type": "execute_result"
    }
   ],
   "source": [
    "d.fecha_alta.value_counts()"
   ]
  },
  {
   "cell_type": "code",
   "execution_count": null,
   "metadata": {},
   "outputs": [],
   "source": [
    "'''\n",
    "dat=pd.DataFrame(d.fecha_alta.value_counts())\n",
    "dat=dat.sort_index()\n",
    "dat.index = pd.DatetimeIndex(dat.index).to_period('M')\n",
    "train=dat[1:-1]\n",
    "modelo=AR(train).fit()\n",
    "pred=modelo.predict(8,10)\n",
    "print(pred)\n",
    "train\n",
    "'''"
   ]
  },
  {
   "cell_type": "code",
   "execution_count": null,
   "metadata": {},
   "outputs": [],
   "source": [
    "'''\n",
    "from sklearn.linear_model import LinearRegression\n",
    "\n",
    "\n",
    "train=gk[1:-1]\n",
    "train=train.reset_index(drop=False)\n",
    "train=train.sort_values(by=['index'])\n",
    "X=train[\"index\"]\n",
    "y=train.Año\n",
    "z=\"2019\"\n",
    "X.reshape(1, -1)\n",
    "linreg=LinearRegression(fit_intercept=True)\n",
    "linreg.fit(X, y)\n",
    "#y_pred=linreg.predict(X_test)\n",
    "'''"
   ]
  },
  {
   "cell_type": "code",
   "execution_count": 16,
   "metadata": {},
   "outputs": [
    {
     "data": {
      "text/html": [
       "        <script type=\"text/javascript\">\n",
       "        window.PlotlyConfig = {MathJaxConfig: 'local'};\n",
       "        if (window.MathJax) {MathJax.Hub.Config({SVG: {font: \"STIX-Web\"}});}\n",
       "        if (typeof require !== 'undefined') {\n",
       "        require.undef(\"plotly\");\n",
       "        requirejs.config({\n",
       "            paths: {\n",
       "                'plotly': ['https://cdn.plot.ly/plotly-latest.min']\n",
       "            }\n",
       "        });\n",
       "        require(['plotly'], function(Plotly) {\n",
       "            window._Plotly = Plotly;\n",
       "        });\n",
       "        }\n",
       "        </script>\n",
       "        "
      ]
     },
     "metadata": {},
     "output_type": "display_data"
    }
   ],
   "source": [
    "import chart_studio.plotly as py\n",
    "import cufflinks as cf\n",
    "from ipywidgets import interact\n",
    "cf.go_offline()"
   ]
  },
  {
   "cell_type": "code",
   "execution_count": 137,
   "metadata": {},
   "outputs": [
    {
     "data": {
      "text/plain": [
       "356"
      ]
     },
     "metadata": {},
     "output_type": "display_data"
    },
    {
     "name": "stdout",
     "output_type": "stream",
     "text": [
      "   index  Año\n",
      "1   2010   89\n",
      "5   2011    7\n",
      "6   2012    6\n",
      "7   2013    1\n",
      "2   2014   36\n",
      "3   2016   19\n",
      "4   2017    7\n",
      "0   2019  191\n"
     ]
    },
    {
     "data": {
      "text/html": [
       "<div>\n",
       "<style scoped>\n",
       "    .dataframe tbody tr th:only-of-type {\n",
       "        vertical-align: middle;\n",
       "    }\n",
       "\n",
       "    .dataframe tbody tr th {\n",
       "        vertical-align: top;\n",
       "    }\n",
       "\n",
       "    .dataframe thead th {\n",
       "        text-align: right;\n",
       "    }\n",
       "</style>\n",
       "<table border=\"1\" class=\"dataframe\">\n",
       "  <thead>\n",
       "    <tr style=\"text-align: right;\">\n",
       "      <th></th>\n",
       "      <th>index</th>\n",
       "      <th>Mes</th>\n",
       "    </tr>\n",
       "  </thead>\n",
       "  <tbody>\n",
       "    <tr>\n",
       "      <th>7</th>\n",
       "      <td>1</td>\n",
       "      <td>6</td>\n",
       "    </tr>\n",
       "    <tr>\n",
       "      <th>5</th>\n",
       "      <td>3</td>\n",
       "      <td>8</td>\n",
       "    </tr>\n",
       "    <tr>\n",
       "      <th>3</th>\n",
       "      <td>4</td>\n",
       "      <td>16</td>\n",
       "    </tr>\n",
       "    <tr>\n",
       "      <th>6</th>\n",
       "      <td>6</td>\n",
       "      <td>6</td>\n",
       "    </tr>\n",
       "    <tr>\n",
       "      <th>1</th>\n",
       "      <td>7</td>\n",
       "      <td>90</td>\n",
       "    </tr>\n",
       "    <tr>\n",
       "      <th>4</th>\n",
       "      <td>10</td>\n",
       "      <td>13</td>\n",
       "    </tr>\n",
       "    <tr>\n",
       "      <th>0</th>\n",
       "      <td>11</td>\n",
       "      <td>181</td>\n",
       "    </tr>\n",
       "    <tr>\n",
       "      <th>2</th>\n",
       "      <td>12</td>\n",
       "      <td>36</td>\n",
       "    </tr>\n",
       "  </tbody>\n",
       "</table>\n",
       "</div>"
      ],
      "text/plain": [
       "   index  Mes\n",
       "7      1    6\n",
       "5      3    8\n",
       "3      4   16\n",
       "6      6    6\n",
       "1      7   90\n",
       "4     10   13\n",
       "0     11  181\n",
       "2     12   36"
      ]
     },
     "execution_count": 137,
     "metadata": {},
     "output_type": "execute_result"
    }
   ],
   "source": [
    "display(len(d))\n",
    "gk =pd.DataFrame(d.Año.value_counts())\n",
    "gk=gk.reset_index(drop=False)\n",
    "gk=gk.sort_values(by=['index'])\n",
    "print(gk)\n",
    "gm =pd.DataFrame(d.Mes.value_counts())\n",
    "gm=gm.reset_index(drop=False)\n",
    "gm=gm.sort_values(by=['index'])\n",
    "gm"
   ]
  },
  {
   "cell_type": "code",
   "execution_count": 18,
   "metadata": {},
   "outputs": [
    {
     "data": {
      "application/vnd.plotly.v1+json": {
       "config": {
        "linkText": "Export to plot.ly",
        "plotlyServerURL": "https://plot.ly",
        "showLink": true
       },
       "data": [
        {
         "marker": {
          "color": "rgba(255, 153, 51, 0.6)",
          "line": {
           "color": "rgba(255, 153, 51, 1.0)",
           "width": 1
          }
         },
         "name": "Mes",
         "orientation": "v",
         "text": "",
         "type": "bar",
         "x": [
          1,
          3,
          4,
          6,
          7,
          10,
          11,
          12
         ],
         "y": [
          6,
          8,
          16,
          6,
          90,
          13,
          181,
          36
         ]
        }
       ],
       "layout": {
        "legend": {
         "bgcolor": "#F5F6F9",
         "font": {
          "color": "#4D5663"
         }
        },
        "paper_bgcolor": "#F5F6F9",
        "plot_bgcolor": "#F5F6F9",
        "template": {
         "data": {
          "bar": [
           {
            "error_x": {
             "color": "#2a3f5f"
            },
            "error_y": {
             "color": "#2a3f5f"
            },
            "marker": {
             "line": {
              "color": "#E5ECF6",
              "width": 0.5
             }
            },
            "type": "bar"
           }
          ],
          "barpolar": [
           {
            "marker": {
             "line": {
              "color": "#E5ECF6",
              "width": 0.5
             }
            },
            "type": "barpolar"
           }
          ],
          "carpet": [
           {
            "aaxis": {
             "endlinecolor": "#2a3f5f",
             "gridcolor": "white",
             "linecolor": "white",
             "minorgridcolor": "white",
             "startlinecolor": "#2a3f5f"
            },
            "baxis": {
             "endlinecolor": "#2a3f5f",
             "gridcolor": "white",
             "linecolor": "white",
             "minorgridcolor": "white",
             "startlinecolor": "#2a3f5f"
            },
            "type": "carpet"
           }
          ],
          "choropleth": [
           {
            "colorbar": {
             "outlinewidth": 0,
             "ticks": ""
            },
            "type": "choropleth"
           }
          ],
          "contour": [
           {
            "colorbar": {
             "outlinewidth": 0,
             "ticks": ""
            },
            "colorscale": [
             [
              0,
              "#0d0887"
             ],
             [
              0.1111111111111111,
              "#46039f"
             ],
             [
              0.2222222222222222,
              "#7201a8"
             ],
             [
              0.3333333333333333,
              "#9c179e"
             ],
             [
              0.4444444444444444,
              "#bd3786"
             ],
             [
              0.5555555555555556,
              "#d8576b"
             ],
             [
              0.6666666666666666,
              "#ed7953"
             ],
             [
              0.7777777777777778,
              "#fb9f3a"
             ],
             [
              0.8888888888888888,
              "#fdca26"
             ],
             [
              1,
              "#f0f921"
             ]
            ],
            "type": "contour"
           }
          ],
          "contourcarpet": [
           {
            "colorbar": {
             "outlinewidth": 0,
             "ticks": ""
            },
            "type": "contourcarpet"
           }
          ],
          "heatmap": [
           {
            "colorbar": {
             "outlinewidth": 0,
             "ticks": ""
            },
            "colorscale": [
             [
              0,
              "#0d0887"
             ],
             [
              0.1111111111111111,
              "#46039f"
             ],
             [
              0.2222222222222222,
              "#7201a8"
             ],
             [
              0.3333333333333333,
              "#9c179e"
             ],
             [
              0.4444444444444444,
              "#bd3786"
             ],
             [
              0.5555555555555556,
              "#d8576b"
             ],
             [
              0.6666666666666666,
              "#ed7953"
             ],
             [
              0.7777777777777778,
              "#fb9f3a"
             ],
             [
              0.8888888888888888,
              "#fdca26"
             ],
             [
              1,
              "#f0f921"
             ]
            ],
            "type": "heatmap"
           }
          ],
          "heatmapgl": [
           {
            "colorbar": {
             "outlinewidth": 0,
             "ticks": ""
            },
            "colorscale": [
             [
              0,
              "#0d0887"
             ],
             [
              0.1111111111111111,
              "#46039f"
             ],
             [
              0.2222222222222222,
              "#7201a8"
             ],
             [
              0.3333333333333333,
              "#9c179e"
             ],
             [
              0.4444444444444444,
              "#bd3786"
             ],
             [
              0.5555555555555556,
              "#d8576b"
             ],
             [
              0.6666666666666666,
              "#ed7953"
             ],
             [
              0.7777777777777778,
              "#fb9f3a"
             ],
             [
              0.8888888888888888,
              "#fdca26"
             ],
             [
              1,
              "#f0f921"
             ]
            ],
            "type": "heatmapgl"
           }
          ],
          "histogram": [
           {
            "marker": {
             "colorbar": {
              "outlinewidth": 0,
              "ticks": ""
             }
            },
            "type": "histogram"
           }
          ],
          "histogram2d": [
           {
            "colorbar": {
             "outlinewidth": 0,
             "ticks": ""
            },
            "colorscale": [
             [
              0,
              "#0d0887"
             ],
             [
              0.1111111111111111,
              "#46039f"
             ],
             [
              0.2222222222222222,
              "#7201a8"
             ],
             [
              0.3333333333333333,
              "#9c179e"
             ],
             [
              0.4444444444444444,
              "#bd3786"
             ],
             [
              0.5555555555555556,
              "#d8576b"
             ],
             [
              0.6666666666666666,
              "#ed7953"
             ],
             [
              0.7777777777777778,
              "#fb9f3a"
             ],
             [
              0.8888888888888888,
              "#fdca26"
             ],
             [
              1,
              "#f0f921"
             ]
            ],
            "type": "histogram2d"
           }
          ],
          "histogram2dcontour": [
           {
            "colorbar": {
             "outlinewidth": 0,
             "ticks": ""
            },
            "colorscale": [
             [
              0,
              "#0d0887"
             ],
             [
              0.1111111111111111,
              "#46039f"
             ],
             [
              0.2222222222222222,
              "#7201a8"
             ],
             [
              0.3333333333333333,
              "#9c179e"
             ],
             [
              0.4444444444444444,
              "#bd3786"
             ],
             [
              0.5555555555555556,
              "#d8576b"
             ],
             [
              0.6666666666666666,
              "#ed7953"
             ],
             [
              0.7777777777777778,
              "#fb9f3a"
             ],
             [
              0.8888888888888888,
              "#fdca26"
             ],
             [
              1,
              "#f0f921"
             ]
            ],
            "type": "histogram2dcontour"
           }
          ],
          "mesh3d": [
           {
            "colorbar": {
             "outlinewidth": 0,
             "ticks": ""
            },
            "type": "mesh3d"
           }
          ],
          "parcoords": [
           {
            "line": {
             "colorbar": {
              "outlinewidth": 0,
              "ticks": ""
             }
            },
            "type": "parcoords"
           }
          ],
          "pie": [
           {
            "automargin": true,
            "type": "pie"
           }
          ],
          "scatter": [
           {
            "marker": {
             "colorbar": {
              "outlinewidth": 0,
              "ticks": ""
             }
            },
            "type": "scatter"
           }
          ],
          "scatter3d": [
           {
            "line": {
             "colorbar": {
              "outlinewidth": 0,
              "ticks": ""
             }
            },
            "marker": {
             "colorbar": {
              "outlinewidth": 0,
              "ticks": ""
             }
            },
            "type": "scatter3d"
           }
          ],
          "scattercarpet": [
           {
            "marker": {
             "colorbar": {
              "outlinewidth": 0,
              "ticks": ""
             }
            },
            "type": "scattercarpet"
           }
          ],
          "scattergeo": [
           {
            "marker": {
             "colorbar": {
              "outlinewidth": 0,
              "ticks": ""
             }
            },
            "type": "scattergeo"
           }
          ],
          "scattergl": [
           {
            "marker": {
             "colorbar": {
              "outlinewidth": 0,
              "ticks": ""
             }
            },
            "type": "scattergl"
           }
          ],
          "scattermapbox": [
           {
            "marker": {
             "colorbar": {
              "outlinewidth": 0,
              "ticks": ""
             }
            },
            "type": "scattermapbox"
           }
          ],
          "scatterpolar": [
           {
            "marker": {
             "colorbar": {
              "outlinewidth": 0,
              "ticks": ""
             }
            },
            "type": "scatterpolar"
           }
          ],
          "scatterpolargl": [
           {
            "marker": {
             "colorbar": {
              "outlinewidth": 0,
              "ticks": ""
             }
            },
            "type": "scatterpolargl"
           }
          ],
          "scatterternary": [
           {
            "marker": {
             "colorbar": {
              "outlinewidth": 0,
              "ticks": ""
             }
            },
            "type": "scatterternary"
           }
          ],
          "surface": [
           {
            "colorbar": {
             "outlinewidth": 0,
             "ticks": ""
            },
            "colorscale": [
             [
              0,
              "#0d0887"
             ],
             [
              0.1111111111111111,
              "#46039f"
             ],
             [
              0.2222222222222222,
              "#7201a8"
             ],
             [
              0.3333333333333333,
              "#9c179e"
             ],
             [
              0.4444444444444444,
              "#bd3786"
             ],
             [
              0.5555555555555556,
              "#d8576b"
             ],
             [
              0.6666666666666666,
              "#ed7953"
             ],
             [
              0.7777777777777778,
              "#fb9f3a"
             ],
             [
              0.8888888888888888,
              "#fdca26"
             ],
             [
              1,
              "#f0f921"
             ]
            ],
            "type": "surface"
           }
          ],
          "table": [
           {
            "cells": {
             "fill": {
              "color": "#EBF0F8"
             },
             "line": {
              "color": "white"
             }
            },
            "header": {
             "fill": {
              "color": "#C8D4E3"
             },
             "line": {
              "color": "white"
             }
            },
            "type": "table"
           }
          ]
         },
         "layout": {
          "annotationdefaults": {
           "arrowcolor": "#2a3f5f",
           "arrowhead": 0,
           "arrowwidth": 1
          },
          "coloraxis": {
           "colorbar": {
            "outlinewidth": 0,
            "ticks": ""
           }
          },
          "colorscale": {
           "diverging": [
            [
             0,
             "#8e0152"
            ],
            [
             0.1,
             "#c51b7d"
            ],
            [
             0.2,
             "#de77ae"
            ],
            [
             0.3,
             "#f1b6da"
            ],
            [
             0.4,
             "#fde0ef"
            ],
            [
             0.5,
             "#f7f7f7"
            ],
            [
             0.6,
             "#e6f5d0"
            ],
            [
             0.7,
             "#b8e186"
            ],
            [
             0.8,
             "#7fbc41"
            ],
            [
             0.9,
             "#4d9221"
            ],
            [
             1,
             "#276419"
            ]
           ],
           "sequential": [
            [
             0,
             "#0d0887"
            ],
            [
             0.1111111111111111,
             "#46039f"
            ],
            [
             0.2222222222222222,
             "#7201a8"
            ],
            [
             0.3333333333333333,
             "#9c179e"
            ],
            [
             0.4444444444444444,
             "#bd3786"
            ],
            [
             0.5555555555555556,
             "#d8576b"
            ],
            [
             0.6666666666666666,
             "#ed7953"
            ],
            [
             0.7777777777777778,
             "#fb9f3a"
            ],
            [
             0.8888888888888888,
             "#fdca26"
            ],
            [
             1,
             "#f0f921"
            ]
           ],
           "sequentialminus": [
            [
             0,
             "#0d0887"
            ],
            [
             0.1111111111111111,
             "#46039f"
            ],
            [
             0.2222222222222222,
             "#7201a8"
            ],
            [
             0.3333333333333333,
             "#9c179e"
            ],
            [
             0.4444444444444444,
             "#bd3786"
            ],
            [
             0.5555555555555556,
             "#d8576b"
            ],
            [
             0.6666666666666666,
             "#ed7953"
            ],
            [
             0.7777777777777778,
             "#fb9f3a"
            ],
            [
             0.8888888888888888,
             "#fdca26"
            ],
            [
             1,
             "#f0f921"
            ]
           ]
          },
          "colorway": [
           "#636efa",
           "#EF553B",
           "#00cc96",
           "#ab63fa",
           "#FFA15A",
           "#19d3f3",
           "#FF6692",
           "#B6E880",
           "#FF97FF",
           "#FECB52"
          ],
          "font": {
           "color": "#2a3f5f"
          },
          "geo": {
           "bgcolor": "white",
           "lakecolor": "white",
           "landcolor": "#E5ECF6",
           "showlakes": true,
           "showland": true,
           "subunitcolor": "white"
          },
          "hoverlabel": {
           "align": "left"
          },
          "hovermode": "closest",
          "mapbox": {
           "style": "light"
          },
          "paper_bgcolor": "white",
          "plot_bgcolor": "#E5ECF6",
          "polar": {
           "angularaxis": {
            "gridcolor": "white",
            "linecolor": "white",
            "ticks": ""
           },
           "bgcolor": "#E5ECF6",
           "radialaxis": {
            "gridcolor": "white",
            "linecolor": "white",
            "ticks": ""
           }
          },
          "scene": {
           "xaxis": {
            "backgroundcolor": "#E5ECF6",
            "gridcolor": "white",
            "gridwidth": 2,
            "linecolor": "white",
            "showbackground": true,
            "ticks": "",
            "zerolinecolor": "white"
           },
           "yaxis": {
            "backgroundcolor": "#E5ECF6",
            "gridcolor": "white",
            "gridwidth": 2,
            "linecolor": "white",
            "showbackground": true,
            "ticks": "",
            "zerolinecolor": "white"
           },
           "zaxis": {
            "backgroundcolor": "#E5ECF6",
            "gridcolor": "white",
            "gridwidth": 2,
            "linecolor": "white",
            "showbackground": true,
            "ticks": "",
            "zerolinecolor": "white"
           }
          },
          "shapedefaults": {
           "line": {
            "color": "#2a3f5f"
           }
          },
          "ternary": {
           "aaxis": {
            "gridcolor": "white",
            "linecolor": "white",
            "ticks": ""
           },
           "baxis": {
            "gridcolor": "white",
            "linecolor": "white",
            "ticks": ""
           },
           "bgcolor": "#E5ECF6",
           "caxis": {
            "gridcolor": "white",
            "linecolor": "white",
            "ticks": ""
           }
          },
          "title": {
           "x": 0.05
          },
          "xaxis": {
           "automargin": true,
           "gridcolor": "white",
           "linecolor": "white",
           "ticks": "",
           "title": {
            "standoff": 15
           },
           "zerolinecolor": "white",
           "zerolinewidth": 2
          },
          "yaxis": {
           "automargin": true,
           "gridcolor": "white",
           "linecolor": "white",
           "ticks": "",
           "title": {
            "standoff": 15
           },
           "zerolinecolor": "white",
           "zerolinewidth": 2
          }
         }
        },
        "title": {
         "font": {
          "color": "#4D5663"
         },
         "text": "Mes de integración"
        },
        "xaxis": {
         "gridcolor": "#E1E5ED",
         "showgrid": true,
         "tickfont": {
          "color": "#4D5663"
         },
         "title": {
          "font": {
           "color": "#4D5663"
          },
          "text": "Mes"
         },
         "zerolinecolor": "#E1E5ED"
        },
        "yaxis": {
         "gridcolor": "#E1E5ED",
         "showgrid": true,
         "tickfont": {
          "color": "#4D5663"
         },
         "title": {
          "font": {
           "color": "#4D5663"
          },
          "text": "N. Empresas"
         },
         "zerolinecolor": "#E1E5ED"
        }
       }
      },
      "text/html": [
       "<div>\n",
       "        \n",
       "        \n",
       "            <div id=\"a7611209-468b-402c-9b55-501f58c45999\" class=\"plotly-graph-div\" style=\"height:525px; width:100%;\"></div>\n",
       "            <script type=\"text/javascript\">\n",
       "                require([\"plotly\"], function(Plotly) {\n",
       "                    window.PLOTLYENV=window.PLOTLYENV || {};\n",
       "                    window.PLOTLYENV.BASE_URL='https://plot.ly';\n",
       "                    \n",
       "                if (document.getElementById(\"a7611209-468b-402c-9b55-501f58c45999\")) {\n",
       "                    Plotly.newPlot(\n",
       "                        'a7611209-468b-402c-9b55-501f58c45999',\n",
       "                        [{\"marker\": {\"color\": \"rgba(255, 153, 51, 0.6)\", \"line\": {\"color\": \"rgba(255, 153, 51, 1.0)\", \"width\": 1}}, \"name\": \"Mes\", \"orientation\": \"v\", \"text\": \"\", \"type\": \"bar\", \"x\": [1, 3, 4, 6, 7, 10, 11, 12], \"y\": [6, 8, 16, 6, 90, 13, 181, 36]}],\n",
       "                        {\"legend\": {\"bgcolor\": \"#F5F6F9\", \"font\": {\"color\": \"#4D5663\"}}, \"paper_bgcolor\": \"#F5F6F9\", \"plot_bgcolor\": \"#F5F6F9\", \"template\": {\"data\": {\"bar\": [{\"error_x\": {\"color\": \"#2a3f5f\"}, \"error_y\": {\"color\": \"#2a3f5f\"}, \"marker\": {\"line\": {\"color\": \"#E5ECF6\", \"width\": 0.5}}, \"type\": \"bar\"}], \"barpolar\": [{\"marker\": {\"line\": {\"color\": \"#E5ECF6\", \"width\": 0.5}}, \"type\": \"barpolar\"}], \"carpet\": [{\"aaxis\": {\"endlinecolor\": \"#2a3f5f\", \"gridcolor\": \"white\", \"linecolor\": \"white\", \"minorgridcolor\": \"white\", \"startlinecolor\": \"#2a3f5f\"}, \"baxis\": {\"endlinecolor\": \"#2a3f5f\", \"gridcolor\": \"white\", \"linecolor\": \"white\", \"minorgridcolor\": \"white\", \"startlinecolor\": \"#2a3f5f\"}, \"type\": \"carpet\"}], \"choropleth\": [{\"colorbar\": {\"outlinewidth\": 0, \"ticks\": \"\"}, \"type\": \"choropleth\"}], \"contour\": [{\"colorbar\": {\"outlinewidth\": 0, \"ticks\": \"\"}, \"colorscale\": [[0.0, \"#0d0887\"], [0.1111111111111111, \"#46039f\"], [0.2222222222222222, \"#7201a8\"], [0.3333333333333333, \"#9c179e\"], [0.4444444444444444, \"#bd3786\"], [0.5555555555555556, \"#d8576b\"], [0.6666666666666666, \"#ed7953\"], [0.7777777777777778, \"#fb9f3a\"], [0.8888888888888888, \"#fdca26\"], [1.0, \"#f0f921\"]], \"type\": \"contour\"}], \"contourcarpet\": [{\"colorbar\": {\"outlinewidth\": 0, \"ticks\": \"\"}, \"type\": \"contourcarpet\"}], \"heatmap\": [{\"colorbar\": {\"outlinewidth\": 0, \"ticks\": \"\"}, \"colorscale\": [[0.0, \"#0d0887\"], [0.1111111111111111, \"#46039f\"], [0.2222222222222222, \"#7201a8\"], [0.3333333333333333, \"#9c179e\"], [0.4444444444444444, \"#bd3786\"], [0.5555555555555556, \"#d8576b\"], [0.6666666666666666, \"#ed7953\"], [0.7777777777777778, \"#fb9f3a\"], [0.8888888888888888, \"#fdca26\"], [1.0, \"#f0f921\"]], \"type\": \"heatmap\"}], \"heatmapgl\": [{\"colorbar\": {\"outlinewidth\": 0, \"ticks\": \"\"}, \"colorscale\": [[0.0, \"#0d0887\"], [0.1111111111111111, \"#46039f\"], [0.2222222222222222, \"#7201a8\"], [0.3333333333333333, \"#9c179e\"], [0.4444444444444444, \"#bd3786\"], [0.5555555555555556, \"#d8576b\"], [0.6666666666666666, \"#ed7953\"], [0.7777777777777778, \"#fb9f3a\"], [0.8888888888888888, \"#fdca26\"], [1.0, \"#f0f921\"]], \"type\": \"heatmapgl\"}], \"histogram\": [{\"marker\": {\"colorbar\": {\"outlinewidth\": 0, \"ticks\": \"\"}}, \"type\": \"histogram\"}], \"histogram2d\": [{\"colorbar\": {\"outlinewidth\": 0, \"ticks\": \"\"}, \"colorscale\": [[0.0, \"#0d0887\"], [0.1111111111111111, \"#46039f\"], [0.2222222222222222, \"#7201a8\"], [0.3333333333333333, \"#9c179e\"], [0.4444444444444444, \"#bd3786\"], [0.5555555555555556, \"#d8576b\"], [0.6666666666666666, \"#ed7953\"], [0.7777777777777778, \"#fb9f3a\"], [0.8888888888888888, \"#fdca26\"], [1.0, \"#f0f921\"]], \"type\": \"histogram2d\"}], \"histogram2dcontour\": [{\"colorbar\": {\"outlinewidth\": 0, \"ticks\": \"\"}, \"colorscale\": [[0.0, \"#0d0887\"], [0.1111111111111111, \"#46039f\"], [0.2222222222222222, \"#7201a8\"], [0.3333333333333333, \"#9c179e\"], [0.4444444444444444, \"#bd3786\"], [0.5555555555555556, \"#d8576b\"], [0.6666666666666666, \"#ed7953\"], [0.7777777777777778, \"#fb9f3a\"], [0.8888888888888888, \"#fdca26\"], [1.0, \"#f0f921\"]], \"type\": \"histogram2dcontour\"}], \"mesh3d\": [{\"colorbar\": {\"outlinewidth\": 0, \"ticks\": \"\"}, \"type\": \"mesh3d\"}], \"parcoords\": [{\"line\": {\"colorbar\": {\"outlinewidth\": 0, \"ticks\": \"\"}}, \"type\": \"parcoords\"}], \"pie\": [{\"automargin\": true, \"type\": \"pie\"}], \"scatter\": [{\"marker\": {\"colorbar\": {\"outlinewidth\": 0, \"ticks\": \"\"}}, \"type\": \"scatter\"}], \"scatter3d\": [{\"line\": {\"colorbar\": {\"outlinewidth\": 0, \"ticks\": \"\"}}, \"marker\": {\"colorbar\": {\"outlinewidth\": 0, \"ticks\": \"\"}}, \"type\": \"scatter3d\"}], \"scattercarpet\": [{\"marker\": {\"colorbar\": {\"outlinewidth\": 0, \"ticks\": \"\"}}, \"type\": \"scattercarpet\"}], \"scattergeo\": [{\"marker\": {\"colorbar\": {\"outlinewidth\": 0, \"ticks\": \"\"}}, \"type\": \"scattergeo\"}], \"scattergl\": [{\"marker\": {\"colorbar\": {\"outlinewidth\": 0, \"ticks\": \"\"}}, \"type\": \"scattergl\"}], \"scattermapbox\": [{\"marker\": {\"colorbar\": {\"outlinewidth\": 0, \"ticks\": \"\"}}, \"type\": \"scattermapbox\"}], \"scatterpolar\": [{\"marker\": {\"colorbar\": {\"outlinewidth\": 0, \"ticks\": \"\"}}, \"type\": \"scatterpolar\"}], \"scatterpolargl\": [{\"marker\": {\"colorbar\": {\"outlinewidth\": 0, \"ticks\": \"\"}}, \"type\": \"scatterpolargl\"}], \"scatterternary\": [{\"marker\": {\"colorbar\": {\"outlinewidth\": 0, \"ticks\": \"\"}}, \"type\": \"scatterternary\"}], \"surface\": [{\"colorbar\": {\"outlinewidth\": 0, \"ticks\": \"\"}, \"colorscale\": [[0.0, \"#0d0887\"], [0.1111111111111111, \"#46039f\"], [0.2222222222222222, \"#7201a8\"], [0.3333333333333333, \"#9c179e\"], [0.4444444444444444, \"#bd3786\"], [0.5555555555555556, \"#d8576b\"], [0.6666666666666666, \"#ed7953\"], [0.7777777777777778, \"#fb9f3a\"], [0.8888888888888888, \"#fdca26\"], [1.0, \"#f0f921\"]], \"type\": \"surface\"}], \"table\": [{\"cells\": {\"fill\": {\"color\": \"#EBF0F8\"}, \"line\": {\"color\": \"white\"}}, \"header\": {\"fill\": {\"color\": \"#C8D4E3\"}, \"line\": {\"color\": \"white\"}}, \"type\": \"table\"}]}, \"layout\": {\"annotationdefaults\": {\"arrowcolor\": \"#2a3f5f\", \"arrowhead\": 0, \"arrowwidth\": 1}, \"coloraxis\": {\"colorbar\": {\"outlinewidth\": 0, \"ticks\": \"\"}}, \"colorscale\": {\"diverging\": [[0, \"#8e0152\"], [0.1, \"#c51b7d\"], [0.2, \"#de77ae\"], [0.3, \"#f1b6da\"], [0.4, \"#fde0ef\"], [0.5, \"#f7f7f7\"], [0.6, \"#e6f5d0\"], [0.7, \"#b8e186\"], [0.8, \"#7fbc41\"], [0.9, \"#4d9221\"], [1, \"#276419\"]], \"sequential\": [[0.0, \"#0d0887\"], [0.1111111111111111, \"#46039f\"], [0.2222222222222222, \"#7201a8\"], [0.3333333333333333, \"#9c179e\"], [0.4444444444444444, \"#bd3786\"], [0.5555555555555556, \"#d8576b\"], [0.6666666666666666, \"#ed7953\"], [0.7777777777777778, \"#fb9f3a\"], [0.8888888888888888, \"#fdca26\"], [1.0, \"#f0f921\"]], \"sequentialminus\": [[0.0, \"#0d0887\"], [0.1111111111111111, \"#46039f\"], [0.2222222222222222, \"#7201a8\"], [0.3333333333333333, \"#9c179e\"], [0.4444444444444444, \"#bd3786\"], [0.5555555555555556, \"#d8576b\"], [0.6666666666666666, \"#ed7953\"], [0.7777777777777778, \"#fb9f3a\"], [0.8888888888888888, \"#fdca26\"], [1.0, \"#f0f921\"]]}, \"colorway\": [\"#636efa\", \"#EF553B\", \"#00cc96\", \"#ab63fa\", \"#FFA15A\", \"#19d3f3\", \"#FF6692\", \"#B6E880\", \"#FF97FF\", \"#FECB52\"], \"font\": {\"color\": \"#2a3f5f\"}, \"geo\": {\"bgcolor\": \"white\", \"lakecolor\": \"white\", \"landcolor\": \"#E5ECF6\", \"showlakes\": true, \"showland\": true, \"subunitcolor\": \"white\"}, \"hoverlabel\": {\"align\": \"left\"}, \"hovermode\": \"closest\", \"mapbox\": {\"style\": \"light\"}, \"paper_bgcolor\": \"white\", \"plot_bgcolor\": \"#E5ECF6\", \"polar\": {\"angularaxis\": {\"gridcolor\": \"white\", \"linecolor\": \"white\", \"ticks\": \"\"}, \"bgcolor\": \"#E5ECF6\", \"radialaxis\": {\"gridcolor\": \"white\", \"linecolor\": \"white\", \"ticks\": \"\"}}, \"scene\": {\"xaxis\": {\"backgroundcolor\": \"#E5ECF6\", \"gridcolor\": \"white\", \"gridwidth\": 2, \"linecolor\": \"white\", \"showbackground\": true, \"ticks\": \"\", \"zerolinecolor\": \"white\"}, \"yaxis\": {\"backgroundcolor\": \"#E5ECF6\", \"gridcolor\": \"white\", \"gridwidth\": 2, \"linecolor\": \"white\", \"showbackground\": true, \"ticks\": \"\", \"zerolinecolor\": \"white\"}, \"zaxis\": {\"backgroundcolor\": \"#E5ECF6\", \"gridcolor\": \"white\", \"gridwidth\": 2, \"linecolor\": \"white\", \"showbackground\": true, \"ticks\": \"\", \"zerolinecolor\": \"white\"}}, \"shapedefaults\": {\"line\": {\"color\": \"#2a3f5f\"}}, \"ternary\": {\"aaxis\": {\"gridcolor\": \"white\", \"linecolor\": \"white\", \"ticks\": \"\"}, \"baxis\": {\"gridcolor\": \"white\", \"linecolor\": \"white\", \"ticks\": \"\"}, \"bgcolor\": \"#E5ECF6\", \"caxis\": {\"gridcolor\": \"white\", \"linecolor\": \"white\", \"ticks\": \"\"}}, \"title\": {\"x\": 0.05}, \"xaxis\": {\"automargin\": true, \"gridcolor\": \"white\", \"linecolor\": \"white\", \"ticks\": \"\", \"title\": {\"standoff\": 15}, \"zerolinecolor\": \"white\", \"zerolinewidth\": 2}, \"yaxis\": {\"automargin\": true, \"gridcolor\": \"white\", \"linecolor\": \"white\", \"ticks\": \"\", \"title\": {\"standoff\": 15}, \"zerolinecolor\": \"white\", \"zerolinewidth\": 2}}}, \"title\": {\"font\": {\"color\": \"#4D5663\"}, \"text\": \"Mes de integraci\\u00f3n\"}, \"xaxis\": {\"gridcolor\": \"#E1E5ED\", \"showgrid\": true, \"tickfont\": {\"color\": \"#4D5663\"}, \"title\": {\"font\": {\"color\": \"#4D5663\"}, \"text\": \"Mes\"}, \"zerolinecolor\": \"#E1E5ED\"}, \"yaxis\": {\"gridcolor\": \"#E1E5ED\", \"showgrid\": true, \"tickfont\": {\"color\": \"#4D5663\"}, \"title\": {\"font\": {\"color\": \"#4D5663\"}, \"text\": \"N. Empresas\"}, \"zerolinecolor\": \"#E1E5ED\"}},\n",
       "                        {\"showLink\": true, \"linkText\": \"Export to plot.ly\", \"plotlyServerURL\": \"https://plot.ly\", \"responsive\": true}\n",
       "                    ).then(function(){\n",
       "                            \n",
       "var gd = document.getElementById('a7611209-468b-402c-9b55-501f58c45999');\n",
       "var x = new MutationObserver(function (mutations, observer) {{\n",
       "        var display = window.getComputedStyle(gd).display;\n",
       "        if (!display || display === 'none') {{\n",
       "            console.log([gd, 'removed!']);\n",
       "            Plotly.purge(gd);\n",
       "            observer.disconnect();\n",
       "        }}\n",
       "}});\n",
       "\n",
       "// Listen for the removal of the full notebook cells\n",
       "var notebookContainer = gd.closest('#notebook-container');\n",
       "if (notebookContainer) {{\n",
       "    x.observe(notebookContainer, {childList: true});\n",
       "}}\n",
       "\n",
       "// Listen for the clearing of the current output cell\n",
       "var outputEl = gd.closest('.output');\n",
       "if (outputEl) {{\n",
       "    x.observe(outputEl, {childList: true});\n",
       "}}\n",
       "\n",
       "                        })\n",
       "                };\n",
       "                });\n",
       "            </script>\n",
       "        </div>"
      ]
     },
     "metadata": {},
     "output_type": "display_data"
    },
    {
     "data": {
      "application/vnd.plotly.v1+json": {
       "config": {
        "linkText": "Export to plot.ly",
        "plotlyServerURL": "https://plot.ly",
        "showLink": true
       },
       "data": [
        {
         "marker": {
          "color": "rgba(255, 153, 51, 0.6)",
          "line": {
           "color": "rgba(255, 153, 51, 1.0)",
           "width": 1
          }
         },
         "name": "Año",
         "orientation": "v",
         "text": "",
         "type": "bar",
         "x": [
          2010,
          2011,
          2012,
          2013,
          2014,
          2016,
          2017,
          2019
         ],
         "y": [
          89,
          7,
          6,
          1,
          36,
          19,
          7,
          191
         ]
        }
       ],
       "layout": {
        "legend": {
         "bgcolor": "#F5F6F9",
         "font": {
          "color": "#4D5663"
         }
        },
        "paper_bgcolor": "#F5F6F9",
        "plot_bgcolor": "#F5F6F9",
        "template": {
         "data": {
          "bar": [
           {
            "error_x": {
             "color": "#2a3f5f"
            },
            "error_y": {
             "color": "#2a3f5f"
            },
            "marker": {
             "line": {
              "color": "#E5ECF6",
              "width": 0.5
             }
            },
            "type": "bar"
           }
          ],
          "barpolar": [
           {
            "marker": {
             "line": {
              "color": "#E5ECF6",
              "width": 0.5
             }
            },
            "type": "barpolar"
           }
          ],
          "carpet": [
           {
            "aaxis": {
             "endlinecolor": "#2a3f5f",
             "gridcolor": "white",
             "linecolor": "white",
             "minorgridcolor": "white",
             "startlinecolor": "#2a3f5f"
            },
            "baxis": {
             "endlinecolor": "#2a3f5f",
             "gridcolor": "white",
             "linecolor": "white",
             "minorgridcolor": "white",
             "startlinecolor": "#2a3f5f"
            },
            "type": "carpet"
           }
          ],
          "choropleth": [
           {
            "colorbar": {
             "outlinewidth": 0,
             "ticks": ""
            },
            "type": "choropleth"
           }
          ],
          "contour": [
           {
            "colorbar": {
             "outlinewidth": 0,
             "ticks": ""
            },
            "colorscale": [
             [
              0,
              "#0d0887"
             ],
             [
              0.1111111111111111,
              "#46039f"
             ],
             [
              0.2222222222222222,
              "#7201a8"
             ],
             [
              0.3333333333333333,
              "#9c179e"
             ],
             [
              0.4444444444444444,
              "#bd3786"
             ],
             [
              0.5555555555555556,
              "#d8576b"
             ],
             [
              0.6666666666666666,
              "#ed7953"
             ],
             [
              0.7777777777777778,
              "#fb9f3a"
             ],
             [
              0.8888888888888888,
              "#fdca26"
             ],
             [
              1,
              "#f0f921"
             ]
            ],
            "type": "contour"
           }
          ],
          "contourcarpet": [
           {
            "colorbar": {
             "outlinewidth": 0,
             "ticks": ""
            },
            "type": "contourcarpet"
           }
          ],
          "heatmap": [
           {
            "colorbar": {
             "outlinewidth": 0,
             "ticks": ""
            },
            "colorscale": [
             [
              0,
              "#0d0887"
             ],
             [
              0.1111111111111111,
              "#46039f"
             ],
             [
              0.2222222222222222,
              "#7201a8"
             ],
             [
              0.3333333333333333,
              "#9c179e"
             ],
             [
              0.4444444444444444,
              "#bd3786"
             ],
             [
              0.5555555555555556,
              "#d8576b"
             ],
             [
              0.6666666666666666,
              "#ed7953"
             ],
             [
              0.7777777777777778,
              "#fb9f3a"
             ],
             [
              0.8888888888888888,
              "#fdca26"
             ],
             [
              1,
              "#f0f921"
             ]
            ],
            "type": "heatmap"
           }
          ],
          "heatmapgl": [
           {
            "colorbar": {
             "outlinewidth": 0,
             "ticks": ""
            },
            "colorscale": [
             [
              0,
              "#0d0887"
             ],
             [
              0.1111111111111111,
              "#46039f"
             ],
             [
              0.2222222222222222,
              "#7201a8"
             ],
             [
              0.3333333333333333,
              "#9c179e"
             ],
             [
              0.4444444444444444,
              "#bd3786"
             ],
             [
              0.5555555555555556,
              "#d8576b"
             ],
             [
              0.6666666666666666,
              "#ed7953"
             ],
             [
              0.7777777777777778,
              "#fb9f3a"
             ],
             [
              0.8888888888888888,
              "#fdca26"
             ],
             [
              1,
              "#f0f921"
             ]
            ],
            "type": "heatmapgl"
           }
          ],
          "histogram": [
           {
            "marker": {
             "colorbar": {
              "outlinewidth": 0,
              "ticks": ""
             }
            },
            "type": "histogram"
           }
          ],
          "histogram2d": [
           {
            "colorbar": {
             "outlinewidth": 0,
             "ticks": ""
            },
            "colorscale": [
             [
              0,
              "#0d0887"
             ],
             [
              0.1111111111111111,
              "#46039f"
             ],
             [
              0.2222222222222222,
              "#7201a8"
             ],
             [
              0.3333333333333333,
              "#9c179e"
             ],
             [
              0.4444444444444444,
              "#bd3786"
             ],
             [
              0.5555555555555556,
              "#d8576b"
             ],
             [
              0.6666666666666666,
              "#ed7953"
             ],
             [
              0.7777777777777778,
              "#fb9f3a"
             ],
             [
              0.8888888888888888,
              "#fdca26"
             ],
             [
              1,
              "#f0f921"
             ]
            ],
            "type": "histogram2d"
           }
          ],
          "histogram2dcontour": [
           {
            "colorbar": {
             "outlinewidth": 0,
             "ticks": ""
            },
            "colorscale": [
             [
              0,
              "#0d0887"
             ],
             [
              0.1111111111111111,
              "#46039f"
             ],
             [
              0.2222222222222222,
              "#7201a8"
             ],
             [
              0.3333333333333333,
              "#9c179e"
             ],
             [
              0.4444444444444444,
              "#bd3786"
             ],
             [
              0.5555555555555556,
              "#d8576b"
             ],
             [
              0.6666666666666666,
              "#ed7953"
             ],
             [
              0.7777777777777778,
              "#fb9f3a"
             ],
             [
              0.8888888888888888,
              "#fdca26"
             ],
             [
              1,
              "#f0f921"
             ]
            ],
            "type": "histogram2dcontour"
           }
          ],
          "mesh3d": [
           {
            "colorbar": {
             "outlinewidth": 0,
             "ticks": ""
            },
            "type": "mesh3d"
           }
          ],
          "parcoords": [
           {
            "line": {
             "colorbar": {
              "outlinewidth": 0,
              "ticks": ""
             }
            },
            "type": "parcoords"
           }
          ],
          "pie": [
           {
            "automargin": true,
            "type": "pie"
           }
          ],
          "scatter": [
           {
            "marker": {
             "colorbar": {
              "outlinewidth": 0,
              "ticks": ""
             }
            },
            "type": "scatter"
           }
          ],
          "scatter3d": [
           {
            "line": {
             "colorbar": {
              "outlinewidth": 0,
              "ticks": ""
             }
            },
            "marker": {
             "colorbar": {
              "outlinewidth": 0,
              "ticks": ""
             }
            },
            "type": "scatter3d"
           }
          ],
          "scattercarpet": [
           {
            "marker": {
             "colorbar": {
              "outlinewidth": 0,
              "ticks": ""
             }
            },
            "type": "scattercarpet"
           }
          ],
          "scattergeo": [
           {
            "marker": {
             "colorbar": {
              "outlinewidth": 0,
              "ticks": ""
             }
            },
            "type": "scattergeo"
           }
          ],
          "scattergl": [
           {
            "marker": {
             "colorbar": {
              "outlinewidth": 0,
              "ticks": ""
             }
            },
            "type": "scattergl"
           }
          ],
          "scattermapbox": [
           {
            "marker": {
             "colorbar": {
              "outlinewidth": 0,
              "ticks": ""
             }
            },
            "type": "scattermapbox"
           }
          ],
          "scatterpolar": [
           {
            "marker": {
             "colorbar": {
              "outlinewidth": 0,
              "ticks": ""
             }
            },
            "type": "scatterpolar"
           }
          ],
          "scatterpolargl": [
           {
            "marker": {
             "colorbar": {
              "outlinewidth": 0,
              "ticks": ""
             }
            },
            "type": "scatterpolargl"
           }
          ],
          "scatterternary": [
           {
            "marker": {
             "colorbar": {
              "outlinewidth": 0,
              "ticks": ""
             }
            },
            "type": "scatterternary"
           }
          ],
          "surface": [
           {
            "colorbar": {
             "outlinewidth": 0,
             "ticks": ""
            },
            "colorscale": [
             [
              0,
              "#0d0887"
             ],
             [
              0.1111111111111111,
              "#46039f"
             ],
             [
              0.2222222222222222,
              "#7201a8"
             ],
             [
              0.3333333333333333,
              "#9c179e"
             ],
             [
              0.4444444444444444,
              "#bd3786"
             ],
             [
              0.5555555555555556,
              "#d8576b"
             ],
             [
              0.6666666666666666,
              "#ed7953"
             ],
             [
              0.7777777777777778,
              "#fb9f3a"
             ],
             [
              0.8888888888888888,
              "#fdca26"
             ],
             [
              1,
              "#f0f921"
             ]
            ],
            "type": "surface"
           }
          ],
          "table": [
           {
            "cells": {
             "fill": {
              "color": "#EBF0F8"
             },
             "line": {
              "color": "white"
             }
            },
            "header": {
             "fill": {
              "color": "#C8D4E3"
             },
             "line": {
              "color": "white"
             }
            },
            "type": "table"
           }
          ]
         },
         "layout": {
          "annotationdefaults": {
           "arrowcolor": "#2a3f5f",
           "arrowhead": 0,
           "arrowwidth": 1
          },
          "coloraxis": {
           "colorbar": {
            "outlinewidth": 0,
            "ticks": ""
           }
          },
          "colorscale": {
           "diverging": [
            [
             0,
             "#8e0152"
            ],
            [
             0.1,
             "#c51b7d"
            ],
            [
             0.2,
             "#de77ae"
            ],
            [
             0.3,
             "#f1b6da"
            ],
            [
             0.4,
             "#fde0ef"
            ],
            [
             0.5,
             "#f7f7f7"
            ],
            [
             0.6,
             "#e6f5d0"
            ],
            [
             0.7,
             "#b8e186"
            ],
            [
             0.8,
             "#7fbc41"
            ],
            [
             0.9,
             "#4d9221"
            ],
            [
             1,
             "#276419"
            ]
           ],
           "sequential": [
            [
             0,
             "#0d0887"
            ],
            [
             0.1111111111111111,
             "#46039f"
            ],
            [
             0.2222222222222222,
             "#7201a8"
            ],
            [
             0.3333333333333333,
             "#9c179e"
            ],
            [
             0.4444444444444444,
             "#bd3786"
            ],
            [
             0.5555555555555556,
             "#d8576b"
            ],
            [
             0.6666666666666666,
             "#ed7953"
            ],
            [
             0.7777777777777778,
             "#fb9f3a"
            ],
            [
             0.8888888888888888,
             "#fdca26"
            ],
            [
             1,
             "#f0f921"
            ]
           ],
           "sequentialminus": [
            [
             0,
             "#0d0887"
            ],
            [
             0.1111111111111111,
             "#46039f"
            ],
            [
             0.2222222222222222,
             "#7201a8"
            ],
            [
             0.3333333333333333,
             "#9c179e"
            ],
            [
             0.4444444444444444,
             "#bd3786"
            ],
            [
             0.5555555555555556,
             "#d8576b"
            ],
            [
             0.6666666666666666,
             "#ed7953"
            ],
            [
             0.7777777777777778,
             "#fb9f3a"
            ],
            [
             0.8888888888888888,
             "#fdca26"
            ],
            [
             1,
             "#f0f921"
            ]
           ]
          },
          "colorway": [
           "#636efa",
           "#EF553B",
           "#00cc96",
           "#ab63fa",
           "#FFA15A",
           "#19d3f3",
           "#FF6692",
           "#B6E880",
           "#FF97FF",
           "#FECB52"
          ],
          "font": {
           "color": "#2a3f5f"
          },
          "geo": {
           "bgcolor": "white",
           "lakecolor": "white",
           "landcolor": "#E5ECF6",
           "showlakes": true,
           "showland": true,
           "subunitcolor": "white"
          },
          "hoverlabel": {
           "align": "left"
          },
          "hovermode": "closest",
          "mapbox": {
           "style": "light"
          },
          "paper_bgcolor": "white",
          "plot_bgcolor": "#E5ECF6",
          "polar": {
           "angularaxis": {
            "gridcolor": "white",
            "linecolor": "white",
            "ticks": ""
           },
           "bgcolor": "#E5ECF6",
           "radialaxis": {
            "gridcolor": "white",
            "linecolor": "white",
            "ticks": ""
           }
          },
          "scene": {
           "xaxis": {
            "backgroundcolor": "#E5ECF6",
            "gridcolor": "white",
            "gridwidth": 2,
            "linecolor": "white",
            "showbackground": true,
            "ticks": "",
            "zerolinecolor": "white"
           },
           "yaxis": {
            "backgroundcolor": "#E5ECF6",
            "gridcolor": "white",
            "gridwidth": 2,
            "linecolor": "white",
            "showbackground": true,
            "ticks": "",
            "zerolinecolor": "white"
           },
           "zaxis": {
            "backgroundcolor": "#E5ECF6",
            "gridcolor": "white",
            "gridwidth": 2,
            "linecolor": "white",
            "showbackground": true,
            "ticks": "",
            "zerolinecolor": "white"
           }
          },
          "shapedefaults": {
           "line": {
            "color": "#2a3f5f"
           }
          },
          "ternary": {
           "aaxis": {
            "gridcolor": "white",
            "linecolor": "white",
            "ticks": ""
           },
           "baxis": {
            "gridcolor": "white",
            "linecolor": "white",
            "ticks": ""
           },
           "bgcolor": "#E5ECF6",
           "caxis": {
            "gridcolor": "white",
            "linecolor": "white",
            "ticks": ""
           }
          },
          "title": {
           "x": 0.05
          },
          "xaxis": {
           "automargin": true,
           "gridcolor": "white",
           "linecolor": "white",
           "ticks": "",
           "title": {
            "standoff": 15
           },
           "zerolinecolor": "white",
           "zerolinewidth": 2
          },
          "yaxis": {
           "automargin": true,
           "gridcolor": "white",
           "linecolor": "white",
           "ticks": "",
           "title": {
            "standoff": 15
           },
           "zerolinecolor": "white",
           "zerolinewidth": 2
          }
         }
        },
        "title": {
         "font": {
          "color": "#4D5663"
         },
         "text": "Año de integracion...."
        },
        "xaxis": {
         "gridcolor": "#E1E5ED",
         "showgrid": true,
         "tickfont": {
          "color": "#4D5663"
         },
         "title": {
          "font": {
           "color": "#4D5663"
          },
          "text": "Año"
         },
         "zerolinecolor": "#E1E5ED"
        },
        "yaxis": {
         "gridcolor": "#E1E5ED",
         "showgrid": true,
         "tickfont": {
          "color": "#4D5663"
         },
         "title": {
          "font": {
           "color": "#4D5663"
          },
          "text": "N. Empresas"
         },
         "zerolinecolor": "#E1E5ED"
        }
       }
      },
      "text/html": [
       "<div>\n",
       "        \n",
       "        \n",
       "            <div id=\"d1694df5-eb17-4a86-a56b-9c58d158e209\" class=\"plotly-graph-div\" style=\"height:525px; width:100%;\"></div>\n",
       "            <script type=\"text/javascript\">\n",
       "                require([\"plotly\"], function(Plotly) {\n",
       "                    window.PLOTLYENV=window.PLOTLYENV || {};\n",
       "                    window.PLOTLYENV.BASE_URL='https://plot.ly';\n",
       "                    \n",
       "                if (document.getElementById(\"d1694df5-eb17-4a86-a56b-9c58d158e209\")) {\n",
       "                    Plotly.newPlot(\n",
       "                        'd1694df5-eb17-4a86-a56b-9c58d158e209',\n",
       "                        [{\"marker\": {\"color\": \"rgba(255, 153, 51, 0.6)\", \"line\": {\"color\": \"rgba(255, 153, 51, 1.0)\", \"width\": 1}}, \"name\": \"A\\u00f1o\", \"orientation\": \"v\", \"text\": \"\", \"type\": \"bar\", \"x\": [2010, 2011, 2012, 2013, 2014, 2016, 2017, 2019], \"y\": [89, 7, 6, 1, 36, 19, 7, 191]}],\n",
       "                        {\"legend\": {\"bgcolor\": \"#F5F6F9\", \"font\": {\"color\": \"#4D5663\"}}, \"paper_bgcolor\": \"#F5F6F9\", \"plot_bgcolor\": \"#F5F6F9\", \"template\": {\"data\": {\"bar\": [{\"error_x\": {\"color\": \"#2a3f5f\"}, \"error_y\": {\"color\": \"#2a3f5f\"}, \"marker\": {\"line\": {\"color\": \"#E5ECF6\", \"width\": 0.5}}, \"type\": \"bar\"}], \"barpolar\": [{\"marker\": {\"line\": {\"color\": \"#E5ECF6\", \"width\": 0.5}}, \"type\": \"barpolar\"}], \"carpet\": [{\"aaxis\": {\"endlinecolor\": \"#2a3f5f\", \"gridcolor\": \"white\", \"linecolor\": \"white\", \"minorgridcolor\": \"white\", \"startlinecolor\": \"#2a3f5f\"}, \"baxis\": {\"endlinecolor\": \"#2a3f5f\", \"gridcolor\": \"white\", \"linecolor\": \"white\", \"minorgridcolor\": \"white\", \"startlinecolor\": \"#2a3f5f\"}, \"type\": \"carpet\"}], \"choropleth\": [{\"colorbar\": {\"outlinewidth\": 0, \"ticks\": \"\"}, \"type\": \"choropleth\"}], \"contour\": [{\"colorbar\": {\"outlinewidth\": 0, \"ticks\": \"\"}, \"colorscale\": [[0.0, \"#0d0887\"], [0.1111111111111111, \"#46039f\"], [0.2222222222222222, \"#7201a8\"], [0.3333333333333333, \"#9c179e\"], [0.4444444444444444, \"#bd3786\"], [0.5555555555555556, \"#d8576b\"], [0.6666666666666666, \"#ed7953\"], [0.7777777777777778, \"#fb9f3a\"], [0.8888888888888888, \"#fdca26\"], [1.0, \"#f0f921\"]], \"type\": \"contour\"}], \"contourcarpet\": [{\"colorbar\": {\"outlinewidth\": 0, \"ticks\": \"\"}, \"type\": \"contourcarpet\"}], \"heatmap\": [{\"colorbar\": {\"outlinewidth\": 0, \"ticks\": \"\"}, \"colorscale\": [[0.0, \"#0d0887\"], [0.1111111111111111, \"#46039f\"], [0.2222222222222222, \"#7201a8\"], [0.3333333333333333, \"#9c179e\"], [0.4444444444444444, \"#bd3786\"], [0.5555555555555556, \"#d8576b\"], [0.6666666666666666, \"#ed7953\"], [0.7777777777777778, \"#fb9f3a\"], [0.8888888888888888, \"#fdca26\"], [1.0, \"#f0f921\"]], \"type\": \"heatmap\"}], \"heatmapgl\": [{\"colorbar\": {\"outlinewidth\": 0, \"ticks\": \"\"}, \"colorscale\": [[0.0, \"#0d0887\"], [0.1111111111111111, \"#46039f\"], [0.2222222222222222, \"#7201a8\"], [0.3333333333333333, \"#9c179e\"], [0.4444444444444444, \"#bd3786\"], [0.5555555555555556, \"#d8576b\"], [0.6666666666666666, \"#ed7953\"], [0.7777777777777778, \"#fb9f3a\"], [0.8888888888888888, \"#fdca26\"], [1.0, \"#f0f921\"]], \"type\": \"heatmapgl\"}], \"histogram\": [{\"marker\": {\"colorbar\": {\"outlinewidth\": 0, \"ticks\": \"\"}}, \"type\": \"histogram\"}], \"histogram2d\": [{\"colorbar\": {\"outlinewidth\": 0, \"ticks\": \"\"}, \"colorscale\": [[0.0, \"#0d0887\"], [0.1111111111111111, \"#46039f\"], [0.2222222222222222, \"#7201a8\"], [0.3333333333333333, \"#9c179e\"], [0.4444444444444444, \"#bd3786\"], [0.5555555555555556, \"#d8576b\"], [0.6666666666666666, \"#ed7953\"], [0.7777777777777778, \"#fb9f3a\"], [0.8888888888888888, \"#fdca26\"], [1.0, \"#f0f921\"]], \"type\": \"histogram2d\"}], \"histogram2dcontour\": [{\"colorbar\": {\"outlinewidth\": 0, \"ticks\": \"\"}, \"colorscale\": [[0.0, \"#0d0887\"], [0.1111111111111111, \"#46039f\"], [0.2222222222222222, \"#7201a8\"], [0.3333333333333333, \"#9c179e\"], [0.4444444444444444, \"#bd3786\"], [0.5555555555555556, \"#d8576b\"], [0.6666666666666666, \"#ed7953\"], [0.7777777777777778, \"#fb9f3a\"], [0.8888888888888888, \"#fdca26\"], [1.0, \"#f0f921\"]], \"type\": \"histogram2dcontour\"}], \"mesh3d\": [{\"colorbar\": {\"outlinewidth\": 0, \"ticks\": \"\"}, \"type\": \"mesh3d\"}], \"parcoords\": [{\"line\": {\"colorbar\": {\"outlinewidth\": 0, \"ticks\": \"\"}}, \"type\": \"parcoords\"}], \"pie\": [{\"automargin\": true, \"type\": \"pie\"}], \"scatter\": [{\"marker\": {\"colorbar\": {\"outlinewidth\": 0, \"ticks\": \"\"}}, \"type\": \"scatter\"}], \"scatter3d\": [{\"line\": {\"colorbar\": {\"outlinewidth\": 0, \"ticks\": \"\"}}, \"marker\": {\"colorbar\": {\"outlinewidth\": 0, \"ticks\": \"\"}}, \"type\": \"scatter3d\"}], \"scattercarpet\": [{\"marker\": {\"colorbar\": {\"outlinewidth\": 0, \"ticks\": \"\"}}, \"type\": \"scattercarpet\"}], \"scattergeo\": [{\"marker\": {\"colorbar\": {\"outlinewidth\": 0, \"ticks\": \"\"}}, \"type\": \"scattergeo\"}], \"scattergl\": [{\"marker\": {\"colorbar\": {\"outlinewidth\": 0, \"ticks\": \"\"}}, \"type\": \"scattergl\"}], \"scattermapbox\": [{\"marker\": {\"colorbar\": {\"outlinewidth\": 0, \"ticks\": \"\"}}, \"type\": \"scattermapbox\"}], \"scatterpolar\": [{\"marker\": {\"colorbar\": {\"outlinewidth\": 0, \"ticks\": \"\"}}, \"type\": \"scatterpolar\"}], \"scatterpolargl\": [{\"marker\": {\"colorbar\": {\"outlinewidth\": 0, \"ticks\": \"\"}}, \"type\": \"scatterpolargl\"}], \"scatterternary\": [{\"marker\": {\"colorbar\": {\"outlinewidth\": 0, \"ticks\": \"\"}}, \"type\": \"scatterternary\"}], \"surface\": [{\"colorbar\": {\"outlinewidth\": 0, \"ticks\": \"\"}, \"colorscale\": [[0.0, \"#0d0887\"], [0.1111111111111111, \"#46039f\"], [0.2222222222222222, \"#7201a8\"], [0.3333333333333333, \"#9c179e\"], [0.4444444444444444, \"#bd3786\"], [0.5555555555555556, \"#d8576b\"], [0.6666666666666666, \"#ed7953\"], [0.7777777777777778, \"#fb9f3a\"], [0.8888888888888888, \"#fdca26\"], [1.0, \"#f0f921\"]], \"type\": \"surface\"}], \"table\": [{\"cells\": {\"fill\": {\"color\": \"#EBF0F8\"}, \"line\": {\"color\": \"white\"}}, \"header\": {\"fill\": {\"color\": \"#C8D4E3\"}, \"line\": {\"color\": \"white\"}}, \"type\": \"table\"}]}, \"layout\": {\"annotationdefaults\": {\"arrowcolor\": \"#2a3f5f\", \"arrowhead\": 0, \"arrowwidth\": 1}, \"coloraxis\": {\"colorbar\": {\"outlinewidth\": 0, \"ticks\": \"\"}}, \"colorscale\": {\"diverging\": [[0, \"#8e0152\"], [0.1, \"#c51b7d\"], [0.2, \"#de77ae\"], [0.3, \"#f1b6da\"], [0.4, \"#fde0ef\"], [0.5, \"#f7f7f7\"], [0.6, \"#e6f5d0\"], [0.7, \"#b8e186\"], [0.8, \"#7fbc41\"], [0.9, \"#4d9221\"], [1, \"#276419\"]], \"sequential\": [[0.0, \"#0d0887\"], [0.1111111111111111, \"#46039f\"], [0.2222222222222222, \"#7201a8\"], [0.3333333333333333, \"#9c179e\"], [0.4444444444444444, \"#bd3786\"], [0.5555555555555556, \"#d8576b\"], [0.6666666666666666, \"#ed7953\"], [0.7777777777777778, \"#fb9f3a\"], [0.8888888888888888, \"#fdca26\"], [1.0, \"#f0f921\"]], \"sequentialminus\": [[0.0, \"#0d0887\"], [0.1111111111111111, \"#46039f\"], [0.2222222222222222, \"#7201a8\"], [0.3333333333333333, \"#9c179e\"], [0.4444444444444444, \"#bd3786\"], [0.5555555555555556, \"#d8576b\"], [0.6666666666666666, \"#ed7953\"], [0.7777777777777778, \"#fb9f3a\"], [0.8888888888888888, \"#fdca26\"], [1.0, \"#f0f921\"]]}, \"colorway\": [\"#636efa\", \"#EF553B\", \"#00cc96\", \"#ab63fa\", \"#FFA15A\", \"#19d3f3\", \"#FF6692\", \"#B6E880\", \"#FF97FF\", \"#FECB52\"], \"font\": {\"color\": \"#2a3f5f\"}, \"geo\": {\"bgcolor\": \"white\", \"lakecolor\": \"white\", \"landcolor\": \"#E5ECF6\", \"showlakes\": true, \"showland\": true, \"subunitcolor\": \"white\"}, \"hoverlabel\": {\"align\": \"left\"}, \"hovermode\": \"closest\", \"mapbox\": {\"style\": \"light\"}, \"paper_bgcolor\": \"white\", \"plot_bgcolor\": \"#E5ECF6\", \"polar\": {\"angularaxis\": {\"gridcolor\": \"white\", \"linecolor\": \"white\", \"ticks\": \"\"}, \"bgcolor\": \"#E5ECF6\", \"radialaxis\": {\"gridcolor\": \"white\", \"linecolor\": \"white\", \"ticks\": \"\"}}, \"scene\": {\"xaxis\": {\"backgroundcolor\": \"#E5ECF6\", \"gridcolor\": \"white\", \"gridwidth\": 2, \"linecolor\": \"white\", \"showbackground\": true, \"ticks\": \"\", \"zerolinecolor\": \"white\"}, \"yaxis\": {\"backgroundcolor\": \"#E5ECF6\", \"gridcolor\": \"white\", \"gridwidth\": 2, \"linecolor\": \"white\", \"showbackground\": true, \"ticks\": \"\", \"zerolinecolor\": \"white\"}, \"zaxis\": {\"backgroundcolor\": \"#E5ECF6\", \"gridcolor\": \"white\", \"gridwidth\": 2, \"linecolor\": \"white\", \"showbackground\": true, \"ticks\": \"\", \"zerolinecolor\": \"white\"}}, \"shapedefaults\": {\"line\": {\"color\": \"#2a3f5f\"}}, \"ternary\": {\"aaxis\": {\"gridcolor\": \"white\", \"linecolor\": \"white\", \"ticks\": \"\"}, \"baxis\": {\"gridcolor\": \"white\", \"linecolor\": \"white\", \"ticks\": \"\"}, \"bgcolor\": \"#E5ECF6\", \"caxis\": {\"gridcolor\": \"white\", \"linecolor\": \"white\", \"ticks\": \"\"}}, \"title\": {\"x\": 0.05}, \"xaxis\": {\"automargin\": true, \"gridcolor\": \"white\", \"linecolor\": \"white\", \"ticks\": \"\", \"title\": {\"standoff\": 15}, \"zerolinecolor\": \"white\", \"zerolinewidth\": 2}, \"yaxis\": {\"automargin\": true, \"gridcolor\": \"white\", \"linecolor\": \"white\", \"ticks\": \"\", \"title\": {\"standoff\": 15}, \"zerolinecolor\": \"white\", \"zerolinewidth\": 2}}}, \"title\": {\"font\": {\"color\": \"#4D5663\"}, \"text\": \"A\\u00f1o de integracion....\"}, \"xaxis\": {\"gridcolor\": \"#E1E5ED\", \"showgrid\": true, \"tickfont\": {\"color\": \"#4D5663\"}, \"title\": {\"font\": {\"color\": \"#4D5663\"}, \"text\": \"A\\u00f1o\"}, \"zerolinecolor\": \"#E1E5ED\"}, \"yaxis\": {\"gridcolor\": \"#E1E5ED\", \"showgrid\": true, \"tickfont\": {\"color\": \"#4D5663\"}, \"title\": {\"font\": {\"color\": \"#4D5663\"}, \"text\": \"N. Empresas\"}, \"zerolinecolor\": \"#E1E5ED\"}},\n",
       "                        {\"showLink\": true, \"linkText\": \"Export to plot.ly\", \"plotlyServerURL\": \"https://plot.ly\", \"responsive\": true}\n",
       "                    ).then(function(){\n",
       "                            \n",
       "var gd = document.getElementById('d1694df5-eb17-4a86-a56b-9c58d158e209');\n",
       "var x = new MutationObserver(function (mutations, observer) {{\n",
       "        var display = window.getComputedStyle(gd).display;\n",
       "        if (!display || display === 'none') {{\n",
       "            console.log([gd, 'removed!']);\n",
       "            Plotly.purge(gd);\n",
       "            observer.disconnect();\n",
       "        }}\n",
       "}});\n",
       "\n",
       "// Listen for the removal of the full notebook cells\n",
       "var notebookContainer = gd.closest('#notebook-container');\n",
       "if (notebookContainer) {{\n",
       "    x.observe(notebookContainer, {childList: true});\n",
       "}}\n",
       "\n",
       "// Listen for the clearing of the current output cell\n",
       "var outputEl = gd.closest('.output');\n",
       "if (outputEl) {{\n",
       "    x.observe(outputEl, {childList: true});\n",
       "}}\n",
       "\n",
       "                        })\n",
       "                };\n",
       "                });\n",
       "            </script>\n",
       "        </div>"
      ]
     },
     "metadata": {},
     "output_type": "display_data"
    }
   ],
   "source": [
    "gm.iplot(x='index', y='Mes',kind='bar', xTitle='Mes',yTitle='N. Empresas', title='Mes de integración')\n",
    "gk.iplot(x='index', y='Año',kind='bar', xTitle='Año',yTitle='N. Empresas', title='Año de integracion....')\n"
   ]
  },
  {
   "cell_type": "code",
   "execution_count": 19,
   "metadata": {},
   "outputs": [
    {
     "data": {
      "text/html": [
       "<div>\n",
       "<style scoped>\n",
       "    .dataframe tbody tr th:only-of-type {\n",
       "        vertical-align: middle;\n",
       "    }\n",
       "\n",
       "    .dataframe tbody tr th {\n",
       "        vertical-align: top;\n",
       "    }\n",
       "\n",
       "    .dataframe thead th {\n",
       "        text-align: right;\n",
       "    }\n",
       "</style>\n",
       "<table border=\"1\" class=\"dataframe\">\n",
       "  <thead>\n",
       "    <tr style=\"text-align: right;\">\n",
       "      <th></th>\n",
       "      <th>index</th>\n",
       "      <th>Año</th>\n",
       "    </tr>\n",
       "  </thead>\n",
       "  <tbody>\n",
       "    <tr>\n",
       "      <th>6</th>\n",
       "      <td>2012</td>\n",
       "      <td>6</td>\n",
       "    </tr>\n",
       "    <tr>\n",
       "      <th>7</th>\n",
       "      <td>2013</td>\n",
       "      <td>1</td>\n",
       "    </tr>\n",
       "    <tr>\n",
       "      <th>2</th>\n",
       "      <td>2014</td>\n",
       "      <td>36</td>\n",
       "    </tr>\n",
       "    <tr>\n",
       "      <th>3</th>\n",
       "      <td>2016</td>\n",
       "      <td>19</td>\n",
       "    </tr>\n",
       "    <tr>\n",
       "      <th>4</th>\n",
       "      <td>2017</td>\n",
       "      <td>7</td>\n",
       "    </tr>\n",
       "  </tbody>\n",
       "</table>\n",
       "</div>"
      ],
      "text/plain": [
       "   index  Año\n",
       "6   2012    6\n",
       "7   2013    1\n",
       "2   2014   36\n",
       "3   2016   19\n",
       "4   2017    7"
      ]
     },
     "execution_count": 19,
     "metadata": {},
     "output_type": "execute_result"
    }
   ],
   "source": [
    "mask=(gk[\"index\"] > 2011) & (gk[\"index\"] < 2019)\n",
    "gk.loc[mask]\n"
   ]
  },
  {
   "cell_type": "code",
   "execution_count": null,
   "metadata": {},
   "outputs": [],
   "source": [
    "#Indice nacional de precios al consumidor"
   ]
  },
  {
   "cell_type": "code",
   "execution_count": 158,
   "metadata": {},
   "outputs": [
    {
     "data": {
      "text/html": [
       "<div>\n",
       "<style scoped>\n",
       "    .dataframe tbody tr th:only-of-type {\n",
       "        vertical-align: middle;\n",
       "    }\n",
       "\n",
       "    .dataframe tbody tr th {\n",
       "        vertical-align: top;\n",
       "    }\n",
       "\n",
       "    .dataframe thead th {\n",
       "        text-align: right;\n",
       "    }\n",
       "</style>\n",
       "<table border=\"1\" class=\"dataframe\">\n",
       "  <thead>\n",
       "    <tr style=\"text-align: right;\">\n",
       "      <th></th>\n",
       "      <th>AGEB</th>\n",
       "      <th>MZA</th>\n",
       "      <th>POBTOT</th>\n",
       "      <th>POBMAS</th>\n",
       "      <th>POBFEM</th>\n",
       "      <th>PEA</th>\n",
       "      <th>PEA_M</th>\n",
       "      <th>PEA_F</th>\n",
       "      <th>PE_INAC</th>\n",
       "      <th>PE_INAC_M</th>\n",
       "      <th>PE_INAC_F</th>\n",
       "      <th>clave</th>\n",
       "    </tr>\n",
       "  </thead>\n",
       "  <tbody>\n",
       "    <tr>\n",
       "      <th>0</th>\n",
       "      <td>0000</td>\n",
       "      <td>0</td>\n",
       "      <td>8851080</td>\n",
       "      <td>4233783</td>\n",
       "      <td>4617297</td>\n",
       "      <td>4035075</td>\n",
       "      <td>2389679</td>\n",
       "      <td>1645396</td>\n",
       "      <td>3017165</td>\n",
       "      <td>920594</td>\n",
       "      <td>2096571</td>\n",
       "      <td>0000-0</td>\n",
       "    </tr>\n",
       "    <tr>\n",
       "      <th>1</th>\n",
       "      <td>0000</td>\n",
       "      <td>0</td>\n",
       "      <td>414711</td>\n",
       "      <td>196053</td>\n",
       "      <td>218658</td>\n",
       "      <td>187402</td>\n",
       "      <td>108940</td>\n",
       "      <td>78462</td>\n",
       "      <td>151520</td>\n",
       "      <td>48844</td>\n",
       "      <td>102676</td>\n",
       "      <td>0000-0</td>\n",
       "    </tr>\n",
       "    <tr>\n",
       "      <th>2</th>\n",
       "      <td>0000</td>\n",
       "      <td>0</td>\n",
       "      <td>414711</td>\n",
       "      <td>196053</td>\n",
       "      <td>218658</td>\n",
       "      <td>187402</td>\n",
       "      <td>108940</td>\n",
       "      <td>78462</td>\n",
       "      <td>151520</td>\n",
       "      <td>48844</td>\n",
       "      <td>102676</td>\n",
       "      <td>0000-0</td>\n",
       "    </tr>\n",
       "    <tr>\n",
       "      <th>3</th>\n",
       "      <td>0010</td>\n",
       "      <td>0</td>\n",
       "      <td>3424</td>\n",
       "      <td>1600</td>\n",
       "      <td>1824</td>\n",
       "      <td>1398</td>\n",
       "      <td>789</td>\n",
       "      <td>609</td>\n",
       "      <td>1511</td>\n",
       "      <td>552</td>\n",
       "      <td>959</td>\n",
       "      <td>0010-0</td>\n",
       "    </tr>\n",
       "    <tr>\n",
       "      <th>4</th>\n",
       "      <td>0010</td>\n",
       "      <td>1</td>\n",
       "      <td>202</td>\n",
       "      <td>96</td>\n",
       "      <td>106</td>\n",
       "      <td>75</td>\n",
       "      <td>47</td>\n",
       "      <td>28</td>\n",
       "      <td>97</td>\n",
       "      <td>37</td>\n",
       "      <td>60</td>\n",
       "      <td>0010-1</td>\n",
       "    </tr>\n",
       "  </tbody>\n",
       "</table>\n",
       "</div>"
      ],
      "text/plain": [
       "   AGEB  MZA   POBTOT   POBMAS   POBFEM      PEA    PEA_M    PEA_F  PE_INAC  \\\n",
       "0  0000    0  8851080  4233783  4617297  4035075  2389679  1645396  3017165   \n",
       "1  0000    0   414711   196053   218658   187402   108940    78462   151520   \n",
       "2  0000    0   414711   196053   218658   187402   108940    78462   151520   \n",
       "3  0010    0     3424     1600     1824     1398      789      609     1511   \n",
       "4  0010    1      202       96      106       75       47       28       97   \n",
       "\n",
       "  PE_INAC_M PE_INAC_F   clave  \n",
       "0    920594   2096571  0000-0  \n",
       "1     48844    102676  0000-0  \n",
       "2     48844    102676  0000-0  \n",
       "3       552       959  0010-0  \n",
       "4        37        60  0010-1  "
      ]
     },
     "execution_count": 158,
     "metadata": {},
     "output_type": "execute_result"
    }
   ],
   "source": [
    "poblaT = pd.read_csv('pobclave.csv')\n",
    "pobT.head()"
   ]
  },
  {
   "cell_type": "code",
   "execution_count": 32,
   "metadata": {},
   "outputs": [
    {
     "name": "stdout",
     "output_type": "stream",
     "text": [
      "<class 'pandas.core.frame.DataFrame'>\n",
      "RangeIndex: 356 entries, 0 to 355\n",
      "Data columns (total 16 columns):\n",
      "Unnamed: 0    356 non-null int32\n",
      "id            356 non-null int32\n",
      "nom_estab     356 non-null category\n",
      "codigo_act    356 non-null int32\n",
      "nombre_act    356 non-null category\n",
      "tipoCenCom    87 non-null category\n",
      "per_ocu       356 non-null category\n",
      "tipoUniEco    356 non-null category\n",
      "ageb          356 non-null category\n",
      "manzana       356 non-null float32\n",
      "latitud       356 non-null float32\n",
      "longitud      356 non-null float32\n",
      "fecha_alta    356 non-null datetime64[ns]\n",
      "www           182 non-null category\n",
      "Año           356 non-null int16\n",
      "Mes           356 non-null int8\n",
      "dtypes: category(7), datetime64[ns](1), float32(3), int16(1), int32(3), int8(1)\n",
      "memory usage: 13.9 MB\n"
     ]
    },
    {
     "data": {
      "text/html": [
       "<div>\n",
       "<style scoped>\n",
       "    .dataframe tbody tr th:only-of-type {\n",
       "        vertical-align: middle;\n",
       "    }\n",
       "\n",
       "    .dataframe tbody tr th {\n",
       "        vertical-align: top;\n",
       "    }\n",
       "\n",
       "    .dataframe thead th {\n",
       "        text-align: right;\n",
       "    }\n",
       "</style>\n",
       "<table border=\"1\" class=\"dataframe\">\n",
       "  <thead>\n",
       "    <tr style=\"text-align: right;\">\n",
       "      <th></th>\n",
       "      <th>Unnamed: 0</th>\n",
       "      <th>id</th>\n",
       "      <th>nom_estab</th>\n",
       "      <th>codigo_act</th>\n",
       "      <th>nombre_act</th>\n",
       "      <th>tipoCenCom</th>\n",
       "      <th>per_ocu</th>\n",
       "      <th>tipoUniEco</th>\n",
       "      <th>ageb</th>\n",
       "      <th>manzana</th>\n",
       "      <th>latitud</th>\n",
       "      <th>longitud</th>\n",
       "      <th>fecha_alta</th>\n",
       "      <th>www</th>\n",
       "      <th>Año</th>\n",
       "      <th>Mes</th>\n",
       "    </tr>\n",
       "  </thead>\n",
       "  <tbody>\n",
       "    <tr>\n",
       "      <th>0</th>\n",
       "      <td>708</td>\n",
       "      <td>6729302</td>\n",
       "      <td>BURO DE CONSTRUCCIÓN DE DISENO, SA DE CV</td>\n",
       "      <td>236221</td>\n",
       "      <td>Edificación de inmuebles comerciales y de serv...</td>\n",
       "      <td>NaN</td>\n",
       "      <td>11 a 30 personas</td>\n",
       "      <td>Fijo</td>\n",
       "      <td>1341</td>\n",
       "      <td>19.0</td>\n",
       "      <td>19.409575</td>\n",
       "      <td>-99.169632</td>\n",
       "      <td>2016-01-01</td>\n",
       "      <td>NaN</td>\n",
       "      <td>2016</td>\n",
       "      <td>1</td>\n",
       "    </tr>\n",
       "    <tr>\n",
       "      <th>1</th>\n",
       "      <td>1054</td>\n",
       "      <td>8286189</td>\n",
       "      <td>CONSTRUCTORA Y REMODELADORA DE OFICINAS</td>\n",
       "      <td>236221</td>\n",
       "      <td>Edificación de inmuebles comerciales y de serv...</td>\n",
       "      <td>NaN</td>\n",
       "      <td>11 a 30 personas</td>\n",
       "      <td>Fijo</td>\n",
       "      <td>1110</td>\n",
       "      <td>2.0</td>\n",
       "      <td>19.416512</td>\n",
       "      <td>-99.155670</td>\n",
       "      <td>2019-11-01</td>\n",
       "      <td>NaN</td>\n",
       "      <td>2019</td>\n",
       "      <td>11</td>\n",
       "    </tr>\n",
       "    <tr>\n",
       "      <th>2</th>\n",
       "      <td>1272</td>\n",
       "      <td>957422</td>\n",
       "      <td>EDISA EDIFICACIÓN Y DISENOS, SA DE CV</td>\n",
       "      <td>236221</td>\n",
       "      <td>Edificación de inmuebles comerciales y de serv...</td>\n",
       "      <td>NaN</td>\n",
       "      <td>51 a 100 personas</td>\n",
       "      <td>Fijo</td>\n",
       "      <td>120A</td>\n",
       "      <td>2.0</td>\n",
       "      <td>19.414587</td>\n",
       "      <td>-99.165863</td>\n",
       "      <td>2010-07-01</td>\n",
       "      <td>NaN</td>\n",
       "      <td>2010</td>\n",
       "      <td>7</td>\n",
       "    </tr>\n",
       "    <tr>\n",
       "      <th>3</th>\n",
       "      <td>4308</td>\n",
       "      <td>1029505</td>\n",
       "      <td>DISEÑADOR PEDRO LOREDO ALTA COSTURA</td>\n",
       "      <td>315225</td>\n",
       "      <td>Confección de prendas de vestir sobre medida</td>\n",
       "      <td>NaN</td>\n",
       "      <td>0 a 5 personas</td>\n",
       "      <td>Fijo</td>\n",
       "      <td>1093</td>\n",
       "      <td>14.0</td>\n",
       "      <td>19.418684</td>\n",
       "      <td>-99.169586</td>\n",
       "      <td>2010-07-01</td>\n",
       "      <td>NaN</td>\n",
       "      <td>2010</td>\n",
       "      <td>7</td>\n",
       "    </tr>\n",
       "    <tr>\n",
       "      <th>4</th>\n",
       "      <td>4317</td>\n",
       "      <td>1029455</td>\n",
       "      <td>DISEÑO DE MODAS ALEJANDRO PONCE</td>\n",
       "      <td>315225</td>\n",
       "      <td>Confección de prendas de vestir sobre medida</td>\n",
       "      <td>NaN</td>\n",
       "      <td>0 a 5 personas</td>\n",
       "      <td>Fijo</td>\n",
       "      <td>1093</td>\n",
       "      <td>13.0</td>\n",
       "      <td>19.418406</td>\n",
       "      <td>-99.169518</td>\n",
       "      <td>2010-07-01</td>\n",
       "      <td>WWW.ALEJANDROPONCE.COM.MX</td>\n",
       "      <td>2010</td>\n",
       "      <td>7</td>\n",
       "    </tr>\n",
       "  </tbody>\n",
       "</table>\n",
       "</div>"
      ],
      "text/plain": [
       "   Unnamed: 0       id                                 nom_estab  codigo_act  \\\n",
       "0         708  6729302  BURO DE CONSTRUCCIÓN DE DISENO, SA DE CV      236221   \n",
       "1        1054  8286189   CONSTRUCTORA Y REMODELADORA DE OFICINAS      236221   \n",
       "2        1272   957422     EDISA EDIFICACIÓN Y DISENOS, SA DE CV      236221   \n",
       "3        4308  1029505       DISEÑADOR PEDRO LOREDO ALTA COSTURA      315225   \n",
       "4        4317  1029455           DISEÑO DE MODAS ALEJANDRO PONCE      315225   \n",
       "\n",
       "                                          nombre_act tipoCenCom  \\\n",
       "0  Edificación de inmuebles comerciales y de serv...        NaN   \n",
       "1  Edificación de inmuebles comerciales y de serv...        NaN   \n",
       "2  Edificación de inmuebles comerciales y de serv...        NaN   \n",
       "3       Confección de prendas de vestir sobre medida        NaN   \n",
       "4       Confección de prendas de vestir sobre medida        NaN   \n",
       "\n",
       "             per_ocu tipoUniEco  ageb  manzana    latitud   longitud  \\\n",
       "0   11 a 30 personas       Fijo  1341     19.0  19.409575 -99.169632   \n",
       "1   11 a 30 personas       Fijo  1110      2.0  19.416512 -99.155670   \n",
       "2  51 a 100 personas       Fijo  120A      2.0  19.414587 -99.165863   \n",
       "3     0 a 5 personas       Fijo  1093     14.0  19.418684 -99.169586   \n",
       "4     0 a 5 personas       Fijo  1093     13.0  19.418406 -99.169518   \n",
       "\n",
       "  fecha_alta                        www   Año  Mes  \n",
       "0 2016-01-01                        NaN  2016    1  \n",
       "1 2019-11-01                        NaN  2019   11  \n",
       "2 2010-07-01                        NaN  2010    7  \n",
       "3 2010-07-01                        NaN  2010    7  \n",
       "4 2010-07-01  WWW.ALEJANDROPONCE.COM.MX  2010    7  "
      ]
     },
     "execution_count": 32,
     "metadata": {},
     "output_type": "execute_result"
    }
   ],
   "source": [
    "d.info()\n",
    "d.head()"
   ]
  },
  {
   "cell_type": "code",
   "execution_count": 159,
   "metadata": {
    "scrolled": true
   },
   "outputs": [
    {
     "data": {
      "text/html": [
       "<div>\n",
       "<style scoped>\n",
       "    .dataframe tbody tr th:only-of-type {\n",
       "        vertical-align: middle;\n",
       "    }\n",
       "\n",
       "    .dataframe tbody tr th {\n",
       "        vertical-align: top;\n",
       "    }\n",
       "\n",
       "    .dataframe thead th {\n",
       "        text-align: right;\n",
       "    }\n",
       "</style>\n",
       "<table border=\"1\" class=\"dataframe\">\n",
       "  <thead>\n",
       "    <tr style=\"text-align: right;\">\n",
       "      <th></th>\n",
       "      <th>AGEB</th>\n",
       "      <th>MZA</th>\n",
       "      <th>POBTOT</th>\n",
       "      <th>POBMAS</th>\n",
       "      <th>POBFEM</th>\n",
       "      <th>PEA</th>\n",
       "      <th>PEA_M</th>\n",
       "      <th>PEA_F</th>\n",
       "      <th>PE_INAC</th>\n",
       "      <th>PE_INAC_M</th>\n",
       "      <th>PE_INAC_F</th>\n",
       "      <th>clave</th>\n",
       "    </tr>\n",
       "  </thead>\n",
       "  <tbody>\n",
       "    <tr>\n",
       "      <th>1812</th>\n",
       "      <td>0678</td>\n",
       "      <td>2</td>\n",
       "      <td>470</td>\n",
       "      <td>220</td>\n",
       "      <td>250</td>\n",
       "      <td>246</td>\n",
       "      <td>134</td>\n",
       "      <td>112</td>\n",
       "      <td>167</td>\n",
       "      <td>57</td>\n",
       "      <td>110</td>\n",
       "      <td>0678-2</td>\n",
       "    </tr>\n",
       "    <tr>\n",
       "      <th>1813</th>\n",
       "      <td>0678</td>\n",
       "      <td>3</td>\n",
       "      <td>426</td>\n",
       "      <td>207</td>\n",
       "      <td>219</td>\n",
       "      <td>217</td>\n",
       "      <td>112</td>\n",
       "      <td>105</td>\n",
       "      <td>104</td>\n",
       "      <td>40</td>\n",
       "      <td>64</td>\n",
       "      <td>0678-3</td>\n",
       "    </tr>\n",
       "    <tr>\n",
       "      <th>1814</th>\n",
       "      <td>0678</td>\n",
       "      <td>4</td>\n",
       "      <td>433</td>\n",
       "      <td>186</td>\n",
       "      <td>247</td>\n",
       "      <td>218</td>\n",
       "      <td>109</td>\n",
       "      <td>109</td>\n",
       "      <td>144</td>\n",
       "      <td>44</td>\n",
       "      <td>100</td>\n",
       "      <td>0678-4</td>\n",
       "    </tr>\n",
       "    <tr>\n",
       "      <th>1837</th>\n",
       "      <td>0682</td>\n",
       "      <td>4</td>\n",
       "      <td>235</td>\n",
       "      <td>103</td>\n",
       "      <td>132</td>\n",
       "      <td>102</td>\n",
       "      <td>53</td>\n",
       "      <td>49</td>\n",
       "      <td>99</td>\n",
       "      <td>36</td>\n",
       "      <td>63</td>\n",
       "      <td>0682-4</td>\n",
       "    </tr>\n",
       "    <tr>\n",
       "      <th>1839</th>\n",
       "      <td>0682</td>\n",
       "      <td>6</td>\n",
       "      <td>391</td>\n",
       "      <td>186</td>\n",
       "      <td>205</td>\n",
       "      <td>182</td>\n",
       "      <td>102</td>\n",
       "      <td>80</td>\n",
       "      <td>152</td>\n",
       "      <td>54</td>\n",
       "      <td>98</td>\n",
       "      <td>0682-6</td>\n",
       "    </tr>\n",
       "  </tbody>\n",
       "</table>\n",
       "</div>"
      ],
      "text/plain": [
       "      AGEB  MZA  POBTOT POBMAS POBFEM  PEA PEA_M PEA_F PE_INAC PE_INAC_M  \\\n",
       "1812  0678    2     470    220    250  246   134   112     167        57   \n",
       "1813  0678    3     426    207    219  217   112   105     104        40   \n",
       "1814  0678    4     433    186    247  218   109   109     144        44   \n",
       "1837  0682    4     235    103    132  102    53    49      99        36   \n",
       "1839  0682    6     391    186    205  182   102    80     152        54   \n",
       "\n",
       "     PE_INAC_F   clave  \n",
       "1812       110  0678-2  \n",
       "1813        64  0678-3  \n",
       "1814       100  0678-4  \n",
       "1837        63  0682-4  \n",
       "1839        98  0682-6  "
      ]
     },
     "execution_count": 159,
     "metadata": {},
     "output_type": "execute_result"
    }
   ],
   "source": [
    "p=d.clave\n",
    "len(p)\n",
    "dx=pobT[pobT[\"clave\"].isin(p)]\n",
    "\n",
    "dx.head()\n"
   ]
  },
  {
   "cell_type": "code",
   "execution_count": null,
   "metadata": {},
   "outputs": [],
   "source": []
  }
 ],
 "metadata": {
  "kernelspec": {
   "display_name": "Python 3",
   "language": "python",
   "name": "python3"
  },
  "language_info": {
   "codemirror_mode": {
    "name": "ipython",
    "version": 3
   },
   "file_extension": ".py",
   "mimetype": "text/x-python",
   "name": "python",
   "nbconvert_exporter": "python",
   "pygments_lexer": "ipython3",
   "version": "3.7.3"
  }
 },
 "nbformat": 4,
 "nbformat_minor": 2
}
