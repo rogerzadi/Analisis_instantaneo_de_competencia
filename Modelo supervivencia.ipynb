{
 "cells": [
  {
   "cell_type": "code",
   "execution_count": 1,
   "metadata": {},
   "outputs": [],
   "source": [
    "import json\n",
    "import requests\n",
    "import pandas as pd\n",
    "import folium \n"
   ]
  },
  {
   "cell_type": "code",
   "execution_count": 352,
   "metadata": {},
   "outputs": [],
   "source": [
    "giro=\"ropa\"\n",
    "long=19.421336 \n",
    "lat=-99.162700\n",
    "mts=1000"
   ]
  },
  {
   "cell_type": "code",
   "execution_count": 353,
   "metadata": {},
   "outputs": [
    {
     "name": "stdout",
     "output_type": "stream",
     "text": [
      "127\n"
     ]
    },
    {
     "data": {
      "text/html": [
       "<div>\n",
       "<style scoped>\n",
       "    .dataframe tbody tr th:only-of-type {\n",
       "        vertical-align: middle;\n",
       "    }\n",
       "\n",
       "    .dataframe tbody tr th {\n",
       "        vertical-align: top;\n",
       "    }\n",
       "\n",
       "    .dataframe thead th {\n",
       "        text-align: right;\n",
       "    }\n",
       "</style>\n",
       "<table border=\"1\" class=\"dataframe\">\n",
       "  <thead>\n",
       "    <tr style=\"text-align: right;\">\n",
       "      <th></th>\n",
       "      <th>CP</th>\n",
       "      <th>Calle</th>\n",
       "      <th>CentroComercial</th>\n",
       "      <th>Clase_actividad</th>\n",
       "      <th>Colonia</th>\n",
       "      <th>Correo_e</th>\n",
       "      <th>Estrato</th>\n",
       "      <th>Id</th>\n",
       "      <th>Latitud</th>\n",
       "      <th>Longitud</th>\n",
       "      <th>...</th>\n",
       "      <th>NumLocal</th>\n",
       "      <th>Num_Exterior</th>\n",
       "      <th>Num_Interior</th>\n",
       "      <th>Razon_social</th>\n",
       "      <th>Sitio_internet</th>\n",
       "      <th>Telefono</th>\n",
       "      <th>Tipo</th>\n",
       "      <th>TipoCentroComercial</th>\n",
       "      <th>Tipo_vialidad</th>\n",
       "      <th>Ubicacion</th>\n",
       "    </tr>\n",
       "  </thead>\n",
       "  <tbody>\n",
       "    <tr>\n",
       "      <th>0</th>\n",
       "      <td>06700</td>\n",
       "      <td>CHAPULTEPEC</td>\n",
       "      <td></td>\n",
       "      <td>Comercio al por menor de ropa, excepto de bebé...</td>\n",
       "      <td>ROMA NORTE</td>\n",
       "      <td></td>\n",
       "      <td>0 a 5 personas</td>\n",
       "      <td>1028566</td>\n",
       "      <td>19.42291204</td>\n",
       "      <td>-99.16300694</td>\n",
       "      <td>...</td>\n",
       "      <td></td>\n",
       "      <td></td>\n",
       "      <td></td>\n",
       "      <td></td>\n",
       "      <td>WWW.ERICK-MARBOUTIQUE.COM.MX</td>\n",
       "      <td></td>\n",
       "      <td>Fijo</td>\n",
       "      <td></td>\n",
       "      <td>AVENIDA</td>\n",
       "      <td>CUAUHTÉMOC, Cuauhtémoc, CIUDAD DE MÉXICO</td>\n",
       "    </tr>\n",
       "    <tr>\n",
       "      <th>1</th>\n",
       "      <td>06700</td>\n",
       "      <td>OAXACA</td>\n",
       "      <td></td>\n",
       "      <td>Confección de prendas de vestir sobre medida</td>\n",
       "      <td>ROMA NORTE</td>\n",
       "      <td></td>\n",
       "      <td>0 a 5 personas</td>\n",
       "      <td>7732571</td>\n",
       "      <td>19.42267289</td>\n",
       "      <td>-99.16370774</td>\n",
       "      <td>...</td>\n",
       "      <td></td>\n",
       "      <td>12</td>\n",
       "      <td></td>\n",
       "      <td>SHAILLA VALDERRAMA LOYOLA</td>\n",
       "      <td></td>\n",
       "      <td></td>\n",
       "      <td>Fijo</td>\n",
       "      <td></td>\n",
       "      <td>AVENIDA</td>\n",
       "      <td>CUAUHTÉMOC, Cuauhtémoc, CIUDAD DE MÉXICO</td>\n",
       "    </tr>\n",
       "    <tr>\n",
       "      <th>2</th>\n",
       "      <td>06700</td>\n",
       "      <td>JALAPA</td>\n",
       "      <td></td>\n",
       "      <td>Comercio al por menor de artículos usados</td>\n",
       "      <td>ROMA NORTE</td>\n",
       "      <td></td>\n",
       "      <td>0 a 5 personas</td>\n",
       "      <td>8386350</td>\n",
       "      <td>19.42303170</td>\n",
       "      <td>-99.16240274</td>\n",
       "      <td>...</td>\n",
       "      <td></td>\n",
       "      <td>13</td>\n",
       "      <td></td>\n",
       "      <td>VENTA DE ROPA USADA</td>\n",
       "      <td></td>\n",
       "      <td></td>\n",
       "      <td>Fijo</td>\n",
       "      <td></td>\n",
       "      <td>CALLE</td>\n",
       "      <td>CUAUHTÉMOC, Cuauhtémoc, CIUDAD DE MÉXICO</td>\n",
       "    </tr>\n",
       "    <tr>\n",
       "      <th>3</th>\n",
       "      <td>06700</td>\n",
       "      <td>INSURGENTES SUR</td>\n",
       "      <td>NO ME LO PROPORCIONARON</td>\n",
       "      <td>Fabricación de ropa exterior de tejido de punto</td>\n",
       "      <td>ROMA NORTE</td>\n",
       "      <td>ISPANACAPITAL@HOTMAIL.COM</td>\n",
       "      <td>0 a 5 personas</td>\n",
       "      <td>657665</td>\n",
       "      <td>19.41977970</td>\n",
       "      <td>-99.16400320</td>\n",
       "      <td>...</td>\n",
       "      <td>216</td>\n",
       "      <td>216</td>\n",
       "      <td>0</td>\n",
       "      <td></td>\n",
       "      <td></td>\n",
       "      <td></td>\n",
       "      <td>Fijo</td>\n",
       "      <td>EDIFICIO COMERCIAL Y DE SERVICIOS</td>\n",
       "      <td>AVENIDA</td>\n",
       "      <td>CUAUHTÉMOC, Cuauhtémoc, CIUDAD DE MÉXICO</td>\n",
       "    </tr>\n",
       "    <tr>\n",
       "      <th>4</th>\n",
       "      <td>06700</td>\n",
       "      <td>JALAPA</td>\n",
       "      <td></td>\n",
       "      <td>Comercio al por menor de ropa, excepto de bebé...</td>\n",
       "      <td>ROMA NORTE</td>\n",
       "      <td>LEMURSHOP@GMAIL.COM</td>\n",
       "      <td>0 a 5 personas</td>\n",
       "      <td>1029621</td>\n",
       "      <td>19.41941920</td>\n",
       "      <td>-99.16151743</td>\n",
       "      <td>...</td>\n",
       "      <td></td>\n",
       "      <td>85</td>\n",
       "      <td>0</td>\n",
       "      <td></td>\n",
       "      <td></td>\n",
       "      <td></td>\n",
       "      <td>Fijo</td>\n",
       "      <td></td>\n",
       "      <td>CALLE</td>\n",
       "      <td>CUAUHTÉMOC, Cuauhtémoc, CIUDAD DE MÉXICO</td>\n",
       "    </tr>\n",
       "  </tbody>\n",
       "</table>\n",
       "<p>5 rows × 21 columns</p>\n",
       "</div>"
      ],
      "text/plain": [
       "      CP            Calle          CentroComercial  \\\n",
       "0  06700      CHAPULTEPEC                            \n",
       "1  06700           OAXACA                            \n",
       "2  06700           JALAPA                            \n",
       "3  06700  INSURGENTES SUR  NO ME LO PROPORCIONARON   \n",
       "4  06700           JALAPA                            \n",
       "\n",
       "                                     Clase_actividad     Colonia  \\\n",
       "0  Comercio al por menor de ropa, excepto de bebé...  ROMA NORTE   \n",
       "1       Confección de prendas de vestir sobre medida  ROMA NORTE   \n",
       "2          Comercio al por menor de artículos usados  ROMA NORTE   \n",
       "3    Fabricación de ropa exterior de tejido de punto  ROMA NORTE   \n",
       "4  Comercio al por menor de ropa, excepto de bebé...  ROMA NORTE   \n",
       "\n",
       "                    Correo_e         Estrato       Id      Latitud  \\\n",
       "0                             0 a 5 personas  1028566  19.42291204   \n",
       "1                             0 a 5 personas  7732571  19.42267289   \n",
       "2                             0 a 5 personas  8386350  19.42303170   \n",
       "3  ISPANACAPITAL@HOTMAIL.COM  0 a 5 personas   657665  19.41977970   \n",
       "4        LEMURSHOP@GMAIL.COM  0 a 5 personas  1029621  19.41941920   \n",
       "\n",
       "       Longitud  ... NumLocal Num_Exterior Num_Interior  \\\n",
       "0  -99.16300694  ...                                      \n",
       "1  -99.16370774  ...                    12                \n",
       "2  -99.16240274  ...                    13                \n",
       "3  -99.16400320  ...      216          216            0   \n",
       "4  -99.16151743  ...                    85            0   \n",
       "\n",
       "                 Razon_social                Sitio_internet Telefono  Tipo  \\\n",
       "0                              WWW.ERICK-MARBOUTIQUE.COM.MX           Fijo   \n",
       "1  SHAILLA VALDERRAMA LOYOLA                                          Fijo   \n",
       "2        VENTA DE ROPA USADA                                          Fijo   \n",
       "3                                                                     Fijo   \n",
       "4                                                                     Fijo   \n",
       "\n",
       "                 TipoCentroComercial Tipo_vialidad  \\\n",
       "0                                          AVENIDA   \n",
       "1                                          AVENIDA   \n",
       "2                                            CALLE   \n",
       "3  EDIFICIO COMERCIAL Y DE SERVICIOS       AVENIDA   \n",
       "4                                            CALLE   \n",
       "\n",
       "                                  Ubicacion  \n",
       "0  CUAUHTÉMOC, Cuauhtémoc, CIUDAD DE MÉXICO  \n",
       "1  CUAUHTÉMOC, Cuauhtémoc, CIUDAD DE MÉXICO  \n",
       "2  CUAUHTÉMOC, Cuauhtémoc, CIUDAD DE MÉXICO  \n",
       "3  CUAUHTÉMOC, Cuauhtémoc, CIUDAD DE MÉXICO  \n",
       "4  CUAUHTÉMOC, Cuauhtémoc, CIUDAD DE MÉXICO  \n",
       "\n",
       "[5 rows x 21 columns]"
      ]
     },
     "execution_count": 353,
     "metadata": {},
     "output_type": "execute_result"
    }
   ],
   "source": [
    "response = requests.get(\"https://www.inegi.org.mx/app/api/denue/v1/consulta/Buscar/{}/{},{}/{}/44522d01-cae7-455b-9b53-7fc7d481cecb\".format(giro,long,lat,mts))\n",
    "results = response.json()\n",
    "\n",
    "data = pd.DataFrame(response.json())\n",
    "print(len(data))\n",
    "data.head()\n"
   ]
  },
  {
   "cell_type": "code",
   "execution_count": 354,
   "metadata": {},
   "outputs": [
    {
     "data": {
      "text/plain": [
       "Comercio al por menor de ropa, excepto de bebé y lencería                                 102\n",
       "Confección en serie de otra ropa exterior de materiales textiles                            9\n",
       "Comercio al por mayor de ropa, bisutería y accesorios de vestir                             4\n",
       "Comercio al por menor de artículos usados                                                   3\n",
       "Confección de prendas de vestir sobre medida                                                2\n",
       "Fabricación de ropa exterior de tejido de punto                                             2\n",
       "Comercio al por menor de ropa de cuero y piel y de otros artículos de estos materiales      2\n",
       "Comercio al por menor de artículos y aparatos deportivos                                    1\n",
       "Comercio al por menor de ropa de bebé                                                       1\n",
       "Alquiler de prendas de vestir                                                               1\n",
       "Name: Clase_actividad, dtype: int64"
      ]
     },
     "execution_count": 354,
     "metadata": {},
     "output_type": "execute_result"
    }
   ],
   "source": [
    "www=data.Estrato.value_counts()\n",
    "sss=data.Clase_actividad.value_counts()\n",
    "sss"
   ]
  },
  {
   "cell_type": "code",
   "execution_count": 355,
   "metadata": {},
   "outputs": [
    {
     "name": "stdout",
     "output_type": "stream",
     "text": [
      "<class 'pandas.core.frame.DataFrame'>\n",
      "RangeIndex: 466301 entries, 0 to 466300\n",
      "Data columns (total 16 columns):\n",
      "Unnamed: 0    466301 non-null int64\n",
      "id            466301 non-null int64\n",
      "nom_estab     466301 non-null object\n",
      "codigo_act    466301 non-null int64\n",
      "nombre_act    466301 non-null object\n",
      "tipoCenCom    88178 non-null object\n",
      "per_ocu       466301 non-null object\n",
      "tipoUniEco    466301 non-null object\n",
      "ageb          466285 non-null object\n",
      "manzana       466285 non-null float64\n",
      "latitud       466301 non-null float64\n",
      "longitud      466301 non-null float64\n",
      "fecha_alta    466301 non-null object\n",
      "www           37279 non-null object\n",
      "Año           466301 non-null int64\n",
      "Mes           466301 non-null int64\n",
      "dtypes: float64(3), int64(5), object(8)\n",
      "memory usage: 56.9+ MB\n"
     ]
    }
   ],
   "source": [
    "info = pd.read_csv('../info.csv')\n",
    "info.info()"
   ]
  },
  {
   "cell_type": "code",
   "execution_count": 356,
   "metadata": {},
   "outputs": [],
   "source": [
    "\n",
    "\n",
    "#for e in info.select_dtypes('object').columns:\n",
    " #   info[e]=info[e].astype('category')\n",
    "for e in info.select_dtypes('integer').columns:\n",
    "    info[e]=pd.to_numeric(info[e], downcast='integer')\n",
    "for e in info.select_dtypes('float').columns:\n",
    "    info[e]=pd.to_numeric(info[e], downcast='float')  \n",
    "    \n",
    "info[\"fecha_alta\"]=pd.to_datetime(info.fecha_alta)\n",
    "\n",
    "\n"
   ]
  },
  {
   "cell_type": "code",
   "execution_count": 357,
   "metadata": {},
   "outputs": [
    {
     "name": "stdout",
     "output_type": "stream",
     "text": [
      "<class 'pandas.core.frame.DataFrame'>\n",
      "RangeIndex: 127 entries, 0 to 126\n",
      "Data columns (total 16 columns):\n",
      "Unnamed: 0    127 non-null int32\n",
      "id            127 non-null int32\n",
      "nom_estab     127 non-null object\n",
      "codigo_act    127 non-null int32\n",
      "nombre_act    127 non-null object\n",
      "tipoCenCom    27 non-null object\n",
      "per_ocu       127 non-null object\n",
      "tipoUniEco    127 non-null object\n",
      "ageb          127 non-null object\n",
      "manzana       127 non-null float32\n",
      "latitud       127 non-null float32\n",
      "longitud      127 non-null float32\n",
      "fecha_alta    127 non-null datetime64[ns]\n",
      "www           60 non-null object\n",
      "Año           127 non-null int16\n",
      "Mes           127 non-null int8\n",
      "dtypes: datetime64[ns](1), float32(3), int16(1), int32(3), int8(1), object(7)\n",
      "memory usage: 11.4+ KB\n"
     ]
    },
    {
     "data": {
      "text/html": [
       "<div>\n",
       "<style scoped>\n",
       "    .dataframe tbody tr th:only-of-type {\n",
       "        vertical-align: middle;\n",
       "    }\n",
       "\n",
       "    .dataframe tbody tr th {\n",
       "        vertical-align: top;\n",
       "    }\n",
       "\n",
       "    .dataframe thead th {\n",
       "        text-align: right;\n",
       "    }\n",
       "</style>\n",
       "<table border=\"1\" class=\"dataframe\">\n",
       "  <thead>\n",
       "    <tr style=\"text-align: right;\">\n",
       "      <th></th>\n",
       "      <th>Unnamed: 0</th>\n",
       "      <th>id</th>\n",
       "      <th>nom_estab</th>\n",
       "      <th>codigo_act</th>\n",
       "      <th>nombre_act</th>\n",
       "      <th>tipoCenCom</th>\n",
       "      <th>per_ocu</th>\n",
       "      <th>tipoUniEco</th>\n",
       "      <th>ageb</th>\n",
       "      <th>manzana</th>\n",
       "      <th>latitud</th>\n",
       "      <th>longitud</th>\n",
       "      <th>fecha_alta</th>\n",
       "      <th>www</th>\n",
       "      <th>Año</th>\n",
       "      <th>Mes</th>\n",
       "      <th>clave</th>\n",
       "    </tr>\n",
       "  </thead>\n",
       "  <tbody>\n",
       "    <tr>\n",
       "      <th>0</th>\n",
       "      <td>3630</td>\n",
       "      <td>7732571</td>\n",
       "      <td>BOUTIQUE DE ROPA SOREIM FASHION ATELIER</td>\n",
       "      <td>315225</td>\n",
       "      <td>Confección de prendas de vestir sobre medida</td>\n",
       "      <td>NaN</td>\n",
       "      <td>0 a 5 personas</td>\n",
       "      <td>Fijo</td>\n",
       "      <td>0998</td>\n",
       "      <td>19</td>\n",
       "      <td>19.422672</td>\n",
       "      <td>-99.163712</td>\n",
       "      <td>2019-11-01</td>\n",
       "      <td>NaN</td>\n",
       "      <td>2019</td>\n",
       "      <td>11</td>\n",
       "      <td>0998-19</td>\n",
       "    </tr>\n",
       "    <tr>\n",
       "      <th>1</th>\n",
       "      <td>4398</td>\n",
       "      <td>863029</td>\n",
       "      <td>DOCE CERO TRES</td>\n",
       "      <td>315229</td>\n",
       "      <td>Confección en serie de otra ropa exterior de m...</td>\n",
       "      <td>NaN</td>\n",
       "      <td>0 a 5 personas</td>\n",
       "      <td>Fijo</td>\n",
       "      <td>1106</td>\n",
       "      <td>10</td>\n",
       "      <td>19.417927</td>\n",
       "      <td>-99.160439</td>\n",
       "      <td>2010-07-01</td>\n",
       "      <td>WWW.DOCECEROTRES.COM.MX</td>\n",
       "      <td>2010</td>\n",
       "      <td>7</td>\n",
       "      <td>1106-10</td>\n",
       "    </tr>\n",
       "    <tr>\n",
       "      <th>2</th>\n",
       "      <td>4762</td>\n",
       "      <td>8326112</td>\n",
       "      <td>ELABORACIÓN DE VESTIMENTA HECHO MXCITY</td>\n",
       "      <td>315229</td>\n",
       "      <td>Confección en serie de otra ropa exterior de m...</td>\n",
       "      <td>NaN</td>\n",
       "      <td>0 a 5 personas</td>\n",
       "      <td>Fijo</td>\n",
       "      <td>0998</td>\n",
       "      <td>9</td>\n",
       "      <td>19.421940</td>\n",
       "      <td>-99.168671</td>\n",
       "      <td>2019-11-01</td>\n",
       "      <td>WWW.HECHO.COM.MX</td>\n",
       "      <td>2019</td>\n",
       "      <td>11</td>\n",
       "      <td>0998-9</td>\n",
       "    </tr>\n",
       "    <tr>\n",
       "      <th>3</th>\n",
       "      <td>5157</td>\n",
       "      <td>1028977</td>\n",
       "      <td>FIDENZE COLLEZIONE</td>\n",
       "      <td>315229</td>\n",
       "      <td>Confección en serie de otra ropa exterior de m...</td>\n",
       "      <td>OTRO CONGLOMERADO</td>\n",
       "      <td>0 a 5 personas</td>\n",
       "      <td>Fijo</td>\n",
       "      <td>095A</td>\n",
       "      <td>6</td>\n",
       "      <td>19.423574</td>\n",
       "      <td>-99.165787</td>\n",
       "      <td>2010-07-01</td>\n",
       "      <td>NaN</td>\n",
       "      <td>2010</td>\n",
       "      <td>7</td>\n",
       "      <td>095A-6</td>\n",
       "    </tr>\n",
       "    <tr>\n",
       "      <th>4</th>\n",
       "      <td>5168</td>\n",
       "      <td>8326350</td>\n",
       "      <td>FLOR DE MAYO ESTRATEGIAS</td>\n",
       "      <td>315229</td>\n",
       "      <td>Confección en serie de otra ropa exterior de m...</td>\n",
       "      <td>EDIFICIO COMERCIAL Y DE SERVICIOS</td>\n",
       "      <td>31 a 50 personas</td>\n",
       "      <td>Fijo</td>\n",
       "      <td>1093</td>\n",
       "      <td>11</td>\n",
       "      <td>19.417782</td>\n",
       "      <td>-99.165863</td>\n",
       "      <td>2019-11-01</td>\n",
       "      <td>NaN</td>\n",
       "      <td>2019</td>\n",
       "      <td>11</td>\n",
       "      <td>1093-11</td>\n",
       "    </tr>\n",
       "  </tbody>\n",
       "</table>\n",
       "</div>"
      ],
      "text/plain": [
       "   Unnamed: 0       id                                nom_estab  codigo_act  \\\n",
       "0        3630  7732571  BOUTIQUE DE ROPA SOREIM FASHION ATELIER      315225   \n",
       "1        4398   863029                           DOCE CERO TRES      315229   \n",
       "2        4762  8326112   ELABORACIÓN DE VESTIMENTA HECHO MXCITY      315229   \n",
       "3        5157  1028977                       FIDENZE COLLEZIONE      315229   \n",
       "4        5168  8326350                 FLOR DE MAYO ESTRATEGIAS      315229   \n",
       "\n",
       "                                          nombre_act  \\\n",
       "0       Confección de prendas de vestir sobre medida   \n",
       "1  Confección en serie de otra ropa exterior de m...   \n",
       "2  Confección en serie de otra ropa exterior de m...   \n",
       "3  Confección en serie de otra ropa exterior de m...   \n",
       "4  Confección en serie de otra ropa exterior de m...   \n",
       "\n",
       "                          tipoCenCom           per_ocu tipoUniEco  ageb  \\\n",
       "0                                NaN    0 a 5 personas       Fijo  0998   \n",
       "1                                NaN    0 a 5 personas       Fijo  1106   \n",
       "2                                NaN    0 a 5 personas       Fijo  0998   \n",
       "3                  OTRO CONGLOMERADO    0 a 5 personas       Fijo  095A   \n",
       "4  EDIFICIO COMERCIAL Y DE SERVICIOS  31 a 50 personas       Fijo  1093   \n",
       "\n",
       "   manzana    latitud   longitud fecha_alta                      www   Año  \\\n",
       "0       19  19.422672 -99.163712 2019-11-01                      NaN  2019   \n",
       "1       10  19.417927 -99.160439 2010-07-01  WWW.DOCECEROTRES.COM.MX  2010   \n",
       "2        9  19.421940 -99.168671 2019-11-01         WWW.HECHO.COM.MX  2019   \n",
       "3        6  19.423574 -99.165787 2010-07-01                      NaN  2010   \n",
       "4       11  19.417782 -99.165863 2019-11-01                      NaN  2019   \n",
       "\n",
       "   Mes    clave  \n",
       "0   11  0998-19  \n",
       "1    7  1106-10  \n",
       "2   11   0998-9  \n",
       "3    7   095A-6  \n",
       "4   11  1093-11  "
      ]
     },
     "execution_count": 357,
     "metadata": {},
     "output_type": "execute_result"
    }
   ],
   "source": [
    "empresas=data.Id\n",
    "len(empresas)\n",
    "d=info[info[\"id\"].isin(empresas)]\n",
    "d.reset_index(drop=True,inplace=True)\n",
    "d.info()\n",
    "d[\"manzana\"]=d.manzana.astype(int)\n",
    "d[\"clave\"]=d[\"ageb\"].astype(str) + \"-\" + d[\"manzana\"].astype(str)\n",
    "d.head()"
   ]
  },
  {
   "cell_type": "code",
   "execution_count": 358,
   "metadata": {
    "scrolled": false
   },
   "outputs": [
    {
     "data": {
      "text/html": [
       "<div style=\"width:100%;\"><div style=\"position:relative;width:100%;height:0;padding-bottom:60%;\"><iframe src=\"data:text/html;charset=utf-8;base64,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\" style=\"position:absolute;width:100%;height:100%;left:0;top:0;border:none !important;\" allowfullscreen webkitallowfullscreen mozallowfullscreen></iframe></div></div>"
      ],
      "text/plain": [
       "<folium.folium.Map at 0x2a80de4e4a8>"
      ]
     },
     "metadata": {},
     "output_type": "display_data"
    }
   ],
   "source": [
    "llat=list(d.latitud)\n",
    "llong=list(d.longitud)\n",
    "name=list(d.nom_estab)\n",
    "\n",
    "mapa=folium.Map(location=[long, lat], tiles='openstreetmap', zoom_start=15,)\n",
    "\n",
    "for i in range(len(d)):\n",
    "    folium.Marker([llat[i], llong[i]], icon=folium.Icon(color='red'),popup=name[i]).add_to(mapa)\n",
    "\n",
    "    \n",
    "display(mapa)\n",
    "\n",
    "mapa.save(\"../mapas/mapa {}.html\".format(giro))"
   ]
  },
  {
   "cell_type": "code",
   "execution_count": 359,
   "metadata": {},
   "outputs": [
    {
     "data": {
      "text/plain": [
       "2010-07-01    52\n",
       "2019-11-01    42\n",
       "2014-12-01    19\n",
       "2011-03-01     4\n",
       "2016-10-01     4\n",
       "2017-03-01     2\n",
       "2017-11-01     2\n",
       "2012-06-01     1\n",
       "2019-04-01     1\n",
       "Name: fecha_alta, dtype: int64"
      ]
     },
     "execution_count": 359,
     "metadata": {},
     "output_type": "execute_result"
    }
   ],
   "source": [
    "d.fecha_alta.value_counts()"
   ]
  },
  {
   "cell_type": "code",
   "execution_count": 360,
   "metadata": {},
   "outputs": [
    {
     "data": {
      "text/plain": [
       "\"\\ndat=pd.DataFrame(d.fecha_alta.value_counts())\\ndat=dat.sort_index()\\ndat.index = pd.DatetimeIndex(dat.index).to_period('M')\\ntrain=dat[1:-1]\\nmodelo=AR(train).fit()\\npred=modelo.predict(8,10)\\nprint(pred)\\ntrain\\n\""
      ]
     },
     "execution_count": 360,
     "metadata": {},
     "output_type": "execute_result"
    }
   ],
   "source": [
    "'''\n",
    "dat=pd.DataFrame(d.fecha_alta.value_counts())\n",
    "dat=dat.sort_index()\n",
    "dat.index = pd.DatetimeIndex(dat.index).to_period('M')\n",
    "train=dat[1:-1]\n",
    "modelo=AR(train).fit()\n",
    "pred=modelo.predict(8,10)\n",
    "print(pred)\n",
    "train\n",
    "'''"
   ]
  },
  {
   "cell_type": "code",
   "execution_count": 361,
   "metadata": {},
   "outputs": [
    {
     "data": {
      "text/plain": [
       "'\\nfrom sklearn.linear_model import LinearRegression\\n\\n\\ntrain=gk[1:-1]\\ntrain=train.reset_index(drop=False)\\ntrain=train.sort_values(by=[\\'index\\'])\\nX=train[\"index\"]\\ny=train.Año\\nz=\"2019\"\\nX.reshape(1, -1)\\nlinreg=LinearRegression(fit_intercept=True)\\nlinreg.fit(X, y)\\n#y_pred=linreg.predict(X_test)\\n'"
      ]
     },
     "execution_count": 361,
     "metadata": {},
     "output_type": "execute_result"
    }
   ],
   "source": [
    "'''\n",
    "from sklearn.linear_model import LinearRegression\n",
    "\n",
    "\n",
    "train=gk[1:-1]\n",
    "train=train.reset_index(drop=False)\n",
    "train=train.sort_values(by=['index'])\n",
    "X=train[\"index\"]\n",
    "y=train.Año\n",
    "z=\"2019\"\n",
    "X.reshape(1, -1)\n",
    "linreg=LinearRegression(fit_intercept=True)\n",
    "linreg.fit(X, y)\n",
    "#y_pred=linreg.predict(X_test)\n",
    "'''"
   ]
  },
  {
   "cell_type": "code",
   "execution_count": 362,
   "metadata": {},
   "outputs": [
    {
     "data": {
      "text/html": [
       "        <script type=\"text/javascript\">\n",
       "        window.PlotlyConfig = {MathJaxConfig: 'local'};\n",
       "        if (window.MathJax) {MathJax.Hub.Config({SVG: {font: \"STIX-Web\"}});}\n",
       "        if (typeof require !== 'undefined') {\n",
       "        require.undef(\"plotly\");\n",
       "        requirejs.config({\n",
       "            paths: {\n",
       "                'plotly': ['https://cdn.plot.ly/plotly-latest.min']\n",
       "            }\n",
       "        });\n",
       "        require(['plotly'], function(Plotly) {\n",
       "            window._Plotly = Plotly;\n",
       "        });\n",
       "        }\n",
       "        </script>\n",
       "        "
      ]
     },
     "metadata": {},
     "output_type": "display_data"
    }
   ],
   "source": [
    "import chart_studio.plotly as py\n",
    "import cufflinks as cf\n",
    "from ipywidgets import interact\n",
    "import matplotlib.pyplot as plt\n",
    "cf.go_offline()\n",
    "import seaborn as sns"
   ]
  },
  {
   "cell_type": "code",
   "execution_count": 363,
   "metadata": {},
   "outputs": [
    {
     "data": {
      "text/plain": [
       "127"
      ]
     },
     "metadata": {},
     "output_type": "display_data"
    },
    {
     "name": "stdout",
     "output_type": "stream",
     "text": [
      "   index  Año\n",
      "0   2010   52\n",
      "5   2011    4\n",
      "6   2012    1\n",
      "2   2014   19\n",
      "4   2016    4\n",
      "3   2017    4\n",
      "1   2019   43\n"
     ]
    },
    {
     "data": {
      "text/html": [
       "<div>\n",
       "<style scoped>\n",
       "    .dataframe tbody tr th:only-of-type {\n",
       "        vertical-align: middle;\n",
       "    }\n",
       "\n",
       "    .dataframe tbody tr th {\n",
       "        vertical-align: top;\n",
       "    }\n",
       "\n",
       "    .dataframe thead th {\n",
       "        text-align: right;\n",
       "    }\n",
       "</style>\n",
       "<table border=\"1\" class=\"dataframe\">\n",
       "  <thead>\n",
       "    <tr style=\"text-align: right;\">\n",
       "      <th></th>\n",
       "      <th>index</th>\n",
       "      <th>Mes</th>\n",
       "    </tr>\n",
       "  </thead>\n",
       "  <tbody>\n",
       "    <tr>\n",
       "      <th>3</th>\n",
       "      <td>3</td>\n",
       "      <td>6</td>\n",
       "    </tr>\n",
       "    <tr>\n",
       "      <th>6</th>\n",
       "      <td>4</td>\n",
       "      <td>1</td>\n",
       "    </tr>\n",
       "    <tr>\n",
       "      <th>5</th>\n",
       "      <td>6</td>\n",
       "      <td>1</td>\n",
       "    </tr>\n",
       "    <tr>\n",
       "      <th>0</th>\n",
       "      <td>7</td>\n",
       "      <td>52</td>\n",
       "    </tr>\n",
       "    <tr>\n",
       "      <th>4</th>\n",
       "      <td>10</td>\n",
       "      <td>4</td>\n",
       "    </tr>\n",
       "    <tr>\n",
       "      <th>1</th>\n",
       "      <td>11</td>\n",
       "      <td>44</td>\n",
       "    </tr>\n",
       "    <tr>\n",
       "      <th>2</th>\n",
       "      <td>12</td>\n",
       "      <td>19</td>\n",
       "    </tr>\n",
       "  </tbody>\n",
       "</table>\n",
       "</div>"
      ],
      "text/plain": [
       "   index  Mes\n",
       "3      3    6\n",
       "6      4    1\n",
       "5      6    1\n",
       "0      7   52\n",
       "4     10    4\n",
       "1     11   44\n",
       "2     12   19"
      ]
     },
     "execution_count": 363,
     "metadata": {},
     "output_type": "execute_result"
    }
   ],
   "source": [
    "display(len(d))\n",
    "gk =pd.DataFrame(d.Año.value_counts())\n",
    "gk=gk.reset_index(drop=False)\n",
    "gk=gk.sort_values(by=['index'])\n",
    "print(gk)\n",
    "gm =pd.DataFrame(d.Mes.value_counts())\n",
    "gm=gm.reset_index(drop=False)\n",
    "gm=gm.sort_values(by=['index'])\n",
    "gm"
   ]
  },
  {
   "cell_type": "code",
   "execution_count": 364,
   "metadata": {
    "scrolled": false
   },
   "outputs": [
    {
     "data": {
      "application/vnd.plotly.v1+json": {
       "config": {
        "linkText": "Export to plot.ly",
        "plotlyServerURL": "https://plot.ly",
        "showLink": true
       },
       "data": [
        {
         "marker": {
          "color": "rgba(255, 153, 51, 0.6)",
          "line": {
           "color": "rgba(255, 153, 51, 1.0)",
           "width": 1
          }
         },
         "name": "Mes",
         "orientation": "v",
         "text": "",
         "type": "bar",
         "x": [
          3,
          4,
          6,
          7,
          10,
          11,
          12
         ],
         "y": [
          6,
          1,
          1,
          52,
          4,
          44,
          19
         ]
        }
       ],
       "layout": {
        "legend": {
         "bgcolor": "#F5F6F9",
         "font": {
          "color": "#4D5663"
         }
        },
        "paper_bgcolor": "#F5F6F9",
        "plot_bgcolor": "#F5F6F9",
        "template": {
         "data": {
          "bar": [
           {
            "error_x": {
             "color": "#2a3f5f"
            },
            "error_y": {
             "color": "#2a3f5f"
            },
            "marker": {
             "line": {
              "color": "#E5ECF6",
              "width": 0.5
             }
            },
            "type": "bar"
           }
          ],
          "barpolar": [
           {
            "marker": {
             "line": {
              "color": "#E5ECF6",
              "width": 0.5
             }
            },
            "type": "barpolar"
           }
          ],
          "carpet": [
           {
            "aaxis": {
             "endlinecolor": "#2a3f5f",
             "gridcolor": "white",
             "linecolor": "white",
             "minorgridcolor": "white",
             "startlinecolor": "#2a3f5f"
            },
            "baxis": {
             "endlinecolor": "#2a3f5f",
             "gridcolor": "white",
             "linecolor": "white",
             "minorgridcolor": "white",
             "startlinecolor": "#2a3f5f"
            },
            "type": "carpet"
           }
          ],
          "choropleth": [
           {
            "colorbar": {
             "outlinewidth": 0,
             "ticks": ""
            },
            "type": "choropleth"
           }
          ],
          "contour": [
           {
            "colorbar": {
             "outlinewidth": 0,
             "ticks": ""
            },
            "colorscale": [
             [
              0,
              "#0d0887"
             ],
             [
              0.1111111111111111,
              "#46039f"
             ],
             [
              0.2222222222222222,
              "#7201a8"
             ],
             [
              0.3333333333333333,
              "#9c179e"
             ],
             [
              0.4444444444444444,
              "#bd3786"
             ],
             [
              0.5555555555555556,
              "#d8576b"
             ],
             [
              0.6666666666666666,
              "#ed7953"
             ],
             [
              0.7777777777777778,
              "#fb9f3a"
             ],
             [
              0.8888888888888888,
              "#fdca26"
             ],
             [
              1,
              "#f0f921"
             ]
            ],
            "type": "contour"
           }
          ],
          "contourcarpet": [
           {
            "colorbar": {
             "outlinewidth": 0,
             "ticks": ""
            },
            "type": "contourcarpet"
           }
          ],
          "heatmap": [
           {
            "colorbar": {
             "outlinewidth": 0,
             "ticks": ""
            },
            "colorscale": [
             [
              0,
              "#0d0887"
             ],
             [
              0.1111111111111111,
              "#46039f"
             ],
             [
              0.2222222222222222,
              "#7201a8"
             ],
             [
              0.3333333333333333,
              "#9c179e"
             ],
             [
              0.4444444444444444,
              "#bd3786"
             ],
             [
              0.5555555555555556,
              "#d8576b"
             ],
             [
              0.6666666666666666,
              "#ed7953"
             ],
             [
              0.7777777777777778,
              "#fb9f3a"
             ],
             [
              0.8888888888888888,
              "#fdca26"
             ],
             [
              1,
              "#f0f921"
             ]
            ],
            "type": "heatmap"
           }
          ],
          "heatmapgl": [
           {
            "colorbar": {
             "outlinewidth": 0,
             "ticks": ""
            },
            "colorscale": [
             [
              0,
              "#0d0887"
             ],
             [
              0.1111111111111111,
              "#46039f"
             ],
             [
              0.2222222222222222,
              "#7201a8"
             ],
             [
              0.3333333333333333,
              "#9c179e"
             ],
             [
              0.4444444444444444,
              "#bd3786"
             ],
             [
              0.5555555555555556,
              "#d8576b"
             ],
             [
              0.6666666666666666,
              "#ed7953"
             ],
             [
              0.7777777777777778,
              "#fb9f3a"
             ],
             [
              0.8888888888888888,
              "#fdca26"
             ],
             [
              1,
              "#f0f921"
             ]
            ],
            "type": "heatmapgl"
           }
          ],
          "histogram": [
           {
            "marker": {
             "colorbar": {
              "outlinewidth": 0,
              "ticks": ""
             }
            },
            "type": "histogram"
           }
          ],
          "histogram2d": [
           {
            "colorbar": {
             "outlinewidth": 0,
             "ticks": ""
            },
            "colorscale": [
             [
              0,
              "#0d0887"
             ],
             [
              0.1111111111111111,
              "#46039f"
             ],
             [
              0.2222222222222222,
              "#7201a8"
             ],
             [
              0.3333333333333333,
              "#9c179e"
             ],
             [
              0.4444444444444444,
              "#bd3786"
             ],
             [
              0.5555555555555556,
              "#d8576b"
             ],
             [
              0.6666666666666666,
              "#ed7953"
             ],
             [
              0.7777777777777778,
              "#fb9f3a"
             ],
             [
              0.8888888888888888,
              "#fdca26"
             ],
             [
              1,
              "#f0f921"
             ]
            ],
            "type": "histogram2d"
           }
          ],
          "histogram2dcontour": [
           {
            "colorbar": {
             "outlinewidth": 0,
             "ticks": ""
            },
            "colorscale": [
             [
              0,
              "#0d0887"
             ],
             [
              0.1111111111111111,
              "#46039f"
             ],
             [
              0.2222222222222222,
              "#7201a8"
             ],
             [
              0.3333333333333333,
              "#9c179e"
             ],
             [
              0.4444444444444444,
              "#bd3786"
             ],
             [
              0.5555555555555556,
              "#d8576b"
             ],
             [
              0.6666666666666666,
              "#ed7953"
             ],
             [
              0.7777777777777778,
              "#fb9f3a"
             ],
             [
              0.8888888888888888,
              "#fdca26"
             ],
             [
              1,
              "#f0f921"
             ]
            ],
            "type": "histogram2dcontour"
           }
          ],
          "mesh3d": [
           {
            "colorbar": {
             "outlinewidth": 0,
             "ticks": ""
            },
            "type": "mesh3d"
           }
          ],
          "parcoords": [
           {
            "line": {
             "colorbar": {
              "outlinewidth": 0,
              "ticks": ""
             }
            },
            "type": "parcoords"
           }
          ],
          "pie": [
           {
            "automargin": true,
            "type": "pie"
           }
          ],
          "scatter": [
           {
            "marker": {
             "colorbar": {
              "outlinewidth": 0,
              "ticks": ""
             }
            },
            "type": "scatter"
           }
          ],
          "scatter3d": [
           {
            "line": {
             "colorbar": {
              "outlinewidth": 0,
              "ticks": ""
             }
            },
            "marker": {
             "colorbar": {
              "outlinewidth": 0,
              "ticks": ""
             }
            },
            "type": "scatter3d"
           }
          ],
          "scattercarpet": [
           {
            "marker": {
             "colorbar": {
              "outlinewidth": 0,
              "ticks": ""
             }
            },
            "type": "scattercarpet"
           }
          ],
          "scattergeo": [
           {
            "marker": {
             "colorbar": {
              "outlinewidth": 0,
              "ticks": ""
             }
            },
            "type": "scattergeo"
           }
          ],
          "scattergl": [
           {
            "marker": {
             "colorbar": {
              "outlinewidth": 0,
              "ticks": ""
             }
            },
            "type": "scattergl"
           }
          ],
          "scattermapbox": [
           {
            "marker": {
             "colorbar": {
              "outlinewidth": 0,
              "ticks": ""
             }
            },
            "type": "scattermapbox"
           }
          ],
          "scatterpolar": [
           {
            "marker": {
             "colorbar": {
              "outlinewidth": 0,
              "ticks": ""
             }
            },
            "type": "scatterpolar"
           }
          ],
          "scatterpolargl": [
           {
            "marker": {
             "colorbar": {
              "outlinewidth": 0,
              "ticks": ""
             }
            },
            "type": "scatterpolargl"
           }
          ],
          "scatterternary": [
           {
            "marker": {
             "colorbar": {
              "outlinewidth": 0,
              "ticks": ""
             }
            },
            "type": "scatterternary"
           }
          ],
          "surface": [
           {
            "colorbar": {
             "outlinewidth": 0,
             "ticks": ""
            },
            "colorscale": [
             [
              0,
              "#0d0887"
             ],
             [
              0.1111111111111111,
              "#46039f"
             ],
             [
              0.2222222222222222,
              "#7201a8"
             ],
             [
              0.3333333333333333,
              "#9c179e"
             ],
             [
              0.4444444444444444,
              "#bd3786"
             ],
             [
              0.5555555555555556,
              "#d8576b"
             ],
             [
              0.6666666666666666,
              "#ed7953"
             ],
             [
              0.7777777777777778,
              "#fb9f3a"
             ],
             [
              0.8888888888888888,
              "#fdca26"
             ],
             [
              1,
              "#f0f921"
             ]
            ],
            "type": "surface"
           }
          ],
          "table": [
           {
            "cells": {
             "fill": {
              "color": "#EBF0F8"
             },
             "line": {
              "color": "white"
             }
            },
            "header": {
             "fill": {
              "color": "#C8D4E3"
             },
             "line": {
              "color": "white"
             }
            },
            "type": "table"
           }
          ]
         },
         "layout": {
          "annotationdefaults": {
           "arrowcolor": "#2a3f5f",
           "arrowhead": 0,
           "arrowwidth": 1
          },
          "coloraxis": {
           "colorbar": {
            "outlinewidth": 0,
            "ticks": ""
           }
          },
          "colorscale": {
           "diverging": [
            [
             0,
             "#8e0152"
            ],
            [
             0.1,
             "#c51b7d"
            ],
            [
             0.2,
             "#de77ae"
            ],
            [
             0.3,
             "#f1b6da"
            ],
            [
             0.4,
             "#fde0ef"
            ],
            [
             0.5,
             "#f7f7f7"
            ],
            [
             0.6,
             "#e6f5d0"
            ],
            [
             0.7,
             "#b8e186"
            ],
            [
             0.8,
             "#7fbc41"
            ],
            [
             0.9,
             "#4d9221"
            ],
            [
             1,
             "#276419"
            ]
           ],
           "sequential": [
            [
             0,
             "#0d0887"
            ],
            [
             0.1111111111111111,
             "#46039f"
            ],
            [
             0.2222222222222222,
             "#7201a8"
            ],
            [
             0.3333333333333333,
             "#9c179e"
            ],
            [
             0.4444444444444444,
             "#bd3786"
            ],
            [
             0.5555555555555556,
             "#d8576b"
            ],
            [
             0.6666666666666666,
             "#ed7953"
            ],
            [
             0.7777777777777778,
             "#fb9f3a"
            ],
            [
             0.8888888888888888,
             "#fdca26"
            ],
            [
             1,
             "#f0f921"
            ]
           ],
           "sequentialminus": [
            [
             0,
             "#0d0887"
            ],
            [
             0.1111111111111111,
             "#46039f"
            ],
            [
             0.2222222222222222,
             "#7201a8"
            ],
            [
             0.3333333333333333,
             "#9c179e"
            ],
            [
             0.4444444444444444,
             "#bd3786"
            ],
            [
             0.5555555555555556,
             "#d8576b"
            ],
            [
             0.6666666666666666,
             "#ed7953"
            ],
            [
             0.7777777777777778,
             "#fb9f3a"
            ],
            [
             0.8888888888888888,
             "#fdca26"
            ],
            [
             1,
             "#f0f921"
            ]
           ]
          },
          "colorway": [
           "#636efa",
           "#EF553B",
           "#00cc96",
           "#ab63fa",
           "#FFA15A",
           "#19d3f3",
           "#FF6692",
           "#B6E880",
           "#FF97FF",
           "#FECB52"
          ],
          "font": {
           "color": "#2a3f5f"
          },
          "geo": {
           "bgcolor": "white",
           "lakecolor": "white",
           "landcolor": "#E5ECF6",
           "showlakes": true,
           "showland": true,
           "subunitcolor": "white"
          },
          "hoverlabel": {
           "align": "left"
          },
          "hovermode": "closest",
          "mapbox": {
           "style": "light"
          },
          "paper_bgcolor": "white",
          "plot_bgcolor": "#E5ECF6",
          "polar": {
           "angularaxis": {
            "gridcolor": "white",
            "linecolor": "white",
            "ticks": ""
           },
           "bgcolor": "#E5ECF6",
           "radialaxis": {
            "gridcolor": "white",
            "linecolor": "white",
            "ticks": ""
           }
          },
          "scene": {
           "xaxis": {
            "backgroundcolor": "#E5ECF6",
            "gridcolor": "white",
            "gridwidth": 2,
            "linecolor": "white",
            "showbackground": true,
            "ticks": "",
            "zerolinecolor": "white"
           },
           "yaxis": {
            "backgroundcolor": "#E5ECF6",
            "gridcolor": "white",
            "gridwidth": 2,
            "linecolor": "white",
            "showbackground": true,
            "ticks": "",
            "zerolinecolor": "white"
           },
           "zaxis": {
            "backgroundcolor": "#E5ECF6",
            "gridcolor": "white",
            "gridwidth": 2,
            "linecolor": "white",
            "showbackground": true,
            "ticks": "",
            "zerolinecolor": "white"
           }
          },
          "shapedefaults": {
           "line": {
            "color": "#2a3f5f"
           }
          },
          "ternary": {
           "aaxis": {
            "gridcolor": "white",
            "linecolor": "white",
            "ticks": ""
           },
           "baxis": {
            "gridcolor": "white",
            "linecolor": "white",
            "ticks": ""
           },
           "bgcolor": "#E5ECF6",
           "caxis": {
            "gridcolor": "white",
            "linecolor": "white",
            "ticks": ""
           }
          },
          "title": {
           "x": 0.05
          },
          "xaxis": {
           "automargin": true,
           "gridcolor": "white",
           "linecolor": "white",
           "ticks": "",
           "title": {
            "standoff": 15
           },
           "zerolinecolor": "white",
           "zerolinewidth": 2
          },
          "yaxis": {
           "automargin": true,
           "gridcolor": "white",
           "linecolor": "white",
           "ticks": "",
           "title": {
            "standoff": 15
           },
           "zerolinecolor": "white",
           "zerolinewidth": 2
          }
         }
        },
        "title": {
         "font": {
          "color": "#4D5663"
         },
         "text": "Mes de integración"
        },
        "xaxis": {
         "gridcolor": "#E1E5ED",
         "showgrid": true,
         "tickfont": {
          "color": "#4D5663"
         },
         "title": {
          "font": {
           "color": "#4D5663"
          },
          "text": "Mes"
         },
         "zerolinecolor": "#E1E5ED"
        },
        "yaxis": {
         "gridcolor": "#E1E5ED",
         "showgrid": true,
         "tickfont": {
          "color": "#4D5663"
         },
         "title": {
          "font": {
           "color": "#4D5663"
          },
          "text": "N. Empresas"
         },
         "zerolinecolor": "#E1E5ED"
        }
       }
      },
      "text/html": [
       "<div>\n",
       "        \n",
       "        \n",
       "            <div id=\"a7c3c4e9-eb4b-440a-aca4-9fe5a2bb02ea\" class=\"plotly-graph-div\" style=\"height:525px; width:100%;\"></div>\n",
       "            <script type=\"text/javascript\">\n",
       "                require([\"plotly\"], function(Plotly) {\n",
       "                    window.PLOTLYENV=window.PLOTLYENV || {};\n",
       "                    window.PLOTLYENV.BASE_URL='https://plot.ly';\n",
       "                    \n",
       "                if (document.getElementById(\"a7c3c4e9-eb4b-440a-aca4-9fe5a2bb02ea\")) {\n",
       "                    Plotly.newPlot(\n",
       "                        'a7c3c4e9-eb4b-440a-aca4-9fe5a2bb02ea',\n",
       "                        [{\"marker\": {\"color\": \"rgba(255, 153, 51, 0.6)\", \"line\": {\"color\": \"rgba(255, 153, 51, 1.0)\", \"width\": 1}}, \"name\": \"Mes\", \"orientation\": \"v\", \"text\": \"\", \"type\": \"bar\", \"x\": [3, 4, 6, 7, 10, 11, 12], \"y\": [6, 1, 1, 52, 4, 44, 19]}],\n",
       "                        {\"legend\": {\"bgcolor\": \"#F5F6F9\", \"font\": {\"color\": \"#4D5663\"}}, \"paper_bgcolor\": \"#F5F6F9\", \"plot_bgcolor\": \"#F5F6F9\", \"template\": {\"data\": {\"bar\": [{\"error_x\": {\"color\": \"#2a3f5f\"}, \"error_y\": {\"color\": \"#2a3f5f\"}, \"marker\": {\"line\": {\"color\": \"#E5ECF6\", \"width\": 0.5}}, \"type\": \"bar\"}], \"barpolar\": [{\"marker\": {\"line\": {\"color\": \"#E5ECF6\", \"width\": 0.5}}, \"type\": \"barpolar\"}], \"carpet\": [{\"aaxis\": {\"endlinecolor\": \"#2a3f5f\", \"gridcolor\": \"white\", \"linecolor\": \"white\", \"minorgridcolor\": \"white\", \"startlinecolor\": \"#2a3f5f\"}, \"baxis\": {\"endlinecolor\": \"#2a3f5f\", \"gridcolor\": \"white\", \"linecolor\": \"white\", \"minorgridcolor\": \"white\", \"startlinecolor\": \"#2a3f5f\"}, \"type\": \"carpet\"}], \"choropleth\": [{\"colorbar\": {\"outlinewidth\": 0, \"ticks\": \"\"}, \"type\": \"choropleth\"}], \"contour\": [{\"colorbar\": {\"outlinewidth\": 0, \"ticks\": \"\"}, \"colorscale\": [[0.0, \"#0d0887\"], [0.1111111111111111, \"#46039f\"], [0.2222222222222222, \"#7201a8\"], [0.3333333333333333, \"#9c179e\"], [0.4444444444444444, \"#bd3786\"], [0.5555555555555556, \"#d8576b\"], [0.6666666666666666, \"#ed7953\"], [0.7777777777777778, \"#fb9f3a\"], [0.8888888888888888, \"#fdca26\"], [1.0, \"#f0f921\"]], \"type\": \"contour\"}], \"contourcarpet\": [{\"colorbar\": {\"outlinewidth\": 0, \"ticks\": \"\"}, \"type\": \"contourcarpet\"}], \"heatmap\": [{\"colorbar\": {\"outlinewidth\": 0, \"ticks\": \"\"}, \"colorscale\": [[0.0, \"#0d0887\"], [0.1111111111111111, \"#46039f\"], [0.2222222222222222, \"#7201a8\"], [0.3333333333333333, \"#9c179e\"], [0.4444444444444444, \"#bd3786\"], [0.5555555555555556, \"#d8576b\"], [0.6666666666666666, \"#ed7953\"], [0.7777777777777778, \"#fb9f3a\"], [0.8888888888888888, \"#fdca26\"], [1.0, \"#f0f921\"]], \"type\": \"heatmap\"}], \"heatmapgl\": [{\"colorbar\": {\"outlinewidth\": 0, \"ticks\": \"\"}, \"colorscale\": [[0.0, \"#0d0887\"], [0.1111111111111111, \"#46039f\"], [0.2222222222222222, \"#7201a8\"], [0.3333333333333333, \"#9c179e\"], [0.4444444444444444, \"#bd3786\"], [0.5555555555555556, \"#d8576b\"], [0.6666666666666666, \"#ed7953\"], [0.7777777777777778, \"#fb9f3a\"], [0.8888888888888888, \"#fdca26\"], [1.0, \"#f0f921\"]], \"type\": \"heatmapgl\"}], \"histogram\": [{\"marker\": {\"colorbar\": {\"outlinewidth\": 0, \"ticks\": \"\"}}, \"type\": \"histogram\"}], \"histogram2d\": [{\"colorbar\": {\"outlinewidth\": 0, \"ticks\": \"\"}, \"colorscale\": [[0.0, \"#0d0887\"], [0.1111111111111111, \"#46039f\"], [0.2222222222222222, \"#7201a8\"], [0.3333333333333333, \"#9c179e\"], [0.4444444444444444, \"#bd3786\"], [0.5555555555555556, \"#d8576b\"], [0.6666666666666666, \"#ed7953\"], [0.7777777777777778, \"#fb9f3a\"], [0.8888888888888888, \"#fdca26\"], [1.0, \"#f0f921\"]], \"type\": \"histogram2d\"}], \"histogram2dcontour\": [{\"colorbar\": {\"outlinewidth\": 0, \"ticks\": \"\"}, \"colorscale\": [[0.0, \"#0d0887\"], [0.1111111111111111, \"#46039f\"], [0.2222222222222222, \"#7201a8\"], [0.3333333333333333, \"#9c179e\"], [0.4444444444444444, \"#bd3786\"], [0.5555555555555556, \"#d8576b\"], [0.6666666666666666, \"#ed7953\"], [0.7777777777777778, \"#fb9f3a\"], [0.8888888888888888, \"#fdca26\"], [1.0, \"#f0f921\"]], \"type\": \"histogram2dcontour\"}], \"mesh3d\": [{\"colorbar\": {\"outlinewidth\": 0, \"ticks\": \"\"}, \"type\": \"mesh3d\"}], \"parcoords\": [{\"line\": {\"colorbar\": {\"outlinewidth\": 0, \"ticks\": \"\"}}, \"type\": \"parcoords\"}], \"pie\": [{\"automargin\": true, \"type\": \"pie\"}], \"scatter\": [{\"marker\": {\"colorbar\": {\"outlinewidth\": 0, \"ticks\": \"\"}}, \"type\": \"scatter\"}], \"scatter3d\": [{\"line\": {\"colorbar\": {\"outlinewidth\": 0, \"ticks\": \"\"}}, \"marker\": {\"colorbar\": {\"outlinewidth\": 0, \"ticks\": \"\"}}, \"type\": \"scatter3d\"}], \"scattercarpet\": [{\"marker\": {\"colorbar\": {\"outlinewidth\": 0, \"ticks\": \"\"}}, \"type\": \"scattercarpet\"}], \"scattergeo\": [{\"marker\": {\"colorbar\": {\"outlinewidth\": 0, \"ticks\": \"\"}}, \"type\": \"scattergeo\"}], \"scattergl\": [{\"marker\": {\"colorbar\": {\"outlinewidth\": 0, \"ticks\": \"\"}}, \"type\": \"scattergl\"}], \"scattermapbox\": [{\"marker\": {\"colorbar\": {\"outlinewidth\": 0, \"ticks\": \"\"}}, \"type\": \"scattermapbox\"}], \"scatterpolar\": [{\"marker\": {\"colorbar\": {\"outlinewidth\": 0, \"ticks\": \"\"}}, \"type\": \"scatterpolar\"}], \"scatterpolargl\": [{\"marker\": {\"colorbar\": {\"outlinewidth\": 0, \"ticks\": \"\"}}, \"type\": \"scatterpolargl\"}], \"scatterternary\": [{\"marker\": {\"colorbar\": {\"outlinewidth\": 0, \"ticks\": \"\"}}, \"type\": \"scatterternary\"}], \"surface\": [{\"colorbar\": {\"outlinewidth\": 0, \"ticks\": \"\"}, \"colorscale\": [[0.0, \"#0d0887\"], [0.1111111111111111, \"#46039f\"], [0.2222222222222222, \"#7201a8\"], [0.3333333333333333, \"#9c179e\"], [0.4444444444444444, \"#bd3786\"], [0.5555555555555556, \"#d8576b\"], [0.6666666666666666, \"#ed7953\"], [0.7777777777777778, \"#fb9f3a\"], [0.8888888888888888, \"#fdca26\"], [1.0, \"#f0f921\"]], \"type\": \"surface\"}], \"table\": [{\"cells\": {\"fill\": {\"color\": \"#EBF0F8\"}, \"line\": {\"color\": \"white\"}}, \"header\": {\"fill\": {\"color\": \"#C8D4E3\"}, \"line\": {\"color\": \"white\"}}, \"type\": \"table\"}]}, \"layout\": {\"annotationdefaults\": {\"arrowcolor\": \"#2a3f5f\", \"arrowhead\": 0, \"arrowwidth\": 1}, \"coloraxis\": {\"colorbar\": {\"outlinewidth\": 0, \"ticks\": \"\"}}, \"colorscale\": {\"diverging\": [[0, \"#8e0152\"], [0.1, \"#c51b7d\"], [0.2, \"#de77ae\"], [0.3, \"#f1b6da\"], [0.4, \"#fde0ef\"], [0.5, \"#f7f7f7\"], [0.6, \"#e6f5d0\"], [0.7, \"#b8e186\"], [0.8, \"#7fbc41\"], [0.9, \"#4d9221\"], [1, \"#276419\"]], \"sequential\": [[0.0, \"#0d0887\"], [0.1111111111111111, \"#46039f\"], [0.2222222222222222, \"#7201a8\"], [0.3333333333333333, \"#9c179e\"], [0.4444444444444444, \"#bd3786\"], [0.5555555555555556, \"#d8576b\"], [0.6666666666666666, \"#ed7953\"], [0.7777777777777778, \"#fb9f3a\"], [0.8888888888888888, \"#fdca26\"], [1.0, \"#f0f921\"]], \"sequentialminus\": [[0.0, \"#0d0887\"], [0.1111111111111111, \"#46039f\"], [0.2222222222222222, \"#7201a8\"], [0.3333333333333333, \"#9c179e\"], [0.4444444444444444, \"#bd3786\"], [0.5555555555555556, \"#d8576b\"], [0.6666666666666666, \"#ed7953\"], [0.7777777777777778, \"#fb9f3a\"], [0.8888888888888888, \"#fdca26\"], [1.0, \"#f0f921\"]]}, \"colorway\": [\"#636efa\", \"#EF553B\", \"#00cc96\", \"#ab63fa\", \"#FFA15A\", \"#19d3f3\", \"#FF6692\", \"#B6E880\", \"#FF97FF\", \"#FECB52\"], \"font\": {\"color\": \"#2a3f5f\"}, \"geo\": {\"bgcolor\": \"white\", \"lakecolor\": \"white\", \"landcolor\": \"#E5ECF6\", \"showlakes\": true, \"showland\": true, \"subunitcolor\": \"white\"}, \"hoverlabel\": {\"align\": \"left\"}, \"hovermode\": \"closest\", \"mapbox\": {\"style\": \"light\"}, \"paper_bgcolor\": \"white\", \"plot_bgcolor\": \"#E5ECF6\", \"polar\": {\"angularaxis\": {\"gridcolor\": \"white\", \"linecolor\": \"white\", \"ticks\": \"\"}, \"bgcolor\": \"#E5ECF6\", \"radialaxis\": {\"gridcolor\": \"white\", \"linecolor\": \"white\", \"ticks\": \"\"}}, \"scene\": {\"xaxis\": {\"backgroundcolor\": \"#E5ECF6\", \"gridcolor\": \"white\", \"gridwidth\": 2, \"linecolor\": \"white\", \"showbackground\": true, \"ticks\": \"\", \"zerolinecolor\": \"white\"}, \"yaxis\": {\"backgroundcolor\": \"#E5ECF6\", \"gridcolor\": \"white\", \"gridwidth\": 2, \"linecolor\": \"white\", \"showbackground\": true, \"ticks\": \"\", \"zerolinecolor\": \"white\"}, \"zaxis\": {\"backgroundcolor\": \"#E5ECF6\", \"gridcolor\": \"white\", \"gridwidth\": 2, \"linecolor\": \"white\", \"showbackground\": true, \"ticks\": \"\", \"zerolinecolor\": \"white\"}}, \"shapedefaults\": {\"line\": {\"color\": \"#2a3f5f\"}}, \"ternary\": {\"aaxis\": {\"gridcolor\": \"white\", \"linecolor\": \"white\", \"ticks\": \"\"}, \"baxis\": {\"gridcolor\": \"white\", \"linecolor\": \"white\", \"ticks\": \"\"}, \"bgcolor\": \"#E5ECF6\", \"caxis\": {\"gridcolor\": \"white\", \"linecolor\": \"white\", \"ticks\": \"\"}}, \"title\": {\"x\": 0.05}, \"xaxis\": {\"automargin\": true, \"gridcolor\": \"white\", \"linecolor\": \"white\", \"ticks\": \"\", \"title\": {\"standoff\": 15}, \"zerolinecolor\": \"white\", \"zerolinewidth\": 2}, \"yaxis\": {\"automargin\": true, \"gridcolor\": \"white\", \"linecolor\": \"white\", \"ticks\": \"\", \"title\": {\"standoff\": 15}, \"zerolinecolor\": \"white\", \"zerolinewidth\": 2}}}, \"title\": {\"font\": {\"color\": \"#4D5663\"}, \"text\": \"Mes de integraci\\u00f3n\"}, \"xaxis\": {\"gridcolor\": \"#E1E5ED\", \"showgrid\": true, \"tickfont\": {\"color\": \"#4D5663\"}, \"title\": {\"font\": {\"color\": \"#4D5663\"}, \"text\": \"Mes\"}, \"zerolinecolor\": \"#E1E5ED\"}, \"yaxis\": {\"gridcolor\": \"#E1E5ED\", \"showgrid\": true, \"tickfont\": {\"color\": \"#4D5663\"}, \"title\": {\"font\": {\"color\": \"#4D5663\"}, \"text\": \"N. Empresas\"}, \"zerolinecolor\": \"#E1E5ED\"}},\n",
       "                        {\"showLink\": true, \"linkText\": \"Export to plot.ly\", \"plotlyServerURL\": \"https://plot.ly\", \"responsive\": true}\n",
       "                    ).then(function(){\n",
       "                            \n",
       "var gd = document.getElementById('a7c3c4e9-eb4b-440a-aca4-9fe5a2bb02ea');\n",
       "var x = new MutationObserver(function (mutations, observer) {{\n",
       "        var display = window.getComputedStyle(gd).display;\n",
       "        if (!display || display === 'none') {{\n",
       "            console.log([gd, 'removed!']);\n",
       "            Plotly.purge(gd);\n",
       "            observer.disconnect();\n",
       "        }}\n",
       "}});\n",
       "\n",
       "// Listen for the removal of the full notebook cells\n",
       "var notebookContainer = gd.closest('#notebook-container');\n",
       "if (notebookContainer) {{\n",
       "    x.observe(notebookContainer, {childList: true});\n",
       "}}\n",
       "\n",
       "// Listen for the clearing of the current output cell\n",
       "var outputEl = gd.closest('.output');\n",
       "if (outputEl) {{\n",
       "    x.observe(outputEl, {childList: true});\n",
       "}}\n",
       "\n",
       "                        })\n",
       "                };\n",
       "                });\n",
       "            </script>\n",
       "        </div>"
      ]
     },
     "metadata": {},
     "output_type": "display_data"
    },
    {
     "data": {
      "application/vnd.plotly.v1+json": {
       "config": {
        "linkText": "Export to plot.ly",
        "plotlyServerURL": "https://plot.ly",
        "showLink": true
       },
       "data": [
        {
         "marker": {
          "color": "rgba(255, 153, 51, 0.6)",
          "line": {
           "color": "rgba(255, 153, 51, 1.0)",
           "width": 1
          }
         },
         "name": "Año",
         "orientation": "v",
         "text": "",
         "type": "bar",
         "x": [
          2010,
          2011,
          2012,
          2014,
          2016,
          2017,
          2019
         ],
         "y": [
          52,
          4,
          1,
          19,
          4,
          4,
          43
         ]
        }
       ],
       "layout": {
        "legend": {
         "bgcolor": "#F5F6F9",
         "font": {
          "color": "#4D5663"
         }
        },
        "paper_bgcolor": "#F5F6F9",
        "plot_bgcolor": "#F5F6F9",
        "template": {
         "data": {
          "bar": [
           {
            "error_x": {
             "color": "#2a3f5f"
            },
            "error_y": {
             "color": "#2a3f5f"
            },
            "marker": {
             "line": {
              "color": "#E5ECF6",
              "width": 0.5
             }
            },
            "type": "bar"
           }
          ],
          "barpolar": [
           {
            "marker": {
             "line": {
              "color": "#E5ECF6",
              "width": 0.5
             }
            },
            "type": "barpolar"
           }
          ],
          "carpet": [
           {
            "aaxis": {
             "endlinecolor": "#2a3f5f",
             "gridcolor": "white",
             "linecolor": "white",
             "minorgridcolor": "white",
             "startlinecolor": "#2a3f5f"
            },
            "baxis": {
             "endlinecolor": "#2a3f5f",
             "gridcolor": "white",
             "linecolor": "white",
             "minorgridcolor": "white",
             "startlinecolor": "#2a3f5f"
            },
            "type": "carpet"
           }
          ],
          "choropleth": [
           {
            "colorbar": {
             "outlinewidth": 0,
             "ticks": ""
            },
            "type": "choropleth"
           }
          ],
          "contour": [
           {
            "colorbar": {
             "outlinewidth": 0,
             "ticks": ""
            },
            "colorscale": [
             [
              0,
              "#0d0887"
             ],
             [
              0.1111111111111111,
              "#46039f"
             ],
             [
              0.2222222222222222,
              "#7201a8"
             ],
             [
              0.3333333333333333,
              "#9c179e"
             ],
             [
              0.4444444444444444,
              "#bd3786"
             ],
             [
              0.5555555555555556,
              "#d8576b"
             ],
             [
              0.6666666666666666,
              "#ed7953"
             ],
             [
              0.7777777777777778,
              "#fb9f3a"
             ],
             [
              0.8888888888888888,
              "#fdca26"
             ],
             [
              1,
              "#f0f921"
             ]
            ],
            "type": "contour"
           }
          ],
          "contourcarpet": [
           {
            "colorbar": {
             "outlinewidth": 0,
             "ticks": ""
            },
            "type": "contourcarpet"
           }
          ],
          "heatmap": [
           {
            "colorbar": {
             "outlinewidth": 0,
             "ticks": ""
            },
            "colorscale": [
             [
              0,
              "#0d0887"
             ],
             [
              0.1111111111111111,
              "#46039f"
             ],
             [
              0.2222222222222222,
              "#7201a8"
             ],
             [
              0.3333333333333333,
              "#9c179e"
             ],
             [
              0.4444444444444444,
              "#bd3786"
             ],
             [
              0.5555555555555556,
              "#d8576b"
             ],
             [
              0.6666666666666666,
              "#ed7953"
             ],
             [
              0.7777777777777778,
              "#fb9f3a"
             ],
             [
              0.8888888888888888,
              "#fdca26"
             ],
             [
              1,
              "#f0f921"
             ]
            ],
            "type": "heatmap"
           }
          ],
          "heatmapgl": [
           {
            "colorbar": {
             "outlinewidth": 0,
             "ticks": ""
            },
            "colorscale": [
             [
              0,
              "#0d0887"
             ],
             [
              0.1111111111111111,
              "#46039f"
             ],
             [
              0.2222222222222222,
              "#7201a8"
             ],
             [
              0.3333333333333333,
              "#9c179e"
             ],
             [
              0.4444444444444444,
              "#bd3786"
             ],
             [
              0.5555555555555556,
              "#d8576b"
             ],
             [
              0.6666666666666666,
              "#ed7953"
             ],
             [
              0.7777777777777778,
              "#fb9f3a"
             ],
             [
              0.8888888888888888,
              "#fdca26"
             ],
             [
              1,
              "#f0f921"
             ]
            ],
            "type": "heatmapgl"
           }
          ],
          "histogram": [
           {
            "marker": {
             "colorbar": {
              "outlinewidth": 0,
              "ticks": ""
             }
            },
            "type": "histogram"
           }
          ],
          "histogram2d": [
           {
            "colorbar": {
             "outlinewidth": 0,
             "ticks": ""
            },
            "colorscale": [
             [
              0,
              "#0d0887"
             ],
             [
              0.1111111111111111,
              "#46039f"
             ],
             [
              0.2222222222222222,
              "#7201a8"
             ],
             [
              0.3333333333333333,
              "#9c179e"
             ],
             [
              0.4444444444444444,
              "#bd3786"
             ],
             [
              0.5555555555555556,
              "#d8576b"
             ],
             [
              0.6666666666666666,
              "#ed7953"
             ],
             [
              0.7777777777777778,
              "#fb9f3a"
             ],
             [
              0.8888888888888888,
              "#fdca26"
             ],
             [
              1,
              "#f0f921"
             ]
            ],
            "type": "histogram2d"
           }
          ],
          "histogram2dcontour": [
           {
            "colorbar": {
             "outlinewidth": 0,
             "ticks": ""
            },
            "colorscale": [
             [
              0,
              "#0d0887"
             ],
             [
              0.1111111111111111,
              "#46039f"
             ],
             [
              0.2222222222222222,
              "#7201a8"
             ],
             [
              0.3333333333333333,
              "#9c179e"
             ],
             [
              0.4444444444444444,
              "#bd3786"
             ],
             [
              0.5555555555555556,
              "#d8576b"
             ],
             [
              0.6666666666666666,
              "#ed7953"
             ],
             [
              0.7777777777777778,
              "#fb9f3a"
             ],
             [
              0.8888888888888888,
              "#fdca26"
             ],
             [
              1,
              "#f0f921"
             ]
            ],
            "type": "histogram2dcontour"
           }
          ],
          "mesh3d": [
           {
            "colorbar": {
             "outlinewidth": 0,
             "ticks": ""
            },
            "type": "mesh3d"
           }
          ],
          "parcoords": [
           {
            "line": {
             "colorbar": {
              "outlinewidth": 0,
              "ticks": ""
             }
            },
            "type": "parcoords"
           }
          ],
          "pie": [
           {
            "automargin": true,
            "type": "pie"
           }
          ],
          "scatter": [
           {
            "marker": {
             "colorbar": {
              "outlinewidth": 0,
              "ticks": ""
             }
            },
            "type": "scatter"
           }
          ],
          "scatter3d": [
           {
            "line": {
             "colorbar": {
              "outlinewidth": 0,
              "ticks": ""
             }
            },
            "marker": {
             "colorbar": {
              "outlinewidth": 0,
              "ticks": ""
             }
            },
            "type": "scatter3d"
           }
          ],
          "scattercarpet": [
           {
            "marker": {
             "colorbar": {
              "outlinewidth": 0,
              "ticks": ""
             }
            },
            "type": "scattercarpet"
           }
          ],
          "scattergeo": [
           {
            "marker": {
             "colorbar": {
              "outlinewidth": 0,
              "ticks": ""
             }
            },
            "type": "scattergeo"
           }
          ],
          "scattergl": [
           {
            "marker": {
             "colorbar": {
              "outlinewidth": 0,
              "ticks": ""
             }
            },
            "type": "scattergl"
           }
          ],
          "scattermapbox": [
           {
            "marker": {
             "colorbar": {
              "outlinewidth": 0,
              "ticks": ""
             }
            },
            "type": "scattermapbox"
           }
          ],
          "scatterpolar": [
           {
            "marker": {
             "colorbar": {
              "outlinewidth": 0,
              "ticks": ""
             }
            },
            "type": "scatterpolar"
           }
          ],
          "scatterpolargl": [
           {
            "marker": {
             "colorbar": {
              "outlinewidth": 0,
              "ticks": ""
             }
            },
            "type": "scatterpolargl"
           }
          ],
          "scatterternary": [
           {
            "marker": {
             "colorbar": {
              "outlinewidth": 0,
              "ticks": ""
             }
            },
            "type": "scatterternary"
           }
          ],
          "surface": [
           {
            "colorbar": {
             "outlinewidth": 0,
             "ticks": ""
            },
            "colorscale": [
             [
              0,
              "#0d0887"
             ],
             [
              0.1111111111111111,
              "#46039f"
             ],
             [
              0.2222222222222222,
              "#7201a8"
             ],
             [
              0.3333333333333333,
              "#9c179e"
             ],
             [
              0.4444444444444444,
              "#bd3786"
             ],
             [
              0.5555555555555556,
              "#d8576b"
             ],
             [
              0.6666666666666666,
              "#ed7953"
             ],
             [
              0.7777777777777778,
              "#fb9f3a"
             ],
             [
              0.8888888888888888,
              "#fdca26"
             ],
             [
              1,
              "#f0f921"
             ]
            ],
            "type": "surface"
           }
          ],
          "table": [
           {
            "cells": {
             "fill": {
              "color": "#EBF0F8"
             },
             "line": {
              "color": "white"
             }
            },
            "header": {
             "fill": {
              "color": "#C8D4E3"
             },
             "line": {
              "color": "white"
             }
            },
            "type": "table"
           }
          ]
         },
         "layout": {
          "annotationdefaults": {
           "arrowcolor": "#2a3f5f",
           "arrowhead": 0,
           "arrowwidth": 1
          },
          "coloraxis": {
           "colorbar": {
            "outlinewidth": 0,
            "ticks": ""
           }
          },
          "colorscale": {
           "diverging": [
            [
             0,
             "#8e0152"
            ],
            [
             0.1,
             "#c51b7d"
            ],
            [
             0.2,
             "#de77ae"
            ],
            [
             0.3,
             "#f1b6da"
            ],
            [
             0.4,
             "#fde0ef"
            ],
            [
             0.5,
             "#f7f7f7"
            ],
            [
             0.6,
             "#e6f5d0"
            ],
            [
             0.7,
             "#b8e186"
            ],
            [
             0.8,
             "#7fbc41"
            ],
            [
             0.9,
             "#4d9221"
            ],
            [
             1,
             "#276419"
            ]
           ],
           "sequential": [
            [
             0,
             "#0d0887"
            ],
            [
             0.1111111111111111,
             "#46039f"
            ],
            [
             0.2222222222222222,
             "#7201a8"
            ],
            [
             0.3333333333333333,
             "#9c179e"
            ],
            [
             0.4444444444444444,
             "#bd3786"
            ],
            [
             0.5555555555555556,
             "#d8576b"
            ],
            [
             0.6666666666666666,
             "#ed7953"
            ],
            [
             0.7777777777777778,
             "#fb9f3a"
            ],
            [
             0.8888888888888888,
             "#fdca26"
            ],
            [
             1,
             "#f0f921"
            ]
           ],
           "sequentialminus": [
            [
             0,
             "#0d0887"
            ],
            [
             0.1111111111111111,
             "#46039f"
            ],
            [
             0.2222222222222222,
             "#7201a8"
            ],
            [
             0.3333333333333333,
             "#9c179e"
            ],
            [
             0.4444444444444444,
             "#bd3786"
            ],
            [
             0.5555555555555556,
             "#d8576b"
            ],
            [
             0.6666666666666666,
             "#ed7953"
            ],
            [
             0.7777777777777778,
             "#fb9f3a"
            ],
            [
             0.8888888888888888,
             "#fdca26"
            ],
            [
             1,
             "#f0f921"
            ]
           ]
          },
          "colorway": [
           "#636efa",
           "#EF553B",
           "#00cc96",
           "#ab63fa",
           "#FFA15A",
           "#19d3f3",
           "#FF6692",
           "#B6E880",
           "#FF97FF",
           "#FECB52"
          ],
          "font": {
           "color": "#2a3f5f"
          },
          "geo": {
           "bgcolor": "white",
           "lakecolor": "white",
           "landcolor": "#E5ECF6",
           "showlakes": true,
           "showland": true,
           "subunitcolor": "white"
          },
          "hoverlabel": {
           "align": "left"
          },
          "hovermode": "closest",
          "mapbox": {
           "style": "light"
          },
          "paper_bgcolor": "white",
          "plot_bgcolor": "#E5ECF6",
          "polar": {
           "angularaxis": {
            "gridcolor": "white",
            "linecolor": "white",
            "ticks": ""
           },
           "bgcolor": "#E5ECF6",
           "radialaxis": {
            "gridcolor": "white",
            "linecolor": "white",
            "ticks": ""
           }
          },
          "scene": {
           "xaxis": {
            "backgroundcolor": "#E5ECF6",
            "gridcolor": "white",
            "gridwidth": 2,
            "linecolor": "white",
            "showbackground": true,
            "ticks": "",
            "zerolinecolor": "white"
           },
           "yaxis": {
            "backgroundcolor": "#E5ECF6",
            "gridcolor": "white",
            "gridwidth": 2,
            "linecolor": "white",
            "showbackground": true,
            "ticks": "",
            "zerolinecolor": "white"
           },
           "zaxis": {
            "backgroundcolor": "#E5ECF6",
            "gridcolor": "white",
            "gridwidth": 2,
            "linecolor": "white",
            "showbackground": true,
            "ticks": "",
            "zerolinecolor": "white"
           }
          },
          "shapedefaults": {
           "line": {
            "color": "#2a3f5f"
           }
          },
          "ternary": {
           "aaxis": {
            "gridcolor": "white",
            "linecolor": "white",
            "ticks": ""
           },
           "baxis": {
            "gridcolor": "white",
            "linecolor": "white",
            "ticks": ""
           },
           "bgcolor": "#E5ECF6",
           "caxis": {
            "gridcolor": "white",
            "linecolor": "white",
            "ticks": ""
           }
          },
          "title": {
           "x": 0.05
          },
          "xaxis": {
           "automargin": true,
           "gridcolor": "white",
           "linecolor": "white",
           "ticks": "",
           "title": {
            "standoff": 15
           },
           "zerolinecolor": "white",
           "zerolinewidth": 2
          },
          "yaxis": {
           "automargin": true,
           "gridcolor": "white",
           "linecolor": "white",
           "ticks": "",
           "title": {
            "standoff": 15
           },
           "zerolinecolor": "white",
           "zerolinewidth": 2
          }
         }
        },
        "title": {
         "font": {
          "color": "#4D5663"
         },
         "text": "Año de integracion...."
        },
        "xaxis": {
         "gridcolor": "#E1E5ED",
         "showgrid": true,
         "tickfont": {
          "color": "#4D5663"
         },
         "title": {
          "font": {
           "color": "#4D5663"
          },
          "text": "Año"
         },
         "zerolinecolor": "#E1E5ED"
        },
        "yaxis": {
         "gridcolor": "#E1E5ED",
         "showgrid": true,
         "tickfont": {
          "color": "#4D5663"
         },
         "title": {
          "font": {
           "color": "#4D5663"
          },
          "text": "N. Empresas"
         },
         "zerolinecolor": "#E1E5ED"
        }
       }
      },
      "text/html": [
       "<div>\n",
       "        \n",
       "        \n",
       "            <div id=\"277c5618-2675-4704-974f-aaf6f571da96\" class=\"plotly-graph-div\" style=\"height:525px; width:100%;\"></div>\n",
       "            <script type=\"text/javascript\">\n",
       "                require([\"plotly\"], function(Plotly) {\n",
       "                    window.PLOTLYENV=window.PLOTLYENV || {};\n",
       "                    window.PLOTLYENV.BASE_URL='https://plot.ly';\n",
       "                    \n",
       "                if (document.getElementById(\"277c5618-2675-4704-974f-aaf6f571da96\")) {\n",
       "                    Plotly.newPlot(\n",
       "                        '277c5618-2675-4704-974f-aaf6f571da96',\n",
       "                        [{\"marker\": {\"color\": \"rgba(255, 153, 51, 0.6)\", \"line\": {\"color\": \"rgba(255, 153, 51, 1.0)\", \"width\": 1}}, \"name\": \"A\\u00f1o\", \"orientation\": \"v\", \"text\": \"\", \"type\": \"bar\", \"x\": [2010, 2011, 2012, 2014, 2016, 2017, 2019], \"y\": [52, 4, 1, 19, 4, 4, 43]}],\n",
       "                        {\"legend\": {\"bgcolor\": \"#F5F6F9\", \"font\": {\"color\": \"#4D5663\"}}, \"paper_bgcolor\": \"#F5F6F9\", \"plot_bgcolor\": \"#F5F6F9\", \"template\": {\"data\": {\"bar\": [{\"error_x\": {\"color\": \"#2a3f5f\"}, \"error_y\": {\"color\": \"#2a3f5f\"}, \"marker\": {\"line\": {\"color\": \"#E5ECF6\", \"width\": 0.5}}, \"type\": \"bar\"}], \"barpolar\": [{\"marker\": {\"line\": {\"color\": \"#E5ECF6\", \"width\": 0.5}}, \"type\": \"barpolar\"}], \"carpet\": [{\"aaxis\": {\"endlinecolor\": \"#2a3f5f\", \"gridcolor\": \"white\", \"linecolor\": \"white\", \"minorgridcolor\": \"white\", \"startlinecolor\": \"#2a3f5f\"}, \"baxis\": {\"endlinecolor\": \"#2a3f5f\", \"gridcolor\": \"white\", \"linecolor\": \"white\", \"minorgridcolor\": \"white\", \"startlinecolor\": \"#2a3f5f\"}, \"type\": \"carpet\"}], \"choropleth\": [{\"colorbar\": {\"outlinewidth\": 0, \"ticks\": \"\"}, \"type\": \"choropleth\"}], \"contour\": [{\"colorbar\": {\"outlinewidth\": 0, \"ticks\": \"\"}, \"colorscale\": [[0.0, \"#0d0887\"], [0.1111111111111111, \"#46039f\"], [0.2222222222222222, \"#7201a8\"], [0.3333333333333333, \"#9c179e\"], [0.4444444444444444, \"#bd3786\"], [0.5555555555555556, \"#d8576b\"], [0.6666666666666666, \"#ed7953\"], [0.7777777777777778, \"#fb9f3a\"], [0.8888888888888888, \"#fdca26\"], [1.0, \"#f0f921\"]], \"type\": \"contour\"}], \"contourcarpet\": [{\"colorbar\": {\"outlinewidth\": 0, \"ticks\": \"\"}, \"type\": \"contourcarpet\"}], \"heatmap\": [{\"colorbar\": {\"outlinewidth\": 0, \"ticks\": \"\"}, \"colorscale\": [[0.0, \"#0d0887\"], [0.1111111111111111, \"#46039f\"], [0.2222222222222222, \"#7201a8\"], [0.3333333333333333, \"#9c179e\"], [0.4444444444444444, \"#bd3786\"], [0.5555555555555556, \"#d8576b\"], [0.6666666666666666, \"#ed7953\"], [0.7777777777777778, \"#fb9f3a\"], [0.8888888888888888, \"#fdca26\"], [1.0, \"#f0f921\"]], \"type\": \"heatmap\"}], \"heatmapgl\": [{\"colorbar\": {\"outlinewidth\": 0, \"ticks\": \"\"}, \"colorscale\": [[0.0, \"#0d0887\"], [0.1111111111111111, \"#46039f\"], [0.2222222222222222, \"#7201a8\"], [0.3333333333333333, \"#9c179e\"], [0.4444444444444444, \"#bd3786\"], [0.5555555555555556, \"#d8576b\"], [0.6666666666666666, \"#ed7953\"], [0.7777777777777778, \"#fb9f3a\"], [0.8888888888888888, \"#fdca26\"], [1.0, \"#f0f921\"]], \"type\": \"heatmapgl\"}], \"histogram\": [{\"marker\": {\"colorbar\": {\"outlinewidth\": 0, \"ticks\": \"\"}}, \"type\": \"histogram\"}], \"histogram2d\": [{\"colorbar\": {\"outlinewidth\": 0, \"ticks\": \"\"}, \"colorscale\": [[0.0, \"#0d0887\"], [0.1111111111111111, \"#46039f\"], [0.2222222222222222, \"#7201a8\"], [0.3333333333333333, \"#9c179e\"], [0.4444444444444444, \"#bd3786\"], [0.5555555555555556, \"#d8576b\"], [0.6666666666666666, \"#ed7953\"], [0.7777777777777778, \"#fb9f3a\"], [0.8888888888888888, \"#fdca26\"], [1.0, \"#f0f921\"]], \"type\": \"histogram2d\"}], \"histogram2dcontour\": [{\"colorbar\": {\"outlinewidth\": 0, \"ticks\": \"\"}, \"colorscale\": [[0.0, \"#0d0887\"], [0.1111111111111111, \"#46039f\"], [0.2222222222222222, \"#7201a8\"], [0.3333333333333333, \"#9c179e\"], [0.4444444444444444, \"#bd3786\"], [0.5555555555555556, \"#d8576b\"], [0.6666666666666666, \"#ed7953\"], [0.7777777777777778, \"#fb9f3a\"], [0.8888888888888888, \"#fdca26\"], [1.0, \"#f0f921\"]], \"type\": \"histogram2dcontour\"}], \"mesh3d\": [{\"colorbar\": {\"outlinewidth\": 0, \"ticks\": \"\"}, \"type\": \"mesh3d\"}], \"parcoords\": [{\"line\": {\"colorbar\": {\"outlinewidth\": 0, \"ticks\": \"\"}}, \"type\": \"parcoords\"}], \"pie\": [{\"automargin\": true, \"type\": \"pie\"}], \"scatter\": [{\"marker\": {\"colorbar\": {\"outlinewidth\": 0, \"ticks\": \"\"}}, \"type\": \"scatter\"}], \"scatter3d\": [{\"line\": {\"colorbar\": {\"outlinewidth\": 0, \"ticks\": \"\"}}, \"marker\": {\"colorbar\": {\"outlinewidth\": 0, \"ticks\": \"\"}}, \"type\": \"scatter3d\"}], \"scattercarpet\": [{\"marker\": {\"colorbar\": {\"outlinewidth\": 0, \"ticks\": \"\"}}, \"type\": \"scattercarpet\"}], \"scattergeo\": [{\"marker\": {\"colorbar\": {\"outlinewidth\": 0, \"ticks\": \"\"}}, \"type\": \"scattergeo\"}], \"scattergl\": [{\"marker\": {\"colorbar\": {\"outlinewidth\": 0, \"ticks\": \"\"}}, \"type\": \"scattergl\"}], \"scattermapbox\": [{\"marker\": {\"colorbar\": {\"outlinewidth\": 0, \"ticks\": \"\"}}, \"type\": \"scattermapbox\"}], \"scatterpolar\": [{\"marker\": {\"colorbar\": {\"outlinewidth\": 0, \"ticks\": \"\"}}, \"type\": \"scatterpolar\"}], \"scatterpolargl\": [{\"marker\": {\"colorbar\": {\"outlinewidth\": 0, \"ticks\": \"\"}}, \"type\": \"scatterpolargl\"}], \"scatterternary\": [{\"marker\": {\"colorbar\": {\"outlinewidth\": 0, \"ticks\": \"\"}}, \"type\": \"scatterternary\"}], \"surface\": [{\"colorbar\": {\"outlinewidth\": 0, \"ticks\": \"\"}, \"colorscale\": [[0.0, \"#0d0887\"], [0.1111111111111111, \"#46039f\"], [0.2222222222222222, \"#7201a8\"], [0.3333333333333333, \"#9c179e\"], [0.4444444444444444, \"#bd3786\"], [0.5555555555555556, \"#d8576b\"], [0.6666666666666666, \"#ed7953\"], [0.7777777777777778, \"#fb9f3a\"], [0.8888888888888888, \"#fdca26\"], [1.0, \"#f0f921\"]], \"type\": \"surface\"}], \"table\": [{\"cells\": {\"fill\": {\"color\": \"#EBF0F8\"}, \"line\": {\"color\": \"white\"}}, \"header\": {\"fill\": {\"color\": \"#C8D4E3\"}, \"line\": {\"color\": \"white\"}}, \"type\": \"table\"}]}, \"layout\": {\"annotationdefaults\": {\"arrowcolor\": \"#2a3f5f\", \"arrowhead\": 0, \"arrowwidth\": 1}, \"coloraxis\": {\"colorbar\": {\"outlinewidth\": 0, \"ticks\": \"\"}}, \"colorscale\": {\"diverging\": [[0, \"#8e0152\"], [0.1, \"#c51b7d\"], [0.2, \"#de77ae\"], [0.3, \"#f1b6da\"], [0.4, \"#fde0ef\"], [0.5, \"#f7f7f7\"], [0.6, \"#e6f5d0\"], [0.7, \"#b8e186\"], [0.8, \"#7fbc41\"], [0.9, \"#4d9221\"], [1, \"#276419\"]], \"sequential\": [[0.0, \"#0d0887\"], [0.1111111111111111, \"#46039f\"], [0.2222222222222222, \"#7201a8\"], [0.3333333333333333, \"#9c179e\"], [0.4444444444444444, \"#bd3786\"], [0.5555555555555556, \"#d8576b\"], [0.6666666666666666, \"#ed7953\"], [0.7777777777777778, \"#fb9f3a\"], [0.8888888888888888, \"#fdca26\"], [1.0, \"#f0f921\"]], \"sequentialminus\": [[0.0, \"#0d0887\"], [0.1111111111111111, \"#46039f\"], [0.2222222222222222, \"#7201a8\"], [0.3333333333333333, \"#9c179e\"], [0.4444444444444444, \"#bd3786\"], [0.5555555555555556, \"#d8576b\"], [0.6666666666666666, \"#ed7953\"], [0.7777777777777778, \"#fb9f3a\"], [0.8888888888888888, \"#fdca26\"], [1.0, \"#f0f921\"]]}, \"colorway\": [\"#636efa\", \"#EF553B\", \"#00cc96\", \"#ab63fa\", \"#FFA15A\", \"#19d3f3\", \"#FF6692\", \"#B6E880\", \"#FF97FF\", \"#FECB52\"], \"font\": {\"color\": \"#2a3f5f\"}, \"geo\": {\"bgcolor\": \"white\", \"lakecolor\": \"white\", \"landcolor\": \"#E5ECF6\", \"showlakes\": true, \"showland\": true, \"subunitcolor\": \"white\"}, \"hoverlabel\": {\"align\": \"left\"}, \"hovermode\": \"closest\", \"mapbox\": {\"style\": \"light\"}, \"paper_bgcolor\": \"white\", \"plot_bgcolor\": \"#E5ECF6\", \"polar\": {\"angularaxis\": {\"gridcolor\": \"white\", \"linecolor\": \"white\", \"ticks\": \"\"}, \"bgcolor\": \"#E5ECF6\", \"radialaxis\": {\"gridcolor\": \"white\", \"linecolor\": \"white\", \"ticks\": \"\"}}, \"scene\": {\"xaxis\": {\"backgroundcolor\": \"#E5ECF6\", \"gridcolor\": \"white\", \"gridwidth\": 2, \"linecolor\": \"white\", \"showbackground\": true, \"ticks\": \"\", \"zerolinecolor\": \"white\"}, \"yaxis\": {\"backgroundcolor\": \"#E5ECF6\", \"gridcolor\": \"white\", \"gridwidth\": 2, \"linecolor\": \"white\", \"showbackground\": true, \"ticks\": \"\", \"zerolinecolor\": \"white\"}, \"zaxis\": {\"backgroundcolor\": \"#E5ECF6\", \"gridcolor\": \"white\", \"gridwidth\": 2, \"linecolor\": \"white\", \"showbackground\": true, \"ticks\": \"\", \"zerolinecolor\": \"white\"}}, \"shapedefaults\": {\"line\": {\"color\": \"#2a3f5f\"}}, \"ternary\": {\"aaxis\": {\"gridcolor\": \"white\", \"linecolor\": \"white\", \"ticks\": \"\"}, \"baxis\": {\"gridcolor\": \"white\", \"linecolor\": \"white\", \"ticks\": \"\"}, \"bgcolor\": \"#E5ECF6\", \"caxis\": {\"gridcolor\": \"white\", \"linecolor\": \"white\", \"ticks\": \"\"}}, \"title\": {\"x\": 0.05}, \"xaxis\": {\"automargin\": true, \"gridcolor\": \"white\", \"linecolor\": \"white\", \"ticks\": \"\", \"title\": {\"standoff\": 15}, \"zerolinecolor\": \"white\", \"zerolinewidth\": 2}, \"yaxis\": {\"automargin\": true, \"gridcolor\": \"white\", \"linecolor\": \"white\", \"ticks\": \"\", \"title\": {\"standoff\": 15}, \"zerolinecolor\": \"white\", \"zerolinewidth\": 2}}}, \"title\": {\"font\": {\"color\": \"#4D5663\"}, \"text\": \"A\\u00f1o de integracion....\"}, \"xaxis\": {\"gridcolor\": \"#E1E5ED\", \"showgrid\": true, \"tickfont\": {\"color\": \"#4D5663\"}, \"title\": {\"font\": {\"color\": \"#4D5663\"}, \"text\": \"A\\u00f1o\"}, \"zerolinecolor\": \"#E1E5ED\"}, \"yaxis\": {\"gridcolor\": \"#E1E5ED\", \"showgrid\": true, \"tickfont\": {\"color\": \"#4D5663\"}, \"title\": {\"font\": {\"color\": \"#4D5663\"}, \"text\": \"N. Empresas\"}, \"zerolinecolor\": \"#E1E5ED\"}},\n",
       "                        {\"showLink\": true, \"linkText\": \"Export to plot.ly\", \"plotlyServerURL\": \"https://plot.ly\", \"responsive\": true}\n",
       "                    ).then(function(){\n",
       "                            \n",
       "var gd = document.getElementById('277c5618-2675-4704-974f-aaf6f571da96');\n",
       "var x = new MutationObserver(function (mutations, observer) {{\n",
       "        var display = window.getComputedStyle(gd).display;\n",
       "        if (!display || display === 'none') {{\n",
       "            console.log([gd, 'removed!']);\n",
       "            Plotly.purge(gd);\n",
       "            observer.disconnect();\n",
       "        }}\n",
       "}});\n",
       "\n",
       "// Listen for the removal of the full notebook cells\n",
       "var notebookContainer = gd.closest('#notebook-container');\n",
       "if (notebookContainer) {{\n",
       "    x.observe(notebookContainer, {childList: true});\n",
       "}}\n",
       "\n",
       "// Listen for the clearing of the current output cell\n",
       "var outputEl = gd.closest('.output');\n",
       "if (outputEl) {{\n",
       "    x.observe(outputEl, {childList: true});\n",
       "}}\n",
       "\n",
       "                        })\n",
       "                };\n",
       "                });\n",
       "            </script>\n",
       "        </div>"
      ]
     },
     "metadata": {},
     "output_type": "display_data"
    },
    {
     "data": {
      "image/png": "[encoded data removed]",
      "text/plain": [
       "<Figure size 432x288 with 1 Axes>"
      ]
     },
     "metadata": {},
     "output_type": "display_data"
    },
    {
     "data": {
      "image/png": "[encoded data removed]",
      "text/plain": [
       "<Figure size 432x288 with 1 Axes>"
      ]
     },
     "metadata": {},
     "output_type": "display_data"
    }
   ],
   "source": [
    "gm.iplot(x='index', y='Mes',kind='bar', xTitle='Mes',yTitle='N. Empresas', title='Mes de integración')\n",
    "gk.iplot(x='index', y='Año',kind='bar', xTitle='Año',yTitle='N. Empresas', title='Año de integracion....')\n",
    "ax = sns.barplot(x = 'index', y = 'Mes', data = gm, color = 'b')\n",
    "ax.set(xlabel='Mes de integración', ylabel='Numero de empresas')\n",
    "ax.figure.savefig('../images/Mes {}.png'.format(giro))\n",
    "plt.show()\n",
    "a2 = sns.barplot(x = 'index', y = 'Año', data = gk, color = 'g')\n",
    "a2.set(xlabel='Año de integración', ylabel='Numero de empresas')\n",
    "a2.figure.savefig('../images/Año {}.png'.format(giro))\n",
    "plt.show()\n",
    "\n"
   ]
  },
  {
   "cell_type": "code",
   "execution_count": 365,
   "metadata": {},
   "outputs": [
    {
     "data": {
      "text/html": [
       "<div>\n",
       "<style scoped>\n",
       "    .dataframe tbody tr th:only-of-type {\n",
       "        vertical-align: middle;\n",
       "    }\n",
       "\n",
       "    .dataframe tbody tr th {\n",
       "        vertical-align: top;\n",
       "    }\n",
       "\n",
       "    .dataframe thead th {\n",
       "        text-align: right;\n",
       "    }\n",
       "</style>\n",
       "<table border=\"1\" class=\"dataframe\">\n",
       "  <thead>\n",
       "    <tr style=\"text-align: right;\">\n",
       "      <th></th>\n",
       "      <th>index</th>\n",
       "      <th>Año</th>\n",
       "    </tr>\n",
       "  </thead>\n",
       "  <tbody>\n",
       "    <tr>\n",
       "      <th>6</th>\n",
       "      <td>2012</td>\n",
       "      <td>1</td>\n",
       "    </tr>\n",
       "    <tr>\n",
       "      <th>2</th>\n",
       "      <td>2014</td>\n",
       "      <td>19</td>\n",
       "    </tr>\n",
       "    <tr>\n",
       "      <th>4</th>\n",
       "      <td>2016</td>\n",
       "      <td>4</td>\n",
       "    </tr>\n",
       "    <tr>\n",
       "      <th>3</th>\n",
       "      <td>2017</td>\n",
       "      <td>4</td>\n",
       "    </tr>\n",
       "  </tbody>\n",
       "</table>\n",
       "</div>"
      ],
      "text/plain": [
       "   index  Año\n",
       "6   2012    1\n",
       "2   2014   19\n",
       "4   2016    4\n",
       "3   2017    4"
      ]
     },
     "execution_count": 365,
     "metadata": {},
     "output_type": "execute_result"
    }
   ],
   "source": [
    "mask=(gk[\"index\"] > 2011) & (gk[\"index\"] < 2019)\n",
    "gk.loc[mask]\n"
   ]
  },
  {
   "cell_type": "code",
   "execution_count": 366,
   "metadata": {},
   "outputs": [],
   "source": [
    "#Indice nacional de precios al consumidor"
   ]
  },
  {
   "cell_type": "code",
   "execution_count": 367,
   "metadata": {},
   "outputs": [
    {
     "data": {
      "text/html": [
       "<div>\n",
       "<style scoped>\n",
       "    .dataframe tbody tr th:only-of-type {\n",
       "        vertical-align: middle;\n",
       "    }\n",
       "\n",
       "    .dataframe tbody tr th {\n",
       "        vertical-align: top;\n",
       "    }\n",
       "\n",
       "    .dataframe thead th {\n",
       "        text-align: right;\n",
       "    }\n",
       "</style>\n",
       "<table border=\"1\" class=\"dataframe\">\n",
       "  <thead>\n",
       "    <tr style=\"text-align: right;\">\n",
       "      <th></th>\n",
       "      <th>Unnamed: 0</th>\n",
       "      <th>AGEB</th>\n",
       "      <th>MZA</th>\n",
       "      <th>POBTOT</th>\n",
       "      <th>POBMAS</th>\n",
       "      <th>POBFEM</th>\n",
       "      <th>PEA</th>\n",
       "      <th>PEA_M</th>\n",
       "      <th>PEA_F</th>\n",
       "      <th>PE_INAC</th>\n",
       "      <th>PE_INAC_M</th>\n",
       "      <th>PE_INAC_F</th>\n",
       "      <th>clave</th>\n",
       "    </tr>\n",
       "  </thead>\n",
       "  <tbody>\n",
       "    <tr>\n",
       "      <th>0</th>\n",
       "      <td>0</td>\n",
       "      <td>0000</td>\n",
       "      <td>0</td>\n",
       "      <td>8851080</td>\n",
       "      <td>4233783</td>\n",
       "      <td>4617297</td>\n",
       "      <td>4035075</td>\n",
       "      <td>2389679</td>\n",
       "      <td>1645396</td>\n",
       "      <td>3017165</td>\n",
       "      <td>920594</td>\n",
       "      <td>2096571</td>\n",
       "      <td>0000-0</td>\n",
       "    </tr>\n",
       "    <tr>\n",
       "      <th>1</th>\n",
       "      <td>1</td>\n",
       "      <td>0000</td>\n",
       "      <td>0</td>\n",
       "      <td>414711</td>\n",
       "      <td>196053</td>\n",
       "      <td>218658</td>\n",
       "      <td>187402</td>\n",
       "      <td>108940</td>\n",
       "      <td>78462</td>\n",
       "      <td>151520</td>\n",
       "      <td>48844</td>\n",
       "      <td>102676</td>\n",
       "      <td>0000-0</td>\n",
       "    </tr>\n",
       "    <tr>\n",
       "      <th>2</th>\n",
       "      <td>2</td>\n",
       "      <td>0000</td>\n",
       "      <td>0</td>\n",
       "      <td>414711</td>\n",
       "      <td>196053</td>\n",
       "      <td>218658</td>\n",
       "      <td>187402</td>\n",
       "      <td>108940</td>\n",
       "      <td>78462</td>\n",
       "      <td>151520</td>\n",
       "      <td>48844</td>\n",
       "      <td>102676</td>\n",
       "      <td>0000-0</td>\n",
       "    </tr>\n",
       "    <tr>\n",
       "      <th>3</th>\n",
       "      <td>3</td>\n",
       "      <td>0010</td>\n",
       "      <td>0</td>\n",
       "      <td>3424</td>\n",
       "      <td>1600</td>\n",
       "      <td>1824</td>\n",
       "      <td>1398</td>\n",
       "      <td>789</td>\n",
       "      <td>609</td>\n",
       "      <td>1511</td>\n",
       "      <td>552</td>\n",
       "      <td>959</td>\n",
       "      <td>0010-0</td>\n",
       "    </tr>\n",
       "    <tr>\n",
       "      <th>4</th>\n",
       "      <td>4</td>\n",
       "      <td>0010</td>\n",
       "      <td>1</td>\n",
       "      <td>202</td>\n",
       "      <td>96</td>\n",
       "      <td>106</td>\n",
       "      <td>75</td>\n",
       "      <td>47</td>\n",
       "      <td>28</td>\n",
       "      <td>97</td>\n",
       "      <td>37</td>\n",
       "      <td>60</td>\n",
       "      <td>0010-1</td>\n",
       "    </tr>\n",
       "  </tbody>\n",
       "</table>\n",
       "</div>"
      ],
      "text/plain": [
       "   Unnamed: 0  AGEB  MZA   POBTOT   POBMAS   POBFEM      PEA    PEA_M  \\\n",
       "0           0  0000    0  8851080  4233783  4617297  4035075  2389679   \n",
       "1           1  0000    0   414711   196053   218658   187402   108940   \n",
       "2           2  0000    0   414711   196053   218658   187402   108940   \n",
       "3           3  0010    0     3424     1600     1824     1398      789   \n",
       "4           4  0010    1      202       96      106       75       47   \n",
       "\n",
       "     PEA_F  PE_INAC PE_INAC_M PE_INAC_F   clave  \n",
       "0  1645396  3017165    920594   2096571  0000-0  \n",
       "1    78462   151520     48844    102676  0000-0  \n",
       "2    78462   151520     48844    102676  0000-0  \n",
       "3      609     1511       552       959  0010-0  \n",
       "4       28       97        37        60  0010-1  "
      ]
     },
     "execution_count": 367,
     "metadata": {},
     "output_type": "execute_result"
    }
   ],
   "source": [
    "poblaT = pd.read_csv('../pobclave.csv')\n",
    "poblaT.head()"
   ]
  },
  {
   "cell_type": "code",
   "execution_count": 368,
   "metadata": {},
   "outputs": [
    {
     "data": {
      "text/html": [
       "<div>\n",
       "<style scoped>\n",
       "    .dataframe tbody tr th:only-of-type {\n",
       "        vertical-align: middle;\n",
       "    }\n",
       "\n",
       "    .dataframe tbody tr th {\n",
       "        vertical-align: top;\n",
       "    }\n",
       "\n",
       "    .dataframe thead th {\n",
       "        text-align: right;\n",
       "    }\n",
       "</style>\n",
       "<table border=\"1\" class=\"dataframe\">\n",
       "  <thead>\n",
       "    <tr style=\"text-align: right;\">\n",
       "      <th></th>\n",
       "      <th>Unnamed: 0</th>\n",
       "      <th>Proba de sobrevivir</th>\n",
       "      <th>Unnamed: 3</th>\n",
       "      <th>Espe. Vida</th>\n",
       "      <th>Age</th>\n",
       "    </tr>\n",
       "  </thead>\n",
       "  <tbody>\n",
       "    <tr>\n",
       "      <th>0</th>\n",
       "      <td>2</td>\n",
       "      <td>0.672031</td>\n",
       "      <td>0.327969</td>\n",
       "      <td>7.435258</td>\n",
       "      <td>0</td>\n",
       "    </tr>\n",
       "    <tr>\n",
       "      <th>1</th>\n",
       "      <td>3</td>\n",
       "      <td>0.491375</td>\n",
       "      <td>0.508625</td>\n",
       "      <td>7.790058</td>\n",
       "      <td>1</td>\n",
       "    </tr>\n",
       "    <tr>\n",
       "      <th>2</th>\n",
       "      <td>4</td>\n",
       "      <td>0.429555</td>\n",
       "      <td>0.570445</td>\n",
       "      <td>8.163900</td>\n",
       "      <td>2</td>\n",
       "    </tr>\n",
       "    <tr>\n",
       "      <th>3</th>\n",
       "      <td>5</td>\n",
       "      <td>0.385694</td>\n",
       "      <td>0.614306</td>\n",
       "      <td>8.557950</td>\n",
       "      <td>3</td>\n",
       "    </tr>\n",
       "    <tr>\n",
       "      <th>4</th>\n",
       "      <td>6</td>\n",
       "      <td>0.351672</td>\n",
       "      <td>0.648328</td>\n",
       "      <td>8.972207</td>\n",
       "      <td>4</td>\n",
       "    </tr>\n",
       "    <tr>\n",
       "      <th>5</th>\n",
       "      <td>7</td>\n",
       "      <td>0.323874</td>\n",
       "      <td>0.676126</td>\n",
       "      <td>9.396568</td>\n",
       "      <td>5</td>\n",
       "    </tr>\n",
       "  </tbody>\n",
       "</table>\n",
       "</div>"
      ],
      "text/plain": [
       "   Unnamed: 0  Proba de sobrevivir  Unnamed: 3  Espe. Vida  Age\n",
       "0           2             0.672031    0.327969    7.435258    0\n",
       "1           3             0.491375    0.508625    7.790058    1\n",
       "2           4             0.429555    0.570445    8.163900    2\n",
       "3           5             0.385694    0.614306    8.557950    3\n",
       "4           6             0.351672    0.648328    8.972207    4\n",
       "5           7             0.323874    0.676126    9.396568    5"
      ]
     },
     "execution_count": 368,
     "metadata": {},
     "output_type": "execute_result"
    }
   ],
   "source": [
    "\n",
    "Evida = pd.read_csv('../Evida.csv')\n",
    "Evida"
   ]
  },
  {
   "cell_type": "code",
   "execution_count": 369,
   "metadata": {
    "scrolled": true
   },
   "outputs": [
    {
     "name": "stdout",
     "output_type": "stream",
     "text": [
      "65\n",
      "8467\n",
      "4159\n",
      "4301\n",
      "4886\n",
      "2763\n",
      "2116\n"
     ]
    }
   ],
   "source": [
    "p=d.clave\n",
    "len(p)\n",
    "dx=poblaT[poblaT[\"clave\"].isin(p)]\n",
    "print(len(dx))\n",
    "\n",
    "dx[\"POBMAS\"]=dx.POBMAS.str.replace('*' , '0').astype(int)\n",
    "dx[\"POBFEM\"]=dx.POBFEM.str.replace('*' , '0').astype(int)\n",
    "dx[\"PEA\"]=dx.PEA.str.replace('*' , '0').astype(int)\n",
    "dx[\"PEA_M\"]=dx.PEA_M.str.replace('*' , '0').astype(int)\n",
    "dx[\"PEA_F\"]=dx.PEA_F.str.replace('*' , '0').astype(int)\n",
    "print(dx.POBTOT.sum())\n",
    "print(dx.POBMAS.sum())\n",
    "print(dx.POBFEM.sum())\n",
    "print(dx.PEA.sum())\n",
    "print(dx.PEA_M.sum())\n",
    "print(dx.PEA_F.sum())"
   ]
  },
  {
   "cell_type": "code",
   "execution_count": 370,
   "metadata": {},
   "outputs": [
    {
     "data": {
      "text/plain": [
       "''"
      ]
     },
     "execution_count": 370,
     "metadata": {},
     "output_type": "execute_result"
    }
   ],
   "source": [
    "from fpdf import FPDF\n",
    " \n",
    "pdf = FPDF()\n",
    "pdf.add_page()\n",
    "pdf.set_font(\"Arial\", size=12)\n",
    "pdf.cell(200, 10, txt=\"Analisis de Supervivencia de Pymes en CDMX\", ln=4, align=\"C\")\n",
    "pdf.cell(90, 10, \" \", 0, 2, 'C')   \n",
    "pdf.multi_cell(0,8,\"La palabra de búsqueda es: --{}--, con longitud {} y latitud {}\\nEsta búsqueda extrae toda la competencia tanto indirecta como directa en \\\n",
    "un rango de {} mts.\\nEn total son {} empresas, con {} clases de actividades diferentes, de las cuales destacan \".format(giro,long,lat,mts,len(data),len(data.Clase_actividad.unique())) ,0,10)\n",
    "pdf.cell(90, 3, \" \", 0, 2, 'C')\n",
    "if len(sss) >= 5:\n",
    "    pdf.multi_cell(0,10,\"1. {} : {} \\n2. {} : {} \\n3. {} : {} \\n4. {} : {} \\n5. {} : {}\".format(sss.index[0],sss[0],sss.index[1],sss[1],sss.index[2],sss[2],sss.index[3],sss[3],sss.index[4],sss[4]) ,1,10)\n",
    "else:\n",
    "    pdf.multi_cell(0,10,\"1. {} : {} \\n2. {} : {}\".format(sss.index[0],sss[0],sss.index[1],sss[1]) ,1,10)\n",
    "    \n",
    "pdf.cell(90, 5, \" \", 0, 2, 'C')\n",
    "pdf.set_font(\"Arial\", size=10)\n",
    "pdf.cell(200, 10, txt=\"Da click en botón rojo para ver mapa inteactivo\", ln=4, align=\"C\")\n",
    "pdf.multi_cell(0,6,\"TABLAS DE INCORPORACIóN A DENUE *INEGI*\\n *Por el momento solo contamos con info de Denue, el cual no muestra la fecha de fundación de las empresas esta se utilizaria para ver la demanda del \\\n",
    "servicio/producto asi como hacer modelos que predigan la creación de nuevas empresas en el sector\",0,3)\n",
    "pdf.image('../images/Año {}.png'.format(giro), x=8, y=153, w=105, h=70)\n",
    "pdf.image('../images/Mes {}.png'.format(giro), x=110, y=153, w=105, h=70)\n",
    "pdf.image('../images/red.png'.format(giro), x=55, y=113, w=15, h=9, link = \"../mapas/mapa {}.html\".format(giro))\n",
    "pdf.set_font(\"Arial\", size=12)\n",
    "pdf.cell(94, 85, \" \", 0, 2, 'C')   \n",
    "def simple_table2(spacing=1.5):\n",
    "    data = [['Años', 'Prob. de Sobrevivir','Esperanza de Vida'],\n",
    "            ['0', '0.672031','7.435258'],\n",
    "            ['1', '0.491375','7.790058'],\n",
    "            ['2', '0.429555','8.163900'],\n",
    "            ['3', '0.385694','8.557950'],\n",
    "            ['4', '0.351672','8.972207']\n",
    "            ]\n",
    "    col_width = pdf.w / 3.4\n",
    "    row_height = pdf.font_size\n",
    "    for row in data:\n",
    "            for item in row:\n",
    "                pdf.cell(col_width, row_height*spacing,txt=item, border=1)\n",
    "            pdf.ln(row_height*spacing)\n",
    "simple_table2()\n",
    "pdf.cell(200, 15, txt=\"Población\", ln=4)\n",
    "def simple_table(spacing=2,align=\"C\"):\n",
    "    data = [['Población Total', '{}'.format(dx.POBTOT.sum())],\n",
    "            ['Población Masculina', '{}'.format(dx.POBMAS.sum())],\n",
    "            ['Población Femenina', '{}'.format(dx.POBFEM.sum())],\n",
    "            ['Población Economicamente Activa', '{}'.format(dx.PEA.sum())],\n",
    "            ['Población M. Economicamente Activa', '{}'.format(dx.PEA_M.sum())],\n",
    "            ['Población M. Economicamente Activa', '{}'.format(dx.PEA_F.sum())]\n",
    "            ]\n",
    "    col_width = pdf.w / 2.2\n",
    "    row_height = pdf.font_size\n",
    "    for row in data:\n",
    "            for item in row:\n",
    "                pdf.cell(col_width, row_height*spacing,txt=item, border=1)\n",
    "            pdf.ln(row_height*spacing)\n",
    "simple_table()\n",
    "\n",
    "pdf.output(\"simple_demo.pdf\",'F')"
   ]
  },
  {
   "cell_type": "code",
   "execution_count": null,
   "metadata": {},
   "outputs": [],
   "source": [
    "def simple_table(spacing=2):\n",
    "    data = [['{}'.format(sss.index[0]), '{}'.format(sss[0])],\n",
    "            ['{}'.format(sss.index[1]), '{}'.format(sss[1])],\n",
    "            ['{}'.format(sss.index[2]), '{}'.format(sss[2])],\n",
    "            ['{}'.format(sss.index[3]), '{}'.format(sss[3])],\n",
    "            ['{}'.format(sss.index[4]), '{}'.format(sss[4])]\n",
    "            ]\n",
    "    col_width = pdf.w / 2.5\n",
    "    row_height = pdf.font_size\n",
    "    for row in data:\n",
    "            for item in row:\n",
    "                pdf.cell(col_width, row_height*spacing,txt=item, border=1)\n",
    "            pdf.ln(row_height*spacing)\n",
    "if __name__ == '__main__':\n",
    "    simple_table()"
   ]
  },
  {
   "cell_type": "code",
   "execution_count": 327,
   "metadata": {},
   "outputs": [
    {
     "ename": "SyntaxError",
     "evalue": "positional argument follows keyword argument (<ipython-input-327-3b49a25e5dcc>, line 1)",
     "output_type": "error",
     "traceback": [
      "\u001b[1;36m  File \u001b[1;32m\"<ipython-input-327-3b49a25e5dcc>\"\u001b[1;36m, line \u001b[1;32m1\u001b[0m\n\u001b[1;33m    fg=pd.DataFrame(columns=[\"1\"],U)\u001b[0m\n\u001b[1;37m                                 ^\u001b[0m\n\u001b[1;31mSyntaxError\u001b[0m\u001b[1;31m:\u001b[0m positional argument follows keyword argument\n"
     ]
    }
   ],
   "source": []
  },
  {
   "cell_type": "code",
   "execution_count": 328,
   "metadata": {},
   "outputs": [],
   "source": []
  },
  {
   "cell_type": "code",
   "execution_count": 329,
   "metadata": {},
   "outputs": [
    {
     "data": {
      "text/html": [
       "<div>\n",
       "<style scoped>\n",
       "    .dataframe tbody tr th:only-of-type {\n",
       "        vertical-align: middle;\n",
       "    }\n",
       "\n",
       "    .dataframe tbody tr th {\n",
       "        vertical-align: top;\n",
       "    }\n",
       "\n",
       "    .dataframe thead th {\n",
       "        text-align: right;\n",
       "    }\n",
       "</style>\n",
       "<table border=\"1\" class=\"dataframe\">\n",
       "  <thead>\n",
       "    <tr style=\"text-align: right;\">\n",
       "      <th></th>\n",
       "      <th>clase</th>\n",
       "      <th>tipo</th>\n",
       "      <th>valor</th>\n",
       "    </tr>\n",
       "  </thead>\n",
       "  <tbody>\n",
       "    <tr>\n",
       "      <th>0</th>\n",
       "      <td>clase 1</td>\n",
       "      <td>tipo 1</td>\n",
       "      <td>0</td>\n",
       "    </tr>\n",
       "    <tr>\n",
       "      <th>1</th>\n",
       "      <td>clase 1</td>\n",
       "      <td>tipo 1</td>\n",
       "      <td>1</td>\n",
       "    </tr>\n",
       "    <tr>\n",
       "      <th>2</th>\n",
       "      <td>clase 1</td>\n",
       "      <td>tipo 2</td>\n",
       "      <td>2</td>\n",
       "    </tr>\n",
       "    <tr>\n",
       "      <th>3</th>\n",
       "      <td>clase 1</td>\n",
       "      <td>tipo 2</td>\n",
       "      <td>3</td>\n",
       "    </tr>\n",
       "    <tr>\n",
       "      <th>4</th>\n",
       "      <td>clase 1</td>\n",
       "      <td>tipo 2</td>\n",
       "      <td>4</td>\n",
       "    </tr>\n",
       "    <tr>\n",
       "      <th>5</th>\n",
       "      <td>clase 2</td>\n",
       "      <td>tipo 3</td>\n",
       "      <td>5</td>\n",
       "    </tr>\n",
       "    <tr>\n",
       "      <th>6</th>\n",
       "      <td>clase 2</td>\n",
       "      <td>tipo 3</td>\n",
       "      <td>6</td>\n",
       "    </tr>\n",
       "    <tr>\n",
       "      <th>7</th>\n",
       "      <td>clase 2</td>\n",
       "      <td>tipo 4</td>\n",
       "      <td>7</td>\n",
       "    </tr>\n",
       "    <tr>\n",
       "      <th>8</th>\n",
       "      <td>clase 2</td>\n",
       "      <td>tipo 4</td>\n",
       "      <td>8</td>\n",
       "    </tr>\n",
       "    <tr>\n",
       "      <th>9</th>\n",
       "      <td>clase 2</td>\n",
       "      <td>tipo 4</td>\n",
       "      <td>9</td>\n",
       "    </tr>\n",
       "  </tbody>\n",
       "</table>\n",
       "</div>"
      ],
      "text/plain": [
       "     clase    tipo  valor\n",
       "0  clase 1  tipo 1      0\n",
       "1  clase 1  tipo 1      1\n",
       "2  clase 1  tipo 2      2\n",
       "3  clase 1  tipo 2      3\n",
       "4  clase 1  tipo 2      4\n",
       "5  clase 2  tipo 3      5\n",
       "6  clase 2  tipo 3      6\n",
       "7  clase 2  tipo 4      7\n",
       "8  clase 2  tipo 4      8\n",
       "9  clase 2  tipo 4      9"
      ]
     },
     "execution_count": 329,
     "metadata": {},
     "output_type": "execute_result"
    }
   ],
   "source": []
  },
  {
   "cell_type": "code",
   "execution_count": null,
   "metadata": {},
   "outputs": [],
   "source": []
  }
 ],
 "metadata": {
  "kernelspec": {
   "display_name": "Python 3",
   "language": "python",
   "name": "python3"
  },
  "language_info": {
   "codemirror_mode": {
    "name": "ipython",
    "version": 3
   },
   "file_extension": ".py",
   "mimetype": "text/x-python",
   "name": "python",
   "nbconvert_exporter": "python",
   "pygments_lexer": "ipython3",
   "version": "3.7.3"
  }
 },
 "nbformat": 4,
 "nbformat_minor": 2
}
