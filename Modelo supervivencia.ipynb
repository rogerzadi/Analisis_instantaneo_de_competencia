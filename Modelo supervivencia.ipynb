{
 "cells": [
  {
   "cell_type": "code",
   "execution_count": 1,
   "metadata": {},
   "outputs": [],
   "source": [
    "import json\n",
    "import requests\n",
    "import pandas as pd\n",
    "import folium \n"
   ]
  },
  {
   "cell_type": "code",
   "execution_count": 179,
   "metadata": {},
   "outputs": [],
   "source": [
    "giro=\"diseño\"\n",
    "long=19.421336 \n",
    "lat=-99.162700\n",
    "mts=1000"
   ]
  },
  {
   "cell_type": "code",
   "execution_count": 180,
   "metadata": {},
   "outputs": [
    {
     "name": "stdout",
     "output_type": "stream",
     "text": [
      "125\n"
     ]
    },
    {
     "data": {
      "text/html": [
       "<div>\n",
       "<style scoped>\n",
       "    .dataframe tbody tr th:only-of-type {\n",
       "        vertical-align: middle;\n",
       "    }\n",
       "\n",
       "    .dataframe tbody tr th {\n",
       "        vertical-align: top;\n",
       "    }\n",
       "\n",
       "    .dataframe thead th {\n",
       "        text-align: right;\n",
       "    }\n",
       "</style>\n",
       "<table border=\"1\" class=\"dataframe\">\n",
       "  <thead>\n",
       "    <tr style=\"text-align: right;\">\n",
       "      <th></th>\n",
       "      <th>CP</th>\n",
       "      <th>Calle</th>\n",
       "      <th>CentroComercial</th>\n",
       "      <th>Clase_actividad</th>\n",
       "      <th>Colonia</th>\n",
       "      <th>Correo_e</th>\n",
       "      <th>Estrato</th>\n",
       "      <th>Id</th>\n",
       "      <th>Latitud</th>\n",
       "      <th>Longitud</th>\n",
       "      <th>...</th>\n",
       "      <th>NumLocal</th>\n",
       "      <th>Num_Exterior</th>\n",
       "      <th>Num_Interior</th>\n",
       "      <th>Razon_social</th>\n",
       "      <th>Sitio_internet</th>\n",
       "      <th>Telefono</th>\n",
       "      <th>Tipo</th>\n",
       "      <th>TipoCentroComercial</th>\n",
       "      <th>Tipo_vialidad</th>\n",
       "      <th>Ubicacion</th>\n",
       "    </tr>\n",
       "  </thead>\n",
       "  <tbody>\n",
       "    <tr>\n",
       "      <th>0</th>\n",
       "      <td>06700</td>\n",
       "      <td>TONALA</td>\n",
       "      <td></td>\n",
       "      <td>Servicios de diseño de sistemas de cómputo y s...</td>\n",
       "      <td>ROMA NORTE</td>\n",
       "      <td>MVAZQEZ@REALNET.COM.MX</td>\n",
       "      <td>11 a 30 personas</td>\n",
       "      <td>1028239</td>\n",
       "      <td>19.42140394</td>\n",
       "      <td>-99.16340624</td>\n",
       "      <td>...</td>\n",
       "      <td></td>\n",
       "      <td>6</td>\n",
       "      <td>202</td>\n",
       "      <td>REALNET SA DE CV</td>\n",
       "      <td>WWW.REALNETSA.COM.MX</td>\n",
       "      <td></td>\n",
       "      <td>Fijo</td>\n",
       "      <td></td>\n",
       "      <td>CALLE</td>\n",
       "      <td>CUAUHTÉMOC, Cuauhtémoc, CIUDAD DE MÉXICO</td>\n",
       "    </tr>\n",
       "    <tr>\n",
       "      <th>1</th>\n",
       "      <td>06700</td>\n",
       "      <td>DURANGO</td>\n",
       "      <td></td>\n",
       "      <td>Comercio al por menor de muebles para el hogar</td>\n",
       "      <td>ROMA NORTE</td>\n",
       "      <td></td>\n",
       "      <td>6 a 10 personas</td>\n",
       "      <td>8326496</td>\n",
       "      <td>19.42042099</td>\n",
       "      <td>-99.16376558</td>\n",
       "      <td>...</td>\n",
       "      <td></td>\n",
       "      <td>153</td>\n",
       "      <td></td>\n",
       "      <td>DISEÑO SILLIOTI SA DE CV</td>\n",
       "      <td>ILMIOMUEBLE.COM</td>\n",
       "      <td></td>\n",
       "      <td>Fijo</td>\n",
       "      <td></td>\n",
       "      <td>CALLE</td>\n",
       "      <td>CUAUHTÉMOC, Cuauhtémoc, CIUDAD DE MÉXICO</td>\n",
       "    </tr>\n",
       "    <tr>\n",
       "      <th>2</th>\n",
       "      <td>06700</td>\n",
       "      <td>JALAPA</td>\n",
       "      <td></td>\n",
       "      <td>Servicios de diseño de sistemas de cómputo y s...</td>\n",
       "      <td>ROMA NORTE</td>\n",
       "      <td>INFO@BEEPQUEST.COM</td>\n",
       "      <td>6 a 10 personas</td>\n",
       "      <td>6810967</td>\n",
       "      <td>19.42265117</td>\n",
       "      <td>-99.16231136</td>\n",
       "      <td>...</td>\n",
       "      <td></td>\n",
       "      <td>17</td>\n",
       "      <td>503</td>\n",
       "      <td>APPQUEST SAPI DE CV</td>\n",
       "      <td>WWW.BEEPQUEST.COM</td>\n",
       "      <td>553382070</td>\n",
       "      <td>Fijo</td>\n",
       "      <td></td>\n",
       "      <td>CALLE</td>\n",
       "      <td>CUAUHTÉMOC, Cuauhtémoc, CIUDAD DE MÉXICO</td>\n",
       "    </tr>\n",
       "    <tr>\n",
       "      <th>3</th>\n",
       "      <td>06700</td>\n",
       "      <td>INSURGENTES SUR</td>\n",
       "      <td></td>\n",
       "      <td>Comercio al por menor de muebles para el hogar</td>\n",
       "      <td>ROMA NORTE</td>\n",
       "      <td></td>\n",
       "      <td>0 a 5 personas</td>\n",
       "      <td>1029567</td>\n",
       "      <td>19.42002628</td>\n",
       "      <td>-99.16392516</td>\n",
       "      <td>...</td>\n",
       "      <td></td>\n",
       "      <td>214</td>\n",
       "      <td>0</td>\n",
       "      <td>COLECCION DISEÑO SA DE CV</td>\n",
       "      <td></td>\n",
       "      <td></td>\n",
       "      <td>Fijo</td>\n",
       "      <td></td>\n",
       "      <td>AVENIDA</td>\n",
       "      <td>CUAUHTÉMOC, Cuauhtémoc, CIUDAD DE MÉXICO</td>\n",
       "    </tr>\n",
       "    <tr>\n",
       "      <th>4</th>\n",
       "      <td>06700</td>\n",
       "      <td>INSURGENTES SUR</td>\n",
       "      <td></td>\n",
       "      <td>Comercio al por menor de motocicletas</td>\n",
       "      <td>DURANGO</td>\n",
       "      <td></td>\n",
       "      <td>0 a 5 personas</td>\n",
       "      <td>8327269</td>\n",
       "      <td>19.42017555</td>\n",
       "      <td>-99.16408991</td>\n",
       "      <td>...</td>\n",
       "      <td></td>\n",
       "      <td>207</td>\n",
       "      <td></td>\n",
       "      <td>DISEÑOS Y CLASICOS MEXICO SA DE CV</td>\n",
       "      <td></td>\n",
       "      <td></td>\n",
       "      <td>Fijo</td>\n",
       "      <td></td>\n",
       "      <td>AVENIDA</td>\n",
       "      <td>CUAUHTÉMOC, Cuauhtémoc, CIUDAD DE MÉXICO</td>\n",
       "    </tr>\n",
       "  </tbody>\n",
       "</table>\n",
       "<p>5 rows × 21 columns</p>\n",
       "</div>"
      ],
      "text/plain": [
       "      CP            Calle CentroComercial  \\\n",
       "0  06700           TONALA                   \n",
       "1  06700          DURANGO                   \n",
       "2  06700           JALAPA                   \n",
       "3  06700  INSURGENTES SUR                   \n",
       "4  06700  INSURGENTES SUR                   \n",
       "\n",
       "                                     Clase_actividad     Colonia  \\\n",
       "0  Servicios de diseño de sistemas de cómputo y s...  ROMA NORTE   \n",
       "1     Comercio al por menor de muebles para el hogar  ROMA NORTE   \n",
       "2  Servicios de diseño de sistemas de cómputo y s...  ROMA NORTE   \n",
       "3     Comercio al por menor de muebles para el hogar  ROMA NORTE   \n",
       "4              Comercio al por menor de motocicletas     DURANGO   \n",
       "\n",
       "                 Correo_e           Estrato       Id      Latitud  \\\n",
       "0  MVAZQEZ@REALNET.COM.MX  11 a 30 personas  1028239  19.42140394   \n",
       "1                           6 a 10 personas  8326496  19.42042099   \n",
       "2      INFO@BEEPQUEST.COM   6 a 10 personas  6810967  19.42265117   \n",
       "3                            0 a 5 personas  1029567  19.42002628   \n",
       "4                            0 a 5 personas  8327269  19.42017555   \n",
       "\n",
       "       Longitud  ... NumLocal Num_Exterior Num_Interior  \\\n",
       "0  -99.16340624  ...                     6          202   \n",
       "1  -99.16376558  ...                   153                \n",
       "2  -99.16231136  ...                    17          503   \n",
       "3  -99.16392516  ...                   214            0   \n",
       "4  -99.16408991  ...                   207                \n",
       "\n",
       "                         Razon_social        Sitio_internet   Telefono  Tipo  \\\n",
       "0                    REALNET SA DE CV  WWW.REALNETSA.COM.MX             Fijo   \n",
       "1            DISEÑO SILLIOTI SA DE CV       ILMIOMUEBLE.COM             Fijo   \n",
       "2                 APPQUEST SAPI DE CV     WWW.BEEPQUEST.COM  553382070  Fijo   \n",
       "3           COLECCION DISEÑO SA DE CV                                   Fijo   \n",
       "4  DISEÑOS Y CLASICOS MEXICO SA DE CV                                   Fijo   \n",
       "\n",
       "  TipoCentroComercial Tipo_vialidad                                 Ubicacion  \n",
       "0                             CALLE  CUAUHTÉMOC, Cuauhtémoc, CIUDAD DE MÉXICO  \n",
       "1                             CALLE  CUAUHTÉMOC, Cuauhtémoc, CIUDAD DE MÉXICO  \n",
       "2                             CALLE  CUAUHTÉMOC, Cuauhtémoc, CIUDAD DE MÉXICO  \n",
       "3                           AVENIDA  CUAUHTÉMOC, Cuauhtémoc, CIUDAD DE MÉXICO  \n",
       "4                           AVENIDA  CUAUHTÉMOC, Cuauhtémoc, CIUDAD DE MÉXICO  \n",
       "\n",
       "[5 rows x 21 columns]"
      ]
     },
     "execution_count": 180,
     "metadata": {},
     "output_type": "execute_result"
    }
   ],
   "source": [
    "response = requests.get(\"https://www.inegi.org.mx/app/api/denue/v1/consulta/Buscar/{}/{},{}/{}/44522d01-cae7-455b-9b53-7fc7d481cecb\".format(giro,long,lat,mts))\n",
    "results = response.json()\n",
    "\n",
    "data = pd.DataFrame(response.json())\n",
    "print(len(data))\n",
    "data.head()\n"
   ]
  },
  {
   "cell_type": "code",
   "execution_count": 136,
   "metadata": {},
   "outputs": [
    {
     "data": {
      "text/plain": [
       "'Servicios de diseño de sistemas de cómputo y servicios relacionados'"
      ]
     },
     "execution_count": 136,
     "metadata": {},
     "output_type": "execute_result"
    }
   ],
   "source": [
    "sss=data.Clase_actividad.value_counts()[:5]\n",
    "sss.index[0]"
   ]
  },
  {
   "cell_type": "code",
   "execution_count": 4,
   "metadata": {},
   "outputs": [
    {
     "name": "stdout",
     "output_type": "stream",
     "text": [
      "<class 'pandas.core.frame.DataFrame'>\n",
      "RangeIndex: 466301 entries, 0 to 466300\n",
      "Data columns (total 16 columns):\n",
      "Unnamed: 0    466301 non-null int64\n",
      "id            466301 non-null int64\n",
      "nom_estab     466301 non-null object\n",
      "codigo_act    466301 non-null int64\n",
      "nombre_act    466301 non-null object\n",
      "tipoCenCom    88178 non-null object\n",
      "per_ocu       466301 non-null object\n",
      "tipoUniEco    466301 non-null object\n",
      "ageb          466285 non-null object\n",
      "manzana       466285 non-null float64\n",
      "latitud       466301 non-null float64\n",
      "longitud      466301 non-null float64\n",
      "fecha_alta    466301 non-null object\n",
      "www           37279 non-null object\n",
      "Año           466301 non-null int64\n",
      "Mes           466301 non-null int64\n",
      "dtypes: float64(3), int64(5), object(8)\n",
      "memory usage: 56.9+ MB\n"
     ]
    }
   ],
   "source": [
    "info = pd.read_csv('../info.csv')\n",
    "info.info()"
   ]
  },
  {
   "cell_type": "code",
   "execution_count": 5,
   "metadata": {},
   "outputs": [],
   "source": [
    "\n",
    "\n",
    "#for e in info.select_dtypes('object').columns:\n",
    " #   info[e]=info[e].astype('category')\n",
    "for e in info.select_dtypes('integer').columns:\n",
    "    info[e]=pd.to_numeric(info[e], downcast='integer')\n",
    "for e in info.select_dtypes('float').columns:\n",
    "    info[e]=pd.to_numeric(info[e], downcast='float')  \n",
    "    \n",
    "info[\"fecha_alta\"]=pd.to_datetime(info.fecha_alta)\n",
    "\n",
    "\n"
   ]
  },
  {
   "cell_type": "code",
   "execution_count": 6,
   "metadata": {},
   "outputs": [
    {
     "name": "stdout",
     "output_type": "stream",
     "text": [
      "<class 'pandas.core.frame.DataFrame'>\n",
      "RangeIndex: 125 entries, 0 to 124\n",
      "Data columns (total 16 columns):\n",
      "Unnamed: 0    125 non-null int32\n",
      "id            125 non-null int32\n",
      "nom_estab     125 non-null object\n",
      "codigo_act    125 non-null int32\n",
      "nombre_act    125 non-null object\n",
      "tipoCenCom    24 non-null object\n",
      "per_ocu       125 non-null object\n",
      "tipoUniEco    125 non-null object\n",
      "ageb          125 non-null object\n",
      "manzana       125 non-null float32\n",
      "latitud       125 non-null float32\n",
      "longitud      125 non-null float32\n",
      "fecha_alta    125 non-null datetime64[ns]\n",
      "www           75 non-null object\n",
      "Año           125 non-null int16\n",
      "Mes           125 non-null int8\n",
      "dtypes: datetime64[ns](1), float32(3), int16(1), int32(3), int8(1), object(7)\n",
      "memory usage: 11.2+ KB\n"
     ]
    },
    {
     "name": "stderr",
     "output_type": "stream",
     "text": [
      "C:\\ProgramData\\Anaconda3\\lib\\site-packages\\ipykernel_launcher.py:6: SettingWithCopyWarning: \n",
      "A value is trying to be set on a copy of a slice from a DataFrame.\n",
      "Try using .loc[row_indexer,col_indexer] = value instead\n",
      "\n",
      "See the caveats in the documentation: http://pandas.pydata.org/pandas-docs/stable/indexing.html#indexing-view-versus-copy\n",
      "  \n",
      "C:\\ProgramData\\Anaconda3\\lib\\site-packages\\ipykernel_launcher.py:7: SettingWithCopyWarning: \n",
      "A value is trying to be set on a copy of a slice from a DataFrame.\n",
      "Try using .loc[row_indexer,col_indexer] = value instead\n",
      "\n",
      "See the caveats in the documentation: http://pandas.pydata.org/pandas-docs/stable/indexing.html#indexing-view-versus-copy\n",
      "  import sys\n"
     ]
    },
    {
     "data": {
      "text/html": [
       "<div>\n",
       "<style scoped>\n",
       "    .dataframe tbody tr th:only-of-type {\n",
       "        vertical-align: middle;\n",
       "    }\n",
       "\n",
       "    .dataframe tbody tr th {\n",
       "        vertical-align: top;\n",
       "    }\n",
       "\n",
       "    .dataframe thead th {\n",
       "        text-align: right;\n",
       "    }\n",
       "</style>\n",
       "<table border=\"1\" class=\"dataframe\">\n",
       "  <thead>\n",
       "    <tr style=\"text-align: right;\">\n",
       "      <th></th>\n",
       "      <th>Unnamed: 0</th>\n",
       "      <th>id</th>\n",
       "      <th>nom_estab</th>\n",
       "      <th>codigo_act</th>\n",
       "      <th>nombre_act</th>\n",
       "      <th>tipoCenCom</th>\n",
       "      <th>per_ocu</th>\n",
       "      <th>tipoUniEco</th>\n",
       "      <th>ageb</th>\n",
       "      <th>manzana</th>\n",
       "      <th>latitud</th>\n",
       "      <th>longitud</th>\n",
       "      <th>fecha_alta</th>\n",
       "      <th>www</th>\n",
       "      <th>Año</th>\n",
       "      <th>Mes</th>\n",
       "      <th>clave</th>\n",
       "    </tr>\n",
       "  </thead>\n",
       "  <tbody>\n",
       "    <tr>\n",
       "      <th>0</th>\n",
       "      <td>1054</td>\n",
       "      <td>8286189</td>\n",
       "      <td>CONSTRUCTORA Y REMODELADORA DE OFICINAS</td>\n",
       "      <td>236221</td>\n",
       "      <td>Edificación de inmuebles comerciales y de serv...</td>\n",
       "      <td>NaN</td>\n",
       "      <td>11 a 30 personas</td>\n",
       "      <td>Fijo</td>\n",
       "      <td>1110</td>\n",
       "      <td>2</td>\n",
       "      <td>19.416512</td>\n",
       "      <td>-99.155670</td>\n",
       "      <td>2019-11-01</td>\n",
       "      <td>NaN</td>\n",
       "      <td>2019</td>\n",
       "      <td>11</td>\n",
       "      <td>1110-2</td>\n",
       "    </tr>\n",
       "    <tr>\n",
       "      <th>1</th>\n",
       "      <td>1272</td>\n",
       "      <td>957422</td>\n",
       "      <td>EDISA EDIFICACIÓN Y DISENOS, SA DE CV</td>\n",
       "      <td>236221</td>\n",
       "      <td>Edificación de inmuebles comerciales y de serv...</td>\n",
       "      <td>NaN</td>\n",
       "      <td>51 a 100 personas</td>\n",
       "      <td>Fijo</td>\n",
       "      <td>120A</td>\n",
       "      <td>2</td>\n",
       "      <td>19.414587</td>\n",
       "      <td>-99.165863</td>\n",
       "      <td>2010-07-01</td>\n",
       "      <td>NaN</td>\n",
       "      <td>2010</td>\n",
       "      <td>7</td>\n",
       "      <td>120A-2</td>\n",
       "    </tr>\n",
       "    <tr>\n",
       "      <th>2</th>\n",
       "      <td>4308</td>\n",
       "      <td>1029505</td>\n",
       "      <td>DISEÑADOR PEDRO LOREDO ALTA COSTURA</td>\n",
       "      <td>315225</td>\n",
       "      <td>Confección de prendas de vestir sobre medida</td>\n",
       "      <td>NaN</td>\n",
       "      <td>0 a 5 personas</td>\n",
       "      <td>Fijo</td>\n",
       "      <td>1093</td>\n",
       "      <td>14</td>\n",
       "      <td>19.418684</td>\n",
       "      <td>-99.169586</td>\n",
       "      <td>2010-07-01</td>\n",
       "      <td>NaN</td>\n",
       "      <td>2010</td>\n",
       "      <td>7</td>\n",
       "      <td>1093-14</td>\n",
       "    </tr>\n",
       "    <tr>\n",
       "      <th>3</th>\n",
       "      <td>4317</td>\n",
       "      <td>1029455</td>\n",
       "      <td>DISEÑO DE MODAS ALEJANDRO PONCE</td>\n",
       "      <td>315225</td>\n",
       "      <td>Confección de prendas de vestir sobre medida</td>\n",
       "      <td>NaN</td>\n",
       "      <td>0 a 5 personas</td>\n",
       "      <td>Fijo</td>\n",
       "      <td>1093</td>\n",
       "      <td>13</td>\n",
       "      <td>19.418406</td>\n",
       "      <td>-99.169518</td>\n",
       "      <td>2010-07-01</td>\n",
       "      <td>WWW.ALEJANDROPONCE.COM.MX</td>\n",
       "      <td>2010</td>\n",
       "      <td>7</td>\n",
       "      <td>1093-13</td>\n",
       "    </tr>\n",
       "    <tr>\n",
       "      <th>4</th>\n",
       "      <td>29927</td>\n",
       "      <td>1029675</td>\n",
       "      <td>DISEÑO E INTERIORISMO JAMES &amp; STEVEN</td>\n",
       "      <td>337210</td>\n",
       "      <td>Fabricación de muebles de oficina y estantería</td>\n",
       "      <td>NaN</td>\n",
       "      <td>0 a 5 personas</td>\n",
       "      <td>Fijo</td>\n",
       "      <td>1002</td>\n",
       "      <td>18</td>\n",
       "      <td>19.419149</td>\n",
       "      <td>-99.159454</td>\n",
       "      <td>2010-07-01</td>\n",
       "      <td>WWW.JAMESANDSTEVEN.COM</td>\n",
       "      <td>2010</td>\n",
       "      <td>7</td>\n",
       "      <td>1002-18</td>\n",
       "    </tr>\n",
       "  </tbody>\n",
       "</table>\n",
       "</div>"
      ],
      "text/plain": [
       "   Unnamed: 0       id                                nom_estab  codigo_act  \\\n",
       "0        1054  8286189  CONSTRUCTORA Y REMODELADORA DE OFICINAS      236221   \n",
       "1        1272   957422    EDISA EDIFICACIÓN Y DISENOS, SA DE CV      236221   \n",
       "2        4308  1029505      DISEÑADOR PEDRO LOREDO ALTA COSTURA      315225   \n",
       "3        4317  1029455          DISEÑO DE MODAS ALEJANDRO PONCE      315225   \n",
       "4       29927  1029675     DISEÑO E INTERIORISMO JAMES & STEVEN      337210   \n",
       "\n",
       "                                          nombre_act tipoCenCom  \\\n",
       "0  Edificación de inmuebles comerciales y de serv...        NaN   \n",
       "1  Edificación de inmuebles comerciales y de serv...        NaN   \n",
       "2       Confección de prendas de vestir sobre medida        NaN   \n",
       "3       Confección de prendas de vestir sobre medida        NaN   \n",
       "4     Fabricación de muebles de oficina y estantería        NaN   \n",
       "\n",
       "             per_ocu tipoUniEco  ageb  manzana    latitud   longitud  \\\n",
       "0   11 a 30 personas       Fijo  1110        2  19.416512 -99.155670   \n",
       "1  51 a 100 personas       Fijo  120A        2  19.414587 -99.165863   \n",
       "2     0 a 5 personas       Fijo  1093       14  19.418684 -99.169586   \n",
       "3     0 a 5 personas       Fijo  1093       13  19.418406 -99.169518   \n",
       "4     0 a 5 personas       Fijo  1002       18  19.419149 -99.159454   \n",
       "\n",
       "  fecha_alta                        www   Año  Mes    clave  \n",
       "0 2019-11-01                        NaN  2019   11   1110-2  \n",
       "1 2010-07-01                        NaN  2010    7   120A-2  \n",
       "2 2010-07-01                        NaN  2010    7  1093-14  \n",
       "3 2010-07-01  WWW.ALEJANDROPONCE.COM.MX  2010    7  1093-13  \n",
       "4 2010-07-01     WWW.JAMESANDSTEVEN.COM  2010    7  1002-18  "
      ]
     },
     "execution_count": 6,
     "metadata": {},
     "output_type": "execute_result"
    }
   ],
   "source": [
    "empresas=data.Id\n",
    "len(empresas)\n",
    "d=info[info[\"id\"].isin(empresas)]\n",
    "d.reset_index(drop=True,inplace=True)\n",
    "d.info()\n",
    "d[\"manzana\"]=d.manzana.astype(int)\n",
    "d[\"clave\"]=d[\"ageb\"].astype(str) + \"-\" + d[\"manzana\"].astype(str)\n",
    "d.head()"
   ]
  },
  {
   "cell_type": "code",
   "execution_count": 204,
   "metadata": {
    "scrolled": false
   },
   "outputs": [
    {
     "data": {
      "text/html": [
       "<div style=\"width:100%;\"><div style=\"position:relative;width:100%;height:0;padding-bottom:60%;\"><iframe src=\"data:text/html;charset=utf-8;base64,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\" style=\"position:absolute;width:100%;height:100%;left:0;top:0;border:none !important;\" allowfullscreen webkitallowfullscreen mozallowfullscreen></iframe></div></div>"
      ],
      "text/plain": [
       "<folium.folium.Map at 0x2a81c155898>"
      ]
     },
     "metadata": {},
     "output_type": "display_data"
    }
   ],
   "source": [
    "llat=list(d.latitud)\n",
    "llong=list(d.longitud)\n",
    "name=list(d.nom_estab)\n",
    "\n",
    "mapa=folium.Map(location=[long, lat], tiles='openstreetmap', zoom_start=15)\n",
    "\n",
    "for i in range(len(d)):\n",
    "    folium.Marker([llat[i], llong[i]], icon=folium.Icon(color='red'),popup=name[i]).add_to(mapa)\n",
    "\n",
    "    \n",
    "display(mapa)\n",
    "\n",
    "mapa.save(\"mapa.png\")"
   ]
  },
  {
   "cell_type": "code",
   "execution_count": 9,
   "metadata": {},
   "outputs": [
    {
     "data": {
      "text/plain": [
       "2019-11-01    56\n",
       "2010-07-01    30\n",
       "2014-12-01    14\n",
       "2019-04-01     9\n",
       "2016-10-01     5\n",
       "2017-11-01     4\n",
       "2011-03-01     3\n",
       "2012-06-01     3\n",
       "2016-01-01     1\n",
       "Name: fecha_alta, dtype: int64"
      ]
     },
     "execution_count": 9,
     "metadata": {},
     "output_type": "execute_result"
    }
   ],
   "source": [
    "d.fecha_alta.value_counts()"
   ]
  },
  {
   "cell_type": "code",
   "execution_count": null,
   "metadata": {},
   "outputs": [],
   "source": [
    "'''\n",
    "dat=pd.DataFrame(d.fecha_alta.value_counts())\n",
    "dat=dat.sort_index()\n",
    "dat.index = pd.DatetimeIndex(dat.index).to_period('M')\n",
    "train=dat[1:-1]\n",
    "modelo=AR(train).fit()\n",
    "pred=modelo.predict(8,10)\n",
    "print(pred)\n",
    "train\n",
    "'''"
   ]
  },
  {
   "cell_type": "code",
   "execution_count": null,
   "metadata": {},
   "outputs": [],
   "source": [
    "'''\n",
    "from sklearn.linear_model import LinearRegression\n",
    "\n",
    "\n",
    "train=gk[1:-1]\n",
    "train=train.reset_index(drop=False)\n",
    "train=train.sort_values(by=['index'])\n",
    "X=train[\"index\"]\n",
    "y=train.Año\n",
    "z=\"2019\"\n",
    "X.reshape(1, -1)\n",
    "linreg=LinearRegression(fit_intercept=True)\n",
    "linreg.fit(X, y)\n",
    "#y_pred=linreg.predict(X_test)\n",
    "'''"
   ]
  },
  {
   "cell_type": "code",
   "execution_count": 80,
   "metadata": {},
   "outputs": [
    {
     "data": {
      "text/html": [
       "        <script type=\"text/javascript\">\n",
       "        window.PlotlyConfig = {MathJaxConfig: 'local'};\n",
       "        if (window.MathJax) {MathJax.Hub.Config({SVG: {font: \"STIX-Web\"}});}\n",
       "        if (typeof require !== 'undefined') {\n",
       "        require.undef(\"plotly\");\n",
       "        requirejs.config({\n",
       "            paths: {\n",
       "                'plotly': ['https://cdn.plot.ly/plotly-latest.min']\n",
       "            }\n",
       "        });\n",
       "        require(['plotly'], function(Plotly) {\n",
       "            window._Plotly = Plotly;\n",
       "        });\n",
       "        }\n",
       "        </script>\n",
       "        "
      ]
     },
     "metadata": {},
     "output_type": "display_data"
    }
   ],
   "source": [
    "import chart_studio.plotly as py\n",
    "import cufflinks as cf\n",
    "from ipywidgets import interact\n",
    "import matplotlib.pyplot as plt\n",
    "cf.go_offline()\n",
    "import seaborn as sns"
   ]
  },
  {
   "cell_type": "code",
   "execution_count": 11,
   "metadata": {},
   "outputs": [
    {
     "data": {
      "text/plain": [
       "125"
      ]
     },
     "metadata": {},
     "output_type": "display_data"
    },
    {
     "name": "stdout",
     "output_type": "stream",
     "text": [
      "   index  Año\n",
      "1   2010   30\n",
      "6   2011    3\n",
      "5   2012    3\n",
      "2   2014   14\n",
      "3   2016    6\n",
      "4   2017    4\n",
      "0   2019   65\n"
     ]
    },
    {
     "data": {
      "text/html": [
       "<div>\n",
       "<style scoped>\n",
       "    .dataframe tbody tr th:only-of-type {\n",
       "        vertical-align: middle;\n",
       "    }\n",
       "\n",
       "    .dataframe tbody tr th {\n",
       "        vertical-align: top;\n",
       "    }\n",
       "\n",
       "    .dataframe thead th {\n",
       "        text-align: right;\n",
       "    }\n",
       "</style>\n",
       "<table border=\"1\" class=\"dataframe\">\n",
       "  <thead>\n",
       "    <tr style=\"text-align: right;\">\n",
       "      <th></th>\n",
       "      <th>index</th>\n",
       "      <th>Mes</th>\n",
       "    </tr>\n",
       "  </thead>\n",
       "  <tbody>\n",
       "    <tr>\n",
       "      <th>7</th>\n",
       "      <td>1</td>\n",
       "      <td>1</td>\n",
       "    </tr>\n",
       "    <tr>\n",
       "      <th>6</th>\n",
       "      <td>3</td>\n",
       "      <td>3</td>\n",
       "    </tr>\n",
       "    <tr>\n",
       "      <th>3</th>\n",
       "      <td>4</td>\n",
       "      <td>9</td>\n",
       "    </tr>\n",
       "    <tr>\n",
       "      <th>5</th>\n",
       "      <td>6</td>\n",
       "      <td>3</td>\n",
       "    </tr>\n",
       "    <tr>\n",
       "      <th>1</th>\n",
       "      <td>7</td>\n",
       "      <td>30</td>\n",
       "    </tr>\n",
       "    <tr>\n",
       "      <th>4</th>\n",
       "      <td>10</td>\n",
       "      <td>5</td>\n",
       "    </tr>\n",
       "    <tr>\n",
       "      <th>0</th>\n",
       "      <td>11</td>\n",
       "      <td>60</td>\n",
       "    </tr>\n",
       "    <tr>\n",
       "      <th>2</th>\n",
       "      <td>12</td>\n",
       "      <td>14</td>\n",
       "    </tr>\n",
       "  </tbody>\n",
       "</table>\n",
       "</div>"
      ],
      "text/plain": [
       "   index  Mes\n",
       "7      1    1\n",
       "6      3    3\n",
       "3      4    9\n",
       "5      6    3\n",
       "1      7   30\n",
       "4     10    5\n",
       "0     11   60\n",
       "2     12   14"
      ]
     },
     "execution_count": 11,
     "metadata": {},
     "output_type": "execute_result"
    }
   ],
   "source": [
    "display(len(d))\n",
    "gk =pd.DataFrame(d.Año.value_counts())\n",
    "gk=gk.reset_index(drop=False)\n",
    "gk=gk.sort_values(by=['index'])\n",
    "print(gk)\n",
    "gm =pd.DataFrame(d.Mes.value_counts())\n",
    "gm=gm.reset_index(drop=False)\n",
    "gm=gm.sort_values(by=['index'])\n",
    "gm"
   ]
  },
  {
   "cell_type": "code",
   "execution_count": 188,
   "metadata": {
    "scrolled": false
   },
   "outputs": [
    {
     "data": {
      "application/vnd.plotly.v1+json": {
       "config": {
        "linkText": "Export to plot.ly",
        "plotlyServerURL": "https://plot.ly",
        "showLink": true
       },
       "data": [
        {
         "marker": {
          "color": "rgba(255, 153, 51, 0.6)",
          "line": {
           "color": "rgba(255, 153, 51, 1.0)",
           "width": 1
          }
         },
         "name": "Mes",
         "orientation": "v",
         "text": "",
         "type": "bar",
         "x": [
          1,
          3,
          4,
          6,
          7,
          10,
          11,
          12
         ],
         "y": [
          1,
          3,
          9,
          3,
          30,
          5,
          60,
          14
         ]
        }
       ],
       "layout": {
        "legend": {
         "bgcolor": "#F5F6F9",
         "font": {
          "color": "#4D5663"
         }
        },
        "paper_bgcolor": "#F5F6F9",
        "plot_bgcolor": "#F5F6F9",
        "template": {
         "data": {
          "bar": [
           {
            "error_x": {
             "color": "#2a3f5f"
            },
            "error_y": {
             "color": "#2a3f5f"
            },
            "marker": {
             "line": {
              "color": "#E5ECF6",
              "width": 0.5
             }
            },
            "type": "bar"
           }
          ],
          "barpolar": [
           {
            "marker": {
             "line": {
              "color": "#E5ECF6",
              "width": 0.5
             }
            },
            "type": "barpolar"
           }
          ],
          "carpet": [
           {
            "aaxis": {
             "endlinecolor": "#2a3f5f",
             "gridcolor": "white",
             "linecolor": "white",
             "minorgridcolor": "white",
             "startlinecolor": "#2a3f5f"
            },
            "baxis": {
             "endlinecolor": "#2a3f5f",
             "gridcolor": "white",
             "linecolor": "white",
             "minorgridcolor": "white",
             "startlinecolor": "#2a3f5f"
            },
            "type": "carpet"
           }
          ],
          "choropleth": [
           {
            "colorbar": {
             "outlinewidth": 0,
             "ticks": ""
            },
            "type": "choropleth"
           }
          ],
          "contour": [
           {
            "colorbar": {
             "outlinewidth": 0,
             "ticks": ""
            },
            "colorscale": [
             [
              0,
              "#0d0887"
             ],
             [
              0.1111111111111111,
              "#46039f"
             ],
             [
              0.2222222222222222,
              "#7201a8"
             ],
             [
              0.3333333333333333,
              "#9c179e"
             ],
             [
              0.4444444444444444,
              "#bd3786"
             ],
             [
              0.5555555555555556,
              "#d8576b"
             ],
             [
              0.6666666666666666,
              "#ed7953"
             ],
             [
              0.7777777777777778,
              "#fb9f3a"
             ],
             [
              0.8888888888888888,
              "#fdca26"
             ],
             [
              1,
              "#f0f921"
             ]
            ],
            "type": "contour"
           }
          ],
          "contourcarpet": [
           {
            "colorbar": {
             "outlinewidth": 0,
             "ticks": ""
            },
            "type": "contourcarpet"
           }
          ],
          "heatmap": [
           {
            "colorbar": {
             "outlinewidth": 0,
             "ticks": ""
            },
            "colorscale": [
             [
              0,
              "#0d0887"
             ],
             [
              0.1111111111111111,
              "#46039f"
             ],
             [
              0.2222222222222222,
              "#7201a8"
             ],
             [
              0.3333333333333333,
              "#9c179e"
             ],
             [
              0.4444444444444444,
              "#bd3786"
             ],
             [
              0.5555555555555556,
              "#d8576b"
             ],
             [
              0.6666666666666666,
              "#ed7953"
             ],
             [
              0.7777777777777778,
              "#fb9f3a"
             ],
             [
              0.8888888888888888,
              "#fdca26"
             ],
             [
              1,
              "#f0f921"
             ]
            ],
            "type": "heatmap"
           }
          ],
          "heatmapgl": [
           {
            "colorbar": {
             "outlinewidth": 0,
             "ticks": ""
            },
            "colorscale": [
             [
              0,
              "#0d0887"
             ],
             [
              0.1111111111111111,
              "#46039f"
             ],
             [
              0.2222222222222222,
              "#7201a8"
             ],
             [
              0.3333333333333333,
              "#9c179e"
             ],
             [
              0.4444444444444444,
              "#bd3786"
             ],
             [
              0.5555555555555556,
              "#d8576b"
             ],
             [
              0.6666666666666666,
              "#ed7953"
             ],
             [
              0.7777777777777778,
              "#fb9f3a"
             ],
             [
              0.8888888888888888,
              "#fdca26"
             ],
             [
              1,
              "#f0f921"
             ]
            ],
            "type": "heatmapgl"
           }
          ],
          "histogram": [
           {
            "marker": {
             "colorbar": {
              "outlinewidth": 0,
              "ticks": ""
             }
            },
            "type": "histogram"
           }
          ],
          "histogram2d": [
           {
            "colorbar": {
             "outlinewidth": 0,
             "ticks": ""
            },
            "colorscale": [
             [
              0,
              "#0d0887"
             ],
             [
              0.1111111111111111,
              "#46039f"
             ],
             [
              0.2222222222222222,
              "#7201a8"
             ],
             [
              0.3333333333333333,
              "#9c179e"
             ],
             [
              0.4444444444444444,
              "#bd3786"
             ],
             [
              0.5555555555555556,
              "#d8576b"
             ],
             [
              0.6666666666666666,
              "#ed7953"
             ],
             [
              0.7777777777777778,
              "#fb9f3a"
             ],
             [
              0.8888888888888888,
              "#fdca26"
             ],
             [
              1,
              "#f0f921"
             ]
            ],
            "type": "histogram2d"
           }
          ],
          "histogram2dcontour": [
           {
            "colorbar": {
             "outlinewidth": 0,
             "ticks": ""
            },
            "colorscale": [
             [
              0,
              "#0d0887"
             ],
             [
              0.1111111111111111,
              "#46039f"
             ],
             [
              0.2222222222222222,
              "#7201a8"
             ],
             [
              0.3333333333333333,
              "#9c179e"
             ],
             [
              0.4444444444444444,
              "#bd3786"
             ],
             [
              0.5555555555555556,
              "#d8576b"
             ],
             [
              0.6666666666666666,
              "#ed7953"
             ],
             [
              0.7777777777777778,
              "#fb9f3a"
             ],
             [
              0.8888888888888888,
              "#fdca26"
             ],
             [
              1,
              "#f0f921"
             ]
            ],
            "type": "histogram2dcontour"
           }
          ],
          "mesh3d": [
           {
            "colorbar": {
             "outlinewidth": 0,
             "ticks": ""
            },
            "type": "mesh3d"
           }
          ],
          "parcoords": [
           {
            "line": {
             "colorbar": {
              "outlinewidth": 0,
              "ticks": ""
             }
            },
            "type": "parcoords"
           }
          ],
          "pie": [
           {
            "automargin": true,
            "type": "pie"
           }
          ],
          "scatter": [
           {
            "marker": {
             "colorbar": {
              "outlinewidth": 0,
              "ticks": ""
             }
            },
            "type": "scatter"
           }
          ],
          "scatter3d": [
           {
            "line": {
             "colorbar": {
              "outlinewidth": 0,
              "ticks": ""
             }
            },
            "marker": {
             "colorbar": {
              "outlinewidth": 0,
              "ticks": ""
             }
            },
            "type": "scatter3d"
           }
          ],
          "scattercarpet": [
           {
            "marker": {
             "colorbar": {
              "outlinewidth": 0,
              "ticks": ""
             }
            },
            "type": "scattercarpet"
           }
          ],
          "scattergeo": [
           {
            "marker": {
             "colorbar": {
              "outlinewidth": 0,
              "ticks": ""
             }
            },
            "type": "scattergeo"
           }
          ],
          "scattergl": [
           {
            "marker": {
             "colorbar": {
              "outlinewidth": 0,
              "ticks": ""
             }
            },
            "type": "scattergl"
           }
          ],
          "scattermapbox": [
           {
            "marker": {
             "colorbar": {
              "outlinewidth": 0,
              "ticks": ""
             }
            },
            "type": "scattermapbox"
           }
          ],
          "scatterpolar": [
           {
            "marker": {
             "colorbar": {
              "outlinewidth": 0,
              "ticks": ""
             }
            },
            "type": "scatterpolar"
           }
          ],
          "scatterpolargl": [
           {
            "marker": {
             "colorbar": {
              "outlinewidth": 0,
              "ticks": ""
             }
            },
            "type": "scatterpolargl"
           }
          ],
          "scatterternary": [
           {
            "marker": {
             "colorbar": {
              "outlinewidth": 0,
              "ticks": ""
             }
            },
            "type": "scatterternary"
           }
          ],
          "surface": [
           {
            "colorbar": {
             "outlinewidth": 0,
             "ticks": ""
            },
            "colorscale": [
             [
              0,
              "#0d0887"
             ],
             [
              0.1111111111111111,
              "#46039f"
             ],
             [
              0.2222222222222222,
              "#7201a8"
             ],
             [
              0.3333333333333333,
              "#9c179e"
             ],
             [
              0.4444444444444444,
              "#bd3786"
             ],
             [
              0.5555555555555556,
              "#d8576b"
             ],
             [
              0.6666666666666666,
              "#ed7953"
             ],
             [
              0.7777777777777778,
              "#fb9f3a"
             ],
             [
              0.8888888888888888,
              "#fdca26"
             ],
             [
              1,
              "#f0f921"
             ]
            ],
            "type": "surface"
           }
          ],
          "table": [
           {
            "cells": {
             "fill": {
              "color": "#EBF0F8"
             },
             "line": {
              "color": "white"
             }
            },
            "header": {
             "fill": {
              "color": "#C8D4E3"
             },
             "line": {
              "color": "white"
             }
            },
            "type": "table"
           }
          ]
         },
         "layout": {
          "annotationdefaults": {
           "arrowcolor": "#2a3f5f",
           "arrowhead": 0,
           "arrowwidth": 1
          },
          "coloraxis": {
           "colorbar": {
            "outlinewidth": 0,
            "ticks": ""
           }
          },
          "colorscale": {
           "diverging": [
            [
             0,
             "#8e0152"
            ],
            [
             0.1,
             "#c51b7d"
            ],
            [
             0.2,
             "#de77ae"
            ],
            [
             0.3,
             "#f1b6da"
            ],
            [
             0.4,
             "#fde0ef"
            ],
            [
             0.5,
             "#f7f7f7"
            ],
            [
             0.6,
             "#e6f5d0"
            ],
            [
             0.7,
             "#b8e186"
            ],
            [
             0.8,
             "#7fbc41"
            ],
            [
             0.9,
             "#4d9221"
            ],
            [
             1,
             "#276419"
            ]
           ],
           "sequential": [
            [
             0,
             "#0d0887"
            ],
            [
             0.1111111111111111,
             "#46039f"
            ],
            [
             0.2222222222222222,
             "#7201a8"
            ],
            [
             0.3333333333333333,
             "#9c179e"
            ],
            [
             0.4444444444444444,
             "#bd3786"
            ],
            [
             0.5555555555555556,
             "#d8576b"
            ],
            [
             0.6666666666666666,
             "#ed7953"
            ],
            [
             0.7777777777777778,
             "#fb9f3a"
            ],
            [
             0.8888888888888888,
             "#fdca26"
            ],
            [
             1,
             "#f0f921"
            ]
           ],
           "sequentialminus": [
            [
             0,
             "#0d0887"
            ],
            [
             0.1111111111111111,
             "#46039f"
            ],
            [
             0.2222222222222222,
             "#7201a8"
            ],
            [
             0.3333333333333333,
             "#9c179e"
            ],
            [
             0.4444444444444444,
             "#bd3786"
            ],
            [
             0.5555555555555556,
             "#d8576b"
            ],
            [
             0.6666666666666666,
             "#ed7953"
            ],
            [
             0.7777777777777778,
             "#fb9f3a"
            ],
            [
             0.8888888888888888,
             "#fdca26"
            ],
            [
             1,
             "#f0f921"
            ]
           ]
          },
          "colorway": [
           "#636efa",
           "#EF553B",
           "#00cc96",
           "#ab63fa",
           "#FFA15A",
           "#19d3f3",
           "#FF6692",
           "#B6E880",
           "#FF97FF",
           "#FECB52"
          ],
          "font": {
           "color": "#2a3f5f"
          },
          "geo": {
           "bgcolor": "white",
           "lakecolor": "white",
           "landcolor": "#E5ECF6",
           "showlakes": true,
           "showland": true,
           "subunitcolor": "white"
          },
          "hoverlabel": {
           "align": "left"
          },
          "hovermode": "closest",
          "mapbox": {
           "style": "light"
          },
          "paper_bgcolor": "white",
          "plot_bgcolor": "#E5ECF6",
          "polar": {
           "angularaxis": {
            "gridcolor": "white",
            "linecolor": "white",
            "ticks": ""
           },
           "bgcolor": "#E5ECF6",
           "radialaxis": {
            "gridcolor": "white",
            "linecolor": "white",
            "ticks": ""
           }
          },
          "scene": {
           "xaxis": {
            "backgroundcolor": "#E5ECF6",
            "gridcolor": "white",
            "gridwidth": 2,
            "linecolor": "white",
            "showbackground": true,
            "ticks": "",
            "zerolinecolor": "white"
           },
           "yaxis": {
            "backgroundcolor": "#E5ECF6",
            "gridcolor": "white",
            "gridwidth": 2,
            "linecolor": "white",
            "showbackground": true,
            "ticks": "",
            "zerolinecolor": "white"
           },
           "zaxis": {
            "backgroundcolor": "#E5ECF6",
            "gridcolor": "white",
            "gridwidth": 2,
            "linecolor": "white",
            "showbackground": true,
            "ticks": "",
            "zerolinecolor": "white"
           }
          },
          "shapedefaults": {
           "line": {
            "color": "#2a3f5f"
           }
          },
          "ternary": {
           "aaxis": {
            "gridcolor": "white",
            "linecolor": "white",
            "ticks": ""
           },
           "baxis": {
            "gridcolor": "white",
            "linecolor": "white",
            "ticks": ""
           },
           "bgcolor": "#E5ECF6",
           "caxis": {
            "gridcolor": "white",
            "linecolor": "white",
            "ticks": ""
           }
          },
          "title": {
           "x": 0.05
          },
          "xaxis": {
           "automargin": true,
           "gridcolor": "white",
           "linecolor": "white",
           "ticks": "",
           "title": {
            "standoff": 15
           },
           "zerolinecolor": "white",
           "zerolinewidth": 2
          },
          "yaxis": {
           "automargin": true,
           "gridcolor": "white",
           "linecolor": "white",
           "ticks": "",
           "title": {
            "standoff": 15
           },
           "zerolinecolor": "white",
           "zerolinewidth": 2
          }
         }
        },
        "title": {
         "font": {
          "color": "#4D5663"
         },
         "text": "Mes de integración"
        },
        "xaxis": {
         "gridcolor": "#E1E5ED",
         "showgrid": true,
         "tickfont": {
          "color": "#4D5663"
         },
         "title": {
          "font": {
           "color": "#4D5663"
          },
          "text": "Mes"
         },
         "zerolinecolor": "#E1E5ED"
        },
        "yaxis": {
         "gridcolor": "#E1E5ED",
         "showgrid": true,
         "tickfont": {
          "color": "#4D5663"
         },
         "title": {
          "font": {
           "color": "#4D5663"
          },
          "text": "N. Empresas"
         },
         "zerolinecolor": "#E1E5ED"
        }
       }
      },
      "text/html": [
       "<div>\n",
       "        \n",
       "        \n",
       "            <div id=\"1dadfa8b-d8fd-48ae-96e3-a71873a820d8\" class=\"plotly-graph-div\" style=\"height:525px; width:100%;\"></div>\n",
       "            <script type=\"text/javascript\">\n",
       "                require([\"plotly\"], function(Plotly) {\n",
       "                    window.PLOTLYENV=window.PLOTLYENV || {};\n",
       "                    window.PLOTLYENV.BASE_URL='https://plot.ly';\n",
       "                    \n",
       "                if (document.getElementById(\"1dadfa8b-d8fd-48ae-96e3-a71873a820d8\")) {\n",
       "                    Plotly.newPlot(\n",
       "                        '1dadfa8b-d8fd-48ae-96e3-a71873a820d8',\n",
       "                        [{\"marker\": {\"color\": \"rgba(255, 153, 51, 0.6)\", \"line\": {\"color\": \"rgba(255, 153, 51, 1.0)\", \"width\": 1}}, \"name\": \"Mes\", \"orientation\": \"v\", \"text\": \"\", \"type\": \"bar\", \"x\": [1, 3, 4, 6, 7, 10, 11, 12], \"y\": [1, 3, 9, 3, 30, 5, 60, 14]}],\n",
       "                        {\"legend\": {\"bgcolor\": \"#F5F6F9\", \"font\": {\"color\": \"#4D5663\"}}, \"paper_bgcolor\": \"#F5F6F9\", \"plot_bgcolor\": \"#F5F6F9\", \"template\": {\"data\": {\"bar\": [{\"error_x\": {\"color\": \"#2a3f5f\"}, \"error_y\": {\"color\": \"#2a3f5f\"}, \"marker\": {\"line\": {\"color\": \"#E5ECF6\", \"width\": 0.5}}, \"type\": \"bar\"}], \"barpolar\": [{\"marker\": {\"line\": {\"color\": \"#E5ECF6\", \"width\": 0.5}}, \"type\": \"barpolar\"}], \"carpet\": [{\"aaxis\": {\"endlinecolor\": \"#2a3f5f\", \"gridcolor\": \"white\", \"linecolor\": \"white\", \"minorgridcolor\": \"white\", \"startlinecolor\": \"#2a3f5f\"}, \"baxis\": {\"endlinecolor\": \"#2a3f5f\", \"gridcolor\": \"white\", \"linecolor\": \"white\", \"minorgridcolor\": \"white\", \"startlinecolor\": \"#2a3f5f\"}, \"type\": \"carpet\"}], \"choropleth\": [{\"colorbar\": {\"outlinewidth\": 0, \"ticks\": \"\"}, \"type\": \"choropleth\"}], \"contour\": [{\"colorbar\": {\"outlinewidth\": 0, \"ticks\": \"\"}, \"colorscale\": [[0.0, \"#0d0887\"], [0.1111111111111111, \"#46039f\"], [0.2222222222222222, \"#7201a8\"], [0.3333333333333333, \"#9c179e\"], [0.4444444444444444, \"#bd3786\"], [0.5555555555555556, \"#d8576b\"], [0.6666666666666666, \"#ed7953\"], [0.7777777777777778, \"#fb9f3a\"], [0.8888888888888888, \"#fdca26\"], [1.0, \"#f0f921\"]], \"type\": \"contour\"}], \"contourcarpet\": [{\"colorbar\": {\"outlinewidth\": 0, \"ticks\": \"\"}, \"type\": \"contourcarpet\"}], \"heatmap\": [{\"colorbar\": {\"outlinewidth\": 0, \"ticks\": \"\"}, \"colorscale\": [[0.0, \"#0d0887\"], [0.1111111111111111, \"#46039f\"], [0.2222222222222222, \"#7201a8\"], [0.3333333333333333, \"#9c179e\"], [0.4444444444444444, \"#bd3786\"], [0.5555555555555556, \"#d8576b\"], [0.6666666666666666, \"#ed7953\"], [0.7777777777777778, \"#fb9f3a\"], [0.8888888888888888, \"#fdca26\"], [1.0, \"#f0f921\"]], \"type\": \"heatmap\"}], \"heatmapgl\": [{\"colorbar\": {\"outlinewidth\": 0, \"ticks\": \"\"}, \"colorscale\": [[0.0, \"#0d0887\"], [0.1111111111111111, \"#46039f\"], [0.2222222222222222, \"#7201a8\"], [0.3333333333333333, \"#9c179e\"], [0.4444444444444444, \"#bd3786\"], [0.5555555555555556, \"#d8576b\"], [0.6666666666666666, \"#ed7953\"], [0.7777777777777778, \"#fb9f3a\"], [0.8888888888888888, \"#fdca26\"], [1.0, \"#f0f921\"]], \"type\": \"heatmapgl\"}], \"histogram\": [{\"marker\": {\"colorbar\": {\"outlinewidth\": 0, \"ticks\": \"\"}}, \"type\": \"histogram\"}], \"histogram2d\": [{\"colorbar\": {\"outlinewidth\": 0, \"ticks\": \"\"}, \"colorscale\": [[0.0, \"#0d0887\"], [0.1111111111111111, \"#46039f\"], [0.2222222222222222, \"#7201a8\"], [0.3333333333333333, \"#9c179e\"], [0.4444444444444444, \"#bd3786\"], [0.5555555555555556, \"#d8576b\"], [0.6666666666666666, \"#ed7953\"], [0.7777777777777778, \"#fb9f3a\"], [0.8888888888888888, \"#fdca26\"], [1.0, \"#f0f921\"]], \"type\": \"histogram2d\"}], \"histogram2dcontour\": [{\"colorbar\": {\"outlinewidth\": 0, \"ticks\": \"\"}, \"colorscale\": [[0.0, \"#0d0887\"], [0.1111111111111111, \"#46039f\"], [0.2222222222222222, \"#7201a8\"], [0.3333333333333333, \"#9c179e\"], [0.4444444444444444, \"#bd3786\"], [0.5555555555555556, \"#d8576b\"], [0.6666666666666666, \"#ed7953\"], [0.7777777777777778, \"#fb9f3a\"], [0.8888888888888888, \"#fdca26\"], [1.0, \"#f0f921\"]], \"type\": \"histogram2dcontour\"}], \"mesh3d\": [{\"colorbar\": {\"outlinewidth\": 0, \"ticks\": \"\"}, \"type\": \"mesh3d\"}], \"parcoords\": [{\"line\": {\"colorbar\": {\"outlinewidth\": 0, \"ticks\": \"\"}}, \"type\": \"parcoords\"}], \"pie\": [{\"automargin\": true, \"type\": \"pie\"}], \"scatter\": [{\"marker\": {\"colorbar\": {\"outlinewidth\": 0, \"ticks\": \"\"}}, \"type\": \"scatter\"}], \"scatter3d\": [{\"line\": {\"colorbar\": {\"outlinewidth\": 0, \"ticks\": \"\"}}, \"marker\": {\"colorbar\": {\"outlinewidth\": 0, \"ticks\": \"\"}}, \"type\": \"scatter3d\"}], \"scattercarpet\": [{\"marker\": {\"colorbar\": {\"outlinewidth\": 0, \"ticks\": \"\"}}, \"type\": \"scattercarpet\"}], \"scattergeo\": [{\"marker\": {\"colorbar\": {\"outlinewidth\": 0, \"ticks\": \"\"}}, \"type\": \"scattergeo\"}], \"scattergl\": [{\"marker\": {\"colorbar\": {\"outlinewidth\": 0, \"ticks\": \"\"}}, \"type\": \"scattergl\"}], \"scattermapbox\": [{\"marker\": {\"colorbar\": {\"outlinewidth\": 0, \"ticks\": \"\"}}, \"type\": \"scattermapbox\"}], \"scatterpolar\": [{\"marker\": {\"colorbar\": {\"outlinewidth\": 0, \"ticks\": \"\"}}, \"type\": \"scatterpolar\"}], \"scatterpolargl\": [{\"marker\": {\"colorbar\": {\"outlinewidth\": 0, \"ticks\": \"\"}}, \"type\": \"scatterpolargl\"}], \"scatterternary\": [{\"marker\": {\"colorbar\": {\"outlinewidth\": 0, \"ticks\": \"\"}}, \"type\": \"scatterternary\"}], \"surface\": [{\"colorbar\": {\"outlinewidth\": 0, \"ticks\": \"\"}, \"colorscale\": [[0.0, \"#0d0887\"], [0.1111111111111111, \"#46039f\"], [0.2222222222222222, \"#7201a8\"], [0.3333333333333333, \"#9c179e\"], [0.4444444444444444, \"#bd3786\"], [0.5555555555555556, \"#d8576b\"], [0.6666666666666666, \"#ed7953\"], [0.7777777777777778, \"#fb9f3a\"], [0.8888888888888888, \"#fdca26\"], [1.0, \"#f0f921\"]], \"type\": \"surface\"}], \"table\": [{\"cells\": {\"fill\": {\"color\": \"#EBF0F8\"}, \"line\": {\"color\": \"white\"}}, \"header\": {\"fill\": {\"color\": \"#C8D4E3\"}, \"line\": {\"color\": \"white\"}}, \"type\": \"table\"}]}, \"layout\": {\"annotationdefaults\": {\"arrowcolor\": \"#2a3f5f\", \"arrowhead\": 0, \"arrowwidth\": 1}, \"coloraxis\": {\"colorbar\": {\"outlinewidth\": 0, \"ticks\": \"\"}}, \"colorscale\": {\"diverging\": [[0, \"#8e0152\"], [0.1, \"#c51b7d\"], [0.2, \"#de77ae\"], [0.3, \"#f1b6da\"], [0.4, \"#fde0ef\"], [0.5, \"#f7f7f7\"], [0.6, \"#e6f5d0\"], [0.7, \"#b8e186\"], [0.8, \"#7fbc41\"], [0.9, \"#4d9221\"], [1, \"#276419\"]], \"sequential\": [[0.0, \"#0d0887\"], [0.1111111111111111, \"#46039f\"], [0.2222222222222222, \"#7201a8\"], [0.3333333333333333, \"#9c179e\"], [0.4444444444444444, \"#bd3786\"], [0.5555555555555556, \"#d8576b\"], [0.6666666666666666, \"#ed7953\"], [0.7777777777777778, \"#fb9f3a\"], [0.8888888888888888, \"#fdca26\"], [1.0, \"#f0f921\"]], \"sequentialminus\": [[0.0, \"#0d0887\"], [0.1111111111111111, \"#46039f\"], [0.2222222222222222, \"#7201a8\"], [0.3333333333333333, \"#9c179e\"], [0.4444444444444444, \"#bd3786\"], [0.5555555555555556, \"#d8576b\"], [0.6666666666666666, \"#ed7953\"], [0.7777777777777778, \"#fb9f3a\"], [0.8888888888888888, \"#fdca26\"], [1.0, \"#f0f921\"]]}, \"colorway\": [\"#636efa\", \"#EF553B\", \"#00cc96\", \"#ab63fa\", \"#FFA15A\", \"#19d3f3\", \"#FF6692\", \"#B6E880\", \"#FF97FF\", \"#FECB52\"], \"font\": {\"color\": \"#2a3f5f\"}, \"geo\": {\"bgcolor\": \"white\", \"lakecolor\": \"white\", \"landcolor\": \"#E5ECF6\", \"showlakes\": true, \"showland\": true, \"subunitcolor\": \"white\"}, \"hoverlabel\": {\"align\": \"left\"}, \"hovermode\": \"closest\", \"mapbox\": {\"style\": \"light\"}, \"paper_bgcolor\": \"white\", \"plot_bgcolor\": \"#E5ECF6\", \"polar\": {\"angularaxis\": {\"gridcolor\": \"white\", \"linecolor\": \"white\", \"ticks\": \"\"}, \"bgcolor\": \"#E5ECF6\", \"radialaxis\": {\"gridcolor\": \"white\", \"linecolor\": \"white\", \"ticks\": \"\"}}, \"scene\": {\"xaxis\": {\"backgroundcolor\": \"#E5ECF6\", \"gridcolor\": \"white\", \"gridwidth\": 2, \"linecolor\": \"white\", \"showbackground\": true, \"ticks\": \"\", \"zerolinecolor\": \"white\"}, \"yaxis\": {\"backgroundcolor\": \"#E5ECF6\", \"gridcolor\": \"white\", \"gridwidth\": 2, \"linecolor\": \"white\", \"showbackground\": true, \"ticks\": \"\", \"zerolinecolor\": \"white\"}, \"zaxis\": {\"backgroundcolor\": \"#E5ECF6\", \"gridcolor\": \"white\", \"gridwidth\": 2, \"linecolor\": \"white\", \"showbackground\": true, \"ticks\": \"\", \"zerolinecolor\": \"white\"}}, \"shapedefaults\": {\"line\": {\"color\": \"#2a3f5f\"}}, \"ternary\": {\"aaxis\": {\"gridcolor\": \"white\", \"linecolor\": \"white\", \"ticks\": \"\"}, \"baxis\": {\"gridcolor\": \"white\", \"linecolor\": \"white\", \"ticks\": \"\"}, \"bgcolor\": \"#E5ECF6\", \"caxis\": {\"gridcolor\": \"white\", \"linecolor\": \"white\", \"ticks\": \"\"}}, \"title\": {\"x\": 0.05}, \"xaxis\": {\"automargin\": true, \"gridcolor\": \"white\", \"linecolor\": \"white\", \"ticks\": \"\", \"title\": {\"standoff\": 15}, \"zerolinecolor\": \"white\", \"zerolinewidth\": 2}, \"yaxis\": {\"automargin\": true, \"gridcolor\": \"white\", \"linecolor\": \"white\", \"ticks\": \"\", \"title\": {\"standoff\": 15}, \"zerolinecolor\": \"white\", \"zerolinewidth\": 2}}}, \"title\": {\"font\": {\"color\": \"#4D5663\"}, \"text\": \"Mes de integraci\\u00f3n\"}, \"xaxis\": {\"gridcolor\": \"#E1E5ED\", \"showgrid\": true, \"tickfont\": {\"color\": \"#4D5663\"}, \"title\": {\"font\": {\"color\": \"#4D5663\"}, \"text\": \"Mes\"}, \"zerolinecolor\": \"#E1E5ED\"}, \"yaxis\": {\"gridcolor\": \"#E1E5ED\", \"showgrid\": true, \"tickfont\": {\"color\": \"#4D5663\"}, \"title\": {\"font\": {\"color\": \"#4D5663\"}, \"text\": \"N. Empresas\"}, \"zerolinecolor\": \"#E1E5ED\"}},\n",
       "                        {\"showLink\": true, \"linkText\": \"Export to plot.ly\", \"plotlyServerURL\": \"https://plot.ly\", \"responsive\": true}\n",
       "                    ).then(function(){\n",
       "                            \n",
       "var gd = document.getElementById('1dadfa8b-d8fd-48ae-96e3-a71873a820d8');\n",
       "var x = new MutationObserver(function (mutations, observer) {{\n",
       "        var display = window.getComputedStyle(gd).display;\n",
       "        if (!display || display === 'none') {{\n",
       "            console.log([gd, 'removed!']);\n",
       "            Plotly.purge(gd);\n",
       "            observer.disconnect();\n",
       "        }}\n",
       "}});\n",
       "\n",
       "// Listen for the removal of the full notebook cells\n",
       "var notebookContainer = gd.closest('#notebook-container');\n",
       "if (notebookContainer) {{\n",
       "    x.observe(notebookContainer, {childList: true});\n",
       "}}\n",
       "\n",
       "// Listen for the clearing of the current output cell\n",
       "var outputEl = gd.closest('.output');\n",
       "if (outputEl) {{\n",
       "    x.observe(outputEl, {childList: true});\n",
       "}}\n",
       "\n",
       "                        })\n",
       "                };\n",
       "                });\n",
       "            </script>\n",
       "        </div>"
      ]
     },
     "metadata": {},
     "output_type": "display_data"
    },
    {
     "data": {
      "application/vnd.plotly.v1+json": {
       "config": {
        "linkText": "Export to plot.ly",
        "plotlyServerURL": "https://plot.ly",
        "showLink": true
       },
       "data": [
        {
         "marker": {
          "color": "rgba(255, 153, 51, 0.6)",
          "line": {
           "color": "rgba(255, 153, 51, 1.0)",
           "width": 1
          }
         },
         "name": "Año",
         "orientation": "v",
         "text": "",
         "type": "bar",
         "x": [
          2010,
          2011,
          2012,
          2014,
          2016,
          2017,
          2019
         ],
         "y": [
          30,
          3,
          3,
          14,
          6,
          4,
          65
         ]
        }
       ],
       "layout": {
        "legend": {
         "bgcolor": "#F5F6F9",
         "font": {
          "color": "#4D5663"
         }
        },
        "paper_bgcolor": "#F5F6F9",
        "plot_bgcolor": "#F5F6F9",
        "template": {
         "data": {
          "bar": [
           {
            "error_x": {
             "color": "#2a3f5f"
            },
            "error_y": {
             "color": "#2a3f5f"
            },
            "marker": {
             "line": {
              "color": "#E5ECF6",
              "width": 0.5
             }
            },
            "type": "bar"
           }
          ],
          "barpolar": [
           {
            "marker": {
             "line": {
              "color": "#E5ECF6",
              "width": 0.5
             }
            },
            "type": "barpolar"
           }
          ],
          "carpet": [
           {
            "aaxis": {
             "endlinecolor": "#2a3f5f",
             "gridcolor": "white",
             "linecolor": "white",
             "minorgridcolor": "white",
             "startlinecolor": "#2a3f5f"
            },
            "baxis": {
             "endlinecolor": "#2a3f5f",
             "gridcolor": "white",
             "linecolor": "white",
             "minorgridcolor": "white",
             "startlinecolor": "#2a3f5f"
            },
            "type": "carpet"
           }
          ],
          "choropleth": [
           {
            "colorbar": {
             "outlinewidth": 0,
             "ticks": ""
            },
            "type": "choropleth"
           }
          ],
          "contour": [
           {
            "colorbar": {
             "outlinewidth": 0,
             "ticks": ""
            },
            "colorscale": [
             [
              0,
              "#0d0887"
             ],
             [
              0.1111111111111111,
              "#46039f"
             ],
             [
              0.2222222222222222,
              "#7201a8"
             ],
             [
              0.3333333333333333,
              "#9c179e"
             ],
             [
              0.4444444444444444,
              "#bd3786"
             ],
             [
              0.5555555555555556,
              "#d8576b"
             ],
             [
              0.6666666666666666,
              "#ed7953"
             ],
             [
              0.7777777777777778,
              "#fb9f3a"
             ],
             [
              0.8888888888888888,
              "#fdca26"
             ],
             [
              1,
              "#f0f921"
             ]
            ],
            "type": "contour"
           }
          ],
          "contourcarpet": [
           {
            "colorbar": {
             "outlinewidth": 0,
             "ticks": ""
            },
            "type": "contourcarpet"
           }
          ],
          "heatmap": [
           {
            "colorbar": {
             "outlinewidth": 0,
             "ticks": ""
            },
            "colorscale": [
             [
              0,
              "#0d0887"
             ],
             [
              0.1111111111111111,
              "#46039f"
             ],
             [
              0.2222222222222222,
              "#7201a8"
             ],
             [
              0.3333333333333333,
              "#9c179e"
             ],
             [
              0.4444444444444444,
              "#bd3786"
             ],
             [
              0.5555555555555556,
              "#d8576b"
             ],
             [
              0.6666666666666666,
              "#ed7953"
             ],
             [
              0.7777777777777778,
              "#fb9f3a"
             ],
             [
              0.8888888888888888,
              "#fdca26"
             ],
             [
              1,
              "#f0f921"
             ]
            ],
            "type": "heatmap"
           }
          ],
          "heatmapgl": [
           {
            "colorbar": {
             "outlinewidth": 0,
             "ticks": ""
            },
            "colorscale": [
             [
              0,
              "#0d0887"
             ],
             [
              0.1111111111111111,
              "#46039f"
             ],
             [
              0.2222222222222222,
              "#7201a8"
             ],
             [
              0.3333333333333333,
              "#9c179e"
             ],
             [
              0.4444444444444444,
              "#bd3786"
             ],
             [
              0.5555555555555556,
              "#d8576b"
             ],
             [
              0.6666666666666666,
              "#ed7953"
             ],
             [
              0.7777777777777778,
              "#fb9f3a"
             ],
             [
              0.8888888888888888,
              "#fdca26"
             ],
             [
              1,
              "#f0f921"
             ]
            ],
            "type": "heatmapgl"
           }
          ],
          "histogram": [
           {
            "marker": {
             "colorbar": {
              "outlinewidth": 0,
              "ticks": ""
             }
            },
            "type": "histogram"
           }
          ],
          "histogram2d": [
           {
            "colorbar": {
             "outlinewidth": 0,
             "ticks": ""
            },
            "colorscale": [
             [
              0,
              "#0d0887"
             ],
             [
              0.1111111111111111,
              "#46039f"
             ],
             [
              0.2222222222222222,
              "#7201a8"
             ],
             [
              0.3333333333333333,
              "#9c179e"
             ],
             [
              0.4444444444444444,
              "#bd3786"
             ],
             [
              0.5555555555555556,
              "#d8576b"
             ],
             [
              0.6666666666666666,
              "#ed7953"
             ],
             [
              0.7777777777777778,
              "#fb9f3a"
             ],
             [
              0.8888888888888888,
              "#fdca26"
             ],
             [
              1,
              "#f0f921"
             ]
            ],
            "type": "histogram2d"
           }
          ],
          "histogram2dcontour": [
           {
            "colorbar": {
             "outlinewidth": 0,
             "ticks": ""
            },
            "colorscale": [
             [
              0,
              "#0d0887"
             ],
             [
              0.1111111111111111,
              "#46039f"
             ],
             [
              0.2222222222222222,
              "#7201a8"
             ],
             [
              0.3333333333333333,
              "#9c179e"
             ],
             [
              0.4444444444444444,
              "#bd3786"
             ],
             [
              0.5555555555555556,
              "#d8576b"
             ],
             [
              0.6666666666666666,
              "#ed7953"
             ],
             [
              0.7777777777777778,
              "#fb9f3a"
             ],
             [
              0.8888888888888888,
              "#fdca26"
             ],
             [
              1,
              "#f0f921"
             ]
            ],
            "type": "histogram2dcontour"
           }
          ],
          "mesh3d": [
           {
            "colorbar": {
             "outlinewidth": 0,
             "ticks": ""
            },
            "type": "mesh3d"
           }
          ],
          "parcoords": [
           {
            "line": {
             "colorbar": {
              "outlinewidth": 0,
              "ticks": ""
             }
            },
            "type": "parcoords"
           }
          ],
          "pie": [
           {
            "automargin": true,
            "type": "pie"
           }
          ],
          "scatter": [
           {
            "marker": {
             "colorbar": {
              "outlinewidth": 0,
              "ticks": ""
             }
            },
            "type": "scatter"
           }
          ],
          "scatter3d": [
           {
            "line": {
             "colorbar": {
              "outlinewidth": 0,
              "ticks": ""
             }
            },
            "marker": {
             "colorbar": {
              "outlinewidth": 0,
              "ticks": ""
             }
            },
            "type": "scatter3d"
           }
          ],
          "scattercarpet": [
           {
            "marker": {
             "colorbar": {
              "outlinewidth": 0,
              "ticks": ""
             }
            },
            "type": "scattercarpet"
           }
          ],
          "scattergeo": [
           {
            "marker": {
             "colorbar": {
              "outlinewidth": 0,
              "ticks": ""
             }
            },
            "type": "scattergeo"
           }
          ],
          "scattergl": [
           {
            "marker": {
             "colorbar": {
              "outlinewidth": 0,
              "ticks": ""
             }
            },
            "type": "scattergl"
           }
          ],
          "scattermapbox": [
           {
            "marker": {
             "colorbar": {
              "outlinewidth": 0,
              "ticks": ""
             }
            },
            "type": "scattermapbox"
           }
          ],
          "scatterpolar": [
           {
            "marker": {
             "colorbar": {
              "outlinewidth": 0,
              "ticks": ""
             }
            },
            "type": "scatterpolar"
           }
          ],
          "scatterpolargl": [
           {
            "marker": {
             "colorbar": {
              "outlinewidth": 0,
              "ticks": ""
             }
            },
            "type": "scatterpolargl"
           }
          ],
          "scatterternary": [
           {
            "marker": {
             "colorbar": {
              "outlinewidth": 0,
              "ticks": ""
             }
            },
            "type": "scatterternary"
           }
          ],
          "surface": [
           {
            "colorbar": {
             "outlinewidth": 0,
             "ticks": ""
            },
            "colorscale": [
             [
              0,
              "#0d0887"
             ],
             [
              0.1111111111111111,
              "#46039f"
             ],
             [
              0.2222222222222222,
              "#7201a8"
             ],
             [
              0.3333333333333333,
              "#9c179e"
             ],
             [
              0.4444444444444444,
              "#bd3786"
             ],
             [
              0.5555555555555556,
              "#d8576b"
             ],
             [
              0.6666666666666666,
              "#ed7953"
             ],
             [
              0.7777777777777778,
              "#fb9f3a"
             ],
             [
              0.8888888888888888,
              "#fdca26"
             ],
             [
              1,
              "#f0f921"
             ]
            ],
            "type": "surface"
           }
          ],
          "table": [
           {
            "cells": {
             "fill": {
              "color": "#EBF0F8"
             },
             "line": {
              "color": "white"
             }
            },
            "header": {
             "fill": {
              "color": "#C8D4E3"
             },
             "line": {
              "color": "white"
             }
            },
            "type": "table"
           }
          ]
         },
         "layout": {
          "annotationdefaults": {
           "arrowcolor": "#2a3f5f",
           "arrowhead": 0,
           "arrowwidth": 1
          },
          "coloraxis": {
           "colorbar": {
            "outlinewidth": 0,
            "ticks": ""
           }
          },
          "colorscale": {
           "diverging": [
            [
             0,
             "#8e0152"
            ],
            [
             0.1,
             "#c51b7d"
            ],
            [
             0.2,
             "#de77ae"
            ],
            [
             0.3,
             "#f1b6da"
            ],
            [
             0.4,
             "#fde0ef"
            ],
            [
             0.5,
             "#f7f7f7"
            ],
            [
             0.6,
             "#e6f5d0"
            ],
            [
             0.7,
             "#b8e186"
            ],
            [
             0.8,
             "#7fbc41"
            ],
            [
             0.9,
             "#4d9221"
            ],
            [
             1,
             "#276419"
            ]
           ],
           "sequential": [
            [
             0,
             "#0d0887"
            ],
            [
             0.1111111111111111,
             "#46039f"
            ],
            [
             0.2222222222222222,
             "#7201a8"
            ],
            [
             0.3333333333333333,
             "#9c179e"
            ],
            [
             0.4444444444444444,
             "#bd3786"
            ],
            [
             0.5555555555555556,
             "#d8576b"
            ],
            [
             0.6666666666666666,
             "#ed7953"
            ],
            [
             0.7777777777777778,
             "#fb9f3a"
            ],
            [
             0.8888888888888888,
             "#fdca26"
            ],
            [
             1,
             "#f0f921"
            ]
           ],
           "sequentialminus": [
            [
             0,
             "#0d0887"
            ],
            [
             0.1111111111111111,
             "#46039f"
            ],
            [
             0.2222222222222222,
             "#7201a8"
            ],
            [
             0.3333333333333333,
             "#9c179e"
            ],
            [
             0.4444444444444444,
             "#bd3786"
            ],
            [
             0.5555555555555556,
             "#d8576b"
            ],
            [
             0.6666666666666666,
             "#ed7953"
            ],
            [
             0.7777777777777778,
             "#fb9f3a"
            ],
            [
             0.8888888888888888,
             "#fdca26"
            ],
            [
             1,
             "#f0f921"
            ]
           ]
          },
          "colorway": [
           "#636efa",
           "#EF553B",
           "#00cc96",
           "#ab63fa",
           "#FFA15A",
           "#19d3f3",
           "#FF6692",
           "#B6E880",
           "#FF97FF",
           "#FECB52"
          ],
          "font": {
           "color": "#2a3f5f"
          },
          "geo": {
           "bgcolor": "white",
           "lakecolor": "white",
           "landcolor": "#E5ECF6",
           "showlakes": true,
           "showland": true,
           "subunitcolor": "white"
          },
          "hoverlabel": {
           "align": "left"
          },
          "hovermode": "closest",
          "mapbox": {
           "style": "light"
          },
          "paper_bgcolor": "white",
          "plot_bgcolor": "#E5ECF6",
          "polar": {
           "angularaxis": {
            "gridcolor": "white",
            "linecolor": "white",
            "ticks": ""
           },
           "bgcolor": "#E5ECF6",
           "radialaxis": {
            "gridcolor": "white",
            "linecolor": "white",
            "ticks": ""
           }
          },
          "scene": {
           "xaxis": {
            "backgroundcolor": "#E5ECF6",
            "gridcolor": "white",
            "gridwidth": 2,
            "linecolor": "white",
            "showbackground": true,
            "ticks": "",
            "zerolinecolor": "white"
           },
           "yaxis": {
            "backgroundcolor": "#E5ECF6",
            "gridcolor": "white",
            "gridwidth": 2,
            "linecolor": "white",
            "showbackground": true,
            "ticks": "",
            "zerolinecolor": "white"
           },
           "zaxis": {
            "backgroundcolor": "#E5ECF6",
            "gridcolor": "white",
            "gridwidth": 2,
            "linecolor": "white",
            "showbackground": true,
            "ticks": "",
            "zerolinecolor": "white"
           }
          },
          "shapedefaults": {
           "line": {
            "color": "#2a3f5f"
           }
          },
          "ternary": {
           "aaxis": {
            "gridcolor": "white",
            "linecolor": "white",
            "ticks": ""
           },
           "baxis": {
            "gridcolor": "white",
            "linecolor": "white",
            "ticks": ""
           },
           "bgcolor": "#E5ECF6",
           "caxis": {
            "gridcolor": "white",
            "linecolor": "white",
            "ticks": ""
           }
          },
          "title": {
           "x": 0.05
          },
          "xaxis": {
           "automargin": true,
           "gridcolor": "white",
           "linecolor": "white",
           "ticks": "",
           "title": {
            "standoff": 15
           },
           "zerolinecolor": "white",
           "zerolinewidth": 2
          },
          "yaxis": {
           "automargin": true,
           "gridcolor": "white",
           "linecolor": "white",
           "ticks": "",
           "title": {
            "standoff": 15
           },
           "zerolinecolor": "white",
           "zerolinewidth": 2
          }
         }
        },
        "title": {
         "font": {
          "color": "#4D5663"
         },
         "text": "Año de integracion...."
        },
        "xaxis": {
         "gridcolor": "#E1E5ED",
         "showgrid": true,
         "tickfont": {
          "color": "#4D5663"
         },
         "title": {
          "font": {
           "color": "#4D5663"
          },
          "text": "Año"
         },
         "zerolinecolor": "#E1E5ED"
        },
        "yaxis": {
         "gridcolor": "#E1E5ED",
         "showgrid": true,
         "tickfont": {
          "color": "#4D5663"
         },
         "title": {
          "font": {
           "color": "#4D5663"
          },
          "text": "N. Empresas"
         },
         "zerolinecolor": "#E1E5ED"
        }
       }
      },
      "text/html": [
       "<div>\n",
       "        \n",
       "        \n",
       "            <div id=\"fc6164a5-d1cf-43d3-b188-79b581ba8216\" class=\"plotly-graph-div\" style=\"height:525px; width:100%;\"></div>\n",
       "            <script type=\"text/javascript\">\n",
       "                require([\"plotly\"], function(Plotly) {\n",
       "                    window.PLOTLYENV=window.PLOTLYENV || {};\n",
       "                    window.PLOTLYENV.BASE_URL='https://plot.ly';\n",
       "                    \n",
       "                if (document.getElementById(\"fc6164a5-d1cf-43d3-b188-79b581ba8216\")) {\n",
       "                    Plotly.newPlot(\n",
       "                        'fc6164a5-d1cf-43d3-b188-79b581ba8216',\n",
       "                        [{\"marker\": {\"color\": \"rgba(255, 153, 51, 0.6)\", \"line\": {\"color\": \"rgba(255, 153, 51, 1.0)\", \"width\": 1}}, \"name\": \"A\\u00f1o\", \"orientation\": \"v\", \"text\": \"\", \"type\": \"bar\", \"x\": [2010, 2011, 2012, 2014, 2016, 2017, 2019], \"y\": [30, 3, 3, 14, 6, 4, 65]}],\n",
       "                        {\"legend\": {\"bgcolor\": \"#F5F6F9\", \"font\": {\"color\": \"#4D5663\"}}, \"paper_bgcolor\": \"#F5F6F9\", \"plot_bgcolor\": \"#F5F6F9\", \"template\": {\"data\": {\"bar\": [{\"error_x\": {\"color\": \"#2a3f5f\"}, \"error_y\": {\"color\": \"#2a3f5f\"}, \"marker\": {\"line\": {\"color\": \"#E5ECF6\", \"width\": 0.5}}, \"type\": \"bar\"}], \"barpolar\": [{\"marker\": {\"line\": {\"color\": \"#E5ECF6\", \"width\": 0.5}}, \"type\": \"barpolar\"}], \"carpet\": [{\"aaxis\": {\"endlinecolor\": \"#2a3f5f\", \"gridcolor\": \"white\", \"linecolor\": \"white\", \"minorgridcolor\": \"white\", \"startlinecolor\": \"#2a3f5f\"}, \"baxis\": {\"endlinecolor\": \"#2a3f5f\", \"gridcolor\": \"white\", \"linecolor\": \"white\", \"minorgridcolor\": \"white\", \"startlinecolor\": \"#2a3f5f\"}, \"type\": \"carpet\"}], \"choropleth\": [{\"colorbar\": {\"outlinewidth\": 0, \"ticks\": \"\"}, \"type\": \"choropleth\"}], \"contour\": [{\"colorbar\": {\"outlinewidth\": 0, \"ticks\": \"\"}, \"colorscale\": [[0.0, \"#0d0887\"], [0.1111111111111111, \"#46039f\"], [0.2222222222222222, \"#7201a8\"], [0.3333333333333333, \"#9c179e\"], [0.4444444444444444, \"#bd3786\"], [0.5555555555555556, \"#d8576b\"], [0.6666666666666666, \"#ed7953\"], [0.7777777777777778, \"#fb9f3a\"], [0.8888888888888888, \"#fdca26\"], [1.0, \"#f0f921\"]], \"type\": \"contour\"}], \"contourcarpet\": [{\"colorbar\": {\"outlinewidth\": 0, \"ticks\": \"\"}, \"type\": \"contourcarpet\"}], \"heatmap\": [{\"colorbar\": {\"outlinewidth\": 0, \"ticks\": \"\"}, \"colorscale\": [[0.0, \"#0d0887\"], [0.1111111111111111, \"#46039f\"], [0.2222222222222222, \"#7201a8\"], [0.3333333333333333, \"#9c179e\"], [0.4444444444444444, \"#bd3786\"], [0.5555555555555556, \"#d8576b\"], [0.6666666666666666, \"#ed7953\"], [0.7777777777777778, \"#fb9f3a\"], [0.8888888888888888, \"#fdca26\"], [1.0, \"#f0f921\"]], \"type\": \"heatmap\"}], \"heatmapgl\": [{\"colorbar\": {\"outlinewidth\": 0, \"ticks\": \"\"}, \"colorscale\": [[0.0, \"#0d0887\"], [0.1111111111111111, \"#46039f\"], [0.2222222222222222, \"#7201a8\"], [0.3333333333333333, \"#9c179e\"], [0.4444444444444444, \"#bd3786\"], [0.5555555555555556, \"#d8576b\"], [0.6666666666666666, \"#ed7953\"], [0.7777777777777778, \"#fb9f3a\"], [0.8888888888888888, \"#fdca26\"], [1.0, \"#f0f921\"]], \"type\": \"heatmapgl\"}], \"histogram\": [{\"marker\": {\"colorbar\": {\"outlinewidth\": 0, \"ticks\": \"\"}}, \"type\": \"histogram\"}], \"histogram2d\": [{\"colorbar\": {\"outlinewidth\": 0, \"ticks\": \"\"}, \"colorscale\": [[0.0, \"#0d0887\"], [0.1111111111111111, \"#46039f\"], [0.2222222222222222, \"#7201a8\"], [0.3333333333333333, \"#9c179e\"], [0.4444444444444444, \"#bd3786\"], [0.5555555555555556, \"#d8576b\"], [0.6666666666666666, \"#ed7953\"], [0.7777777777777778, \"#fb9f3a\"], [0.8888888888888888, \"#fdca26\"], [1.0, \"#f0f921\"]], \"type\": \"histogram2d\"}], \"histogram2dcontour\": [{\"colorbar\": {\"outlinewidth\": 0, \"ticks\": \"\"}, \"colorscale\": [[0.0, \"#0d0887\"], [0.1111111111111111, \"#46039f\"], [0.2222222222222222, \"#7201a8\"], [0.3333333333333333, \"#9c179e\"], [0.4444444444444444, \"#bd3786\"], [0.5555555555555556, \"#d8576b\"], [0.6666666666666666, \"#ed7953\"], [0.7777777777777778, \"#fb9f3a\"], [0.8888888888888888, \"#fdca26\"], [1.0, \"#f0f921\"]], \"type\": \"histogram2dcontour\"}], \"mesh3d\": [{\"colorbar\": {\"outlinewidth\": 0, \"ticks\": \"\"}, \"type\": \"mesh3d\"}], \"parcoords\": [{\"line\": {\"colorbar\": {\"outlinewidth\": 0, \"ticks\": \"\"}}, \"type\": \"parcoords\"}], \"pie\": [{\"automargin\": true, \"type\": \"pie\"}], \"scatter\": [{\"marker\": {\"colorbar\": {\"outlinewidth\": 0, \"ticks\": \"\"}}, \"type\": \"scatter\"}], \"scatter3d\": [{\"line\": {\"colorbar\": {\"outlinewidth\": 0, \"ticks\": \"\"}}, \"marker\": {\"colorbar\": {\"outlinewidth\": 0, \"ticks\": \"\"}}, \"type\": \"scatter3d\"}], \"scattercarpet\": [{\"marker\": {\"colorbar\": {\"outlinewidth\": 0, \"ticks\": \"\"}}, \"type\": \"scattercarpet\"}], \"scattergeo\": [{\"marker\": {\"colorbar\": {\"outlinewidth\": 0, \"ticks\": \"\"}}, \"type\": \"scattergeo\"}], \"scattergl\": [{\"marker\": {\"colorbar\": {\"outlinewidth\": 0, \"ticks\": \"\"}}, \"type\": \"scattergl\"}], \"scattermapbox\": [{\"marker\": {\"colorbar\": {\"outlinewidth\": 0, \"ticks\": \"\"}}, \"type\": \"scattermapbox\"}], \"scatterpolar\": [{\"marker\": {\"colorbar\": {\"outlinewidth\": 0, \"ticks\": \"\"}}, \"type\": \"scatterpolar\"}], \"scatterpolargl\": [{\"marker\": {\"colorbar\": {\"outlinewidth\": 0, \"ticks\": \"\"}}, \"type\": \"scatterpolargl\"}], \"scatterternary\": [{\"marker\": {\"colorbar\": {\"outlinewidth\": 0, \"ticks\": \"\"}}, \"type\": \"scatterternary\"}], \"surface\": [{\"colorbar\": {\"outlinewidth\": 0, \"ticks\": \"\"}, \"colorscale\": [[0.0, \"#0d0887\"], [0.1111111111111111, \"#46039f\"], [0.2222222222222222, \"#7201a8\"], [0.3333333333333333, \"#9c179e\"], [0.4444444444444444, \"#bd3786\"], [0.5555555555555556, \"#d8576b\"], [0.6666666666666666, \"#ed7953\"], [0.7777777777777778, \"#fb9f3a\"], [0.8888888888888888, \"#fdca26\"], [1.0, \"#f0f921\"]], \"type\": \"surface\"}], \"table\": [{\"cells\": {\"fill\": {\"color\": \"#EBF0F8\"}, \"line\": {\"color\": \"white\"}}, \"header\": {\"fill\": {\"color\": \"#C8D4E3\"}, \"line\": {\"color\": \"white\"}}, \"type\": \"table\"}]}, \"layout\": {\"annotationdefaults\": {\"arrowcolor\": \"#2a3f5f\", \"arrowhead\": 0, \"arrowwidth\": 1}, \"coloraxis\": {\"colorbar\": {\"outlinewidth\": 0, \"ticks\": \"\"}}, \"colorscale\": {\"diverging\": [[0, \"#8e0152\"], [0.1, \"#c51b7d\"], [0.2, \"#de77ae\"], [0.3, \"#f1b6da\"], [0.4, \"#fde0ef\"], [0.5, \"#f7f7f7\"], [0.6, \"#e6f5d0\"], [0.7, \"#b8e186\"], [0.8, \"#7fbc41\"], [0.9, \"#4d9221\"], [1, \"#276419\"]], \"sequential\": [[0.0, \"#0d0887\"], [0.1111111111111111, \"#46039f\"], [0.2222222222222222, \"#7201a8\"], [0.3333333333333333, \"#9c179e\"], [0.4444444444444444, \"#bd3786\"], [0.5555555555555556, \"#d8576b\"], [0.6666666666666666, \"#ed7953\"], [0.7777777777777778, \"#fb9f3a\"], [0.8888888888888888, \"#fdca26\"], [1.0, \"#f0f921\"]], \"sequentialminus\": [[0.0, \"#0d0887\"], [0.1111111111111111, \"#46039f\"], [0.2222222222222222, \"#7201a8\"], [0.3333333333333333, \"#9c179e\"], [0.4444444444444444, \"#bd3786\"], [0.5555555555555556, \"#d8576b\"], [0.6666666666666666, \"#ed7953\"], [0.7777777777777778, \"#fb9f3a\"], [0.8888888888888888, \"#fdca26\"], [1.0, \"#f0f921\"]]}, \"colorway\": [\"#636efa\", \"#EF553B\", \"#00cc96\", \"#ab63fa\", \"#FFA15A\", \"#19d3f3\", \"#FF6692\", \"#B6E880\", \"#FF97FF\", \"#FECB52\"], \"font\": {\"color\": \"#2a3f5f\"}, \"geo\": {\"bgcolor\": \"white\", \"lakecolor\": \"white\", \"landcolor\": \"#E5ECF6\", \"showlakes\": true, \"showland\": true, \"subunitcolor\": \"white\"}, \"hoverlabel\": {\"align\": \"left\"}, \"hovermode\": \"closest\", \"mapbox\": {\"style\": \"light\"}, \"paper_bgcolor\": \"white\", \"plot_bgcolor\": \"#E5ECF6\", \"polar\": {\"angularaxis\": {\"gridcolor\": \"white\", \"linecolor\": \"white\", \"ticks\": \"\"}, \"bgcolor\": \"#E5ECF6\", \"radialaxis\": {\"gridcolor\": \"white\", \"linecolor\": \"white\", \"ticks\": \"\"}}, \"scene\": {\"xaxis\": {\"backgroundcolor\": \"#E5ECF6\", \"gridcolor\": \"white\", \"gridwidth\": 2, \"linecolor\": \"white\", \"showbackground\": true, \"ticks\": \"\", \"zerolinecolor\": \"white\"}, \"yaxis\": {\"backgroundcolor\": \"#E5ECF6\", \"gridcolor\": \"white\", \"gridwidth\": 2, \"linecolor\": \"white\", \"showbackground\": true, \"ticks\": \"\", \"zerolinecolor\": \"white\"}, \"zaxis\": {\"backgroundcolor\": \"#E5ECF6\", \"gridcolor\": \"white\", \"gridwidth\": 2, \"linecolor\": \"white\", \"showbackground\": true, \"ticks\": \"\", \"zerolinecolor\": \"white\"}}, \"shapedefaults\": {\"line\": {\"color\": \"#2a3f5f\"}}, \"ternary\": {\"aaxis\": {\"gridcolor\": \"white\", \"linecolor\": \"white\", \"ticks\": \"\"}, \"baxis\": {\"gridcolor\": \"white\", \"linecolor\": \"white\", \"ticks\": \"\"}, \"bgcolor\": \"#E5ECF6\", \"caxis\": {\"gridcolor\": \"white\", \"linecolor\": \"white\", \"ticks\": \"\"}}, \"title\": {\"x\": 0.05}, \"xaxis\": {\"automargin\": true, \"gridcolor\": \"white\", \"linecolor\": \"white\", \"ticks\": \"\", \"title\": {\"standoff\": 15}, \"zerolinecolor\": \"white\", \"zerolinewidth\": 2}, \"yaxis\": {\"automargin\": true, \"gridcolor\": \"white\", \"linecolor\": \"white\", \"ticks\": \"\", \"title\": {\"standoff\": 15}, \"zerolinecolor\": \"white\", \"zerolinewidth\": 2}}}, \"title\": {\"font\": {\"color\": \"#4D5663\"}, \"text\": \"A\\u00f1o de integracion....\"}, \"xaxis\": {\"gridcolor\": \"#E1E5ED\", \"showgrid\": true, \"tickfont\": {\"color\": \"#4D5663\"}, \"title\": {\"font\": {\"color\": \"#4D5663\"}, \"text\": \"A\\u00f1o\"}, \"zerolinecolor\": \"#E1E5ED\"}, \"yaxis\": {\"gridcolor\": \"#E1E5ED\", \"showgrid\": true, \"tickfont\": {\"color\": \"#4D5663\"}, \"title\": {\"font\": {\"color\": \"#4D5663\"}, \"text\": \"N. Empresas\"}, \"zerolinecolor\": \"#E1E5ED\"}},\n",
       "                        {\"showLink\": true, \"linkText\": \"Export to plot.ly\", \"plotlyServerURL\": \"https://plot.ly\", \"responsive\": true}\n",
       "                    ).then(function(){\n",
       "                            \n",
       "var gd = document.getElementById('fc6164a5-d1cf-43d3-b188-79b581ba8216');\n",
       "var x = new MutationObserver(function (mutations, observer) {{\n",
       "        var display = window.getComputedStyle(gd).display;\n",
       "        if (!display || display === 'none') {{\n",
       "            console.log([gd, 'removed!']);\n",
       "            Plotly.purge(gd);\n",
       "            observer.disconnect();\n",
       "        }}\n",
       "}});\n",
       "\n",
       "// Listen for the removal of the full notebook cells\n",
       "var notebookContainer = gd.closest('#notebook-container');\n",
       "if (notebookContainer) {{\n",
       "    x.observe(notebookContainer, {childList: true});\n",
       "}}\n",
       "\n",
       "// Listen for the clearing of the current output cell\n",
       "var outputEl = gd.closest('.output');\n",
       "if (outputEl) {{\n",
       "    x.observe(outputEl, {childList: true});\n",
       "}}\n",
       "\n",
       "                        })\n",
       "                };\n",
       "                });\n",
       "            </script>\n",
       "        </div>"
      ]
     },
     "metadata": {},
     "output_type": "display_data"
    },
    {
     "data": {
      "image/png": "[encoded data removed]",
      "text/plain": [
       "<Figure size 432x288 with 1 Axes>"
      ]
     },
     "metadata": {},
     "output_type": "display_data"
    },
    {
     "data": {
      "image/png": "[encoded data removed]",
      "text/plain": [
       "<Figure size 432x288 with 1 Axes>"
      ]
     },
     "metadata": {},
     "output_type": "display_data"
    }
   ],
   "source": [
    "gm.iplot(x='index', y='Mes',kind='bar', xTitle='Mes',yTitle='N. Empresas', title='Mes de integración')\n",
    "gk.iplot(x='index', y='Año',kind='bar', xTitle='Año',yTitle='N. Empresas', title='Año de integracion....')\n",
    "ax = sns.barplot(x = 'index', y = 'Mes', data = gm, color = 'b')\n",
    "ax.set(xlabel='Mes de integración', ylabel='Numero de empresas')\n",
    "ax.figure.savefig('../images/Mes {}.png'.format(giro))\n",
    "plt.show()\n",
    "a2 = sns.barplot(x = 'index', y = 'Año', data = gk, color = 'g')\n",
    "a2.set(xlabel='Año de integración', ylabel='Numero de empresas')\n",
    "a2.figure.savefig('../images/Año {}.png'.format(giro))\n",
    "plt.show()\n",
    "\n"
   ]
  },
  {
   "cell_type": "code",
   "execution_count": null,
   "metadata": {},
   "outputs": [],
   "source": [
    "mask=(gk[\"index\"] > 2011) & (gk[\"index\"] < 2019)\n",
    "gk.loc[mask]\n"
   ]
  },
  {
   "cell_type": "code",
   "execution_count": null,
   "metadata": {},
   "outputs": [],
   "source": [
    "#Indice nacional de precios al consumidor"
   ]
  },
  {
   "cell_type": "code",
   "execution_count": 14,
   "metadata": {},
   "outputs": [
    {
     "data": {
      "text/html": [
       "<div>\n",
       "<style scoped>\n",
       "    .dataframe tbody tr th:only-of-type {\n",
       "        vertical-align: middle;\n",
       "    }\n",
       "\n",
       "    .dataframe tbody tr th {\n",
       "        vertical-align: top;\n",
       "    }\n",
       "\n",
       "    .dataframe thead th {\n",
       "        text-align: right;\n",
       "    }\n",
       "</style>\n",
       "<table border=\"1\" class=\"dataframe\">\n",
       "  <thead>\n",
       "    <tr style=\"text-align: right;\">\n",
       "      <th></th>\n",
       "      <th>Unnamed: 0</th>\n",
       "      <th>AGEB</th>\n",
       "      <th>MZA</th>\n",
       "      <th>POBTOT</th>\n",
       "      <th>POBMAS</th>\n",
       "      <th>POBFEM</th>\n",
       "      <th>PEA</th>\n",
       "      <th>PEA_M</th>\n",
       "      <th>PEA_F</th>\n",
       "      <th>PE_INAC</th>\n",
       "      <th>PE_INAC_M</th>\n",
       "      <th>PE_INAC_F</th>\n",
       "      <th>clave</th>\n",
       "    </tr>\n",
       "  </thead>\n",
       "  <tbody>\n",
       "    <tr>\n",
       "      <th>0</th>\n",
       "      <td>0</td>\n",
       "      <td>0000</td>\n",
       "      <td>0</td>\n",
       "      <td>8851080</td>\n",
       "      <td>4233783</td>\n",
       "      <td>4617297</td>\n",
       "      <td>4035075</td>\n",
       "      <td>2389679</td>\n",
       "      <td>1645396</td>\n",
       "      <td>3017165</td>\n",
       "      <td>920594</td>\n",
       "      <td>2096571</td>\n",
       "      <td>0000-0</td>\n",
       "    </tr>\n",
       "    <tr>\n",
       "      <th>1</th>\n",
       "      <td>1</td>\n",
       "      <td>0000</td>\n",
       "      <td>0</td>\n",
       "      <td>414711</td>\n",
       "      <td>196053</td>\n",
       "      <td>218658</td>\n",
       "      <td>187402</td>\n",
       "      <td>108940</td>\n",
       "      <td>78462</td>\n",
       "      <td>151520</td>\n",
       "      <td>48844</td>\n",
       "      <td>102676</td>\n",
       "      <td>0000-0</td>\n",
       "    </tr>\n",
       "    <tr>\n",
       "      <th>2</th>\n",
       "      <td>2</td>\n",
       "      <td>0000</td>\n",
       "      <td>0</td>\n",
       "      <td>414711</td>\n",
       "      <td>196053</td>\n",
       "      <td>218658</td>\n",
       "      <td>187402</td>\n",
       "      <td>108940</td>\n",
       "      <td>78462</td>\n",
       "      <td>151520</td>\n",
       "      <td>48844</td>\n",
       "      <td>102676</td>\n",
       "      <td>0000-0</td>\n",
       "    </tr>\n",
       "    <tr>\n",
       "      <th>3</th>\n",
       "      <td>3</td>\n",
       "      <td>0010</td>\n",
       "      <td>0</td>\n",
       "      <td>3424</td>\n",
       "      <td>1600</td>\n",
       "      <td>1824</td>\n",
       "      <td>1398</td>\n",
       "      <td>789</td>\n",
       "      <td>609</td>\n",
       "      <td>1511</td>\n",
       "      <td>552</td>\n",
       "      <td>959</td>\n",
       "      <td>0010-0</td>\n",
       "    </tr>\n",
       "    <tr>\n",
       "      <th>4</th>\n",
       "      <td>4</td>\n",
       "      <td>0010</td>\n",
       "      <td>1</td>\n",
       "      <td>202</td>\n",
       "      <td>96</td>\n",
       "      <td>106</td>\n",
       "      <td>75</td>\n",
       "      <td>47</td>\n",
       "      <td>28</td>\n",
       "      <td>97</td>\n",
       "      <td>37</td>\n",
       "      <td>60</td>\n",
       "      <td>0010-1</td>\n",
       "    </tr>\n",
       "  </tbody>\n",
       "</table>\n",
       "</div>"
      ],
      "text/plain": [
       "   Unnamed: 0  AGEB  MZA   POBTOT   POBMAS   POBFEM      PEA    PEA_M  \\\n",
       "0           0  0000    0  8851080  4233783  4617297  4035075  2389679   \n",
       "1           1  0000    0   414711   196053   218658   187402   108940   \n",
       "2           2  0000    0   414711   196053   218658   187402   108940   \n",
       "3           3  0010    0     3424     1600     1824     1398      789   \n",
       "4           4  0010    1      202       96      106       75       47   \n",
       "\n",
       "     PEA_F  PE_INAC PE_INAC_M PE_INAC_F   clave  \n",
       "0  1645396  3017165    920594   2096571  0000-0  \n",
       "1    78462   151520     48844    102676  0000-0  \n",
       "2    78462   151520     48844    102676  0000-0  \n",
       "3      609     1511       552       959  0010-0  \n",
       "4       28       97        37        60  0010-1  "
      ]
     },
     "execution_count": 14,
     "metadata": {},
     "output_type": "execute_result"
    }
   ],
   "source": [
    "poblaT = pd.read_csv('../pobclave.csv')\n",
    "poblaT.head()"
   ]
  },
  {
   "cell_type": "code",
   "execution_count": null,
   "metadata": {},
   "outputs": [],
   "source": [
    "d.info()\n",
    "d.head()"
   ]
  },
  {
   "cell_type": "code",
   "execution_count": 34,
   "metadata": {
    "scrolled": true
   },
   "outputs": [
    {
     "name": "stdout",
     "output_type": "stream",
     "text": [
      "86\n",
      "9794\n",
      "4839\n",
      "4951\n",
      "5695\n",
      "3177\n",
      "2513\n"
     ]
    }
   ],
   "source": [
    "p=d.clave\n",
    "len(p)\n",
    "dx=poblaT[poblaT[\"clave\"].isin(p)]\n",
    "print(len(dx))\n",
    "\n",
    "dx[\"POBMAS\"]=dx.POBMAS.str.replace('*' , '0').astype(int)\n",
    "dx[\"POBFEM\"]=dx.POBFEM.str.replace('*' , '0').astype(int)\n",
    "dx[\"PEA\"]=dx.PEA.str.replace('*' , '0').astype(int)\n",
    "dx[\"PEA_M\"]=dx.PEA_M.str.replace('*' , '0').astype(int)\n",
    "dx[\"PEA_F\"]=dx.PEA_F.str.replace('*' , '0').astype(int)\n",
    "print(dx.POBTOT.sum())\n",
    "print(dx.POBMAS.sum())\n",
    "print(dx.POBFEM.sum())\n",
    "print(dx.PEA.sum())\n",
    "print(dx.PEA_M.sum())\n",
    "print(dx.PEA_F.sum())"
   ]
  },
  {
   "cell_type": "code",
   "execution_count": 197,
   "metadata": {},
   "outputs": [
    {
     "data": {
      "text/plain": [
       "''"
      ]
     },
     "execution_count": 197,
     "metadata": {},
     "output_type": "execute_result"
    }
   ],
   "source": [
    "from fpdf import FPDF\n",
    " \n",
    "pdf = FPDF()\n",
    "pdf.add_page()\n",
    "pdf.set_font(\"Arial\", size=12)\n",
    "pdf.cell(200, 10, txt=\"Analisis de Supervivencia de Pymes en CDMX\", ln=4, align=\"C\")\n",
    "pdf.cell(90, 10, \" \", 0, 2, 'C')   \n",
    "pdf.cell(100, 10, txt=\"La palabra de búsqueda es: --{}--, con longitud {} y latitud {} \".format(giro,long,lat), ln=1)\n",
    "pdf.cell(100, 10, txt=\"Esta búsqueda extrae toda la competencia tanto indirecta como directa en un rango de {} mts.\".format(mts), ln=1)\n",
    "pdf.cell(100, 15, txt=\"En total son {} empresas, con {} clases de actividades diferentes, de las cuales destacan\".format(len(data),len(data.Clase_actividad.unique())), ln=1)\n",
    "pdf.multi_cell(0,10,\"1. {} : {} \\n2. {} : {} \\n3. {} : {} \\n4. {} : {} \\n5. {} : {}\".format(sss.index[0],sss[0],sss.index[1],sss[1],sss.index[2],sss[2],sss.index[3],sss[3],sss.index[4],sss[4]) ,1,10)\n",
    "pdf.cell(90, 6, \" \", 0, 2, 'C')\n",
    "pdf.set_font(\"Arial\", size=10)\n",
    "pdf.multi_cell(0,10,\"TABLAS DE INCORPORACIóN A DENUE *INEGI*)\\n *Por el momento solo contamos con info de Denue, el cual no muestra la fecha de fundación de las empresas esta se utilizaria para ver la demanda del \\\n",
    "servicio/producto asi como hacer modelos que predigan la creación de nuevas empresas en el sector\",0,3)\n",
    "pdf.image('../images/Año {}.png'.format(giro), x=8, y=160, w=105, h=70)\n",
    "pdf.image('../images/Mes {}.png'.format(giro), x=110, y=160, w=105, h=70)\n",
    "pdf.output(\"simple_demo.pdf\",'F')"
   ]
  },
  {
   "cell_type": "code",
   "execution_count": null,
   "metadata": {},
   "outputs": [],
   "source": [
    "def simple_table(spacing=2):\n",
    "    data = [['{}'.format(sss.index[0]), '{}'.format(sss[0])],\n",
    "            ['{}'.format(sss.index[1]), '{}'.format(sss[1])],\n",
    "            ['{}'.format(sss.index[2]), '{}'.format(sss[2])],\n",
    "            ['{}'.format(sss.index[3]), '{}'.format(sss[3])],\n",
    "            ['{}'.format(sss.index[4]), '{}'.format(sss[4])]\n",
    "            ]\n",
    "    col_width = pdf.w / 2.5\n",
    "    row_height = pdf.font_size\n",
    "    for row in data:\n",
    "            for item in row:\n",
    "                pdf.cell(col_width, row_height*spacing,txt=item, border=1)\n",
    "            pdf.ln(row_height*spacing)\n",
    "if __name__ == '__main__':\n",
    "    simple_table()"
   ]
  }
 ],
 "metadata": {
  "kernelspec": {
   "display_name": "Python 3",
   "language": "python",
   "name": "python3"
  },
  "language_info": {
   "codemirror_mode": {
    "name": "ipython",
    "version": 3
   },
   "file_extension": ".py",
   "mimetype": "text/x-python",
   "name": "python",
   "nbconvert_exporter": "python",
   "pygments_lexer": "ipython3",
   "version": "3.7.3"
  }
 },
 "nbformat": 4,
 "nbformat_minor": 2
}
