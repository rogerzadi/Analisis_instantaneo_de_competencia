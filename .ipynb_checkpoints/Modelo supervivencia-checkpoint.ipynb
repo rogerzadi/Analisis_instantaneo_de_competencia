{
 "cells": [
  {
   "cell_type": "code",
   "execution_count": 1,
   "metadata": {},
   "outputs": [],
   "source": [
    "import json\n",
    "import requests\n",
    "import pandas as pd\n",
    "import folium "
   ]
  },
  {
   "cell_type": "code",
   "execution_count": 77,
   "metadata": {},
   "outputs": [],
   "source": [
    "giro=\"sushi\"\n",
    "long=19.421336 \n",
    "lat=-99.162700\n",
    "mts=1000"
   ]
  },
  {
   "cell_type": "code",
   "execution_count": 78,
   "metadata": {},
   "outputs": [
    {
     "name": "stdout",
     "output_type": "stream",
     "text": [
      "15\n"
     ]
    },
    {
     "data": {
      "text/html": [
       "<div>\n",
       "<style scoped>\n",
       "    .dataframe tbody tr th:only-of-type {\n",
       "        vertical-align: middle;\n",
       "    }\n",
       "\n",
       "    .dataframe tbody tr th {\n",
       "        vertical-align: top;\n",
       "    }\n",
       "\n",
       "    .dataframe thead th {\n",
       "        text-align: right;\n",
       "    }\n",
       "</style>\n",
       "<table border=\"1\" class=\"dataframe\">\n",
       "  <thead>\n",
       "    <tr style=\"text-align: right;\">\n",
       "      <th></th>\n",
       "      <th>CP</th>\n",
       "      <th>Calle</th>\n",
       "      <th>CentroComercial</th>\n",
       "      <th>Clase_actividad</th>\n",
       "      <th>Colonia</th>\n",
       "      <th>Correo_e</th>\n",
       "      <th>Estrato</th>\n",
       "      <th>Id</th>\n",
       "      <th>Latitud</th>\n",
       "      <th>Longitud</th>\n",
       "      <th>...</th>\n",
       "      <th>NumLocal</th>\n",
       "      <th>Num_Exterior</th>\n",
       "      <th>Num_Interior</th>\n",
       "      <th>Razon_social</th>\n",
       "      <th>Sitio_internet</th>\n",
       "      <th>Telefono</th>\n",
       "      <th>Tipo</th>\n",
       "      <th>TipoCentroComercial</th>\n",
       "      <th>Tipo_vialidad</th>\n",
       "      <th>Ubicacion</th>\n",
       "    </tr>\n",
       "  </thead>\n",
       "  <tbody>\n",
       "    <tr>\n",
       "      <th>0</th>\n",
       "      <td>06700</td>\n",
       "      <td>PUEBLA</td>\n",
       "      <td></td>\n",
       "      <td>Restaurantes de autoservicio</td>\n",
       "      <td>ROMA NORTE</td>\n",
       "      <td></td>\n",
       "      <td>0 a 5 personas</td>\n",
       "      <td>9006764</td>\n",
       "      <td>19.42209434</td>\n",
       "      <td>-99.16525136</td>\n",
       "      <td>...</td>\n",
       "      <td></td>\n",
       "      <td></td>\n",
       "      <td></td>\n",
       "      <td></td>\n",
       "      <td></td>\n",
       "      <td>5566748169</td>\n",
       "      <td>Semifijo</td>\n",
       "      <td></td>\n",
       "      <td>CALLE</td>\n",
       "      <td>CUAUHTÉMOC, Cuauhtémoc, CIUDAD DE MÉXICO</td>\n",
       "    </tr>\n",
       "    <tr>\n",
       "      <th>1</th>\n",
       "      <td>06700</td>\n",
       "      <td>ORIZABA</td>\n",
       "      <td></td>\n",
       "      <td>Restaurantes de autoservicio</td>\n",
       "      <td>ROMA NORTE</td>\n",
       "      <td></td>\n",
       "      <td>0 a 5 personas</td>\n",
       "      <td>7732286</td>\n",
       "      <td>19.42001745</td>\n",
       "      <td>-99.16027657</td>\n",
       "      <td>...</td>\n",
       "      <td></td>\n",
       "      <td></td>\n",
       "      <td></td>\n",
       "      <td></td>\n",
       "      <td></td>\n",
       "      <td></td>\n",
       "      <td>Semifijo</td>\n",
       "      <td></td>\n",
       "      <td>CALLE</td>\n",
       "      <td>CUAUHTÉMOC, Cuauhtémoc, CIUDAD DE MÉXICO</td>\n",
       "    </tr>\n",
       "    <tr>\n",
       "      <th>2</th>\n",
       "      <td>06700</td>\n",
       "      <td>COLIMA</td>\n",
       "      <td></td>\n",
       "      <td>Restaurantes con servicio de preparación de al...</td>\n",
       "      <td>ROMA NORTE</td>\n",
       "      <td></td>\n",
       "      <td>0 a 5 personas</td>\n",
       "      <td>1029398</td>\n",
       "      <td>19.41884182</td>\n",
       "      <td>-99.16483123</td>\n",
       "      <td>...</td>\n",
       "      <td></td>\n",
       "      <td>279</td>\n",
       "      <td>0</td>\n",
       "      <td></td>\n",
       "      <td></td>\n",
       "      <td></td>\n",
       "      <td>Semifijo</td>\n",
       "      <td></td>\n",
       "      <td>CALLE</td>\n",
       "      <td>CUAUHTÉMOC, Cuauhtémoc, CIUDAD DE MÉXICO</td>\n",
       "    </tr>\n",
       "    <tr>\n",
       "      <th>3</th>\n",
       "      <td>06600</td>\n",
       "      <td>LONDRES</td>\n",
       "      <td></td>\n",
       "      <td>Restaurantes de autoservicio</td>\n",
       "      <td>JUAREZ</td>\n",
       "      <td></td>\n",
       "      <td>0 a 5 personas</td>\n",
       "      <td>7732617</td>\n",
       "      <td>19.42457984</td>\n",
       "      <td>-99.16561529</td>\n",
       "      <td>...</td>\n",
       "      <td></td>\n",
       "      <td>154</td>\n",
       "      <td></td>\n",
       "      <td></td>\n",
       "      <td></td>\n",
       "      <td></td>\n",
       "      <td>Fijo</td>\n",
       "      <td></td>\n",
       "      <td>CALLE</td>\n",
       "      <td>CUAUHTÉMOC, Cuauhtémoc, CIUDAD DE MÉXICO</td>\n",
       "    </tr>\n",
       "    <tr>\n",
       "      <th>4</th>\n",
       "      <td>06600</td>\n",
       "      <td>LONDRES</td>\n",
       "      <td></td>\n",
       "      <td>Restaurantes con servicio de preparación de al...</td>\n",
       "      <td>JUAREZ</td>\n",
       "      <td>ZONAROSA@SUSHIROLL.MX</td>\n",
       "      <td>31 a 50 personas</td>\n",
       "      <td>1028806</td>\n",
       "      <td>19.42529341</td>\n",
       "      <td>-99.16439056</td>\n",
       "      <td>...</td>\n",
       "      <td></td>\n",
       "      <td>127</td>\n",
       "      <td></td>\n",
       "      <td>BUFFET PRIME SA DE CV</td>\n",
       "      <td>WWW.SUSHIROLL.MX</td>\n",
       "      <td>5555112323</td>\n",
       "      <td>Fijo</td>\n",
       "      <td></td>\n",
       "      <td>CALLE</td>\n",
       "      <td>CUAUHTÉMOC, Cuauhtémoc, CIUDAD DE MÉXICO</td>\n",
       "    </tr>\n",
       "  </tbody>\n",
       "</table>\n",
       "<p>5 rows × 21 columns</p>\n",
       "</div>"
      ],
      "text/plain": [
       "      CP    Calle CentroComercial  \\\n",
       "0  06700   PUEBLA                   \n",
       "1  06700  ORIZABA                   \n",
       "2  06700   COLIMA                   \n",
       "3  06600  LONDRES                   \n",
       "4  06600  LONDRES                   \n",
       "\n",
       "                                     Clase_actividad     Colonia  \\\n",
       "0                       Restaurantes de autoservicio  ROMA NORTE   \n",
       "1                       Restaurantes de autoservicio  ROMA NORTE   \n",
       "2  Restaurantes con servicio de preparación de al...  ROMA NORTE   \n",
       "3                       Restaurantes de autoservicio      JUAREZ   \n",
       "4  Restaurantes con servicio de preparación de al...      JUAREZ   \n",
       "\n",
       "                Correo_e           Estrato       Id      Latitud  \\\n",
       "0                           0 a 5 personas  9006764  19.42209434   \n",
       "1                           0 a 5 personas  7732286  19.42001745   \n",
       "2                           0 a 5 personas  1029398  19.41884182   \n",
       "3                           0 a 5 personas  7732617  19.42457984   \n",
       "4  ZONAROSA@SUSHIROLL.MX  31 a 50 personas  1028806  19.42529341   \n",
       "\n",
       "       Longitud  ... NumLocal Num_Exterior Num_Interior  \\\n",
       "0  -99.16525136  ...                                      \n",
       "1  -99.16027657  ...                                      \n",
       "2  -99.16483123  ...                   279            0   \n",
       "3  -99.16561529  ...                   154                \n",
       "4  -99.16439056  ...                   127                \n",
       "\n",
       "            Razon_social    Sitio_internet    Telefono      Tipo  \\\n",
       "0                                           5566748169  Semifijo   \n",
       "1                                                       Semifijo   \n",
       "2                                                       Semifijo   \n",
       "3                                                           Fijo   \n",
       "4  BUFFET PRIME SA DE CV  WWW.SUSHIROLL.MX  5555112323      Fijo   \n",
       "\n",
       "  TipoCentroComercial Tipo_vialidad                                 Ubicacion  \n",
       "0                             CALLE  CUAUHTÉMOC, Cuauhtémoc, CIUDAD DE MÉXICO  \n",
       "1                             CALLE  CUAUHTÉMOC, Cuauhtémoc, CIUDAD DE MÉXICO  \n",
       "2                             CALLE  CUAUHTÉMOC, Cuauhtémoc, CIUDAD DE MÉXICO  \n",
       "3                             CALLE  CUAUHTÉMOC, Cuauhtémoc, CIUDAD DE MÉXICO  \n",
       "4                             CALLE  CUAUHTÉMOC, Cuauhtémoc, CIUDAD DE MÉXICO  \n",
       "\n",
       "[5 rows x 21 columns]"
      ]
     },
     "execution_count": 78,
     "metadata": {},
     "output_type": "execute_result"
    }
   ],
   "source": [
    "response = requests.get(\"https://www.inegi.org.mx/app/api/denue/v1/consulta/Buscar/{}/{},{}/{}/44522d01-cae7-455b-9b53-7fc7d481cecb\".format(giro,long,lat,mts))\n",
    "results = response.json()\n",
    "\n",
    "data = pd.DataFrame(response.json())\n",
    "print(len(data))\n",
    "data.head()\n"
   ]
  },
  {
   "cell_type": "code",
   "execution_count": 110,
   "metadata": {},
   "outputs": [
    {
     "name": "stdout",
     "output_type": "stream",
     "text": [
      "WWW.SUSHIROLL.MX\n",
      "Fijo        12\n",
      "Semifijo     3\n",
      "Name: Tipo, dtype: int64\n"
     ]
    },
    {
     "data": {
      "text/plain": [
       "CALLE      11\n",
       "AVENIDA     4\n",
       "Name: Tipo_vialidad, dtype: int64"
      ]
     },
     "execution_count": 110,
     "metadata": {},
     "output_type": "execute_result"
    }
   ],
   "source": [
    "www=data.Estrato.value_counts()\n",
    "sss=data.Clase_actividad.value_counts()\n",
    "\n",
    "web=data[data['Sitio_internet'].apply(lambda x: len(x)) > 0]\n",
    "\n",
    "nombre=list(web[\"Nombre\"])\n",
    "sitio=list(web[\"Sitio_internet\"])\n",
    "print(sitio[0])\n",
    "nombre[0]\n",
    "print(data.Tipo.value_counts())\n",
    "data.Tipo_vialidad.value_counts()"
   ]
  },
  {
   "cell_type": "code",
   "execution_count": 80,
   "metadata": {},
   "outputs": [
    {
     "name": "stdout",
     "output_type": "stream",
     "text": [
      "<class 'pandas.core.frame.DataFrame'>\n",
      "RangeIndex: 466301 entries, 0 to 466300\n",
      "Data columns (total 16 columns):\n",
      "Unnamed: 0    466301 non-null int64\n",
      "id            466301 non-null int64\n",
      "nom_estab     466301 non-null object\n",
      "codigo_act    466301 non-null int64\n",
      "nombre_act    466301 non-null object\n",
      "tipoCenCom    88178 non-null object\n",
      "per_ocu       466301 non-null object\n",
      "tipoUniEco    466301 non-null object\n",
      "ageb          466285 non-null object\n",
      "manzana       466285 non-null float64\n",
      "latitud       466301 non-null float64\n",
      "longitud      466301 non-null float64\n",
      "fecha_alta    466301 non-null object\n",
      "www           37279 non-null object\n",
      "Año           466301 non-null int64\n",
      "Mes           466301 non-null int64\n",
      "dtypes: float64(3), int64(5), object(8)\n",
      "memory usage: 56.9+ MB\n"
     ]
    }
   ],
   "source": [
    "info = pd.read_csv('../info.csv')\n",
    "info.info()"
   ]
  },
  {
   "cell_type": "code",
   "execution_count": 81,
   "metadata": {},
   "outputs": [],
   "source": [
    "\n",
    "\n",
    "#for e in info.select_dtypes('object').columns:\n",
    " #   info[e]=info[e].astype('category')\n",
    "for e in info.select_dtypes('integer').columns:\n",
    "    info[e]=pd.to_numeric(info[e], downcast='integer')\n",
    "for e in info.select_dtypes('float').columns:\n",
    "    info[e]=pd.to_numeric(info[e], downcast='float')  \n",
    "    \n",
    "info[\"fecha_alta\"]=pd.to_datetime(info.fecha_alta)\n",
    "\n",
    "\n"
   ]
  },
  {
   "cell_type": "code",
   "execution_count": 82,
   "metadata": {},
   "outputs": [
    {
     "name": "stdout",
     "output_type": "stream",
     "text": [
      "<class 'pandas.core.frame.DataFrame'>\n",
      "RangeIndex: 15 entries, 0 to 14\n",
      "Data columns (total 16 columns):\n",
      "Unnamed: 0    15 non-null int32\n",
      "id            15 non-null int32\n",
      "nom_estab     15 non-null object\n",
      "codigo_act    15 non-null int32\n",
      "nombre_act    15 non-null object\n",
      "tipoCenCom    3 non-null object\n",
      "per_ocu       15 non-null object\n",
      "tipoUniEco    15 non-null object\n",
      "ageb          15 non-null object\n",
      "manzana       15 non-null float32\n",
      "latitud       15 non-null float32\n",
      "longitud      15 non-null float32\n",
      "fecha_alta    15 non-null datetime64[ns]\n",
      "www           6 non-null object\n",
      "Año           15 non-null int16\n",
      "Mes           15 non-null int8\n",
      "dtypes: datetime64[ns](1), float32(3), int16(1), int32(3), int8(1), object(7)\n",
      "memory usage: 1.4+ KB\n"
     ]
    },
    {
     "data": {
      "text/html": [
       "<div>\n",
       "<style scoped>\n",
       "    .dataframe tbody tr th:only-of-type {\n",
       "        vertical-align: middle;\n",
       "    }\n",
       "\n",
       "    .dataframe tbody tr th {\n",
       "        vertical-align: top;\n",
       "    }\n",
       "\n",
       "    .dataframe thead th {\n",
       "        text-align: right;\n",
       "    }\n",
       "</style>\n",
       "<table border=\"1\" class=\"dataframe\">\n",
       "  <thead>\n",
       "    <tr style=\"text-align: right;\">\n",
       "      <th></th>\n",
       "      <th>Unnamed: 0</th>\n",
       "      <th>id</th>\n",
       "      <th>nom_estab</th>\n",
       "      <th>codigo_act</th>\n",
       "      <th>nombre_act</th>\n",
       "      <th>tipoCenCom</th>\n",
       "      <th>per_ocu</th>\n",
       "      <th>tipoUniEco</th>\n",
       "      <th>ageb</th>\n",
       "      <th>manzana</th>\n",
       "      <th>latitud</th>\n",
       "      <th>longitud</th>\n",
       "      <th>fecha_alta</th>\n",
       "      <th>www</th>\n",
       "      <th>Año</th>\n",
       "      <th>Mes</th>\n",
       "      <th>clave</th>\n",
       "    </tr>\n",
       "  </thead>\n",
       "  <tbody>\n",
       "    <tr>\n",
       "      <th>0</th>\n",
       "      <td>336502</td>\n",
       "      <td>1029730</td>\n",
       "      <td>ALTA COCINA JAPONESA KABUKI SUSHI</td>\n",
       "      <td>722511</td>\n",
       "      <td>Restaurantes con servicio de preparación de al...</td>\n",
       "      <td>NaN</td>\n",
       "      <td>6 a 10 personas</td>\n",
       "      <td>Fijo</td>\n",
       "      <td>1017</td>\n",
       "      <td>22</td>\n",
       "      <td>19.420176</td>\n",
       "      <td>-99.158287</td>\n",
       "      <td>2010-07-01</td>\n",
       "      <td>WWW.KABUKI.MX</td>\n",
       "      <td>2010</td>\n",
       "      <td>7</td>\n",
       "      <td>1017-22</td>\n",
       "    </tr>\n",
       "    <tr>\n",
       "      <th>1</th>\n",
       "      <td>342434</td>\n",
       "      <td>6715833</td>\n",
       "      <td>BURRITOS DE SUSHI</td>\n",
       "      <td>722511</td>\n",
       "      <td>Restaurantes con servicio de preparación de al...</td>\n",
       "      <td>CENTRO Y PLAZA COMERCIAL</td>\n",
       "      <td>0 a 5 personas</td>\n",
       "      <td>Fijo</td>\n",
       "      <td>1214</td>\n",
       "      <td>15</td>\n",
       "      <td>19.414042</td>\n",
       "      <td>-99.164528</td>\n",
       "      <td>2016-01-01</td>\n",
       "      <td>WWW.UMAMIBURRITO.COM.MX</td>\n",
       "      <td>2016</td>\n",
       "      <td>1</td>\n",
       "      <td>1214-15</td>\n",
       "    </tr>\n",
       "    <tr>\n",
       "      <th>2</th>\n",
       "      <td>372780</td>\n",
       "      <td>8326657</td>\n",
       "      <td>MO - JI SUSHI</td>\n",
       "      <td>722516</td>\n",
       "      <td>Restaurantes de autoservicio</td>\n",
       "      <td>NaN</td>\n",
       "      <td>0 a 5 personas</td>\n",
       "      <td>Fijo</td>\n",
       "      <td>1110</td>\n",
       "      <td>2</td>\n",
       "      <td>19.416327</td>\n",
       "      <td>-99.156616</td>\n",
       "      <td>2019-11-01</td>\n",
       "      <td>WWW.MOJISUSHI.COM</td>\n",
       "      <td>2019</td>\n",
       "      <td>11</td>\n",
       "      <td>1110-2</td>\n",
       "    </tr>\n",
       "    <tr>\n",
       "      <th>3</th>\n",
       "      <td>372956</td>\n",
       "      <td>1040457</td>\n",
       "      <td>MR. SUSHI REFORMA 222</td>\n",
       "      <td>722518</td>\n",
       "      <td>Restaurantes que preparan otro tipo de aliment...</td>\n",
       "      <td>EDIFICIO COMERCIAL Y DE SERVICIOS</td>\n",
       "      <td>11 a 30 personas</td>\n",
       "      <td>Fijo</td>\n",
       "      <td>0803</td>\n",
       "      <td>8</td>\n",
       "      <td>19.429096</td>\n",
       "      <td>-99.162094</td>\n",
       "      <td>2011-03-01</td>\n",
       "      <td>NaN</td>\n",
       "      <td>2011</td>\n",
       "      <td>3</td>\n",
       "      <td>0803-8</td>\n",
       "    </tr>\n",
       "    <tr>\n",
       "      <th>4</th>\n",
       "      <td>377356</td>\n",
       "      <td>9006764</td>\n",
       "      <td>PUESTO DE SUSHI KONG</td>\n",
       "      <td>722516</td>\n",
       "      <td>Restaurantes de autoservicio</td>\n",
       "      <td>NaN</td>\n",
       "      <td>0 a 5 personas</td>\n",
       "      <td>Semifijo</td>\n",
       "      <td>0998</td>\n",
       "      <td>11</td>\n",
       "      <td>19.422094</td>\n",
       "      <td>-99.165253</td>\n",
       "      <td>2019-11-01</td>\n",
       "      <td>NaN</td>\n",
       "      <td>2019</td>\n",
       "      <td>11</td>\n",
       "      <td>0998-11</td>\n",
       "    </tr>\n",
       "  </tbody>\n",
       "</table>\n",
       "</div>"
      ],
      "text/plain": [
       "   Unnamed: 0       id                          nom_estab  codigo_act  \\\n",
       "0      336502  1029730  ALTA COCINA JAPONESA KABUKI SUSHI      722511   \n",
       "1      342434  6715833                  BURRITOS DE SUSHI      722511   \n",
       "2      372780  8326657                      MO - JI SUSHI      722516   \n",
       "3      372956  1040457              MR. SUSHI REFORMA 222      722518   \n",
       "4      377356  9006764               PUESTO DE SUSHI KONG      722516   \n",
       "\n",
       "                                          nombre_act  \\\n",
       "0  Restaurantes con servicio de preparación de al...   \n",
       "1  Restaurantes con servicio de preparación de al...   \n",
       "2                       Restaurantes de autoservicio   \n",
       "3  Restaurantes que preparan otro tipo de aliment...   \n",
       "4                       Restaurantes de autoservicio   \n",
       "\n",
       "                          tipoCenCom           per_ocu tipoUniEco  ageb  \\\n",
       "0                                NaN   6 a 10 personas       Fijo  1017   \n",
       "1           CENTRO Y PLAZA COMERCIAL    0 a 5 personas       Fijo  1214   \n",
       "2                                NaN    0 a 5 personas       Fijo  1110   \n",
       "3  EDIFICIO COMERCIAL Y DE SERVICIOS  11 a 30 personas       Fijo  0803   \n",
       "4                                NaN    0 a 5 personas   Semifijo  0998   \n",
       "\n",
       "   manzana    latitud   longitud fecha_alta                      www   Año  \\\n",
       "0       22  19.420176 -99.158287 2010-07-01            WWW.KABUKI.MX  2010   \n",
       "1       15  19.414042 -99.164528 2016-01-01  WWW.UMAMIBURRITO.COM.MX  2016   \n",
       "2        2  19.416327 -99.156616 2019-11-01        WWW.MOJISUSHI.COM  2019   \n",
       "3        8  19.429096 -99.162094 2011-03-01                      NaN  2011   \n",
       "4       11  19.422094 -99.165253 2019-11-01                      NaN  2019   \n",
       "\n",
       "   Mes    clave  \n",
       "0    7  1017-22  \n",
       "1    1  1214-15  \n",
       "2   11   1110-2  \n",
       "3    3   0803-8  \n",
       "4   11  0998-11  "
      ]
     },
     "execution_count": 82,
     "metadata": {},
     "output_type": "execute_result"
    }
   ],
   "source": [
    "empresas=data.Id\n",
    "len(empresas)\n",
    "d=info[info[\"id\"].isin(empresas)]\n",
    "d.reset_index(drop=True,inplace=True)\n",
    "d.info()\n",
    "d[\"manzana\"]=d.manzana.astype(int)\n",
    "d[\"clave\"]=d[\"ageb\"].astype(str) + \"-\" + d[\"manzana\"].astype(str)\n",
    "d.head()"
   ]
  },
  {
   "cell_type": "code",
   "execution_count": 97,
   "metadata": {
    "scrolled": false
   },
   "outputs": [
    {
     "data": {
      "text/html": [
       "<div style=\"width:100%;\"><div style=\"position:relative;width:100%;height:0;padding-bottom:60%;\"><iframe src=\"data:text/html;charset=utf-8;base64,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\" style=\"position:absolute;width:100%;height:100%;left:0;top:0;border:none !important;\" allowfullscreen webkitallowfullscreen mozallowfullscreen></iframe></div></div>"
      ],
      "text/plain": [
       "<folium.folium.Map at 0x1b78d7bff98>"
      ]
     },
     "metadata": {},
     "output_type": "display_data"
    }
   ],
   "source": [
    "llat=list(d.latitud)\n",
    "llong=list(d.longitud)\n",
    "name=list(d.nom_estab)\n",
    "\n",
    "mapa=folium.Map(location=[long, lat], tiles='openstreetmap', zoom_start=15,)\n",
    "\n",
    "for i in range(len(d)):\n",
    "    folium.Marker([llat[i], llong[i]], icon=folium.Icon(color='red'),popup=name[i]).add_to(mapa)\n",
    "\n",
    "    \n",
    "display(mapa)\n",
    "\n",
    "mapa.save(\"../mapas/mapa {}.html\".format(giro))"
   ]
  },
  {
   "cell_type": "code",
   "execution_count": 83,
   "metadata": {},
   "outputs": [
    {
     "data": {
      "text/plain": [
       "2019-11-01    6\n",
       "2010-07-01    4\n",
       "2011-03-01    2\n",
       "2014-12-01    2\n",
       "2016-01-01    1\n",
       "Name: fecha_alta, dtype: int64"
      ]
     },
     "execution_count": 83,
     "metadata": {},
     "output_type": "execute_result"
    }
   ],
   "source": [
    "d.fecha_alta.value_counts()"
   ]
  },
  {
   "cell_type": "code",
   "execution_count": 84,
   "metadata": {},
   "outputs": [
    {
     "data": {
      "text/plain": [
       "\"\\ndat=pd.DataFrame(d.fecha_alta.value_counts())\\ndat=dat.sort_index()\\ndat.index = pd.DatetimeIndex(dat.index).to_period('M')\\ntrain=dat[1:-1]\\nmodelo=AR(train).fit()\\npred=modelo.predict(8,10)\\nprint(pred)\\ntrain\\n\""
      ]
     },
     "execution_count": 84,
     "metadata": {},
     "output_type": "execute_result"
    }
   ],
   "source": [
    "'''\n",
    "dat=pd.DataFrame(d.fecha_alta.value_counts())\n",
    "dat=dat.sort_index()\n",
    "dat.index = pd.DatetimeIndex(dat.index).to_period('M')\n",
    "train=dat[1:-1]\n",
    "modelo=AR(train).fit()\n",
    "pred=modelo.predict(8,10)\n",
    "print(pred)\n",
    "train\n",
    "'''"
   ]
  },
  {
   "cell_type": "code",
   "execution_count": 85,
   "metadata": {},
   "outputs": [
    {
     "data": {
      "text/plain": [
       "'\\nfrom sklearn.linear_model import LinearRegression\\n\\n\\ntrain=gk[1:-1]\\ntrain=train.reset_index(drop=False)\\ntrain=train.sort_values(by=[\\'index\\'])\\nX=train[\"index\"]\\ny=train.Año\\nz=\"2019\"\\nX.reshape(1, -1)\\nlinreg=LinearRegression(fit_intercept=True)\\nlinreg.fit(X, y)\\n#y_pred=linreg.predict(X_test)\\n'"
      ]
     },
     "execution_count": 85,
     "metadata": {},
     "output_type": "execute_result"
    }
   ],
   "source": [
    "'''\n",
    "from sklearn.linear_model import LinearRegression\n",
    "\n",
    "\n",
    "train=gk[1:-1]\n",
    "train=train.reset_index(drop=False)\n",
    "train=train.sort_values(by=['index'])\n",
    "X=train[\"index\"]\n",
    "y=train.Año\n",
    "z=\"2019\"\n",
    "X.reshape(1, -1)\n",
    "linreg=LinearRegression(fit_intercept=True)\n",
    "linreg.fit(X, y)\n",
    "#y_pred=linreg.predict(X_test)\n",
    "'''"
   ]
  },
  {
   "cell_type": "code",
   "execution_count": 86,
   "metadata": {},
   "outputs": [
    {
     "data": {
      "text/html": [
       "        <script type=\"text/javascript\">\n",
       "        window.PlotlyConfig = {MathJaxConfig: 'local'};\n",
       "        if (window.MathJax) {MathJax.Hub.Config({SVG: {font: \"STIX-Web\"}});}\n",
       "        if (typeof require !== 'undefined') {\n",
       "        require.undef(\"plotly\");\n",
       "        requirejs.config({\n",
       "            paths: {\n",
       "                'plotly': ['https://cdn.plot.ly/plotly-latest.min']\n",
       "            }\n",
       "        });\n",
       "        require(['plotly'], function(Plotly) {\n",
       "            window._Plotly = Plotly;\n",
       "        });\n",
       "        }\n",
       "        </script>\n",
       "        "
      ]
     },
     "metadata": {},
     "output_type": "display_data"
    }
   ],
   "source": [
    "import chart_studio.plotly as py\n",
    "import cufflinks as cf\n",
    "from ipywidgets import interact\n",
    "import matplotlib.pyplot as plt\n",
    "cf.go_offline()\n",
    "import seaborn as sns"
   ]
  },
  {
   "cell_type": "code",
   "execution_count": 87,
   "metadata": {},
   "outputs": [
    {
     "data": {
      "text/plain": [
       "15"
      ]
     },
     "metadata": {},
     "output_type": "display_data"
    },
    {
     "name": "stdout",
     "output_type": "stream",
     "text": [
      "   index  Año\n",
      "1   2010    4\n",
      "3   2011    2\n",
      "2   2014    2\n",
      "4   2016    1\n",
      "0   2019    6\n"
     ]
    },
    {
     "data": {
      "text/html": [
       "<div>\n",
       "<style scoped>\n",
       "    .dataframe tbody tr th:only-of-type {\n",
       "        vertical-align: middle;\n",
       "    }\n",
       "\n",
       "    .dataframe tbody tr th {\n",
       "        vertical-align: top;\n",
       "    }\n",
       "\n",
       "    .dataframe thead th {\n",
       "        text-align: right;\n",
       "    }\n",
       "</style>\n",
       "<table border=\"1\" class=\"dataframe\">\n",
       "  <thead>\n",
       "    <tr style=\"text-align: right;\">\n",
       "      <th></th>\n",
       "      <th>index</th>\n",
       "      <th>Mes</th>\n",
       "    </tr>\n",
       "  </thead>\n",
       "  <tbody>\n",
       "    <tr>\n",
       "      <th>4</th>\n",
       "      <td>1</td>\n",
       "      <td>1</td>\n",
       "    </tr>\n",
       "    <tr>\n",
       "      <th>3</th>\n",
       "      <td>3</td>\n",
       "      <td>2</td>\n",
       "    </tr>\n",
       "    <tr>\n",
       "      <th>1</th>\n",
       "      <td>7</td>\n",
       "      <td>4</td>\n",
       "    </tr>\n",
       "    <tr>\n",
       "      <th>0</th>\n",
       "      <td>11</td>\n",
       "      <td>6</td>\n",
       "    </tr>\n",
       "    <tr>\n",
       "      <th>2</th>\n",
       "      <td>12</td>\n",
       "      <td>2</td>\n",
       "    </tr>\n",
       "  </tbody>\n",
       "</table>\n",
       "</div>"
      ],
      "text/plain": [
       "   index  Mes\n",
       "4      1    1\n",
       "3      3    2\n",
       "1      7    4\n",
       "0     11    6\n",
       "2     12    2"
      ]
     },
     "execution_count": 87,
     "metadata": {},
     "output_type": "execute_result"
    }
   ],
   "source": [
    "display(len(d))\n",
    "gk =pd.DataFrame(d.Año.value_counts())\n",
    "gk=gk.reset_index(drop=False)\n",
    "gk=gk.sort_values(by=['index'])\n",
    "print(gk)\n",
    "gm =pd.DataFrame(d.Mes.value_counts())\n",
    "gm=gm.reset_index(drop=False)\n",
    "gm=gm.sort_values(by=['index'])\n",
    "gm"
   ]
  },
  {
   "cell_type": "code",
   "execution_count": 88,
   "metadata": {
    "scrolled": false
   },
   "outputs": [
    {
     "data": {
      "application/vnd.plotly.v1+json": {
       "config": {
        "linkText": "Export to plot.ly",
        "plotlyServerURL": "https://plot.ly",
        "showLink": true
       },
       "data": [
        {
         "marker": {
          "color": "rgba(255, 153, 51, 0.6)",
          "line": {
           "color": "rgba(255, 153, 51, 1.0)",
           "width": 1
          }
         },
         "name": "Mes",
         "orientation": "v",
         "text": "",
         "type": "bar",
         "x": [
          1,
          3,
          7,
          11,
          12
         ],
         "y": [
          1,
          2,
          4,
          6,
          2
         ]
        }
       ],
       "layout": {
        "legend": {
         "bgcolor": "#F5F6F9",
         "font": {
          "color": "#4D5663"
         }
        },
        "paper_bgcolor": "#F5F6F9",
        "plot_bgcolor": "#F5F6F9",
        "template": {
         "data": {
          "bar": [
           {
            "error_x": {
             "color": "#2a3f5f"
            },
            "error_y": {
             "color": "#2a3f5f"
            },
            "marker": {
             "line": {
              "color": "#E5ECF6",
              "width": 0.5
             }
            },
            "type": "bar"
           }
          ],
          "barpolar": [
           {
            "marker": {
             "line": {
              "color": "#E5ECF6",
              "width": 0.5
             }
            },
            "type": "barpolar"
           }
          ],
          "carpet": [
           {
            "aaxis": {
             "endlinecolor": "#2a3f5f",
             "gridcolor": "white",
             "linecolor": "white",
             "minorgridcolor": "white",
             "startlinecolor": "#2a3f5f"
            },
            "baxis": {
             "endlinecolor": "#2a3f5f",
             "gridcolor": "white",
             "linecolor": "white",
             "minorgridcolor": "white",
             "startlinecolor": "#2a3f5f"
            },
            "type": "carpet"
           }
          ],
          "choropleth": [
           {
            "colorbar": {
             "outlinewidth": 0,
             "ticks": ""
            },
            "type": "choropleth"
           }
          ],
          "contour": [
           {
            "colorbar": {
             "outlinewidth": 0,
             "ticks": ""
            },
            "colorscale": [
             [
              0,
              "#0d0887"
             ],
             [
              0.1111111111111111,
              "#46039f"
             ],
             [
              0.2222222222222222,
              "#7201a8"
             ],
             [
              0.3333333333333333,
              "#9c179e"
             ],
             [
              0.4444444444444444,
              "#bd3786"
             ],
             [
              0.5555555555555556,
              "#d8576b"
             ],
             [
              0.6666666666666666,
              "#ed7953"
             ],
             [
              0.7777777777777778,
              "#fb9f3a"
             ],
             [
              0.8888888888888888,
              "#fdca26"
             ],
             [
              1,
              "#f0f921"
             ]
            ],
            "type": "contour"
           }
          ],
          "contourcarpet": [
           {
            "colorbar": {
             "outlinewidth": 0,
             "ticks": ""
            },
            "type": "contourcarpet"
           }
          ],
          "heatmap": [
           {
            "colorbar": {
             "outlinewidth": 0,
             "ticks": ""
            },
            "colorscale": [
             [
              0,
              "#0d0887"
             ],
             [
              0.1111111111111111,
              "#46039f"
             ],
             [
              0.2222222222222222,
              "#7201a8"
             ],
             [
              0.3333333333333333,
              "#9c179e"
             ],
             [
              0.4444444444444444,
              "#bd3786"
             ],
             [
              0.5555555555555556,
              "#d8576b"
             ],
             [
              0.6666666666666666,
              "#ed7953"
             ],
             [
              0.7777777777777778,
              "#fb9f3a"
             ],
             [
              0.8888888888888888,
              "#fdca26"
             ],
             [
              1,
              "#f0f921"
             ]
            ],
            "type": "heatmap"
           }
          ],
          "heatmapgl": [
           {
            "colorbar": {
             "outlinewidth": 0,
             "ticks": ""
            },
            "colorscale": [
             [
              0,
              "#0d0887"
             ],
             [
              0.1111111111111111,
              "#46039f"
             ],
             [
              0.2222222222222222,
              "#7201a8"
             ],
             [
              0.3333333333333333,
              "#9c179e"
             ],
             [
              0.4444444444444444,
              "#bd3786"
             ],
             [
              0.5555555555555556,
              "#d8576b"
             ],
             [
              0.6666666666666666,
              "#ed7953"
             ],
             [
              0.7777777777777778,
              "#fb9f3a"
             ],
             [
              0.8888888888888888,
              "#fdca26"
             ],
             [
              1,
              "#f0f921"
             ]
            ],
            "type": "heatmapgl"
           }
          ],
          "histogram": [
           {
            "marker": {
             "colorbar": {
              "outlinewidth": 0,
              "ticks": ""
             }
            },
            "type": "histogram"
           }
          ],
          "histogram2d": [
           {
            "colorbar": {
             "outlinewidth": 0,
             "ticks": ""
            },
            "colorscale": [
             [
              0,
              "#0d0887"
             ],
             [
              0.1111111111111111,
              "#46039f"
             ],
             [
              0.2222222222222222,
              "#7201a8"
             ],
             [
              0.3333333333333333,
              "#9c179e"
             ],
             [
              0.4444444444444444,
              "#bd3786"
             ],
             [
              0.5555555555555556,
              "#d8576b"
             ],
             [
              0.6666666666666666,
              "#ed7953"
             ],
             [
              0.7777777777777778,
              "#fb9f3a"
             ],
             [
              0.8888888888888888,
              "#fdca26"
             ],
             [
              1,
              "#f0f921"
             ]
            ],
            "type": "histogram2d"
           }
          ],
          "histogram2dcontour": [
           {
            "colorbar": {
             "outlinewidth": 0,
             "ticks": ""
            },
            "colorscale": [
             [
              0,
              "#0d0887"
             ],
             [
              0.1111111111111111,
              "#46039f"
             ],
             [
              0.2222222222222222,
              "#7201a8"
             ],
             [
              0.3333333333333333,
              "#9c179e"
             ],
             [
              0.4444444444444444,
              "#bd3786"
             ],
             [
              0.5555555555555556,
              "#d8576b"
             ],
             [
              0.6666666666666666,
              "#ed7953"
             ],
             [
              0.7777777777777778,
              "#fb9f3a"
             ],
             [
              0.8888888888888888,
              "#fdca26"
             ],
             [
              1,
              "#f0f921"
             ]
            ],
            "type": "histogram2dcontour"
           }
          ],
          "mesh3d": [
           {
            "colorbar": {
             "outlinewidth": 0,
             "ticks": ""
            },
            "type": "mesh3d"
           }
          ],
          "parcoords": [
           {
            "line": {
             "colorbar": {
              "outlinewidth": 0,
              "ticks": ""
             }
            },
            "type": "parcoords"
           }
          ],
          "pie": [
           {
            "automargin": true,
            "type": "pie"
           }
          ],
          "scatter": [
           {
            "marker": {
             "colorbar": {
              "outlinewidth": 0,
              "ticks": ""
             }
            },
            "type": "scatter"
           }
          ],
          "scatter3d": [
           {
            "line": {
             "colorbar": {
              "outlinewidth": 0,
              "ticks": ""
             }
            },
            "marker": {
             "colorbar": {
              "outlinewidth": 0,
              "ticks": ""
             }
            },
            "type": "scatter3d"
           }
          ],
          "scattercarpet": [
           {
            "marker": {
             "colorbar": {
              "outlinewidth": 0,
              "ticks": ""
             }
            },
            "type": "scattercarpet"
           }
          ],
          "scattergeo": [
           {
            "marker": {
             "colorbar": {
              "outlinewidth": 0,
              "ticks": ""
             }
            },
            "type": "scattergeo"
           }
          ],
          "scattergl": [
           {
            "marker": {
             "colorbar": {
              "outlinewidth": 0,
              "ticks": ""
             }
            },
            "type": "scattergl"
           }
          ],
          "scattermapbox": [
           {
            "marker": {
             "colorbar": {
              "outlinewidth": 0,
              "ticks": ""
             }
            },
            "type": "scattermapbox"
           }
          ],
          "scatterpolar": [
           {
            "marker": {
             "colorbar": {
              "outlinewidth": 0,
              "ticks": ""
             }
            },
            "type": "scatterpolar"
           }
          ],
          "scatterpolargl": [
           {
            "marker": {
             "colorbar": {
              "outlinewidth": 0,
              "ticks": ""
             }
            },
            "type": "scatterpolargl"
           }
          ],
          "scatterternary": [
           {
            "marker": {
             "colorbar": {
              "outlinewidth": 0,
              "ticks": ""
             }
            },
            "type": "scatterternary"
           }
          ],
          "surface": [
           {
            "colorbar": {
             "outlinewidth": 0,
             "ticks": ""
            },
            "colorscale": [
             [
              0,
              "#0d0887"
             ],
             [
              0.1111111111111111,
              "#46039f"
             ],
             [
              0.2222222222222222,
              "#7201a8"
             ],
             [
              0.3333333333333333,
              "#9c179e"
             ],
             [
              0.4444444444444444,
              "#bd3786"
             ],
             [
              0.5555555555555556,
              "#d8576b"
             ],
             [
              0.6666666666666666,
              "#ed7953"
             ],
             [
              0.7777777777777778,
              "#fb9f3a"
             ],
             [
              0.8888888888888888,
              "#fdca26"
             ],
             [
              1,
              "#f0f921"
             ]
            ],
            "type": "surface"
           }
          ],
          "table": [
           {
            "cells": {
             "fill": {
              "color": "#EBF0F8"
             },
             "line": {
              "color": "white"
             }
            },
            "header": {
             "fill": {
              "color": "#C8D4E3"
             },
             "line": {
              "color": "white"
             }
            },
            "type": "table"
           }
          ]
         },
         "layout": {
          "annotationdefaults": {
           "arrowcolor": "#2a3f5f",
           "arrowhead": 0,
           "arrowwidth": 1
          },
          "coloraxis": {
           "colorbar": {
            "outlinewidth": 0,
            "ticks": ""
           }
          },
          "colorscale": {
           "diverging": [
            [
             0,
             "#8e0152"
            ],
            [
             0.1,
             "#c51b7d"
            ],
            [
             0.2,
             "#de77ae"
            ],
            [
             0.3,
             "#f1b6da"
            ],
            [
             0.4,
             "#fde0ef"
            ],
            [
             0.5,
             "#f7f7f7"
            ],
            [
             0.6,
             "#e6f5d0"
            ],
            [
             0.7,
             "#b8e186"
            ],
            [
             0.8,
             "#7fbc41"
            ],
            [
             0.9,
             "#4d9221"
            ],
            [
             1,
             "#276419"
            ]
           ],
           "sequential": [
            [
             0,
             "#0d0887"
            ],
            [
             0.1111111111111111,
             "#46039f"
            ],
            [
             0.2222222222222222,
             "#7201a8"
            ],
            [
             0.3333333333333333,
             "#9c179e"
            ],
            [
             0.4444444444444444,
             "#bd3786"
            ],
            [
             0.5555555555555556,
             "#d8576b"
            ],
            [
             0.6666666666666666,
             "#ed7953"
            ],
            [
             0.7777777777777778,
             "#fb9f3a"
            ],
            [
             0.8888888888888888,
             "#fdca26"
            ],
            [
             1,
             "#f0f921"
            ]
           ],
           "sequentialminus": [
            [
             0,
             "#0d0887"
            ],
            [
             0.1111111111111111,
             "#46039f"
            ],
            [
             0.2222222222222222,
             "#7201a8"
            ],
            [
             0.3333333333333333,
             "#9c179e"
            ],
            [
             0.4444444444444444,
             "#bd3786"
            ],
            [
             0.5555555555555556,
             "#d8576b"
            ],
            [
             0.6666666666666666,
             "#ed7953"
            ],
            [
             0.7777777777777778,
             "#fb9f3a"
            ],
            [
             0.8888888888888888,
             "#fdca26"
            ],
            [
             1,
             "#f0f921"
            ]
           ]
          },
          "colorway": [
           "#636efa",
           "#EF553B",
           "#00cc96",
           "#ab63fa",
           "#FFA15A",
           "#19d3f3",
           "#FF6692",
           "#B6E880",
           "#FF97FF",
           "#FECB52"
          ],
          "font": {
           "color": "#2a3f5f"
          },
          "geo": {
           "bgcolor": "white",
           "lakecolor": "white",
           "landcolor": "#E5ECF6",
           "showlakes": true,
           "showland": true,
           "subunitcolor": "white"
          },
          "hoverlabel": {
           "align": "left"
          },
          "hovermode": "closest",
          "mapbox": {
           "style": "light"
          },
          "paper_bgcolor": "white",
          "plot_bgcolor": "#E5ECF6",
          "polar": {
           "angularaxis": {
            "gridcolor": "white",
            "linecolor": "white",
            "ticks": ""
           },
           "bgcolor": "#E5ECF6",
           "radialaxis": {
            "gridcolor": "white",
            "linecolor": "white",
            "ticks": ""
           }
          },
          "scene": {
           "xaxis": {
            "backgroundcolor": "#E5ECF6",
            "gridcolor": "white",
            "gridwidth": 2,
            "linecolor": "white",
            "showbackground": true,
            "ticks": "",
            "zerolinecolor": "white"
           },
           "yaxis": {
            "backgroundcolor": "#E5ECF6",
            "gridcolor": "white",
            "gridwidth": 2,
            "linecolor": "white",
            "showbackground": true,
            "ticks": "",
            "zerolinecolor": "white"
           },
           "zaxis": {
            "backgroundcolor": "#E5ECF6",
            "gridcolor": "white",
            "gridwidth": 2,
            "linecolor": "white",
            "showbackground": true,
            "ticks": "",
            "zerolinecolor": "white"
           }
          },
          "shapedefaults": {
           "line": {
            "color": "#2a3f5f"
           }
          },
          "ternary": {
           "aaxis": {
            "gridcolor": "white",
            "linecolor": "white",
            "ticks": ""
           },
           "baxis": {
            "gridcolor": "white",
            "linecolor": "white",
            "ticks": ""
           },
           "bgcolor": "#E5ECF6",
           "caxis": {
            "gridcolor": "white",
            "linecolor": "white",
            "ticks": ""
           }
          },
          "title": {
           "x": 0.05
          },
          "xaxis": {
           "automargin": true,
           "gridcolor": "white",
           "linecolor": "white",
           "ticks": "",
           "title": {
            "standoff": 15
           },
           "zerolinecolor": "white",
           "zerolinewidth": 2
          },
          "yaxis": {
           "automargin": true,
           "gridcolor": "white",
           "linecolor": "white",
           "ticks": "",
           "title": {
            "standoff": 15
           },
           "zerolinecolor": "white",
           "zerolinewidth": 2
          }
         }
        },
        "title": {
         "font": {
          "color": "#4D5663"
         },
         "text": "Mes de integración"
        },
        "xaxis": {
         "gridcolor": "#E1E5ED",
         "showgrid": true,
         "tickfont": {
          "color": "#4D5663"
         },
         "title": {
          "font": {
           "color": "#4D5663"
          },
          "text": "Mes"
         },
         "zerolinecolor": "#E1E5ED"
        },
        "yaxis": {
         "gridcolor": "#E1E5ED",
         "showgrid": true,
         "tickfont": {
          "color": "#4D5663"
         },
         "title": {
          "font": {
           "color": "#4D5663"
          },
          "text": "N. Empresas"
         },
         "zerolinecolor": "#E1E5ED"
        }
       }
      },
      "text/html": [
       "<div>\n",
       "        \n",
       "        \n",
       "            <div id=\"e79b806f-9b28-4e88-966f-970e482f793e\" class=\"plotly-graph-div\" style=\"height:525px; width:100%;\"></div>\n",
       "            <script type=\"text/javascript\">\n",
       "                require([\"plotly\"], function(Plotly) {\n",
       "                    window.PLOTLYENV=window.PLOTLYENV || {};\n",
       "                    window.PLOTLYENV.BASE_URL='https://plot.ly';\n",
       "                    \n",
       "                if (document.getElementById(\"e79b806f-9b28-4e88-966f-970e482f793e\")) {\n",
       "                    Plotly.newPlot(\n",
       "                        'e79b806f-9b28-4e88-966f-970e482f793e',\n",
       "                        [{\"marker\": {\"color\": \"rgba(255, 153, 51, 0.6)\", \"line\": {\"color\": \"rgba(255, 153, 51, 1.0)\", \"width\": 1}}, \"name\": \"Mes\", \"orientation\": \"v\", \"text\": \"\", \"type\": \"bar\", \"x\": [1, 3, 7, 11, 12], \"y\": [1, 2, 4, 6, 2]}],\n",
       "                        {\"legend\": {\"bgcolor\": \"#F5F6F9\", \"font\": {\"color\": \"#4D5663\"}}, \"paper_bgcolor\": \"#F5F6F9\", \"plot_bgcolor\": \"#F5F6F9\", \"template\": {\"data\": {\"bar\": [{\"error_x\": {\"color\": \"#2a3f5f\"}, \"error_y\": {\"color\": \"#2a3f5f\"}, \"marker\": {\"line\": {\"color\": \"#E5ECF6\", \"width\": 0.5}}, \"type\": \"bar\"}], \"barpolar\": [{\"marker\": {\"line\": {\"color\": \"#E5ECF6\", \"width\": 0.5}}, \"type\": \"barpolar\"}], \"carpet\": [{\"aaxis\": {\"endlinecolor\": \"#2a3f5f\", \"gridcolor\": \"white\", \"linecolor\": \"white\", \"minorgridcolor\": \"white\", \"startlinecolor\": \"#2a3f5f\"}, \"baxis\": {\"endlinecolor\": \"#2a3f5f\", \"gridcolor\": \"white\", \"linecolor\": \"white\", \"minorgridcolor\": \"white\", \"startlinecolor\": \"#2a3f5f\"}, \"type\": \"carpet\"}], \"choropleth\": [{\"colorbar\": {\"outlinewidth\": 0, \"ticks\": \"\"}, \"type\": \"choropleth\"}], \"contour\": [{\"colorbar\": {\"outlinewidth\": 0, \"ticks\": \"\"}, \"colorscale\": [[0.0, \"#0d0887\"], [0.1111111111111111, \"#46039f\"], [0.2222222222222222, \"#7201a8\"], [0.3333333333333333, \"#9c179e\"], [0.4444444444444444, \"#bd3786\"], [0.5555555555555556, \"#d8576b\"], [0.6666666666666666, \"#ed7953\"], [0.7777777777777778, \"#fb9f3a\"], [0.8888888888888888, \"#fdca26\"], [1.0, \"#f0f921\"]], \"type\": \"contour\"}], \"contourcarpet\": [{\"colorbar\": {\"outlinewidth\": 0, \"ticks\": \"\"}, \"type\": \"contourcarpet\"}], \"heatmap\": [{\"colorbar\": {\"outlinewidth\": 0, \"ticks\": \"\"}, \"colorscale\": [[0.0, \"#0d0887\"], [0.1111111111111111, \"#46039f\"], [0.2222222222222222, \"#7201a8\"], [0.3333333333333333, \"#9c179e\"], [0.4444444444444444, \"#bd3786\"], [0.5555555555555556, \"#d8576b\"], [0.6666666666666666, \"#ed7953\"], [0.7777777777777778, \"#fb9f3a\"], [0.8888888888888888, \"#fdca26\"], [1.0, \"#f0f921\"]], \"type\": \"heatmap\"}], \"heatmapgl\": [{\"colorbar\": {\"outlinewidth\": 0, \"ticks\": \"\"}, \"colorscale\": [[0.0, \"#0d0887\"], [0.1111111111111111, \"#46039f\"], [0.2222222222222222, \"#7201a8\"], [0.3333333333333333, \"#9c179e\"], [0.4444444444444444, \"#bd3786\"], [0.5555555555555556, \"#d8576b\"], [0.6666666666666666, \"#ed7953\"], [0.7777777777777778, \"#fb9f3a\"], [0.8888888888888888, \"#fdca26\"], [1.0, \"#f0f921\"]], \"type\": \"heatmapgl\"}], \"histogram\": [{\"marker\": {\"colorbar\": {\"outlinewidth\": 0, \"ticks\": \"\"}}, \"type\": \"histogram\"}], \"histogram2d\": [{\"colorbar\": {\"outlinewidth\": 0, \"ticks\": \"\"}, \"colorscale\": [[0.0, \"#0d0887\"], [0.1111111111111111, \"#46039f\"], [0.2222222222222222, \"#7201a8\"], [0.3333333333333333, \"#9c179e\"], [0.4444444444444444, \"#bd3786\"], [0.5555555555555556, \"#d8576b\"], [0.6666666666666666, \"#ed7953\"], [0.7777777777777778, \"#fb9f3a\"], [0.8888888888888888, \"#fdca26\"], [1.0, \"#f0f921\"]], \"type\": \"histogram2d\"}], \"histogram2dcontour\": [{\"colorbar\": {\"outlinewidth\": 0, \"ticks\": \"\"}, \"colorscale\": [[0.0, \"#0d0887\"], [0.1111111111111111, \"#46039f\"], [0.2222222222222222, \"#7201a8\"], [0.3333333333333333, \"#9c179e\"], [0.4444444444444444, \"#bd3786\"], [0.5555555555555556, \"#d8576b\"], [0.6666666666666666, \"#ed7953\"], [0.7777777777777778, \"#fb9f3a\"], [0.8888888888888888, \"#fdca26\"], [1.0, \"#f0f921\"]], \"type\": \"histogram2dcontour\"}], \"mesh3d\": [{\"colorbar\": {\"outlinewidth\": 0, \"ticks\": \"\"}, \"type\": \"mesh3d\"}], \"parcoords\": [{\"line\": {\"colorbar\": {\"outlinewidth\": 0, \"ticks\": \"\"}}, \"type\": \"parcoords\"}], \"pie\": [{\"automargin\": true, \"type\": \"pie\"}], \"scatter\": [{\"marker\": {\"colorbar\": {\"outlinewidth\": 0, \"ticks\": \"\"}}, \"type\": \"scatter\"}], \"scatter3d\": [{\"line\": {\"colorbar\": {\"outlinewidth\": 0, \"ticks\": \"\"}}, \"marker\": {\"colorbar\": {\"outlinewidth\": 0, \"ticks\": \"\"}}, \"type\": \"scatter3d\"}], \"scattercarpet\": [{\"marker\": {\"colorbar\": {\"outlinewidth\": 0, \"ticks\": \"\"}}, \"type\": \"scattercarpet\"}], \"scattergeo\": [{\"marker\": {\"colorbar\": {\"outlinewidth\": 0, \"ticks\": \"\"}}, \"type\": \"scattergeo\"}], \"scattergl\": [{\"marker\": {\"colorbar\": {\"outlinewidth\": 0, \"ticks\": \"\"}}, \"type\": \"scattergl\"}], \"scattermapbox\": [{\"marker\": {\"colorbar\": {\"outlinewidth\": 0, \"ticks\": \"\"}}, \"type\": \"scattermapbox\"}], \"scatterpolar\": [{\"marker\": {\"colorbar\": {\"outlinewidth\": 0, \"ticks\": \"\"}}, \"type\": \"scatterpolar\"}], \"scatterpolargl\": [{\"marker\": {\"colorbar\": {\"outlinewidth\": 0, \"ticks\": \"\"}}, \"type\": \"scatterpolargl\"}], \"scatterternary\": [{\"marker\": {\"colorbar\": {\"outlinewidth\": 0, \"ticks\": \"\"}}, \"type\": \"scatterternary\"}], \"surface\": [{\"colorbar\": {\"outlinewidth\": 0, \"ticks\": \"\"}, \"colorscale\": [[0.0, \"#0d0887\"], [0.1111111111111111, \"#46039f\"], [0.2222222222222222, \"#7201a8\"], [0.3333333333333333, \"#9c179e\"], [0.4444444444444444, \"#bd3786\"], [0.5555555555555556, \"#d8576b\"], [0.6666666666666666, \"#ed7953\"], [0.7777777777777778, \"#fb9f3a\"], [0.8888888888888888, \"#fdca26\"], [1.0, \"#f0f921\"]], \"type\": \"surface\"}], \"table\": [{\"cells\": {\"fill\": {\"color\": \"#EBF0F8\"}, \"line\": {\"color\": \"white\"}}, \"header\": {\"fill\": {\"color\": \"#C8D4E3\"}, \"line\": {\"color\": \"white\"}}, \"type\": \"table\"}]}, \"layout\": {\"annotationdefaults\": {\"arrowcolor\": \"#2a3f5f\", \"arrowhead\": 0, \"arrowwidth\": 1}, \"coloraxis\": {\"colorbar\": {\"outlinewidth\": 0, \"ticks\": \"\"}}, \"colorscale\": {\"diverging\": [[0, \"#8e0152\"], [0.1, \"#c51b7d\"], [0.2, \"#de77ae\"], [0.3, \"#f1b6da\"], [0.4, \"#fde0ef\"], [0.5, \"#f7f7f7\"], [0.6, \"#e6f5d0\"], [0.7, \"#b8e186\"], [0.8, \"#7fbc41\"], [0.9, \"#4d9221\"], [1, \"#276419\"]], \"sequential\": [[0.0, \"#0d0887\"], [0.1111111111111111, \"#46039f\"], [0.2222222222222222, \"#7201a8\"], [0.3333333333333333, \"#9c179e\"], [0.4444444444444444, \"#bd3786\"], [0.5555555555555556, \"#d8576b\"], [0.6666666666666666, \"#ed7953\"], [0.7777777777777778, \"#fb9f3a\"], [0.8888888888888888, \"#fdca26\"], [1.0, \"#f0f921\"]], \"sequentialminus\": [[0.0, \"#0d0887\"], [0.1111111111111111, \"#46039f\"], [0.2222222222222222, \"#7201a8\"], [0.3333333333333333, \"#9c179e\"], [0.4444444444444444, \"#bd3786\"], [0.5555555555555556, \"#d8576b\"], [0.6666666666666666, \"#ed7953\"], [0.7777777777777778, \"#fb9f3a\"], [0.8888888888888888, \"#fdca26\"], [1.0, \"#f0f921\"]]}, \"colorway\": [\"#636efa\", \"#EF553B\", \"#00cc96\", \"#ab63fa\", \"#FFA15A\", \"#19d3f3\", \"#FF6692\", \"#B6E880\", \"#FF97FF\", \"#FECB52\"], \"font\": {\"color\": \"#2a3f5f\"}, \"geo\": {\"bgcolor\": \"white\", \"lakecolor\": \"white\", \"landcolor\": \"#E5ECF6\", \"showlakes\": true, \"showland\": true, \"subunitcolor\": \"white\"}, \"hoverlabel\": {\"align\": \"left\"}, \"hovermode\": \"closest\", \"mapbox\": {\"style\": \"light\"}, \"paper_bgcolor\": \"white\", \"plot_bgcolor\": \"#E5ECF6\", \"polar\": {\"angularaxis\": {\"gridcolor\": \"white\", \"linecolor\": \"white\", \"ticks\": \"\"}, \"bgcolor\": \"#E5ECF6\", \"radialaxis\": {\"gridcolor\": \"white\", \"linecolor\": \"white\", \"ticks\": \"\"}}, \"scene\": {\"xaxis\": {\"backgroundcolor\": \"#E5ECF6\", \"gridcolor\": \"white\", \"gridwidth\": 2, \"linecolor\": \"white\", \"showbackground\": true, \"ticks\": \"\", \"zerolinecolor\": \"white\"}, \"yaxis\": {\"backgroundcolor\": \"#E5ECF6\", \"gridcolor\": \"white\", \"gridwidth\": 2, \"linecolor\": \"white\", \"showbackground\": true, \"ticks\": \"\", \"zerolinecolor\": \"white\"}, \"zaxis\": {\"backgroundcolor\": \"#E5ECF6\", \"gridcolor\": \"white\", \"gridwidth\": 2, \"linecolor\": \"white\", \"showbackground\": true, \"ticks\": \"\", \"zerolinecolor\": \"white\"}}, \"shapedefaults\": {\"line\": {\"color\": \"#2a3f5f\"}}, \"ternary\": {\"aaxis\": {\"gridcolor\": \"white\", \"linecolor\": \"white\", \"ticks\": \"\"}, \"baxis\": {\"gridcolor\": \"white\", \"linecolor\": \"white\", \"ticks\": \"\"}, \"bgcolor\": \"#E5ECF6\", \"caxis\": {\"gridcolor\": \"white\", \"linecolor\": \"white\", \"ticks\": \"\"}}, \"title\": {\"x\": 0.05}, \"xaxis\": {\"automargin\": true, \"gridcolor\": \"white\", \"linecolor\": \"white\", \"ticks\": \"\", \"title\": {\"standoff\": 15}, \"zerolinecolor\": \"white\", \"zerolinewidth\": 2}, \"yaxis\": {\"automargin\": true, \"gridcolor\": \"white\", \"linecolor\": \"white\", \"ticks\": \"\", \"title\": {\"standoff\": 15}, \"zerolinecolor\": \"white\", \"zerolinewidth\": 2}}}, \"title\": {\"font\": {\"color\": \"#4D5663\"}, \"text\": \"Mes de integraci\\u00f3n\"}, \"xaxis\": {\"gridcolor\": \"#E1E5ED\", \"showgrid\": true, \"tickfont\": {\"color\": \"#4D5663\"}, \"title\": {\"font\": {\"color\": \"#4D5663\"}, \"text\": \"Mes\"}, \"zerolinecolor\": \"#E1E5ED\"}, \"yaxis\": {\"gridcolor\": \"#E1E5ED\", \"showgrid\": true, \"tickfont\": {\"color\": \"#4D5663\"}, \"title\": {\"font\": {\"color\": \"#4D5663\"}, \"text\": \"N. Empresas\"}, \"zerolinecolor\": \"#E1E5ED\"}},\n",
       "                        {\"showLink\": true, \"linkText\": \"Export to plot.ly\", \"plotlyServerURL\": \"https://plot.ly\", \"responsive\": true}\n",
       "                    ).then(function(){\n",
       "                            \n",
       "var gd = document.getElementById('e79b806f-9b28-4e88-966f-970e482f793e');\n",
       "var x = new MutationObserver(function (mutations, observer) {{\n",
       "        var display = window.getComputedStyle(gd).display;\n",
       "        if (!display || display === 'none') {{\n",
       "            console.log([gd, 'removed!']);\n",
       "            Plotly.purge(gd);\n",
       "            observer.disconnect();\n",
       "        }}\n",
       "}});\n",
       "\n",
       "// Listen for the removal of the full notebook cells\n",
       "var notebookContainer = gd.closest('#notebook-container');\n",
       "if (notebookContainer) {{\n",
       "    x.observe(notebookContainer, {childList: true});\n",
       "}}\n",
       "\n",
       "// Listen for the clearing of the current output cell\n",
       "var outputEl = gd.closest('.output');\n",
       "if (outputEl) {{\n",
       "    x.observe(outputEl, {childList: true});\n",
       "}}\n",
       "\n",
       "                        })\n",
       "                };\n",
       "                });\n",
       "            </script>\n",
       "        </div>"
      ]
     },
     "metadata": {},
     "output_type": "display_data"
    },
    {
     "data": {
      "application/vnd.plotly.v1+json": {
       "config": {
        "linkText": "Export to plot.ly",
        "plotlyServerURL": "https://plot.ly",
        "showLink": true
       },
       "data": [
        {
         "marker": {
          "color": "rgba(255, 153, 51, 0.6)",
          "line": {
           "color": "rgba(255, 153, 51, 1.0)",
           "width": 1
          }
         },
         "name": "Año",
         "orientation": "v",
         "text": "",
         "type": "bar",
         "x": [
          2010,
          2011,
          2014,
          2016,
          2019
         ],
         "y": [
          4,
          2,
          2,
          1,
          6
         ]
        }
       ],
       "layout": {
        "legend": {
         "bgcolor": "#F5F6F9",
         "font": {
          "color": "#4D5663"
         }
        },
        "paper_bgcolor": "#F5F6F9",
        "plot_bgcolor": "#F5F6F9",
        "template": {
         "data": {
          "bar": [
           {
            "error_x": {
             "color": "#2a3f5f"
            },
            "error_y": {
             "color": "#2a3f5f"
            },
            "marker": {
             "line": {
              "color": "#E5ECF6",
              "width": 0.5
             }
            },
            "type": "bar"
           }
          ],
          "barpolar": [
           {
            "marker": {
             "line": {
              "color": "#E5ECF6",
              "width": 0.5
             }
            },
            "type": "barpolar"
           }
          ],
          "carpet": [
           {
            "aaxis": {
             "endlinecolor": "#2a3f5f",
             "gridcolor": "white",
             "linecolor": "white",
             "minorgridcolor": "white",
             "startlinecolor": "#2a3f5f"
            },
            "baxis": {
             "endlinecolor": "#2a3f5f",
             "gridcolor": "white",
             "linecolor": "white",
             "minorgridcolor": "white",
             "startlinecolor": "#2a3f5f"
            },
            "type": "carpet"
           }
          ],
          "choropleth": [
           {
            "colorbar": {
             "outlinewidth": 0,
             "ticks": ""
            },
            "type": "choropleth"
           }
          ],
          "contour": [
           {
            "colorbar": {
             "outlinewidth": 0,
             "ticks": ""
            },
            "colorscale": [
             [
              0,
              "#0d0887"
             ],
             [
              0.1111111111111111,
              "#46039f"
             ],
             [
              0.2222222222222222,
              "#7201a8"
             ],
             [
              0.3333333333333333,
              "#9c179e"
             ],
             [
              0.4444444444444444,
              "#bd3786"
             ],
             [
              0.5555555555555556,
              "#d8576b"
             ],
             [
              0.6666666666666666,
              "#ed7953"
             ],
             [
              0.7777777777777778,
              "#fb9f3a"
             ],
             [
              0.8888888888888888,
              "#fdca26"
             ],
             [
              1,
              "#f0f921"
             ]
            ],
            "type": "contour"
           }
          ],
          "contourcarpet": [
           {
            "colorbar": {
             "outlinewidth": 0,
             "ticks": ""
            },
            "type": "contourcarpet"
           }
          ],
          "heatmap": [
           {
            "colorbar": {
             "outlinewidth": 0,
             "ticks": ""
            },
            "colorscale": [
             [
              0,
              "#0d0887"
             ],
             [
              0.1111111111111111,
              "#46039f"
             ],
             [
              0.2222222222222222,
              "#7201a8"
             ],
             [
              0.3333333333333333,
              "#9c179e"
             ],
             [
              0.4444444444444444,
              "#bd3786"
             ],
             [
              0.5555555555555556,
              "#d8576b"
             ],
             [
              0.6666666666666666,
              "#ed7953"
             ],
             [
              0.7777777777777778,
              "#fb9f3a"
             ],
             [
              0.8888888888888888,
              "#fdca26"
             ],
             [
              1,
              "#f0f921"
             ]
            ],
            "type": "heatmap"
           }
          ],
          "heatmapgl": [
           {
            "colorbar": {
             "outlinewidth": 0,
             "ticks": ""
            },
            "colorscale": [
             [
              0,
              "#0d0887"
             ],
             [
              0.1111111111111111,
              "#46039f"
             ],
             [
              0.2222222222222222,
              "#7201a8"
             ],
             [
              0.3333333333333333,
              "#9c179e"
             ],
             [
              0.4444444444444444,
              "#bd3786"
             ],
             [
              0.5555555555555556,
              "#d8576b"
             ],
             [
              0.6666666666666666,
              "#ed7953"
             ],
             [
              0.7777777777777778,
              "#fb9f3a"
             ],
             [
              0.8888888888888888,
              "#fdca26"
             ],
             [
              1,
              "#f0f921"
             ]
            ],
            "type": "heatmapgl"
           }
          ],
          "histogram": [
           {
            "marker": {
             "colorbar": {
              "outlinewidth": 0,
              "ticks": ""
             }
            },
            "type": "histogram"
           }
          ],
          "histogram2d": [
           {
            "colorbar": {
             "outlinewidth": 0,
             "ticks": ""
            },
            "colorscale": [
             [
              0,
              "#0d0887"
             ],
             [
              0.1111111111111111,
              "#46039f"
             ],
             [
              0.2222222222222222,
              "#7201a8"
             ],
             [
              0.3333333333333333,
              "#9c179e"
             ],
             [
              0.4444444444444444,
              "#bd3786"
             ],
             [
              0.5555555555555556,
              "#d8576b"
             ],
             [
              0.6666666666666666,
              "#ed7953"
             ],
             [
              0.7777777777777778,
              "#fb9f3a"
             ],
             [
              0.8888888888888888,
              "#fdca26"
             ],
             [
              1,
              "#f0f921"
             ]
            ],
            "type": "histogram2d"
           }
          ],
          "histogram2dcontour": [
           {
            "colorbar": {
             "outlinewidth": 0,
             "ticks": ""
            },
            "colorscale": [
             [
              0,
              "#0d0887"
             ],
             [
              0.1111111111111111,
              "#46039f"
             ],
             [
              0.2222222222222222,
              "#7201a8"
             ],
             [
              0.3333333333333333,
              "#9c179e"
             ],
             [
              0.4444444444444444,
              "#bd3786"
             ],
             [
              0.5555555555555556,
              "#d8576b"
             ],
             [
              0.6666666666666666,
              "#ed7953"
             ],
             [
              0.7777777777777778,
              "#fb9f3a"
             ],
             [
              0.8888888888888888,
              "#fdca26"
             ],
             [
              1,
              "#f0f921"
             ]
            ],
            "type": "histogram2dcontour"
           }
          ],
          "mesh3d": [
           {
            "colorbar": {
             "outlinewidth": 0,
             "ticks": ""
            },
            "type": "mesh3d"
           }
          ],
          "parcoords": [
           {
            "line": {
             "colorbar": {
              "outlinewidth": 0,
              "ticks": ""
             }
            },
            "type": "parcoords"
           }
          ],
          "pie": [
           {
            "automargin": true,
            "type": "pie"
           }
          ],
          "scatter": [
           {
            "marker": {
             "colorbar": {
              "outlinewidth": 0,
              "ticks": ""
             }
            },
            "type": "scatter"
           }
          ],
          "scatter3d": [
           {
            "line": {
             "colorbar": {
              "outlinewidth": 0,
              "ticks": ""
             }
            },
            "marker": {
             "colorbar": {
              "outlinewidth": 0,
              "ticks": ""
             }
            },
            "type": "scatter3d"
           }
          ],
          "scattercarpet": [
           {
            "marker": {
             "colorbar": {
              "outlinewidth": 0,
              "ticks": ""
             }
            },
            "type": "scattercarpet"
           }
          ],
          "scattergeo": [
           {
            "marker": {
             "colorbar": {
              "outlinewidth": 0,
              "ticks": ""
             }
            },
            "type": "scattergeo"
           }
          ],
          "scattergl": [
           {
            "marker": {
             "colorbar": {
              "outlinewidth": 0,
              "ticks": ""
             }
            },
            "type": "scattergl"
           }
          ],
          "scattermapbox": [
           {
            "marker": {
             "colorbar": {
              "outlinewidth": 0,
              "ticks": ""
             }
            },
            "type": "scattermapbox"
           }
          ],
          "scatterpolar": [
           {
            "marker": {
             "colorbar": {
              "outlinewidth": 0,
              "ticks": ""
             }
            },
            "type": "scatterpolar"
           }
          ],
          "scatterpolargl": [
           {
            "marker": {
             "colorbar": {
              "outlinewidth": 0,
              "ticks": ""
             }
            },
            "type": "scatterpolargl"
           }
          ],
          "scatterternary": [
           {
            "marker": {
             "colorbar": {
              "outlinewidth": 0,
              "ticks": ""
             }
            },
            "type": "scatterternary"
           }
          ],
          "surface": [
           {
            "colorbar": {
             "outlinewidth": 0,
             "ticks": ""
            },
            "colorscale": [
             [
              0,
              "#0d0887"
             ],
             [
              0.1111111111111111,
              "#46039f"
             ],
             [
              0.2222222222222222,
              "#7201a8"
             ],
             [
              0.3333333333333333,
              "#9c179e"
             ],
             [
              0.4444444444444444,
              "#bd3786"
             ],
             [
              0.5555555555555556,
              "#d8576b"
             ],
             [
              0.6666666666666666,
              "#ed7953"
             ],
             [
              0.7777777777777778,
              "#fb9f3a"
             ],
             [
              0.8888888888888888,
              "#fdca26"
             ],
             [
              1,
              "#f0f921"
             ]
            ],
            "type": "surface"
           }
          ],
          "table": [
           {
            "cells": {
             "fill": {
              "color": "#EBF0F8"
             },
             "line": {
              "color": "white"
             }
            },
            "header": {
             "fill": {
              "color": "#C8D4E3"
             },
             "line": {
              "color": "white"
             }
            },
            "type": "table"
           }
          ]
         },
         "layout": {
          "annotationdefaults": {
           "arrowcolor": "#2a3f5f",
           "arrowhead": 0,
           "arrowwidth": 1
          },
          "coloraxis": {
           "colorbar": {
            "outlinewidth": 0,
            "ticks": ""
           }
          },
          "colorscale": {
           "diverging": [
            [
             0,
             "#8e0152"
            ],
            [
             0.1,
             "#c51b7d"
            ],
            [
             0.2,
             "#de77ae"
            ],
            [
             0.3,
             "#f1b6da"
            ],
            [
             0.4,
             "#fde0ef"
            ],
            [
             0.5,
             "#f7f7f7"
            ],
            [
             0.6,
             "#e6f5d0"
            ],
            [
             0.7,
             "#b8e186"
            ],
            [
             0.8,
             "#7fbc41"
            ],
            [
             0.9,
             "#4d9221"
            ],
            [
             1,
             "#276419"
            ]
           ],
           "sequential": [
            [
             0,
             "#0d0887"
            ],
            [
             0.1111111111111111,
             "#46039f"
            ],
            [
             0.2222222222222222,
             "#7201a8"
            ],
            [
             0.3333333333333333,
             "#9c179e"
            ],
            [
             0.4444444444444444,
             "#bd3786"
            ],
            [
             0.5555555555555556,
             "#d8576b"
            ],
            [
             0.6666666666666666,
             "#ed7953"
            ],
            [
             0.7777777777777778,
             "#fb9f3a"
            ],
            [
             0.8888888888888888,
             "#fdca26"
            ],
            [
             1,
             "#f0f921"
            ]
           ],
           "sequentialminus": [
            [
             0,
             "#0d0887"
            ],
            [
             0.1111111111111111,
             "#46039f"
            ],
            [
             0.2222222222222222,
             "#7201a8"
            ],
            [
             0.3333333333333333,
             "#9c179e"
            ],
            [
             0.4444444444444444,
             "#bd3786"
            ],
            [
             0.5555555555555556,
             "#d8576b"
            ],
            [
             0.6666666666666666,
             "#ed7953"
            ],
            [
             0.7777777777777778,
             "#fb9f3a"
            ],
            [
             0.8888888888888888,
             "#fdca26"
            ],
            [
             1,
             "#f0f921"
            ]
           ]
          },
          "colorway": [
           "#636efa",
           "#EF553B",
           "#00cc96",
           "#ab63fa",
           "#FFA15A",
           "#19d3f3",
           "#FF6692",
           "#B6E880",
           "#FF97FF",
           "#FECB52"
          ],
          "font": {
           "color": "#2a3f5f"
          },
          "geo": {
           "bgcolor": "white",
           "lakecolor": "white",
           "landcolor": "#E5ECF6",
           "showlakes": true,
           "showland": true,
           "subunitcolor": "white"
          },
          "hoverlabel": {
           "align": "left"
          },
          "hovermode": "closest",
          "mapbox": {
           "style": "light"
          },
          "paper_bgcolor": "white",
          "plot_bgcolor": "#E5ECF6",
          "polar": {
           "angularaxis": {
            "gridcolor": "white",
            "linecolor": "white",
            "ticks": ""
           },
           "bgcolor": "#E5ECF6",
           "radialaxis": {
            "gridcolor": "white",
            "linecolor": "white",
            "ticks": ""
           }
          },
          "scene": {
           "xaxis": {
            "backgroundcolor": "#E5ECF6",
            "gridcolor": "white",
            "gridwidth": 2,
            "linecolor": "white",
            "showbackground": true,
            "ticks": "",
            "zerolinecolor": "white"
           },
           "yaxis": {
            "backgroundcolor": "#E5ECF6",
            "gridcolor": "white",
            "gridwidth": 2,
            "linecolor": "white",
            "showbackground": true,
            "ticks": "",
            "zerolinecolor": "white"
           },
           "zaxis": {
            "backgroundcolor": "#E5ECF6",
            "gridcolor": "white",
            "gridwidth": 2,
            "linecolor": "white",
            "showbackground": true,
            "ticks": "",
            "zerolinecolor": "white"
           }
          },
          "shapedefaults": {
           "line": {
            "color": "#2a3f5f"
           }
          },
          "ternary": {
           "aaxis": {
            "gridcolor": "white",
            "linecolor": "white",
            "ticks": ""
           },
           "baxis": {
            "gridcolor": "white",
            "linecolor": "white",
            "ticks": ""
           },
           "bgcolor": "#E5ECF6",
           "caxis": {
            "gridcolor": "white",
            "linecolor": "white",
            "ticks": ""
           }
          },
          "title": {
           "x": 0.05
          },
          "xaxis": {
           "automargin": true,
           "gridcolor": "white",
           "linecolor": "white",
           "ticks": "",
           "title": {
            "standoff": 15
           },
           "zerolinecolor": "white",
           "zerolinewidth": 2
          },
          "yaxis": {
           "automargin": true,
           "gridcolor": "white",
           "linecolor": "white",
           "ticks": "",
           "title": {
            "standoff": 15
           },
           "zerolinecolor": "white",
           "zerolinewidth": 2
          }
         }
        },
        "title": {
         "font": {
          "color": "#4D5663"
         },
         "text": "Año de integracion...."
        },
        "xaxis": {
         "gridcolor": "#E1E5ED",
         "showgrid": true,
         "tickfont": {
          "color": "#4D5663"
         },
         "title": {
          "font": {
           "color": "#4D5663"
          },
          "text": "Año"
         },
         "zerolinecolor": "#E1E5ED"
        },
        "yaxis": {
         "gridcolor": "#E1E5ED",
         "showgrid": true,
         "tickfont": {
          "color": "#4D5663"
         },
         "title": {
          "font": {
           "color": "#4D5663"
          },
          "text": "N. Empresas"
         },
         "zerolinecolor": "#E1E5ED"
        }
       }
      },
      "text/html": [
       "<div>\n",
       "        \n",
       "        \n",
       "            <div id=\"a35737a3-226d-4c6c-808b-782a57f85997\" class=\"plotly-graph-div\" style=\"height:525px; width:100%;\"></div>\n",
       "            <script type=\"text/javascript\">\n",
       "                require([\"plotly\"], function(Plotly) {\n",
       "                    window.PLOTLYENV=window.PLOTLYENV || {};\n",
       "                    window.PLOTLYENV.BASE_URL='https://plot.ly';\n",
       "                    \n",
       "                if (document.getElementById(\"a35737a3-226d-4c6c-808b-782a57f85997\")) {\n",
       "                    Plotly.newPlot(\n",
       "                        'a35737a3-226d-4c6c-808b-782a57f85997',\n",
       "                        [{\"marker\": {\"color\": \"rgba(255, 153, 51, 0.6)\", \"line\": {\"color\": \"rgba(255, 153, 51, 1.0)\", \"width\": 1}}, \"name\": \"A\\u00f1o\", \"orientation\": \"v\", \"text\": \"\", \"type\": \"bar\", \"x\": [2010, 2011, 2014, 2016, 2019], \"y\": [4, 2, 2, 1, 6]}],\n",
       "                        {\"legend\": {\"bgcolor\": \"#F5F6F9\", \"font\": {\"color\": \"#4D5663\"}}, \"paper_bgcolor\": \"#F5F6F9\", \"plot_bgcolor\": \"#F5F6F9\", \"template\": {\"data\": {\"bar\": [{\"error_x\": {\"color\": \"#2a3f5f\"}, \"error_y\": {\"color\": \"#2a3f5f\"}, \"marker\": {\"line\": {\"color\": \"#E5ECF6\", \"width\": 0.5}}, \"type\": \"bar\"}], \"barpolar\": [{\"marker\": {\"line\": {\"color\": \"#E5ECF6\", \"width\": 0.5}}, \"type\": \"barpolar\"}], \"carpet\": [{\"aaxis\": {\"endlinecolor\": \"#2a3f5f\", \"gridcolor\": \"white\", \"linecolor\": \"white\", \"minorgridcolor\": \"white\", \"startlinecolor\": \"#2a3f5f\"}, \"baxis\": {\"endlinecolor\": \"#2a3f5f\", \"gridcolor\": \"white\", \"linecolor\": \"white\", \"minorgridcolor\": \"white\", \"startlinecolor\": \"#2a3f5f\"}, \"type\": \"carpet\"}], \"choropleth\": [{\"colorbar\": {\"outlinewidth\": 0, \"ticks\": \"\"}, \"type\": \"choropleth\"}], \"contour\": [{\"colorbar\": {\"outlinewidth\": 0, \"ticks\": \"\"}, \"colorscale\": [[0.0, \"#0d0887\"], [0.1111111111111111, \"#46039f\"], [0.2222222222222222, \"#7201a8\"], [0.3333333333333333, \"#9c179e\"], [0.4444444444444444, \"#bd3786\"], [0.5555555555555556, \"#d8576b\"], [0.6666666666666666, \"#ed7953\"], [0.7777777777777778, \"#fb9f3a\"], [0.8888888888888888, \"#fdca26\"], [1.0, \"#f0f921\"]], \"type\": \"contour\"}], \"contourcarpet\": [{\"colorbar\": {\"outlinewidth\": 0, \"ticks\": \"\"}, \"type\": \"contourcarpet\"}], \"heatmap\": [{\"colorbar\": {\"outlinewidth\": 0, \"ticks\": \"\"}, \"colorscale\": [[0.0, \"#0d0887\"], [0.1111111111111111, \"#46039f\"], [0.2222222222222222, \"#7201a8\"], [0.3333333333333333, \"#9c179e\"], [0.4444444444444444, \"#bd3786\"], [0.5555555555555556, \"#d8576b\"], [0.6666666666666666, \"#ed7953\"], [0.7777777777777778, \"#fb9f3a\"], [0.8888888888888888, \"#fdca26\"], [1.0, \"#f0f921\"]], \"type\": \"heatmap\"}], \"heatmapgl\": [{\"colorbar\": {\"outlinewidth\": 0, \"ticks\": \"\"}, \"colorscale\": [[0.0, \"#0d0887\"], [0.1111111111111111, \"#46039f\"], [0.2222222222222222, \"#7201a8\"], [0.3333333333333333, \"#9c179e\"], [0.4444444444444444, \"#bd3786\"], [0.5555555555555556, \"#d8576b\"], [0.6666666666666666, \"#ed7953\"], [0.7777777777777778, \"#fb9f3a\"], [0.8888888888888888, \"#fdca26\"], [1.0, \"#f0f921\"]], \"type\": \"heatmapgl\"}], \"histogram\": [{\"marker\": {\"colorbar\": {\"outlinewidth\": 0, \"ticks\": \"\"}}, \"type\": \"histogram\"}], \"histogram2d\": [{\"colorbar\": {\"outlinewidth\": 0, \"ticks\": \"\"}, \"colorscale\": [[0.0, \"#0d0887\"], [0.1111111111111111, \"#46039f\"], [0.2222222222222222, \"#7201a8\"], [0.3333333333333333, \"#9c179e\"], [0.4444444444444444, \"#bd3786\"], [0.5555555555555556, \"#d8576b\"], [0.6666666666666666, \"#ed7953\"], [0.7777777777777778, \"#fb9f3a\"], [0.8888888888888888, \"#fdca26\"], [1.0, \"#f0f921\"]], \"type\": \"histogram2d\"}], \"histogram2dcontour\": [{\"colorbar\": {\"outlinewidth\": 0, \"ticks\": \"\"}, \"colorscale\": [[0.0, \"#0d0887\"], [0.1111111111111111, \"#46039f\"], [0.2222222222222222, \"#7201a8\"], [0.3333333333333333, \"#9c179e\"], [0.4444444444444444, \"#bd3786\"], [0.5555555555555556, \"#d8576b\"], [0.6666666666666666, \"#ed7953\"], [0.7777777777777778, \"#fb9f3a\"], [0.8888888888888888, \"#fdca26\"], [1.0, \"#f0f921\"]], \"type\": \"histogram2dcontour\"}], \"mesh3d\": [{\"colorbar\": {\"outlinewidth\": 0, \"ticks\": \"\"}, \"type\": \"mesh3d\"}], \"parcoords\": [{\"line\": {\"colorbar\": {\"outlinewidth\": 0, \"ticks\": \"\"}}, \"type\": \"parcoords\"}], \"pie\": [{\"automargin\": true, \"type\": \"pie\"}], \"scatter\": [{\"marker\": {\"colorbar\": {\"outlinewidth\": 0, \"ticks\": \"\"}}, \"type\": \"scatter\"}], \"scatter3d\": [{\"line\": {\"colorbar\": {\"outlinewidth\": 0, \"ticks\": \"\"}}, \"marker\": {\"colorbar\": {\"outlinewidth\": 0, \"ticks\": \"\"}}, \"type\": \"scatter3d\"}], \"scattercarpet\": [{\"marker\": {\"colorbar\": {\"outlinewidth\": 0, \"ticks\": \"\"}}, \"type\": \"scattercarpet\"}], \"scattergeo\": [{\"marker\": {\"colorbar\": {\"outlinewidth\": 0, \"ticks\": \"\"}}, \"type\": \"scattergeo\"}], \"scattergl\": [{\"marker\": {\"colorbar\": {\"outlinewidth\": 0, \"ticks\": \"\"}}, \"type\": \"scattergl\"}], \"scattermapbox\": [{\"marker\": {\"colorbar\": {\"outlinewidth\": 0, \"ticks\": \"\"}}, \"type\": \"scattermapbox\"}], \"scatterpolar\": [{\"marker\": {\"colorbar\": {\"outlinewidth\": 0, \"ticks\": \"\"}}, \"type\": \"scatterpolar\"}], \"scatterpolargl\": [{\"marker\": {\"colorbar\": {\"outlinewidth\": 0, \"ticks\": \"\"}}, \"type\": \"scatterpolargl\"}], \"scatterternary\": [{\"marker\": {\"colorbar\": {\"outlinewidth\": 0, \"ticks\": \"\"}}, \"type\": \"scatterternary\"}], \"surface\": [{\"colorbar\": {\"outlinewidth\": 0, \"ticks\": \"\"}, \"colorscale\": [[0.0, \"#0d0887\"], [0.1111111111111111, \"#46039f\"], [0.2222222222222222, \"#7201a8\"], [0.3333333333333333, \"#9c179e\"], [0.4444444444444444, \"#bd3786\"], [0.5555555555555556, \"#d8576b\"], [0.6666666666666666, \"#ed7953\"], [0.7777777777777778, \"#fb9f3a\"], [0.8888888888888888, \"#fdca26\"], [1.0, \"#f0f921\"]], \"type\": \"surface\"}], \"table\": [{\"cells\": {\"fill\": {\"color\": \"#EBF0F8\"}, \"line\": {\"color\": \"white\"}}, \"header\": {\"fill\": {\"color\": \"#C8D4E3\"}, \"line\": {\"color\": \"white\"}}, \"type\": \"table\"}]}, \"layout\": {\"annotationdefaults\": {\"arrowcolor\": \"#2a3f5f\", \"arrowhead\": 0, \"arrowwidth\": 1}, \"coloraxis\": {\"colorbar\": {\"outlinewidth\": 0, \"ticks\": \"\"}}, \"colorscale\": {\"diverging\": [[0, \"#8e0152\"], [0.1, \"#c51b7d\"], [0.2, \"#de77ae\"], [0.3, \"#f1b6da\"], [0.4, \"#fde0ef\"], [0.5, \"#f7f7f7\"], [0.6, \"#e6f5d0\"], [0.7, \"#b8e186\"], [0.8, \"#7fbc41\"], [0.9, \"#4d9221\"], [1, \"#276419\"]], \"sequential\": [[0.0, \"#0d0887\"], [0.1111111111111111, \"#46039f\"], [0.2222222222222222, \"#7201a8\"], [0.3333333333333333, \"#9c179e\"], [0.4444444444444444, \"#bd3786\"], [0.5555555555555556, \"#d8576b\"], [0.6666666666666666, \"#ed7953\"], [0.7777777777777778, \"#fb9f3a\"], [0.8888888888888888, \"#fdca26\"], [1.0, \"#f0f921\"]], \"sequentialminus\": [[0.0, \"#0d0887\"], [0.1111111111111111, \"#46039f\"], [0.2222222222222222, \"#7201a8\"], [0.3333333333333333, \"#9c179e\"], [0.4444444444444444, \"#bd3786\"], [0.5555555555555556, \"#d8576b\"], [0.6666666666666666, \"#ed7953\"], [0.7777777777777778, \"#fb9f3a\"], [0.8888888888888888, \"#fdca26\"], [1.0, \"#f0f921\"]]}, \"colorway\": [\"#636efa\", \"#EF553B\", \"#00cc96\", \"#ab63fa\", \"#FFA15A\", \"#19d3f3\", \"#FF6692\", \"#B6E880\", \"#FF97FF\", \"#FECB52\"], \"font\": {\"color\": \"#2a3f5f\"}, \"geo\": {\"bgcolor\": \"white\", \"lakecolor\": \"white\", \"landcolor\": \"#E5ECF6\", \"showlakes\": true, \"showland\": true, \"subunitcolor\": \"white\"}, \"hoverlabel\": {\"align\": \"left\"}, \"hovermode\": \"closest\", \"mapbox\": {\"style\": \"light\"}, \"paper_bgcolor\": \"white\", \"plot_bgcolor\": \"#E5ECF6\", \"polar\": {\"angularaxis\": {\"gridcolor\": \"white\", \"linecolor\": \"white\", \"ticks\": \"\"}, \"bgcolor\": \"#E5ECF6\", \"radialaxis\": {\"gridcolor\": \"white\", \"linecolor\": \"white\", \"ticks\": \"\"}}, \"scene\": {\"xaxis\": {\"backgroundcolor\": \"#E5ECF6\", \"gridcolor\": \"white\", \"gridwidth\": 2, \"linecolor\": \"white\", \"showbackground\": true, \"ticks\": \"\", \"zerolinecolor\": \"white\"}, \"yaxis\": {\"backgroundcolor\": \"#E5ECF6\", \"gridcolor\": \"white\", \"gridwidth\": 2, \"linecolor\": \"white\", \"showbackground\": true, \"ticks\": \"\", \"zerolinecolor\": \"white\"}, \"zaxis\": {\"backgroundcolor\": \"#E5ECF6\", \"gridcolor\": \"white\", \"gridwidth\": 2, \"linecolor\": \"white\", \"showbackground\": true, \"ticks\": \"\", \"zerolinecolor\": \"white\"}}, \"shapedefaults\": {\"line\": {\"color\": \"#2a3f5f\"}}, \"ternary\": {\"aaxis\": {\"gridcolor\": \"white\", \"linecolor\": \"white\", \"ticks\": \"\"}, \"baxis\": {\"gridcolor\": \"white\", \"linecolor\": \"white\", \"ticks\": \"\"}, \"bgcolor\": \"#E5ECF6\", \"caxis\": {\"gridcolor\": \"white\", \"linecolor\": \"white\", \"ticks\": \"\"}}, \"title\": {\"x\": 0.05}, \"xaxis\": {\"automargin\": true, \"gridcolor\": \"white\", \"linecolor\": \"white\", \"ticks\": \"\", \"title\": {\"standoff\": 15}, \"zerolinecolor\": \"white\", \"zerolinewidth\": 2}, \"yaxis\": {\"automargin\": true, \"gridcolor\": \"white\", \"linecolor\": \"white\", \"ticks\": \"\", \"title\": {\"standoff\": 15}, \"zerolinecolor\": \"white\", \"zerolinewidth\": 2}}}, \"title\": {\"font\": {\"color\": \"#4D5663\"}, \"text\": \"A\\u00f1o de integracion....\"}, \"xaxis\": {\"gridcolor\": \"#E1E5ED\", \"showgrid\": true, \"tickfont\": {\"color\": \"#4D5663\"}, \"title\": {\"font\": {\"color\": \"#4D5663\"}, \"text\": \"A\\u00f1o\"}, \"zerolinecolor\": \"#E1E5ED\"}, \"yaxis\": {\"gridcolor\": \"#E1E5ED\", \"showgrid\": true, \"tickfont\": {\"color\": \"#4D5663\"}, \"title\": {\"font\": {\"color\": \"#4D5663\"}, \"text\": \"N. Empresas\"}, \"zerolinecolor\": \"#E1E5ED\"}},\n",
       "                        {\"showLink\": true, \"linkText\": \"Export to plot.ly\", \"plotlyServerURL\": \"https://plot.ly\", \"responsive\": true}\n",
       "                    ).then(function(){\n",
       "                            \n",
       "var gd = document.getElementById('a35737a3-226d-4c6c-808b-782a57f85997');\n",
       "var x = new MutationObserver(function (mutations, observer) {{\n",
       "        var display = window.getComputedStyle(gd).display;\n",
       "        if (!display || display === 'none') {{\n",
       "            console.log([gd, 'removed!']);\n",
       "            Plotly.purge(gd);\n",
       "            observer.disconnect();\n",
       "        }}\n",
       "}});\n",
       "\n",
       "// Listen for the removal of the full notebook cells\n",
       "var notebookContainer = gd.closest('#notebook-container');\n",
       "if (notebookContainer) {{\n",
       "    x.observe(notebookContainer, {childList: true});\n",
       "}}\n",
       "\n",
       "// Listen for the clearing of the current output cell\n",
       "var outputEl = gd.closest('.output');\n",
       "if (outputEl) {{\n",
       "    x.observe(outputEl, {childList: true});\n",
       "}}\n",
       "\n",
       "                        })\n",
       "                };\n",
       "                });\n",
       "            </script>\n",
       "        </div>"
      ]
     },
     "metadata": {},
     "output_type": "display_data"
    },
    {
     "data": {
      "image/png": "[encoded data removed]",
      "text/plain": [
       "<Figure size 432x288 with 1 Axes>"
      ]
     },
     "metadata": {
      "needs_background": "light"
     },
     "output_type": "display_data"
    },
    {
     "data": {
      "image/png": "[encoded data removed]",
      "text/plain": [
       "<Figure size 432x288 with 1 Axes>"
      ]
     },
     "metadata": {
      "needs_background": "light"
     },
     "output_type": "display_data"
    }
   ],
   "source": [
    "gm.iplot(x='index', y='Mes',kind='bar', xTitle='Mes',yTitle='N. Empresas', title='Mes de integración')\n",
    "gk.iplot(x='index', y='Año',kind='bar', xTitle='Año',yTitle='N. Empresas', title='Año de integracion....')\n",
    "ax = sns.barplot(x = 'index', y = 'Mes', data = gm, color = 'b')\n",
    "ax.set(xlabel='Mes de integración', ylabel='Numero de empresas')\n",
    "ax.figure.savefig('../images/Mes {}.png'.format(giro))\n",
    "plt.show()\n",
    "a2 = sns.barplot(x = 'index', y = 'Año', data = gk, color = 'g')\n",
    "a2.set(xlabel='Año de integración', ylabel='Numero de empresas')\n",
    "a2.figure.savefig('../images/Año {}.png'.format(giro))\n",
    "plt.show()\n",
    "\n"
   ]
  },
  {
   "cell_type": "code",
   "execution_count": 89,
   "metadata": {},
   "outputs": [
    {
     "data": {
      "text/html": [
       "<div>\n",
       "<style scoped>\n",
       "    .dataframe tbody tr th:only-of-type {\n",
       "        vertical-align: middle;\n",
       "    }\n",
       "\n",
       "    .dataframe tbody tr th {\n",
       "        vertical-align: top;\n",
       "    }\n",
       "\n",
       "    .dataframe thead th {\n",
       "        text-align: right;\n",
       "    }\n",
       "</style>\n",
       "<table border=\"1\" class=\"dataframe\">\n",
       "  <thead>\n",
       "    <tr style=\"text-align: right;\">\n",
       "      <th></th>\n",
       "      <th>index</th>\n",
       "      <th>Año</th>\n",
       "    </tr>\n",
       "  </thead>\n",
       "  <tbody>\n",
       "    <tr>\n",
       "      <th>2</th>\n",
       "      <td>2014</td>\n",
       "      <td>2</td>\n",
       "    </tr>\n",
       "    <tr>\n",
       "      <th>4</th>\n",
       "      <td>2016</td>\n",
       "      <td>1</td>\n",
       "    </tr>\n",
       "  </tbody>\n",
       "</table>\n",
       "</div>"
      ],
      "text/plain": [
       "   index  Año\n",
       "2   2014    2\n",
       "4   2016    1"
      ]
     },
     "execution_count": 89,
     "metadata": {},
     "output_type": "execute_result"
    }
   ],
   "source": [
    "mask=(gk[\"index\"] > 2011) & (gk[\"index\"] < 2019)\n",
    "gk.loc[mask]\n"
   ]
  },
  {
   "cell_type": "code",
   "execution_count": 90,
   "metadata": {},
   "outputs": [],
   "source": [
    "#Indice nacional de precios al consumidor"
   ]
  },
  {
   "cell_type": "code",
   "execution_count": 91,
   "metadata": {},
   "outputs": [
    {
     "data": {
      "text/html": [
       "<div>\n",
       "<style scoped>\n",
       "    .dataframe tbody tr th:only-of-type {\n",
       "        vertical-align: middle;\n",
       "    }\n",
       "\n",
       "    .dataframe tbody tr th {\n",
       "        vertical-align: top;\n",
       "    }\n",
       "\n",
       "    .dataframe thead th {\n",
       "        text-align: right;\n",
       "    }\n",
       "</style>\n",
       "<table border=\"1\" class=\"dataframe\">\n",
       "  <thead>\n",
       "    <tr style=\"text-align: right;\">\n",
       "      <th></th>\n",
       "      <th>Unnamed: 0</th>\n",
       "      <th>AGEB</th>\n",
       "      <th>MZA</th>\n",
       "      <th>POBTOT</th>\n",
       "      <th>POBMAS</th>\n",
       "      <th>POBFEM</th>\n",
       "      <th>PEA</th>\n",
       "      <th>PEA_M</th>\n",
       "      <th>PEA_F</th>\n",
       "      <th>PE_INAC</th>\n",
       "      <th>PE_INAC_M</th>\n",
       "      <th>PE_INAC_F</th>\n",
       "      <th>clave</th>\n",
       "    </tr>\n",
       "  </thead>\n",
       "  <tbody>\n",
       "    <tr>\n",
       "      <th>0</th>\n",
       "      <td>0</td>\n",
       "      <td>0000</td>\n",
       "      <td>0</td>\n",
       "      <td>8851080</td>\n",
       "      <td>4233783</td>\n",
       "      <td>4617297</td>\n",
       "      <td>4035075</td>\n",
       "      <td>2389679</td>\n",
       "      <td>1645396</td>\n",
       "      <td>3017165</td>\n",
       "      <td>920594</td>\n",
       "      <td>2096571</td>\n",
       "      <td>0000-0</td>\n",
       "    </tr>\n",
       "    <tr>\n",
       "      <th>1</th>\n",
       "      <td>1</td>\n",
       "      <td>0000</td>\n",
       "      <td>0</td>\n",
       "      <td>414711</td>\n",
       "      <td>196053</td>\n",
       "      <td>218658</td>\n",
       "      <td>187402</td>\n",
       "      <td>108940</td>\n",
       "      <td>78462</td>\n",
       "      <td>151520</td>\n",
       "      <td>48844</td>\n",
       "      <td>102676</td>\n",
       "      <td>0000-0</td>\n",
       "    </tr>\n",
       "    <tr>\n",
       "      <th>2</th>\n",
       "      <td>2</td>\n",
       "      <td>0000</td>\n",
       "      <td>0</td>\n",
       "      <td>414711</td>\n",
       "      <td>196053</td>\n",
       "      <td>218658</td>\n",
       "      <td>187402</td>\n",
       "      <td>108940</td>\n",
       "      <td>78462</td>\n",
       "      <td>151520</td>\n",
       "      <td>48844</td>\n",
       "      <td>102676</td>\n",
       "      <td>0000-0</td>\n",
       "    </tr>\n",
       "    <tr>\n",
       "      <th>3</th>\n",
       "      <td>3</td>\n",
       "      <td>0010</td>\n",
       "      <td>0</td>\n",
       "      <td>3424</td>\n",
       "      <td>1600</td>\n",
       "      <td>1824</td>\n",
       "      <td>1398</td>\n",
       "      <td>789</td>\n",
       "      <td>609</td>\n",
       "      <td>1511</td>\n",
       "      <td>552</td>\n",
       "      <td>959</td>\n",
       "      <td>0010-0</td>\n",
       "    </tr>\n",
       "    <tr>\n",
       "      <th>4</th>\n",
       "      <td>4</td>\n",
       "      <td>0010</td>\n",
       "      <td>1</td>\n",
       "      <td>202</td>\n",
       "      <td>96</td>\n",
       "      <td>106</td>\n",
       "      <td>75</td>\n",
       "      <td>47</td>\n",
       "      <td>28</td>\n",
       "      <td>97</td>\n",
       "      <td>37</td>\n",
       "      <td>60</td>\n",
       "      <td>0010-1</td>\n",
       "    </tr>\n",
       "  </tbody>\n",
       "</table>\n",
       "</div>"
      ],
      "text/plain": [
       "   Unnamed: 0  AGEB  MZA   POBTOT   POBMAS   POBFEM      PEA    PEA_M  \\\n",
       "0           0  0000    0  8851080  4233783  4617297  4035075  2389679   \n",
       "1           1  0000    0   414711   196053   218658   187402   108940   \n",
       "2           2  0000    0   414711   196053   218658   187402   108940   \n",
       "3           3  0010    0     3424     1600     1824     1398      789   \n",
       "4           4  0010    1      202       96      106       75       47   \n",
       "\n",
       "     PEA_F  PE_INAC PE_INAC_M PE_INAC_F   clave  \n",
       "0  1645396  3017165    920594   2096571  0000-0  \n",
       "1    78462   151520     48844    102676  0000-0  \n",
       "2    78462   151520     48844    102676  0000-0  \n",
       "3      609     1511       552       959  0010-0  \n",
       "4       28       97        37        60  0010-1  "
      ]
     },
     "execution_count": 91,
     "metadata": {},
     "output_type": "execute_result"
    }
   ],
   "source": [
    "poblaT = pd.read_csv('../pobclave.csv')\n",
    "poblaT.head()"
   ]
  },
  {
   "cell_type": "code",
   "execution_count": 92,
   "metadata": {},
   "outputs": [
    {
     "data": {
      "text/html": [
       "<div>\n",
       "<style scoped>\n",
       "    .dataframe tbody tr th:only-of-type {\n",
       "        vertical-align: middle;\n",
       "    }\n",
       "\n",
       "    .dataframe tbody tr th {\n",
       "        vertical-align: top;\n",
       "    }\n",
       "\n",
       "    .dataframe thead th {\n",
       "        text-align: right;\n",
       "    }\n",
       "</style>\n",
       "<table border=\"1\" class=\"dataframe\">\n",
       "  <thead>\n",
       "    <tr style=\"text-align: right;\">\n",
       "      <th></th>\n",
       "      <th>Unnamed: 0</th>\n",
       "      <th>Proba de sobrevivir</th>\n",
       "      <th>Unnamed: 3</th>\n",
       "      <th>Espe. Vida</th>\n",
       "      <th>Age</th>\n",
       "    </tr>\n",
       "  </thead>\n",
       "  <tbody>\n",
       "    <tr>\n",
       "      <th>0</th>\n",
       "      <td>2</td>\n",
       "      <td>0.672031</td>\n",
       "      <td>0.327969</td>\n",
       "      <td>7.435258</td>\n",
       "      <td>0</td>\n",
       "    </tr>\n",
       "    <tr>\n",
       "      <th>1</th>\n",
       "      <td>3</td>\n",
       "      <td>0.491375</td>\n",
       "      <td>0.508625</td>\n",
       "      <td>7.790058</td>\n",
       "      <td>1</td>\n",
       "    </tr>\n",
       "    <tr>\n",
       "      <th>2</th>\n",
       "      <td>4</td>\n",
       "      <td>0.429555</td>\n",
       "      <td>0.570445</td>\n",
       "      <td>8.163900</td>\n",
       "      <td>2</td>\n",
       "    </tr>\n",
       "    <tr>\n",
       "      <th>3</th>\n",
       "      <td>5</td>\n",
       "      <td>0.385694</td>\n",
       "      <td>0.614306</td>\n",
       "      <td>8.557950</td>\n",
       "      <td>3</td>\n",
       "    </tr>\n",
       "    <tr>\n",
       "      <th>4</th>\n",
       "      <td>6</td>\n",
       "      <td>0.351672</td>\n",
       "      <td>0.648328</td>\n",
       "      <td>8.972207</td>\n",
       "      <td>4</td>\n",
       "    </tr>\n",
       "    <tr>\n",
       "      <th>5</th>\n",
       "      <td>7</td>\n",
       "      <td>0.323874</td>\n",
       "      <td>0.676126</td>\n",
       "      <td>9.396568</td>\n",
       "      <td>5</td>\n",
       "    </tr>\n",
       "  </tbody>\n",
       "</table>\n",
       "</div>"
      ],
      "text/plain": [
       "   Unnamed: 0  Proba de sobrevivir  Unnamed: 3  Espe. Vida  Age\n",
       "0           2             0.672031    0.327969    7.435258    0\n",
       "1           3             0.491375    0.508625    7.790058    1\n",
       "2           4             0.429555    0.570445    8.163900    2\n",
       "3           5             0.385694    0.614306    8.557950    3\n",
       "4           6             0.351672    0.648328    8.972207    4\n",
       "5           7             0.323874    0.676126    9.396568    5"
      ]
     },
     "execution_count": 92,
     "metadata": {},
     "output_type": "execute_result"
    }
   ],
   "source": [
    "\n",
    "Evida = pd.read_csv('../Evida.csv')\n",
    "Evida"
   ]
  },
  {
   "cell_type": "code",
   "execution_count": 93,
   "metadata": {
    "scrolled": true
   },
   "outputs": [
    {
     "name": "stdout",
     "output_type": "stream",
     "text": [
      "14\n",
      "1841\n",
      "916\n",
      "919\n",
      "1067\n",
      "630\n",
      "435\n"
     ]
    }
   ],
   "source": [
    "p=d.clave\n",
    "len(p)\n",
    "dx=poblaT[poblaT[\"clave\"].isin(p)]\n",
    "print(len(dx))\n",
    "\n",
    "dx[\"POBMAS\"]=dx.POBMAS.str.replace('*' , '0').astype(int)\n",
    "dx[\"POBFEM\"]=dx.POBFEM.str.replace('*' , '0').astype(int)\n",
    "dx[\"PEA\"]=dx.PEA.str.replace('*' , '0').astype(int)\n",
    "dx[\"PEA_M\"]=dx.PEA_M.str.replace('*' , '0').astype(int)\n",
    "dx[\"PEA_F\"]=dx.PEA_F.str.replace('*' , '0').astype(int)\n",
    "print(dx.POBTOT.sum())\n",
    "print(dx.POBMAS.sum())\n",
    "print(dx.POBFEM.sum())\n",
    "print(dx.PEA.sum())\n",
    "print(dx.PEA_M.sum())\n",
    "print(dx.PEA_F.sum())"
   ]
  },
  {
   "cell_type": "code",
   "execution_count": 100,
   "metadata": {
    "scrolled": true
   },
   "outputs": [
    {
     "data": {
      "text/plain": [
       "''"
      ]
     },
     "execution_count": 100,
     "metadata": {},
     "output_type": "execute_result"
    }
   ],
   "source": [
    "from fpdf import FPDF\n",
    " \n",
    "pdf = FPDF()\n",
    "pdf.add_page()\n",
    "pdf.set_font(\"Arial\", size=12)\n",
    "pdf.cell(200, 10, txt=\"Analisis de Supervivencia de Pymes en CDMX\", ln=4, align=\"C\")\n",
    "pdf.cell(90, 10, \" \", 0, 2, 'C')   \n",
    "pdf.multi_cell(0,8,\"La palabra de búsqueda es: '{}', con longitud {} y latitud {}\\nEsta búsqueda extrae toda la competencia tanto indirecta como directa en \\\n",
    "un rango de {} mts.\\nEn total son {} empresas, con {} clases de actividades diferentes, de las cuales destacan \".format(giro,long,lat,mts,len(data),len(data.Clase_actividad.unique())) ,0,10)\n",
    "pdf.set_font(\"Arial\", size=10)\n",
    "pdf.cell(200, 10, txt=\"Da click en botón rojo para ver mapa inteactivo\", ln=4, align=\"C\")\n",
    "pdf.image('../images/red.png'.format(giro), x=55,y=55, w=15, h=9, link = \"../mapas/mapa {}.html\".format(giro))\n",
    "pdf.cell(90, 3, \" \", 0, 2, 'C')\n",
    "pdf.set_font(\"Arial\", size=12)\n",
    "if len(sss) >= 5:\n",
    "    pdf.multi_cell(0,10,\"1. {} : {} \\n2. {} : {} \\n3. {} : {} \\n4. {} : {} \\n5. {} : {}\".format(sss.index[0],sss[0],sss.index[1],sss[1],sss.index[2],sss[2],sss.index[3],sss[3],sss.index[4],sss[4]) ,1,10)\n",
    "else:\n",
    "    pdf.multi_cell(0,10,\"1. {} : {} \\n2. {} : {}\".format(sss.index[0],sss[0],sss.index[1],sss[1]) ,1,10)\n",
    "pdf.cell(90, 5, \" \", 0, 2, 'C')\n",
    "def simple_table3(spacing=2,align=\"C\"):\n",
    "    data = [['Tamaño de Empresa', 'Número de empresas'],\n",
    "            ['{}'.format(www.index[0]), '{}'.format(www[0])],\n",
    "            ['{}'.format(www.index[1]), '{}'.format(www[1])],\n",
    "            ['{}'.format(www.index[2]), '{}'.format(www[2])],\n",
    "            ['{}'.format(www.index[3]), '{}'.format(www[3])],\n",
    "            ['{}'.format(www.index[4]), '{}'.format(www[4])]\n",
    "            ]\n",
    "    col_width = pdf.w / 2.2\n",
    "    row_height = pdf.font_size\n",
    "    for row in data:\n",
    "            for item in row:\n",
    "                pdf.cell(col_width, row_height*spacing,txt=item, border=1)\n",
    "            pdf.ln(row_height*spacing)\n",
    "def simple_table3_5(spacing=2,align=\"C\"):\n",
    "    data = [['Tamaño de Empresa', 'Número de empresas'],\n",
    "            ['{}'.format(www.index[0]), '{}'.format(www[0])],\n",
    "            ['{}'.format(www.index[1]), '{}'.format(www[1])]\n",
    "            ]\n",
    "    col_width = pdf.w / 2.2\n",
    "    row_height = pdf.font_size\n",
    "    for row in data:\n",
    "            for item in row:\n",
    "                pdf.cell(col_width, row_height*spacing,txt=item, border=1)\n",
    "            pdf.ln(row_height*spacing)\n",
    "if len(www) >4:\n",
    "    simple_table3()\n",
    "else:\n",
    "    simple_table3_5()\n",
    "pdf.cell(90, 5, \" \", 0, 2, 'C')\n",
    "def simple_table4(spacing=2,align=\"C\"):\n",
    "    data = [['Nombre Establecimiento', 'Sitio Web'],\n",
    "            ['{}'.format(nombre[0]), '{}'.format(sitio[0])],\n",
    "            ['{}'.format(nombre[1]), '{}'.format(sitio[1])],\n",
    "            ['{}'.format(nombre[2]), '{}'.format(sitio[2])],\n",
    "            ['{}'.format(nombre[3]), '{}'.format(sitio[3])],\n",
    "            ['{}'.format(nombre[4]), '{}'.format(sitio[4])]\n",
    "            ]\n",
    "    col_width = pdf.w / 2.2\n",
    "    row_height = pdf.font_size\n",
    "    for row in data:\n",
    "            for item in row:\n",
    "                pdf.cell(col_width, row_height*spacing,txt=item, border=1)\n",
    "            pdf.ln(row_height*spacing)\n",
    "simple_table4()\n",
    "    \n",
    "pdf.cell(90, 5, \" \", 0, 2, 'C')\n",
    "pdf.multi_cell(0,6,\"TABLAS DE INCORPORACIóN A DENUE *INEGI*\\n *Por el momento solo contamos con info de Denue, el cual no muestra la fecha de fundación de las empresas esta se utilizaria para ver la demanda del \\\n",
    "servicio/producto asi como hacer modelos que predigan la creación de nuevas empresas en el sector\",0,3)\n",
    "pdf.image('../images/Año {}.png'.format(giro),w=120, h=70)\n",
    "pdf.image('../images/Mes {}.png'.format(giro),w=120, h=70)\n",
    "\n",
    "pdf.set_font(\"Arial\", size=12)\n",
    "pdf.cell(94, 10, \" \", 0, 2, 'C')   \n",
    "def simple_table2(spacing=1.5):\n",
    "    data = [['Años', 'Prob. de Sobrevivir','Esperanza de Vida'],\n",
    "            ['0', '0.672031','7.435258'],\n",
    "            ['1', '0.491375','7.790058'],\n",
    "            ['2', '0.429555','8.163900'],\n",
    "            ['3', '0.385694','8.557950'],\n",
    "            ['4', '0.351672','8.972207']\n",
    "            ]\n",
    "    col_width = pdf.w / 3.4\n",
    "    row_height = pdf.font_size\n",
    "    for row in data:\n",
    "            for item in row:\n",
    "                pdf.cell(col_width, row_height*spacing,txt=item, border=1)\n",
    "            pdf.ln(row_height*spacing)\n",
    "simple_table2()\n",
    "pdf.cell(200, 15, txt=\"Población 'Atendida'\", ln=4)\n",
    "def simple_table(spacing=2,align=\"C\"):\n",
    "    data = [['Población Total', '{}'.format(dx.POBTOT.sum())],\n",
    "            ['Población Masculina', '{}'.format(dx.POBMAS.sum())],\n",
    "            ['Población Femenina', '{}'.format(dx.POBFEM.sum())],\n",
    "            ['Población Economicamente Activa', '{}'.format(dx.PEA.sum())],\n",
    "            ['Población M. Economicamente Activa', '{}'.format(dx.PEA_M.sum())],\n",
    "            ['Población M. Economicamente Activa', '{}'.format(dx.PEA_F.sum())]\n",
    "            ]\n",
    "    col_width = pdf.w / 2.2\n",
    "    row_height = pdf.font_size\n",
    "    for row in data:\n",
    "            for item in row:\n",
    "                pdf.cell(col_width, row_height*spacing,txt=item, border=1)\n",
    "            pdf.ln(row_height*spacing)\n",
    "simple_table()\n",
    "\n",
    "\n",
    "pdf.output(\"simple_demo.pdf\",'F')"
   ]
  }
 ],
 "metadata": {
  "kernelspec": {
   "display_name": "Python 3",
   "language": "python",
   "name": "python3"
  },
  "language_info": {
   "codemirror_mode": {
    "name": "ipython",
    "version": 3
   },
   "file_extension": ".py",
   "mimetype": "text/x-python",
   "name": "python",
   "nbconvert_exporter": "python",
   "pygments_lexer": "ipython3",
   "version": "3.7.3"
  }
 },
 "nbformat": 4,
 "nbformat_minor": 2
}
