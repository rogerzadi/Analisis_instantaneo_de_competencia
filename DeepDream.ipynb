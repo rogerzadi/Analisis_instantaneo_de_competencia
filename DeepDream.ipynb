{
 "cells": [
  {
   "cell_type": "code",
   "execution_count": null,
   "metadata": {},
   "outputs": [],
   "source": []
  },
  {
   "cell_type": "code",
   "execution_count": null,
   "metadata": {},
   "outputs": [],
   "source": []
  },
  {
   "cell_type": "code",
   "execution_count": null,
   "metadata": {},
   "outputs": [],
   "source": [
    "\n"
   ]
  },
  {
   "cell_type": "code",
   "execution_count": null,
   "metadata": {},
   "outputs": [],
   "source": [
    "loss"
   ]
  },
  {
   "cell_type": "code",
   "execution_count": null,
   "metadata": {},
   "outputs": [],
   "source": []
  },
  {
   "cell_type": "code",
   "execution_count": 4,
   "metadata": {
    "scrolled": true
   },
   "outputs": [
    {
     "name": "stdout",
     "output_type": "stream",
     "text": [
      "Processing image shape (153, 153)\n",
      "...Loss values at 0 : 0.49244735\n",
      "...Loss values at 1 : 0.6594336\n",
      "...Loss values at 2 : 0.90809184\n",
      "...Loss values at 3 : 1.1650867\n",
      "...Loss values at 4 : 1.3647465\n",
      "...Loss values at 5 : 1.5232582\n",
      "...Loss values at 6 : 1.7008245\n",
      "...Loss values at 7 : 1.8776016\n",
      "...Loss values at 8 : 2.0577273\n",
      "...Loss values at 9 : 2.269582\n",
      "...Loss values at 10 : 2.391016\n",
      "...Loss values at 11 : 2.5445552\n",
      "...Loss values at 12 : 2.6836834\n",
      "...Loss values at 13 : 2.8376713\n",
      "...Loss values at 14 : 3.0453196\n",
      "...Loss values at 15 : 3.1784506\n",
      "...Loss values at 16 : 3.3831663\n",
      "...Loss values at 17 : 3.620345\n",
      "...Loss values at 18 : 3.8187227\n",
      "...Loss values at 19 : 3.9317548\n"
     ]
    },
    {
     "name": "stderr",
     "output_type": "stream",
     "text": [
      "C:\\ProgramData\\Anaconda3\\lib\\site-packages\\ipykernel_launcher.py:48: DeprecationWarning: `imsave` is deprecated!\n",
      "`imsave` is deprecated in SciPy 1.0.0, and will be removed in 1.2.0.\n",
      "Use ``imageio.imwrite`` instead.\n"
     ]
    },
    {
     "name": "stdout",
     "output_type": "stream",
     "text": [
      "Processing image shape (214, 214)\n",
      "...Loss values at 0 : 1.1884912\n",
      "...Loss values at 1 : 1.8369424\n",
      "...Loss values at 2 : 2.3583403\n",
      "...Loss values at 3 : 2.8446014\n",
      "...Loss values at 4 : 3.237917\n",
      "...Loss values at 5 : 3.5768852\n",
      "...Loss values at 6 : 3.9069967\n",
      "...Loss values at 7 : 4.1850295\n",
      "...Loss values at 8 : 4.508936\n",
      "...Loss values at 9 : 4.7608314\n",
      "...Loss values at 10 : 5.084732\n",
      "...Loss values at 11 : 5.299462\n",
      "...Loss values at 12 : 5.5436354\n",
      "...Loss values at 13 : 5.7561884\n",
      "...Loss values at 14 : 6.037732\n",
      "...Loss values at 15 : 6.3290105\n",
      "...Loss values at 16 : 6.554292\n",
      "...Loss values at 17 : 6.795218\n",
      "...Loss values at 18 : 7.0172453\n",
      "...Loss values at 19 : 7.2561064\n",
      "Processing image shape (300, 300)\n",
      "...Loss values at 0 : 1.4981992\n",
      "...Loss values at 1 : 2.2032983\n",
      "...Loss values at 2 : 2.8403816\n",
      "...Loss values at 3 : 3.3540728\n",
      "...Loss values at 4 : 3.8288012\n",
      "...Loss values at 5 : 4.2640834\n",
      "...Loss values at 6 : 4.6880603\n",
      "...Loss values at 7 : 5.1324663\n",
      "...Loss values at 8 : 5.634111\n",
      "...Loss values at 9 : 6.242324\n",
      "...Loss values at 10 : 7.0016537\n",
      "...Loss values at 11 : 8.483338\n"
     ]
    }
   ],
   "source": [
    "from keras.applications import inception_v3\n",
    "from keras import backend as K\n",
    "import scipy\n",
    "import numpy as np\n",
    "from keras.preprocessing import image\n",
    "\n",
    "K.set_learning_phase(0)\n",
    "model=inception_v3.InceptionV3(weights=\"imagenet\",include_top=False)\n",
    "\n",
    "layer_contributions={\"mixed2\":0.2,\"mixed3\":1.,\"mixed4\":2.,\"mixed5\":1.0,}\n",
    "layer_dict = dict([(layer.name,layer) for layer in model.layers])\n",
    "loss=K.variable(0.)\n",
    "\n",
    "for layer_name in layer_contributions:\n",
    "    coeff=layer_contributions[layer_name]\n",
    "    activation=layer_dict[layer_name].output\n",
    "    scaling=K.prod(K.cast(K.shape(activation),\"float32\"))\n",
    "    loss=loss+coeff * K.sum(K.square(activation[:, 2: -2, 2: -2,:]))/scaling\n",
    "\n",
    "dream = model.input\n",
    "grads=K.gradients(loss,dream)[0]\n",
    "grads /= K.maximum(K.mean(K.abs(grads)),1e-7)\n",
    "outputs=[loss,grads]\n",
    "fetch_loss_and_grads=K.function([dream],outputs)\n",
    "\n",
    "def eval_loss_and_grads(x):\n",
    "    outs=fetch_loss_and_grads([x])\n",
    "    loss_values=outs[0]\n",
    "    grad_values=outs[1]\n",
    "    return loss_values, grad_values\n",
    "\n",
    "def gradient_ascent(x,iterations,step,max_loss=None):\n",
    "    for i in range(iterations):\n",
    "        loss_values,grad_values = eval_loss_and_grads(x)\n",
    "        if max_loss is not None and loss_values > max_loss:\n",
    "            break\n",
    "        print(\"...Loss values at\",i,\":\",loss_values)\n",
    "        x+=step*grad_values\n",
    "    return x\n",
    "\n",
    "def resize_img(img,size):\n",
    "    img=np.copy(img)\n",
    "    factors=(1,float(size[0])/img.shape[1],float(size[1])/img.shape[2],1)\n",
    "    return scipy.ndimage.zoom(img,factors,order=1)\n",
    "\n",
    "def save_img(img,fname):\n",
    "    pil_img=deprocess_image(np.copy(img))\n",
    "    scipy.misc.imsave(fname,pil_img)\n",
    "    \n",
    "def preprocess_image(image_path):\n",
    "    img=image.load_img(image_path)\n",
    "    img=image.img_to_array(img)\n",
    "    img=np.expand_dims(img,axis=0)\n",
    "    img=inception_v3.preprocess_input(img)\n",
    "    return img\n",
    "\n",
    "def deprocess_image(x):\n",
    "    if K.image_data_format() == 'channels_first':\n",
    "        x=x.reshape((3,x.shape[2],x.shape[3]))\n",
    "        x=transpose((1,2,0))\n",
    "    else:\n",
    "        x=x.reshape((x.shape[1], x.shape[2],3))\n",
    "    x/=2.\n",
    "    x+=0.5\n",
    "    x*255.\n",
    "    x=np.clip(x,0,255).astype(\"uint8\")\n",
    "    return x\n",
    "\n",
    "step = 0.01\n",
    "num_octave=3\n",
    "octave_scale=1.4\n",
    "iterations=20\n",
    "max_loss=10.\n",
    "base_image_path=\"images.jpg\"\n",
    "\n",
    "img=preprocess_image(base_image_path)\n",
    "original_shape=img.shape[1:3]\n",
    "successive_shapes=[original_shape]\n",
    "for i in range(1,num_octave):\n",
    "    shape=tuple([int(dim/(octave_scale**i))\n",
    "        for dim in original_shape])\n",
    "    successive_shapes.append(shape)\n",
    "successive_shapes=successive_shapes[::-1]\n",
    "original_img=np.copy(img)\n",
    "shrunk_original_img=resize_img(img,successive_shapes[0])\n",
    "for shape in successive_shapes:\n",
    "    print(\"Processing image shape\",shape)\n",
    "    img= resize_img(img,shape)\n",
    "    img=gradient_ascent(img,iterations=iterations,step=step,max_loss=max_loss)\n",
    "    upscaled_shrunk_original_img=resize_img(shrunk_original_img, shape)\n",
    "    same_size_original=resize_img(original_img, shape)\n",
    "    lost_detail= same_size_original - upscaled_shrunk_original_img\n",
    "    img+= lost_detail\n",
    "    shrunk_original_img=resize_img(original_img, shape)\n",
    "    save_img(img,fname=\"dream_at_scale\"+str(shape)+\".png\")\n",
    "save_img(img,fname=\"final_dream.png\")\n"
   ]
  },
  {
   "cell_type": "code",
   "execution_count": null,
   "metadata": {
    "scrolled": false
   },
   "outputs": [],
   "source": [
    "\n",
    "    "
   ]
  },
  {
   "cell_type": "code",
   "execution_count": null,
   "metadata": {},
   "outputs": [],
   "source": []
  },
  {
   "cell_type": "code",
   "execution_count": null,
   "metadata": {},
   "outputs": [],
   "source": []
  }
 ],
 "metadata": {
  "kernelspec": {
   "display_name": "Python 3",
   "language": "python",
   "name": "python3"
  },
  "language_info": {
   "codemirror_mode": {
    "name": "ipython",
    "version": 3
   },
   "file_extension": ".py",
   "mimetype": "text/x-python",
   "name": "python",
   "nbconvert_exporter": "python",
   "pygments_lexer": "ipython3",
   "version": "3.7.3"
  }
 },
 "nbformat": 4,
 "nbformat_minor": 2
}
